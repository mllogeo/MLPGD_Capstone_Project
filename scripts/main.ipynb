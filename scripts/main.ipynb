{
 "cells": [
  {
   "cell_type": "markdown",
   "metadata": {},
   "source": [
    "# Loading Packages"
   ]
  },
  {
   "cell_type": "code",
   "execution_count": 1,
   "metadata": {},
   "outputs": [],
   "source": [
    "import numpy as np\n",
    "import pandas as pd\n",
    "import matplotlib.pyplot as plt\n",
    "import seaborn as snb"
   ]
  },
  {
   "cell_type": "code",
   "execution_count": 2,
   "metadata": {},
   "outputs": [],
   "source": [
    "%%capture\n",
    "from tqdm import tqdm_notebook\n",
    "tqdm_notebook().pandas()"
   ]
  },
  {
   "cell_type": "markdown",
   "metadata": {},
   "source": [
    "* Pandas Options"
   ]
  },
  {
   "cell_type": "code",
   "execution_count": 3,
   "metadata": {},
   "outputs": [],
   "source": [
    "pd.set_option('max_columns', None)\n",
    "pd.set_option('display.max_rows', None)"
   ]
  },
  {
   "cell_type": "markdown",
   "metadata": {},
   "source": [
    "# Loading Files"
   ]
  },
  {
   "cell_type": "markdown",
   "metadata": {},
   "source": [
    "* Read Default Data"
   ]
  },
  {
   "cell_type": "code",
   "execution_count": 15,
   "metadata": {},
   "outputs": [],
   "source": [
    "path = 'D:\\\\Desktop\\\\MLPGD_Capstone_Project\\\\resources\\\\aaa_sample_data.xlsx'\n",
    "\n",
    "df_original = pd.read_excel(path)"
   ]
  },
  {
   "cell_type": "markdown",
   "metadata": {},
   "source": [
    "* Glance of the data"
   ]
  },
  {
   "cell_type": "code",
   "execution_count": 28,
   "metadata": {},
   "outputs": [
    {
     "output_type": "execute_result",
     "data": {
      "text/plain": "   Individual Key  Household Key Member Flag          City State - Grouped  \\\n0       100000030      104625900           Y     NEW HAVEN              CT   \n1       522115500       45007910           Y  WEST WARWICK              RI   \n2       522115500       45007910           Y  WEST WARWICK              RI   \n3       522115500       45007910           Y  WEST WARWICK              RI   \n4       522115500       45007910           Y  WEST WARWICK              RI   \n5       522115500       45007910           Y  WEST WARWICK              RI   \n\n    ZIP5       ZIP9 FSV CMSI Flag FSV Credit Card Flag  \\\n0  65110  651113490             N                    N   \n1  28930  289338500             N                    Y   \n2  28930  289338500             N                    Y   \n3  28930  289338500             N                    Y   \n4  28930  289338500             N                    Y   \n5  28930  289338500             N                    Y   \n\n  FSV Deposit Program Flag FSV Home Equity Flag FSV ID Theft Flag  \\\n0                        N                    N                 N   \n1                        N                    N                 N   \n2                        N                    N                 N   \n3                        N                    N                 N   \n4                        N                    N                 N   \n5                        N                    N                 N   \n\n  FSV Mortgage Flag INS Client Flag TRV Globalware Flag Number of Children  \\\n0                 N               N                   N                NaN   \n1                 N               N                   N          One Child   \n2                 N               N                   N          One Child   \n3                 N               N                   N          One Child   \n4                 N               N                   N          One Child   \n5                 N               N                   N          One Child   \n\n  Responded to Catalog                         Race  Length Of Residence  \\\n0                  NaN                          NaN                  NaN   \n1                  NaN  Caucasion / White - English                150.0   \n2                  NaN  Caucasion / White - English                150.0   \n3                  NaN  Caucasion / White - English                150.0   \n4                  NaN  Caucasion / White - English                150.0   \n5                  NaN  Caucasion / White - English                150.0   \n\n  Mail Responder  Home Owner     Income Date Of Birth Children     Education  \\\n0            NaN         NaN        NaN           NaT      NaN           NaN   \n1            Yes  Home Owner  30-39,999    1922-02-05      Yes  Some College   \n2            Yes  Home Owner  30-39,999    1922-02-05      Yes  Some College   \n3            Yes  Home Owner  30-39,999    1922-02-05      Yes  Some College   \n4            Yes  Home Owner  30-39,999    1922-02-05      Yes  Some College   \n5            Yes  Home Owner  30-39,999    1922-02-05      Yes  Some College   \n\n                              Dwelling Type Credit Ranges Language Gender  \\\n0  Small or large multi-family w/apt number           NaN      NaN   Male   \n1  Small or large multi-family w/apt number       600-649  English    NaN   \n2  Small or large multi-family w/apt number       600-649  English    NaN   \n3  Small or large multi-family w/apt number       600-649  English    NaN   \n4  Small or large multi-family w/apt number       600-649  English    NaN   \n5  Small or large multi-family w/apt number       600-649  English    NaN   \n\n  Active Expiration Date Address Change Date Bad Address Flag  \\\n0                    NaT                 NaT              NaN   \n1             2020-09-01 2005-01-28 12:41:09                F   \n2             2020-09-01 2005-01-28 12:41:09                F   \n3             2020-09-01 2005-01-28 12:41:09                F   \n4             2020-09-01 2005-01-28 12:41:09                F   \n5             2020-09-01 2005-01-28 12:41:09                F   \n\n  Billing Code Description Birth Date MMDDYYYY          Branch Name  \\\n0                      NaN                 NaT                  NaN   \n1               New Member          1922-02-05  RI - WARWICK BRANCH   \n2               New Member          1922-02-05  RI - WARWICK BRANCH   \n3               New Member          1922-02-05  RI - WARWICK BRANCH   \n4               New Member          1922-02-05  RI - WARWICK BRANCH   \n5               New Member          1922-02-05  RI - WARWICK BRANCH   \n\n  Cancel Date Cancel Reason County  Do Not Direct Mail Solicit  \\\n0         NaT           NaN    NaN                         NaN   \n1         NaT           NaN   KENT                         0.0   \n2         NaT           NaN   KENT                         0.0   \n3         NaT           NaN   KENT                         0.0   \n4         NaT           NaN   KENT                         0.0   \n5         NaT           NaN   KENT                         0.0   \n\n   Email Available Email Status  ERS ENT Count Year 1  ERS ENT Count Year 2  \\\n0              NaN          NaN                   NaN                   NaN   \n1              0.0          NaN                   0.0                   0.0   \n2              0.0          NaN                   0.0                   0.0   \n3              0.0          NaN                   0.0                   0.0   \n4              0.0          NaN                   0.0                   0.0   \n5              0.0          NaN                   0.0                   0.0   \n\n   ERS ENT Count Year 3  ERS Member Cost Year 1  ERS Member Cost Year 2  \\\n0                   NaN                     NaN                     NaN   \n1                  20.0                     0.0                     0.0   \n2                  20.0                     0.0                     0.0   \n3                  20.0                     0.0                     0.0   \n4                  20.0                     0.0                     0.0   \n5                  20.0                     0.0                     0.0   \n\n   ERS Member Cost Year 3 Right_Gender  Right_Individual Key Join AAA Date  \\\n0                     NaN          NaN                   NaN           NaT   \n1                   650.0          NaN           522115500.0    1970-09-01   \n2                   650.0          NaN           522115500.0    1970-09-01   \n3                   650.0          NaN           522115500.0    1970-09-01   \n4                   650.0          NaN           522115500.0    1970-09-01   \n5                   650.0          NaN           522115500.0    1970-09-01   \n\n  Join Club Date  Member Key Member Map Location  Member Number Associate ID  \\\n0            NaT         NaN                 NaN                         NaN   \n1     1970-09-01  15000140.0   {41.696,-71.5308}                    153000.0   \n2     1970-09-01  15000140.0   {41.696,-71.5308}                    153000.0   \n3     1970-09-01  15000140.0   {41.696,-71.5308}                    153000.0   \n4     1970-09-01  15000140.0   {41.696,-71.5308}                    153000.0   \n5     1970-09-01  15000140.0   {41.696,-71.5308}                    153000.0   \n\n  Member Phone Type Member Status  Member Tenure Years Member Type  \\\n0               NaN           NaN                  NaN         NaN   \n1              VoIP        ACTIVE                490.0     Primary   \n2              VoIP        ACTIVE                490.0     Primary   \n3              VoIP        ACTIVE                490.0     Primary   \n4              VoIP        ACTIVE                490.0     Primary   \n5              VoIP        ACTIVE                490.0     Primary   \n\n   Membership ID  Months from Join to Cancel Opt-Out - Publication  \\\n0            NaN                         NaN                   NaN   \n1         1530.0                         NaN                Opt-In   \n2         1530.0                         NaN                Opt-In   \n3         1530.0                         NaN                Opt-In   \n4         1530.0                         NaN                Opt-In   \n5         1530.0                         NaN                Opt-In   \n\n  Reason Joined Reinstate Date Renew Method      ZIP  Mosaic Household  \\\n0           NaN            NaT          NaN      NaN               NaN   \n1           NaN     2019-08-23   AUTO RENEW  28930.0  Senior Discounts   \n2           NaN     2019-08-23   AUTO RENEW  28930.0  Senior Discounts   \n3           NaN     2019-08-23   AUTO RENEW  28930.0  Senior Discounts   \n4           NaN     2019-08-23   AUTO RENEW  28930.0  Senior Discounts   \n5           NaN     2019-08-23   AUTO RENEW  28930.0  Senior Discounts   \n\n  Mosaic Global Household kcl_B_IND_MosaicsGrouping New Mover Flag  \\\n0                     NaN                       NaN            NaN   \n1       Low Income Elders     Golden Year Guardians              N   \n2       Low Income Elders     Golden Year Guardians              N   \n3       Low Income Elders     Golden Year Guardians              N   \n4       Low Income Elders     Golden Year Guardians              N   \n5       Low Income Elders     Golden Year Guardians              N   \n\n  Occupation Code Occupation Group Right_Dwelling Type Move Distance  \\\n0             NaN              NaN                 NaN           NaN   \n1             NaN              NaN                 NaN           NaN   \n2             NaN              NaN                 NaN           NaN   \n3             NaN              NaN                 NaN           NaN   \n4             NaN              NaN                 NaN           NaN   \n5             NaN              NaN                 NaN           NaN   \n\n  Occupant Type Breakdown Map Location Breakdown City Breakdown State  \\\n0           NaN                    NaN            NaN             NaN   \n1           NaN               {41,-71}   West Warwick              RI   \n2           NaN               {41,-71}   West Warwick              RI   \n3           NaN               {41,-71}   West Warwick              RI   \n4           NaN               {41,-71}        Warwick              RI   \n5           NaN               {41,-71}        Warwick              RI   \n\n   Basic Cost  Calculated Tow Miles Call Canceled Call Killed  \\\n0         NaN                   NaN           NaN         NaN   \n1       325.0                   8.0             N           N   \n2       300.0                   0.0             N           N   \n3       325.0                   0.0             N           N   \n4       300.0                   0.0             N           N   \n5       530.0                   0.0             N           N   \n\n  Call Status Recv Date Cash Call Clearing Code Last Description  \\\n0                   NaN       NaN                            NaN   \n1   2017-04-13 10:05:17         Y               CASH CALL ONLY C   \n2   2016-07-26 11:27:57         N                 Normal Service   \n3   2017-02-13 11:17:47         N                 Normal Service   \n4   2015-01-29 14:34:29         N                 Normal Service   \n5   2015-09-25 16:26:14         N                 Normal Service   \n\n        Dispatch Code1 Description  Dispatch Code2Description  \\\n0                              NaN                        NaN   \n1                  Engine Overheat                        NaN   \n2  Member Requests Battery Service                        NaN   \n3  Member Requests Battery Service                        NaN   \n4            No Crank - Jump Start                        NaN   \n5  Member Requests Battery Service                        NaN   \n\n        DTL Prob1 Code Description Fleet Indicator  Is Duplicate  Is NSR  \\\n0                              NaN             NaN           NaN     NaN   \n1                  Engine Overheat               N           0.0     0.0   \n2  Member Requests Battery Service               N           0.0     0.0   \n3  Member Requests Battery Service               N           0.0     0.0   \n4            No Crank - Jump Start               N           0.0     0.0   \n5  Member Requests Battery Service               Y           0.0     0.0   \n\n   Member Match Flag  Member Number and Associate ID Motorcycle Indicator  \\\n0                NaN                             NaN                  NaN   \n1               10.0                        153000.0                    N   \n2               10.0                        153000.0                    N   \n3               10.0                        153000.0                    N   \n4               10.0                        153000.0                    N   \n5               10.0                        153000.0                    N   \n\n   Plus Cost Plus Indicator Description  Premier Cost Prob1 Code Description  \\\n0        NaN                        NaN           NaN                    NaN   \n1        0.0           Basic Membership           0.0                    Tow   \n2        0.0           Basic Membership           0.0        Battery Service   \n3        0.0           Basic Membership           0.0        Battery Service   \n4        0.0           Basic Membership           0.0             Jump Start   \n5        0.0           Basic Membership           0.0             Jump Start   \n\n  Prob2 Code Description SC Call Club Code Description    SC Date      Rec ID  \\\n0                    NaN                           NaN        NaT         NaN   \n1                    NaN                 AAA Northeast 2017-04-13  97073200.0   \n2                    NaN                 AAA Northeast 2016-07-26  63611980.0   \n3                    NaN                 AAA Northeast 2017-02-13  91274950.0   \n4                    NaN                 AAA Northeast 2015-01-29  15932150.0   \n5                    NaN                 AAA Northeast 2015-09-25  36527110.0   \n\n  SC STS RSN Code Description SC Vehicle Manufacturer Name  \\\n0                         NaN                          NaN   \n1            CASH CALL ONLY C                       TOYOTA   \n2              Normal Service                       TOYOTA   \n3              Normal Service                       TOYOTA   \n4              Normal Service                       TOYOTA   \n5              Normal Service                       TOYOTA   \n\n  SC Vehicle Model Name          SVC Facility Name       SVC Facility Type  \\\n0                   NaN                        NaN                     NaN   \n1                 CAMRY      ASTRO WRECKER SERVICE      independent repair   \n2                 CAMRY      Astro Wrecker Service      independent repair   \n3                 CAMRY      ASTRO WRECKER SERVICE      independent repair   \n4                 CAMRY      ASTRO WRECKER SERVICE      independent repair   \n5                 CAMRY  AAA SNE RI  LIGHT SERVICE  mobile battery service   \n\n   Total Cost  Tow Destination Latitude  Tow Destination Longitude  \\\n0         NaN                       NaN                        NaN   \n1       325.0                     410.0                     -710.0   \n2       300.0                       0.0                        0.0   \n3       325.0                       0.0                        0.0   \n4       300.0                       0.0                        0.0   \n5       530.0                       0.0                        0.0   \n\n           Tow Destination Name  Was Duplicated  Was Towed To AAR Referral  \n0                           NaN             NaN                        NaN  \n1  Aar / Johnson's Auto Service             0.0                       10.0  \n2                           NaN             0.0                        0.0  \n3                           NaN             0.0                        0.0  \n4                           NaN             0.0                        0.0  \n5                           NaN             0.0                        0.0  ",
      "text/html": "<div>\n<style scoped>\n    .dataframe tbody tr th:only-of-type {\n        vertical-align: middle;\n    }\n\n    .dataframe tbody tr th {\n        vertical-align: top;\n    }\n\n    .dataframe thead th {\n        text-align: right;\n    }\n</style>\n<table border=\"1\" class=\"dataframe\">\n  <thead>\n    <tr style=\"text-align: right;\">\n      <th></th>\n      <th>Individual Key</th>\n      <th>Household Key</th>\n      <th>Member Flag</th>\n      <th>City</th>\n      <th>State - Grouped</th>\n      <th>ZIP5</th>\n      <th>ZIP9</th>\n      <th>FSV CMSI Flag</th>\n      <th>FSV Credit Card Flag</th>\n      <th>FSV Deposit Program Flag</th>\n      <th>FSV Home Equity Flag</th>\n      <th>FSV ID Theft Flag</th>\n      <th>FSV Mortgage Flag</th>\n      <th>INS Client Flag</th>\n      <th>TRV Globalware Flag</th>\n      <th>Number of Children</th>\n      <th>Responded to Catalog</th>\n      <th>Race</th>\n      <th>Length Of Residence</th>\n      <th>Mail Responder</th>\n      <th>Home Owner</th>\n      <th>Income</th>\n      <th>Date Of Birth</th>\n      <th>Children</th>\n      <th>Education</th>\n      <th>Dwelling Type</th>\n      <th>Credit Ranges</th>\n      <th>Language</th>\n      <th>Gender</th>\n      <th>Active Expiration Date</th>\n      <th>Address Change Date</th>\n      <th>Bad Address Flag</th>\n      <th>Billing Code Description</th>\n      <th>Birth Date MMDDYYYY</th>\n      <th>Branch Name</th>\n      <th>Cancel Date</th>\n      <th>Cancel Reason</th>\n      <th>County</th>\n      <th>Do Not Direct Mail Solicit</th>\n      <th>Email Available</th>\n      <th>Email Status</th>\n      <th>ERS ENT Count Year 1</th>\n      <th>ERS ENT Count Year 2</th>\n      <th>ERS ENT Count Year 3</th>\n      <th>ERS Member Cost Year 1</th>\n      <th>ERS Member Cost Year 2</th>\n      <th>ERS Member Cost Year 3</th>\n      <th>Right_Gender</th>\n      <th>Right_Individual Key</th>\n      <th>Join AAA Date</th>\n      <th>Join Club Date</th>\n      <th>Member Key</th>\n      <th>Member Map Location</th>\n      <th>Member Number Associate ID</th>\n      <th>Member Phone Type</th>\n      <th>Member Status</th>\n      <th>Member Tenure Years</th>\n      <th>Member Type</th>\n      <th>Membership ID</th>\n      <th>Months from Join to Cancel</th>\n      <th>Opt-Out - Publication</th>\n      <th>Reason Joined</th>\n      <th>Reinstate Date</th>\n      <th>Renew Method</th>\n      <th>ZIP</th>\n      <th>Mosaic Household</th>\n      <th>Mosaic Global Household</th>\n      <th>kcl_B_IND_MosaicsGrouping</th>\n      <th>New Mover Flag</th>\n      <th>Occupation Code</th>\n      <th>Occupation Group</th>\n      <th>Right_Dwelling Type</th>\n      <th>Move Distance</th>\n      <th>Occupant Type</th>\n      <th>Breakdown Map Location</th>\n      <th>Breakdown City</th>\n      <th>Breakdown State</th>\n      <th>Basic Cost</th>\n      <th>Calculated Tow Miles</th>\n      <th>Call Canceled</th>\n      <th>Call Killed</th>\n      <th>Call Status Recv Date</th>\n      <th>Cash Call</th>\n      <th>Clearing Code Last Description</th>\n      <th>Dispatch Code1 Description</th>\n      <th>Dispatch Code2Description</th>\n      <th>DTL Prob1 Code Description</th>\n      <th>Fleet Indicator</th>\n      <th>Is Duplicate</th>\n      <th>Is NSR</th>\n      <th>Member Match Flag</th>\n      <th>Member Number and Associate ID</th>\n      <th>Motorcycle Indicator</th>\n      <th>Plus Cost</th>\n      <th>Plus Indicator Description</th>\n      <th>Premier Cost</th>\n      <th>Prob1 Code Description</th>\n      <th>Prob2 Code Description</th>\n      <th>SC Call Club Code Description</th>\n      <th>SC Date</th>\n      <th>Rec ID</th>\n      <th>SC STS RSN Code Description</th>\n      <th>SC Vehicle Manufacturer Name</th>\n      <th>SC Vehicle Model Name</th>\n      <th>SVC Facility Name</th>\n      <th>SVC Facility Type</th>\n      <th>Total Cost</th>\n      <th>Tow Destination Latitude</th>\n      <th>Tow Destination Longitude</th>\n      <th>Tow Destination Name</th>\n      <th>Was Duplicated</th>\n      <th>Was Towed To AAR Referral</th>\n    </tr>\n  </thead>\n  <tbody>\n    <tr>\n      <th>0</th>\n      <td>100000030</td>\n      <td>104625900</td>\n      <td>Y</td>\n      <td>NEW HAVEN</td>\n      <td>CT</td>\n      <td>65110</td>\n      <td>651113490</td>\n      <td>N</td>\n      <td>N</td>\n      <td>N</td>\n      <td>N</td>\n      <td>N</td>\n      <td>N</td>\n      <td>N</td>\n      <td>N</td>\n      <td>NaN</td>\n      <td>NaN</td>\n      <td>NaN</td>\n      <td>NaN</td>\n      <td>NaN</td>\n      <td>NaN</td>\n      <td>NaN</td>\n      <td>NaT</td>\n      <td>NaN</td>\n      <td>NaN</td>\n      <td>Small or large multi-family w/apt number</td>\n      <td>NaN</td>\n      <td>NaN</td>\n      <td>Male</td>\n      <td>NaT</td>\n      <td>NaT</td>\n      <td>NaN</td>\n      <td>NaN</td>\n      <td>NaT</td>\n      <td>NaN</td>\n      <td>NaT</td>\n      <td>NaN</td>\n      <td>NaN</td>\n      <td>NaN</td>\n      <td>NaN</td>\n      <td>NaN</td>\n      <td>NaN</td>\n      <td>NaN</td>\n      <td>NaN</td>\n      <td>NaN</td>\n      <td>NaN</td>\n      <td>NaN</td>\n      <td>NaN</td>\n      <td>NaN</td>\n      <td>NaT</td>\n      <td>NaT</td>\n      <td>NaN</td>\n      <td>NaN</td>\n      <td>NaN</td>\n      <td>NaN</td>\n      <td>NaN</td>\n      <td>NaN</td>\n      <td>NaN</td>\n      <td>NaN</td>\n      <td>NaN</td>\n      <td>NaN</td>\n      <td>NaN</td>\n      <td>NaT</td>\n      <td>NaN</td>\n      <td>NaN</td>\n      <td>NaN</td>\n      <td>NaN</td>\n      <td>NaN</td>\n      <td>NaN</td>\n      <td>NaN</td>\n      <td>NaN</td>\n      <td>NaN</td>\n      <td>NaN</td>\n      <td>NaN</td>\n      <td>NaN</td>\n      <td>NaN</td>\n      <td>NaN</td>\n      <td>NaN</td>\n      <td>NaN</td>\n      <td>NaN</td>\n      <td>NaN</td>\n      <td>NaN</td>\n      <td>NaN</td>\n      <td>NaN</td>\n      <td>NaN</td>\n      <td>NaN</td>\n      <td>NaN</td>\n      <td>NaN</td>\n      <td>NaN</td>\n      <td>NaN</td>\n      <td>NaN</td>\n      <td>NaN</td>\n      <td>NaN</td>\n      <td>NaN</td>\n      <td>NaN</td>\n      <td>NaN</td>\n      <td>NaN</td>\n      <td>NaN</td>\n      <td>NaN</td>\n      <td>NaT</td>\n      <td>NaN</td>\n      <td>NaN</td>\n      <td>NaN</td>\n      <td>NaN</td>\n      <td>NaN</td>\n      <td>NaN</td>\n      <td>NaN</td>\n      <td>NaN</td>\n      <td>NaN</td>\n      <td>NaN</td>\n      <td>NaN</td>\n      <td>NaN</td>\n    </tr>\n    <tr>\n      <th>1</th>\n      <td>522115500</td>\n      <td>45007910</td>\n      <td>Y</td>\n      <td>WEST WARWICK</td>\n      <td>RI</td>\n      <td>28930</td>\n      <td>289338500</td>\n      <td>N</td>\n      <td>Y</td>\n      <td>N</td>\n      <td>N</td>\n      <td>N</td>\n      <td>N</td>\n      <td>N</td>\n      <td>N</td>\n      <td>One Child</td>\n      <td>NaN</td>\n      <td>Caucasion / White - English</td>\n      <td>150.0</td>\n      <td>Yes</td>\n      <td>Home Owner</td>\n      <td>30-39,999</td>\n      <td>1922-02-05</td>\n      <td>Yes</td>\n      <td>Some College</td>\n      <td>Small or large multi-family w/apt number</td>\n      <td>600-649</td>\n      <td>English</td>\n      <td>NaN</td>\n      <td>2020-09-01</td>\n      <td>2005-01-28 12:41:09</td>\n      <td>F</td>\n      <td>New Member</td>\n      <td>1922-02-05</td>\n      <td>RI - WARWICK BRANCH</td>\n      <td>NaT</td>\n      <td>NaN</td>\n      <td>KENT</td>\n      <td>0.0</td>\n      <td>0.0</td>\n      <td>NaN</td>\n      <td>0.0</td>\n      <td>0.0</td>\n      <td>20.0</td>\n      <td>0.0</td>\n      <td>0.0</td>\n      <td>650.0</td>\n      <td>NaN</td>\n      <td>522115500.0</td>\n      <td>1970-09-01</td>\n      <td>1970-09-01</td>\n      <td>15000140.0</td>\n      <td>{41.696,-71.5308}</td>\n      <td>153000.0</td>\n      <td>VoIP</td>\n      <td>ACTIVE</td>\n      <td>490.0</td>\n      <td>Primary</td>\n      <td>1530.0</td>\n      <td>NaN</td>\n      <td>Opt-In</td>\n      <td>NaN</td>\n      <td>2019-08-23</td>\n      <td>AUTO RENEW</td>\n      <td>28930.0</td>\n      <td>Senior Discounts</td>\n      <td>Low Income Elders</td>\n      <td>Golden Year Guardians</td>\n      <td>N</td>\n      <td>NaN</td>\n      <td>NaN</td>\n      <td>NaN</td>\n      <td>NaN</td>\n      <td>NaN</td>\n      <td>{41,-71}</td>\n      <td>West Warwick</td>\n      <td>RI</td>\n      <td>325.0</td>\n      <td>8.0</td>\n      <td>N</td>\n      <td>N</td>\n      <td>2017-04-13 10:05:17</td>\n      <td>Y</td>\n      <td>CASH CALL ONLY C</td>\n      <td>Engine Overheat</td>\n      <td>NaN</td>\n      <td>Engine Overheat</td>\n      <td>N</td>\n      <td>0.0</td>\n      <td>0.0</td>\n      <td>10.0</td>\n      <td>153000.0</td>\n      <td>N</td>\n      <td>0.0</td>\n      <td>Basic Membership</td>\n      <td>0.0</td>\n      <td>Tow</td>\n      <td>NaN</td>\n      <td>AAA Northeast</td>\n      <td>2017-04-13</td>\n      <td>97073200.0</td>\n      <td>CASH CALL ONLY C</td>\n      <td>TOYOTA</td>\n      <td>CAMRY</td>\n      <td>ASTRO WRECKER SERVICE</td>\n      <td>independent repair</td>\n      <td>325.0</td>\n      <td>410.0</td>\n      <td>-710.0</td>\n      <td>Aar / Johnson's Auto Service</td>\n      <td>0.0</td>\n      <td>10.0</td>\n    </tr>\n    <tr>\n      <th>2</th>\n      <td>522115500</td>\n      <td>45007910</td>\n      <td>Y</td>\n      <td>WEST WARWICK</td>\n      <td>RI</td>\n      <td>28930</td>\n      <td>289338500</td>\n      <td>N</td>\n      <td>Y</td>\n      <td>N</td>\n      <td>N</td>\n      <td>N</td>\n      <td>N</td>\n      <td>N</td>\n      <td>N</td>\n      <td>One Child</td>\n      <td>NaN</td>\n      <td>Caucasion / White - English</td>\n      <td>150.0</td>\n      <td>Yes</td>\n      <td>Home Owner</td>\n      <td>30-39,999</td>\n      <td>1922-02-05</td>\n      <td>Yes</td>\n      <td>Some College</td>\n      <td>Small or large multi-family w/apt number</td>\n      <td>600-649</td>\n      <td>English</td>\n      <td>NaN</td>\n      <td>2020-09-01</td>\n      <td>2005-01-28 12:41:09</td>\n      <td>F</td>\n      <td>New Member</td>\n      <td>1922-02-05</td>\n      <td>RI - WARWICK BRANCH</td>\n      <td>NaT</td>\n      <td>NaN</td>\n      <td>KENT</td>\n      <td>0.0</td>\n      <td>0.0</td>\n      <td>NaN</td>\n      <td>0.0</td>\n      <td>0.0</td>\n      <td>20.0</td>\n      <td>0.0</td>\n      <td>0.0</td>\n      <td>650.0</td>\n      <td>NaN</td>\n      <td>522115500.0</td>\n      <td>1970-09-01</td>\n      <td>1970-09-01</td>\n      <td>15000140.0</td>\n      <td>{41.696,-71.5308}</td>\n      <td>153000.0</td>\n      <td>VoIP</td>\n      <td>ACTIVE</td>\n      <td>490.0</td>\n      <td>Primary</td>\n      <td>1530.0</td>\n      <td>NaN</td>\n      <td>Opt-In</td>\n      <td>NaN</td>\n      <td>2019-08-23</td>\n      <td>AUTO RENEW</td>\n      <td>28930.0</td>\n      <td>Senior Discounts</td>\n      <td>Low Income Elders</td>\n      <td>Golden Year Guardians</td>\n      <td>N</td>\n      <td>NaN</td>\n      <td>NaN</td>\n      <td>NaN</td>\n      <td>NaN</td>\n      <td>NaN</td>\n      <td>{41,-71}</td>\n      <td>West Warwick</td>\n      <td>RI</td>\n      <td>300.0</td>\n      <td>0.0</td>\n      <td>N</td>\n      <td>N</td>\n      <td>2016-07-26 11:27:57</td>\n      <td>N</td>\n      <td>Normal Service</td>\n      <td>Member Requests Battery Service</td>\n      <td>NaN</td>\n      <td>Member Requests Battery Service</td>\n      <td>N</td>\n      <td>0.0</td>\n      <td>0.0</td>\n      <td>10.0</td>\n      <td>153000.0</td>\n      <td>N</td>\n      <td>0.0</td>\n      <td>Basic Membership</td>\n      <td>0.0</td>\n      <td>Battery Service</td>\n      <td>NaN</td>\n      <td>AAA Northeast</td>\n      <td>2016-07-26</td>\n      <td>63611980.0</td>\n      <td>Normal Service</td>\n      <td>TOYOTA</td>\n      <td>CAMRY</td>\n      <td>Astro Wrecker Service</td>\n      <td>independent repair</td>\n      <td>300.0</td>\n      <td>0.0</td>\n      <td>0.0</td>\n      <td>NaN</td>\n      <td>0.0</td>\n      <td>0.0</td>\n    </tr>\n    <tr>\n      <th>3</th>\n      <td>522115500</td>\n      <td>45007910</td>\n      <td>Y</td>\n      <td>WEST WARWICK</td>\n      <td>RI</td>\n      <td>28930</td>\n      <td>289338500</td>\n      <td>N</td>\n      <td>Y</td>\n      <td>N</td>\n      <td>N</td>\n      <td>N</td>\n      <td>N</td>\n      <td>N</td>\n      <td>N</td>\n      <td>One Child</td>\n      <td>NaN</td>\n      <td>Caucasion / White - English</td>\n      <td>150.0</td>\n      <td>Yes</td>\n      <td>Home Owner</td>\n      <td>30-39,999</td>\n      <td>1922-02-05</td>\n      <td>Yes</td>\n      <td>Some College</td>\n      <td>Small or large multi-family w/apt number</td>\n      <td>600-649</td>\n      <td>English</td>\n      <td>NaN</td>\n      <td>2020-09-01</td>\n      <td>2005-01-28 12:41:09</td>\n      <td>F</td>\n      <td>New Member</td>\n      <td>1922-02-05</td>\n      <td>RI - WARWICK BRANCH</td>\n      <td>NaT</td>\n      <td>NaN</td>\n      <td>KENT</td>\n      <td>0.0</td>\n      <td>0.0</td>\n      <td>NaN</td>\n      <td>0.0</td>\n      <td>0.0</td>\n      <td>20.0</td>\n      <td>0.0</td>\n      <td>0.0</td>\n      <td>650.0</td>\n      <td>NaN</td>\n      <td>522115500.0</td>\n      <td>1970-09-01</td>\n      <td>1970-09-01</td>\n      <td>15000140.0</td>\n      <td>{41.696,-71.5308}</td>\n      <td>153000.0</td>\n      <td>VoIP</td>\n      <td>ACTIVE</td>\n      <td>490.0</td>\n      <td>Primary</td>\n      <td>1530.0</td>\n      <td>NaN</td>\n      <td>Opt-In</td>\n      <td>NaN</td>\n      <td>2019-08-23</td>\n      <td>AUTO RENEW</td>\n      <td>28930.0</td>\n      <td>Senior Discounts</td>\n      <td>Low Income Elders</td>\n      <td>Golden Year Guardians</td>\n      <td>N</td>\n      <td>NaN</td>\n      <td>NaN</td>\n      <td>NaN</td>\n      <td>NaN</td>\n      <td>NaN</td>\n      <td>{41,-71}</td>\n      <td>West Warwick</td>\n      <td>RI</td>\n      <td>325.0</td>\n      <td>0.0</td>\n      <td>N</td>\n      <td>N</td>\n      <td>2017-02-13 11:17:47</td>\n      <td>N</td>\n      <td>Normal Service</td>\n      <td>Member Requests Battery Service</td>\n      <td>NaN</td>\n      <td>Member Requests Battery Service</td>\n      <td>N</td>\n      <td>0.0</td>\n      <td>0.0</td>\n      <td>10.0</td>\n      <td>153000.0</td>\n      <td>N</td>\n      <td>0.0</td>\n      <td>Basic Membership</td>\n      <td>0.0</td>\n      <td>Battery Service</td>\n      <td>NaN</td>\n      <td>AAA Northeast</td>\n      <td>2017-02-13</td>\n      <td>91274950.0</td>\n      <td>Normal Service</td>\n      <td>TOYOTA</td>\n      <td>CAMRY</td>\n      <td>ASTRO WRECKER SERVICE</td>\n      <td>independent repair</td>\n      <td>325.0</td>\n      <td>0.0</td>\n      <td>0.0</td>\n      <td>NaN</td>\n      <td>0.0</td>\n      <td>0.0</td>\n    </tr>\n    <tr>\n      <th>4</th>\n      <td>522115500</td>\n      <td>45007910</td>\n      <td>Y</td>\n      <td>WEST WARWICK</td>\n      <td>RI</td>\n      <td>28930</td>\n      <td>289338500</td>\n      <td>N</td>\n      <td>Y</td>\n      <td>N</td>\n      <td>N</td>\n      <td>N</td>\n      <td>N</td>\n      <td>N</td>\n      <td>N</td>\n      <td>One Child</td>\n      <td>NaN</td>\n      <td>Caucasion / White - English</td>\n      <td>150.0</td>\n      <td>Yes</td>\n      <td>Home Owner</td>\n      <td>30-39,999</td>\n      <td>1922-02-05</td>\n      <td>Yes</td>\n      <td>Some College</td>\n      <td>Small or large multi-family w/apt number</td>\n      <td>600-649</td>\n      <td>English</td>\n      <td>NaN</td>\n      <td>2020-09-01</td>\n      <td>2005-01-28 12:41:09</td>\n      <td>F</td>\n      <td>New Member</td>\n      <td>1922-02-05</td>\n      <td>RI - WARWICK BRANCH</td>\n      <td>NaT</td>\n      <td>NaN</td>\n      <td>KENT</td>\n      <td>0.0</td>\n      <td>0.0</td>\n      <td>NaN</td>\n      <td>0.0</td>\n      <td>0.0</td>\n      <td>20.0</td>\n      <td>0.0</td>\n      <td>0.0</td>\n      <td>650.0</td>\n      <td>NaN</td>\n      <td>522115500.0</td>\n      <td>1970-09-01</td>\n      <td>1970-09-01</td>\n      <td>15000140.0</td>\n      <td>{41.696,-71.5308}</td>\n      <td>153000.0</td>\n      <td>VoIP</td>\n      <td>ACTIVE</td>\n      <td>490.0</td>\n      <td>Primary</td>\n      <td>1530.0</td>\n      <td>NaN</td>\n      <td>Opt-In</td>\n      <td>NaN</td>\n      <td>2019-08-23</td>\n      <td>AUTO RENEW</td>\n      <td>28930.0</td>\n      <td>Senior Discounts</td>\n      <td>Low Income Elders</td>\n      <td>Golden Year Guardians</td>\n      <td>N</td>\n      <td>NaN</td>\n      <td>NaN</td>\n      <td>NaN</td>\n      <td>NaN</td>\n      <td>NaN</td>\n      <td>{41,-71}</td>\n      <td>Warwick</td>\n      <td>RI</td>\n      <td>300.0</td>\n      <td>0.0</td>\n      <td>N</td>\n      <td>N</td>\n      <td>2015-01-29 14:34:29</td>\n      <td>N</td>\n      <td>Normal Service</td>\n      <td>No Crank - Jump Start</td>\n      <td>NaN</td>\n      <td>No Crank - Jump Start</td>\n      <td>N</td>\n      <td>0.0</td>\n      <td>0.0</td>\n      <td>10.0</td>\n      <td>153000.0</td>\n      <td>N</td>\n      <td>0.0</td>\n      <td>Basic Membership</td>\n      <td>0.0</td>\n      <td>Jump Start</td>\n      <td>NaN</td>\n      <td>AAA Northeast</td>\n      <td>2015-01-29</td>\n      <td>15932150.0</td>\n      <td>Normal Service</td>\n      <td>TOYOTA</td>\n      <td>CAMRY</td>\n      <td>ASTRO WRECKER SERVICE</td>\n      <td>independent repair</td>\n      <td>300.0</td>\n      <td>0.0</td>\n      <td>0.0</td>\n      <td>NaN</td>\n      <td>0.0</td>\n      <td>0.0</td>\n    </tr>\n    <tr>\n      <th>5</th>\n      <td>522115500</td>\n      <td>45007910</td>\n      <td>Y</td>\n      <td>WEST WARWICK</td>\n      <td>RI</td>\n      <td>28930</td>\n      <td>289338500</td>\n      <td>N</td>\n      <td>Y</td>\n      <td>N</td>\n      <td>N</td>\n      <td>N</td>\n      <td>N</td>\n      <td>N</td>\n      <td>N</td>\n      <td>One Child</td>\n      <td>NaN</td>\n      <td>Caucasion / White - English</td>\n      <td>150.0</td>\n      <td>Yes</td>\n      <td>Home Owner</td>\n      <td>30-39,999</td>\n      <td>1922-02-05</td>\n      <td>Yes</td>\n      <td>Some College</td>\n      <td>Small or large multi-family w/apt number</td>\n      <td>600-649</td>\n      <td>English</td>\n      <td>NaN</td>\n      <td>2020-09-01</td>\n      <td>2005-01-28 12:41:09</td>\n      <td>F</td>\n      <td>New Member</td>\n      <td>1922-02-05</td>\n      <td>RI - WARWICK BRANCH</td>\n      <td>NaT</td>\n      <td>NaN</td>\n      <td>KENT</td>\n      <td>0.0</td>\n      <td>0.0</td>\n      <td>NaN</td>\n      <td>0.0</td>\n      <td>0.0</td>\n      <td>20.0</td>\n      <td>0.0</td>\n      <td>0.0</td>\n      <td>650.0</td>\n      <td>NaN</td>\n      <td>522115500.0</td>\n      <td>1970-09-01</td>\n      <td>1970-09-01</td>\n      <td>15000140.0</td>\n      <td>{41.696,-71.5308}</td>\n      <td>153000.0</td>\n      <td>VoIP</td>\n      <td>ACTIVE</td>\n      <td>490.0</td>\n      <td>Primary</td>\n      <td>1530.0</td>\n      <td>NaN</td>\n      <td>Opt-In</td>\n      <td>NaN</td>\n      <td>2019-08-23</td>\n      <td>AUTO RENEW</td>\n      <td>28930.0</td>\n      <td>Senior Discounts</td>\n      <td>Low Income Elders</td>\n      <td>Golden Year Guardians</td>\n      <td>N</td>\n      <td>NaN</td>\n      <td>NaN</td>\n      <td>NaN</td>\n      <td>NaN</td>\n      <td>NaN</td>\n      <td>{41,-71}</td>\n      <td>Warwick</td>\n      <td>RI</td>\n      <td>530.0</td>\n      <td>0.0</td>\n      <td>N</td>\n      <td>N</td>\n      <td>2015-09-25 16:26:14</td>\n      <td>N</td>\n      <td>Normal Service</td>\n      <td>Member Requests Battery Service</td>\n      <td>NaN</td>\n      <td>Member Requests Battery Service</td>\n      <td>Y</td>\n      <td>0.0</td>\n      <td>0.0</td>\n      <td>10.0</td>\n      <td>153000.0</td>\n      <td>N</td>\n      <td>0.0</td>\n      <td>Basic Membership</td>\n      <td>0.0</td>\n      <td>Jump Start</td>\n      <td>NaN</td>\n      <td>AAA Northeast</td>\n      <td>2015-09-25</td>\n      <td>36527110.0</td>\n      <td>Normal Service</td>\n      <td>TOYOTA</td>\n      <td>CAMRY</td>\n      <td>AAA SNE RI  LIGHT SERVICE</td>\n      <td>mobile battery service</td>\n      <td>530.0</td>\n      <td>0.0</td>\n      <td>0.0</td>\n      <td>NaN</td>\n      <td>0.0</td>\n      <td>0.0</td>\n    </tr>\n  </tbody>\n</table>\n</div>"
     },
     "metadata": {},
     "execution_count": 28
    }
   ],
   "source": [
    "df_original.head(n=2)"
   ]
  },
  {
   "cell_type": "markdown",
   "metadata": {},
   "source": [
    "* General Info"
   ]
  },
  {
   "cell_type": "code",
   "execution_count": 17,
   "metadata": {},
   "outputs": [
    {
     "output_type": "stream",
     "name": "stdout",
     "text": "<class 'pandas.core.frame.DataFrame'>\nRangeIndex: 21344 entries, 0 to 21343\nColumns: 113 entries, Column1 to Was Towed To AAR Referral\ndtypes: datetime64[ns](9), float64(31), int64(5), object(68)\nmemory usage: 18.4+ MB\n"
    }
   ],
   "source": [
    "df_original.info()"
   ]
  },
  {
   "cell_type": "code",
   "execution_count": 30,
   "metadata": {},
   "outputs": [
    {
     "output_type": "execute_result",
     "data": {
      "text/plain": "Individual Key                             int64\nHousehold Key                              int64\nMember Flag                               object\nCity                                      object\nState - Grouped                           object\nZIP5                                       int64\nZIP9                                       int64\nFSV CMSI Flag                             object\nFSV Credit Card Flag                      object\nFSV Deposit Program Flag                  object\nFSV Home Equity Flag                      object\nFSV ID Theft Flag                         object\nFSV Mortgage Flag                         object\nINS Client Flag                           object\nTRV Globalware Flag                       object\nNumber of Children                        object\nResponded to Catalog                      object\nRace                                      object\nLength Of Residence                      float64\nMail Responder                            object\nHome Owner                                object\nIncome                                    object\nDate Of Birth                     datetime64[ns]\nChildren                                  object\nEducation                                 object\nDwelling Type                             object\nCredit Ranges                             object\nLanguage                                  object\nGender                                    object\nActive Expiration Date            datetime64[ns]\nAddress Change Date               datetime64[ns]\nBad Address Flag                          object\nBilling Code Description                  object\nBirth Date MMDDYYYY               datetime64[ns]\nBranch Name                               object\nCancel Date                       datetime64[ns]\nCancel Reason                             object\nCounty                                    object\nDo Not Direct Mail Solicit               float64\nEmail Available                          float64\nEmail Status                              object\nERS ENT Count Year 1                     float64\nERS ENT Count Year 2                     float64\nERS ENT Count Year 3                     float64\nERS Member Cost Year 1                   float64\nERS Member Cost Year 2                   float64\nERS Member Cost Year 3                   float64\nRight_Gender                              object\nRight_Individual Key                     float64\nJoin AAA Date                     datetime64[ns]\nJoin Club Date                    datetime64[ns]\nMember Key                               float64\nMember Map Location                       object\nMember Number Associate ID               float64\nMember Phone Type                         object\nMember Status                             object\nMember Tenure Years                      float64\nMember Type                               object\nMembership ID                            float64\nMonths from Join to Cancel               float64\nOpt-Out - Publication                     object\nReason Joined                             object\nReinstate Date                    datetime64[ns]\nRenew Method                              object\nZIP                                      float64\nMosaic Household                          object\nMosaic Global Household                   object\nkcl_B_IND_MosaicsGrouping                 object\nNew Mover Flag                            object\nOccupation Code                           object\nOccupation Group                          object\nRight_Dwelling Type                       object\nMove Distance                             object\nOccupant Type                             object\nBreakdown Map Location                    object\nBreakdown City                            object\nBreakdown State                           object\nBasic Cost                               float64\nCalculated Tow Miles                     float64\nCall Canceled                             object\nCall Killed                               object\nCall Status Recv Date                     object\nCash Call                                 object\nClearing Code Last Description            object\nDispatch Code1 Description                object\nDispatch Code2Description                float64\nDTL Prob1 Code Description                object\nFleet Indicator                           object\nIs Duplicate                             float64\nIs NSR                                   float64\nMember Match Flag                        float64\nMember Number and Associate ID           float64\nMotorcycle Indicator                      object\nPlus Cost                                float64\nPlus Indicator Description                object\nPremier Cost                             float64\nProb1 Code Description                    object\nProb2 Code Description                    object\nSC Call Club Code Description             object\nSC Date                           datetime64[ns]\nRec ID                                   float64\nSC STS RSN Code Description               object\nSC Vehicle Manufacturer Name              object\nSC Vehicle Model Name                     object\nSVC Facility Name                         object\nSVC Facility Type                         object\nTotal Cost                               float64\nTow Destination Latitude                 float64\nTow Destination Longitude                float64\nTow Destination Name                      object\nWas Duplicated                           float64\nWas Towed To AAR Referral                float64\ndtype: object"
     },
     "metadata": {},
     "execution_count": 30
    }
   ],
   "source": [
    "df_original.dtypes"
   ]
  },
  {
   "cell_type": "markdown",
   "metadata": {},
   "source": [
    "* Dropping Erroneous Column"
   ]
  },
  {
   "cell_type": "code",
   "execution_count": 18,
   "metadata": {},
   "outputs": [],
   "source": [
    "df_original.drop(columns='Column1', inplace=True)"
   ]
  },
  {
   "cell_type": "markdown",
   "metadata": {},
   "source": [
    "* Reading Dictionaries"
   ]
  },
  {
   "cell_type": "code",
   "execution_count": 19,
   "metadata": {},
   "outputs": [],
   "source": [
    "path_dict_member = 'D:\\\\Desktop\\\\MLPGD_Capstone_Project\\\\resources\\\\member_data_dict.xlsx'\n",
    "\n",
    "dict_member = pd.read_excel(path_dict_member)"
   ]
  },
  {
   "cell_type": "code",
   "execution_count": 20,
   "metadata": {},
   "outputs": [],
   "source": [
    "path_dict_rodaside = 'D:\\\\Desktop\\\\MLPGD_Capstone_Project\\\\resources\\\\roadside_data_dict.xlsx'\n",
    "\n",
    "dict_roadside = pd.read_excel(path_dict_rodaside)"
   ]
  },
  {
   "cell_type": "markdown",
   "metadata": {},
   "source": [
    "# Exploratory Data Analysis"
   ]
  },
  {
   "cell_type": "markdown",
   "metadata": {},
   "source": [
    "* General information"
   ]
  },
  {
   "cell_type": "code",
   "execution_count": 21,
   "metadata": {},
   "outputs": [
    {
     "output_type": "stream",
     "name": "stdout",
     "text": "<class 'pandas.core.frame.DataFrame'>\nRangeIndex: 21344 entries, 0 to 21343\nColumns: 112 entries, Individual Key to Was Towed To AAR Referral\ndtypes: datetime64[ns](9), float64(31), int64(4), object(68)\nmemory usage: 18.2+ MB\n"
    }
   ],
   "source": [
    "df_original.info()"
   ]
  },
  {
   "cell_type": "code",
   "execution_count": 22,
   "metadata": {},
   "outputs": [],
   "source": [
    "nullval_ratio = (df_original.isnull().sum() * 100 / len(df_original)).sort_values(ascending=False)"
   ]
  },
  {
   "cell_type": "code",
   "execution_count": 27,
   "metadata": {},
   "outputs": [
    {
     "output_type": "execute_result",
     "data": {
      "text/plain": "Dispatch Code2Description         100.000000\nProb2 Code Description             99.962519\nReason Joined                      98.182159\nReinstate Date                     97.680847\nMove Distance                      96.996814\nOccupant Type                      96.570465\nRight_Dwelling Type                96.139430\nResponded to Catalog               95.970765\nTow Destination Name               82.702399\nRight_Gender                       74.779798\nMonths from Join to Cancel         61.689468\nCancel Date                        61.689468\nCancel Reason                      61.689468\nOccupation Group                   58.854948\nOccupation Code                    58.854948\nGender                             58.850262\nDate Of Birth                      52.253561\nEmail Status                       48.833396\nAddress Change Date                46.640742\nHome Owner                         45.516304\nTow Destination Latitude           44.654235\nTow Destination Longitude          44.654235\nIncome                             44.045165\nMail Responder                     43.731259\nChildren                           43.731259\nRace                               43.731259\nNumber of Children                 43.731259\nLength Of Residence                43.731259\nLanguage                           43.731259\nEducation                          43.731259\nCredit Ranges                      43.731259\nMember Phone Type                  42.292916\nMotorcycle Indicator               38.244940\nSVC Facility Type                  37.364130\nBreakdown Map Location             35.616567\nSVC Facility Name                  35.096514\nFleet Indicator                    35.096514\nCalculated Tow Miles               35.059033\nPremier Cost                       34.824775\nTotal Cost                         34.670165\nPlus Cost                          34.670165\nBasic Cost                         34.670165\nCall Status Recv Date              34.642054\nSC STS RSN Code Description        34.627999\nClearing Code Last Description     34.627999\nSC Vehicle Model Name              34.515555\nSC Vehicle Manufacturer Name       34.478073\nDispatch Code1 Description         34.426537\nDTL Prob1 Code Description         34.426537\nWas Duplicated                     34.421852\nWas Towed To AAR Referral          34.421852\nCash Call                          34.421852\nSC Date                            34.421852\nPlus Indicator Description         34.421852\nProb1 Code Description             34.421852\nSC Call Club Code Description      34.421852\nMember Match Flag                  34.421852\nIs NSR                             34.421852\nIs Duplicate                       34.421852\nMember Number and Associate ID     34.421852\nCall Killed                        34.421852\nCall Canceled                      34.421852\nBreakdown State                    34.421852\nBreakdown City                     34.421852\nRec ID                             34.421852\nMosaic Global Household            25.595015\nkcl_B_IND_MosaicsGrouping          25.595015\nMosaic Household                   25.595015\nDwelling Type                      25.548163\nERS ENT Count Year 1               21.875000\nERS Member Cost Year 3             21.875000\nERS ENT Count Year 2               21.875000\nERS ENT Count Year 3               21.875000\nERS Member Cost Year 1             21.875000\nERS Member Cost Year 2             21.875000\nBirth Date MMDDYYYY                15.226762\nMember Map Location                 0.168666\nActive Expiration Date              0.004685\nBad Address Flag                    0.004685\nMember Status                       0.004685\nBilling Code Description            0.004685\nMember Number Associate ID          0.004685\nBranch Name                         0.004685\nZIP                                 0.004685\nRenew Method                        0.004685\nOpt-Out - Publication               0.004685\nMembership ID                       0.004685\nMember Type                         0.004685\nMember Tenure Years                 0.004685\nNew Mover Flag                      0.004685\nMember Key                          0.004685\nJoin AAA Date                       0.004685\nRight_Individual Key                0.004685\nEmail Available                     0.004685\nDo Not Direct Mail Solicit          0.004685\nCounty                              0.004685\nJoin Club Date                      0.004685\nFSV CMSI Flag                       0.000000\nHousehold Key                       0.000000\nMember Flag                         0.000000\nCity                                0.000000\nState - Grouped                     0.000000\nZIP5                                0.000000\nZIP9                                0.000000\nFSV Home Equity Flag                0.000000\nFSV Credit Card Flag                0.000000\nFSV Deposit Program Flag            0.000000\nFSV ID Theft Flag                   0.000000\nFSV Mortgage Flag                   0.000000\nINS Client Flag                     0.000000\nTRV Globalware Flag                 0.000000\nIndividual Key                      0.000000\ndtype: float64"
     },
     "metadata": {},
     "execution_count": 27
    }
   ],
   "source": [
    "nullval_ratio"
   ]
  },
  {
   "cell_type": "markdown",
   "metadata": {},
   "source": [
    "* Branching Approaches"
   ]
  },
  {
   "cell_type": "markdown",
   "metadata": {},
   "source": [
    "    Maintaining Original Data file "
   ]
  },
  {
   "cell_type": "code",
   "execution_count": 24,
   "metadata": {},
   "outputs": [],
   "source": [
    "fill_null_data = df_original.copy()\n",
    "\n",
    "remove_null_data = df_original.copy()"
   ]
  },
  {
   "cell_type": "code",
   "execution_count": 25,
   "metadata": {},
   "outputs": [
    {
     "output_type": "stream",
     "name": "stdout",
     "text": "Removed Columns due selected treshold:  ['Responded to Catalog', 'Right_Gender', 'Reason Joined', 'Reinstate Date', 'Right_Dwelling Type', 'Move Distance', 'Occupant Type', 'Dispatch Code2Description', 'Prob2 Code Description', 'Tow Destination Name']\n"
    }
   ],
   "source": [
    "treshold = 70.0\n",
    "\n",
    "removed_columns = []\n",
    "\n",
    "for c in df_original.columns:\n",
    "\n",
    "    if nullval_ratio[c] > treshold:\n",
    "\n",
    "        fill_null_data.drop(columns=c, inplace=True)\n",
    "\n",
    "        remove_null_data.drop(columns=c, inplace=True)\n",
    "\n",
    "        removed_columns.append(c)\n",
    "\n",
    "print('Removed Columns due selected treshold: ', removed_columns)"
   ]
  },
  {
   "cell_type": "code",
   "execution_count": null,
   "metadata": {},
   "outputs": [],
   "source": []
  }
 ],
 "metadata": {
  "language_info": {
   "codemirror_mode": {
    "name": "ipython",
    "version": 3
   },
   "file_extension": ".py",
   "mimetype": "text/x-python",
   "name": "python",
   "nbconvert_exporter": "python",
   "pygments_lexer": "ipython3",
   "version": "3.7.6-final"
  },
  "orig_nbformat": 2,
  "kernelspec": {
   "name": "python37664bitcapstoneprojectcondad07c177c475741d8a46606514fa38a7a",
   "display_name": "Python 3.7.6 64-bit ('capstone_project': conda)"
  }
 },
 "nbformat": 4,
 "nbformat_minor": 2
}