{
 "cells": [
  {
   "cell_type": "markdown",
   "metadata": {},
   "source": [
    "# Loading Packages"
   ]
  },
  {
   "cell_type": "code",
   "execution_count": 1,
   "metadata": {},
   "outputs": [
    {
     "name": "stdout",
     "output_type": "stream",
     "text": [
      "Enabling notebook extension jupyter-js-widgets/extension...\n",
      "      - Validating: \u001b[32mOK\u001b[0m\n"
     ]
    }
   ],
   "source": [
    "! jupyter nbextension enable --py widgetsnbextension"
   ]
  },
  {
   "cell_type": "code",
   "execution_count": 2,
   "metadata": {},
   "outputs": [],
   "source": [
    "import numpy as np\n",
    "import pandas as pd\n",
    "import matplotlib.pyplot as plt\n",
    "import seaborn as sns\n",
    "from collections import Counter"
   ]
  },
  {
   "cell_type": "markdown",
   "metadata": {},
   "source": [
    "## Progress Bar"
   ]
  },
  {
   "cell_type": "code",
   "execution_count": 3,
   "metadata": {},
   "outputs": [],
   "source": [
    "%%capture\n",
    "from tqdm import tqdm_notebook\n",
    "tqdm_notebook().pandas()"
   ]
  },
  {
   "cell_type": "markdown",
   "metadata": {},
   "source": [
    "## Pandas Options"
   ]
  },
  {
   "cell_type": "code",
   "execution_count": 4,
   "metadata": {},
   "outputs": [],
   "source": [
    "pd.set_option('max_columns', None)\n",
    "pd.set_option('display.max_rows', None)"
   ]
  },
  {
   "cell_type": "markdown",
   "metadata": {},
   "source": [
    "# Loading Files"
   ]
  },
  {
   "cell_type": "markdown",
   "metadata": {},
   "source": [
    "## 1 - Read Default Data"
   ]
  },
  {
   "cell_type": "code",
   "execution_count": 5,
   "metadata": {},
   "outputs": [],
   "source": [
    "path = '..//resources//aaa_sample_data.xlsx'\n",
    "\n",
    "df_original = pd.read_excel(path)"
   ]
  },
  {
   "cell_type": "markdown",
   "metadata": {},
   "source": [
    "* Data Glance"
   ]
  },
  {
   "cell_type": "code",
   "execution_count": 6,
   "metadata": {},
   "outputs": [
    {
     "data": {
      "text/html": [
       "<div>\n",
       "<style scoped>\n",
       "    .dataframe tbody tr th:only-of-type {\n",
       "        vertical-align: middle;\n",
       "    }\n",
       "\n",
       "    .dataframe tbody tr th {\n",
       "        vertical-align: top;\n",
       "    }\n",
       "\n",
       "    .dataframe thead th {\n",
       "        text-align: right;\n",
       "    }\n",
       "</style>\n",
       "<table border=\"1\" class=\"dataframe\">\n",
       "  <thead>\n",
       "    <tr style=\"text-align: right;\">\n",
       "      <th></th>\n",
       "      <th>Column1</th>\n",
       "      <th>Individual Key</th>\n",
       "      <th>Household Key</th>\n",
       "      <th>Member Flag</th>\n",
       "      <th>City</th>\n",
       "      <th>State - Grouped</th>\n",
       "      <th>ZIP5</th>\n",
       "      <th>ZIP9</th>\n",
       "      <th>FSV CMSI Flag</th>\n",
       "      <th>FSV Credit Card Flag</th>\n",
       "      <th>FSV Deposit Program Flag</th>\n",
       "      <th>FSV Home Equity Flag</th>\n",
       "      <th>FSV ID Theft Flag</th>\n",
       "      <th>FSV Mortgage Flag</th>\n",
       "      <th>INS Client Flag</th>\n",
       "      <th>TRV Globalware Flag</th>\n",
       "      <th>Number of Children</th>\n",
       "      <th>Responded to Catalog</th>\n",
       "      <th>Race</th>\n",
       "      <th>Length Of Residence</th>\n",
       "      <th>Mail Responder</th>\n",
       "      <th>Home Owner</th>\n",
       "      <th>Income</th>\n",
       "      <th>Date Of Birth</th>\n",
       "      <th>Children</th>\n",
       "      <th>Education</th>\n",
       "      <th>Dwelling Type</th>\n",
       "      <th>Credit Ranges</th>\n",
       "      <th>Language</th>\n",
       "      <th>Gender</th>\n",
       "      <th>Active Expiration Date</th>\n",
       "      <th>Address Change Date</th>\n",
       "      <th>Bad Address Flag</th>\n",
       "      <th>Billing Code Description</th>\n",
       "      <th>Birth Date MMDDYYYY</th>\n",
       "      <th>Branch Name</th>\n",
       "      <th>Cancel Date</th>\n",
       "      <th>Cancel Reason</th>\n",
       "      <th>County</th>\n",
       "      <th>Do Not Direct Mail Solicit</th>\n",
       "      <th>Email Available</th>\n",
       "      <th>Email Status</th>\n",
       "      <th>ERS ENT Count Year 1</th>\n",
       "      <th>ERS ENT Count Year 2</th>\n",
       "      <th>ERS ENT Count Year 3</th>\n",
       "      <th>ERS Member Cost Year 1</th>\n",
       "      <th>ERS Member Cost Year 2</th>\n",
       "      <th>ERS Member Cost Year 3</th>\n",
       "      <th>Right_Gender</th>\n",
       "      <th>Right_Individual Key</th>\n",
       "      <th>Join AAA Date</th>\n",
       "      <th>Join Club Date</th>\n",
       "      <th>Member Key</th>\n",
       "      <th>Member Map Location</th>\n",
       "      <th>Member Number Associate ID</th>\n",
       "      <th>Member Phone Type</th>\n",
       "      <th>Member Status</th>\n",
       "      <th>Member Tenure Years</th>\n",
       "      <th>Member Type</th>\n",
       "      <th>Membership ID</th>\n",
       "      <th>Months from Join to Cancel</th>\n",
       "      <th>Opt-Out - Publication</th>\n",
       "      <th>Reason Joined</th>\n",
       "      <th>Reinstate Date</th>\n",
       "      <th>Renew Method</th>\n",
       "      <th>ZIP</th>\n",
       "      <th>Mosaic Household</th>\n",
       "      <th>Mosaic Global Household</th>\n",
       "      <th>kcl_B_IND_MosaicsGrouping</th>\n",
       "      <th>New Mover Flag</th>\n",
       "      <th>Occupation Code</th>\n",
       "      <th>Occupation Group</th>\n",
       "      <th>Right_Dwelling Type</th>\n",
       "      <th>Move Distance</th>\n",
       "      <th>Occupant Type</th>\n",
       "      <th>Breakdown Map Location</th>\n",
       "      <th>Breakdown City</th>\n",
       "      <th>Breakdown State</th>\n",
       "      <th>Basic Cost</th>\n",
       "      <th>Calculated Tow Miles</th>\n",
       "      <th>Call Canceled</th>\n",
       "      <th>Call Killed</th>\n",
       "      <th>Call Status Recv Date</th>\n",
       "      <th>Cash Call</th>\n",
       "      <th>Clearing Code Last Description</th>\n",
       "      <th>Dispatch Code1 Description</th>\n",
       "      <th>Dispatch Code2Description</th>\n",
       "      <th>DTL Prob1 Code Description</th>\n",
       "      <th>Fleet Indicator</th>\n",
       "      <th>Is Duplicate</th>\n",
       "      <th>Is NSR</th>\n",
       "      <th>Member Match Flag</th>\n",
       "      <th>Member Number and Associate ID</th>\n",
       "      <th>Motorcycle Indicator</th>\n",
       "      <th>Plus Cost</th>\n",
       "      <th>Plus Indicator Description</th>\n",
       "      <th>Premier Cost</th>\n",
       "      <th>Prob1 Code Description</th>\n",
       "      <th>Prob2 Code Description</th>\n",
       "      <th>SC Call Club Code Description</th>\n",
       "      <th>SC Date</th>\n",
       "      <th>Rec ID</th>\n",
       "      <th>SC STS RSN Code Description</th>\n",
       "      <th>SC Vehicle Manufacturer Name</th>\n",
       "      <th>SC Vehicle Model Name</th>\n",
       "      <th>SVC Facility Name</th>\n",
       "      <th>SVC Facility Type</th>\n",
       "      <th>Total Cost</th>\n",
       "      <th>Tow Destination Latitude</th>\n",
       "      <th>Tow Destination Longitude</th>\n",
       "      <th>Tow Destination Name</th>\n",
       "      <th>Was Duplicated</th>\n",
       "      <th>Was Towed To AAR Referral</th>\n",
       "    </tr>\n",
       "  </thead>\n",
       "  <tbody>\n",
       "    <tr>\n",
       "      <th>0</th>\n",
       "      <td>0</td>\n",
       "      <td>100000030</td>\n",
       "      <td>104625900</td>\n",
       "      <td>Y</td>\n",
       "      <td>NEW HAVEN</td>\n",
       "      <td>CT</td>\n",
       "      <td>65110</td>\n",
       "      <td>651113490</td>\n",
       "      <td>N</td>\n",
       "      <td>N</td>\n",
       "      <td>N</td>\n",
       "      <td>N</td>\n",
       "      <td>N</td>\n",
       "      <td>N</td>\n",
       "      <td>N</td>\n",
       "      <td>N</td>\n",
       "      <td>NaN</td>\n",
       "      <td>NaN</td>\n",
       "      <td>NaN</td>\n",
       "      <td>NaN</td>\n",
       "      <td>NaN</td>\n",
       "      <td>NaN</td>\n",
       "      <td>NaN</td>\n",
       "      <td>NaT</td>\n",
       "      <td>NaN</td>\n",
       "      <td>NaN</td>\n",
       "      <td>Small or large multi-family w/apt number</td>\n",
       "      <td>NaN</td>\n",
       "      <td>NaN</td>\n",
       "      <td>Male</td>\n",
       "      <td>NaT</td>\n",
       "      <td>NaT</td>\n",
       "      <td>NaN</td>\n",
       "      <td>NaN</td>\n",
       "      <td>NaT</td>\n",
       "      <td>NaN</td>\n",
       "      <td>NaT</td>\n",
       "      <td>NaN</td>\n",
       "      <td>NaN</td>\n",
       "      <td>NaN</td>\n",
       "      <td>NaN</td>\n",
       "      <td>NaN</td>\n",
       "      <td>NaN</td>\n",
       "      <td>NaN</td>\n",
       "      <td>NaN</td>\n",
       "      <td>NaN</td>\n",
       "      <td>NaN</td>\n",
       "      <td>NaN</td>\n",
       "      <td>NaN</td>\n",
       "      <td>NaN</td>\n",
       "      <td>NaT</td>\n",
       "      <td>NaT</td>\n",
       "      <td>NaN</td>\n",
       "      <td>NaN</td>\n",
       "      <td>NaN</td>\n",
       "      <td>NaN</td>\n",
       "      <td>NaN</td>\n",
       "      <td>NaN</td>\n",
       "      <td>NaN</td>\n",
       "      <td>NaN</td>\n",
       "      <td>NaN</td>\n",
       "      <td>NaN</td>\n",
       "      <td>NaN</td>\n",
       "      <td>NaT</td>\n",
       "      <td>NaN</td>\n",
       "      <td>NaN</td>\n",
       "      <td>NaN</td>\n",
       "      <td>NaN</td>\n",
       "      <td>NaN</td>\n",
       "      <td>NaN</td>\n",
       "      <td>NaN</td>\n",
       "      <td>NaN</td>\n",
       "      <td>NaN</td>\n",
       "      <td>NaN</td>\n",
       "      <td>NaN</td>\n",
       "      <td>NaN</td>\n",
       "      <td>NaN</td>\n",
       "      <td>NaN</td>\n",
       "      <td>NaN</td>\n",
       "      <td>NaN</td>\n",
       "      <td>NaN</td>\n",
       "      <td>NaN</td>\n",
       "      <td>NaN</td>\n",
       "      <td>NaN</td>\n",
       "      <td>NaN</td>\n",
       "      <td>NaN</td>\n",
       "      <td>NaN</td>\n",
       "      <td>NaN</td>\n",
       "      <td>NaN</td>\n",
       "      <td>NaN</td>\n",
       "      <td>NaN</td>\n",
       "      <td>NaN</td>\n",
       "      <td>NaN</td>\n",
       "      <td>NaN</td>\n",
       "      <td>NaN</td>\n",
       "      <td>NaN</td>\n",
       "      <td>NaN</td>\n",
       "      <td>NaN</td>\n",
       "      <td>NaN</td>\n",
       "      <td>NaN</td>\n",
       "      <td>NaT</td>\n",
       "      <td>NaN</td>\n",
       "      <td>NaN</td>\n",
       "      <td>NaN</td>\n",
       "      <td>NaN</td>\n",
       "      <td>NaN</td>\n",
       "      <td>NaN</td>\n",
       "      <td>NaN</td>\n",
       "      <td>NaN</td>\n",
       "      <td>NaN</td>\n",
       "      <td>NaN</td>\n",
       "      <td>NaN</td>\n",
       "      <td>NaN</td>\n",
       "    </tr>\n",
       "    <tr>\n",
       "      <th>1</th>\n",
       "      <td>1</td>\n",
       "      <td>522115500</td>\n",
       "      <td>45007910</td>\n",
       "      <td>Y</td>\n",
       "      <td>WEST WARWICK</td>\n",
       "      <td>RI</td>\n",
       "      <td>28930</td>\n",
       "      <td>289338500</td>\n",
       "      <td>N</td>\n",
       "      <td>Y</td>\n",
       "      <td>N</td>\n",
       "      <td>N</td>\n",
       "      <td>N</td>\n",
       "      <td>N</td>\n",
       "      <td>N</td>\n",
       "      <td>N</td>\n",
       "      <td>One Child</td>\n",
       "      <td>NaN</td>\n",
       "      <td>Caucasion / White - English</td>\n",
       "      <td>150.0</td>\n",
       "      <td>Yes</td>\n",
       "      <td>Home Owner</td>\n",
       "      <td>30-39,999</td>\n",
       "      <td>1922-02-05</td>\n",
       "      <td>Yes</td>\n",
       "      <td>Some College</td>\n",
       "      <td>Small or large multi-family w/apt number</td>\n",
       "      <td>600-649</td>\n",
       "      <td>English</td>\n",
       "      <td>NaN</td>\n",
       "      <td>2020-09-01</td>\n",
       "      <td>2005-01-28 12:41:09</td>\n",
       "      <td>F</td>\n",
       "      <td>New Member</td>\n",
       "      <td>1922-02-05</td>\n",
       "      <td>RI - WARWICK BRANCH</td>\n",
       "      <td>NaT</td>\n",
       "      <td>NaN</td>\n",
       "      <td>KENT</td>\n",
       "      <td>0.0</td>\n",
       "      <td>0.0</td>\n",
       "      <td>NaN</td>\n",
       "      <td>0.0</td>\n",
       "      <td>0.0</td>\n",
       "      <td>20.0</td>\n",
       "      <td>0.0</td>\n",
       "      <td>0.0</td>\n",
       "      <td>650.0</td>\n",
       "      <td>NaN</td>\n",
       "      <td>522115500.0</td>\n",
       "      <td>1970-09-01</td>\n",
       "      <td>1970-09-01</td>\n",
       "      <td>15000140.0</td>\n",
       "      <td>{41.696,-71.5308}</td>\n",
       "      <td>153000.0</td>\n",
       "      <td>VoIP</td>\n",
       "      <td>ACTIVE</td>\n",
       "      <td>490.0</td>\n",
       "      <td>Primary</td>\n",
       "      <td>1530.0</td>\n",
       "      <td>NaN</td>\n",
       "      <td>Opt-In</td>\n",
       "      <td>NaN</td>\n",
       "      <td>2019-08-23</td>\n",
       "      <td>AUTO RENEW</td>\n",
       "      <td>28930.0</td>\n",
       "      <td>Senior Discounts</td>\n",
       "      <td>Low Income Elders</td>\n",
       "      <td>Golden Year Guardians</td>\n",
       "      <td>N</td>\n",
       "      <td>NaN</td>\n",
       "      <td>NaN</td>\n",
       "      <td>NaN</td>\n",
       "      <td>NaN</td>\n",
       "      <td>NaN</td>\n",
       "      <td>{41,-71}</td>\n",
       "      <td>West Warwick</td>\n",
       "      <td>RI</td>\n",
       "      <td>325.0</td>\n",
       "      <td>8.0</td>\n",
       "      <td>N</td>\n",
       "      <td>N</td>\n",
       "      <td>2017-04-13 10:05:17</td>\n",
       "      <td>Y</td>\n",
       "      <td>CASH CALL ONLY C</td>\n",
       "      <td>Engine Overheat</td>\n",
       "      <td>NaN</td>\n",
       "      <td>Engine Overheat</td>\n",
       "      <td>N</td>\n",
       "      <td>0.0</td>\n",
       "      <td>0.0</td>\n",
       "      <td>10.0</td>\n",
       "      <td>153000.0</td>\n",
       "      <td>N</td>\n",
       "      <td>0.0</td>\n",
       "      <td>Basic Membership</td>\n",
       "      <td>0.0</td>\n",
       "      <td>Tow</td>\n",
       "      <td>NaN</td>\n",
       "      <td>AAA Northeast</td>\n",
       "      <td>2017-04-13</td>\n",
       "      <td>97073200.0</td>\n",
       "      <td>CASH CALL ONLY C</td>\n",
       "      <td>TOYOTA</td>\n",
       "      <td>CAMRY</td>\n",
       "      <td>ASTRO WRECKER SERVICE</td>\n",
       "      <td>independent repair</td>\n",
       "      <td>325.0</td>\n",
       "      <td>410.0</td>\n",
       "      <td>-710.0</td>\n",
       "      <td>Aar / Johnson's Auto Service</td>\n",
       "      <td>0.0</td>\n",
       "      <td>10.0</td>\n",
       "    </tr>\n",
       "  </tbody>\n",
       "</table>\n",
       "</div>"
      ],
      "text/plain": [
       "   Column1  Individual Key  Household Key Member Flag          City  \\\n",
       "0        0       100000030      104625900           Y     NEW HAVEN   \n",
       "1        1       522115500       45007910           Y  WEST WARWICK   \n",
       "\n",
       "  State - Grouped   ZIP5       ZIP9 FSV CMSI Flag FSV Credit Card Flag  \\\n",
       "0              CT  65110  651113490             N                    N   \n",
       "1              RI  28930  289338500             N                    Y   \n",
       "\n",
       "  FSV Deposit Program Flag FSV Home Equity Flag FSV ID Theft Flag  \\\n",
       "0                        N                    N                 N   \n",
       "1                        N                    N                 N   \n",
       "\n",
       "  FSV Mortgage Flag INS Client Flag TRV Globalware Flag Number of Children  \\\n",
       "0                 N               N                   N                NaN   \n",
       "1                 N               N                   N          One Child   \n",
       "\n",
       "  Responded to Catalog                         Race  Length Of Residence  \\\n",
       "0                  NaN                          NaN                  NaN   \n",
       "1                  NaN  Caucasion / White - English                150.0   \n",
       "\n",
       "  Mail Responder  Home Owner     Income Date Of Birth Children     Education  \\\n",
       "0            NaN         NaN        NaN           NaT      NaN           NaN   \n",
       "1            Yes  Home Owner  30-39,999    1922-02-05      Yes  Some College   \n",
       "\n",
       "                              Dwelling Type Credit Ranges Language Gender  \\\n",
       "0  Small or large multi-family w/apt number           NaN      NaN   Male   \n",
       "1  Small or large multi-family w/apt number       600-649  English    NaN   \n",
       "\n",
       "  Active Expiration Date Address Change Date Bad Address Flag  \\\n",
       "0                    NaT                 NaT              NaN   \n",
       "1             2020-09-01 2005-01-28 12:41:09                F   \n",
       "\n",
       "  Billing Code Description Birth Date MMDDYYYY          Branch Name  \\\n",
       "0                      NaN                 NaT                  NaN   \n",
       "1               New Member          1922-02-05  RI - WARWICK BRANCH   \n",
       "\n",
       "  Cancel Date Cancel Reason County  Do Not Direct Mail Solicit  \\\n",
       "0         NaT           NaN    NaN                         NaN   \n",
       "1         NaT           NaN   KENT                         0.0   \n",
       "\n",
       "   Email Available Email Status  ERS ENT Count Year 1  ERS ENT Count Year 2  \\\n",
       "0              NaN          NaN                   NaN                   NaN   \n",
       "1              0.0          NaN                   0.0                   0.0   \n",
       "\n",
       "   ERS ENT Count Year 3  ERS Member Cost Year 1  ERS Member Cost Year 2  \\\n",
       "0                   NaN                     NaN                     NaN   \n",
       "1                  20.0                     0.0                     0.0   \n",
       "\n",
       "   ERS Member Cost Year 3 Right_Gender  Right_Individual Key Join AAA Date  \\\n",
       "0                     NaN          NaN                   NaN           NaT   \n",
       "1                   650.0          NaN           522115500.0    1970-09-01   \n",
       "\n",
       "  Join Club Date  Member Key Member Map Location  Member Number Associate ID  \\\n",
       "0            NaT         NaN                 NaN                         NaN   \n",
       "1     1970-09-01  15000140.0   {41.696,-71.5308}                    153000.0   \n",
       "\n",
       "  Member Phone Type Member Status  Member Tenure Years Member Type  \\\n",
       "0               NaN           NaN                  NaN         NaN   \n",
       "1              VoIP        ACTIVE                490.0     Primary   \n",
       "\n",
       "   Membership ID  Months from Join to Cancel Opt-Out - Publication  \\\n",
       "0            NaN                         NaN                   NaN   \n",
       "1         1530.0                         NaN                Opt-In   \n",
       "\n",
       "  Reason Joined Reinstate Date Renew Method      ZIP  Mosaic Household  \\\n",
       "0           NaN            NaT          NaN      NaN               NaN   \n",
       "1           NaN     2019-08-23   AUTO RENEW  28930.0  Senior Discounts   \n",
       "\n",
       "  Mosaic Global Household kcl_B_IND_MosaicsGrouping New Mover Flag  \\\n",
       "0                     NaN                       NaN            NaN   \n",
       "1       Low Income Elders     Golden Year Guardians              N   \n",
       "\n",
       "  Occupation Code Occupation Group Right_Dwelling Type Move Distance  \\\n",
       "0             NaN              NaN                 NaN           NaN   \n",
       "1             NaN              NaN                 NaN           NaN   \n",
       "\n",
       "  Occupant Type Breakdown Map Location Breakdown City Breakdown State  \\\n",
       "0           NaN                    NaN            NaN             NaN   \n",
       "1           NaN               {41,-71}   West Warwick              RI   \n",
       "\n",
       "   Basic Cost  Calculated Tow Miles Call Canceled Call Killed  \\\n",
       "0         NaN                   NaN           NaN         NaN   \n",
       "1       325.0                   8.0             N           N   \n",
       "\n",
       "  Call Status Recv Date Cash Call Clearing Code Last Description  \\\n",
       "0                   NaN       NaN                            NaN   \n",
       "1   2017-04-13 10:05:17         Y               CASH CALL ONLY C   \n",
       "\n",
       "  Dispatch Code1 Description  Dispatch Code2Description  \\\n",
       "0                        NaN                        NaN   \n",
       "1            Engine Overheat                        NaN   \n",
       "\n",
       "  DTL Prob1 Code Description Fleet Indicator  Is Duplicate  Is NSR  \\\n",
       "0                        NaN             NaN           NaN     NaN   \n",
       "1            Engine Overheat               N           0.0     0.0   \n",
       "\n",
       "   Member Match Flag  Member Number and Associate ID Motorcycle Indicator  \\\n",
       "0                NaN                             NaN                  NaN   \n",
       "1               10.0                        153000.0                    N   \n",
       "\n",
       "   Plus Cost Plus Indicator Description  Premier Cost Prob1 Code Description  \\\n",
       "0        NaN                        NaN           NaN                    NaN   \n",
       "1        0.0           Basic Membership           0.0                    Tow   \n",
       "\n",
       "  Prob2 Code Description SC Call Club Code Description    SC Date      Rec ID  \\\n",
       "0                    NaN                           NaN        NaT         NaN   \n",
       "1                    NaN                 AAA Northeast 2017-04-13  97073200.0   \n",
       "\n",
       "  SC STS RSN Code Description SC Vehicle Manufacturer Name  \\\n",
       "0                         NaN                          NaN   \n",
       "1            CASH CALL ONLY C                       TOYOTA   \n",
       "\n",
       "  SC Vehicle Model Name      SVC Facility Name   SVC Facility Type  \\\n",
       "0                   NaN                    NaN                 NaN   \n",
       "1                 CAMRY  ASTRO WRECKER SERVICE  independent repair   \n",
       "\n",
       "   Total Cost  Tow Destination Latitude  Tow Destination Longitude  \\\n",
       "0         NaN                       NaN                        NaN   \n",
       "1       325.0                     410.0                     -710.0   \n",
       "\n",
       "           Tow Destination Name  Was Duplicated  Was Towed To AAR Referral  \n",
       "0                           NaN             NaN                        NaN  \n",
       "1  Aar / Johnson's Auto Service             0.0                       10.0  "
      ]
     },
     "execution_count": 6,
     "metadata": {},
     "output_type": "execute_result"
    }
   ],
   "source": [
    "df_original.head(n=2)"
   ]
  },
  {
   "cell_type": "markdown",
   "metadata": {},
   "source": [
    "* General Info"
   ]
  },
  {
   "cell_type": "code",
   "execution_count": 7,
   "metadata": {},
   "outputs": [
    {
     "name": "stdout",
     "output_type": "stream",
     "text": [
      "<class 'pandas.core.frame.DataFrame'>\n",
      "RangeIndex: 21344 entries, 0 to 21343\n",
      "Columns: 113 entries, Column1 to Was Towed To AAR Referral\n",
      "dtypes: datetime64[ns](9), float64(31), int64(5), object(68)\n",
      "memory usage: 18.4+ MB\n"
     ]
    }
   ],
   "source": [
    "df_original.info()"
   ]
  },
  {
   "cell_type": "code",
   "execution_count": 8,
   "metadata": {},
   "outputs": [],
   "source": [
    "df_original.dtypes;"
   ]
  },
  {
   "cell_type": "markdown",
   "metadata": {},
   "source": [
    "# Data processing "
   ]
  },
  {
   "cell_type": "markdown",
   "metadata": {},
   "source": [
    "* Creating Dictionary to keep track of each operation and each filtering per operation"
   ]
  },
  {
   "cell_type": "code",
   "execution_count": 9,
   "metadata": {},
   "outputs": [],
   "source": [
    "removed_columns = {}\n",
    "removed_rows = {}"
   ]
  },
  {
   "cell_type": "markdown",
   "metadata": {},
   "source": [
    "## 1 - Dropping Erroneous Column (excel did that on converting the csv original file)"
   ]
  },
  {
   "cell_type": "markdown",
   "metadata": {},
   "source": [
    "    1.1 - Defining the key for this operation "
   ]
  },
  {
   "cell_type": "code",
   "execution_count": 10,
   "metadata": {},
   "outputs": [],
   "source": [
    "removed_columns['Erroneous Columns Removal'] = ['Column1'] "
   ]
  },
  {
   "cell_type": "markdown",
   "metadata": {},
   "source": [
    "    1.2 - Performing Filtering"
   ]
  },
  {
   "cell_type": "code",
   "execution_count": 11,
   "metadata": {},
   "outputs": [],
   "source": [
    "df_original.drop(columns='Column1', inplace=True)"
   ]
  },
  {
   "cell_type": "code",
   "execution_count": 12,
   "metadata": {},
   "outputs": [
    {
     "name": "stdout",
     "output_type": "stream",
     "text": [
      "<class 'pandas.core.frame.DataFrame'>\n",
      "RangeIndex: 21344 entries, 0 to 21343\n",
      "Columns: 112 entries, Individual Key to Was Towed To AAR Referral\n",
      "dtypes: datetime64[ns](9), float64(31), int64(4), object(68)\n",
      "memory usage: 18.2+ MB\n"
     ]
    }
   ],
   "source": [
    "df_original.info()"
   ]
  },
  {
   "cell_type": "markdown",
   "metadata": {},
   "source": [
    "## 2 - Grouping By Househol Key (main objective) and separate by variable type"
   ]
  },
  {
   "cell_type": "markdown",
   "metadata": {},
   "source": [
    "    2.1 - Defining Data Type Columns and creating individual DataFrame per each"
   ]
  },
  {
   "cell_type": "code",
   "execution_count": 13,
   "metadata": {},
   "outputs": [],
   "source": [
    "binary_columns = ['FSV CMSI Flag', 'FSV Credit Card Flag', 'FSV Deposit Program Flag', 'FSV Home Equity Flag', 'FSV ID Theft Flag', 'FSV Mortgage Flag', 'INS Client Flag', 'TRV Globalware Flag', 'Responded to Catalog', 'Mail Responder', 'Home Owner', 'Children', 'Gender', 'Bad Address Flag', 'Do Not Direct Mail Solicit', 'Email Available', 'Opt-Out - Publication', 'New Mover Flag', 'Occupant Type', 'Call Canceled', 'Call Killed', 'Cash Call', 'Fleet Indicator', 'Is Duplicate', 'Is NSR',\t'Member Match Flag', 'Was Duplicated',\t'Was Towed To AAR Referral'] # binary data that will be threat different from the rest of the numerical and categorical data\n",
    "\n",
    "binary = pd.DataFrame() # individual binary dataframe\n",
    "\n",
    "binary['Household Key'] = df_original['Household Key'] # concatenating household key column to perform groupby method\n",
    "\n",
    "numericals = pd.DataFrame() # individual numerical dataframe\n",
    "\n",
    "string = pd.DataFrame() # individual string dataframe\n",
    "\n",
    "string['Household Key'] = df_original['Household Key'] # concatenating household key column to perform groupby method\n",
    "\n",
    "dates = pd.DataFrame() # individual dates dataframe\n",
    "\n",
    "dates['Household Key'] = df_original['Household Key'] # concatenating household key column to perform groupby method"
   ]
  },
  {
   "cell_type": "markdown",
   "metadata": {},
   "source": [
    "    2.2 - Filling each Individual Dataframe with the proper columns"
   ]
  },
  {
   "cell_type": "code",
   "execution_count": 14,
   "metadata": {},
   "outputs": [
    {
     "data": {
      "application/vnd.jupyter.widget-view+json": {
       "model_id": "1d66990c542148da99b707d8f353a358",
       "version_major": 2,
       "version_minor": 0
      },
      "text/plain": [
       "HBox(children=(IntProgress(value=0, description='Process Progress', max=112, style=ProgressStyle(description_w…"
      ]
     },
     "metadata": {},
     "output_type": "display_data"
    },
    {
     "name": "stdout",
     "output_type": "stream",
     "text": [
      "\n"
     ]
    }
   ],
   "source": [
    "for c in tqdm_notebook(df_original.columns, desc='Process Progress'): # for all the columns\n",
    "\n",
    "    if c in binary_columns: # if the columns is in the binary categorie\n",
    "\n",
    "        binary[c] = df_original[c] # fill in the binary dataframe\n",
    "    \n",
    "    elif df_original.dtypes[c] in ['int64', 'float64']: # if the variables type of the given column are float or iteger\n",
    "\n",
    "        numericals[c] = df_original[c] # fill in the numerical dataframe\n",
    "\n",
    "    elif df_original.dtypes[c] in ['<M8[ns]']: # if the variables type of the given column are in the data format\n",
    "        \n",
    "        dates[c] = df_original[c] # fill in the date dataframe\n",
    "\n",
    "    else:\n",
    "\n",
    "        string[c] = df_original[c] # else, fill in the string dataframe\n",
    "    "
   ]
  },
  {
   "cell_type": "markdown",
   "metadata": {},
   "source": [
    "    2.3 - Grouping by Household Key"
   ]
  },
  {
   "cell_type": "code",
   "execution_count": 15,
   "metadata": {},
   "outputs": [],
   "source": [
    "numericals = numericals.groupby('Household Key').mean() # grouping by the mean of numerical values per each Household Key\n",
    "\n",
    "binary_numericals = binary.groupby('Household Key').mean() # grouping by the mean of binary values per each Household Key We still need to separate categorical and numerical binary variables to perform the groupby procedure in the categorical columns"
   ]
  },
  {
   "cell_type": "markdown",
   "metadata": {},
   "source": [
    "        2.3.1 - Converting Dates to Year and Separating Binary Numericals from Binary Categoricals"
   ]
  },
  {
   "cell_type": "code",
   "execution_count": 16,
   "metadata": {},
   "outputs": [
    {
     "data": {
      "application/vnd.jupyter.widget-view+json": {
       "model_id": "994bf4c0107948bca56fe0a988bacb19",
       "version_major": 2,
       "version_minor": 0
      },
      "text/plain": [
       "HBox(children=(IntProgress(value=0, description='Process Progress', max=29, style=ProgressStyle(description_wi…"
      ]
     },
     "metadata": {},
     "output_type": "display_data"
    },
    {
     "name": "stdout",
     "output_type": "stream",
     "text": [
      "\n"
     ]
    }
   ],
   "source": [
    "for c in tqdm_notebook(binary.columns, desc='Process Progress'): # Separating Binary Types\n",
    "    if (c != 'Household Key'): # we dont want to iterate over the Household Key unecessarily\n",
    "        if (binary.dtypes[c] in ['int64', 'float64']): # if the variables type of the given column are float or iteger \n",
    "\n",
    "            binary.drop(columns=c, inplace=True) # dropped from the future categorical binary dataframe"
   ]
  },
  {
   "cell_type": "code",
   "execution_count": 17,
   "metadata": {},
   "outputs": [
    {
     "data": {
      "application/vnd.jupyter.widget-view+json": {
       "model_id": "6c63ae6e57d74d83be2b415e74a1618c",
       "version_major": 2,
       "version_minor": 0
      },
      "text/plain": [
       "HBox(children=(IntProgress(value=0, description='Process Progress', max=10, style=ProgressStyle(description_wi…"
      ]
     },
     "metadata": {},
     "output_type": "display_data"
    },
    {
     "name": "stdout",
     "output_type": "stream",
     "text": [
      "\n"
     ]
    }
   ],
   "source": [
    "for c in tqdm_notebook(dates.columns, desc='Process Progress'): # Converting Dates into Years\n",
    "    if (c != 'Household Key'):\n",
    "        dates[c] = dates[c].astype('datetime64[ns]')\n",
    "        dates[c] = dates[c].dt.year\n",
    "        #dates[c] = dates[c].astype('int64')"
   ]
  },
  {
   "cell_type": "markdown",
   "metadata": {},
   "source": [
    "        2.3.2 - Grouping by mean and Household Key"
   ]
  },
  {
   "cell_type": "code",
   "execution_count": 18,
   "metadata": {},
   "outputs": [],
   "source": [
    "dates  = dates.groupby('Household Key').mean() # grouping by the mean of year values per each Household Key"
   ]
  },
  {
   "cell_type": "markdown",
   "metadata": {},
   "source": [
    "        2.3.3 - Grouping by mode and Household Key"
   ]
  },
  {
   "cell_type": "code",
   "execution_count": 19,
   "metadata": {},
   "outputs": [],
   "source": [
    "string = string.groupby('Household Key').apply(lambda x: x.mode()) # grouping by the mode of each categorical per each Household Key"
   ]
  },
  {
   "cell_type": "code",
   "execution_count": 20,
   "metadata": {},
   "outputs": [
    {
     "data": {
      "text/html": [
       "<div>\n",
       "<style scoped>\n",
       "    .dataframe tbody tr th:only-of-type {\n",
       "        vertical-align: middle;\n",
       "    }\n",
       "\n",
       "    .dataframe tbody tr th {\n",
       "        vertical-align: top;\n",
       "    }\n",
       "\n",
       "    .dataframe thead th {\n",
       "        text-align: right;\n",
       "    }\n",
       "</style>\n",
       "<table border=\"1\" class=\"dataframe\">\n",
       "  <thead>\n",
       "    <tr style=\"text-align: right;\">\n",
       "      <th></th>\n",
       "      <th></th>\n",
       "      <th>Household Key</th>\n",
       "      <th>Member Flag</th>\n",
       "      <th>City</th>\n",
       "      <th>State - Grouped</th>\n",
       "      <th>Number of Children</th>\n",
       "      <th>Race</th>\n",
       "      <th>Income</th>\n",
       "      <th>Education</th>\n",
       "      <th>Dwelling Type</th>\n",
       "      <th>Credit Ranges</th>\n",
       "      <th>Language</th>\n",
       "      <th>Billing Code Description</th>\n",
       "      <th>Branch Name</th>\n",
       "      <th>Cancel Reason</th>\n",
       "      <th>County</th>\n",
       "      <th>Email Status</th>\n",
       "      <th>Right_Gender</th>\n",
       "      <th>Member Map Location</th>\n",
       "      <th>Member Phone Type</th>\n",
       "      <th>Member Status</th>\n",
       "      <th>Member Type</th>\n",
       "      <th>Reason Joined</th>\n",
       "      <th>Renew Method</th>\n",
       "      <th>Mosaic Household</th>\n",
       "      <th>Mosaic Global Household</th>\n",
       "      <th>kcl_B_IND_MosaicsGrouping</th>\n",
       "      <th>Occupation Code</th>\n",
       "      <th>Occupation Group</th>\n",
       "      <th>Right_Dwelling Type</th>\n",
       "      <th>Move Distance</th>\n",
       "      <th>Breakdown Map Location</th>\n",
       "      <th>Breakdown City</th>\n",
       "      <th>Breakdown State</th>\n",
       "      <th>Call Status Recv Date</th>\n",
       "      <th>Clearing Code Last Description</th>\n",
       "      <th>Dispatch Code1 Description</th>\n",
       "      <th>DTL Prob1 Code Description</th>\n",
       "      <th>Motorcycle Indicator</th>\n",
       "      <th>Plus Indicator Description</th>\n",
       "      <th>Prob1 Code Description</th>\n",
       "      <th>Prob2 Code Description</th>\n",
       "      <th>SC Call Club Code Description</th>\n",
       "      <th>SC STS RSN Code Description</th>\n",
       "      <th>SC Vehicle Manufacturer Name</th>\n",
       "      <th>SC Vehicle Model Name</th>\n",
       "      <th>SVC Facility Name</th>\n",
       "      <th>SVC Facility Type</th>\n",
       "      <th>Tow Destination Name</th>\n",
       "    </tr>\n",
       "    <tr>\n",
       "      <th>Household Key</th>\n",
       "      <th></th>\n",
       "      <th></th>\n",
       "      <th></th>\n",
       "      <th></th>\n",
       "      <th></th>\n",
       "      <th></th>\n",
       "      <th></th>\n",
       "      <th></th>\n",
       "      <th></th>\n",
       "      <th></th>\n",
       "      <th></th>\n",
       "      <th></th>\n",
       "      <th></th>\n",
       "      <th></th>\n",
       "      <th></th>\n",
       "      <th></th>\n",
       "      <th></th>\n",
       "      <th></th>\n",
       "      <th></th>\n",
       "      <th></th>\n",
       "      <th></th>\n",
       "      <th></th>\n",
       "      <th></th>\n",
       "      <th></th>\n",
       "      <th></th>\n",
       "      <th></th>\n",
       "      <th></th>\n",
       "      <th></th>\n",
       "      <th></th>\n",
       "      <th></th>\n",
       "      <th></th>\n",
       "      <th></th>\n",
       "      <th></th>\n",
       "      <th></th>\n",
       "      <th></th>\n",
       "      <th></th>\n",
       "      <th></th>\n",
       "      <th></th>\n",
       "      <th></th>\n",
       "      <th></th>\n",
       "      <th></th>\n",
       "      <th></th>\n",
       "      <th></th>\n",
       "      <th></th>\n",
       "      <th></th>\n",
       "      <th></th>\n",
       "      <th></th>\n",
       "      <th></th>\n",
       "      <th></th>\n",
       "    </tr>\n",
       "  </thead>\n",
       "  <tbody>\n",
       "    <tr>\n",
       "      <th rowspan=\"2\" valign=\"top\">8750</th>\n",
       "      <th>0</th>\n",
       "      <td>8750.0</td>\n",
       "      <td>Y</td>\n",
       "      <td>CRANSTON</td>\n",
       "      <td>RI</td>\n",
       "      <td>NaN</td>\n",
       "      <td>NaN</td>\n",
       "      <td>NaN</td>\n",
       "      <td>NaN</td>\n",
       "      <td>SFDU</td>\n",
       "      <td>NaN</td>\n",
       "      <td>NaN</td>\n",
       "      <td>Renewal Mbr Billing</td>\n",
       "      <td>RI - CRANSTON BRANCH</td>\n",
       "      <td>Non-Payment</td>\n",
       "      <td>PROVIDENCE</td>\n",
       "      <td>Active</td>\n",
       "      <td>NaN</td>\n",
       "      <td>{41.7658,-71.4978}</td>\n",
       "      <td>Wireless</td>\n",
       "      <td>ACTIVE</td>\n",
       "      <td>Associate</td>\n",
       "      <td>NaN</td>\n",
       "      <td>NOTICE</td>\n",
       "      <td>Couples with Clout</td>\n",
       "      <td>Bourgeois Prosperity</td>\n",
       "      <td>Power Elite</td>\n",
       "      <td>NaN</td>\n",
       "      <td>NaN</td>\n",
       "      <td>Multi Family With</td>\n",
       "      <td>1 to 5 Miles</td>\n",
       "      <td>{41,-71}</td>\n",
       "      <td>Cranston</td>\n",
       "      <td>RI</td>\n",
       "      <td>2014-09-27 17:54:38</td>\n",
       "      <td>Normal Service</td>\n",
       "      <td>Flat Tire w/spare</td>\n",
       "      <td>Flat Tire w/spare</td>\n",
       "      <td>N</td>\n",
       "      <td>Plus Membership</td>\n",
       "      <td>Tow</td>\n",
       "      <td>NaN</td>\n",
       "      <td>AAA Northeast</td>\n",
       "      <td>Normal Service</td>\n",
       "      <td>PONTIAC</td>\n",
       "      <td>GRAND AM</td>\n",
       "      <td>AAA SNE RI  LIGHT SERVICE</td>\n",
       "      <td>mobile battery service</td>\n",
       "      <td>Mobil</td>\n",
       "    </tr>\n",
       "    <tr>\n",
       "      <th>1</th>\n",
       "      <td>NaN</td>\n",
       "      <td>NaN</td>\n",
       "      <td>NaN</td>\n",
       "      <td>NaN</td>\n",
       "      <td>NaN</td>\n",
       "      <td>NaN</td>\n",
       "      <td>NaN</td>\n",
       "      <td>NaN</td>\n",
       "      <td>NaN</td>\n",
       "      <td>NaN</td>\n",
       "      <td>NaN</td>\n",
       "      <td>NaN</td>\n",
       "      <td>NaN</td>\n",
       "      <td>NaN</td>\n",
       "      <td>NaN</td>\n",
       "      <td>Unsubscribed</td>\n",
       "      <td>NaN</td>\n",
       "      <td>NaN</td>\n",
       "      <td>NaN</td>\n",
       "      <td>NaN</td>\n",
       "      <td>NaN</td>\n",
       "      <td>NaN</td>\n",
       "      <td>NaN</td>\n",
       "      <td>NaN</td>\n",
       "      <td>NaN</td>\n",
       "      <td>NaN</td>\n",
       "      <td>NaN</td>\n",
       "      <td>NaN</td>\n",
       "      <td>NaN</td>\n",
       "      <td>NaN</td>\n",
       "      <td>NaN</td>\n",
       "      <td>NaN</td>\n",
       "      <td>NaN</td>\n",
       "      <td>2014-09-29 06:34:41</td>\n",
       "      <td>NaN</td>\n",
       "      <td>Transmission/Clutch Failure</td>\n",
       "      <td>Transmission/Clutch Failure</td>\n",
       "      <td>NaN</td>\n",
       "      <td>NaN</td>\n",
       "      <td>NaN</td>\n",
       "      <td>NaN</td>\n",
       "      <td>NaN</td>\n",
       "      <td>NaN</td>\n",
       "      <td>TOYOTA</td>\n",
       "      <td>NaN</td>\n",
       "      <td>NaN</td>\n",
       "      <td>NaN</td>\n",
       "      <td>Oaklawn Mobile</td>\n",
       "    </tr>\n",
       "  </tbody>\n",
       "</table>\n",
       "</div>"
      ],
      "text/plain": [
       "                 Household Key Member Flag      City State - Grouped  \\\n",
       "Household Key                                                          \n",
       "8750          0         8750.0           Y  CRANSTON              RI   \n",
       "              1            NaN         NaN       NaN             NaN   \n",
       "\n",
       "                Number of Children Race Income Education Dwelling Type  \\\n",
       "Household Key                                                            \n",
       "8750          0                NaN  NaN    NaN       NaN          SFDU   \n",
       "              1                NaN  NaN    NaN       NaN           NaN   \n",
       "\n",
       "                Credit Ranges Language Billing Code Description  \\\n",
       "Household Key                                                     \n",
       "8750          0           NaN      NaN      Renewal Mbr Billing   \n",
       "              1           NaN      NaN                      NaN   \n",
       "\n",
       "                          Branch Name Cancel Reason      County  Email Status  \\\n",
       "Household Key                                                                   \n",
       "8750          0  RI - CRANSTON BRANCH   Non-Payment  PROVIDENCE        Active   \n",
       "              1                   NaN           NaN         NaN  Unsubscribed   \n",
       "\n",
       "                Right_Gender Member Map Location Member Phone Type  \\\n",
       "Household Key                                                        \n",
       "8750          0          NaN  {41.7658,-71.4978}          Wireless   \n",
       "              1          NaN                 NaN               NaN   \n",
       "\n",
       "                Member Status Member Type Reason Joined Renew Method  \\\n",
       "Household Key                                                          \n",
       "8750          0        ACTIVE   Associate           NaN       NOTICE   \n",
       "              1           NaN         NaN           NaN          NaN   \n",
       "\n",
       "                   Mosaic Household Mosaic Global Household  \\\n",
       "Household Key                                                 \n",
       "8750          0  Couples with Clout    Bourgeois Prosperity   \n",
       "              1                 NaN                     NaN   \n",
       "\n",
       "                kcl_B_IND_MosaicsGrouping Occupation Code Occupation Group  \\\n",
       "Household Key                                                                \n",
       "8750          0               Power Elite             NaN              NaN   \n",
       "              1                       NaN             NaN              NaN   \n",
       "\n",
       "                Right_Dwelling Type Move Distance Breakdown Map Location  \\\n",
       "Household Key                                                              \n",
       "8750          0   Multi Family With  1 to 5 Miles               {41,-71}   \n",
       "              1                 NaN           NaN                    NaN   \n",
       "\n",
       "                Breakdown City Breakdown State Call Status Recv Date  \\\n",
       "Household Key                                                          \n",
       "8750          0       Cranston              RI   2014-09-27 17:54:38   \n",
       "              1            NaN             NaN   2014-09-29 06:34:41   \n",
       "\n",
       "                Clearing Code Last Description   Dispatch Code1 Description  \\\n",
       "Household Key                                                                 \n",
       "8750          0                 Normal Service            Flat Tire w/spare   \n",
       "              1                            NaN  Transmission/Clutch Failure   \n",
       "\n",
       "                  DTL Prob1 Code Description Motorcycle Indicator  \\\n",
       "Household Key                                                       \n",
       "8750          0            Flat Tire w/spare                    N   \n",
       "              1  Transmission/Clutch Failure                  NaN   \n",
       "\n",
       "                Plus Indicator Description Prob1 Code Description  \\\n",
       "Household Key                                                       \n",
       "8750          0            Plus Membership                    Tow   \n",
       "              1                        NaN                    NaN   \n",
       "\n",
       "                Prob2 Code Description SC Call Club Code Description  \\\n",
       "Household Key                                                          \n",
       "8750          0                    NaN                 AAA Northeast   \n",
       "              1                    NaN                           NaN   \n",
       "\n",
       "                SC STS RSN Code Description SC Vehicle Manufacturer Name  \\\n",
       "Household Key                                                              \n",
       "8750          0              Normal Service                      PONTIAC   \n",
       "              1                         NaN                       TOYOTA   \n",
       "\n",
       "                SC Vehicle Model Name          SVC Facility Name  \\\n",
       "Household Key                                                      \n",
       "8750          0              GRAND AM  AAA SNE RI  LIGHT SERVICE   \n",
       "              1                   NaN                        NaN   \n",
       "\n",
       "                      SVC Facility Type Tow Destination Name  \n",
       "Household Key                                                 \n",
       "8750          0  mobile battery service                Mobil  \n",
       "              1                     NaN       Oaklawn Mobile  "
      ]
     },
     "execution_count": 20,
     "metadata": {},
     "output_type": "execute_result"
    }
   ],
   "source": [
    "string.head(n=2) # by some reason, the groupby method by the mode of string columns returned a multi-index dataframe. Therefore, we need to remove the multi-index of this dataframe to move further our analysis"
   ]
  },
  {
   "cell_type": "code",
   "execution_count": 21,
   "metadata": {},
   "outputs": [],
   "source": [
    "post_processed_string = pd.DataFrame() # creating a new dataframe for the post processed string variable"
   ]
  },
  {
   "cell_type": "code",
   "execution_count": 22,
   "metadata": {},
   "outputs": [
    {
     "data": {
      "application/vnd.jupyter.widget-view+json": {
       "model_id": "fcc46cf9901b460687a5198363a0d8a7",
       "version_major": 2,
       "version_minor": 0
      },
      "text/plain": [
       "HBox(children=(IntProgress(value=0, description='Process Progress', max=5241, style=ProgressStyle(description_…"
      ]
     },
     "metadata": {},
     "output_type": "display_data"
    },
    {
     "name": "stdout",
     "output_type": "stream",
     "text": [
      "\n"
     ]
    }
   ],
   "source": [
    "for house_id in tqdm_notebook(df_original['Household Key'].unique().tolist(), desc='Process Progress'): # iterating over all unique Household Keys\n",
    "\n",
    "    if len(string.loc[house_id].index.tolist()) > 1: # if, for a given Household Key, we have more then one multi-index value\n",
    "\n",
    "        result = string.loc[house_id].iloc[0] + string.loc[house_id].iloc[1] # we sum the first two rows\n",
    "\n",
    "        non_null_indexes = np.where(string.loc[house_id].iloc[1].isnull().tolist())[0] # we evaluate which of them were not null before the sum procedure\n",
    "\n",
    "        for i in np.where(string.loc[house_id].iloc[1].isnull().tolist())[0]: # we iterate over the indexes that were not null before the sum procedure\n",
    "\n",
    "            result[i] = string.loc[house_id].iloc[0][i] # we replace by the previous non null value\n",
    "\n",
    "        post_processed_string = pd.concat([post_processed_string, result.to_frame().T]) # and we store on our new dataframe\n",
    "\n",
    "    else: # if, for a given Household Key, we have only one multi-index value\n",
    "\n",
    "        result = string.loc[house_id].iloc[0] # we store it because we can not change it so far\n",
    "\n",
    "        post_processed_string = pd.concat([post_processed_string, result.to_frame().T]) # # and we store on our new dataframe"
   ]
  },
  {
   "cell_type": "code",
   "execution_count": 23,
   "metadata": {},
   "outputs": [
    {
     "data": {
      "text/html": [
       "<div>\n",
       "<style scoped>\n",
       "    .dataframe tbody tr th:only-of-type {\n",
       "        vertical-align: middle;\n",
       "    }\n",
       "\n",
       "    .dataframe tbody tr th {\n",
       "        vertical-align: top;\n",
       "    }\n",
       "\n",
       "    .dataframe thead th {\n",
       "        text-align: right;\n",
       "    }\n",
       "</style>\n",
       "<table border=\"1\" class=\"dataframe\">\n",
       "  <thead>\n",
       "    <tr style=\"text-align: right;\">\n",
       "      <th></th>\n",
       "      <th>Member Flag</th>\n",
       "      <th>City</th>\n",
       "      <th>State - Grouped</th>\n",
       "      <th>Number of Children</th>\n",
       "      <th>Race</th>\n",
       "      <th>Income</th>\n",
       "      <th>Education</th>\n",
       "      <th>Dwelling Type</th>\n",
       "      <th>Credit Ranges</th>\n",
       "      <th>Language</th>\n",
       "      <th>Billing Code Description</th>\n",
       "      <th>Branch Name</th>\n",
       "      <th>Cancel Reason</th>\n",
       "      <th>County</th>\n",
       "      <th>Email Status</th>\n",
       "      <th>Right_Gender</th>\n",
       "      <th>Member Map Location</th>\n",
       "      <th>Member Phone Type</th>\n",
       "      <th>Member Status</th>\n",
       "      <th>Member Type</th>\n",
       "      <th>Reason Joined</th>\n",
       "      <th>Renew Method</th>\n",
       "      <th>Mosaic Household</th>\n",
       "      <th>Mosaic Global Household</th>\n",
       "      <th>kcl_B_IND_MosaicsGrouping</th>\n",
       "      <th>Occupation Code</th>\n",
       "      <th>Occupation Group</th>\n",
       "      <th>Right_Dwelling Type</th>\n",
       "      <th>Move Distance</th>\n",
       "      <th>Breakdown Map Location</th>\n",
       "      <th>Breakdown City</th>\n",
       "      <th>Breakdown State</th>\n",
       "      <th>Call Status Recv Date</th>\n",
       "      <th>Clearing Code Last Description</th>\n",
       "      <th>Dispatch Code1 Description</th>\n",
       "      <th>DTL Prob1 Code Description</th>\n",
       "      <th>Motorcycle Indicator</th>\n",
       "      <th>Plus Indicator Description</th>\n",
       "      <th>Prob1 Code Description</th>\n",
       "      <th>Prob2 Code Description</th>\n",
       "      <th>SC Call Club Code Description</th>\n",
       "      <th>SC STS RSN Code Description</th>\n",
       "      <th>SC Vehicle Manufacturer Name</th>\n",
       "      <th>SC Vehicle Model Name</th>\n",
       "      <th>SVC Facility Name</th>\n",
       "      <th>SVC Facility Type</th>\n",
       "      <th>Tow Destination Name</th>\n",
       "    </tr>\n",
       "    <tr>\n",
       "      <th>Household Key</th>\n",
       "      <th></th>\n",
       "      <th></th>\n",
       "      <th></th>\n",
       "      <th></th>\n",
       "      <th></th>\n",
       "      <th></th>\n",
       "      <th></th>\n",
       "      <th></th>\n",
       "      <th></th>\n",
       "      <th></th>\n",
       "      <th></th>\n",
       "      <th></th>\n",
       "      <th></th>\n",
       "      <th></th>\n",
       "      <th></th>\n",
       "      <th></th>\n",
       "      <th></th>\n",
       "      <th></th>\n",
       "      <th></th>\n",
       "      <th></th>\n",
       "      <th></th>\n",
       "      <th></th>\n",
       "      <th></th>\n",
       "      <th></th>\n",
       "      <th></th>\n",
       "      <th></th>\n",
       "      <th></th>\n",
       "      <th></th>\n",
       "      <th></th>\n",
       "      <th></th>\n",
       "      <th></th>\n",
       "      <th></th>\n",
       "      <th></th>\n",
       "      <th></th>\n",
       "      <th></th>\n",
       "      <th></th>\n",
       "      <th></th>\n",
       "      <th></th>\n",
       "      <th></th>\n",
       "      <th></th>\n",
       "      <th></th>\n",
       "      <th></th>\n",
       "      <th></th>\n",
       "      <th></th>\n",
       "      <th></th>\n",
       "      <th></th>\n",
       "      <th></th>\n",
       "    </tr>\n",
       "  </thead>\n",
       "  <tbody>\n",
       "    <tr>\n",
       "      <th>104625900</th>\n",
       "      <td>Y</td>\n",
       "      <td>NEW HAVEN</td>\n",
       "      <td>CT</td>\n",
       "      <td>NaN</td>\n",
       "      <td>NaN</td>\n",
       "      <td>NaN</td>\n",
       "      <td>NaN</td>\n",
       "      <td>Small or large multi-family w/apt number</td>\n",
       "      <td>NaN</td>\n",
       "      <td>NaN</td>\n",
       "      <td>NaN</td>\n",
       "      <td>NaN</td>\n",
       "      <td>NaN</td>\n",
       "      <td>NaN</td>\n",
       "      <td>NaN</td>\n",
       "      <td>NaN</td>\n",
       "      <td>NaN</td>\n",
       "      <td>NaN</td>\n",
       "      <td>NaN</td>\n",
       "      <td>NaN</td>\n",
       "      <td>NaN</td>\n",
       "      <td>NaN</td>\n",
       "      <td>NaN</td>\n",
       "      <td>NaN</td>\n",
       "      <td>NaN</td>\n",
       "      <td>NaN</td>\n",
       "      <td>NaN</td>\n",
       "      <td>NaN</td>\n",
       "      <td>NaN</td>\n",
       "      <td>NaN</td>\n",
       "      <td>NaN</td>\n",
       "      <td>NaN</td>\n",
       "      <td>NaN</td>\n",
       "      <td>NaN</td>\n",
       "      <td>NaN</td>\n",
       "      <td>NaN</td>\n",
       "      <td>NaN</td>\n",
       "      <td>NaN</td>\n",
       "      <td>NaN</td>\n",
       "      <td>NaN</td>\n",
       "      <td>NaN</td>\n",
       "      <td>NaN</td>\n",
       "      <td>NaN</td>\n",
       "      <td>NaN</td>\n",
       "      <td>NaN</td>\n",
       "      <td>NaN</td>\n",
       "      <td>NaN</td>\n",
       "    </tr>\n",
       "    <tr>\n",
       "      <th>45007910</th>\n",
       "      <td>Y</td>\n",
       "      <td>WEST WARWICK</td>\n",
       "      <td>RI</td>\n",
       "      <td>One Child</td>\n",
       "      <td>Caucasion / White - English</td>\n",
       "      <td>30-39,999</td>\n",
       "      <td>Some College</td>\n",
       "      <td>Small or large multi-family w/apt number</td>\n",
       "      <td>600-649</td>\n",
       "      <td>English</td>\n",
       "      <td>New Member</td>\n",
       "      <td>RI - WARWICK BRANCH</td>\n",
       "      <td>NaN</td>\n",
       "      <td>KENT</td>\n",
       "      <td>NaN</td>\n",
       "      <td>NaN</td>\n",
       "      <td>{41.696,-71.5308}</td>\n",
       "      <td>VoIP</td>\n",
       "      <td>ACTIVE</td>\n",
       "      <td>Primary</td>\n",
       "      <td>NaN</td>\n",
       "      <td>AUTO RENEW</td>\n",
       "      <td>Senior Discounts</td>\n",
       "      <td>Low Income Elders</td>\n",
       "      <td>Golden Year Guardians</td>\n",
       "      <td>NaN</td>\n",
       "      <td>NaN</td>\n",
       "      <td>NaN</td>\n",
       "      <td>NaN</td>\n",
       "      <td>{41,-71}</td>\n",
       "      <td>West Warwick</td>\n",
       "      <td>RI</td>\n",
       "      <td>2015-01-29 14:34:292015-09-25 16:26:14</td>\n",
       "      <td>Normal Service</td>\n",
       "      <td>Member Requests Battery Service</td>\n",
       "      <td>Member Requests Battery Service</td>\n",
       "      <td>N</td>\n",
       "      <td>Basic Membership</td>\n",
       "      <td>Battery Service</td>\n",
       "      <td>NaN</td>\n",
       "      <td>AAA Northeast</td>\n",
       "      <td>Normal Service</td>\n",
       "      <td>TOYOTA</td>\n",
       "      <td>CAMRY</td>\n",
       "      <td>ASTRO WRECKER SERVICEAstro Wrecker Service</td>\n",
       "      <td>independent repair</td>\n",
       "      <td>Aar / Johnson's Auto Service</td>\n",
       "    </tr>\n",
       "    <tr>\n",
       "      <th>43175160</th>\n",
       "      <td>Y</td>\n",
       "      <td>TIVERTON</td>\n",
       "      <td>RI</td>\n",
       "      <td>NaN</td>\n",
       "      <td>NaN</td>\n",
       "      <td>NaN</td>\n",
       "      <td>NaN</td>\n",
       "      <td>SFDU</td>\n",
       "      <td>NaN</td>\n",
       "      <td>NaN</td>\n",
       "      <td>Cancellation</td>\n",
       "      <td>RI - BARRINGTON BRANCH</td>\n",
       "      <td>Deceased</td>\n",
       "      <td>NEWPORT</td>\n",
       "      <td>NaN</td>\n",
       "      <td>NaN</td>\n",
       "      <td>{41.673,-71.1886}</td>\n",
       "      <td>NaN</td>\n",
       "      <td>CANCELLED</td>\n",
       "      <td>Primary</td>\n",
       "      <td>NaN</td>\n",
       "      <td>NOTICE</td>\n",
       "      <td>Aging in Place</td>\n",
       "      <td>Comfortable Retirement</td>\n",
       "      <td>Autumn Years</td>\n",
       "      <td>NaN</td>\n",
       "      <td>NaN</td>\n",
       "      <td>NaN</td>\n",
       "      <td>NaN</td>\n",
       "      <td>NaN</td>\n",
       "      <td>NaN</td>\n",
       "      <td>NaN</td>\n",
       "      <td>NaN</td>\n",
       "      <td>NaN</td>\n",
       "      <td>NaN</td>\n",
       "      <td>NaN</td>\n",
       "      <td>NaN</td>\n",
       "      <td>NaN</td>\n",
       "      <td>NaN</td>\n",
       "      <td>NaN</td>\n",
       "      <td>NaN</td>\n",
       "      <td>NaN</td>\n",
       "      <td>NaN</td>\n",
       "      <td>NaN</td>\n",
       "      <td>NaN</td>\n",
       "      <td>NaN</td>\n",
       "      <td>NaN</td>\n",
       "    </tr>\n",
       "  </tbody>\n",
       "</table>\n",
       "</div>"
      ],
      "text/plain": [
       "              Member Flag          City State - Grouped Number of Children  \\\n",
       "Household Key                                                                \n",
       "104625900               Y     NEW HAVEN              CT                NaN   \n",
       "45007910                Y  WEST WARWICK              RI          One Child   \n",
       "43175160                Y      TIVERTON              RI                NaN   \n",
       "\n",
       "                                      Race     Income     Education  \\\n",
       "Household Key                                                         \n",
       "104625900                              NaN        NaN           NaN   \n",
       "45007910       Caucasion / White - English  30-39,999  Some College   \n",
       "43175160                               NaN        NaN           NaN   \n",
       "\n",
       "                                          Dwelling Type Credit Ranges  \\\n",
       "Household Key                                                           \n",
       "104625900      Small or large multi-family w/apt number           NaN   \n",
       "45007910       Small or large multi-family w/apt number       600-649   \n",
       "43175160                                           SFDU           NaN   \n",
       "\n",
       "              Language Billing Code Description             Branch Name  \\\n",
       "Household Key                                                             \n",
       "104625900          NaN                      NaN                     NaN   \n",
       "45007910       English               New Member     RI - WARWICK BRANCH   \n",
       "43175160           NaN             Cancellation  RI - BARRINGTON BRANCH   \n",
       "\n",
       "              Cancel Reason   County Email Status Right_Gender  \\\n",
       "Household Key                                                    \n",
       "104625900               NaN      NaN          NaN          NaN   \n",
       "45007910                NaN     KENT          NaN          NaN   \n",
       "43175160           Deceased  NEWPORT          NaN          NaN   \n",
       "\n",
       "              Member Map Location Member Phone Type Member Status Member Type  \\\n",
       "Household Key                                                                   \n",
       "104625900                     NaN               NaN           NaN         NaN   \n",
       "45007910        {41.696,-71.5308}              VoIP        ACTIVE     Primary   \n",
       "43175160        {41.673,-71.1886}               NaN     CANCELLED     Primary   \n",
       "\n",
       "              Reason Joined Renew Method  Mosaic Household  \\\n",
       "Household Key                                                \n",
       "104625900               NaN          NaN               NaN   \n",
       "45007910                NaN   AUTO RENEW  Senior Discounts   \n",
       "43175160                NaN       NOTICE    Aging in Place   \n",
       "\n",
       "              Mosaic Global Household kcl_B_IND_MosaicsGrouping  \\\n",
       "Household Key                                                     \n",
       "104625900                         NaN                       NaN   \n",
       "45007910            Low Income Elders     Golden Year Guardians   \n",
       "43175160       Comfortable Retirement              Autumn Years   \n",
       "\n",
       "              Occupation Code Occupation Group Right_Dwelling Type  \\\n",
       "Household Key                                                        \n",
       "104625900                 NaN              NaN                 NaN   \n",
       "45007910                  NaN              NaN                 NaN   \n",
       "43175160                  NaN              NaN                 NaN   \n",
       "\n",
       "              Move Distance Breakdown Map Location Breakdown City  \\\n",
       "Household Key                                                       \n",
       "104625900               NaN                    NaN            NaN   \n",
       "45007910                NaN               {41,-71}   West Warwick   \n",
       "43175160                NaN                    NaN            NaN   \n",
       "\n",
       "              Breakdown State                   Call Status Recv Date  \\\n",
       "Household Key                                                           \n",
       "104625900                 NaN                                     NaN   \n",
       "45007910                   RI  2015-01-29 14:34:292015-09-25 16:26:14   \n",
       "43175160                  NaN                                     NaN   \n",
       "\n",
       "              Clearing Code Last Description       Dispatch Code1 Description  \\\n",
       "Household Key                                                                   \n",
       "104625900                                NaN                              NaN   \n",
       "45007910                      Normal Service  Member Requests Battery Service   \n",
       "43175160                                 NaN                              NaN   \n",
       "\n",
       "                    DTL Prob1 Code Description Motorcycle Indicator  \\\n",
       "Household Key                                                         \n",
       "104625900                                  NaN                  NaN   \n",
       "45007910       Member Requests Battery Service                    N   \n",
       "43175160                                   NaN                  NaN   \n",
       "\n",
       "              Plus Indicator Description Prob1 Code Description  \\\n",
       "Household Key                                                     \n",
       "104625900                            NaN                    NaN   \n",
       "45007910                Basic Membership        Battery Service   \n",
       "43175160                             NaN                    NaN   \n",
       "\n",
       "              Prob2 Code Description SC Call Club Code Description  \\\n",
       "Household Key                                                        \n",
       "104625900                        NaN                           NaN   \n",
       "45007910                         NaN                 AAA Northeast   \n",
       "43175160                         NaN                           NaN   \n",
       "\n",
       "              SC STS RSN Code Description SC Vehicle Manufacturer Name  \\\n",
       "Household Key                                                            \n",
       "104625900                             NaN                          NaN   \n",
       "45007910                   Normal Service                       TOYOTA   \n",
       "43175160                              NaN                          NaN   \n",
       "\n",
       "              SC Vehicle Model Name  \\\n",
       "Household Key                         \n",
       "104625900                       NaN   \n",
       "45007910                      CAMRY   \n",
       "43175160                        NaN   \n",
       "\n",
       "                                        SVC Facility Name   SVC Facility Type  \\\n",
       "Household Key                                                                   \n",
       "104625900                                             NaN                 NaN   \n",
       "45007910       ASTRO WRECKER SERVICEAstro Wrecker Service  independent repair   \n",
       "43175160                                              NaN                 NaN   \n",
       "\n",
       "                       Tow Destination Name  \n",
       "Household Key                                \n",
       "104625900                               NaN  \n",
       "45007910       Aar / Johnson's Auto Service  \n",
       "43175160                                NaN  "
      ]
     },
     "execution_count": 23,
     "metadata": {},
     "output_type": "execute_result"
    }
   ],
   "source": [
    "post_processed_string = post_processed_string.set_index('Household Key') # set index to be sorted as Household Key values\n",
    "\n",
    "post_processed_string.index = post_processed_string.index.astype(int) # converting the index to iterger\n",
    "\n",
    "post_processed_string.head(n=3)"
   ]
  },
  {
   "cell_type": "code",
   "execution_count": null,
   "metadata": {},
   "outputs": [],
   "source": [
    "binary_categoricals = binary.groupby('Household Key').apply(lambda x: x.mode()) # grouping by the mode of each categorical per each Household Key"
   ]
  },
  {
   "cell_type": "code",
   "execution_count": null,
   "metadata": {},
   "outputs": [],
   "source": [
    "binary_categoricals.head(n=5) # by some reason, the groupby method by the mode of binary_categoricals columns returned a multi-index dataframe. Therefore, we need to remove the multi-index of this dataframe to move further our analysis"
   ]
  },
  {
   "cell_type": "code",
   "execution_count": null,
   "metadata": {},
   "outputs": [],
   "source": [
    "post_processed_binary_categoricals = pd.DataFrame() # creating a new dataframe for the post processed string variable"
   ]
  },
  {
   "cell_type": "code",
   "execution_count": null,
   "metadata": {},
   "outputs": [],
   "source": [
    "for house_id in tqdm_notebook(df_original['Household Key'].unique().tolist(), desc='Process Progress'): # iterating over all unique Household Keys\n",
    "\n",
    "    if len(binary_categoricals.loc[house_id].index.tolist()) > 1: # if, for a given Household Key, we have more then one multi-index value\n",
    "\n",
    "        result = binary_categoricals.loc[house_id].iloc[0] + binary_categoricals.loc[house_id].iloc[1] # we sum the first two rows\n",
    "\n",
    "        non_null_indexes = np.where(binary_categoricals.loc[house_id].iloc[1].isnull().tolist())[0] # we evaluate which of them were not null before the sum procedure\n",
    "\n",
    "        for i in np.where(binary_categoricals.loc[house_id].iloc[1].isnull().tolist())[0]: # we iterate over the indexes that were not null before the sum procedure\n",
    "\n",
    "            result[i] = binary_categoricals.loc[house_id].iloc[0][i] # we replace by the previous non null value\n",
    "\n",
    "        post_processed_binary_categoricals = pd.concat([post_processed_binary_categoricals, result.to_frame().T]) # and we store on our new dataframe\n",
    "\n",
    "    else: # if, for a given Household Key, we have only one multi-index value\n",
    "\n",
    "        result = binary_categoricals.loc[house_id].iloc[0] # we store it because we can not change it so far\n",
    "\n",
    "        post_processed_binary_categoricals = pd.concat([post_processed_binary_categoricals, result.to_frame().T]) # # and we store on our new dataframe"
   ]
  },
  {
   "cell_type": "code",
   "execution_count": null,
   "metadata": {},
   "outputs": [],
   "source": [
    "post_processed_binary_categoricals = post_processed_binary_categoricals.set_index('Household Key') # set index to be sorted as Household Key values\n",
    "\n",
    "post_processed_binary_categoricals.index = post_processed_binary_categoricals.index.astype(int) # converting the index to iterger\n",
    "\n",
    "post_processed_binary_categoricals.head(n=3)"
   ]
  },
  {
   "cell_type": "code",
   "execution_count": null,
   "metadata": {},
   "outputs": [],
   "source": [
    "print(len(numericals.index), len(binary_numericals.index), len(post_processed_binary_categoricals.index), len(dates.index), len(post_processed_string.index)) # number of rows per type of variable"
   ]
  },
  {
   "cell_type": "code",
   "execution_count": null,
   "metadata": {},
   "outputs": [],
   "source": [
    "print(len(numericals.columns), len(binary_numericals.columns), len(post_processed_binary_categoricals.columns), len(dates.columns), len(post_processed_string.columns)) # number of columns per type of variable"
   ]
  },
  {
   "cell_type": "markdown",
   "metadata": {},
   "source": [
    "## 3 - Evaluating number of null values"
   ]
  },
  {
   "cell_type": "code",
   "execution_count": null,
   "metadata": {},
   "outputs": [],
   "source": [
    "columns_nullval_ratio = {} # dictionary of null values ration for all columns\n",
    "\n",
    "sequence = ['Numerical', 'Binary Numericals', 'Dates', 'Binary Categoricals', 'Strings'] # key sequence for dictionaries\n",
    "\n",
    "data_type_collection = [numericals, binary_numericals, dates, post_processed_binary_categoricals, post_processed_string] # list of dataframes per each data type\n",
    "\n",
    "for var_type, idx in zip(sequence, range(len(sequence))): \n",
    "\n",
    "    columns_nullval_ratio[var_type] = (data_type_collection[idx].isnull().sum() * 100 / len(data_type_collection[idx])).sort_values(ascending=False) # filling dataframe dictionary"
   ]
  },
  {
   "cell_type": "code",
   "execution_count": null,
   "metadata": {},
   "outputs": [],
   "source": [
    "for var_type in sequence:\n",
    "\n",
    "    print(var_type +' Column Null Values','\\n', columns_nullval_ratio[var_type], '\\n') # extensive print, beware"
   ]
  },
  {
   "cell_type": "markdown",
   "metadata": {},
   "source": [
    "    3.1 - Removing columns beyond given threshold"
   ]
  },
  {
   "cell_type": "markdown",
   "metadata": {},
   "source": [
    "            3.1.1 - First Checkpoint"
   ]
  },
  {
   "cell_type": "code",
   "execution_count": null,
   "metadata": {},
   "outputs": [],
   "source": [
    "checkpoint_1 = {} # creating dictionary for the first checkpoint\n",
    "\n",
    "for var_type, idx in zip(sequence, range(len(sequence))): \n",
    "    checkpoint_1[var_type] = data_type_collection[idx].copy() # filling it with all types of dataframes"
   ]
  },
  {
   "cell_type": "markdown",
   "metadata": {},
   "source": [
    "            3.1.2 - Defining Column Threshold "
   ]
  },
  {
   "cell_type": "code",
   "execution_count": null,
   "metadata": {},
   "outputs": [],
   "source": [
    "column_threshold = 40.0 # threshold of 40 %"
   ]
  },
  {
   "cell_type": "markdown",
   "metadata": {},
   "source": [
    "            3.1.3 - Defining the key for this operation"
   ]
  },
  {
   "cell_type": "code",
   "execution_count": null,
   "metadata": {},
   "outputs": [],
   "source": [
    "key2 = str(column_threshold) + '% Column Threshold Removal' # key for our track removal dictionary\n",
    "\n",
    "removed_columns[key2] = [] # adding to the new key to the dictionary"
   ]
  },
  {
   "cell_type": "markdown",
   "metadata": {},
   "source": [
    "            3.1.4 - Performing Filtering"
   ]
  },
  {
   "cell_type": "code",
   "execution_count": null,
   "metadata": {},
   "outputs": [],
   "source": [
    "for c in tqdm_notebook(df_original.columns, desc='Process Progress'): # for all columns on the original dataframe\n",
    "    for var_type in sequence: # for all type of separatable dataframe \n",
    "\n",
    "        if (c == 'Occupation Code') or (c == 'Occupation Group'): # we want to preserve these two columns although we already now they would not pass the column threshold limit\n",
    "            pass\n",
    "        \n",
    "        else:\n",
    "\n",
    "            if c in checkpoint_1[var_type].columns: # if the column is in the list of columns of the given type of dataframe\n",
    "\n",
    "                if columns_nullval_ratio[var_type][c] >= column_threshold: # we check if the same does not satisfies the threshold limit\n",
    "\n",
    "                    checkpoint_1[var_type].drop(columns=c, inplace=True) # in this case we remove the given column from the given type of dataframe\n",
    "                \n",
    "                    removed_columns[key2].append(c) # and we add its name to the list of removed columns\n",
    "\n",
    "print('Removed Columns after filtering process: ', removed_columns[key2])"
   ]
  },
  {
   "cell_type": "code",
   "execution_count": null,
   "metadata": {},
   "outputs": [],
   "source": [
    "for var_type, idx in zip(sequence, range(len(sequence))): # lets check the result now\n",
    "\n",
    "    columns_nullval_ratio[var_type] = (checkpoint_1[var_type].isnull().sum() * 100 / len(checkpoint_1[var_type])).sort_values(ascending=False) # filling dataframe dictionary"
   ]
  },
  {
   "cell_type": "markdown",
   "metadata": {},
   "source": [
    "for var_type in sequence:\n",
    "\n",
    "    #print(var_type +' Column Null Values','\\n', columns_nullval_ratio[var_type], '\\n') # Nice! We have dropped the columns with a lot of null information that would make difficult for us to predict any of them "
   ]
  },
  {
   "cell_type": "markdown",
   "metadata": {},
   "source": [
    "    3.2 - Removing rows (Household Keys) beyond given threshold"
   ]
  },
  {
   "cell_type": "markdown",
   "metadata": {},
   "source": [
    "        3.2.1 - Global Mean of Null Values for all Household Keys available"
   ]
  },
  {
   "cell_type": "code",
   "execution_count": null,
   "metadata": {},
   "outputs": [],
   "source": [
    "rows_nullval_ratio = {} # dictionary of null values sum for all columns\n",
    "\n",
    "for var_type in sequence: \n",
    "\n",
    "    rows_nullval_ratio[var_type] = (checkpoint_1[var_type].isnull().sum(axis=1).sort_values(ascending=False)) # filling dataframe dictionary"
   ]
  },
  {
   "cell_type": "code",
   "execution_count": null,
   "metadata": {},
   "outputs": [],
   "source": [
    "sum_num_null_rows = [] # list of sum of all null values per row\n",
    "\n",
    "for var_type in sequence:\n",
    "\n",
    "    sum_num_null_rows.append(round(rows_nullval_ratio[var_type].sum())) # filling list\n",
    "\n",
    "total_mean = round(sum(sum_num_null_rows)/len(rows_nullval_ratio['Numerical'].index.tolist())) # general mean of null values per row\n",
    "\n",
    "print('\\n','Mean Number of Null values on Rows:', total_mean) "
   ]
  },
  {
   "cell_type": "markdown",
   "metadata": {},
   "source": [
    "        3.2.2 - Creating Key and Dictionary for this operation"
   ]
  },
  {
   "cell_type": "code",
   "execution_count": null,
   "metadata": {},
   "outputs": [],
   "source": [
    "removed_rows = {}\n",
    "\n",
    "row_key1 = str(total_mean) + ' Number of Null per Row Threshold Removal' # key for our track removal dictionary\n",
    "\n",
    "removed_rows[row_key1] = [] # adding to the new key to the dictionary"
   ]
  },
  {
   "cell_type": "markdown",
   "metadata": {},
   "source": [
    "        3.2.3 - Global Mean of each Household Key available"
   ]
  },
  {
   "cell_type": "code",
   "execution_count": null,
   "metadata": {},
   "outputs": [],
   "source": [
    "house_mean = {} # global mean number of null values for each Household Key\n",
    "\n",
    "for house_id in tqdm_notebook(checkpoint_1[sequence[0]].index.tolist(), desc='Process Progress'): # for all unique Household Keys on the original dataframe\n",
    "    tmp = 0 # temporary value for each global mean of the given Household Key\n",
    "    for var_type in sequence: # for all type of separatable dataframe \n",
    "\n",
    "        tmp += rows_nullval_ratio[var_type][house_id]\n",
    "\n",
    "    house_mean[house_id] =  tmp.mean()"
   ]
  },
  {
   "cell_type": "markdown",
   "metadata": {},
   "source": [
    "        3.2.4 - Perform Filtering"
   ]
  },
  {
   "cell_type": "code",
   "execution_count": null,
   "metadata": {},
   "outputs": [],
   "source": [
    "for house_id in tqdm_notebook(checkpoint_1[sequence[0]].index.tolist(), desc='Process Progress'): # for all unique Household Keys on the original dataframe\n",
    "    for var_type in sequence: # for all type of separatable dataframe        \n",
    "        if house_mean[house_id] >= total_mean: # we check if the same does not satisfies the threshold limit\n",
    "\n",
    "            for var_type in sequence: # for all type of separatable dataframe \n",
    "\n",
    "                if house_id in checkpoint_1[var_type].index.tolist(): # check if Household Key has not been already droped to prevent error raise\n",
    "\n",
    "                    checkpoint_1[var_type].drop(house_id, inplace=True) # drop the row related to the given Household Key in all dataframes type\n",
    "\n",
    "                    removed_rows[row_key1].append(house_id) # and we add its name to the list of removed columns\n",
    "\n",
    "print('Removed Rows after filtering process: ', removed_rows[row_key1])"
   ]
  },
  {
   "cell_type": "code",
   "execution_count": null,
   "metadata": {},
   "outputs": [],
   "source": [
    "for var_type, idx in zip(sequence, range(len(sequence))): # lets check the result now\n",
    "\n",
    "    rows_nullval_ratio[var_type] = (checkpoint_1[var_type].isnull().sum(axis=1).sort_values(ascending=False)) # filling dataframe dictionary"
   ]
  },
  {
   "cell_type": "code",
   "execution_count": null,
   "metadata": {},
   "outputs": [],
   "source": [
    "for var_type in sequence:\n",
    "\n",
    "    print(var_type + ':', len(checkpoint_1[var_type].index)) # total number of rows in each type of dataframe"
   ]
  },
  {
   "cell_type": "markdown",
   "metadata": {},
   "source": [
    "## 4 - Subjective Evaluation"
   ]
  },
  {
   "cell_type": "markdown",
   "metadata": {},
   "source": [
    "    4.1 - Rename FSV, INS, and TRV columns that are related to products purchase flags"
   ]
  },
  {
   "cell_type": "code",
   "execution_count": null,
   "metadata": {},
   "outputs": [],
   "source": [
    "matching_FSV = [s for s in list(checkpoint_1['Binary Categoricals'].columns) if \"FSV\" in s] # creating a list of the columns that have at least the FSV mnemonic\n",
    "matching_INS = [s for s in list(checkpoint_1['Binary Categoricals'].columns) if \"INS\" in s] # creating a list of the columns that have at least the INS mnemonic\n",
    "matching_TRV = [s for s in list(checkpoint_1['Binary Categoricals'].columns) if \"TRV\" in s] # creating a list of the columns that have at least the TRV mnemonic\n",
    "final_matching = matching_FSV + matching_INS + matching_TRV # concatenating them all\n",
    "print(final_matching)"
   ]
  },
  {
   "cell_type": "code",
   "execution_count": null,
   "metadata": {},
   "outputs": [],
   "source": [
    "counter = 1 # counter flag\n",
    "\n",
    "for c in final_matching:\n",
    "\n",
    "    checkpoint_1['Binary Categoricals'].rename(columns={c : 'Purchased Product' + ' ' + str(counter)}, inplace=True) # renaming the columns\n",
    "\n",
    "    counter = counter + 1 # index of the new product column name"
   ]
  },
  {
   "cell_type": "code",
   "execution_count": null,
   "metadata": {},
   "outputs": [],
   "source": [
    "checkpoint_1['Binary Categoricals'].head(n=2)"
   ]
  },
  {
   "cell_type": "markdown",
   "metadata": {},
   "source": [
    "    4.2 -  Removing columns that are not allowed or not ethical to work\n"
   ]
  },
  {
   "cell_type": "markdown",
   "metadata": {},
   "source": [
    "        4.2.1 - Creating Dictionary Key"
   ]
  },
  {
   "cell_type": "code",
   "execution_count": null,
   "metadata": {},
   "outputs": [],
   "source": [
    "key3 = 'Unethical Columns' # creating key to removed columns\n",
    "\n",
    "removed_columns[key3] = ['Race', 'Language', 'Gender'] # since we are talking about Households, the same can not be differentiate by gender"
   ]
  },
  {
   "cell_type": "markdown",
   "metadata": {},
   "source": [
    "        4.2.2 - Performing Filtering"
   ]
  },
  {
   "cell_type": "code",
   "execution_count": null,
   "metadata": {},
   "outputs": [],
   "source": [
    "for c in tqdm_notebook(removed_columns[key3], desc='Process Progress'): # iterating over the given columns\n",
    "    for var_type in sequence: # for each dataframe type\n",
    "        if c in checkpoint_1[var_type]: # if the columns is in the dataframe\n",
    "\n",
    "            checkpoint_1[var_type].drop(columns=c, inplace=True) # we dropped\n",
    "\n",
    "print('Removed Columns after filtering process: ', removed_columns[key3])"
   ]
  },
  {
   "cell_type": "markdown",
   "metadata": {},
   "source": [
    "    4.3 - Removing Columns that represent the same information in a different way (information redundancy)"
   ]
  },
  {
   "cell_type": "markdown",
   "metadata": {},
   "source": [
    "        4.3.1 - Creating Dictionary Key"
   ]
  },
  {
   "cell_type": "code",
   "execution_count": null,
   "metadata": {},
   "outputs": [],
   "source": [
    "key4 = 'Redundancy Information Columns' # generating key for this filtering procedure\n",
    "\n",
    "removed_columns[key4] = ['Individual Key', 'State - Grouped', 'ZIP5', 'ZIP9', 'Children', 'Birth Date MMDDYYYY', 'Cancel Date', 'County', 'Do Not Direct Mail Solicit', 'Right_Individual Key', 'Member Key', 'Member Number Associate ID', 'Membership ID', 'Reinstate Date', 'ZIP', 'Mosaic Household', 'kcl_B_IND_MosaicsGrouping', 'Occupation Code', 'Breakdown State', 'Call Killed', 'Clearing Code Last Description', 'Dispatch Code1 Description','DTL Prob1 Code Description', 'Is Duplicate', 'Member Match Flag', 'Member Number and Associate ID', 'SC Date', 'Rec ID', 'SC STS RSN Code Description', 'SC Vehicle Model Name', 'SVC Facility Name', 'SVC Facility Type', 'Tow Destination Latitude', 'Tow Destination Longitude', 'Member Map Location'] #  Comlumns ids"
   ]
  },
  {
   "cell_type": "markdown",
   "metadata": {},
   "source": [
    "        4.3.2 - Performing Filtering"
   ]
  },
  {
   "cell_type": "code",
   "execution_count": null,
   "metadata": {},
   "outputs": [],
   "source": [
    "for c in tqdm_notebook(removed_columns[key4], desc='Process Progress'): # for each column in the redundancy columns list\n",
    "    for var_type in sequence: # for each dataframe type\n",
    "        if c in checkpoint_1[var_type]: # if the columns is in the given dataframe\n",
    "            checkpoint_1[var_type].drop(columns=c, inplace=True) # we dropped\n",
    "\n",
    "print('Removed Columns after filtering process: ', removed_columns[key4])"
   ]
  },
  {
   "cell_type": "code",
   "execution_count": null,
   "metadata": {},
   "outputs": [],
   "source": [
    "for var_type in sequence:\n",
    "\n",
    "    print(var_type + ':', len(checkpoint_1[var_type].columns)) # number of remaining columns for each dataframe type after the filtering process "
   ]
  },
  {
   "cell_type": "markdown",
   "metadata": {},
   "source": [
    "    4.4 - Checking Columns with low percentage of variantional information (counting null values)"
   ]
  },
  {
   "cell_type": "markdown",
   "metadata": {},
   "source": [
    "        4.4.1 - Creating Dictionay Key "
   ]
  },
  {
   "cell_type": "code",
   "execution_count": null,
   "metadata": {},
   "outputs": [],
   "source": [
    "key5 = 'Low Variational Information Columns' # generating key for this filtering procedure\n",
    "\n",
    "removed_columns[key5] = [] # generating empty list"
   ]
  },
  {
   "cell_type": "markdown",
   "metadata": {},
   "source": [
    "        4.4.2 - Performing Filtering"
   ]
  },
  {
   "cell_type": "code",
   "execution_count": null,
   "metadata": {},
   "outputs": [],
   "source": [
    "for var_type in tqdm_notebook(sequence, desc='Process Progress'): # for every dataframe type\n",
    "    for c in checkpoint_1[var_type].columns: # for every column in the given dataframe\n",
    "\n",
    "        if checkpoint_1[var_type].nunique()[c] == 1: # we check if the values on the given column are all the same\n",
    "\n",
    "            checkpoint_1[var_type].drop(columns=c, inplace=True) # if it is so, we drop the column\n",
    "\n",
    "            removed_columns[key5].append(c) # and we fill the removed columns list\n",
    "        \n",
    "print('Removed Columns after filtering process: ', removed_columns[key5])"
   ]
  },
  {
   "cell_type": "code",
   "execution_count": null,
   "metadata": {},
   "outputs": [],
   "source": [
    "for var_type in sequence:\n",
    "\n",
    "    print(var_type + ':', len(checkpoint_1[var_type].columns)) # number of remaining columns for each dataframe type after the filtering process "
   ]
  },
  {
   "cell_type": "markdown",
   "metadata": {},
   "source": [
    "    4.5 - Removing Columns with Unnecessary Information (extremely subjective)"
   ]
  },
  {
   "cell_type": "markdown",
   "metadata": {},
   "source": [
    "        4.5.1 - Creating Dictionary Key"
   ]
  },
  {
   "cell_type": "code",
   "execution_count": null,
   "metadata": {},
   "outputs": [],
   "source": [
    "key6 = 'Unnecessary Columns' # generating key for this filtering procedure\n",
    "\n",
    "removed_columns[key6] = ['Address Change Date', 'Bad Address Flag', 'Billing Code Description', 'Join Club Date', 'Member Phone Type', 'Mosaic Global Household', 'New Mover Flag', 'Call Canceled', 'Is NSR', 'Plus Indicator Description', 'Was Duplicated', 'Was Towed To AAR Referral', 'Branch Name', 'Member Map Location', 'Breakdown Map Location'] #  Comlumns ids"
   ]
  },
  {
   "cell_type": "markdown",
   "metadata": {},
   "source": [
    "        4.5.2 - Performing Filtering"
   ]
  },
  {
   "cell_type": "code",
   "execution_count": null,
   "metadata": {},
   "outputs": [],
   "source": [
    "for c in tqdm_notebook(removed_columns[key6], desc='Process Progress'): # for each column in the unncessary columns list\n",
    "    for var_type in sequence: # for each dataframe type\n",
    "\n",
    "        if c in checkpoint_1[var_type]: # if the column is in the given dataframe\n",
    "            checkpoint_1[var_type].drop(columns=c, inplace=True) # we dropped\n",
    "\n",
    "print('Removed Columns after filtering process: ', removed_columns[key6])"
   ]
  },
  {
   "cell_type": "code",
   "execution_count": null,
   "metadata": {},
   "outputs": [],
   "source": [
    "for var_type in sequence:\n",
    "\n",
    "    print(var_type + ':', len(checkpoint_1[var_type].columns)) # number of remaining columns for each dataframe type after the filtering process "
   ]
  },
  {
   "cell_type": "markdown",
   "metadata": {},
   "source": [
    "## 4 - Summarize Information and Fill Nulls in the given columns "
   ]
  },
  {
   "cell_type": "markdown",
   "metadata": {},
   "source": [
    "        Saving checkpoint "
   ]
  },
  {
   "cell_type": "code",
   "execution_count": null,
   "metadata": {},
   "outputs": [],
   "source": [
    "checkpoint_2 = {} # creating dictionary for the second checkpoint\n",
    "\n",
    "for var_type, idx in zip(sequence, range(len(sequence))): \n",
    "    checkpoint_2[var_type] = checkpoint_1[var_type].copy() # filling in with all dataframe types"
   ]
  },
  {
   "cell_type": "markdown",
   "metadata": {},
   "source": [
    "        4.1 - Dealing first with the Numericals Dataframe"
   ]
  },
  {
   "cell_type": "code",
   "execution_count": null,
   "metadata": {},
   "outputs": [],
   "source": [
    "checkpoint_2[sequence[0]].head(n=3) # lets remember what variables and how do they behave on this dataframe"
   ]
  },
  {
   "cell_type": "markdown",
   "metadata": {},
   "source": [
    "                4.1.1 - Lets take a look at the Length Of Residence variable"
   ]
  },
  {
   "cell_type": "code",
   "execution_count": null,
   "metadata": {},
   "outputs": [],
   "source": [
    "checkpoint_2[sequence[0]]['Length Of Residence'].unique() # total number of null values for the Length Of Residence variable"
   ]
  },
  {
   "cell_type": "markdown",
   "metadata": {},
   "source": [
    "                    4.1.1.1 - Round the values and converting them to interger type to prevent any error"
   ]
  },
  {
   "cell_type": "code",
   "execution_count": null,
   "metadata": {},
   "outputs": [],
   "source": [
    "for idx in tqdm_notebook(checkpoint_2[sequence[0]]['Length Of Residence'].index, desc='Process Progress'): # for all indexes of the given dataframe\n",
    "\n",
    "    checkpoint_2[sequence[0]].at[idx, 'Length Of Residence'] = round(checkpoint_2[sequence[0]]['Length Of Residence'][idx]) # replace de Null value by the Household Key mean\n",
    "\n",
    "    if np.isnan(checkpoint_2[sequence[0]]['Length Of Residence'][idx]):\n",
    "\n",
    "        checkpoint_2[sequence[0]].at[idx, 'Length Of Residence'] = 0\n",
    "\n",
    "# checkpoint_2[sequence[0]]['Length Of Residence'] = checkpoint_2[sequence[0]]['Length Of Residence'].astype(int)"
   ]
  },
  {
   "cell_type": "code",
   "execution_count": null,
   "metadata": {},
   "outputs": [],
   "source": [
    "Counter(checkpoint_2[sequence[0]]['Length Of Residence'].tolist());"
   ]
  },
  {
   "cell_type": "markdown",
   "metadata": {},
   "source": [
    "    As we can see, we still have a considerable amount of null values in the Length Of Residence variable. If we replaced these values by the mean of the variable we would be disregarding the geographical relation. Therefore, we will use the mean related to the City variable to predict the null values"
   ]
  },
  {
   "cell_type": "code",
   "execution_count": null,
   "metadata": {},
   "outputs": [],
   "source": [
    "checkpoint_2['Strings']['City'].isnull().sum() # number of Household Keys with null City values"
   ]
  },
  {
   "cell_type": "code",
   "execution_count": null,
   "metadata": {},
   "outputs": [],
   "source": [
    "checkpoint_2[sequence[0]]['City'] = checkpoint_2['Strings']['City'].values # temporarily concatenate the city column on the numerical column"
   ]
  },
  {
   "cell_type": "markdown",
   "metadata": {},
   "source": [
    "                4.1.1.2 - Luckly, we can rely on the City variable, stored at the Strings dataframe. Thus, we can proceed with the Null values prediction"
   ]
  },
  {
   "cell_type": "code",
   "execution_count": null,
   "metadata": {},
   "outputs": [],
   "source": [
    "for idx in tqdm_notebook(checkpoint_2[sequence[0]].index, desc='Process Progress'): # For all Household Keys\n",
    "\n",
    "    if checkpoint_2[sequence[0]]['Length Of Residence'][idx] == 0: # we check if the Length of Residence variable is equal zero (previouly changed from nan values)\n",
    "\n",
    "        tmp_city = checkpoint_2[sequence[0]]['City'][idx] # we store a temporary value of the city for the given Household Key\n",
    "\n",
    "        checkpoint_2[sequence[0]]['Length Of Residence'][idx] = checkpoint_2[sequence[0]]['Length Of Residence'].loc[checkpoint_2[sequence[0]]['City'] == tmp_city].values.mean() # replacing zeroed value by mean of the Length of Residence per grouped by City"
   ]
  },
  {
   "cell_type": "code",
   "execution_count": null,
   "metadata": {},
   "outputs": [],
   "source": [
    "checkpoint_2[sequence[0]].head(n=2)"
   ]
  },
  {
   "cell_type": "markdown",
   "metadata": {},
   "source": [
    "                4.1.1.3 - Droping City variable from Numerical dataframe type"
   ]
  },
  {
   "cell_type": "code",
   "execution_count": null,
   "metadata": {},
   "outputs": [],
   "source": [
    "checkpoint_2[sequence[0]].drop(columns='City', inplace=True)"
   ]
  },
  {
   "cell_type": "markdown",
   "metadata": {},
   "source": [
    "        4.1.2 - Rename ERS ENT columns that are related to number of roadside calls and creating a column that presents the sum of it"
   ]
  },
  {
   "cell_type": "markdown",
   "metadata": {},
   "source": [
    "            4.1.2.1 Finding given columns"
   ]
  },
  {
   "cell_type": "code",
   "execution_count": null,
   "metadata": {},
   "outputs": [],
   "source": [
    "matching_ERS_ENT = [s for s in list(checkpoint_2[sequence[0]].columns) if \"ERS ENT\" in s] # creating a list of the columns that have at least the ERS ENT mnemonic\n",
    "\n",
    "print(matching_ERS_ENT)"
   ]
  },
  {
   "cell_type": "markdown",
   "metadata": {},
   "source": [
    "            4.1.2.2 Renaming Columns"
   ]
  },
  {
   "cell_type": "code",
   "execution_count": null,
   "metadata": {},
   "outputs": [],
   "source": [
    "counter = 1 # counter flag\n",
    "\n",
    "for c in matching_ERS_ENT:\n",
    "\n",
    "    checkpoint_2[sequence[0]].rename(columns={c : 'Number of Roadside calss for Year' + ' ' + str(counter)}, inplace=True) # renaming the columns\n",
    "\n",
    "    counter = counter + 1 # index of the new product column name"
   ]
  },
  {
   "cell_type": "code",
   "execution_count": null,
   "metadata": {},
   "outputs": [],
   "source": [
    "checkpoint_2[sequence[0]].head(n=2)"
   ]
  },
  {
   "cell_type": "markdown",
   "metadata": {},
   "source": [
    "            4.1.2.3 - Calculating Total Amount of Calls"
   ]
  },
  {
   "cell_type": "code",
   "execution_count": null,
   "metadata": {},
   "outputs": [],
   "source": [
    "new_column = [] # creating list for the new column to be appended\n",
    "\n",
    "for idx in tqdm_notebook(checkpoint_2[sequence[0]].index, desc='Process Progress'): # For each row\n",
    "    \n",
    "    total_amount = 0 # total amount of calls for each Household Key\n",
    "\n",
    "    for c in ['Number of Roadside calss for Year 1', 'Number of Roadside calss for Year 2',\t'Number of Roadside calss for Year 3']: # for each Number of Roadside calls for each Year\n",
    "\n",
    "        if np.isnan(checkpoint_2[sequence[0]][c][idx]): # checking for nan values existance\n",
    "\n",
    "            checkpoint_2[sequence[0]].at[idx, c] = 0 # replacing them by zero calls\n",
    "                  \n",
    "        checkpoint_2[sequence[0]].at[idx, c] = round(checkpoint_2[sequence[0]][c][idx]) # rounding the call values\n",
    "\n",
    "        checkpoint_2[sequence[0]][c] = checkpoint_2[sequence[0]][c].astype(int) # converting the final values to iterger type\n",
    "\n",
    "        total_amount += checkpoint_2[sequence[0]][c][idx] # summing the total amount of call\n",
    "\n",
    "    new_column.append(total_amount) # appending to list representing the new column to be appended"
   ]
  },
  {
   "cell_type": "code",
   "execution_count": null,
   "metadata": {},
   "outputs": [],
   "source": [
    "for c in ['Number of Roadside calss for Year 1', 'Number of Roadside calss for Year 2',\t'Number of Roadside calss for Year 3']: # for each Number of Roadside calls for each Year\n",
    "    checkpoint_2[sequence[0]][c] = checkpoint_2[sequence[0]][c].astype(int) # converting the final values to iterger type\n"
   ]
  },
  {
   "cell_type": "code",
   "execution_count": null,
   "metadata": {},
   "outputs": [],
   "source": [
    "column_name = 'Total Number of Roadside Calls' # naming the new column\n",
    "\n",
    "checkpoint_2[sequence[0]][column_name] = new_column # appendding new column\n",
    "\n",
    "checkpoint_2[sequence[0]][column_name] = checkpoint_2[sequence[0]][column_name].astype(int) # converting to iterger type"
   ]
  },
  {
   "cell_type": "code",
   "execution_count": null,
   "metadata": {},
   "outputs": [],
   "source": [
    "checkpoint_2[sequence[0]].head(n=2)"
   ]
  },
  {
   "cell_type": "markdown",
   "metadata": {},
   "source": [
    "        4.1.3 - Rename ERS Member that are related to the cost of roadside services per year and creating a column that presents the sum of it"
   ]
  },
  {
   "cell_type": "markdown",
   "metadata": {},
   "source": [
    "            4.1.3.1 Finding given columns"
   ]
  },
  {
   "cell_type": "code",
   "execution_count": null,
   "metadata": {},
   "outputs": [],
   "source": [
    "matching_ERS_Cost = [s for s in list(checkpoint_2[sequence[0]].columns) if \"ERS Member\" in s] # creating a list of the columns that have at least the ERS Member mnemonic\n",
    "\n",
    "print(matching_ERS_Cost)"
   ]
  },
  {
   "cell_type": "markdown",
   "metadata": {},
   "source": [
    "            4.1.3.2 Renaming Columns"
   ]
  },
  {
   "cell_type": "code",
   "execution_count": null,
   "metadata": {},
   "outputs": [],
   "source": [
    "counter = 1 # counter flag\n",
    "\n",
    "for c in matching_ERS_Cost:\n",
    "\n",
    "    checkpoint_2[sequence[0]].rename(columns={c : 'Roadside Member Cost for Year' + ' ' + str(counter)}, inplace=True) # renaming the columns\n",
    "\n",
    "    counter = counter + 1 # index of the new product column name"
   ]
  },
  {
   "cell_type": "code",
   "execution_count": null,
   "metadata": {},
   "outputs": [],
   "source": [
    "checkpoint_2[sequence[0]].head(n=2)"
   ]
  },
  {
   "cell_type": "markdown",
   "metadata": {},
   "source": [
    "            4.1.3.3 - Calculating Total Amount of Calls"
   ]
  },
  {
   "cell_type": "code",
   "execution_count": null,
   "metadata": {},
   "outputs": [],
   "source": [
    "new_column = [] # creating list for the new column to be appended\n",
    "\n",
    "for idx in tqdm_notebook(checkpoint_2[sequence[0]].index, desc='Process Progress'): # For each row\n",
    "    \n",
    "    total_amount = 0 # total amount of Roadside cost for each Household Key\n",
    "\n",
    "    for c in ['Roadside Member Cost for Year 1', 'Roadside Member Cost for Year 2',\t'Roadside Member Cost for Year 3']: # for each cost of Roadside for each Year\n",
    "\n",
    "        if np.isnan(checkpoint_2[sequence[0]][c][idx]): # checking for nan values existance\n",
    "\n",
    "            checkpoint_2[sequence[0]].at[idx, c] = 0 # replacing them by zero cost\n",
    "                  \n",
    "        total_amount += checkpoint_2[sequence[0]][c][idx] # summing the total amount of roadside cost\n",
    "\n",
    "    new_column.append(total_amount) # appending to list representing the new column to be appended"
   ]
  },
  {
   "cell_type": "code",
   "execution_count": null,
   "metadata": {},
   "outputs": [],
   "source": [
    "column_name = 'Total Roadside Member Cost' # naming the new column\n",
    "\n",
    "checkpoint_2[sequence[0]][column_name] = new_column # appendding new column"
   ]
  },
  {
   "cell_type": "code",
   "execution_count": null,
   "metadata": {},
   "outputs": [],
   "source": [
    "checkpoint_2[sequence[0]].head(n=2)"
   ]
  },
  {
   "cell_type": "markdown",
   "metadata": {},
   "source": [
    "        4.1.4 - Converting Months to Join to Cancel to Years left for subscription to end"
   ]
  },
  {
   "cell_type": "markdown",
   "metadata": {},
   "source": [
    "            4.1.4.1 - Renaming Column"
   ]
  },
  {
   "cell_type": "code",
   "execution_count": null,
   "metadata": {},
   "outputs": [],
   "source": [
    "checkpoint_2[sequence[0]].rename(columns={'Months from Join to Cancel' : 'Years to Cancelled Status'}, inplace=True) # renaming the column"
   ]
  },
  {
   "cell_type": "markdown",
   "metadata": {},
   "source": [
    "            4.1.4.2 - Converting Months to Years"
   ]
  },
  {
   "cell_type": "code",
   "execution_count": null,
   "metadata": {},
   "outputs": [],
   "source": [
    "for idx in tqdm_notebook(checkpoint_2[sequence[0]].index, desc='Process Progress'): # For each row\n",
    "    \n",
    "    if ~np.isnan(checkpoint_2[sequence[0]]['Years to Cancelled Status'][idx]): # if the given Household Key does not have a null value for the given column\n",
    "    \n",
    "        checkpoint_2[sequence[0]].at[idx, 'Years to Cancelled Status'] = round(checkpoint_2[sequence[0]]['Years to Cancelled Status'][idx]/12)"
   ]
  },
  {
   "cell_type": "markdown",
   "metadata": {},
   "source": [
    "            4.1.4.3 - Fill Null Values"
   ]
  },
  {
   "cell_type": "code",
   "execution_count": null,
   "metadata": {},
   "outputs": [],
   "source": [
    "mean_year = round(checkpoint_2[sequence[0]]['Years to Cancelled Status'].values[~np.isnan(checkpoint_2[sequence[0]]['Years to Cancelled Status'].values)].mean())\n",
    "for idx in tqdm_notebook(checkpoint_2[sequence[0]].index, desc='Process Progress'): # For each row\n",
    "    \n",
    "        if np.isnan(checkpoint_2[sequence[0]]['Years to Cancelled Status'][idx]): # if the given Household Key does not have a null value for the given column\n",
    "\n",
    "            checkpoint_2[sequence[0]].at[idx, 'Years to Cancelled Status'] = mean_year\n",
    "            \n",
    "checkpoint_2[sequence[0]]['Years to Cancelled Status'] = checkpoint_2[sequence[0]]['Years to Cancelled Status'].astype(int) # converting to iterger type"
   ]
  },
  {
   "cell_type": "code",
   "execution_count": null,
   "metadata": {},
   "outputs": [],
   "source": [
    "checkpoint_2[sequence[0]].head(n=2)"
   ]
  },
  {
   "cell_type": "markdown",
   "metadata": {},
   "source": [
    "        4.1.5 - Converting Member Tenure Years to integer type"
   ]
  },
  {
   "cell_type": "code",
   "execution_count": null,
   "metadata": {},
   "outputs": [],
   "source": [
    "for idx in tqdm_notebook(checkpoint_2[sequence[0]].index, desc='Process Progress'): # For each row\n",
    "    \n",
    "    checkpoint_2[sequence[0]].at[idx, 'Member Tenure Years'] = round(checkpoint_2[sequence[0]]['Member Tenure Years'][idx])\n",
    "\n",
    "checkpoint_2[sequence[0]]['Member Tenure Years'] = checkpoint_2[sequence[0]]['Member Tenure Years'].astype(int) # converting to iterger type"
   ]
  },
  {
   "cell_type": "code",
   "execution_count": null,
   "metadata": {},
   "outputs": [],
   "source": [
    "checkpoint_2[sequence[0]].head(n=2)"
   ]
  },
  {
   "cell_type": "markdown",
   "metadata": {},
   "source": [
    "        4.2 - Moving to Binary Numericals"
   ]
  },
  {
   "cell_type": "code",
   "execution_count": null,
   "metadata": {},
   "outputs": [],
   "source": [
    "checkpoint_2[sequence[1]].head(n=2)"
   ]
  },
  {
   "cell_type": "code",
   "execution_count": null,
   "metadata": {},
   "outputs": [],
   "source": [
    "for idx in tqdm_notebook(checkpoint_2[sequence[1]].index, desc='Process Progress'): # For each row\n",
    "    for c in checkpoint_2[sequence[1]].columns:\n",
    "        if checkpoint_2[sequence[1]][c][idx] != 0:\n",
    "            checkpoint_2[sequence[1]].at[idx, c] = 1.0\n",
    "            \n",
    "        else:\n",
    "            checkpoint_2[sequence[1]].at[idx, c] = 0.0\n",
    "            \n",
    "checkpoint_2[sequence[1]]['Email Available'] = checkpoint_2[sequence[1]]['Email Available'].astype(int) # converting to iterger type"
   ]
  },
  {
   "cell_type": "markdown",
   "metadata": {},
   "source": [
    "## (Exploratory Data Analysis - EDA)"
   ]
  },
  {
   "cell_type": "markdown",
   "metadata": {},
   "source": [
    "## Purchase Probability Prediction"
   ]
  },
  {
   "cell_type": "markdown",
   "metadata": {},
   "source": [
    "## Clustering By Household Types"
   ]
  },
  {
   "cell_type": "code",
   "execution_count": null,
   "metadata": {},
   "outputs": [],
   "source": []
  },
  {
   "cell_type": "code",
   "execution_count": null,
   "metadata": {},
   "outputs": [],
   "source": []
  },
  {
   "cell_type": "code",
   "execution_count": null,
   "metadata": {},
   "outputs": [],
   "source": []
  },
  {
   "cell_type": "code",
   "execution_count": null,
   "metadata": {},
   "outputs": [],
   "source": []
  },
  {
   "cell_type": "code",
   "execution_count": null,
   "metadata": {},
   "outputs": [],
   "source": []
  },
  {
   "cell_type": "code",
   "execution_count": null,
   "metadata": {},
   "outputs": [],
   "source": []
  },
  {
   "cell_type": "code",
   "execution_count": null,
   "metadata": {},
   "outputs": [],
   "source": []
  },
  {
   "cell_type": "code",
   "execution_count": null,
   "metadata": {},
   "outputs": [],
   "source": []
  },
  {
   "cell_type": "code",
   "execution_count": null,
   "metadata": {},
   "outputs": [],
   "source": []
  },
  {
   "cell_type": "markdown",
   "metadata": {},
   "source": [
    "    4.1 - Number of Purchased Products"
   ]
  },
  {
   "cell_type": "markdown",
   "metadata": {},
   "source": [
    "        4.1.1 - Creating Dictionary Key"
   ]
  },
  {
   "cell_type": "code",
   "execution_count": null,
   "metadata": {},
   "outputs": [],
   "source": [
    "key7 = 'Merging total number of purchased products by each row' # generating key for this filtering procedure\n",
    "\n",
    "removed_columns[key7] = ['Purchased Product 1',\t'Purchased Product 2',\t'Purchased Product 3',\t'Purchased Product 4',\t'Purchased Product 5',\t'Purchased Product 6',\t'Purchased Product 7',\t'Purchased Product 8'] # column IDs"
   ]
  },
  {
   "cell_type": "markdown",
   "metadata": {},
   "source": [
    "        4.1.2 - Performing Summary"
   ]
  },
  {
   "cell_type": "markdown",
   "metadata": {},
   "source": [
    "            4.1.2.1 - Converting String Values in Numerical Values and filling Null values as 0 purchased products for empty different Household Keys"
   ]
  },
  {
   "cell_type": "code",
   "execution_count": null,
   "metadata": {},
   "outputs": [],
   "source": [
    "for c in tqdm_notebook(removed_columns[key7], desc='Process Progress'): # In each Purchased Product Column\n",
    "    for var_type in sequence: # for each dataframe type\n",
    "        for idx in range(len(checkpoint_2[var_type])): # For each row\n",
    "\n",
    "            if c in checkpoint_2[var_type].columns: # if the column belongs to the dataframe\n",
    "\n",
    "                if (checkpoint_2[var_type][c].values[idx] == 'N') or (checkpoint_2[var_type][c].values[idx] == 'Null') or (checkpoint_2[var_type][c].values[idx] == np.nan): # if the value of the given column on the given index is N (No), Null or Nan\n",
    "\n",
    "                    checkpoint_2[var_type][c].values[idx] = 0 # set the new value to zero\n",
    "\n",
    "                else:\n",
    "\n",
    "                    checkpoint_2[var_type][c].values[idx] = 1 # else, set the new value to one"
   ]
  },
  {
   "cell_type": "markdown",
   "metadata": {},
   "source": [
    "            4.1.2.2 - Converting Columns to Iterger Type"
   ]
  },
  {
   "cell_type": "code",
   "execution_count": null,
   "metadata": {},
   "outputs": [],
   "source": [
    "for c in tqdm_notebook(removed_columns[key7], desc='Process Progress'):\n",
    "    for var_type in sequence: # for each dataframe type\n",
    "        if c in checkpoint_2[var_type].columns: # if the column belongs to the dataframe\n",
    "\n",
    "            checkpoint_2[var_type][c] = checkpoint_2[var_type][c].astype(int) # converting the final values to iterger type"
   ]
  },
  {
   "cell_type": "markdown",
   "metadata": {},
   "source": [
    "        4.1.2.3 - Summarize all Purchased Columns"
   ]
  },
  {
   "cell_type": "code",
   "execution_count": null,
   "metadata": {},
   "outputs": [],
   "source": [
    "new_column = [] # creating list for the new column to be appended\n",
    "\n",
    "column_name = 'Total Number of Purchased Products' # naming the new column\n",
    "\n",
    "for var_type in tqdm_notebook(sequence, desc='Process Progress'): # for each dataframe type\n",
    "    for idx in checkpoint_2[var_type].index: # For each row\n",
    "        total_amount = 0 # total amount of products bought in each row\n",
    "\n",
    "        if c in checkpoint_2[var_type].columns: # if the column belongs to the dataframe\n",
    "\n",
    "            for c in removed_columns[key7]: # In each Purchased Product Column\n",
    "\n",
    "                if checkpoint_2[var_type][c][idx] == 1:\n",
    "\n",
    "                    total_amount = total_amount + 1\n",
    "\n",
    "            new_column.append(total_amount)"
   ]
  },
  {
   "cell_type": "markdown",
   "metadata": {},
   "source": [
    "        4.1.2.4 - Drop Separate Purchased Data and Concatenate Total Purchased Data"
   ]
  },
  {
   "cell_type": "code",
   "execution_count": null,
   "metadata": {},
   "outputs": [],
   "source": [
    "for c in tqdm_notebook(removed_columns[key7], desc='Process Progress'):\n",
    "    for var_type in sequence: # for each dataframe type\n",
    "        if c in checkpoint_2[var_type].columns: # if the column belongs to the dataframe\n",
    "\n",
    "            checkpoint_2[var_type].drop(columns=c, inplace=True)\n",
    "\n",
    "            flag = var_type\n",
    "\n",
    "checkpoint_2[sequence[0]][column_name] = new_column\n",
    "\n",
    "\n",
    "\n",
    "print('Removed Columns after filtering process: ', removed_columns[key7])"
   ]
  },
  {
   "cell_type": "code",
   "execution_count": null,
   "metadata": {},
   "outputs": [],
   "source": [
    "for var_type in sequence:\n",
    "\n",
    "    print(var_type + ':', len(checkpoint_2[var_type].columns))"
   ]
  },
  {
   "cell_type": "markdown",
   "metadata": {},
   "source": [
    "    4.2 - Correcting Number of Children column"
   ]
  },
  {
   "cell_type": "markdown",
   "metadata": {},
   "source": [
    "        4.2.2 - Converting String Values in Numerical Values and filling Null values as 0 children for empty different Household Keys"
   ]
  },
  {
   "cell_type": "code",
   "execution_count": null,
   "metadata": {},
   "outputs": [],
   "source": [
    "for var_type in sequence:\n",
    "\n",
    "    if 'Number of Children' in checkpoint_2[var_type].columns:\n",
    "\n",
    "        mask_n_children = checkpoint_2[var_type]['Number of Children'].isnull() # creating mask of null values in Number of Children column\n",
    "\n",
    "        flag = var_type"
   ]
  },
  {
   "cell_type": "code",
   "execution_count": null,
   "metadata": {},
   "outputs": [],
   "source": [
    "for idx in tqdm_notebook(checkpoint_2[flag].index, desc='Process Progress'): # For each row\n",
    "\n",
    "    if mask_n_children[idx]: # if the mask is true, that means that the correponded value for that index is Null\n",
    "\n",
    "         checkpoint_2[var_type]['Number of Children'].values[idx] = 0    \n",
    "    \n",
    "    else:\n",
    "\n",
    "        entry =  checkpoint_2[var_type]['Number of Children'].values[idx].split()[0]\n",
    "\n",
    "        if (entry == 'No'):\n",
    "\n",
    "             checkpoint_2[var_type]['Number of Children'].values[idx] = 0\n",
    "\n",
    "        elif (entry == 'One'):\n",
    "\n",
    "             checkpoint_2[var_type]['Number of Children'].values[idx] = 1\n",
    "\n",
    "        elif (entry == 'Two'):\n",
    "\n",
    "             checkpoint_2[var_type]['Number of Children'].values[idx] = 2\n",
    "\n",
    "        elif (entry == 'Three'):\n",
    "\n",
    "             checkpoint_2[var_type]['Number of Children'].values[idx] = 3\n",
    "\n",
    "        elif (entry == 'Four'):\n",
    "\n",
    "             checkpoint_2[var_type]['Number of Children'].values[idx] = 4\n",
    "\n",
    "        elif (entry == 'Five'):\n",
    "\n",
    "             checkpoint_2[var_type]['Number of Children'].values[idx] = 5\n",
    "\n",
    "        elif (entry == 'Six'):\n",
    "\n",
    "             checkpoint_2[var_type]['Number of Children'].values[idx] = 6"
   ]
  },
  {
   "cell_type": "markdown",
   "metadata": {},
   "source": [
    "        4.2.2 - Converting Column to Iterger Type\n"
   ]
  },
  {
   "cell_type": "code",
   "execution_count": null,
   "metadata": {},
   "outputs": [],
   "source": [
    "filtered_data['Number of Children'] = filtered_data['Number of Children'].astype(int)"
   ]
  },
  {
   "cell_type": "code",
   "execution_count": null,
   "metadata": {},
   "outputs": [],
   "source": [
    "filtered_data.info()"
   ]
  },
  {
   "cell_type": "markdown",
   "metadata": {},
   "source": [
    "    4.3 - Length of Residence"
   ]
  },
  {
   "cell_type": "markdown",
   "metadata": {},
   "source": [
    "    The main approach we are going to apply here is to get the mean value of the household key and apply it on the same number. After that, if it still exists any null value on the given column, we will use the mean or the mode of the column City to fill it."
   ]
  },
  {
   "cell_type": "markdown",
   "metadata": {},
   "source": [
    "        4.3.1 - Replace random default value apllied by Pandas on Null values for the Length Of Residence column. For some reason it was choosen a smaller number as possible for a float64 number"
   ]
  },
  {
   "cell_type": "code",
   "execution_count": null,
   "metadata": {},
   "outputs": [],
   "source": [
    "filtered_data['Length Of Residence'].unique()  # as we can see, by some reason, the number -9.223372e+18 was choosen to be a flag of a Null value for this column, we need to replace it by 0 or np.nan"
   ]
  },
  {
   "cell_type": "code",
   "execution_count": null,
   "metadata": {},
   "outputs": [],
   "source": [
    "filtered_data['Length Of Residence'] = filtered_data['Length Of Residence'].replace(filtered_data['Length Of Residence'].unique()[0], np.nan) # replacing random numerical Null values chose by Pandas for numpy NaN "
   ]
  },
  {
   "cell_type": "code",
   "execution_count": null,
   "metadata": {},
   "outputs": [],
   "source": [
    "filtered_data['Length Of Residence'].unique() # now we have out correct output for Null values for the Length Of Residence column"
   ]
  },
  {
   "cell_type": "markdown",
   "metadata": {},
   "source": [
    "        4.3.2 - Checking if there are Household Keys with at least one value for the Length Of Residence column and apply it to the rest of them"
   ]
  },
  {
   "cell_type": "code",
   "execution_count": null,
   "metadata": {},
   "outputs": [],
   "source": [
    "filtered_data.groupby('Household Key')['Length Of Residence'].unique(); # As we can see, for the same Household Key level we have different values of Length Of Residence. This happens because our main sheet data was sorted on a Individual Key level, that is not our interest here. # OBS: REMOVE THE ';' AT THE END OF THE COMMAND TO PRINT THE OUTPUT! BE ADVISED, THE OUTPUT IS EXTENSE!"
   ]
  },
  {
   "cell_type": "code",
   "execution_count": null,
   "metadata": {},
   "outputs": [],
   "source": [
    "for house_id in tqdm_notebook(filtered_data.groupby('Household Key')['Length Of Residence'].unique().keys(), desc='Process Progress'): # for every single unique Household Key value\n",
    "\n",
    "    if len(filtered_data.groupby('Household Key')['Length Of Residence'].unique()[house_id]) == 1: # if there is only one associated value for Length Of Residence, independet of the value, we can infer nothing for now, so, we pass\n",
    "        pass\n",
    "    \n",
    "    else:\n",
    "\n",
    "        tmp = filtered_data.loc[filtered_data['Household Key'] == house_id]['Length Of Residence'].values # storing array on a temporary file\n",
    "\n",
    "        if np.isnan(tmp).any(): # check if the associated values for the Length Of Residence for a given Household Key has at least one Null value\n",
    "\n",
    "            nan_positions = np.where(np.isnan(tmp))[0].tolist() # grabing the positions where the Null values exist\n",
    "\n",
    "            if len(nan_positions) == len(tmp): # checking if all the values for the given Household Key are Null (in this case we will treat it in another way, so, we pass)\n",
    "                pass\n",
    "\n",
    "            else:\n",
    "\n",
    "                replacement_value =  tmp[~np.isnan(tmp)].mean() # calculating the mean of all non Null values\n",
    "\n",
    "                tmp[np.isnan(tmp)] = replacement_value # index of Null values on the array\n",
    "\n",
    "                idxs = filtered_data.loc[filtered_data['Household Key'] == house_id, 'Length Of Residence'].index[nan_positions] # index of Null values on the dataframe\n",
    "\n",
    "                for i in idxs: # for each dataframe index\n",
    "                \n",
    "                    filtered_data.at[i, 'Length Of Residence'] = replacement_value # replace de Null value by the Household Key mean"
   ]
  },
  {
   "cell_type": "markdown",
   "metadata": {},
   "source": [
    "        4.3.3 - Now we focus on predicting the rest of the Null values, but this time through groups of cities"
   ]
  },
  {
   "cell_type": "code",
   "execution_count": null,
   "metadata": {},
   "outputs": [],
   "source": [
    "filtered_data.groupby('City')['Length Of Residence'].unique(); # As we can see, for the same City we have different values of Length Of Residence. We want to take advantage of this bigger scale to replace more Null values # OBS: REMOVE THE ';' AT THE END OF THE COMMAND TO PRINT THE OUTPUT! BE ADVISED, THE OUTPUT IS EXTENSE!"
   ]
  },
  {
   "cell_type": "code",
   "execution_count": null,
   "metadata": {},
   "outputs": [],
   "source": [
    "for city in tqdm_notebook(filtered_data.groupby('City')['Length Of Residence'].unique().keys(), desc='Process Progress'): # for every single unique Household Key value\n",
    "\n",
    "    if len(filtered_data.groupby('City')['Length Of Residence'].unique()[city]) == 1: # if there is only one associated value for Length Of Residence, we can infer nothing for now. So, we pass and let this for the state mean \n",
    "        pass\n",
    "    \n",
    "    else:\n",
    "\n",
    "        tmp = filtered_data.loc[filtered_data['City'] == city]['Length Of Residence'].values # storing array on a temporary file\n",
    "\n",
    "        if np.isnan(tmp).any(): # check if the associated values for the Length Of Residence for a given City has at least one Null value\n",
    "\n",
    "            nan_positions = np.where(np.isnan(tmp))[0].tolist() # grabing the positions where the Null values exist\n",
    "\n",
    "            if len(nan_positions) == len(tmp): # checking if all the values for the given City are Null (in this case we will treat it in another way, so, we pass)\n",
    "                pass\n",
    "\n",
    "            else:\n",
    "\n",
    "                replacement_value =  tmp[~np.isnan(tmp)].mean() # calculating the mean of all non Null values\n",
    "\n",
    "                tmp[np.isnan(tmp)] = replacement_value # index of Null values on the array\n",
    "\n",
    "                idxs = filtered_data.loc[filtered_data['City'] == city, 'Length Of Residence'].index[nan_positions] # index of Null values on the dataframe\n",
    "\n",
    "                for i in idxs: # for each dataframe index\n",
    "                \n",
    "                    filtered_data.at[i, 'Length Of Residence'] = replacement_value # replace de Null value by the City mean"
   ]
  },
  {
   "cell_type": "markdown",
   "metadata": {},
   "source": [
    "            4.3.4 - Now we focus on predicting the rest of the Null values on the biggest and final scale as possible, the states."
   ]
  },
  {
   "cell_type": "markdown",
   "metadata": {},
   "source": [
    "            Note: You may noticed that we have excluded the State - Gouped column, but, since we havent eliminated any row yet we can still use the previous indexes of this unusable column "
   ]
  },
  {
   "cell_type": "code",
   "execution_count": null,
   "metadata": {},
   "outputs": [],
   "source": [
    "ct_idxs = df_original.index[df_original['State - Grouped'] == 'CT'].tolist() # grab index of all rows that belong to the CT state\n",
    "ri_idxs = df_original.index[df_original['State - Grouped'] == 'RI'].tolist() # grab index of all rows that belong to the RI state"
   ]
  },
  {
   "cell_type": "code",
   "execution_count": null,
   "metadata": {},
   "outputs": [],
   "source": [
    "ct_mean = filtered_data['Length Of Residence'][ct_idxs].mean()\n",
    "ri_mean = filtered_data['Length Of Residence'][ri_idxs].mean()\n",
    "print('CT mean value considering all Null values so far filled: ', ct_mean, '\\n', 'RI mean value considering all Null values so far filled: ', ri_mean)"
   ]
  },
  {
   "cell_type": "code",
   "execution_count": null,
   "metadata": {},
   "outputs": [],
   "source": [
    "for idx in tqdm_notebook(filtered_data.index, desc='Process Progress'): # for every single unique Household Key value\n",
    "\n",
    "    if filtered_data['Length Of Residence'].isnull()[idx]: # if for the given index of the Length Of Residence column the value is Null\n",
    "        if idx in ct_idxs: # check if this index belongs to the CT state\n",
    "\n",
    "            filtered_data.at[idx, 'Length Of Residence'] = ct_mean # replace the Null value by the CT state mean\n",
    "\n",
    "        else:\n",
    "\n",
    "            filtered_data.at[idx, 'Length Of Residence'] = ri_mean # replace the Null value by the RI state mean"
   ]
  },
  {
   "cell_type": "code",
   "execution_count": null,
   "metadata": {},
   "outputs": [],
   "source": [
    "filtered_data['Length Of Residence'].isnull().values.any() # check if Length Of Residence column still has any Null value left"
   ]
  },
  {
   "cell_type": "code",
   "execution_count": null,
   "metadata": {},
   "outputs": [],
   "source": [
    "filtered_data.info()"
   ]
  },
  {
   "cell_type": "markdown",
   "metadata": {},
   "source": []
  },
  {
   "cell_type": "markdown",
   "metadata": {},
   "source": [
    "    4.4 - Summarize E-mail and Mail Information"
   ]
  },
  {
   "cell_type": "markdown",
   "metadata": {},
   "source": [
    "        4.4.1 - Creating List of Columns to be summarized"
   ]
  },
  {
   "cell_type": "code",
   "execution_count": null,
   "metadata": {},
   "outputs": [],
   "source": [
    "mail_var = ['Mail Responder', 'Email Available', 'Email Status', 'Opt-Out - Publication']"
   ]
  },
  {
   "cell_type": "markdown",
   "metadata": {},
   "source": [
    "        4.4.2 - Checking Existance of Null Values on this columns"
   ]
  },
  {
   "cell_type": "code",
   "execution_count": null,
   "metadata": {},
   "outputs": [],
   "source": [
    "for col in mail_var:\n",
    "\n",
    "    print('Flag if column ', col, ' has null values. ', filtered_data[col].isnull().values.any(), ' and its percentage ', nullval_ratio[col]) # check if the columns have any Null values"
   ]
  },
  {
   "cell_type": "markdown",
   "metadata": {},
   "source": [
    "        As we can see, all the binary categorical columns have Null values. However, the columns related to Email Available and Opt-Out - Publication are almost full filled and, according to the spreadsheet dictionary, those two are AAA direct information and not third party information. So, we will focus on them as most reliable data and use the Member Status as well to \"predict\" a summary of all these information"
   ]
  },
  {
   "cell_type": "code",
   "execution_count": null,
   "metadata": {},
   "outputs": [],
   "source": [
    "filtered_data.groupby('Household Key')['Email Status'].unique();"
   ]
  },
  {
   "cell_type": "markdown",
   "metadata": {},
   "source": [
    "        4.4.3 - Give the name of the new column to be added on the dataframe"
   ]
  },
  {
   "cell_type": "code",
   "execution_count": null,
   "metadata": {},
   "outputs": [],
   "source": [
    "new_mail_key = 'Email Correspondent' # new column name\n",
    "\n",
    "filtered_data[new_mail_key] = \"\" # appending new column to the dataframe"
   ]
  },
  {
   "cell_type": "markdown",
   "metadata": {},
   "source": [
    "        4.4.4 - To summarize all these information we need to ensure that for the same Household Key we have a concordance between all the variables. For that we will use the Member Status variable and Email Available as pivot information"
   ]
  },
  {
   "cell_type": "code",
   "execution_count": null,
   "metadata": {},
   "outputs": [],
   "source": [
    "for house_id in tqdm_notebook(filtered_data['Household Key'].unique().tolist(), desc='Process Progress'): # for every single unique Household Key value\n",
    "\n",
    "    if len(Counter(filtered_data.groupby('Household Key')['Member Status'].unique()[house_id].tolist())) != 1: # if there is more than one Member Status type for the given Household Key\n",
    "\n",
    "        if 'ACTIVE' in filtered_data.groupby('Household Key')['Member Status'].unique()[house_id].tolist(): # if at least one individual member is active on the given HouseHold Key\n",
    "\n",
    "            filtered_data.loc[(filtered_data['Household Key'] == house_id), 'Member Status'] = 'ACTIVE' # replace them all for active\n",
    "\n",
    "        elif 'PENDING' in filtered_data.groupby('Household Key')['Member Status'].unique()[house_id].tolist(): # if at least one individual member is pending on the given HouseHold Key and there is none active\n",
    "\n",
    "            filtered_data.loc[(filtered_data['Household Key'] == house_id), 'Member Status'] = 'PENDING' # replace them all for pending \n",
    "    \n",
    "    if len(Counter(filtered_data.groupby('Household Key')['Email Available'].unique()[house_id].tolist())) != 1: # if there is more than one Email Available type for the given Household Key\n",
    "\n",
    "        if 10 in filtered_data.groupby('Household Key')['Email Available'].unique()[house_id].tolist(): # if at least one individual member has its email available on the given HouseHold Key\n",
    "\n",
    "            filtered_data.loc[(filtered_data['Household Key'] == house_id), 'Email Available'] = 10 # replace them all by 10 (active)\n",
    "\n",
    "    if len(Counter(filtered_data.groupby('Household Key')['Opt-Out - Publication'].unique()[house_id].tolist())) != 1: # if there is more than one Opt-Out - Publication type for the given Household Key   \n",
    "\n",
    "        if 'Opt-In' in filtered_data.groupby('Household Key')['Opt-Out - Publication'].unique()[house_id].tolist(): # if at least one individual member has optional for an email publication on the given HouseHold Key\n",
    "\n",
    "            filtered_data.loc[(filtered_data['Household Key'] == house_id), 'Opt-Out - Publication'] = 'Opt-In' # replace them all by Opt-In (active)\n"
   ]
  },
  {
   "cell_type": "markdown",
   "metadata": {},
   "source": [
    "        4.4.5 - Filling the new column"
   ]
  },
  {
   "cell_type": "code",
   "execution_count": null,
   "metadata": {},
   "outputs": [],
   "source": [
    "for house_id in tqdm_notebook(filtered_data['Household Key'].unique().tolist(), desc='Process Progress'): # for every single unique Household Key value\n",
    "\n",
    "    if ('ACTIVE' in filtered_data[filtered_data['Household Key'] == house_id]['Member Status'].tolist()) and (10 in filtered_data[filtered_data['Household Key'] == house_id]['Email Available'].tolist()) and ('Opt-In' in filtered_data[filtered_data['Household Key'] == house_id]['Opt-Out - Publication'].tolist()): # if all the conditions are satisfied\n",
    "\n",
    "        filtered_data.loc[(filtered_data['Household Key'] == house_id), 'Email Correspondent'] = 1 # the household is an e-mail correspondent\n",
    "\n",
    "    else:\n",
    "\n",
    "        filtered_data.loc[(filtered_data['Household Key'] == house_id), 'Email Correspondent'] = 0 # the household is not an e-mail correspondent\n",
    "\n",
    "\n",
    "filtered_data['Email Correspondent'] = filtered_data['Email Correspondent'].astype(int) # changing to integer data type"
   ]
  },
  {
   "cell_type": "markdown",
   "metadata": {},
   "source": [
    "        4.4.6 -  Dropping Email information Columns"
   ]
  },
  {
   "cell_type": "code",
   "execution_count": null,
   "metadata": {},
   "outputs": [],
   "source": [
    "key8 = 'Merging Availability of Email Contact'\n",
    "\n",
    "removed_columns[key8] = mail_var"
   ]
  },
  {
   "cell_type": "code",
   "execution_count": null,
   "metadata": {},
   "outputs": [],
   "source": [
    "for c in mail_var:\n",
    "\n",
    "    filtered_data.drop(columns=c, inplace=True)\n",
    "\n",
    "print('Removed Columns after filtering process: ', removed_columns[key8])"
   ]
  },
  {
   "cell_type": "code",
   "execution_count": null,
   "metadata": {},
   "outputs": [],
   "source": [
    "filtered_data.info()"
   ]
  },
  {
   "cell_type": "code",
   "execution_count": null,
   "metadata": {},
   "outputs": [],
   "source": []
  },
  {
   "cell_type": "code",
   "execution_count": null,
   "metadata": {},
   "outputs": [],
   "source": []
  },
  {
   "cell_type": "code",
   "execution_count": null,
   "metadata": {},
   "outputs": [],
   "source": []
  },
  {
   "cell_type": "code",
   "execution_count": null,
   "metadata": {},
   "outputs": [],
   "source": []
  },
  {
   "cell_type": "code",
   "execution_count": null,
   "metadata": {},
   "outputs": [],
   "source": []
  },
  {
   "cell_type": "code",
   "execution_count": null,
   "metadata": {},
   "outputs": [],
   "source": [
    "path_out = '..\\\\resources\\\\checkpoint.csv'\n",
    "filtered_data.to_csv(path_or_buf=path_out, index=False)"
   ]
  },
  {
   "cell_type": "code",
   "execution_count": null,
   "metadata": {},
   "outputs": [],
   "source": []
  },
  {
   "cell_type": "code",
   "execution_count": null,
   "metadata": {},
   "outputs": [],
   "source": []
  },
  {
   "cell_type": "code",
   "execution_count": null,
   "metadata": {},
   "outputs": [],
   "source": []
  },
  {
   "cell_type": "markdown",
   "metadata": {},
   "source": [
    "        We still need to keep an eye on the variables that only have 2 unique values, but it will be more a subjective evaluation "
   ]
  },
  {
   "cell_type": "markdown",
   "metadata": {},
   "source": [
    "* Check correlation Matrix"
   ]
  },
  {
   "cell_type": "markdown",
   "metadata": {},
   "source": [
    "#correlation matrix\n",
    "corrmat = remove_null_data.corr()\n",
    "f, ax = plt.subplots(figsize=(15, 10))\n",
    "sns.heatmap(corrmat, square=True); # considering 70% o correlation as minimum to show"
   ]
  },
  {
   "cell_type": "markdown",
   "metadata": {},
   "source": [
    "* Observations"
   ]
  },
  {
   "cell_type": "markdown",
   "metadata": {},
   "source": [
    "  1- There is an \"island\" between Rec ID and Tow destination Longitude this will be evaluate latter, but looks promissing\n",
    "  2- Basic Cost has a high correlation with the variables within this \"island\" \n",
    "  3- Individual Key and Right_Individual Key are pratically the same variable\n",
    "  4- ZIP5 and ZIP9 are pratically the same variable\n",
    "  5- Months from join to Cancel has no correlation at so ever with the Premier Cost variable\n",
    "  "
   ]
  },
  {
   "cell_type": "markdown",
   "metadata": {},
   "source": [
    "    By the correlation matrix of the entire dataset (minus the columns with more than 70% of null values), we can see that there are still some columns with no correlation, or total correlation with all the variables, and some trouble columns. Therefore, the best thing to do is to drop them."
   ]
  },
  {
   "cell_type": "markdown",
   "metadata": {},
   "source": [
    "trouble_columns= ['Is Duplicate', 'Member Match Flag']\n",
    "\n",
    "columns_will_not_use = ['Individual Key', 'Member Flag', 'Right_Individual Key']"
   ]
  }
 ],
 "metadata": {
  "kernelspec": {
   "display_name": "Python 3.7.3 64-bit ('capstone_project': conda)",
   "language": "python",
   "name": "python37364bitcapstoneprojectconda5004b4b93cee48c98942f95fd39ae01b"
  },
  "language_info": {
   "codemirror_mode": {
    "name": "ipython",
    "version": 3
   },
   "file_extension": ".py",
   "mimetype": "text/x-python",
   "name": "python",
   "nbconvert_exporter": "python",
   "pygments_lexer": "ipython3",
   "version": "3.7.3"
  }
 },
 "nbformat": 4,
 "nbformat_minor": 2
}
