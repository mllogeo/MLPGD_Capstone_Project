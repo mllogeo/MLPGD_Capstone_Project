{
 "cells": [
  {
   "cell_type": "markdown",
   "metadata": {},
   "source": [
    "# Loading Packages"
   ]
  },
  {
   "cell_type": "code",
   "execution_count": 1,
   "metadata": {},
   "outputs": [
    {
     "output_type": "stream",
     "name": "stderr",
     "text": "Enabling notebook extension jupyter-js-widgets/extension...\n      - Validating: ok\n"
    }
   ],
   "source": [
    "! jupyter nbextension enable --py widgetsnbextension"
   ]
  },
  {
   "cell_type": "code",
   "execution_count": 2,
   "metadata": {},
   "outputs": [],
   "source": [
    "import numpy as np\n",
    "import pandas as pd\n",
    "import matplotlib.pyplot as plt\n",
    "from collections import Counter"
   ]
  },
  {
   "cell_type": "markdown",
   "metadata": {},
   "source": [
    "## Seaborn for plots"
   ]
  },
  {
   "cell_type": "code",
   "execution_count": 3,
   "metadata": {},
   "outputs": [],
   "source": [
    "import seaborn as sns\n",
    "color = sns.color_palette()\n",
    "sns.set_style('darkgrid')"
   ]
  },
  {
   "cell_type": "markdown",
   "metadata": {},
   "source": [
    "## Progress Bar"
   ]
  },
  {
   "cell_type": "code",
   "execution_count": 4,
   "metadata": {},
   "outputs": [],
   "source": [
    "%%capture\n",
    "from tqdm import tqdm_notebook\n",
    "tqdm_notebook().pandas()"
   ]
  },
  {
   "cell_type": "markdown",
   "metadata": {},
   "source": [
    "## Pandas Options"
   ]
  },
  {
   "cell_type": "code",
   "execution_count": 5,
   "metadata": {},
   "outputs": [],
   "source": [
    "pd.set_option('max_columns', None)\n",
    "pd.set_option('display.max_rows', None)"
   ]
  },
  {
   "cell_type": "markdown",
   "metadata": {},
   "source": [
    "# Loading Files"
   ]
  },
  {
   "cell_type": "markdown",
   "metadata": {},
   "source": [
    "## 1 - Read Default Data"
   ]
  },
  {
   "cell_type": "code",
   "execution_count": 6,
   "metadata": {},
   "outputs": [],
   "source": [
    "path = '..//resources//aaa_sample_data.xlsx'\n",
    "\n",
    "df_original = pd.read_excel(path)"
   ]
  },
  {
   "cell_type": "markdown",
   "metadata": {},
   "source": [
    "* Data Glance"
   ]
  },
  {
   "cell_type": "code",
   "execution_count": 7,
   "metadata": {},
   "outputs": [
    {
     "output_type": "execute_result",
     "data": {
      "text/plain": "   Column1  Individual Key  Household Key Member Flag          City  \\\n0        0       100000030      104625900           Y     NEW HAVEN   \n1        1       522115500       45007910           Y  WEST WARWICK   \n\n  State - Grouped   ZIP5       ZIP9 FSV CMSI Flag FSV Credit Card Flag  \\\n0              CT  65110  651113490             N                    N   \n1              RI  28930  289338500             N                    Y   \n\n  FSV Deposit Program Flag FSV Home Equity Flag FSV ID Theft Flag  \\\n0                        N                    N                 N   \n1                        N                    N                 N   \n\n  FSV Mortgage Flag INS Client Flag TRV Globalware Flag Number of Children  \\\n0                 N               N                   N                NaN   \n1                 N               N                   N          One Child   \n\n  Responded to Catalog                         Race  Length Of Residence  \\\n0                  NaN                          NaN                  NaN   \n1                  NaN  Caucasion / White - English                150.0   \n\n  Mail Responder  Home Owner     Income Date Of Birth Children     Education  \\\n0            NaN         NaN        NaN           NaT      NaN           NaN   \n1            Yes  Home Owner  30-39,999    1922-02-05      Yes  Some College   \n\n                              Dwelling Type Credit Ranges Language Gender  \\\n0  Small or large multi-family w/apt number           NaN      NaN   Male   \n1  Small or large multi-family w/apt number       600-649  English    NaN   \n\n  Active Expiration Date Address Change Date Bad Address Flag  \\\n0                    NaT                 NaT              NaN   \n1             2020-09-01 2005-01-28 12:41:09                F   \n\n  Billing Code Description Birth Date MMDDYYYY          Branch Name  \\\n0                      NaN                 NaT                  NaN   \n1               New Member          1922-02-05  RI - WARWICK BRANCH   \n\n  Cancel Date Cancel Reason County  Do Not Direct Mail Solicit  \\\n0         NaT           NaN    NaN                         NaN   \n1         NaT           NaN   KENT                         0.0   \n\n   Email Available Email Status  ERS ENT Count Year 1  ERS ENT Count Year 2  \\\n0              NaN          NaN                   NaN                   NaN   \n1              0.0          NaN                   0.0                   0.0   \n\n   ERS ENT Count Year 3  ERS Member Cost Year 1  ERS Member Cost Year 2  \\\n0                   NaN                     NaN                     NaN   \n1                  20.0                     0.0                     0.0   \n\n   ERS Member Cost Year 3 Right_Gender  Right_Individual Key Join AAA Date  \\\n0                     NaN          NaN                   NaN           NaT   \n1                   650.0          NaN           522115500.0    1970-09-01   \n\n  Join Club Date  Member Key Member Map Location  Member Number Associate ID  \\\n0            NaT         NaN                 NaN                         NaN   \n1     1970-09-01  15000140.0   {41.696,-71.5308}                    153000.0   \n\n  Member Phone Type Member Status  Member Tenure Years Member Type  \\\n0               NaN           NaN                  NaN         NaN   \n1              VoIP        ACTIVE                490.0     Primary   \n\n   Membership ID  Months from Join to Cancel Opt-Out - Publication  \\\n0            NaN                         NaN                   NaN   \n1         1530.0                         NaN                Opt-In   \n\n  Reason Joined Reinstate Date Renew Method      ZIP  Mosaic Household  \\\n0           NaN            NaT          NaN      NaN               NaN   \n1           NaN     2019-08-23   AUTO RENEW  28930.0  Senior Discounts   \n\n  Mosaic Global Household kcl_B_IND_MosaicsGrouping New Mover Flag  \\\n0                     NaN                       NaN            NaN   \n1       Low Income Elders     Golden Year Guardians              N   \n\n  Occupation Code Occupation Group Right_Dwelling Type Move Distance  \\\n0             NaN              NaN                 NaN           NaN   \n1             NaN              NaN                 NaN           NaN   \n\n  Occupant Type Breakdown Map Location Breakdown City Breakdown State  \\\n0           NaN                    NaN            NaN             NaN   \n1           NaN               {41,-71}   West Warwick              RI   \n\n   Basic Cost  Calculated Tow Miles Call Canceled Call Killed  \\\n0         NaN                   NaN           NaN         NaN   \n1       325.0                   8.0             N           N   \n\n  Call Status Recv Date Cash Call Clearing Code Last Description  \\\n0                   NaN       NaN                            NaN   \n1   2017-04-13 10:05:17         Y               CASH CALL ONLY C   \n\n  Dispatch Code1 Description  Dispatch Code2Description  \\\n0                        NaN                        NaN   \n1            Engine Overheat                        NaN   \n\n  DTL Prob1 Code Description Fleet Indicator  Is Duplicate  Is NSR  \\\n0                        NaN             NaN           NaN     NaN   \n1            Engine Overheat               N           0.0     0.0   \n\n   Member Match Flag  Member Number and Associate ID Motorcycle Indicator  \\\n0                NaN                             NaN                  NaN   \n1               10.0                        153000.0                    N   \n\n   Plus Cost Plus Indicator Description  Premier Cost Prob1 Code Description  \\\n0        NaN                        NaN           NaN                    NaN   \n1        0.0           Basic Membership           0.0                    Tow   \n\n  Prob2 Code Description SC Call Club Code Description    SC Date      Rec ID  \\\n0                    NaN                           NaN        NaT         NaN   \n1                    NaN                 AAA Northeast 2017-04-13  97073200.0   \n\n  SC STS RSN Code Description SC Vehicle Manufacturer Name  \\\n0                         NaN                          NaN   \n1            CASH CALL ONLY C                       TOYOTA   \n\n  SC Vehicle Model Name      SVC Facility Name   SVC Facility Type  \\\n0                   NaN                    NaN                 NaN   \n1                 CAMRY  ASTRO WRECKER SERVICE  independent repair   \n\n   Total Cost  Tow Destination Latitude  Tow Destination Longitude  \\\n0         NaN                       NaN                        NaN   \n1       325.0                     410.0                     -710.0   \n\n           Tow Destination Name  Was Duplicated  Was Towed To AAR Referral  \n0                           NaN             NaN                        NaN  \n1  Aar / Johnson's Auto Service             0.0                       10.0  ",
      "text/html": "<div>\n<style scoped>\n    .dataframe tbody tr th:only-of-type {\n        vertical-align: middle;\n    }\n\n    .dataframe tbody tr th {\n        vertical-align: top;\n    }\n\n    .dataframe thead th {\n        text-align: right;\n    }\n</style>\n<table border=\"1\" class=\"dataframe\">\n  <thead>\n    <tr style=\"text-align: right;\">\n      <th></th>\n      <th>Column1</th>\n      <th>Individual Key</th>\n      <th>Household Key</th>\n      <th>Member Flag</th>\n      <th>City</th>\n      <th>State - Grouped</th>\n      <th>ZIP5</th>\n      <th>ZIP9</th>\n      <th>FSV CMSI Flag</th>\n      <th>FSV Credit Card Flag</th>\n      <th>FSV Deposit Program Flag</th>\n      <th>FSV Home Equity Flag</th>\n      <th>FSV ID Theft Flag</th>\n      <th>FSV Mortgage Flag</th>\n      <th>INS Client Flag</th>\n      <th>TRV Globalware Flag</th>\n      <th>Number of Children</th>\n      <th>Responded to Catalog</th>\n      <th>Race</th>\n      <th>Length Of Residence</th>\n      <th>Mail Responder</th>\n      <th>Home Owner</th>\n      <th>Income</th>\n      <th>Date Of Birth</th>\n      <th>Children</th>\n      <th>Education</th>\n      <th>Dwelling Type</th>\n      <th>Credit Ranges</th>\n      <th>Language</th>\n      <th>Gender</th>\n      <th>Active Expiration Date</th>\n      <th>Address Change Date</th>\n      <th>Bad Address Flag</th>\n      <th>Billing Code Description</th>\n      <th>Birth Date MMDDYYYY</th>\n      <th>Branch Name</th>\n      <th>Cancel Date</th>\n      <th>Cancel Reason</th>\n      <th>County</th>\n      <th>Do Not Direct Mail Solicit</th>\n      <th>Email Available</th>\n      <th>Email Status</th>\n      <th>ERS ENT Count Year 1</th>\n      <th>ERS ENT Count Year 2</th>\n      <th>ERS ENT Count Year 3</th>\n      <th>ERS Member Cost Year 1</th>\n      <th>ERS Member Cost Year 2</th>\n      <th>ERS Member Cost Year 3</th>\n      <th>Right_Gender</th>\n      <th>Right_Individual Key</th>\n      <th>Join AAA Date</th>\n      <th>Join Club Date</th>\n      <th>Member Key</th>\n      <th>Member Map Location</th>\n      <th>Member Number Associate ID</th>\n      <th>Member Phone Type</th>\n      <th>Member Status</th>\n      <th>Member Tenure Years</th>\n      <th>Member Type</th>\n      <th>Membership ID</th>\n      <th>Months from Join to Cancel</th>\n      <th>Opt-Out - Publication</th>\n      <th>Reason Joined</th>\n      <th>Reinstate Date</th>\n      <th>Renew Method</th>\n      <th>ZIP</th>\n      <th>Mosaic Household</th>\n      <th>Mosaic Global Household</th>\n      <th>kcl_B_IND_MosaicsGrouping</th>\n      <th>New Mover Flag</th>\n      <th>Occupation Code</th>\n      <th>Occupation Group</th>\n      <th>Right_Dwelling Type</th>\n      <th>Move Distance</th>\n      <th>Occupant Type</th>\n      <th>Breakdown Map Location</th>\n      <th>Breakdown City</th>\n      <th>Breakdown State</th>\n      <th>Basic Cost</th>\n      <th>Calculated Tow Miles</th>\n      <th>Call Canceled</th>\n      <th>Call Killed</th>\n      <th>Call Status Recv Date</th>\n      <th>Cash Call</th>\n      <th>Clearing Code Last Description</th>\n      <th>Dispatch Code1 Description</th>\n      <th>Dispatch Code2Description</th>\n      <th>DTL Prob1 Code Description</th>\n      <th>Fleet Indicator</th>\n      <th>Is Duplicate</th>\n      <th>Is NSR</th>\n      <th>Member Match Flag</th>\n      <th>Member Number and Associate ID</th>\n      <th>Motorcycle Indicator</th>\n      <th>Plus Cost</th>\n      <th>Plus Indicator Description</th>\n      <th>Premier Cost</th>\n      <th>Prob1 Code Description</th>\n      <th>Prob2 Code Description</th>\n      <th>SC Call Club Code Description</th>\n      <th>SC Date</th>\n      <th>Rec ID</th>\n      <th>SC STS RSN Code Description</th>\n      <th>SC Vehicle Manufacturer Name</th>\n      <th>SC Vehicle Model Name</th>\n      <th>SVC Facility Name</th>\n      <th>SVC Facility Type</th>\n      <th>Total Cost</th>\n      <th>Tow Destination Latitude</th>\n      <th>Tow Destination Longitude</th>\n      <th>Tow Destination Name</th>\n      <th>Was Duplicated</th>\n      <th>Was Towed To AAR Referral</th>\n    </tr>\n  </thead>\n  <tbody>\n    <tr>\n      <th>0</th>\n      <td>0</td>\n      <td>100000030</td>\n      <td>104625900</td>\n      <td>Y</td>\n      <td>NEW HAVEN</td>\n      <td>CT</td>\n      <td>65110</td>\n      <td>651113490</td>\n      <td>N</td>\n      <td>N</td>\n      <td>N</td>\n      <td>N</td>\n      <td>N</td>\n      <td>N</td>\n      <td>N</td>\n      <td>N</td>\n      <td>NaN</td>\n      <td>NaN</td>\n      <td>NaN</td>\n      <td>NaN</td>\n      <td>NaN</td>\n      <td>NaN</td>\n      <td>NaN</td>\n      <td>NaT</td>\n      <td>NaN</td>\n      <td>NaN</td>\n      <td>Small or large multi-family w/apt number</td>\n      <td>NaN</td>\n      <td>NaN</td>\n      <td>Male</td>\n      <td>NaT</td>\n      <td>NaT</td>\n      <td>NaN</td>\n      <td>NaN</td>\n      <td>NaT</td>\n      <td>NaN</td>\n      <td>NaT</td>\n      <td>NaN</td>\n      <td>NaN</td>\n      <td>NaN</td>\n      <td>NaN</td>\n      <td>NaN</td>\n      <td>NaN</td>\n      <td>NaN</td>\n      <td>NaN</td>\n      <td>NaN</td>\n      <td>NaN</td>\n      <td>NaN</td>\n      <td>NaN</td>\n      <td>NaN</td>\n      <td>NaT</td>\n      <td>NaT</td>\n      <td>NaN</td>\n      <td>NaN</td>\n      <td>NaN</td>\n      <td>NaN</td>\n      <td>NaN</td>\n      <td>NaN</td>\n      <td>NaN</td>\n      <td>NaN</td>\n      <td>NaN</td>\n      <td>NaN</td>\n      <td>NaN</td>\n      <td>NaT</td>\n      <td>NaN</td>\n      <td>NaN</td>\n      <td>NaN</td>\n      <td>NaN</td>\n      <td>NaN</td>\n      <td>NaN</td>\n      <td>NaN</td>\n      <td>NaN</td>\n      <td>NaN</td>\n      <td>NaN</td>\n      <td>NaN</td>\n      <td>NaN</td>\n      <td>NaN</td>\n      <td>NaN</td>\n      <td>NaN</td>\n      <td>NaN</td>\n      <td>NaN</td>\n      <td>NaN</td>\n      <td>NaN</td>\n      <td>NaN</td>\n      <td>NaN</td>\n      <td>NaN</td>\n      <td>NaN</td>\n      <td>NaN</td>\n      <td>NaN</td>\n      <td>NaN</td>\n      <td>NaN</td>\n      <td>NaN</td>\n      <td>NaN</td>\n      <td>NaN</td>\n      <td>NaN</td>\n      <td>NaN</td>\n      <td>NaN</td>\n      <td>NaN</td>\n      <td>NaN</td>\n      <td>NaN</td>\n      <td>NaT</td>\n      <td>NaN</td>\n      <td>NaN</td>\n      <td>NaN</td>\n      <td>NaN</td>\n      <td>NaN</td>\n      <td>NaN</td>\n      <td>NaN</td>\n      <td>NaN</td>\n      <td>NaN</td>\n      <td>NaN</td>\n      <td>NaN</td>\n      <td>NaN</td>\n    </tr>\n    <tr>\n      <th>1</th>\n      <td>1</td>\n      <td>522115500</td>\n      <td>45007910</td>\n      <td>Y</td>\n      <td>WEST WARWICK</td>\n      <td>RI</td>\n      <td>28930</td>\n      <td>289338500</td>\n      <td>N</td>\n      <td>Y</td>\n      <td>N</td>\n      <td>N</td>\n      <td>N</td>\n      <td>N</td>\n      <td>N</td>\n      <td>N</td>\n      <td>One Child</td>\n      <td>NaN</td>\n      <td>Caucasion / White - English</td>\n      <td>150.0</td>\n      <td>Yes</td>\n      <td>Home Owner</td>\n      <td>30-39,999</td>\n      <td>1922-02-05</td>\n      <td>Yes</td>\n      <td>Some College</td>\n      <td>Small or large multi-family w/apt number</td>\n      <td>600-649</td>\n      <td>English</td>\n      <td>NaN</td>\n      <td>2020-09-01</td>\n      <td>2005-01-28 12:41:09</td>\n      <td>F</td>\n      <td>New Member</td>\n      <td>1922-02-05</td>\n      <td>RI - WARWICK BRANCH</td>\n      <td>NaT</td>\n      <td>NaN</td>\n      <td>KENT</td>\n      <td>0.0</td>\n      <td>0.0</td>\n      <td>NaN</td>\n      <td>0.0</td>\n      <td>0.0</td>\n      <td>20.0</td>\n      <td>0.0</td>\n      <td>0.0</td>\n      <td>650.0</td>\n      <td>NaN</td>\n      <td>522115500.0</td>\n      <td>1970-09-01</td>\n      <td>1970-09-01</td>\n      <td>15000140.0</td>\n      <td>{41.696,-71.5308}</td>\n      <td>153000.0</td>\n      <td>VoIP</td>\n      <td>ACTIVE</td>\n      <td>490.0</td>\n      <td>Primary</td>\n      <td>1530.0</td>\n      <td>NaN</td>\n      <td>Opt-In</td>\n      <td>NaN</td>\n      <td>2019-08-23</td>\n      <td>AUTO RENEW</td>\n      <td>28930.0</td>\n      <td>Senior Discounts</td>\n      <td>Low Income Elders</td>\n      <td>Golden Year Guardians</td>\n      <td>N</td>\n      <td>NaN</td>\n      <td>NaN</td>\n      <td>NaN</td>\n      <td>NaN</td>\n      <td>NaN</td>\n      <td>{41,-71}</td>\n      <td>West Warwick</td>\n      <td>RI</td>\n      <td>325.0</td>\n      <td>8.0</td>\n      <td>N</td>\n      <td>N</td>\n      <td>2017-04-13 10:05:17</td>\n      <td>Y</td>\n      <td>CASH CALL ONLY C</td>\n      <td>Engine Overheat</td>\n      <td>NaN</td>\n      <td>Engine Overheat</td>\n      <td>N</td>\n      <td>0.0</td>\n      <td>0.0</td>\n      <td>10.0</td>\n      <td>153000.0</td>\n      <td>N</td>\n      <td>0.0</td>\n      <td>Basic Membership</td>\n      <td>0.0</td>\n      <td>Tow</td>\n      <td>NaN</td>\n      <td>AAA Northeast</td>\n      <td>2017-04-13</td>\n      <td>97073200.0</td>\n      <td>CASH CALL ONLY C</td>\n      <td>TOYOTA</td>\n      <td>CAMRY</td>\n      <td>ASTRO WRECKER SERVICE</td>\n      <td>independent repair</td>\n      <td>325.0</td>\n      <td>410.0</td>\n      <td>-710.0</td>\n      <td>Aar / Johnson's Auto Service</td>\n      <td>0.0</td>\n      <td>10.0</td>\n    </tr>\n  </tbody>\n</table>\n</div>"
     },
     "metadata": {},
     "execution_count": 7
    }
   ],
   "source": [
    "df_original.head(n=2)"
   ]
  },
  {
   "cell_type": "markdown",
   "metadata": {},
   "source": [
    "* General Info"
   ]
  },
  {
   "cell_type": "code",
   "execution_count": 8,
   "metadata": {},
   "outputs": [
    {
     "output_type": "stream",
     "name": "stdout",
     "text": "<class 'pandas.core.frame.DataFrame'>\nRangeIndex: 21344 entries, 0 to 21343\nColumns: 113 entries, Column1 to Was Towed To AAR Referral\ndtypes: datetime64[ns](9), float64(31), int64(5), object(68)\nmemory usage: 18.4+ MB\n"
    }
   ],
   "source": [
    "df_original.info()"
   ]
  },
  {
   "cell_type": "code",
   "execution_count": 9,
   "metadata": {},
   "outputs": [],
   "source": [
    "df_original.dtypes;"
   ]
  },
  {
   "cell_type": "markdown",
   "metadata": {},
   "source": [
    "# Data processing "
   ]
  },
  {
   "cell_type": "markdown",
   "metadata": {},
   "source": [
    "* Creating Dictionary to keep track of each operation and each filtering per operation"
   ]
  },
  {
   "cell_type": "code",
   "execution_count": 10,
   "metadata": {},
   "outputs": [],
   "source": [
    "removed_columns = {}\n",
    "removed_rows = {}"
   ]
  },
  {
   "cell_type": "markdown",
   "metadata": {},
   "source": [
    "## 1 - Dropping Erroneous Column (excel did that on converting the csv original file)"
   ]
  },
  {
   "cell_type": "code",
   "execution_count": 11,
   "metadata": {},
   "outputs": [],
   "source": [
    "removed_columns['Erroneous Columns Removal'] = ['Column1'] "
   ]
  },
  {
   "cell_type": "code",
   "execution_count": 12,
   "metadata": {},
   "outputs": [],
   "source": [
    "df_original.drop(columns='Column1', inplace=True)"
   ]
  },
  {
   "cell_type": "code",
   "execution_count": 13,
   "metadata": {},
   "outputs": [
    {
     "output_type": "stream",
     "name": "stdout",
     "text": "<class 'pandas.core.frame.DataFrame'>\nRangeIndex: 21344 entries, 0 to 21343\nColumns: 112 entries, Individual Key to Was Towed To AAR Referral\ndtypes: datetime64[ns](9), float64(31), int64(4), object(68)\nmemory usage: 18.2+ MB\n"
    }
   ],
   "source": [
    "df_original.info()"
   ]
  },
  {
   "cell_type": "markdown",
   "metadata": {},
   "source": [
    "## 2 - Grouping By Househol Key (main objective) and separate by variable type"
   ]
  },
  {
   "cell_type": "code",
   "execution_count": 14,
   "metadata": {},
   "outputs": [],
   "source": [
    "binary_columns = ['FSV CMSI Flag', 'FSV Credit Card Flag', 'FSV Deposit Program Flag', 'FSV Home Equity Flag', 'FSV ID Theft Flag', 'FSV Mortgage Flag', 'INS Client Flag', 'TRV Globalware Flag', 'Responded to Catalog', 'Mail Responder', 'Home Owner', 'Children', 'Gender', 'Bad Address Flag', 'Do Not Direct Mail Solicit', 'Email Available', 'Opt-Out - Publication', 'New Mover Flag', 'Occupant Type', 'Call Canceled', 'Call Killed', 'Cash Call', 'Fleet Indicator', 'Is Duplicate', 'Is NSR',\t'Member Match Flag', 'Was Duplicated',\t'Was Towed To AAR Referral'] # binary data that will be threat different from the rest of the numerical and categorical data\n",
    "\n",
    "binary = pd.DataFrame() # individual binary dataframe\n",
    "\n",
    "binary['Household Key'] = df_original['Household Key'] # concatenating household key column to perform groupby method\n",
    "\n",
    "numericals = pd.DataFrame() # individual numerical dataframe\n",
    "\n",
    "string = pd.DataFrame() # individual string dataframe\n",
    "\n",
    "string['Household Key'] = df_original['Household Key'] # concatenating household key column to perform groupby method\n",
    "\n",
    "dates = pd.DataFrame() # individual dates dataframe\n",
    "\n",
    "dates['Household Key'] = df_original['Household Key'] # concatenating household key column to perform groupby method"
   ]
  },
  {
   "cell_type": "code",
   "execution_count": 15,
   "metadata": {},
   "outputs": [
    {
     "output_type": "display_data",
     "data": {
      "text/plain": "HBox(children=(FloatProgress(value=0.0, description='Process Progress', max=112.0, style=ProgressStyle(descrip…",
      "application/vnd.jupyter.widget-view+json": {
       "version_major": 2,
       "version_minor": 0,
       "model_id": "bbf967200672484a876905a99dba626d"
      }
     },
     "metadata": {}
    },
    {
     "output_type": "stream",
     "name": "stdout",
     "text": "\n"
    }
   ],
   "source": [
    "for c in tqdm_notebook(df_original.columns, desc='Process Progress'): # for all the columns\n",
    "\n",
    "    if c in binary_columns: # if the columns is in the binary categorie\n",
    "\n",
    "        binary[c] = df_original[c] # fill in the binary dataframe\n",
    "    \n",
    "    elif df_original.dtypes[c] in ['int64', 'float64']: # if the variables type of the given column are float or iteger\n",
    "\n",
    "        numericals[c] = df_original[c] # fill in the numerical dataframe\n",
    "\n",
    "    elif df_original.dtypes[c] in ['<M8[ns]']: # if the variables type of the given column are in the data format\n",
    "        \n",
    "        dates[c] = df_original[c] # fill in the date dataframe\n",
    "\n",
    "    else:\n",
    "\n",
    "        string[c] = df_original[c] # else, fill in the string dataframe\n",
    "    "
   ]
  },
  {
   "cell_type": "code",
   "execution_count": 16,
   "metadata": {},
   "outputs": [],
   "source": [
    "numericals = numericals.groupby('Household Key').mean() # grouping by the mean of numerical values per each Household Key\n",
    "\n",
    "binary_numericals = binary.groupby('Household Key').mean() # grouping by the mean of binary values per each Household Key We still need to separate categorical and numerical binary variables to perform the groupby procedure in the categorical columns"
   ]
  },
  {
   "cell_type": "code",
   "execution_count": 17,
   "metadata": {},
   "outputs": [
    {
     "output_type": "display_data",
     "data": {
      "text/plain": "HBox(children=(FloatProgress(value=0.0, description='Process Progress', max=29.0, style=ProgressStyle(descript…",
      "application/vnd.jupyter.widget-view+json": {
       "version_major": 2,
       "version_minor": 0,
       "model_id": "dfea8d0b5e91413394eae6c6cc759aae"
      }
     },
     "metadata": {}
    },
    {
     "output_type": "stream",
     "name": "stdout",
     "text": "\n"
    }
   ],
   "source": [
    "for c in tqdm_notebook(binary.columns, desc='Process Progress'): # Separating Binary Types\n",
    "    if (c != 'Household Key'): # we dont want to iterate over the Household Key unecessarily\n",
    "        if (binary.dtypes[c] in ['int64', 'float64']): # if the variables type of the given column are float or iteger \n",
    "\n",
    "            binary.drop(columns=c, inplace=True) # dropped from the future categorical binary dataframe"
   ]
  },
  {
   "cell_type": "code",
   "execution_count": 18,
   "metadata": {},
   "outputs": [
    {
     "output_type": "display_data",
     "data": {
      "text/plain": "HBox(children=(FloatProgress(value=0.0, description='Process Progress', max=10.0, style=ProgressStyle(descript…",
      "application/vnd.jupyter.widget-view+json": {
       "version_major": 2,
       "version_minor": 0,
       "model_id": "b4f08cf518cc46658eea396fae2c8be8"
      }
     },
     "metadata": {}
    },
    {
     "output_type": "stream",
     "name": "stdout",
     "text": "\n"
    }
   ],
   "source": [
    "for c in tqdm_notebook(dates.columns, desc='Process Progress'): # Converting Dates into Years\n",
    "    if (c != 'Household Key'):\n",
    "        dates[c] = dates[c].astype('datetime64[ns]')\n",
    "        dates[c] = dates[c].dt.year\n",
    "        #dates[c] = dates[c].astype('int64')"
   ]
  },
  {
   "cell_type": "code",
   "execution_count": 19,
   "metadata": {},
   "outputs": [],
   "source": [
    "dates  = dates.groupby('Household Key').mean() # grouping by the mean of year values per each Household Key"
   ]
  },
  {
   "cell_type": "code",
   "execution_count": 20,
   "metadata": {},
   "outputs": [],
   "source": [
    "string = string.groupby('Household Key').apply(lambda x: x.mode()) # grouping by the mode of each categorical per each Household Key"
   ]
  },
  {
   "cell_type": "code",
   "execution_count": 21,
   "metadata": {},
   "outputs": [
    {
     "output_type": "execute_result",
     "data": {
      "text/plain": "                 Household Key Member Flag      City State - Grouped  \\\nHousehold Key                                                          \n8750          0         8750.0           Y  CRANSTON              RI   \n              1            NaN         NaN       NaN             NaN   \n\n                Number of Children Race Income Education Dwelling Type  \\\nHousehold Key                                                            \n8750          0                NaN  NaN    NaN       NaN          SFDU   \n              1                NaN  NaN    NaN       NaN           NaN   \n\n                Credit Ranges Language Billing Code Description  \\\nHousehold Key                                                     \n8750          0           NaN      NaN      Renewal Mbr Billing   \n              1           NaN      NaN                      NaN   \n\n                          Branch Name Cancel Reason      County  Email Status  \\\nHousehold Key                                                                   \n8750          0  RI - CRANSTON BRANCH   Non-Payment  PROVIDENCE        Active   \n              1                   NaN           NaN         NaN  Unsubscribed   \n\n                Right_Gender Member Map Location Member Phone Type  \\\nHousehold Key                                                        \n8750          0          NaN  {41.7658,-71.4978}          Wireless   \n              1          NaN                 NaN               NaN   \n\n                Member Status Member Type Reason Joined Renew Method  \\\nHousehold Key                                                          \n8750          0        ACTIVE   Associate           NaN       NOTICE   \n              1           NaN         NaN           NaN          NaN   \n\n                   Mosaic Household Mosaic Global Household  \\\nHousehold Key                                                 \n8750          0  Couples with Clout    Bourgeois Prosperity   \n              1                 NaN                     NaN   \n\n                kcl_B_IND_MosaicsGrouping Occupation Code Occupation Group  \\\nHousehold Key                                                                \n8750          0               Power Elite             NaN              NaN   \n              1                       NaN             NaN              NaN   \n\n                Right_Dwelling Type Move Distance Breakdown Map Location  \\\nHousehold Key                                                              \n8750          0   Multi Family With  1 to 5 Miles               {41,-71}   \n              1                 NaN           NaN                    NaN   \n\n                Breakdown City Breakdown State Call Status Recv Date  \\\nHousehold Key                                                          \n8750          0       Cranston              RI   2014-09-27 17:54:38   \n              1            NaN             NaN   2014-09-29 06:34:41   \n\n                Clearing Code Last Description   Dispatch Code1 Description  \\\nHousehold Key                                                                 \n8750          0                 Normal Service            Flat Tire w/spare   \n              1                            NaN  Transmission/Clutch Failure   \n\n                  DTL Prob1 Code Description Motorcycle Indicator  \\\nHousehold Key                                                       \n8750          0            Flat Tire w/spare                    N   \n              1  Transmission/Clutch Failure                  NaN   \n\n                Plus Indicator Description Prob1 Code Description  \\\nHousehold Key                                                       \n8750          0            Plus Membership                    Tow   \n              1                        NaN                    NaN   \n\n                Prob2 Code Description SC Call Club Code Description  \\\nHousehold Key                                                          \n8750          0                    NaN                 AAA Northeast   \n              1                    NaN                           NaN   \n\n                SC STS RSN Code Description SC Vehicle Manufacturer Name  \\\nHousehold Key                                                              \n8750          0              Normal Service                      PONTIAC   \n              1                         NaN                       TOYOTA   \n\n                SC Vehicle Model Name          SVC Facility Name  \\\nHousehold Key                                                      \n8750          0              GRAND AM  AAA SNE RI  LIGHT SERVICE   \n              1                   NaN                        NaN   \n\n                      SVC Facility Type Tow Destination Name  \nHousehold Key                                                 \n8750          0  mobile battery service                Mobil  \n              1                     NaN       Oaklawn Mobile  ",
      "text/html": "<div>\n<style scoped>\n    .dataframe tbody tr th:only-of-type {\n        vertical-align: middle;\n    }\n\n    .dataframe tbody tr th {\n        vertical-align: top;\n    }\n\n    .dataframe thead th {\n        text-align: right;\n    }\n</style>\n<table border=\"1\" class=\"dataframe\">\n  <thead>\n    <tr style=\"text-align: right;\">\n      <th></th>\n      <th></th>\n      <th>Household Key</th>\n      <th>Member Flag</th>\n      <th>City</th>\n      <th>State - Grouped</th>\n      <th>Number of Children</th>\n      <th>Race</th>\n      <th>Income</th>\n      <th>Education</th>\n      <th>Dwelling Type</th>\n      <th>Credit Ranges</th>\n      <th>Language</th>\n      <th>Billing Code Description</th>\n      <th>Branch Name</th>\n      <th>Cancel Reason</th>\n      <th>County</th>\n      <th>Email Status</th>\n      <th>Right_Gender</th>\n      <th>Member Map Location</th>\n      <th>Member Phone Type</th>\n      <th>Member Status</th>\n      <th>Member Type</th>\n      <th>Reason Joined</th>\n      <th>Renew Method</th>\n      <th>Mosaic Household</th>\n      <th>Mosaic Global Household</th>\n      <th>kcl_B_IND_MosaicsGrouping</th>\n      <th>Occupation Code</th>\n      <th>Occupation Group</th>\n      <th>Right_Dwelling Type</th>\n      <th>Move Distance</th>\n      <th>Breakdown Map Location</th>\n      <th>Breakdown City</th>\n      <th>Breakdown State</th>\n      <th>Call Status Recv Date</th>\n      <th>Clearing Code Last Description</th>\n      <th>Dispatch Code1 Description</th>\n      <th>DTL Prob1 Code Description</th>\n      <th>Motorcycle Indicator</th>\n      <th>Plus Indicator Description</th>\n      <th>Prob1 Code Description</th>\n      <th>Prob2 Code Description</th>\n      <th>SC Call Club Code Description</th>\n      <th>SC STS RSN Code Description</th>\n      <th>SC Vehicle Manufacturer Name</th>\n      <th>SC Vehicle Model Name</th>\n      <th>SVC Facility Name</th>\n      <th>SVC Facility Type</th>\n      <th>Tow Destination Name</th>\n    </tr>\n    <tr>\n      <th>Household Key</th>\n      <th></th>\n      <th></th>\n      <th></th>\n      <th></th>\n      <th></th>\n      <th></th>\n      <th></th>\n      <th></th>\n      <th></th>\n      <th></th>\n      <th></th>\n      <th></th>\n      <th></th>\n      <th></th>\n      <th></th>\n      <th></th>\n      <th></th>\n      <th></th>\n      <th></th>\n      <th></th>\n      <th></th>\n      <th></th>\n      <th></th>\n      <th></th>\n      <th></th>\n      <th></th>\n      <th></th>\n      <th></th>\n      <th></th>\n      <th></th>\n      <th></th>\n      <th></th>\n      <th></th>\n      <th></th>\n      <th></th>\n      <th></th>\n      <th></th>\n      <th></th>\n      <th></th>\n      <th></th>\n      <th></th>\n      <th></th>\n      <th></th>\n      <th></th>\n      <th></th>\n      <th></th>\n      <th></th>\n      <th></th>\n      <th></th>\n    </tr>\n  </thead>\n  <tbody>\n    <tr>\n      <th rowspan=\"2\" valign=\"top\">8750</th>\n      <th>0</th>\n      <td>8750.0</td>\n      <td>Y</td>\n      <td>CRANSTON</td>\n      <td>RI</td>\n      <td>NaN</td>\n      <td>NaN</td>\n      <td>NaN</td>\n      <td>NaN</td>\n      <td>SFDU</td>\n      <td>NaN</td>\n      <td>NaN</td>\n      <td>Renewal Mbr Billing</td>\n      <td>RI - CRANSTON BRANCH</td>\n      <td>Non-Payment</td>\n      <td>PROVIDENCE</td>\n      <td>Active</td>\n      <td>NaN</td>\n      <td>{41.7658,-71.4978}</td>\n      <td>Wireless</td>\n      <td>ACTIVE</td>\n      <td>Associate</td>\n      <td>NaN</td>\n      <td>NOTICE</td>\n      <td>Couples with Clout</td>\n      <td>Bourgeois Prosperity</td>\n      <td>Power Elite</td>\n      <td>NaN</td>\n      <td>NaN</td>\n      <td>Multi Family With</td>\n      <td>1 to 5 Miles</td>\n      <td>{41,-71}</td>\n      <td>Cranston</td>\n      <td>RI</td>\n      <td>2014-09-27 17:54:38</td>\n      <td>Normal Service</td>\n      <td>Flat Tire w/spare</td>\n      <td>Flat Tire w/spare</td>\n      <td>N</td>\n      <td>Plus Membership</td>\n      <td>Tow</td>\n      <td>NaN</td>\n      <td>AAA Northeast</td>\n      <td>Normal Service</td>\n      <td>PONTIAC</td>\n      <td>GRAND AM</td>\n      <td>AAA SNE RI  LIGHT SERVICE</td>\n      <td>mobile battery service</td>\n      <td>Mobil</td>\n    </tr>\n    <tr>\n      <th>1</th>\n      <td>NaN</td>\n      <td>NaN</td>\n      <td>NaN</td>\n      <td>NaN</td>\n      <td>NaN</td>\n      <td>NaN</td>\n      <td>NaN</td>\n      <td>NaN</td>\n      <td>NaN</td>\n      <td>NaN</td>\n      <td>NaN</td>\n      <td>NaN</td>\n      <td>NaN</td>\n      <td>NaN</td>\n      <td>NaN</td>\n      <td>Unsubscribed</td>\n      <td>NaN</td>\n      <td>NaN</td>\n      <td>NaN</td>\n      <td>NaN</td>\n      <td>NaN</td>\n      <td>NaN</td>\n      <td>NaN</td>\n      <td>NaN</td>\n      <td>NaN</td>\n      <td>NaN</td>\n      <td>NaN</td>\n      <td>NaN</td>\n      <td>NaN</td>\n      <td>NaN</td>\n      <td>NaN</td>\n      <td>NaN</td>\n      <td>NaN</td>\n      <td>2014-09-29 06:34:41</td>\n      <td>NaN</td>\n      <td>Transmission/Clutch Failure</td>\n      <td>Transmission/Clutch Failure</td>\n      <td>NaN</td>\n      <td>NaN</td>\n      <td>NaN</td>\n      <td>NaN</td>\n      <td>NaN</td>\n      <td>NaN</td>\n      <td>TOYOTA</td>\n      <td>NaN</td>\n      <td>NaN</td>\n      <td>NaN</td>\n      <td>Oaklawn Mobile</td>\n    </tr>\n  </tbody>\n</table>\n</div>"
     },
     "metadata": {},
     "execution_count": 21
    }
   ],
   "source": [
    "string.head(n=2) # by some reason, the groupby method by the mode of string columns returned a multi-index dataframe. Therefore, we need to remove the multi-index of this dataframe to move further our analysis"
   ]
  },
  {
   "cell_type": "code",
   "execution_count": 22,
   "metadata": {},
   "outputs": [],
   "source": [
    "post_processed_string = pd.DataFrame() # creating a new dataframe for the post processed string variable"
   ]
  },
  {
   "cell_type": "code",
   "execution_count": 23,
   "metadata": {},
   "outputs": [
    {
     "output_type": "display_data",
     "data": {
      "text/plain": "HBox(children=(FloatProgress(value=0.0, description='Process Progress', max=5241.0, style=ProgressStyle(descri…",
      "application/vnd.jupyter.widget-view+json": {
       "version_major": 2,
       "version_minor": 0,
       "model_id": "a33a19eac7cf4eba9f3dc3dcd73f4f8a"
      }
     },
     "metadata": {}
    },
    {
     "output_type": "stream",
     "name": "stdout",
     "text": "\n"
    }
   ],
   "source": [
    "for house_id in tqdm_notebook(df_original['Household Key'].unique().tolist(), desc='Process Progress'): # iterating over all unique Household Keys\n",
    "\n",
    "    if len(string.loc[house_id].index.tolist()) > 1: # if, for a given Household Key, we have more then one multi-index value\n",
    "\n",
    "        result = string.loc[house_id].iloc[0] + string.loc[house_id].iloc[1] # we sum the first two rows\n",
    "\n",
    "        non_null_indexes = np.where(string.loc[house_id].iloc[1].isnull().tolist())[0] # we evaluate which of them were not null before the sum procedure\n",
    "\n",
    "        for i in np.where(string.loc[house_id].iloc[1].isnull().tolist())[0]: # we iterate over the indexes that were not null before the sum procedure\n",
    "\n",
    "            result[i] = string.loc[house_id].iloc[0][i] # we replace by the previous non null value\n",
    "\n",
    "        post_processed_string = pd.concat([post_processed_string, result.to_frame().T]) # and we store on our new dataframe\n",
    "\n",
    "    else: # if, for a given Household Key, we have only one multi-index value\n",
    "\n",
    "        result = string.loc[house_id].iloc[0] # we store it because we can not change it so far\n",
    "\n",
    "        post_processed_string = pd.concat([post_processed_string, result.to_frame().T]) # # and we store on our new dataframe"
   ]
  },
  {
   "cell_type": "code",
   "execution_count": 24,
   "metadata": {},
   "outputs": [
    {
     "output_type": "execute_result",
     "data": {
      "text/plain": "          Member Flag          City State - Grouped Number of Children  \\\n104625900           Y     NEW HAVEN              CT                NaN   \n45007910            Y  WEST WARWICK              RI          One Child   \n43175160            Y      TIVERTON              RI                NaN   \n\n                                  Race     Income     Education  \\\n104625900                          NaN        NaN           NaN   \n45007910   Caucasion / White - English  30-39,999  Some College   \n43175160                           NaN        NaN           NaN   \n\n                                      Dwelling Type Credit Ranges Language  \\\n104625900  Small or large multi-family w/apt number           NaN      NaN   \n45007910   Small or large multi-family w/apt number       600-649  English   \n43175160                                       SFDU           NaN      NaN   \n\n          Billing Code Description             Branch Name Cancel Reason  \\\n104625900                      NaN                     NaN           NaN   \n45007910                New Member     RI - WARWICK BRANCH           NaN   \n43175160              Cancellation  RI - BARRINGTON BRANCH      Deceased   \n\n            County Email Status Right_Gender Member Map Location  \\\n104625900      NaN          NaN          NaN                 NaN   \n45007910      KENT          NaN          NaN   {41.696,-71.5308}   \n43175160   NEWPORT          NaN          NaN   {41.673,-71.1886}   \n\n          Member Phone Type Member Status Member Type Reason Joined  \\\n104625900               NaN           NaN         NaN           NaN   \n45007910               VoIP        ACTIVE     Primary           NaN   \n43175160                NaN     CANCELLED     Primary           NaN   \n\n          Renew Method  Mosaic Household Mosaic Global Household  \\\n104625900          NaN               NaN                     NaN   \n45007910    AUTO RENEW  Senior Discounts       Low Income Elders   \n43175160        NOTICE    Aging in Place  Comfortable Retirement   \n\n          kcl_B_IND_MosaicsGrouping Occupation Code Occupation Group  \\\n104625900                       NaN             NaN              NaN   \n45007910      Golden Year Guardians             NaN              NaN   \n43175160               Autumn Years             NaN              NaN   \n\n          Right_Dwelling Type Move Distance Breakdown Map Location  \\\n104625900                 NaN           NaN                    NaN   \n45007910                  NaN           NaN               {41,-71}   \n43175160                  NaN           NaN                    NaN   \n\n          Breakdown City Breakdown State  \\\n104625900            NaN             NaN   \n45007910    West Warwick              RI   \n43175160             NaN             NaN   \n\n                            Call Status Recv Date  \\\n104625900                                     NaN   \n45007910   2015-01-29 14:34:292015-09-25 16:26:14   \n43175160                                      NaN   \n\n          Clearing Code Last Description       Dispatch Code1 Description  \\\n104625900                            NaN                              NaN   \n45007910                  Normal Service  Member Requests Battery Service   \n43175160                             NaN                              NaN   \n\n                DTL Prob1 Code Description Motorcycle Indicator  \\\n104625900                              NaN                  NaN   \n45007910   Member Requests Battery Service                    N   \n43175160                               NaN                  NaN   \n\n          Plus Indicator Description Prob1 Code Description  \\\n104625900                        NaN                    NaN   \n45007910            Basic Membership        Battery Service   \n43175160                         NaN                    NaN   \n\n          Prob2 Code Description SC Call Club Code Description  \\\n104625900                    NaN                           NaN   \n45007910                     NaN                 AAA Northeast   \n43175160                     NaN                           NaN   \n\n          SC STS RSN Code Description SC Vehicle Manufacturer Name  \\\n104625900                         NaN                          NaN   \n45007910               Normal Service                       TOYOTA   \n43175160                          NaN                          NaN   \n\n          SC Vehicle Model Name                           SVC Facility Name  \\\n104625900                   NaN                                         NaN   \n45007910                  CAMRY  ASTRO WRECKER SERVICEAstro Wrecker Service   \n43175160                    NaN                                         NaN   \n\n            SVC Facility Type          Tow Destination Name  \n104625900                 NaN                           NaN  \n45007910   independent repair  Aar / Johnson's Auto Service  \n43175160                  NaN                           NaN  ",
      "text/html": "<div>\n<style scoped>\n    .dataframe tbody tr th:only-of-type {\n        vertical-align: middle;\n    }\n\n    .dataframe tbody tr th {\n        vertical-align: top;\n    }\n\n    .dataframe thead th {\n        text-align: right;\n    }\n</style>\n<table border=\"1\" class=\"dataframe\">\n  <thead>\n    <tr style=\"text-align: right;\">\n      <th></th>\n      <th>Member Flag</th>\n      <th>City</th>\n      <th>State - Grouped</th>\n      <th>Number of Children</th>\n      <th>Race</th>\n      <th>Income</th>\n      <th>Education</th>\n      <th>Dwelling Type</th>\n      <th>Credit Ranges</th>\n      <th>Language</th>\n      <th>Billing Code Description</th>\n      <th>Branch Name</th>\n      <th>Cancel Reason</th>\n      <th>County</th>\n      <th>Email Status</th>\n      <th>Right_Gender</th>\n      <th>Member Map Location</th>\n      <th>Member Phone Type</th>\n      <th>Member Status</th>\n      <th>Member Type</th>\n      <th>Reason Joined</th>\n      <th>Renew Method</th>\n      <th>Mosaic Household</th>\n      <th>Mosaic Global Household</th>\n      <th>kcl_B_IND_MosaicsGrouping</th>\n      <th>Occupation Code</th>\n      <th>Occupation Group</th>\n      <th>Right_Dwelling Type</th>\n      <th>Move Distance</th>\n      <th>Breakdown Map Location</th>\n      <th>Breakdown City</th>\n      <th>Breakdown State</th>\n      <th>Call Status Recv Date</th>\n      <th>Clearing Code Last Description</th>\n      <th>Dispatch Code1 Description</th>\n      <th>DTL Prob1 Code Description</th>\n      <th>Motorcycle Indicator</th>\n      <th>Plus Indicator Description</th>\n      <th>Prob1 Code Description</th>\n      <th>Prob2 Code Description</th>\n      <th>SC Call Club Code Description</th>\n      <th>SC STS RSN Code Description</th>\n      <th>SC Vehicle Manufacturer Name</th>\n      <th>SC Vehicle Model Name</th>\n      <th>SVC Facility Name</th>\n      <th>SVC Facility Type</th>\n      <th>Tow Destination Name</th>\n    </tr>\n  </thead>\n  <tbody>\n    <tr>\n      <th>104625900</th>\n      <td>Y</td>\n      <td>NEW HAVEN</td>\n      <td>CT</td>\n      <td>NaN</td>\n      <td>NaN</td>\n      <td>NaN</td>\n      <td>NaN</td>\n      <td>Small or large multi-family w/apt number</td>\n      <td>NaN</td>\n      <td>NaN</td>\n      <td>NaN</td>\n      <td>NaN</td>\n      <td>NaN</td>\n      <td>NaN</td>\n      <td>NaN</td>\n      <td>NaN</td>\n      <td>NaN</td>\n      <td>NaN</td>\n      <td>NaN</td>\n      <td>NaN</td>\n      <td>NaN</td>\n      <td>NaN</td>\n      <td>NaN</td>\n      <td>NaN</td>\n      <td>NaN</td>\n      <td>NaN</td>\n      <td>NaN</td>\n      <td>NaN</td>\n      <td>NaN</td>\n      <td>NaN</td>\n      <td>NaN</td>\n      <td>NaN</td>\n      <td>NaN</td>\n      <td>NaN</td>\n      <td>NaN</td>\n      <td>NaN</td>\n      <td>NaN</td>\n      <td>NaN</td>\n      <td>NaN</td>\n      <td>NaN</td>\n      <td>NaN</td>\n      <td>NaN</td>\n      <td>NaN</td>\n      <td>NaN</td>\n      <td>NaN</td>\n      <td>NaN</td>\n      <td>NaN</td>\n    </tr>\n    <tr>\n      <th>45007910</th>\n      <td>Y</td>\n      <td>WEST WARWICK</td>\n      <td>RI</td>\n      <td>One Child</td>\n      <td>Caucasion / White - English</td>\n      <td>30-39,999</td>\n      <td>Some College</td>\n      <td>Small or large multi-family w/apt number</td>\n      <td>600-649</td>\n      <td>English</td>\n      <td>New Member</td>\n      <td>RI - WARWICK BRANCH</td>\n      <td>NaN</td>\n      <td>KENT</td>\n      <td>NaN</td>\n      <td>NaN</td>\n      <td>{41.696,-71.5308}</td>\n      <td>VoIP</td>\n      <td>ACTIVE</td>\n      <td>Primary</td>\n      <td>NaN</td>\n      <td>AUTO RENEW</td>\n      <td>Senior Discounts</td>\n      <td>Low Income Elders</td>\n      <td>Golden Year Guardians</td>\n      <td>NaN</td>\n      <td>NaN</td>\n      <td>NaN</td>\n      <td>NaN</td>\n      <td>{41,-71}</td>\n      <td>West Warwick</td>\n      <td>RI</td>\n      <td>2015-01-29 14:34:292015-09-25 16:26:14</td>\n      <td>Normal Service</td>\n      <td>Member Requests Battery Service</td>\n      <td>Member Requests Battery Service</td>\n      <td>N</td>\n      <td>Basic Membership</td>\n      <td>Battery Service</td>\n      <td>NaN</td>\n      <td>AAA Northeast</td>\n      <td>Normal Service</td>\n      <td>TOYOTA</td>\n      <td>CAMRY</td>\n      <td>ASTRO WRECKER SERVICEAstro Wrecker Service</td>\n      <td>independent repair</td>\n      <td>Aar / Johnson's Auto Service</td>\n    </tr>\n    <tr>\n      <th>43175160</th>\n      <td>Y</td>\n      <td>TIVERTON</td>\n      <td>RI</td>\n      <td>NaN</td>\n      <td>NaN</td>\n      <td>NaN</td>\n      <td>NaN</td>\n      <td>SFDU</td>\n      <td>NaN</td>\n      <td>NaN</td>\n      <td>Cancellation</td>\n      <td>RI - BARRINGTON BRANCH</td>\n      <td>Deceased</td>\n      <td>NEWPORT</td>\n      <td>NaN</td>\n      <td>NaN</td>\n      <td>{41.673,-71.1886}</td>\n      <td>NaN</td>\n      <td>CANCELLED</td>\n      <td>Primary</td>\n      <td>NaN</td>\n      <td>NOTICE</td>\n      <td>Aging in Place</td>\n      <td>Comfortable Retirement</td>\n      <td>Autumn Years</td>\n      <td>NaN</td>\n      <td>NaN</td>\n      <td>NaN</td>\n      <td>NaN</td>\n      <td>NaN</td>\n      <td>NaN</td>\n      <td>NaN</td>\n      <td>NaN</td>\n      <td>NaN</td>\n      <td>NaN</td>\n      <td>NaN</td>\n      <td>NaN</td>\n      <td>NaN</td>\n      <td>NaN</td>\n      <td>NaN</td>\n      <td>NaN</td>\n      <td>NaN</td>\n      <td>NaN</td>\n      <td>NaN</td>\n      <td>NaN</td>\n      <td>NaN</td>\n      <td>NaN</td>\n    </tr>\n  </tbody>\n</table>\n</div>"
     },
     "metadata": {},
     "execution_count": 24
    }
   ],
   "source": [
    "post_processed_string = post_processed_string.set_index('Household Key') # set index to be sorted as Household Key values\n",
    "\n",
    "post_processed_string.index = post_processed_string.index.astype(int) # converting the index to iterger\n",
    "\n",
    "post_processed_string.head(n=3)"
   ]
  },
  {
   "cell_type": "code",
   "execution_count": 25,
   "metadata": {},
   "outputs": [],
   "source": [
    "binary_categoricals = binary.groupby('Household Key').apply(lambda x: x.mode()) # grouping by the mode of each categorical per each Household Key"
   ]
  },
  {
   "cell_type": "code",
   "execution_count": 26,
   "metadata": {},
   "outputs": [
    {
     "output_type": "execute_result",
     "data": {
      "text/plain": "                 Household Key FSV CMSI Flag FSV Credit Card Flag  \\\nHousehold Key                                                       \n8750          0         8750.0             N                    N   \n9690          0         9690.0             N                    N   \n33380         0        33380.0             N                    N   \n87180         0        87180.0             N                    N   \n              1            NaN           NaN                  NaN   \n\n                FSV Deposit Program Flag FSV Home Equity Flag  \\\nHousehold Key                                                   \n8750          0                        N                    N   \n9690          0                        N                    N   \n33380         0                        N                    N   \n87180         0                        N                    N   \n              1                      NaN                  NaN   \n\n                FSV ID Theft Flag FSV Mortgage Flag INS Client Flag  \\\nHousehold Key                                                         \n8750          0                 N                 N               N   \n9690          0                 N                 N               N   \n33380         0                 N                 N               N   \n87180         0                 N                 N               N   \n              1               NaN               NaN             NaN   \n\n                TRV Globalware Flag Responded to Catalog Mail Responder  \\\nHousehold Key                                                             \n8750          0                   N                  NaN            NaN   \n9690          0                   N                  NaN            Yes   \n33380         0                   N                  NaN            Yes   \n87180         0                   N                  NaN            Yes   \n              1                   Y                  NaN            NaN   \n\n                 Home Owner Children Gender Bad Address Flag  \\\nHousehold Key                                                  \n8750          0         NaN      NaN    NaN                F   \n9690          0  Home Owner       No   Male                F   \n33380         0  Home Owner      Yes    NaN                F   \n87180         0  Home Owner       No   Male                F   \n              1         NaN      NaN    NaN              NaN   \n\n                Opt-Out - Publication New Mover Flag Occupant Type  \\\nHousehold Key                                                        \n8750          0                Opt-In              N        Renter   \n9690          0                Opt-In              N           NaN   \n33380         0                Opt-In              N           NaN   \n87180         0                Opt-In              N           NaN   \n              1                   NaN            NaN           NaN   \n\n                Call Canceled Call Killed Cash Call Fleet Indicator  \nHousehold Key                                                        \n8750          0             N           N         N               Y  \n9690          0             N           N         N               Y  \n33380         0           NaN         NaN       NaN             NaN  \n87180         0           NaN         NaN       NaN             NaN  \n              1           NaN         NaN       NaN             NaN  ",
      "text/html": "<div>\n<style scoped>\n    .dataframe tbody tr th:only-of-type {\n        vertical-align: middle;\n    }\n\n    .dataframe tbody tr th {\n        vertical-align: top;\n    }\n\n    .dataframe thead th {\n        text-align: right;\n    }\n</style>\n<table border=\"1\" class=\"dataframe\">\n  <thead>\n    <tr style=\"text-align: right;\">\n      <th></th>\n      <th></th>\n      <th>Household Key</th>\n      <th>FSV CMSI Flag</th>\n      <th>FSV Credit Card Flag</th>\n      <th>FSV Deposit Program Flag</th>\n      <th>FSV Home Equity Flag</th>\n      <th>FSV ID Theft Flag</th>\n      <th>FSV Mortgage Flag</th>\n      <th>INS Client Flag</th>\n      <th>TRV Globalware Flag</th>\n      <th>Responded to Catalog</th>\n      <th>Mail Responder</th>\n      <th>Home Owner</th>\n      <th>Children</th>\n      <th>Gender</th>\n      <th>Bad Address Flag</th>\n      <th>Opt-Out - Publication</th>\n      <th>New Mover Flag</th>\n      <th>Occupant Type</th>\n      <th>Call Canceled</th>\n      <th>Call Killed</th>\n      <th>Cash Call</th>\n      <th>Fleet Indicator</th>\n    </tr>\n    <tr>\n      <th>Household Key</th>\n      <th></th>\n      <th></th>\n      <th></th>\n      <th></th>\n      <th></th>\n      <th></th>\n      <th></th>\n      <th></th>\n      <th></th>\n      <th></th>\n      <th></th>\n      <th></th>\n      <th></th>\n      <th></th>\n      <th></th>\n      <th></th>\n      <th></th>\n      <th></th>\n      <th></th>\n      <th></th>\n      <th></th>\n      <th></th>\n      <th></th>\n    </tr>\n  </thead>\n  <tbody>\n    <tr>\n      <th>8750</th>\n      <th>0</th>\n      <td>8750.0</td>\n      <td>N</td>\n      <td>N</td>\n      <td>N</td>\n      <td>N</td>\n      <td>N</td>\n      <td>N</td>\n      <td>N</td>\n      <td>N</td>\n      <td>NaN</td>\n      <td>NaN</td>\n      <td>NaN</td>\n      <td>NaN</td>\n      <td>NaN</td>\n      <td>F</td>\n      <td>Opt-In</td>\n      <td>N</td>\n      <td>Renter</td>\n      <td>N</td>\n      <td>N</td>\n      <td>N</td>\n      <td>Y</td>\n    </tr>\n    <tr>\n      <th>9690</th>\n      <th>0</th>\n      <td>9690.0</td>\n      <td>N</td>\n      <td>N</td>\n      <td>N</td>\n      <td>N</td>\n      <td>N</td>\n      <td>N</td>\n      <td>N</td>\n      <td>N</td>\n      <td>NaN</td>\n      <td>Yes</td>\n      <td>Home Owner</td>\n      <td>No</td>\n      <td>Male</td>\n      <td>F</td>\n      <td>Opt-In</td>\n      <td>N</td>\n      <td>NaN</td>\n      <td>N</td>\n      <td>N</td>\n      <td>N</td>\n      <td>Y</td>\n    </tr>\n    <tr>\n      <th>33380</th>\n      <th>0</th>\n      <td>33380.0</td>\n      <td>N</td>\n      <td>N</td>\n      <td>N</td>\n      <td>N</td>\n      <td>N</td>\n      <td>N</td>\n      <td>N</td>\n      <td>N</td>\n      <td>NaN</td>\n      <td>Yes</td>\n      <td>Home Owner</td>\n      <td>Yes</td>\n      <td>NaN</td>\n      <td>F</td>\n      <td>Opt-In</td>\n      <td>N</td>\n      <td>NaN</td>\n      <td>NaN</td>\n      <td>NaN</td>\n      <td>NaN</td>\n      <td>NaN</td>\n    </tr>\n    <tr>\n      <th rowspan=\"2\" valign=\"top\">87180</th>\n      <th>0</th>\n      <td>87180.0</td>\n      <td>N</td>\n      <td>N</td>\n      <td>N</td>\n      <td>N</td>\n      <td>N</td>\n      <td>N</td>\n      <td>N</td>\n      <td>N</td>\n      <td>NaN</td>\n      <td>Yes</td>\n      <td>Home Owner</td>\n      <td>No</td>\n      <td>Male</td>\n      <td>F</td>\n      <td>Opt-In</td>\n      <td>N</td>\n      <td>NaN</td>\n      <td>NaN</td>\n      <td>NaN</td>\n      <td>NaN</td>\n      <td>NaN</td>\n    </tr>\n    <tr>\n      <th>1</th>\n      <td>NaN</td>\n      <td>NaN</td>\n      <td>NaN</td>\n      <td>NaN</td>\n      <td>NaN</td>\n      <td>NaN</td>\n      <td>NaN</td>\n      <td>NaN</td>\n      <td>Y</td>\n      <td>NaN</td>\n      <td>NaN</td>\n      <td>NaN</td>\n      <td>NaN</td>\n      <td>NaN</td>\n      <td>NaN</td>\n      <td>NaN</td>\n      <td>NaN</td>\n      <td>NaN</td>\n      <td>NaN</td>\n      <td>NaN</td>\n      <td>NaN</td>\n      <td>NaN</td>\n    </tr>\n  </tbody>\n</table>\n</div>"
     },
     "metadata": {},
     "execution_count": 26
    }
   ],
   "source": [
    "binary_categoricals.head(n=5) # by some reason, the groupby method by the mode of binary_categoricals columns returned a multi-index dataframe. Therefore, we need to remove the multi-index of this dataframe to move further our analysis"
   ]
  },
  {
   "cell_type": "code",
   "execution_count": 27,
   "metadata": {},
   "outputs": [],
   "source": [
    "post_processed_binary_categoricals = pd.DataFrame() # creating a new dataframe for the post processed string variable"
   ]
  },
  {
   "cell_type": "code",
   "execution_count": 28,
   "metadata": {},
   "outputs": [
    {
     "output_type": "display_data",
     "data": {
      "text/plain": "HBox(children=(FloatProgress(value=0.0, description='Process Progress', max=5241.0, style=ProgressStyle(descri…",
      "application/vnd.jupyter.widget-view+json": {
       "version_major": 2,
       "version_minor": 0,
       "model_id": "f193f2f67ced4c6ba3f34848d73b7a85"
      }
     },
     "metadata": {}
    },
    {
     "output_type": "stream",
     "name": "stdout",
     "text": "\n"
    }
   ],
   "source": [
    "for house_id in tqdm_notebook(df_original['Household Key'].unique().tolist(), desc='Process Progress'): # iterating over all unique Household Keys\n",
    "\n",
    "    if len(binary_categoricals.loc[house_id].index.tolist()) > 1: # if, for a given Household Key, we have more then one multi-index value\n",
    "\n",
    "        result = binary_categoricals.loc[house_id].iloc[0] + binary_categoricals.loc[house_id].iloc[1] # we sum the first two rows\n",
    "\n",
    "        non_null_indexes = np.where(binary_categoricals.loc[house_id].iloc[1].isnull().tolist())[0] # we evaluate which of them were not null before the sum procedure\n",
    "\n",
    "        for i in np.where(binary_categoricals.loc[house_id].iloc[1].isnull().tolist())[0]: # we iterate over the indexes that were not null before the sum procedure\n",
    "\n",
    "            result[i] = binary_categoricals.loc[house_id].iloc[0][i] # we replace by the previous non null value\n",
    "\n",
    "        post_processed_binary_categoricals = pd.concat([post_processed_binary_categoricals, result.to_frame().T]) # and we store on our new dataframe\n",
    "\n",
    "    else: # if, for a given Household Key, we have only one multi-index value\n",
    "\n",
    "        result = binary_categoricals.loc[house_id].iloc[0] # we store it because we can not change it so far\n",
    "\n",
    "        post_processed_binary_categoricals = pd.concat([post_processed_binary_categoricals, result.to_frame().T]) # # and we store on our new dataframe"
   ]
  },
  {
   "cell_type": "code",
   "execution_count": 29,
   "metadata": {},
   "outputs": [
    {
     "output_type": "execute_result",
     "data": {
      "text/plain": "          FSV CMSI Flag FSV Credit Card Flag FSV Deposit Program Flag  \\\n104625900             N                    N                        N   \n45007910              N                    Y                        N   \n43175160              N                    N                        N   \n\n          FSV Home Equity Flag FSV ID Theft Flag FSV Mortgage Flag  \\\n104625900                    N                 N                 N   \n45007910                     N                 N                 N   \n43175160                     N                 N                 N   \n\n          INS Client Flag TRV Globalware Flag Responded to Catalog  \\\n104625900               N                   N                  NaN   \n45007910                N                   N                  NaN   \n43175160                N                   N                  NaN   \n\n          Mail Responder  Home Owner Children Gender Bad Address Flag  \\\n104625900            NaN         NaN      NaN   Male              NaN   \n45007910             Yes  Home Owner      Yes    NaN                F   \n43175160             NaN         NaN      NaN    NaN                F   \n\n          Opt-Out - Publication New Mover Flag Occupant Type Call Canceled  \\\n104625900                   NaN            NaN           NaN           NaN   \n45007910                 Opt-In              N           NaN             N   \n43175160                 Opt-In              N           NaN           NaN   \n\n          Call Killed Cash Call Fleet Indicator  \n104625900         NaN       NaN             NaN  \n45007910            N         N               N  \n43175160          NaN       NaN             NaN  ",
      "text/html": "<div>\n<style scoped>\n    .dataframe tbody tr th:only-of-type {\n        vertical-align: middle;\n    }\n\n    .dataframe tbody tr th {\n        vertical-align: top;\n    }\n\n    .dataframe thead th {\n        text-align: right;\n    }\n</style>\n<table border=\"1\" class=\"dataframe\">\n  <thead>\n    <tr style=\"text-align: right;\">\n      <th></th>\n      <th>FSV CMSI Flag</th>\n      <th>FSV Credit Card Flag</th>\n      <th>FSV Deposit Program Flag</th>\n      <th>FSV Home Equity Flag</th>\n      <th>FSV ID Theft Flag</th>\n      <th>FSV Mortgage Flag</th>\n      <th>INS Client Flag</th>\n      <th>TRV Globalware Flag</th>\n      <th>Responded to Catalog</th>\n      <th>Mail Responder</th>\n      <th>Home Owner</th>\n      <th>Children</th>\n      <th>Gender</th>\n      <th>Bad Address Flag</th>\n      <th>Opt-Out - Publication</th>\n      <th>New Mover Flag</th>\n      <th>Occupant Type</th>\n      <th>Call Canceled</th>\n      <th>Call Killed</th>\n      <th>Cash Call</th>\n      <th>Fleet Indicator</th>\n    </tr>\n  </thead>\n  <tbody>\n    <tr>\n      <th>104625900</th>\n      <td>N</td>\n      <td>N</td>\n      <td>N</td>\n      <td>N</td>\n      <td>N</td>\n      <td>N</td>\n      <td>N</td>\n      <td>N</td>\n      <td>NaN</td>\n      <td>NaN</td>\n      <td>NaN</td>\n      <td>NaN</td>\n      <td>Male</td>\n      <td>NaN</td>\n      <td>NaN</td>\n      <td>NaN</td>\n      <td>NaN</td>\n      <td>NaN</td>\n      <td>NaN</td>\n      <td>NaN</td>\n      <td>NaN</td>\n    </tr>\n    <tr>\n      <th>45007910</th>\n      <td>N</td>\n      <td>Y</td>\n      <td>N</td>\n      <td>N</td>\n      <td>N</td>\n      <td>N</td>\n      <td>N</td>\n      <td>N</td>\n      <td>NaN</td>\n      <td>Yes</td>\n      <td>Home Owner</td>\n      <td>Yes</td>\n      <td>NaN</td>\n      <td>F</td>\n      <td>Opt-In</td>\n      <td>N</td>\n      <td>NaN</td>\n      <td>N</td>\n      <td>N</td>\n      <td>N</td>\n      <td>N</td>\n    </tr>\n    <tr>\n      <th>43175160</th>\n      <td>N</td>\n      <td>N</td>\n      <td>N</td>\n      <td>N</td>\n      <td>N</td>\n      <td>N</td>\n      <td>N</td>\n      <td>N</td>\n      <td>NaN</td>\n      <td>NaN</td>\n      <td>NaN</td>\n      <td>NaN</td>\n      <td>NaN</td>\n      <td>F</td>\n      <td>Opt-In</td>\n      <td>N</td>\n      <td>NaN</td>\n      <td>NaN</td>\n      <td>NaN</td>\n      <td>NaN</td>\n      <td>NaN</td>\n    </tr>\n  </tbody>\n</table>\n</div>"
     },
     "metadata": {},
     "execution_count": 29
    }
   ],
   "source": [
    "post_processed_binary_categoricals = post_processed_binary_categoricals.set_index('Household Key') # set index to be sorted as Household Key values\n",
    "\n",
    "post_processed_binary_categoricals.index = post_processed_binary_categoricals.index.astype(int) # converting the index to iterger\n",
    "\n",
    "post_processed_binary_categoricals.head(n=3)"
   ]
  },
  {
   "cell_type": "code",
   "execution_count": 30,
   "metadata": {},
   "outputs": [
    {
     "output_type": "stream",
     "name": "stdout",
     "text": "5241 5241 5241 5241 5241\n"
    }
   ],
   "source": [
    "print(len(numericals.index), len(binary_numericals.index), len(post_processed_binary_categoricals.index), len(dates.index), len(post_processed_string.index)) # number of rows per type of variable"
   ]
  },
  {
   "cell_type": "code",
   "execution_count": 31,
   "metadata": {},
   "outputs": [
    {
     "output_type": "stream",
     "name": "stdout",
     "text": "27 7 21 9 47\n"
    }
   ],
   "source": [
    "print(len(numericals.columns), len(binary_numericals.columns), len(post_processed_binary_categoricals.columns), len(dates.columns), len(post_processed_string.columns)) # number of columns per type of variable"
   ]
  },
  {
   "cell_type": "markdown",
   "metadata": {},
   "source": [
    "## 3 - Evaluating number of null values in Columns (Data Processing)"
   ]
  },
  {
   "cell_type": "code",
   "execution_count": 32,
   "metadata": {},
   "outputs": [],
   "source": [
    "columns_nullval_ratio = {} # dictionary of null values ration for all columns\n",
    "\n",
    "sequence = ['Numerical', 'Binary Numericals', 'Dates', 'Binary Categoricals', 'Strings'] # key sequence for dictionaries\n",
    "\n",
    "data_type_collection = [numericals, binary_numericals, dates, post_processed_binary_categoricals, post_processed_string] # list of dataframes per each data type\n",
    "\n",
    "for var_type, idx in zip(sequence, range(len(sequence))): \n",
    "\n",
    "    columns_nullval_ratio[var_type] = (data_type_collection[idx].isnull().sum() * 100 / len(data_type_collection[idx])).sort_values(ascending=False) # filling dataframe dictionary"
   ]
  },
  {
   "cell_type": "markdown",
   "metadata": {},
   "source": [
    "plt.figure(figsize=(10,5))\n",
    "sns.barplot(x=columns_nullval_ratio[sequence[0]].index, y=columns_nullval_ratio[sequence[0]])\n",
    "plt.xticks(rotation='90')\n",
    "plt.xlabel('Variables', fontsize=10)\n",
    "plt.ylabel('Percentage of missing values', fontsize=10)\n",
    "plt.title('Percentage of missing values for the' + ' ' + sequence[0] + ' ' + 'Dataframe', fontsize=15)"
   ]
  },
  {
   "cell_type": "markdown",
   "metadata": {},
   "source": [
    "plt.figure(figsize=(10,5))\n",
    "\n",
    "sns.barplot(x=columns_nullval_ratio[sequence[1]].index, y=columns_nullval_ratio[sequence[1]])\n",
    "plt.xticks(rotation='90')\n",
    "plt.xlabel('Variables', fontsize=10)\n",
    "plt.ylabel('Percentage of missing values', fontsize=10)\n",
    "plt.title('Percentage of missing values for the' + ' ' + sequence[1] + ' ' + 'Dataframe', fontsize=15)"
   ]
  },
  {
   "cell_type": "markdown",
   "metadata": {},
   "source": [
    "plt.figure(figsize=(10,5))\n",
    "\n",
    "sns.barplot(x=columns_nullval_ratio[sequence[2]].index, y=columns_nullval_ratio[sequence[2]])\n",
    "plt.xticks(rotation='90')\n",
    "plt.xlabel('Variables', fontsize=10)\n",
    "plt.ylabel('Percentage of missing values', fontsize=10)\n",
    "plt.title('Percentage of missing values for the' + ' ' + sequence[2] + ' ' + 'Dataframe', fontsize=15)"
   ]
  },
  {
   "cell_type": "markdown",
   "metadata": {},
   "source": [
    "plt.figure(figsize=(10,5))\n",
    "\n",
    "sns.barplot(x=columns_nullval_ratio[sequence[3]].index, y=columns_nullval_ratio[sequence[3]])\n",
    "plt.xticks(rotation='90')\n",
    "plt.xlabel('Variables', fontsize=10)\n",
    "plt.ylabel('Percentage of missing values', fontsize=10)\n",
    "plt.title('Percentage of missing values for the' + ' ' + sequence[3] + ' ' + 'Dataframe', fontsize=15)"
   ]
  },
  {
   "cell_type": "markdown",
   "metadata": {},
   "source": [
    "plt.figure(figsize=(10,5))\n",
    "\n",
    "sns.barplot(x=columns_nullval_ratio[sequence[4]].index, y=columns_nullval_ratio[sequence[4]])\n",
    "plt.xticks(rotation='90')\n",
    "plt.xlabel('Variables', fontsize=10)\n",
    "plt.ylabel('Percentage of missing values', fontsize=10)\n",
    "plt.title('Percentage of missing values for the' + ' ' + sequence[4] + ' ' + 'Dataframe', fontsize=15)"
   ]
  },
  {
   "cell_type": "code",
   "execution_count": 33,
   "metadata": {},
   "outputs": [],
   "source": [
    "checkpoint_1 = {} # creating dictionary for the first checkpoint\n",
    "\n",
    "for var_type, idx in zip(sequence, range(len(sequence))): \n",
    "    checkpoint_1[var_type] = data_type_collection[idx].copy() # filling it with all types of dataframes"
   ]
  },
  {
   "cell_type": "code",
   "execution_count": 34,
   "metadata": {},
   "outputs": [],
   "source": [
    "column_threshold = 40.0 # threshold of 40 %"
   ]
  },
  {
   "cell_type": "code",
   "execution_count": 35,
   "metadata": {},
   "outputs": [],
   "source": [
    "key2 = str(column_threshold) + '% Column Threshold Removal' # key for our track removal dictionary\n",
    "\n",
    "removed_columns[key2] = [] # adding to the new key to the dictionary"
   ]
  },
  {
   "cell_type": "code",
   "execution_count": 36,
   "metadata": {},
   "outputs": [
    {
     "output_type": "display_data",
     "data": {
      "text/plain": "HBox(children=(FloatProgress(value=0.0, description='Process Progress', max=112.0, style=ProgressStyle(descrip…",
      "application/vnd.jupyter.widget-view+json": {
       "version_major": 2,
       "version_minor": 0,
       "model_id": "ac5e286abd76411e99b04e74828f17aa"
      }
     },
     "metadata": {}
    },
    {
     "output_type": "stream",
     "name": "stdout",
     "text": "\nRemoved Columns after filtering process:  ['Responded to Catalog', 'Gender', 'Address Change Date', 'Right_Gender', 'Reason Joined', 'Reinstate Date', 'Occupation Code', 'Occupation Group', 'Right_Dwelling Type', 'Move Distance', 'Occupant Type', 'Dispatch Code2Description', 'Prob2 Code Description', 'Tow Destination Name']\n"
    }
   ],
   "source": [
    "for c in tqdm_notebook(df_original.columns, desc='Process Progress'): # for all columns on the original dataframe\n",
    "    for var_type in sequence: # for all type of separatable dataframe \n",
    "\n",
    "        if c in checkpoint_1[var_type].columns: # if the column is in the list of columns of the given type of dataframe\n",
    "\n",
    "            if columns_nullval_ratio[var_type][c] >= column_threshold: # we check if the same does not satisfies the threshold limit\n",
    "\n",
    "                checkpoint_1[var_type].drop(columns=c, inplace=True) # in this case we remove the given column from the given type of dataframe\n",
    "                \n",
    "                removed_columns[key2].append(c) # and we add its name to the list of removed columns\n",
    "\n",
    "print('Removed Columns after filtering process: ', removed_columns[key2])"
   ]
  },
  {
   "cell_type": "code",
   "execution_count": 37,
   "metadata": {},
   "outputs": [],
   "source": [
    "for var_type, idx in zip(sequence, range(len(sequence))): # lets check the result now\n",
    "\n",
    "    columns_nullval_ratio[var_type] = (checkpoint_1[var_type].isnull().sum() * 100 / len(checkpoint_1[var_type])).sort_values(ascending=False) # filling dataframe dictionary"
   ]
  },
  {
   "cell_type": "markdown",
   "metadata": {},
   "source": [
    "plt.figure(figsize=(10,5))\n",
    "\n",
    "sns.barplot(x=columns_nullval_ratio[sequence[0]].index, y=columns_nullval_ratio[sequence[0]])\n",
    "plt.xticks(rotation='90')\n",
    "plt.xlabel('Variables', fontsize=10)\n",
    "plt.ylabel('Percentage of missing values', fontsize=10)\n",
    "plt.title('Percentage of missing values for the' + ' ' + sequence[0] + ' ' + 'Dataframe', fontsize=15)"
   ]
  },
  {
   "cell_type": "markdown",
   "metadata": {},
   "source": [
    "plt.figure(figsize=(10,5))\n",
    "\n",
    "sns.barplot(x=columns_nullval_ratio[sequence[1]].index, y=columns_nullval_ratio[sequence[1]])\n",
    "plt.xticks(rotation='90')\n",
    "plt.xlabel('Variables', fontsize=10)\n",
    "plt.ylabel('Percentage of missing values', fontsize=10)\n",
    "plt.title('Percentage of missing values for the' + ' ' + sequence[1] + ' ' + 'Dataframe', fontsize=15)"
   ]
  },
  {
   "cell_type": "markdown",
   "metadata": {},
   "source": [
    "plt.figure(figsize=(10,5))\n",
    "\n",
    "sns.barplot(x=columns_nullval_ratio[sequence[2]].index, y=columns_nullval_ratio[sequence[2]])\n",
    "plt.xticks(rotation='90')\n",
    "plt.xlabel('Variables', fontsize=10)\n",
    "plt.ylabel('Percentage of missing values', fontsize=10)\n",
    "plt.title('Percentage of missing values for the' + ' ' + sequence[2] + ' ' + 'Dataframe', fontsize=15)"
   ]
  },
  {
   "cell_type": "markdown",
   "metadata": {},
   "source": [
    "plt.figure(figsize=(10,5))\n",
    "\n",
    "sns.barplot(x=columns_nullval_ratio[sequence[3]].index, y=columns_nullval_ratio[sequence[3]])\n",
    "plt.xticks(rotation='90')\n",
    "plt.xlabel('Variables', fontsize=10)\n",
    "plt.ylabel('Percentage of missing values', fontsize=10)\n",
    "plt.title('Percentage of missing values for the' + ' ' + sequence[3] + ' ' + 'Dataframe', fontsize=15)"
   ]
  },
  {
   "cell_type": "markdown",
   "metadata": {},
   "source": [
    "plt.figure(figsize=(10,5))\n",
    "\n",
    "sns.barplot(x=columns_nullval_ratio[sequence[4]].index, y=columns_nullval_ratio[sequence[4]])\n",
    "plt.xticks(rotation='90')\n",
    "plt.xlabel('Variables', fontsize=10)\n",
    "plt.ylabel('Percentage of missing values', fontsize=10)\n",
    "plt.title('Percentage of missing values for the' + ' ' + sequence[4] + ' ' + 'Dataframe', fontsize=15)"
   ]
  },
  {
   "cell_type": "markdown",
   "metadata": {},
   "source": [
    "## 4 - Subjective Evaluation (Data Processing)"
   ]
  },
  {
   "cell_type": "markdown",
   "metadata": {},
   "source": [
    "    4.1 - Rename FSV, INS, and TRV columns that are related to products purchase flags"
   ]
  },
  {
   "cell_type": "code",
   "execution_count": 38,
   "metadata": {},
   "outputs": [
    {
     "output_type": "stream",
     "name": "stdout",
     "text": "['FSV CMSI Flag', 'FSV Credit Card Flag', 'FSV Deposit Program Flag', 'FSV Home Equity Flag', 'FSV ID Theft Flag', 'FSV Mortgage Flag', 'INS Client Flag', 'TRV Globalware Flag']\n"
    }
   ],
   "source": [
    "matching_FSV = [s for s in list(checkpoint_1['Binary Categoricals'].columns) if \"FSV\" in s] # creating a list of the columns that have at least the FSV mnemonic\n",
    "matching_INS = [s for s in list(checkpoint_1['Binary Categoricals'].columns) if \"INS\" in s] # creating a list of the columns that have at least the INS mnemonic\n",
    "matching_TRV = [s for s in list(checkpoint_1['Binary Categoricals'].columns) if \"TRV\" in s] # creating a list of the columns that have at least the TRV mnemonic\n",
    "final_matching = matching_FSV + matching_INS + matching_TRV # concatenating them all\n",
    "print(final_matching)"
   ]
  },
  {
   "cell_type": "code",
   "execution_count": 39,
   "metadata": {},
   "outputs": [],
   "source": [
    "counter = 1 # counter flag\n",
    "\n",
    "for c in final_matching:\n",
    "\n",
    "    checkpoint_1['Binary Categoricals'].rename(columns={c : 'Purchased Product' + ' ' + str(counter)}, inplace=True) # renaming the columns\n",
    "\n",
    "    counter = counter + 1 # index of the new product column name"
   ]
  },
  {
   "cell_type": "code",
   "execution_count": 40,
   "metadata": {},
   "outputs": [
    {
     "output_type": "execute_result",
     "data": {
      "text/plain": "          Purchased Product 1 Purchased Product 2 Purchased Product 3  \\\n104625900                   N                   N                   N   \n45007910                    N                   Y                   N   \n\n          Purchased Product 4 Purchased Product 5 Purchased Product 6  \\\n104625900                   N                   N                   N   \n45007910                    N                   N                   N   \n\n          Purchased Product 7 Purchased Product 8 Mail Responder  Home Owner  \\\n104625900                   N                   N            NaN         NaN   \n45007910                    N                   N            Yes  Home Owner   \n\n          Children Bad Address Flag Opt-Out - Publication New Mover Flag  \\\n104625900      NaN              NaN                   NaN            NaN   \n45007910       Yes                F                Opt-In              N   \n\n          Call Canceled Call Killed Cash Call Fleet Indicator  \n104625900           NaN         NaN       NaN             NaN  \n45007910              N           N         N               N  ",
      "text/html": "<div>\n<style scoped>\n    .dataframe tbody tr th:only-of-type {\n        vertical-align: middle;\n    }\n\n    .dataframe tbody tr th {\n        vertical-align: top;\n    }\n\n    .dataframe thead th {\n        text-align: right;\n    }\n</style>\n<table border=\"1\" class=\"dataframe\">\n  <thead>\n    <tr style=\"text-align: right;\">\n      <th></th>\n      <th>Purchased Product 1</th>\n      <th>Purchased Product 2</th>\n      <th>Purchased Product 3</th>\n      <th>Purchased Product 4</th>\n      <th>Purchased Product 5</th>\n      <th>Purchased Product 6</th>\n      <th>Purchased Product 7</th>\n      <th>Purchased Product 8</th>\n      <th>Mail Responder</th>\n      <th>Home Owner</th>\n      <th>Children</th>\n      <th>Bad Address Flag</th>\n      <th>Opt-Out - Publication</th>\n      <th>New Mover Flag</th>\n      <th>Call Canceled</th>\n      <th>Call Killed</th>\n      <th>Cash Call</th>\n      <th>Fleet Indicator</th>\n    </tr>\n  </thead>\n  <tbody>\n    <tr>\n      <th>104625900</th>\n      <td>N</td>\n      <td>N</td>\n      <td>N</td>\n      <td>N</td>\n      <td>N</td>\n      <td>N</td>\n      <td>N</td>\n      <td>N</td>\n      <td>NaN</td>\n      <td>NaN</td>\n      <td>NaN</td>\n      <td>NaN</td>\n      <td>NaN</td>\n      <td>NaN</td>\n      <td>NaN</td>\n      <td>NaN</td>\n      <td>NaN</td>\n      <td>NaN</td>\n    </tr>\n    <tr>\n      <th>45007910</th>\n      <td>N</td>\n      <td>Y</td>\n      <td>N</td>\n      <td>N</td>\n      <td>N</td>\n      <td>N</td>\n      <td>N</td>\n      <td>N</td>\n      <td>Yes</td>\n      <td>Home Owner</td>\n      <td>Yes</td>\n      <td>F</td>\n      <td>Opt-In</td>\n      <td>N</td>\n      <td>N</td>\n      <td>N</td>\n      <td>N</td>\n      <td>N</td>\n    </tr>\n  </tbody>\n</table>\n</div>"
     },
     "metadata": {},
     "execution_count": 40
    }
   ],
   "source": [
    "checkpoint_1['Binary Categoricals'].head(n=2)"
   ]
  },
  {
   "cell_type": "markdown",
   "metadata": {},
   "source": [
    "    4.2 -  Removing columns that are not allowed or not ethical to work\n"
   ]
  },
  {
   "cell_type": "markdown",
   "metadata": {},
   "source": [
    "        4.2.1 - Creating Dictionary Key"
   ]
  },
  {
   "cell_type": "code",
   "execution_count": 41,
   "metadata": {},
   "outputs": [],
   "source": [
    "key3 = 'Unethical Columns' # creating key to removed columns\n",
    "\n",
    "removed_columns[key3] = ['Race', 'Language', 'Gender'] # since we are talking about Households, the same can not be differentiate by gender"
   ]
  },
  {
   "cell_type": "markdown",
   "metadata": {},
   "source": [
    "        4.2.2 - Performing Filtering"
   ]
  },
  {
   "cell_type": "code",
   "execution_count": 42,
   "metadata": {},
   "outputs": [
    {
     "output_type": "display_data",
     "data": {
      "text/plain": "HBox(children=(FloatProgress(value=0.0, description='Process Progress', max=3.0, style=ProgressStyle(descripti…",
      "application/vnd.jupyter.widget-view+json": {
       "version_major": 2,
       "version_minor": 0,
       "model_id": "3b0be1ab1a9d49e6a1761e082cb8edce"
      }
     },
     "metadata": {}
    },
    {
     "output_type": "stream",
     "name": "stdout",
     "text": "\nRemoved Columns after filtering process:  ['Race', 'Language', 'Gender']\n"
    }
   ],
   "source": [
    "for c in tqdm_notebook(removed_columns[key3], desc='Process Progress'): # iterating over the given columns\n",
    "    for var_type in sequence: # for each dataframe type\n",
    "        if c in checkpoint_1[var_type]: # if the columns is in the dataframe\n",
    "\n",
    "            checkpoint_1[var_type].drop(columns=c, inplace=True) # we dropped\n",
    "\n",
    "print('Removed Columns after filtering process: ', removed_columns[key3])"
   ]
  },
  {
   "cell_type": "markdown",
   "metadata": {},
   "source": [
    "    4.3 - Removing Columns that represent the same information in a different way (information redundancy)"
   ]
  },
  {
   "cell_type": "markdown",
   "metadata": {},
   "source": [
    "        4.3.1 - Creating Dictionary Key"
   ]
  },
  {
   "cell_type": "code",
   "execution_count": 43,
   "metadata": {},
   "outputs": [],
   "source": [
    "key4 = 'Redundancy Information Columns' # generating key for this filtering procedure\n",
    "\n",
    "removed_columns[key4] = ['Individual Key', 'State - Grouped', 'ZIP5', 'ZIP9', 'Children', 'Birth Date MMDDYYYY', 'Cancel Date', 'County', 'Do Not Direct Mail Solicit', 'Right_Individual Key', 'Member Key', 'Member Number Associate ID', 'Membership ID', 'Reinstate Date', 'ZIP', 'Mosaic Household', 'kcl_B_IND_MosaicsGrouping', 'Breakdown State', 'Call Killed', 'Clearing Code Last Description', 'Dispatch Code1 Description','DTL Prob1 Code Description', 'Is Duplicate', 'Member Match Flag', 'Member Number and Associate ID', 'SC Date', 'Rec ID', 'SC STS RSN Code Description', 'SC Vehicle Model Name', 'SVC Facility Name', 'SVC Facility Type', 'Tow Destination Latitude', 'Tow Destination Longitude', 'Member Map Location', 'Dwelling Type', 'Email Status', 'Cancel Reason', 'Breakdown City', 'Call Status Recv Date', 'Occupation Group'] #  Comlumns ids"
   ]
  },
  {
   "cell_type": "markdown",
   "metadata": {},
   "source": [
    "        4.3.2 - Performing Filtering"
   ]
  },
  {
   "cell_type": "code",
   "execution_count": 44,
   "metadata": {},
   "outputs": [
    {
     "output_type": "display_data",
     "data": {
      "text/plain": "HBox(children=(FloatProgress(value=0.0, description='Process Progress', max=40.0, style=ProgressStyle(descript…",
      "application/vnd.jupyter.widget-view+json": {
       "version_major": 2,
       "version_minor": 0,
       "model_id": "65bd4034f93f4834b1b4d8eb5b5ed22b"
      }
     },
     "metadata": {}
    },
    {
     "output_type": "stream",
     "name": "stdout",
     "text": "\nRemoved Columns after filtering process:  ['Individual Key', 'State - Grouped', 'ZIP5', 'ZIP9', 'Children', 'Birth Date MMDDYYYY', 'Cancel Date', 'County', 'Do Not Direct Mail Solicit', 'Right_Individual Key', 'Member Key', 'Member Number Associate ID', 'Membership ID', 'Reinstate Date', 'ZIP', 'Mosaic Household', 'kcl_B_IND_MosaicsGrouping', 'Breakdown State', 'Call Killed', 'Clearing Code Last Description', 'Dispatch Code1 Description', 'DTL Prob1 Code Description', 'Is Duplicate', 'Member Match Flag', 'Member Number and Associate ID', 'SC Date', 'Rec ID', 'SC STS RSN Code Description', 'SC Vehicle Model Name', 'SVC Facility Name', 'SVC Facility Type', 'Tow Destination Latitude', 'Tow Destination Longitude', 'Member Map Location', 'Dwelling Type', 'Email Status', 'Cancel Reason', 'Breakdown City', 'Call Status Recv Date', 'Occupation Group']\n"
    }
   ],
   "source": [
    "for c in tqdm_notebook(removed_columns[key4], desc='Process Progress'): # for each column in the redundancy columns list\n",
    "    for var_type in sequence: # for each dataframe type\n",
    "        if c in checkpoint_1[var_type]: # if the columns is in the given dataframe\n",
    "            checkpoint_1[var_type].drop(columns=c, inplace=True) # we dropped\n",
    "\n",
    "print('Removed Columns after filtering process: ', removed_columns[key4])"
   ]
  },
  {
   "cell_type": "code",
   "execution_count": 45,
   "metadata": {},
   "outputs": [
    {
     "output_type": "stream",
     "name": "stdout",
     "text": "Numerical: 14\nBinary Numericals: 4\nDates: 4\nBinary Categoricals: 16\nStrings: 19\n"
    }
   ],
   "source": [
    "for var_type in sequence:\n",
    "\n",
    "    print(var_type + ':', len(checkpoint_1[var_type].columns)) # number of remaining columns for each dataframe type after the filtering process "
   ]
  },
  {
   "cell_type": "markdown",
   "metadata": {},
   "source": [
    "    4.4 - Checking Columns with low percentage of variantional information (counting null values)"
   ]
  },
  {
   "cell_type": "markdown",
   "metadata": {},
   "source": [
    "        4.4.1 - Creating Dictionay Key "
   ]
  },
  {
   "cell_type": "code",
   "execution_count": 46,
   "metadata": {},
   "outputs": [],
   "source": [
    "key5 = 'Low Variational Information Columns' # generating key for this filtering procedure\n",
    "\n",
    "removed_columns[key5] = [] # generating empty list"
   ]
  },
  {
   "cell_type": "markdown",
   "metadata": {},
   "source": [
    "        4.4.2 - Performing Filtering"
   ]
  },
  {
   "cell_type": "code",
   "execution_count": 47,
   "metadata": {},
   "outputs": [
    {
     "output_type": "display_data",
     "data": {
      "text/plain": "HBox(children=(FloatProgress(value=0.0, description='Process Progress', max=5.0, style=ProgressStyle(descripti…",
      "application/vnd.jupyter.widget-view+json": {
       "version_major": 2,
       "version_minor": 0,
       "model_id": "118e9599505a45f1b70a225477a541da"
      }
     },
     "metadata": {}
    },
    {
     "output_type": "stream",
     "name": "stdout",
     "text": "\nRemoved Columns after filtering process:  ['Member Flag']\n"
    }
   ],
   "source": [
    "for var_type in tqdm_notebook(sequence, desc='Process Progress'): # for every dataframe type\n",
    "    for c in checkpoint_1[var_type].columns: # for every column in the given dataframe\n",
    "\n",
    "        if checkpoint_1[var_type].nunique()[c] == 1: # we check if the values on the given column are all the same\n",
    "\n",
    "            checkpoint_1[var_type].drop(columns=c, inplace=True) # if it is so, we drop the column\n",
    "\n",
    "            removed_columns[key5].append(c) # and we fill the removed columns list\n",
    "        \n",
    "print('Removed Columns after filtering process: ', removed_columns[key5])"
   ]
  },
  {
   "cell_type": "code",
   "execution_count": 48,
   "metadata": {},
   "outputs": [
    {
     "output_type": "stream",
     "name": "stdout",
     "text": "Numerical: 14\nBinary Numericals: 4\nDates: 4\nBinary Categoricals: 16\nStrings: 18\n"
    }
   ],
   "source": [
    "for var_type in sequence:\n",
    "\n",
    "    print(var_type + ':', len(checkpoint_1[var_type].columns)) # number of remaining columns for each dataframe type after the filtering process "
   ]
  },
  {
   "cell_type": "markdown",
   "metadata": {},
   "source": [
    "    4.5 - Removing Columns with Unnecessary Information (extremely subjective)"
   ]
  },
  {
   "cell_type": "markdown",
   "metadata": {},
   "source": [
    "        4.5.1 - Creating Dictionary Key"
   ]
  },
  {
   "cell_type": "code",
   "execution_count": 49,
   "metadata": {},
   "outputs": [],
   "source": [
    "key6 = 'Unnecessary Columns' # generating key for this filtering procedure\n",
    "\n",
    "removed_columns[key6] = ['Address Change Date', 'Bad Address Flag', 'Billing Code Description', 'Join Club Date', 'Member Phone Type', 'Mosaic Global Household', 'New Mover Flag', 'Call Canceled', 'Is NSR', 'Plus Indicator Description', 'Was Duplicated', 'Was Towed To AAR Referral', 'Branch Name', 'Member Map Location', 'Breakdown Map Location'] #  Comlumns ids"
   ]
  },
  {
   "cell_type": "markdown",
   "metadata": {},
   "source": [
    "        4.5.2 - Performing Filtering"
   ]
  },
  {
   "cell_type": "code",
   "execution_count": 50,
   "metadata": {},
   "outputs": [
    {
     "output_type": "display_data",
     "data": {
      "text/plain": "HBox(children=(FloatProgress(value=0.0, description='Process Progress', max=15.0, style=ProgressStyle(descript…",
      "application/vnd.jupyter.widget-view+json": {
       "version_major": 2,
       "version_minor": 0,
       "model_id": "ef21dbfb53d94273b40159932a204ffc"
      }
     },
     "metadata": {}
    },
    {
     "output_type": "stream",
     "name": "stdout",
     "text": "\nRemoved Columns after filtering process:  ['Address Change Date', 'Bad Address Flag', 'Billing Code Description', 'Join Club Date', 'Member Phone Type', 'Mosaic Global Household', 'New Mover Flag', 'Call Canceled', 'Is NSR', 'Plus Indicator Description', 'Was Duplicated', 'Was Towed To AAR Referral', 'Branch Name', 'Member Map Location', 'Breakdown Map Location']\n"
    }
   ],
   "source": [
    "for c in tqdm_notebook(removed_columns[key6], desc='Process Progress'): # for each column in the unncessary columns list\n",
    "    for var_type in sequence: # for each dataframe type\n",
    "\n",
    "        if c in checkpoint_1[var_type]: # if the column is in the given dataframe\n",
    "            checkpoint_1[var_type].drop(columns=c, inplace=True) # we dropped\n",
    "\n",
    "print('Removed Columns after filtering process: ', removed_columns[key6])"
   ]
  },
  {
   "cell_type": "code",
   "execution_count": 51,
   "metadata": {},
   "outputs": [
    {
     "output_type": "stream",
     "name": "stdout",
     "text": "Numerical: 14\nBinary Numericals: 1\nDates: 3\nBinary Categoricals: 13\nStrings: 12\n"
    }
   ],
   "source": [
    "for var_type in sequence:\n",
    "\n",
    "    print(var_type + ':', len(checkpoint_1[var_type].columns)) # number of remaining columns for each dataframe type after the filtering process "
   ]
  },
  {
   "cell_type": "markdown",
   "metadata": {},
   "source": [
    "## 5 - Null value evaluation for each Household Key (Data Processing)"
   ]
  },
  {
   "cell_type": "markdown",
   "metadata": {},
   "source": [
    "    5.1 - Removing rows (Household Keys) beyond given threshold"
   ]
  },
  {
   "cell_type": "markdown",
   "metadata": {},
   "source": [
    "        5.1.1 - Global Mean of Null Values for all Household Keys available"
   ]
  },
  {
   "cell_type": "code",
   "execution_count": 52,
   "metadata": {},
   "outputs": [],
   "source": [
    "rows_nullval_ratio = {} # dictionary of null values sum for all columns\n",
    "\n",
    "for var_type in sequence: \n",
    "\n",
    "    rows_nullval_ratio[var_type] = (checkpoint_1[var_type].isnull().sum(axis=1).sort_values(ascending=False)) # filling dataframe dictionary"
   ]
  },
  {
   "cell_type": "code",
   "execution_count": 53,
   "metadata": {},
   "outputs": [
    {
     "output_type": "stream",
     "name": "stdout",
     "text": "\n Mean Number of Null values on Rows: 8.0\n"
    }
   ],
   "source": [
    "sum_num_null_rows = [] # list of sum of all null values per row\n",
    "\n",
    "for var_type in sequence:\n",
    "\n",
    "    sum_num_null_rows.append(round(rows_nullval_ratio[var_type].sum())) # filling list\n",
    "\n",
    "total_mean = round(sum(sum_num_null_rows)/len(rows_nullval_ratio['Numerical'].index.tolist())) # general mean of null values per row\n",
    "\n",
    "print('\\n','Mean Number of Null values on Rows:', total_mean) "
   ]
  },
  {
   "cell_type": "markdown",
   "metadata": {},
   "source": [
    "        5.1.2 - Creating Key and Dictionary for this operation"
   ]
  },
  {
   "cell_type": "code",
   "execution_count": 54,
   "metadata": {},
   "outputs": [],
   "source": [
    "removed_rows = {}\n",
    "\n",
    "row_key1 = str(total_mean) + ' Number of Null per Row Threshold Removal' # key for our track removal dictionary\n",
    "\n",
    "removed_rows[row_key1] = [] # adding to the new key to the dictionary"
   ]
  },
  {
   "cell_type": "markdown",
   "metadata": {},
   "source": [
    "        5.1.3 - Global Mean of each Household Key available"
   ]
  },
  {
   "cell_type": "code",
   "execution_count": 55,
   "metadata": {},
   "outputs": [
    {
     "output_type": "display_data",
     "data": {
      "text/plain": "HBox(children=(FloatProgress(value=0.0, description='Process Progress', max=5241.0, style=ProgressStyle(descri…",
      "application/vnd.jupyter.widget-view+json": {
       "version_major": 2,
       "version_minor": 0,
       "model_id": "6dc9aa13f5fe41ca8d144b20c07b04a9"
      }
     },
     "metadata": {}
    },
    {
     "output_type": "stream",
     "name": "stdout",
     "text": "\n"
    }
   ],
   "source": [
    "house_mean = {} # global mean number of null values for each Household Key\n",
    "\n",
    "for house_id in tqdm_notebook(checkpoint_1[sequence[0]].index.tolist(), desc='Process Progress'): # for all unique Household Keys on the original dataframe\n",
    "    tmp = 0 # temporary value for each global mean of the given Household Key\n",
    "    for var_type in sequence: # for all type of separatable dataframe \n",
    "\n",
    "        tmp += rows_nullval_ratio[var_type][house_id]\n",
    "\n",
    "    house_mean[house_id] =  tmp.mean()"
   ]
  },
  {
   "cell_type": "markdown",
   "metadata": {},
   "source": [
    "        5.1.4 - Perform Filtering"
   ]
  },
  {
   "cell_type": "code",
   "execution_count": 56,
   "metadata": {},
   "outputs": [
    {
     "output_type": "display_data",
     "data": {
      "text/plain": "HBox(children=(FloatProgress(value=0.0, description='Process Progress', max=5241.0, style=ProgressStyle(descri…",
      "application/vnd.jupyter.widget-view+json": {
       "version_major": 2,
       "version_minor": 0,
       "model_id": "a27e89425e37448b8722c6db81007c4c"
      }
     },
     "metadata": {}
    },
    {
     "output_type": "stream",
     "name": "stdout",
     "text": "\nRemoved Rows after filtering process:  [208500, 208500, 208500, 208500, 208500, 253650, 253650, 253650, 253650, 253650, 374680, 374680, 374680, 374680, 374680, 949270, 949270, 949270, 949270, 949270, 1152890, 1152890, 1152890, 1152890, 1152890, 1153460, 1153460, 1153460, 1153460, 1153460, 1401850, 1401850, 1401850, 1401850, 1401850, 1434580, 1434580, 1434580, 1434580, 1434580, 1797300, 1797300, 1797300, 1797300, 1797300, 1956800, 1956800, 1956800, 1956800, 1956800, 2686980, 2686980, 2686980, 2686980, 2686980, 2690970, 2690970, 2690970, 2690970, 2690970, 2954970, 2954970, 2954970, 2954970, 2954970, 2956820, 2956820, 2956820, 2956820, 2956820, 2968010, 2968010, 2968010, 2968010, 2968010, 2977460, 2977460, 2977460, 2977460, 2977460, 3253520, 3253520, 3253520, 3253520, 3253520, 3530390, 3530390, 3530390, 3530390, 3530390, 3828020, 3828020, 3828020, 3828020, 3828020, 3830820, 3830820, 3830820, 3830820, 3830820, 3831090, 3831090, 3831090, 3831090, 3831090, 3836860, 3836860, 3836860, 3836860, 3836860, 3842460, 3842460, 3842460, 3842460, 3842460, 3863690, 3863690, 3863690, 3863690, 3863690, 4361900, 4361900, 4361900, 4361900, 4361900, 4446260, 4446260, 4446260, 4446260, 4446260, 4614440, 4614440, 4614440, 4614440, 4614440, 4640180, 4640180, 4640180, 4640180, 4640180, 4724160, 4724160, 4724160, 4724160, 4724160, 4884760, 4884760, 4884760, 4884760, 4884760, 5047910, 5047910, 5047910, 5047910, 5047910, 5073770, 5073770, 5073770, 5073770, 5073770, 5151200, 5151200, 5151200, 5151200, 5151200, 5206820, 5206820, 5206820, 5206820, 5206820, 5651830, 5651830, 5651830, 5651830, 5651830, 5670210, 5670210, 5670210, 5670210, 5670210, 5671630, 5671630, 5671630, 5671630, 5671630, 5720570, 5720570, 5720570, 5720570, 5720570, 5741310, 5741310, 5741310, 5741310, 5741310, 5850580, 5850580, 5850580, 5850580, 5850580, 5936080, 5936080, 5936080, 5936080, 5936080, 6035520, 6035520, 6035520, 6035520, 6035520, 6035540, 6035540, 6035540, 6035540, 6035540, 6056450, 6056450, 6056450, 6056450, 6056450, 6206640, 6206640, 6206640, 6206640, 6206640, 6241590, 6241590, 6241590, 6241590, 6241590, 6421500, 6421500, 6421500, 6421500, 6421500, 6434410, 6434410, 6434410, 6434410, 6434410, 6512460, 6512460, 6512460, 6512460, 6512460, 6580140, 6580140, 6580140, 6580140, 6580140, 6877730, 6877730, 6877730, 6877730, 6877730, 6929300, 6929300, 6929300, 6929300, 6929300, 6951650, 6951650, 6951650, 6951650, 6951650, 7206200, 7206200, 7206200, 7206200, 7206200, 7238790, 7238790, 7238790, 7238790, 7238790, 7257850, 7257850, 7257850, 7257850, 7257850, 7286510, 7286510, 7286510, 7286510, 7286510, 7514050, 7514050, 7514050, 7514050, 7514050, 7557600, 7557600, 7557600, 7557600, 7557600, 7592550, 7592550, 7592550, 7592550, 7592550, 7822110, 7822110, 7822110, 7822110, 7822110, 7875850, 7875850, 7875850, 7875850, 7875850, 8170770, 8170770, 8170770, 8170770, 8170770, 8252010, 8252010, 8252010, 8252010, 8252010, 8282080, 8282080, 8282080, 8282080, 8282080, 8296830, 8296830, 8296830, 8296830, 8296830, 8544800, 8544800, 8544800, 8544800, 8544800, 8560840, 8560840, 8560840, 8560840, 8560840, 8578570, 8578570, 8578570, 8578570, 8578570, 8672220, 8672220, 8672220, 8672220, 8672220, 8693330, 8693330, 8693330, 8693330, 8693330, 8741700, 8741700, 8741700, 8741700, 8741700, 9026710, 9026710, 9026710, 9026710, 9026710, 9063690, 9063690, 9063690, 9063690, 9063690, 9255290, 9255290, 9255290, 9255290, 9255290, 9731290, 9731290, 9731290, 9731290, 9731290, 9838480, 9838480, 9838480, 9838480, 9838480, 9902190, 9902190, 9902190, 9902190, 9902190, 10260010, 10260010, 10260010, 10260010, 10260010, 10283950, 10283950, 10283950, 10283950, 10283950, 10423620, 10423620, 10423620, 10423620, 10423620, 10541530, 10541530, 10541530, 10541530, 10541530, 10564260, 10564260, 10564260, 10564260, 10564260, 10582000, 10582000, 10582000, 10582000, 10582000, 10588820, 10588820, 10588820, 10588820, 10588820, 10635480, 10635480, 10635480, 10635480, 10635480, 10637180, 10637180, 10637180, 10637180, 10637180, 10720910, 10720910, 10720910, 10720910, 10720910, 10757200, 10757200, 10757200, 10757200, 10757200, 10845510, 10845510, 10845510, 10845510, 10845510, 11173360, 11173360, 11173360, 11173360, 11173360, 11191870, 11191870, 11191870, 11191870, 11191870, 11225220, 11225220, 11225220, 11225220, 11225220, 11359820, 11359820, 11359820, 11359820, 11359820, 11362100, 11362100, 11362100, 11362100, 11362100, 11381490, 11381490, 11381490, 11381490, 11381490, 11385140, 11385140, 11385140, 11385140, 11385140, 11481130, 11481130, 11481130, 11481130, 11481130, 11565470, 11565470, 11565470, 11565470, 11565470, 11678590, 11678590, 11678590, 11678590, 11678590, 11714130, 11714130, 11714130, 11714130, 11714130, 11719060, 11719060, 11719060, 11719060, 11719060, 11765380, 11765380, 11765380, 11765380, 11765380, 11769110, 11769110, 11769110, 11769110, 11769110, 11802370, 11802370, 11802370, 11802370, 11802370, 12303360, 12303360, 12303360, 12303360, 12303360, 12310280, 12310280, 12310280, 12310280, 12310280, 12584050, 12584050, 12584050, 12584050, 12584050, 12988280, 12988280, 12988280, 12988280, 12988280, 12989910, 12989910, 12989910, 12989910, 12989910, 12991440, 12991440, 12991440, 12991440, 12991440, 12992000, 12992000, 12992000, 12992000, 12992000, 12999800, 12999800, 12999800, 12999800, 12999800, 13019260, 13019260, 13019260, 13019260, 13019260, 13021400, 13021400, 13021400, 13021400, 13021400, 13369500, 13369500, 13369500, 13369500, 13369500, 13404370, 13404370, 13404370, 13404370, 13404370, 13443270, 13443270, 13443270, 13443270, 13443270, 13835580, 13835580, 13835580, 13835580, 13835580, 13836270, 13836270, 13836270, 13836270, 13836270, 13842320, 13842320, 13842320, 13842320, 13842320, 13846690, 13846690, 13846690, 13846690, 13846690, 13849030, 13849030, 13849030, 13849030, 13849030, 13855080, 13855080, 13855080, 13855080, 13855080, 15594740, 15594740, 15594740, 15594740, 15594740, 15885610, 15885610, 15885610, 15885610, 15885610, 15954400, 15954400, 15954400, 15954400, 15954400, 16539860, 16539860, 16539860, 16539860, 16539860, 16885790, 16885790, 16885790, 16885790, 16885790, 16891730, 16891730, 16891730, 16891730, 16891730, 17304210, 17304210, 17304210, 17304210, 17304210, 17751480, 17751480, 17751480, 17751480, 17751480, 17780700, 17780700, 17780700, 17780700, 17780700, 17817910, 17817910, 17817910, 17817910, 17817910, 18679280, 18679280, 18679280, 18679280, 18679280, 18715690, 18715690, 18715690, 18715690, 18715690, 18941900, 18941900, 18941900, 18941900, 18941900, 19191050, 19191050, 19191050, 19191050, 19191050, 19191290, 19191290, 19191290, 19191290, 19191290, 19589830, 19589830, 19589830, 19589830, 19589830, 19642630, 19642630, 19642630, 19642630, 19642630, 19656250, 19656250, 19656250, 19656250, 19656250, 19884740, 19884740, 19884740, 19884740, 19884740, 19890340, 19890340, 19890340, 19890340, 19890340, 19907710, 19907710, 19907710, 19907710, 19907710, 19976040, 19976040, 19976040, 19976040, 19976040, 19977040, 19977040, 19977040, 19977040, 19977040, 20377060, 20377060, 20377060, 20377060, 20377060, 20814580, 20814580, 20814580, 20814580, 20814580, 20864950, 20864950, 20864950, 20864950, 20864950, 21238970, 21238970, 21238970, 21238970, 21238970, 21256530, 21256530, 21256530, 21256530, 21256530, 21286540, 21286540, 21286540, 21286540, 21286540, 21553440, 21553440, 21553440, 21553440, 21553440, 21600050, 21600050, 21600050, 21600050, 21600050, 22472830, 22472830, 22472830, 22472830, 22472830, 23170830, 23170830, 23170830, 23170830, 23170830, 23215910, 23215910, 23215910, 23215910, 23215910, 23287860, 23287860, 23287860, 23287860, 23287860, 23289550, 23289550, 23289550, 23289550, 23289550, 23318090, 23318090, 23318090, 23318090, 23318090, 23538160, 23538160, 23538160, 23538160, 23538160, 23581500, 23581500, 23581500, 23581500, 23581500, 23702790, 23702790, 23702790, 23702790, 23702790, 23875600, 23875600, 23875600, 23875600, 23875600, 24011320, 24011320, 24011320, 24011320, 24011320, 24352010, 24352010, 24352010, 24352010, 24352010, 24352120, 24352120, 24352120, 24352120, 24352120, 24369120, 24369120, 24369120, 24369120, 24369120, 24379830, 24379830, 24379830, 24379830, 24379830, 24542630, 24542630, 24542630, 24542630, 24542630, 25087300, 25087300, 25087300, 25087300, 25087300, 25118560, 25118560, 25118560, 25118560, 25118560, 25810840, 25810840, 25810840, 25810840, 25810840, 25812530, 25812530, 25812530, 25812530, 25812530, 25834620, 25834620, 25834620, 25834620, 25834620, 25847130, 25847130, 25847130, 25847130, 25847130, 25847150, 25847150, 25847150, 25847150, 25847150, 25847250, 25847250, 25847250, 25847250, 25847250, 25882150, 25882150, 25882150, 25882150, 25882150, 25904440, 25904440, 25904440, 25904440, 25904440, 26643700, 26643700, 26643700, 26643700, 26643700, 26671820, 26671820, 26671820, 26671820, 26671820, 26723950, 26723950, 26723950, 26723950, 26723950, 27445140, 27445140, 27445140, 27445140, 27445140, 27768370, 27768370, 27768370, 27768370, 27768370, 27770580, 27770580, 27770580, 27770580, 27770580, 27966220, 27966220, 27966220, 27966220, 27966220, 28253470, 28253470, 28253470, 28253470, 28253470, 28578630, 28578630, 28578630, 28578630, 28578630, 28840590, 28840590, 28840590, 28840590, 28840590, 29290940, 29290940, 29290940, 29290940, 29290940, 29306440, 29306440, 29306440, 29306440, 29306440, 29568130, 29568130, 29568130, 29568130, 29568130, 29954440, 29954440, 29954440, 29954440, 29954440, 30525920, 30525920, 30525920, 30525920, 30525920, 31114860, 31114860, 31114860, 31114860, 31114860, 31191760, 31191760, 31191760, 31191760, 31191760, 31631010, 31631010, 31631010, 31631010, 31631010, 31698530, 31698530, 31698530, 31698530, 31698530, 31890790, 31890790, 31890790, 31890790, 31890790, 31922690, 31922690, 31922690, 31922690, 31922690, 32381320, 32381320, 32381320, 32381320, 32381320, 32382200, 32382200, 32382200, 32382200, 32382200, 32544080, 32544080, 32544080, 32544080, 32544080, 32560290, 32560290, 32560290, 32560290, 32560290, 32594140, 32594140, 32594140, 32594140, 32594140, 32683550, 32683550, 32683550, 32683550, 32683550, 32767810, 32767810, 32767810, 32767810, 32767810, 32794310, 32794310, 32794310, 32794310, 32794310, 32797010, 32797010, 32797010, 32797010, 32797010, 32875330, 32875330, 32875330, 32875330, 32875330, 32877980, 32877980, 32877980, 32877980, 32877980, 33054780, 33054780, 33054780, 33054780, 33054780, 33309690, 33309690, 33309690, 33309690, 33309690, 33356960, 33356960, 33356960, 33356960, 33356960, 33358400, 33358400, 33358400, 33358400, 33358400, 34024400, 34024400, 34024400, 34024400, 34024400, 34539330, 34539330, 34539330, 34539330, 34539330, 34546830, 34546830, 34546830, 34546830, 34546830, 34989970, 34989970, 34989970, 34989970, 34989970, 34990250, 34990250, 34990250, 34990250, 34990250, 35197240, 35197240, 35197240, 35197240, 35197240, 35238810, 35238810, 35238810, 35238810, 35238810, 35307660, 35307660, 35307660, 35307660, 35307660, 35601260, 35601260, 35601260, 35601260, 35601260, 36356330, 36356330, 36356330, 36356330, 36356330, 36359730, 36359730, 36359730, 36359730, 36359730, 36368130, 36368130, 36368130, 36368130, 36368130, 36385920, 36385920, 36385920, 36385920, 36385920, 36426240, 36426240, 36426240, 36426240, 36426240, 36428130, 36428130, 36428130, 36428130, 36428130, 36560540, 36560540, 36560540, 36560540, 36560540, 36887010, 36887010, 36887010, 36887010, 36887010, 37846630, 37846630, 37846630, 37846630, 37846630, 38323690, 38323690, 38323690, 38323690, 38323690, 39006010, 39006010, 39006010, 39006010, 39006010, 39126690, 39126690, 39126690, 39126690, 39126690, 39130110, 39130110, 39130110, 39130110, 39130110, 39345110, 39345110, 39345110, 39345110, 39345110, 39666890, 39666890, 39666890, 39666890, 39666890, 39762840, 39762840, 39762840, 39762840, 39762840, 39914280, 39914280, 39914280, 39914280, 39914280, 39943920, 39943920, 39943920, 39943920, 39943920, 40064630, 40064630, 40064630, 40064630, 40064630, 40088300, 40088300, 40088300, 40088300, 40088300, 40159770, 40159770, 40159770, 40159770, 40159770, 40183180, 40183180, 40183180, 40183180, 40183180, 40193850, 40193850, 40193850, 40193850, 40193850, 40715950, 40715950, 40715950, 40715950, 40715950, 40736200, 40736200, 40736200, 40736200, 40736200, 40791300, 40791300, 40791300, 40791300, 40791300, 40851790, 40851790, 40851790, 40851790, 40851790, 41205580, 41205580, 41205580, 41205580, 41205580, 41391430, 41391430, 41391430, 41391430, 41391430, 41420260, 41420260, 41420260, 41420260, 41420260, 41420670, 41420670, 41420670, 41420670, 41420670, 41458640, 41458640, 41458640, 41458640, 41458640, 41528500, 41528500, 41528500, 41528500, 41528500, 41607640, 41607640, 41607640, 41607640, 41607640, 41607990, 41607990, 41607990, 41607990, 41607990, 41691530, 41691530, 41691530, 41691530, 41691530, 41767060, 41767060, 41767060, 41767060, 41767060, 41805090, 41805090, 41805090, 41805090, 41805090, 41970240, 41970240, 41970240, 41970240, 41970240, 42046360, 42046360, 42046360, 42046360, 42046360, 42060660, 42060660, 42060660, 42060660, 42060660, 42278380, 42278380, 42278380, 42278380, 42278380, 42310940, 42310940, 42310940, 42310940, 42310940, 42530780, 42530780, 42530780, 42530780, 42530780, 42664230, 42664230, 42664230, 42664230, 42664230, 42678300, 42678300, 42678300, 42678300, 42678300, 42900220, 42900220, 42900220, 42900220, 42900220, 42939060, 42939060, 42939060, 42939060, 42939060, 43087480, 43087480, 43087480, 43087480, 43087480, 43175160, 43175160, 43175160, 43175160, 43175160, 43518500, 43518500, 43518500, 43518500, 43518500, 43595280, 43595280, 43595280, 43595280, 43595280, 43685810, 43685810, 43685810, 43685810, 43685810, 43694240, 43694240, 43694240, 43694240, 43694240, 43965580, 43965580, 43965580, 43965580, 43965580, 44005110, 44005110, 44005110, 44005110, 44005110, 44150620, 44150620, 44150620, 44150620, 44150620, 44337950, 44337950, 44337950, 44337950, 44337950, 45087910, 45087910, 45087910, 45087910, 45087910, 45555510, 45555510, 45555510, 45555510, 45555510, 45587890, 45587890, 45587890, 45587890, 45587890, 45967820, 45967820, 45967820, 45967820, 45967820, 45982380, 45982380, 45982380, 45982380, 45982380, 46306460, 46306460, 46306460, 46306460, 46306460, 46343600, 46343600, 46343600, 46343600, 46343600, 46706460, 46706460, 46706460, 46706460, 46706460, 47412410, 47412410, 47412410, 47412410, 47412410, 47998040, 47998040, 47998040, 47998040, 47998040, 48192800, 48192800, 48192800, 48192800, 48192800, 48242360, 48242360, 48242360, 48242360, 48242360, 48292640, 48292640, 48292640, 48292640, 48292640, 49644670, 49644670, 49644670, 49644670, 49644670, 49704200, 49704200, 49704200, 49704200, 49704200, 49836780, 49836780, 49836780, 49836780, 49836780, 50253230, 50253230, 50253230, 50253230, 50253230, 50351980, 50351980, 50351980, 50351980, 50351980, 50440040, 50440040, 50440040, 50440040, 50440040, 50446720, 50446720, 50446720, 50446720, 50446720, 50720420, 50720420, 50720420, 50720420, 50720420, 50831710, 50831710, 50831710, 50831710, 50831710, 50831980, 50831980, 50831980, 50831980, 50831980, 51066460, 51066460, 51066460, 51066460, 51066460, 51367650, 51367650, 51367650, 51367650, 51367650, 51861900, 51861900, 51861900, 51861900, 51861900, 52035380, 52035380, 52035380, 52035380, 52035380, 52132720, 52132720, 52132720, 52132720, 52132720, 52149980, 52149980, 52149980, 52149980, 52149980, 52169950, 52169950, 52169950, 52169950, 52169950, 52193880, 52193880, 52193880, 52193880, 52193880, 52251200, 52251200, 52251200, 52251200, 52251200, 52381840, 52381840, 52381840, 52381840, 52381840, 52636440, 52636440, 52636440, 52636440, 52636440, 52867730, 52867730, 52867730, 52867730, 52867730, 52915590, 52915590, 52915590, 52915590, 52915590, 52932750, 52932750, 52932750, 52932750, 52932750, 53395990, 53395990, 53395990, 53395990, 53395990, 53553230, 53553230, 53553230, 53553230, 53553230, 53585780, 53585780, 53585780, 53585780, 53585780, 53621470, 53621470, 53621470, 53621470, 53621470, 53684650, 53684650, 53684650, 53684650, 53684650, 53949560, 53949560, 53949560, 53949560, 53949560, 54008410, 54008410, 54008410, 54008410, 54008410, 54406840, 54406840, 54406840, 54406840, 54406840, 54556410, 54556410, 54556410, 54556410, 54556410, 54580700, 54580700, 54580700, 54580700, 54580700, 54943660, 54943660, 54943660, 54943660, 54943660, 55057290, 55057290, 55057290, 55057290, 55057290, 55275120, 55275120, 55275120, 55275120, 55275120, 55277950, 55277950, 55277950, 55277950, 55277950, 55487320, 55487320, 55487320, 55487320, 55487320, 55500940, 55500940, 55500940, 55500940, 55500940, 55550990, 55550990, 55550990, 55550990, 55550990, 55726710, 55726710, 55726710, 55726710, 55726710, 55764770, 55764770, 55764770, 55764770, 55764770, 56055040, 56055040, 56055040, 56055040, 56055040, 56125710, 56125710, 56125710, 56125710, 56125710, 56126550, 56126550, 56126550, 56126550, 56126550, 56213290, 56213290, 56213290, 56213290, 56213290, 56354950, 56354950, 56354950, 56354950, 56354950, 56437780, 56437780, 56437780, 56437780, 56437780, 56514220, 56514220, 56514220, 56514220, 56514220, 57103470, 57103470, 57103470, 57103470, 57103470, 57134140, 57134140, 57134140, 57134140, 57134140, 57314750, 57314750, 57314750, 57314750, 57314750, 57527790, 57527790, 57527790, 57527790, 57527790, 57596710, 57596710, 57596710, 57596710, 57596710, 57653100, 57653100, 57653100, 57653100, 57653100, 57681660, 57681660, 57681660, 57681660, 57681660, 57769300, 57769300, 57769300, 57769300, 57769300, 58236690, 58236690, 58236690, 58236690, 58236690, 58501040, 58501040, 58501040, 58501040, 58501040, 58810810, 58810810, 58810810, 58810810, 58810810, 58869660, 58869660, 58869660, 58869660, 58869660, 59094350, 59094350, 59094350, 59094350, 59094350, 59671030, 59671030, 59671030, 59671030, 59671030, 60405070, 60405070, 60405070, 60405070, 60405070, 60560560, 60560560, 60560560, 60560560, 60560560, 60567810, 60567810, 60567810, 60567810, 60567810, 60577550, 60577550, 60577550, 60577550, 60577550, 60753470, 60753470, 60753470, 60753470, 60753470, 60858980, 60858980, 60858980, 60858980, 60858980, 61201200, 61201200, 61201200, 61201200, 61201200, 61616080, 61616080, 61616080, 61616080, 61616080, 61934950, 61934950, 61934950, 61934950, 61934950, 61977240, 61977240, 61977240, 61977240, 61977240, 61986290, 61986290, 61986290, 61986290, 61986290, 62456470, 62456470, 62456470, 62456470, 62456470, 63064280, 63064280, 63064280, 63064280, 63064280, 63462330, 63462330, 63462330, 63462330, 63462330, 63517850, 63517850, 63517850, 63517850, 63517850, 63863350, 63863350, 63863350, 63863350, 63863350, 63870280, 63870280, 63870280, 63870280, 63870280, 63981370, 63981370, 63981370, 63981370, 63981370, 64250890, 64250890, 64250890, 64250890, 64250890, 64308470, 64308470, 64308470, 64308470, 64308470, 64326580, 64326580, 64326580, 64326580, 64326580, 64589460, 64589460, 64589460, 64589460, 64589460, 64620280, 64620280, 64620280, 64620280, 64620280, 64697780, 64697780, 64697780, 64697780, 64697780, 64754470, 64754470, 64754470, 64754470, 64754470, 65132040, 65132040, 65132040, 65132040, 65132040, 65182780, 65182780, 65182780, 65182780, 65182780, 65197280, 65197280, 65197280, 65197280, 65197280, 65227330, 65227330, 65227330, 65227330, 65227330, 65263470, 65263470, 65263470, 65263470, 65263470, 65512320, 65512320, 65512320, 65512320, 65512320, 65879570, 65879570, 65879570, 65879570, 65879570, 65882090, 65882090, 65882090, 65882090, 65882090, 66041760, 66041760, 66041760, 66041760, 66041760, 66124170, 66124170, 66124170, 66124170, 66124170, 66158980, 66158980, 66158980, 66158980, 66158980, 66284320, 66284320, 66284320, 66284320, 66284320, 66789260, 66789260, 66789260, 66789260, 66789260, 67017260, 67017260, 67017260, 67017260, 67017260, 67174840, 67174840, 67174840, 67174840, 67174840, 67314120, 67314120, 67314120, 67314120, 67314120, 67314130, 67314130, 67314130, 67314130, 67314130, 67328010, 67328010, 67328010, 67328010, 67328010, 67336880, 67336880, 67336880, 67336880, 67336880, 67555350, 67555350, 67555350, 67555350, 67555350, 67632540, 67632540, 67632540, 67632540, 67632540, 67898660, 67898660, 67898660, 67898660, 67898660, 68100640, 68100640, 68100640, 68100640, 68100640, 68190760, 68190760, 68190760, 68190760, 68190760, 68537110, 68537110, 68537110, 68537110, 68537110, 68727410, 68727410, 68727410, 68727410, 68727410, 69163590, 69163590, 69163590, 69163590, 69163590, 69207670, 69207670, 69207670, 69207670, 69207670, 69312440, 69312440, 69312440, 69312440, 69312440, 69516790, 69516790, 69516790, 69516790, 69516790, 70497340, 70497340, 70497340, 70497340, 70497340, 70985200, 70985200, 70985200, 70985200, 70985200, 71318770, 71318770, 71318770, 71318770, 71318770, 71991450, 71991450, 71991450, 71991450, 71991450, 72068620, 72068620, 72068620, 72068620, 72068620, 72291150, 72291150, 72291150, 72291150, 72291150, 72435120, 72435120, 72435120, 72435120, 72435120, 72518430, 72518430, 72518430, 72518430, 72518430, 72520680, 72520680, 72520680, 72520680, 72520680, 72640290, 72640290, 72640290, 72640290, 72640290, 72666490, 72666490, 72666490, 72666490, 72666490, 72750290, 72750290, 72750290, 72750290, 72750290, 73161710, 73161710, 73161710, 73161710, 73161710, 73171440, 73171440, 73171440, 73171440, 73171440, 73318890, 73318890, 73318890, 73318890, 73318890, 73411920, 73411920, 73411920, 73411920, 73411920, 73412140, 73412140, 73412140, 73412140, 73412140, 73412200, 73412200, 73412200, 73412200, 73412200, 73647450, 73647450, 73647450, 73647450, 73647450, 73680750, 73680750, 73680750, 73680750, 73680750, 73894810, 73894810, 73894810, 73894810, 73894810, 74080240, 74080240, 74080240, 74080240, 74080240, 74111140, 74111140, 74111140, 74111140, 74111140, 74397790, 74397790, 74397790, 74397790, 74397790, 74421360, 74421360, 74421360, 74421360, 74421360, 74423600, 74423600, 74423600, 74423600, 74423600, 74481690, 74481690, 74481690, 74481690, 74481690, 74770130, 74770130, 74770130, 74770130, 74770130, 74770140, 74770140, 74770140, 74770140, 74770140, 74866990, 74866990, 74866990, 74866990, 74866990, 75040680, 75040680, 75040680, 75040680, 75040680, 75098370, 75098370, 75098370, 75098370, 75098370, 75201710, 75201710, 75201710, 75201710, 75201710, 75224770, 75224770, 75224770, 75224770, 75224770, 75240850, 75240850, 75240850, 75240850, 75240850, 75263960, 75263960, 75263960, 75263960, 75263960, 75332990, 75332990, 75332990, 75332990, 75332990, 75495050, 75495050, 75495050, 75495050, 75495050, 76064770, 76064770, 76064770, 76064770, 76064770, 76149380, 76149380, 76149380, 76149380, 76149380, 76835740, 76835740, 76835740, 76835740, 76835740, 76836180, 76836180, 76836180, 76836180, 76836180, 76961840, 76961840, 76961840, 76961840, 76961840, 77092010, 77092010, 77092010, 77092010, 77092010, 77543310, 77543310, 77543310, 77543310, 77543310, 77843340, 77843340, 77843340, 77843340, 77843340, 77843730, 77843730, 77843730, 77843730, 77843730, 77848790, 77848790, 77848790, 77848790, 77848790, 77886540, 77886540, 77886540, 77886540, 77886540, 77944990, 77944990, 77944990, 77944990, 77944990, 78125260, 78125260, 78125260, 78125260, 78125260, 78317980, 78317980, 78317980, 78317980, 78317980, 78331910, 78331910, 78331910, 78331910, 78331910, 78602920, 78602920, 78602920, 78602920, 78602920, 78651720, 78651720, 78651720, 78651720, 78651720, 78743060, 78743060, 78743060, 78743060, 78743060, 79000040, 79000040, 79000040, 79000040, 79000040, 79029500, 79029500, 79029500, 79029500, 79029500, 79261450, 79261450, 79261450, 79261450, 79261450, 79473520, 79473520, 79473520, 79473520, 79473520, 79743700, 79743700, 79743700, 79743700, 79743700, 79896310, 79896310, 79896310, 79896310, 79896310, 80207530, 80207530, 80207530, 80207530, 80207530, 80317720, 80317720, 80317720, 80317720, 80317720, 81411160, 81411160, 81411160, 81411160, 81411160, 82619370, 82619370, 82619370, 82619370, 82619370, 83691400, 83691400, 83691400, 83691400, 83691400, 84065310, 84065310, 84065310, 84065310, 84065310, 84089460, 84089460, 84089460, 84089460, 84089460, 84556880, 84556880, 84556880, 84556880, 84556880, 84836830, 84836830, 84836830, 84836830, 84836830, 84908220, 84908220, 84908220, 84908220, 84908220, 84999560, 84999560, 84999560, 84999560, 84999560, 85343050, 85343050, 85343050, 85343050, 85343050, 85382170, 85382170, 85382170, 85382170, 85382170, 85483630, 85483630, 85483630, 85483630, 85483630, 85547490, 85547490, 85547490, 85547490, 85547490, 85567890, 85567890, 85567890, 85567890, 85567890, 85645840, 85645840, 85645840, 85645840, 85645840, 85659680, 85659680, 85659680, 85659680, 85659680, 85748580, 85748580, 85748580, 85748580, 85748580, 85769860, 85769860, 85769860, 85769860, 85769860, 86016680, 86016680, 86016680, 86016680, 86016680, 86017270, 86017270, 86017270, 86017270, 86017270, 86500350, 86500350, 86500350, 86500350, 86500350, 86502330, 86502330, 86502330, 86502330, 86502330, 86689640, 86689640, 86689640, 86689640, 86689640, 86690240, 86690240, 86690240, 86690240, 86690240, 86758860, 86758860, 86758860, 86758860, 86758860, 87045930, 87045930, 87045930, 87045930, 87045930, 87551610, 87551610, 87551610, 87551610, 87551610, 87614090, 87614090, 87614090, 87614090, 87614090, 87832590, 87832590, 87832590, 87832590, 87832590, 87993230, 87993230, 87993230, 87993230, 87993230, 88119240, 88119240, 88119240, 88119240, 88119240, 88306090, 88306090, 88306090, 88306090, 88306090, 88410190, 88410190, 88410190, 88410190, 88410190, 88518200, 88518200, 88518200, 88518200, 88518200, 88518470, 88518470, 88518470, 88518470, 88518470, 88518690, 88518690, 88518690, 88518690, 88518690, 88704220, 88704220, 88704220, 88704220, 88704220, 88772140, 88772140, 88772140, 88772140, 88772140, 88824840, 88824840, 88824840, 88824840, 88824840, 88977430, 88977430, 88977430, 88977430, 88977430, 89213600, 89213600, 89213600, 89213600, 89213600, 89310530, 89310530, 89310530, 89310530, 89310530, 89549990, 89549990, 89549990, 89549990, 89549990, 89593790, 89593790, 89593790, 89593790, 89593790, 89886370, 89886370, 89886370, 89886370, 89886370, 90060300, 90060300, 90060300, 90060300, 90060300, 90169020, 90169020, 90169020, 90169020, 90169020, 90659960, 90659960, 90659960, 90659960, 90659960, 90844950, 90844950, 90844950, 90844950, 90844950, 90902130, 90902130, 90902130, 90902130, 90902130, 90911960, 90911960, 90911960, 90911960, 90911960, 91027360, 91027360, 91027360, 91027360, 91027360, 91027870, 91027870, 91027870, 91027870, 91027870, 91288350, 91288350, 91288350, 91288350, 91288350, 91663450, 91663450, 91663450, 91663450, 91663450, 91787220, 91787220, 91787220, 91787220, 91787220, 92012080, 92012080, 92012080, 92012080, 92012080, 92131370, 92131370, 92131370, 92131370, 92131370, 92155010, 92155010, 92155010, 92155010, 92155010, 92594960, 92594960, 92594960, 92594960, 92594960, 92601980, 92601980, 92601980, 92601980, 92601980, 92876110, 92876110, 92876110, 92876110, 92876110, 93715270, 93715270, 93715270, 93715270, 93715270, 94523460, 94523460, 94523460, 94523460, 94523460, 94565350, 94565350, 94565350, 94565350, 94565350, 95606770, 95606770, 95606770, 95606770, 95606770, 96696140, 96696140, 96696140, 96696140, 96696140, 96710850, 96710850, 96710850, 96710850, 96710850, 96945990, 96945990, 96945990, 96945990, 96945990, 96956600, 96956600, 96956600, 96956600, 96956600, 96971960, 96971960, 96971960, 96971960, 96971960, 96973550, 96973550, 96973550, 96973550, 96973550, 97128430, 97128430, 97128430, 97128430, 97128430, 97150240, 97150240, 97150240, 97150240, 97150240, 97190650, 97190650, 97190650, 97190650, 97190650, 97247810, 97247810, 97247810, 97247810, 97247810, 97272610, 97272610, 97272610, 97272610, 97272610, 97275960, 97275960, 97275960, 97275960, 97275960, 97416850, 97416850, 97416850, 97416850, 97416850, 97783620, 97783620, 97783620, 97783620, 97783620, 97968290, 97968290, 97968290, 97968290, 97968290, 97997670, 97997670, 97997670, 97997670, 97997670, 98112350, 98112350, 98112350, 98112350, 98112350, 98513960, 98513960, 98513960, 98513960, 98513960, 98514010, 98514010, 98514010, 98514010, 98514010, 99403870, 99403870, 99403870, 99403870, 99403870, 99825600, 99825600, 99825600, 99825600, 99825600, 100364300, 100364300, 100364300, 100364300, 100364300, 100422770, 100422770, 100422770, 100422770, 100422770, 100521630, 100521630, 100521630, 100521630, 100521630, 100575350, 100575350, 100575350, 100575350, 100575350, 100856150, 100856150, 100856150, 100856150, 100856150, 101103480, 101103480, 101103480, 101103480, 101103480, 101156060, 101156060, 101156060, 101156060, 101156060, 101243020, 101243020, 101243020, 101243020, 101243020, 101541470, 101541470, 101541470, 101541470, 101541470, 101545220, 101545220, 101545220, 101545220, 101545220, 101637170, 101637170, 101637170, 101637170, 101637170, 101687910, 101687910, 101687910, 101687910, 101687910, 101701600, 101701600, 101701600, 101701600, 101701600, 102084200, 102084200, 102084200, 102084200, 102084200, 102368560, 102368560, 102368560, 102368560, 102368560, 102540310, 102540310, 102540310, 102540310, 102540310, 102650970, 102650970, 102650970, 102650970, 102650970, 102865620, 102865620, 102865620, 102865620, 102865620, 102935300, 102935300, 102935300, 102935300, 102935300, 103166670, 103166670, 103166670, 103166670, 103166670, 103551230, 103551230, 103551230, 103551230, 103551230, 104189820, 104189820, 104189820, 104189820, 104189820, 104237270, 104237270, 104237270, 104237270, 104237270, 104241360, 104241360, 104241360, 104241360, 104241360, 104625900, 104625900, 104625900, 104625900, 104625900, 104723190, 104723190, 104723190, 104723190, 104723190, 105175590, 105175590, 105175590, 105175590, 105175590, 105295450, 105295450, 105295450, 105295450, 105295450, 106235040, 106235040, 106235040, 106235040, 106235040, 106819920, 106819920, 106819920, 106819920, 106819920, 106952010, 106952010, 106952010, 106952010, 106952010, 106975600, 106975600, 106975600, 106975600, 106975600, 106977940, 106977940, 106977940, 106977940, 106977940, 107032760, 107032760, 107032760, 107032760, 107032760, 107067720, 107067720, 107067720, 107067720, 107067720, 107075450, 107075450, 107075450, 107075450, 107075450, 107075820, 107075820, 107075820, 107075820, 107075820, 107520870, 107520870, 107520870, 107520870, 107520870, 107529640, 107529640, 107529640, 107529640, 107529640, 107723880, 107723880, 107723880, 107723880, 107723880, 107782370, 107782370, 107782370, 107782370, 107782370, 108006640, 108006640, 108006640, 108006640, 108006640, 108502330, 108502330, 108502330, 108502330, 108502330, 108502350, 108502350, 108502350, 108502350, 108502350, 108619400, 108619400, 108619400, 108619400, 108619400, 108915970, 108915970, 108915970, 108915970, 108915970, 109815620, 109815620, 109815620, 109815620, 109815620, 109852700, 109852700, 109852700, 109852700, 109852700, 109854430, 109854430, 109854430, 109854430, 109854430, 109854680, 109854680, 109854680, 109854680, 109854680, 110420250, 110420250, 110420250, 110420250, 110420250, 110687530, 110687530, 110687530, 110687530, 110687530, 110687860, 110687860, 110687860, 110687860, 110687860, 110887870, 110887870, 110887870, 110887870, 110887870, 110897890, 110897890, 110897890, 110897890, 110897890, 110931870, 110931870, 110931870, 110931870, 110931870, 111187520, 111187520, 111187520, 111187520, 111187520, 111187830, 111187830, 111187830, 111187830, 111187830, 111187900, 111187900, 111187900, 111187900, 111187900, 111440140, 111440140, 111440140, 111440140, 111440140, 111517320, 111517320, 111517320, 111517320, 111517320, 111775670, 111775670, 111775670, 111775670, 111775670, 111856370, 111856370, 111856370, 111856370, 111856370, 111961100, 111961100, 111961100, 111961100, 111961100, 112576740, 112576740, 112576740, 112576740, 112576740, 112731950, 112731950, 112731950, 112731950, 112731950, 112777450, 112777450, 112777450, 112777450, 112777450, 112928690, 112928690, 112928690, 112928690, 112928690, 113057630, 113057630, 113057630, 113057630, 113057630, 113067770, 113067770, 113067770, 113067770, 113067770, 113110960, 113110960, 113110960, 113110960, 113110960, 113365150, 113365150, 113365150, 113365150, 113365150, 113556290, 113556290, 113556290, 113556290, 113556290, 113568740, 113568740, 113568740, 113568740, 113568740, 114013060, 114013060, 114013060, 114013060, 114013060, 114013090, 114013090, 114013090, 114013090, 114013090, 114023180, 114023180, 114023180, 114023180, 114023180, 114042080, 114042080, 114042080, 114042080, 114042080, 114594120, 114594120, 114594120, 114594120, 114594120, 115640600, 115640600, 115640600, 115640600, 115640600, 115658140, 115658140, 115658140, 115658140, 115658140, 115662540, 115662540, 115662540, 115662540, 115662540, 115752560, 115752560, 115752560, 115752560, 115752560, 115775190, 115775190, 115775190, 115775190, 115775190, 116270290, 116270290, 116270290, 116270290, 116270290, 118302170, 118302170, 118302170, 118302170, 118302170, 118361570, 118361570, 118361570, 118361570, 118361570, 118617080, 118617080, 118617080, 118617080, 118617080, 118727840, 118727840, 118727840, 118727840, 118727840, 119190730, 119190730, 119190730, 119190730, 119190730, 119233950, 119233950, 119233950, 119233950, 119233950, 119464760, 119464760, 119464760, 119464760, 119464760, 120026600, 120026600, 120026600, 120026600, 120026600, 120034380, 120034380, 120034380, 120034380, 120034380, 120195790, 120195790, 120195790, 120195790, 120195790, 120196910, 120196910, 120196910, 120196910, 120196910, 120407280, 120407280, 120407280, 120407280, 120407280, 120584200, 120584200, 120584200, 120584200, 120584200, 120584870, 120584870, 120584870, 120584870, 120584870, 120775370, 120775370, 120775370, 120775370, 120775370, 120813280, 120813280, 120813280, 120813280, 120813280, 120813480, 120813480, 120813480, 120813480, 120813480, 120813540, 120813540, 120813540, 120813540, 120813540, 120813680, 120813680, 120813680, 120813680, 120813680, 120860430, 120860430, 120860430, 120860430, 120860430, 121122630, 121122630, 121122630, 121122630, 121122630, 121146250, 121146250, 121146250, 121146250, 121146250, 121274780, 121274780, 121274780, 121274780, 121274780, 121430710, 121430710, 121430710, 121430710, 121430710, 121443500, 121443500, 121443500, 121443500, 121443500, 121710220, 121710220, 121710220, 121710220, 121710220, 121772530, 121772530, 121772530, 121772530, 121772530, 121907980, 121907980, 121907980, 121907980, 121907980, 121968760, 121968760, 121968760, 121968760, 121968760, 121989600, 121989600, 121989600, 121989600, 121989600, 122095370, 122095370, 122095370, 122095370, 122095370, 122119870, 122119870, 122119870, 122119870, 122119870, 122496060, 122496060, 122496060, 122496060, 122496060, 122979990, 122979990, 122979990, 122979990, 122979990, 123086750, 123086750, 123086750, 123086750, 123086750, 123208860, 123208860, 123208860, 123208860, 123208860, 123208920, 123208920, 123208920, 123208920, 123208920, 123475540, 123475540, 123475540, 123475540, 123475540, 123788700, 123788700, 123788700, 123788700, 123788700, 123881920, 123881920, 123881920, 123881920, 123881920, 123884910, 123884910, 123884910, 123884910, 123884910, 123938400, 123938400, 123938400, 123938400, 123938400, 123944520, 123944520, 123944520, 123944520, 123944520, 124286990, 124286990, 124286990, 124286990, 124286990, 124428220, 124428220, 124428220, 124428220, 124428220, 124456050, 124456050, 124456050, 124456050, 124456050, 124767830, 124767830, 124767830, 124767830, 124767830, 124783590, 124783590, 124783590, 124783590, 124783590, 124786230, 124786230, 124786230, 124786230, 124786230, 125049250, 125049250, 125049250, 125049250, 125049250, 125096670, 125096670, 125096670, 125096670, 125096670, 125098470, 125098470, 125098470, 125098470, 125098470, 125282980, 125282980, 125282980, 125282980, 125282980, 126407660, 126407660, 126407660, 126407660, 126407660, 126762730, 126762730, 126762730, 126762730, 126762730, 127612100, 127612100, 127612100, 127612100, 127612100, 127853090, 127853090, 127853090, 127853090, 127853090, 128649050, 128649050, 128649050, 128649050, 128649050, 129037170, 129037170, 129037170, 129037170, 129037170, 129047220, 129047220, 129047220, 129047220, 129047220, 129347560, 129347560, 129347560, 129347560, 129347560, 130255980, 130255980, 130255980, 130255980, 130255980, 130301690, 130301690, 130301690, 130301690, 130301690, 131095030, 131095030, 131095030, 131095030, 131095030, 131213210, 131213210, 131213210, 131213210, 131213210, 131280530, 131280530, 131280530, 131280530, 131280530, 131349970, 131349970, 131349970, 131349970, 131349970, 131372040, 131372040, 131372040, 131372040, 131372040, 131626010, 131626010, 131626010, 131626010, 131626010, 131642270, 131642270, 131642270, 131642270, 131642270, 131668760, 131668760, 131668760, 131668760, 131668760, 131824380, 131824380, 131824380, 131824380, 131824380, 131894960, 131894960, 131894960, 131894960, 131894960, 132043950, 132043950, 132043950, 132043950, 132043950, 132163760, 132163760, 132163760, 132163760, 132163760, 132206840, 132206840, 132206840, 132206840, 132206840, 132234670, 132234670, 132234670, 132234670, 132234670, 132434860, 132434860, 132434860, 132434860, 132434860, 132434990, 132434990, 132434990, 132434990, 132434990, 132435580, 132435580, 132435580, 132435580, 132435580, 132670300, 132670300, 132670300, 132670300, 132670300, 132952220, 132952220, 132952220, 132952220, 132952220, 133204210, 133204210, 133204210, 133204210, 133204210, 133294910, 133294910, 133294910, 133294910, 133294910, 133415240, 133415240, 133415240, 133415240, 133415240, 133659390, 133659390, 133659390, 133659390, 133659390, 133683170, 133683170, 133683170, 133683170, 133683170, 133683360, 133683360, 133683360, 133683360, 133683360, 133714970, 133714970, 133714970, 133714970, 133714970, 133979960, 133979960, 133979960, 133979960, 133979960, 134105870, 134105870, 134105870, 134105870, 134105870, 134700940, 134700940, 134700940, 134700940, 134700940, 134728010, 134728010, 134728010, 134728010, 134728010, 134730000, 134730000, 134730000, 134730000, 134730000, 134996410, 134996410, 134996410, 134996410, 134996410, 135057210, 135057210, 135057210, 135057210, 135057210, 135102930, 135102930, 135102930, 135102930, 135102930, 135249810, 135249810, 135249810, 135249810, 135249810, 135260800, 135260800, 135260800, 135260800, 135260800, 135277310, 135277310, 135277310, 135277310, 135277310, 135282480, 135282480, 135282480, 135282480, 135282480, 135970580, 135970580, 135970580, 135970580, 135970580, 136076180, 136076180, 136076180, 136076180, 136076180, 136322820, 136322820, 136322820, 136322820, 136322820, 136757760, 136757760, 136757760, 136757760, 136757760, 136794830, 136794830, 136794830, 136794830, 136794830, 137087900, 137087900, 137087900, 137087900, 137087900, 137150920, 137150920, 137150920, 137150920, 137150920, 137282730, 137282730, 137282730, 137282730, 137282730, 137576720, 137576720, 137576720, 137576720, 137576720, 137791590, 137791590, 137791590, 137791590, 137791590, 137791890, 137791890, 137791890, 137791890, 137791890, 138044710, 138044710, 138044710, 138044710, 138044710, 139515070, 139515070, 139515070, 139515070, 139515070, 140150980, 140150980, 140150980, 140150980, 140150980, 140716490, 140716490, 140716490, 140716490, 140716490, 140988590, 140988590, 140988590, 140988590, 140988590, 141037850, 141037850, 141037850, 141037850, 141037850, 141049940, 141049940, 141049940, 141049940, 141049940, 141050190, 141050190, 141050190, 141050190, 141050190, 141054240, 141054240, 141054240, 141054240, 141054240, 141981890, 141981890, 141981890, 141981890, 141981890, 142393460, 142393460, 142393460, 142393460, 142393460, 142675220, 142675220, 142675220, 142675220, 142675220, 142781390, 142781390, 142781390, 142781390, 142781390, 143738160, 143738160, 143738160, 143738160, 143738160, 143789290, 143789290, 143789290, 143789290, 143789290, 143964070, 143964070, 143964070, 143964070, 143964070, 144111180, 144111180, 144111180, 144111180, 144111180, 144154740, 144154740, 144154740, 144154740, 144154740, 144796220, 144796220, 144796220, 144796220, 144796220, 144867970, 144867970, 144867970, 144867970, 144867970, 144907880, 144907880, 144907880, 144907880, 144907880, 145066610, 145066610, 145066610, 145066610, 145066610, 145185410, 145185410, 145185410, 145185410, 145185410, 145208150, 145208150, 145208150, 145208150, 145208150, 145244080, 145244080, 145244080, 145244080, 145244080, 145512070, 145512070, 145512070, 145512070, 145512070, 145570900, 145570900, 145570900, 145570900, 145570900, 145817460, 145817460, 145817460, 145817460, 145817460, 146031220, 146031220, 146031220, 146031220, 146031220, 146068000, 146068000, 146068000, 146068000, 146068000, 146141500, 146141500, 146141500, 146141500, 146141500, 146200570, 146200570, 146200570, 146200570, 146200570, 146235340, 146235340, 146235340, 146235340, 146235340, 146544030, 146544030, 146544030, 146544030, 146544030, 146564040, 146564040, 146564040, 146564040, 146564040, 146718710, 146718710, 146718710, 146718710, 146718710, 147058710, 147058710, 147058710, 147058710, 147058710, 147344270, 147344270, 147344270, 147344270, 147344270, 147585430, 147585430, 147585430, 147585430, 147585430, 147816860, 147816860, 147816860, 147816860, 147816860, 147901990, 147901990, 147901990, 147901990, 147901990, 148072200, 148072200, 148072200, 148072200, 148072200, 148074560, 148074560, 148074560, 148074560, 148074560, 148353310, 148353310, 148353310, 148353310, 148353310, 148358230, 148358230, 148358230, 148358230, 148358230, 148375750, 148375750, 148375750, 148375750, 148375750, 148411610, 148411610, 148411610, 148411610, 148411610, 148649490, 148649490, 148649490, 148649490, 148649490, 148770290, 148770290, 148770290, 148770290, 148770290, 149202630, 149202630, 149202630, 149202630, 149202630, 149575170, 149575170, 149575170, 149575170, 149575170, 149619700, 149619700, 149619700, 149619700, 149619700, 149632270, 149632270, 149632270, 149632270, 149632270, 149649840, 149649840, 149649840, 149649840, 149649840, 150231890, 150231890, 150231890, 150231890, 150231890, 150497860, 150497860, 150497860, 150497860, 150497860, 152172590, 152172590, 152172590, 152172590, 152172590, 152457210, 152457210, 152457210, 152457210, 152457210, 152486960, 152486960, 152486960, 152486960, 152486960, 153161900, 153161900, 153161900, 153161900, 153161900, 153179140, 153179140, 153179140, 153179140, 153179140, 153299210, 153299210, 153299210, 153299210, 153299210, 153425870, 153425870, 153425870, 153425870, 153425870, 153642860, 153642860, 153642860, 153642860, 153642860, 153811580, 153811580, 153811580, 153811580, 153811580, 153964170, 153964170, 153964170, 153964170, 153964170, 153976530, 153976530, 153976530, 153976530, 153976530, 154421140, 154421140, 154421140, 154421140, 154421140, 154496880, 154496880, 154496880, 154496880, 154496880, 154561170, 154561170, 154561170, 154561170, 154561170, 154611570, 154611570, 154611570, 154611570, 154611570, 154866650, 154866650, 154866650, 154866650, 154866650, 155266460, 155266460, 155266460, 155266460, 155266460, 155279250, 155279250, 155279250, 155279250, 155279250, 155793530, 155793530, 155793530, 155793530, 155793530, 155870950, 155870950, 155870950, 155870950, 155870950, 155881370, 155881370, 155881370, 155881370, 155881370, 155904090, 155904090, 155904090, 155904090, 155904090, 156076000, 156076000, 156076000, 156076000, 156076000, 156448520, 156448520, 156448520, 156448520, 156448520, 156739290, 156739290, 156739290, 156739290, 156739290, 156740450, 156740450, 156740450, 156740450, 156740450, 156877000, 156877000, 156877000, 156877000, 156877000, 157376380, 157376380, 157376380, 157376380, 157376380, 157767390, 157767390, 157767390, 157767390, 157767390, 157818710, 157818710, 157818710, 157818710, 157818710, 157832490, 157832490, 157832490, 157832490, 157832490, 157968230, 157968230, 157968230, 157968230, 157968230, 158200090, 158200090, 158200090, 158200090, 158200090, 158246780, 158246780, 158246780, 158246780, 158246780, 158610470, 158610470, 158610470, 158610470, 158610470, 158685040, 158685040, 158685040, 158685040, 158685040, 159167940, 159167940, 159167940, 159167940, 159167940, 159439350, 159439350, 159439350, 159439350, 159439350, 159578140, 159578140, 159578140, 159578140, 159578140, 159994350, 159994350, 159994350, 159994350, 159994350, 160078020, 160078020, 160078020, 160078020, 160078020, 160215610, 160215610, 160215610, 160215610, 160215610, 160403720, 160403720, 160403720, 160403720, 160403720, 161477340, 161477340, 161477340, 161477340, 161477340, 163488430, 163488430, 163488430, 163488430, 163488430, 163489640, 163489640, 163489640, 163489640, 163489640, 163499120, 163499120, 163499120, 163499120, 163499120, 163510210, 163510210, 163510210, 163510210, 163510210, 164386140, 164386140, 164386140, 164386140, 164386140, 164809210, 164809210, 164809210, 164809210, 164809210, 164923730, 164923730, 164923730, 164923730, 164923730, 165184600, 165184600, 165184600, 165184600, 165184600, 165223170, 165223170, 165223170, 165223170, 165223170, 165401210, 165401210, 165401210, 165401210, 165401210, 165547710, 165547710, 165547710, 165547710, 165547710, 165577420, 165577420, 165577420, 165577420, 165577420, 166528460, 166528460, 166528460, 166528460, 166528460, 166854310, 166854310, 166854310, 166854310, 166854310, 166858230, 166858230, 166858230, 166858230, 166858230, 166859140, 166859140, 166859140, 166859140, 166859140, 166859380, 166859380, 166859380, 166859380, 166859380, 166859400, 166859400, 166859400, 166859400, 166859400, 166860370, 166860370, 166860370, 166860370, 166860370, 167344790, 167344790, 167344790, 167344790, 167344790, 167463890, 167463890, 167463890, 167463890, 167463890, 167481090, 167481090, 167481090, 167481090, 167481090, 167651360, 167651360, 167651360, 167651360, 167651360, 167768110, 167768110, 167768110, 167768110, 167768110, 167830980, 167830980, 167830980, 167830980, 167830980, 168167370, 168167370, 168167370, 168167370, 168167370, 168261160, 168261160, 168261160, 168261160, 168261160, 168284660, 168284660, 168284660, 168284660, 168284660, 168295010, 168295010, 168295010, 168295010, 168295010, 168651990, 168651990, 168651990, 168651990, 168651990, 168691720, 168691720, 168691720, 168691720, 168691720, 169101630, 169101630, 169101630, 169101630, 169101630, 169165360, 169165360, 169165360, 169165360, 169165360, 170372800, 170372800, 170372800, 170372800, 170372800, 170406320, 170406320, 170406320, 170406320, 170406320, 170679040, 170679040, 170679040, 170679040, 170679040, 170984760, 170984760, 170984760, 170984760, 170984760, 171038800, 171038800, 171038800, 171038800, 171038800, 171547440, 171547440, 171547440, 171547440, 171547440, 171668400, 171668400, 171668400, 171668400, 171668400, 173057180, 173057180, 173057180, 173057180, 173057180, 173551480, 173551480, 173551480, 173551480, 173551480, 174504150, 174504150, 174504150, 174504150, 174504150, 175915200, 175915200, 175915200, 175915200, 175915200, 175915320, 175915320, 175915320, 175915320, 175915320, 176076660, 176076660, 176076660, 176076660, 176076660, 176449510, 176449510, 176449510, 176449510, 176449510, 176881390, 176881390, 176881390, 176881390, 176881390, 176912640, 176912640, 176912640, 176912640, 176912640, 177004530, 177004530, 177004530, 177004530, 177004530, 177203390, 177203390, 177203390, 177203390, 177203390, 177540480, 177540480, 177540480, 177540480, 177540480, 177695800, 177695800, 177695800, 177695800, 177695800, 178097860, 178097860, 178097860, 178097860, 178097860, 178337960, 178337960, 178337960, 178337960, 178337960, 179299980, 179299980, 179299980, 179299980, 179299980, 179355580, 179355580, 179355580, 179355580, 179355580, 179370680, 179370680, 179370680, 179370680, 179370680, 179481280, 179481280, 179481280, 179481280, 179481280, 179813950, 179813950, 179813950, 179813950, 179813950, 180103290, 180103290, 180103290, 180103290, 180103290, 180517080, 180517080, 180517080, 180517080, 180517080, 180573120, 180573120, 180573120, 180573120, 180573120, 180647470, 180647470, 180647470, 180647470, 180647470, 181266420, 181266420, 181266420, 181266420, 181266420, 181381930, 181381930, 181381930, 181381930, 181381930, 181851850, 181851850, 181851850, 181851850, 181851850, 182098450, 182098450, 182098450, 182098450, 182098450, 182110110, 182110110, 182110110, 182110110, 182110110, 182587430, 182587430, 182587430, 182587430, 182587430, 182616210, 182616210, 182616210, 182616210, 182616210, 182838380, 182838380, 182838380, 182838380, 182838380, 183411400, 183411400, 183411400, 183411400, 183411400, 183967640, 183967640, 183967640, 183967640, 183967640, 184027360, 184027360, 184027360, 184027360, 184027360, 184235970, 184235970, 184235970, 184235970, 184235970, 184622030, 184622030, 184622030, 184622030, 184622030, 184626100, 184626100, 184626100, 184626100, 184626100, 185411770, 185411770, 185411770, 185411770, 185411770, 185414770, 185414770, 185414770, 185414770, 185414770, 185428450, 185428450, 185428450, 185428450, 185428450, 185447300, 185447300, 185447300, 185447300, 185447300, 186758300, 186758300, 186758300, 186758300, 186758300, 187390240, 187390240, 187390240, 187390240, 187390240, 187509400, 187509400, 187509400, 187509400, 187509400, 188208020, 188208020, 188208020, 188208020, 188208020, 188375550, 188375550, 188375550, 188375550, 188375550, 188608320, 188608320, 188608320, 188608320, 188608320, 188617470, 188617470, 188617470, 188617470, 188617470, 188676670, 188676670, 188676670, 188676670, 188676670, 188681090, 188681090, 188681090, 188681090, 188681090, 188719610, 188719610, 188719610, 188719610, 188719610, 189041680, 189041680, 189041680, 189041680, 189041680, 189050280, 189050280, 189050280, 189050280, 189050280, 189056950, 189056950, 189056950, 189056950, 189056950, 189398170, 189398170, 189398170, 189398170, 189398170, 189415440, 189415440, 189415440, 189415440, 189415440, 189514400, 189514400, 189514400, 189514400, 189514400, 190549110, 190549110, 190549110, 190549110, 190549110, 190549780, 190549780, 190549780, 190549780, 190549780, 190550960, 190550960, 190550960, 190550960, 190550960, 190554860, 190554860, 190554860, 190554860, 190554860, 190569860, 190569860, 190569860, 190569860, 190569860, 190920730, 190920730, 190920730, 190920730, 190920730, 191053480, 191053480, 191053480, 191053480, 191053480, 191393150, 191393150, 191393150, 191393150, 191393150, 191580880, 191580880, 191580880, 191580880, 191580880, 191653130, 191653130, 191653130, 191653130, 191653130, 191674010, 191674010, 191674010, 191674010, 191674010, 192073450, 192073450, 192073450, 192073450, 192073450, 192257270, 192257270, 192257270, 192257270, 192257270, 192260810, 192260810, 192260810, 192260810, 192260810, 192307470, 192307470, 192307470, 192307470, 192307470, 192366440, 192366440, 192366440, 192366440, 192366440, 192425900, 192425900, 192425900, 192425900, 192425900, 192748400, 192748400, 192748400, 192748400, 192748400, 193368400, 193368400, 193368400, 193368400, 193368400, 193542330, 193542330, 193542330, 193542330, 193542330, 193542550, 193542550, 193542550, 193542550, 193542550, 193839060, 193839060, 193839060, 193839060, 193839060, 194202960, 194202960, 194202960, 194202960, 194202960, 194325140, 194325140, 194325140, 194325140, 194325140, 194379140, 194379140, 194379140, 194379140, 194379140, 194465070, 194465070, 194465070, 194465070, 194465070, 194465860, 194465860, 194465860, 194465860, 194465860, 194826110, 194826110, 194826110, 194826110, 194826110, 195077720, 195077720, 195077720, 195077720, 195077720, 195089500, 195089500, 195089500, 195089500, 195089500, 195460150, 195460150, 195460150, 195460150, 195460150, 195949220, 195949220, 195949220, 195949220, 195949220, 196004130, 196004130, 196004130, 196004130, 196004130, 196576370, 196576370, 196576370, 196576370, 196576370, 196798580, 196798580, 196798580, 196798580, 196798580, 198404490, 198404490, 198404490, 198404490, 198404490, 199031600, 199031600, 199031600, 199031600, 199031600, 199251080, 199251080, 199251080, 199251080, 199251080, 199427820, 199427820, 199427820, 199427820, 199427820, 199913480, 199913480, 199913480, 199913480, 199913480, 200598910, 200598910, 200598910, 200598910, 200598910, 200699800, 200699800, 200699800, 200699800, 200699800, 200819240, 200819240, 200819240, 200819240, 200819240, 200962390, 200962390, 200962390, 200962390, 200962390, 201076520, 201076520, 201076520, 201076520, 201076520, 201322770, 201322770, 201322770, 201322770, 201322770, 201432170, 201432170, 201432170, 201432170, 201432170, 201677240, 201677240, 201677240, 201677240, 201677240, 202017080, 202017080, 202017080, 202017080, 202017080, 202211070, 202211070, 202211070, 202211070, 202211070, 202444190, 202444190, 202444190, 202444190, 202444190, 202491450, 202491450, 202491450, 202491450, 202491450, 202492120, 202492120, 202492120, 202492120, 202492120, 202499460, 202499460, 202499460, 202499460, 202499460, 202513430, 202513430, 202513430, 202513430, 202513430, 202549120, 202549120, 202549120, 202549120, 202549120, 202610110, 202610110, 202610110, 202610110, 202610110, 203211250, 203211250, 203211250, 203211250, 203211250, 203325600, 203325600, 203325600, 203325600, 203325600, 203329290, 203329290, 203329290, 203329290, 203329290, 203341480, 203341480, 203341480, 203341480, 203341480, 203347990, 203347990, 203347990, 203347990, 203347990, 204014550, 204014550, 204014550, 204014550, 204014550, 204227650, 204227650, 204227650, 204227650, 204227650, 204239600, 204239600, 204239600, 204239600, 204239600, 204583680, 204583680, 204583680, 204583680, 204583680, 204642170, 204642170, 204642170, 204642170, 204642170, 205096220, 205096220, 205096220, 205096220, 205096220, 205122510, 205122510, 205122510, 205122510, 205122510, 205129680, 205129680, 205129680, 205129680, 205129680, 205136240, 205136240, 205136240, 205136240, 205136240, 205280680, 205280680, 205280680, 205280680, 205280680, 205436550, 205436550, 205436550, 205436550, 205436550, 205796780, 205796780, 205796780, 205796780, 205796780, 206285380, 206285380, 206285380, 206285380, 206285380, 206695790, 206695790, 206695790, 206695790, 206695790, 207029500, 207029500, 207029500, 207029500, 207029500, 248511870, 248511870, 248511870, 248511870, 248511870, 249014820, 249014820, 249014820, 249014820, 249014820, 323391000, 323391000, 323391000, 323391000, 323391000, 375559560, 375559560, 375559560, 375559560, 375559560, 375599230, 375599230, 375599230, 375599230, 375599230, 375654320, 375654320, 375654320, 375654320, 375654320, 375654970, 375654970, 375654970, 375654970, 375654970, 375655770, 375655770, 375655770, 375655770, 375655770, 375687390, 375687390, 375687390, 375687390, 375687390, 375756140, 375756140, 375756140, 375756140, 375756140, 375767540, 375767540, 375767540, 375767540, 375767540, 375774790, 375774790, 375774790, 375774790, 375774790, 375781680, 375781680, 375781680, 375781680, 375781680, 375782360, 375782360, 375782360, 375782360, 375782360, 375803720, 375803720, 375803720, 375803720, 375803720, 375848500, 375848500, 375848500, 375848500, 375848500, 375917320, 375917320, 375917320, 375917320, 375917320, 376016030, 376016030, 376016030, 376016030, 376016030, 376018440, 376018440, 376018440, 376018440, 376018440, 376116420, 376116420, 376116420, 376116420, 376116420, 376216880, 376216880, 376216880, 376216880, 376216880, 376318070, 376318070, 376318070, 376318070, 376318070, 376335220, 376335220, 376335220, 376335220, 376335220, 376376670, 376376670, 376376670, 376376670, 376376670, 376378100, 376378100, 376378100, 376378100, 376378100, 376409400, 376409400, 376409400, 376409400, 376409400, 376989540, 376989540, 376989540, 376989540, 376989540, 377221300, 377221300, 377221300, 377221300, 377221300, 378868990, 378868990, 378868990, 378868990, 378868990, 379151450, 379151450, 379151450, 379151450, 379151450, 379865530, 379865530, 379865530, 379865530, 379865530, 381717800, 381717800, 381717800, 381717800, 381717800, 405202960, 405202960, 405202960, 405202960, 405202960, 405892480, 405892480, 405892480, 405892480, 405892480, 406160790, 406160790, 406160790, 406160790, 406160790, 406282910, 406282910, 406282910, 406282910, 406282910, 406378740, 406378740, 406378740, 406378740, 406378740, 407090170, 407090170, 407090170, 407090170, 407090170, 407522560, 407522560, 407522560, 407522560, 407522560, 491617760, 491617760, 491617760, 491617760, 491617760, 570361550, 570361550, 570361550, 570361550, 570361550, 620767260, 620767260, 620767260, 620767260, 620767260, 631060220, 631060220, 631060220, 631060220, 631060220, 631339110, 631339110, 631339110, 631339110, 631339110, 631339120, 631339120, 631339120, 631339120, 631339120, 631618070, 631618070, 631618070, 631618070, 631618070, 631997490, 631997490, 631997490, 631997490, 631997490, 631997500, 631997500, 631997500, 631997500, 631997500, 638241120, 638241120, 638241120, 638241120, 638241120, 647493300, 647493300, 647493300, 647493300, 647493300, 708942080, 708942080, 708942080, 708942080, 708942080, 709373890, 709373890, 709373890, 709373890, 709373890, 721449110, 721449110, 721449110, 721449110, 721449110, 721539440, 721539440, 721539440, 721539440, 721539440, 722260040, 722260040, 722260040, 722260040, 722260040, 722261320, 722261320, 722261320, 722261320, 722261320, 722538310, 722538310, 722538310, 722538310, 722538310, 722562170, 722562170, 722562170, 722562170, 722562170, 725263980, 725263980, 725263980, 725263980, 725263980, 751492850, 751492850, 751492850, 751492850, 751492850, 752097710, 752097710, 752097710, 752097710, 752097710, 753245160, 753245160, 753245160, 753245160, 753245160, 758345510, 758345510, 758345510, 758345510, 758345510, 769747680, 769747680, 769747680, 769747680, 769747680, 770059170, 770059170, 770059170, 770059170, 770059170, 805777210, 805777210, 805777210, 805777210, 805777210, 829615860, 829615860, 829615860, 829615860, 829615860, 836019780, 836019780, 836019780, 836019780, 836019780, 850702030, 850702030, 850702030, 850702030, 850702030, 850875910, 850875910, 850875910, 850875910, 850875910, 851321170, 851321170, 851321170, 851321170, 851321170, 860356130, 860356130, 860356130, 860356130, 860356130, 867381830, 867381830, 867381830, 867381830, 867381830, 894655770, 894655770, 894655770, 894655770, 894655770, 900874940, 900874940, 900874940, 900874940, 900874940, 901330200, 901330200, 901330200, 901330200, 901330200, 902490420, 902490420, 902490420, 902490420, 902490420, 918538610, 918538610, 918538610, 918538610, 918538610, 925206520, 925206520, 925206520, 925206520, 925206520, 931996200, 931996200, 931996200, 931996200, 931996200, 939622790, 939622790, 939622790, 939622790, 939622790, 939705470, 939705470, 939705470, 939705470, 939705470, 939877350, 939877350, 939877350, 939877350, 939877350, 941144050, 941144050, 941144050, 941144050, 941144050, 943519890, 943519890, 943519890, 943519890, 943519890, 946798980, 946798980, 946798980, 946798980, 946798980, 947724410, 947724410, 947724410, 947724410, 947724410, 949310320, 949310320, 949310320, 949310320, 949310320, 950001890, 950001890, 950001890, 950001890, 950001890, 950117260, 950117260, 950117260, 950117260, 950117260, 951636630, 951636630, 951636630, 951636630, 951636630, 951658820, 951658820, 951658820, 951658820, 951658820, 951700410, 951700410, 951700410, 951700410, 951700410, 951818490, 951818490, 951818490, 951818490, 951818490, 962930840, 962930840, 962930840, 962930840, 962930840, 966615930, 966615930, 966615930, 966615930, 966615930, 992876060, 992876060, 992876060, 992876060, 992876060, 993471040, 993471040, 993471040, 993471040, 993471040, 994192380, 994192380, 994192380, 994192380, 994192380, 997254980, 997254980, 997254980, 997254980, 997254980, 997340610, 997340610, 997340610, 997340610, 997340610, 998173900, 998173900, 998173900, 998173900, 998173900, 998393010, 998393010, 998393010, 998393010, 998393010, 999914980, 999914980, 999914980, 999914980, 999914980, 1000227410, 1000227410, 1000227410, 1000227410, 1000227410, 1000232430, 1000232430, 1000232430, 1000232430, 1000232430, 1000358990, 1000358990, 1000358990, 1000358990, 1000358990]\n"
    }
   ],
   "source": [
    "for house_id in tqdm_notebook(checkpoint_1[sequence[0]].index.tolist(), desc='Process Progress'): # for all unique Household Keys on the original dataframe\n",
    "    for var_type in sequence: # for all type of separatable dataframe        \n",
    "        if house_mean[house_id] >= (total_mean * 2): # we check if the same does not satisfies the threshold limit\n",
    "\n",
    "            for var_type in sequence: # for all type of separatable dataframe \n",
    "\n",
    "                if house_id in checkpoint_1[var_type].index.tolist(): # check if Household Key has not been already droped to prevent error raise\n",
    "\n",
    "                    checkpoint_1[var_type].drop(house_id, inplace=True) # drop the row related to the given Household Key in all dataframes type\n",
    "\n",
    "                    removed_rows[row_key1].append(house_id) # and we add its name to the list of removed columns\n",
    "\n",
    "print('Removed Rows after filtering process: ', removed_rows[row_key1])"
   ]
  },
  {
   "cell_type": "code",
   "execution_count": 57,
   "metadata": {},
   "outputs": [],
   "source": [
    "for var_type, idx in zip(sequence, range(len(sequence))): # lets check the result now\n",
    "\n",
    "    rows_nullval_ratio[var_type] = (checkpoint_1[var_type].isnull().sum(axis=1).sort_values(ascending=False)) # filling dataframe dictionary"
   ]
  },
  {
   "cell_type": "code",
   "execution_count": 58,
   "metadata": {},
   "outputs": [
    {
     "output_type": "stream",
     "name": "stdout",
     "text": "Numerical: 4095\nBinary Numericals: 4095\nDates: 4095\nBinary Categoricals: 4095\nStrings: 4095\n"
    }
   ],
   "source": [
    "for var_type in sequence:\n",
    "\n",
    "    print(var_type + ':', len(checkpoint_1[var_type].index)) # total number of rows in each type of dataframe"
   ]
  },
  {
   "cell_type": "code",
   "execution_count": 59,
   "metadata": {},
   "outputs": [
    {
     "output_type": "stream",
     "name": "stdout",
     "text": "Numerical: 14\nBinary Numericals: 1\nDates: 3\nBinary Categoricals: 13\nStrings: 12\n"
    }
   ],
   "source": [
    "for var_type in sequence:\n",
    "\n",
    "    print(var_type + ':', len(checkpoint_1[var_type].columns)) # number of remaining columns for each dataframe type after the filtering process "
   ]
  },
  {
   "cell_type": "markdown",
   "metadata": {},
   "source": [
    "## 6 - Summarize Information and Fill Nulls in the given columns "
   ]
  },
  {
   "cell_type": "markdown",
   "metadata": {},
   "source": [
    "    6.1 - Saving checkpoint "
   ]
  },
  {
   "cell_type": "code",
   "execution_count": 60,
   "metadata": {},
   "outputs": [],
   "source": [
    "checkpoint_2 = {} # creating dictionary for the second checkpoint\n",
    "\n",
    "for var_type, idx in zip(sequence, range(len(sequence))): \n",
    "    checkpoint_2[var_type] = checkpoint_1[var_type].copy() # filling in with all dataframe types"
   ]
  },
  {
   "cell_type": "markdown",
   "metadata": {},
   "source": [
    "    6.2 - Dealing first with the Numericals Dataframe"
   ]
  },
  {
   "cell_type": "code",
   "execution_count": 61,
   "metadata": {},
   "outputs": [
    {
     "output_type": "execute_result",
     "data": {
      "text/plain": "               Length Of Residence  ERS ENT Count Year 1  \\\nHousehold Key                                              \n8750                           NaN              7.857143   \n9690                         140.0              0.000000   \n33380                         50.0              0.000000   \n\n               ERS ENT Count Year 2  ERS ENT Count Year 3  \\\nHousehold Key                                               \n8750                       4.285714              7.142857   \n9690                       6.666667             15.000000   \n33380                      0.000000              0.000000   \n\n               ERS Member Cost Year 1  ERS Member Cost Year 2  \\\nHousehold Key                                                   \n8750                      4623.928571             2522.142857   \n9690                         0.000000             1470.833333   \n33380                        0.000000                0.000000   \n\n               ERS Member Cost Year 3  Member Tenure Years  \\\nHousehold Key                                                \n8750                           5472.0           289.444444   \n9690                          15059.5           353.333333   \n33380                             0.0           373.333333   \n\n               Months from Join to Cancel   Basic Cost  Calculated Tow Miles  \\\nHousehold Key                                                                  \n8750                               1577.5  1250.357143             80.142857   \n9690                                  NaN  3072.500000             22.500000   \n33380                              3120.0          NaN                   NaN   \n\n                Plus Cost  Premier Cost   Total Cost  \nHousehold Key                                         \n8750           265.714286           0.0  1516.071429  \n9690           127.500000           0.0  4347.500000  \n33380                 NaN           NaN          NaN  ",
      "text/html": "<div>\n<style scoped>\n    .dataframe tbody tr th:only-of-type {\n        vertical-align: middle;\n    }\n\n    .dataframe tbody tr th {\n        vertical-align: top;\n    }\n\n    .dataframe thead th {\n        text-align: right;\n    }\n</style>\n<table border=\"1\" class=\"dataframe\">\n  <thead>\n    <tr style=\"text-align: right;\">\n      <th></th>\n      <th>Length Of Residence</th>\n      <th>ERS ENT Count Year 1</th>\n      <th>ERS ENT Count Year 2</th>\n      <th>ERS ENT Count Year 3</th>\n      <th>ERS Member Cost Year 1</th>\n      <th>ERS Member Cost Year 2</th>\n      <th>ERS Member Cost Year 3</th>\n      <th>Member Tenure Years</th>\n      <th>Months from Join to Cancel</th>\n      <th>Basic Cost</th>\n      <th>Calculated Tow Miles</th>\n      <th>Plus Cost</th>\n      <th>Premier Cost</th>\n      <th>Total Cost</th>\n    </tr>\n    <tr>\n      <th>Household Key</th>\n      <th></th>\n      <th></th>\n      <th></th>\n      <th></th>\n      <th></th>\n      <th></th>\n      <th></th>\n      <th></th>\n      <th></th>\n      <th></th>\n      <th></th>\n      <th></th>\n      <th></th>\n      <th></th>\n    </tr>\n  </thead>\n  <tbody>\n    <tr>\n      <th>8750</th>\n      <td>NaN</td>\n      <td>7.857143</td>\n      <td>4.285714</td>\n      <td>7.142857</td>\n      <td>4623.928571</td>\n      <td>2522.142857</td>\n      <td>5472.0</td>\n      <td>289.444444</td>\n      <td>1577.5</td>\n      <td>1250.357143</td>\n      <td>80.142857</td>\n      <td>265.714286</td>\n      <td>0.0</td>\n      <td>1516.071429</td>\n    </tr>\n    <tr>\n      <th>9690</th>\n      <td>140.0</td>\n      <td>0.000000</td>\n      <td>6.666667</td>\n      <td>15.000000</td>\n      <td>0.000000</td>\n      <td>1470.833333</td>\n      <td>15059.5</td>\n      <td>353.333333</td>\n      <td>NaN</td>\n      <td>3072.500000</td>\n      <td>22.500000</td>\n      <td>127.500000</td>\n      <td>0.0</td>\n      <td>4347.500000</td>\n    </tr>\n    <tr>\n      <th>33380</th>\n      <td>50.0</td>\n      <td>0.000000</td>\n      <td>0.000000</td>\n      <td>0.000000</td>\n      <td>0.000000</td>\n      <td>0.000000</td>\n      <td>0.0</td>\n      <td>373.333333</td>\n      <td>3120.0</td>\n      <td>NaN</td>\n      <td>NaN</td>\n      <td>NaN</td>\n      <td>NaN</td>\n      <td>NaN</td>\n    </tr>\n  </tbody>\n</table>\n</div>"
     },
     "metadata": {},
     "execution_count": 61
    }
   ],
   "source": [
    "checkpoint_2[sequence[0]].head(n=3) # lets remember what variables and how do they behave on this dataframe"
   ]
  },
  {
   "cell_type": "markdown",
   "metadata": {},
   "source": [
    "        6.2.1 - Lets take a look at the Length Of Residence variable"
   ]
  },
  {
   "cell_type": "code",
   "execution_count": 62,
   "metadata": {},
   "outputs": [
    {
     "output_type": "execute_result",
     "data": {
      "text/plain": "array([         nan, 140.        ,  50.        , 150.        ,\n       121.42857143, 116.66666667,  21.25      , 103.33333333,\n       130.        ,  90.        ,  96.        ,  75.        ,\n       105.        ,  80.        ,  27.85714286, 133.33333333,\n        92.5       , 110.        ,  70.        , 108.33333333,\n       100.        ,   0.        ,  20.        , 112.5       ,\n       136.66666667,  10.        ,  60.        , 120.        ,\n       141.25      , 126.66666667,  26.66666667, 165.        ,\n       122.77777778, 114.28571429,  98.        ,  86.        ,\n       196.66666667,  45.        ,  91.42857143, 142.72727273,\n       200.        , 128.        ,  40.        , 138.57142857,\n       152.85714286,  42.        ,  94.11764706, 106.42857143,\n       137.14285714,  15.        , 121.66666667,  72.        ,\n        42.5       ,  30.        , 124.        , 117.5       ,\n       142.85714286, 132.5       , 122.5       ,  94.61538462,\n       263.33333333, 290.        , 131.25      , 106.        ,\n        25.        ,  57.05882353, 270.        , 195.        ,\n       115.        , 138.88888889,  47.5       ,  53.33333333,\n        85.        ,  87.5       , 190.        , 118.        ,\n        35.        ,  65.83333333, 294.        , 127.5       ,\n       113.33333333,  67.14285714,  82.72727273, 122.        ,\n        96.42857143, 101.85185185,  84.        , 148.57142857,\n       144.        ,   6.66666667,  76.66666667,   9.41176471,\n       125.        , 135.45454545,  43.33333333, 300.66666667,\n       114.        ,  71.25      , 106.92307692,  45.26315789,\n        84.61538462,  56.66666667,  52.5       ,  26.        ,\n       138.46153846, 210.        ,  93.33333333,  37.5       ,\n        97.5       , 135.        ,  94.        ,  48.33333333,\n       144.44444444, 310.        , 126.        , 170.        ,\n       123.33333333, 222.5       , 335.45454545, 145.71428571,\n       108.        ,  63.63636364, 106.25      , 342.        ,\n        94.16666667, 121.11111111,  68.33333333,  65.        ,\n       103.68421053,  76.        , 102.14285714, 135.38461538,\n       141.875     ,  74.28571429, 145.        ,  69.47368421,\n        28.        ,  83.33333333,  52.17391304, 112.        ,\n       175.        , 106.66666667,  92.22222222, 163.33333333,\n        41.11111111,  46.        , 230.        , 122.72727273,\n       144.28571429,  77.5       , 133.75      , 260.        ,\n       128.33333333, 116.25      ,  95.        , 143.33333333,\n        98.57142857, 126.36363636, 138.        , 155.71428571,\n        51.42857143, 112.85714286, 128.57142857,  96.66666667,\n        56.        ,   4.        , 185.        , 246.66666667,\n        64.28571429,  91.66666667,  67.64705882,  92.        ,\n       250.        ,  79.47368421, 330.        ,  33.33333333,\n       141.11111111, 106.47058824,  55.        ,  86.66666667,\n        36.66666667, 110.55555556, 430.        , 133.63636364,\n        78.88888889,  66.66666667,  40.55555556, 137.5       ,\n        82.5       , 227.5       , 134.44444444,  76.36363636,\n       125.26315789, 360.        ,  66.25      ,  28.88888889,\n       188.33333333,  94.28571429,  52.        , 160.        ,\n        73.33333333, 280.        , 106.15384615,  85.55555556,\n       320.        , 220.        ,  88.75      ,  42.85714286,\n        63.33333333, 104.        ,  18.18181818,  84.44444444,\n        72.5       ,  16.66666667, 111.66666667,  58.        ,\n        47.33333333,  36.25      , 116.31578947,  25.55555556,\n        81.66666667,  12.5       ,  87.77777778,  27.27272727,\n        75.29411765, 146.        , 134.        , 180.        ,\n       116.        , 127.14285714, 142.5       , 102.        ,\n        18.57142857, 169.09090909,  48.        , 101.11111111,\n        46.66666667, 132.85714286, 240.        ,  57.5       ,\n        63.07692308, 102.5       , 131.17647059, 142.        ,\n       295.        , 111.42857143, 114.44444444,  62.22222222,\n        37.77777778, 322.5       , 172.5       , 100.90909091,\n       176.        ,  78.33333333,  25.71428571,  10.58823529,\n       146.66666667,  32.5       ,  34.44444444,   3.33333333,\n        57.77777778, 134.28571429])"
     },
     "metadata": {},
     "execution_count": 62
    }
   ],
   "source": [
    "checkpoint_2[sequence[0]]['Length Of Residence'].unique() # total number of null values for the Length Of Residence variable"
   ]
  },
  {
   "cell_type": "markdown",
   "metadata": {},
   "source": [
    "            6.2.2.1 - Round the values and converting them to interger type to prevent any error"
   ]
  },
  {
   "cell_type": "code",
   "execution_count": 63,
   "metadata": {},
   "outputs": [
    {
     "output_type": "display_data",
     "data": {
      "text/plain": "HBox(children=(FloatProgress(value=0.0, description='Process Progress', max=4095.0, style=ProgressStyle(descri…",
      "application/vnd.jupyter.widget-view+json": {
       "version_major": 2,
       "version_minor": 0,
       "model_id": "1388b7d15ee94cd1a1dd42913011a9e5"
      }
     },
     "metadata": {}
    },
    {
     "output_type": "stream",
     "name": "stdout",
     "text": "\n"
    }
   ],
   "source": [
    "for idx in tqdm_notebook(checkpoint_2[sequence[0]]['Length Of Residence'].index, desc='Process Progress'): # for all indexes of the given dataframe\n",
    "\n",
    "    checkpoint_2[sequence[0]].at[idx, 'Length Of Residence'] = round(checkpoint_2[sequence[0]]['Length Of Residence'][idx]) # replace de Null value by the Household Key mean\n",
    "\n",
    "    if np.isnan(checkpoint_2[sequence[0]]['Length Of Residence'][idx]):\n",
    "\n",
    "        checkpoint_2[sequence[0]].at[idx, 'Length Of Residence'] = 0\n",
    "\n",
    "# checkpoint_2[sequence[0]]['Length Of Residence'] = checkpoint_2[sequence[0]]['Length Of Residence'].astype(int)"
   ]
  },
  {
   "cell_type": "code",
   "execution_count": 64,
   "metadata": {},
   "outputs": [],
   "source": [
    "Counter(checkpoint_2[sequence[0]]['Length Of Residence'].tolist());"
   ]
  },
  {
   "cell_type": "markdown",
   "metadata": {},
   "source": [
    "    As we can see, we still have a considerable amount of null values in the Length Of Residence variable. If we replaced these values by the mean of the variable we would be disregarding the geographical relation. Therefore, we will use the mean related to the City variable to predict the null values"
   ]
  },
  {
   "cell_type": "code",
   "execution_count": 65,
   "metadata": {},
   "outputs": [
    {
     "output_type": "execute_result",
     "data": {
      "text/plain": "0"
     },
     "metadata": {},
     "execution_count": 65
    }
   ],
   "source": [
    "checkpoint_2['Strings']['City'].isnull().sum() # number of Household Keys with null City values"
   ]
  },
  {
   "cell_type": "code",
   "execution_count": 66,
   "metadata": {},
   "outputs": [],
   "source": [
    "checkpoint_2[sequence[0]]['City'] = checkpoint_2['Strings']['City'].values # temporarily concatenate the city column on the numerical column"
   ]
  },
  {
   "cell_type": "markdown",
   "metadata": {},
   "source": [
    "                6.2.2.2 - Luckly, we can rely on the City variable, stored at the Strings dataframe. Thus, we can proceed with the Null values prediction"
   ]
  },
  {
   "cell_type": "code",
   "execution_count": 67,
   "metadata": {},
   "outputs": [
    {
     "output_type": "display_data",
     "data": {
      "text/plain": "HBox(children=(FloatProgress(value=0.0, description='Process Progress', max=4095.0, style=ProgressStyle(descri…",
      "application/vnd.jupyter.widget-view+json": {
       "version_major": 2,
       "version_minor": 0,
       "model_id": "a86dbfddd32b464498f5663c16da7b42"
      }
     },
     "metadata": {}
    },
    {
     "output_type": "stream",
     "name": "stdout",
     "text": "\n"
    }
   ],
   "source": [
    "for idx in tqdm_notebook(checkpoint_2[sequence[0]].index, desc='Process Progress'): # For all Household Keys\n",
    "\n",
    "    if checkpoint_2[sequence[0]]['Length Of Residence'][idx] == 0: # we check if the Length of Residence variable is equal zero (previouly changed from nan values)\n",
    "\n",
    "        tmp_city = checkpoint_2[sequence[0]]['City'][idx] # we store a temporary value of the city for the given Household Key\n",
    "\n",
    "        checkpoint_2[sequence[0]]['Length Of Residence'][idx] = checkpoint_2[sequence[0]]['Length Of Residence'].loc[checkpoint_2[sequence[0]]['City'] == tmp_city].values.mean() # replacing zeroed value by mean of the Length of Residence per grouped by City"
   ]
  },
  {
   "cell_type": "code",
   "execution_count": 68,
   "metadata": {},
   "outputs": [
    {
     "output_type": "execute_result",
     "data": {
      "text/plain": "               Length Of Residence  ERS ENT Count Year 1  \\\nHousehold Key                                              \n8750                     90.558333              7.857143   \n9690                    140.000000              0.000000   \n\n               ERS ENT Count Year 2  ERS ENT Count Year 3  \\\nHousehold Key                                               \n8750                       4.285714              7.142857   \n9690                       6.666667             15.000000   \n\n               ERS Member Cost Year 1  ERS Member Cost Year 2  \\\nHousehold Key                                                   \n8750                      4623.928571             2522.142857   \n9690                         0.000000             1470.833333   \n\n               ERS Member Cost Year 3  Member Tenure Years  \\\nHousehold Key                                                \n8750                           5472.0           289.444444   \n9690                          15059.5           353.333333   \n\n               Months from Join to Cancel   Basic Cost  Calculated Tow Miles  \\\nHousehold Key                                                                  \n8750                               1577.5  1250.357143             80.142857   \n9690                                  NaN  3072.500000             22.500000   \n\n                Plus Cost  Premier Cost   Total Cost          City  \nHousehold Key                                                       \n8750           265.714286           0.0  1516.071429  WEST WARWICK  \n9690           127.500000           0.0  4347.500000       WARWICK  ",
      "text/html": "<div>\n<style scoped>\n    .dataframe tbody tr th:only-of-type {\n        vertical-align: middle;\n    }\n\n    .dataframe tbody tr th {\n        vertical-align: top;\n    }\n\n    .dataframe thead th {\n        text-align: right;\n    }\n</style>\n<table border=\"1\" class=\"dataframe\">\n  <thead>\n    <tr style=\"text-align: right;\">\n      <th></th>\n      <th>Length Of Residence</th>\n      <th>ERS ENT Count Year 1</th>\n      <th>ERS ENT Count Year 2</th>\n      <th>ERS ENT Count Year 3</th>\n      <th>ERS Member Cost Year 1</th>\n      <th>ERS Member Cost Year 2</th>\n      <th>ERS Member Cost Year 3</th>\n      <th>Member Tenure Years</th>\n      <th>Months from Join to Cancel</th>\n      <th>Basic Cost</th>\n      <th>Calculated Tow Miles</th>\n      <th>Plus Cost</th>\n      <th>Premier Cost</th>\n      <th>Total Cost</th>\n      <th>City</th>\n    </tr>\n    <tr>\n      <th>Household Key</th>\n      <th></th>\n      <th></th>\n      <th></th>\n      <th></th>\n      <th></th>\n      <th></th>\n      <th></th>\n      <th></th>\n      <th></th>\n      <th></th>\n      <th></th>\n      <th></th>\n      <th></th>\n      <th></th>\n      <th></th>\n    </tr>\n  </thead>\n  <tbody>\n    <tr>\n      <th>8750</th>\n      <td>90.558333</td>\n      <td>7.857143</td>\n      <td>4.285714</td>\n      <td>7.142857</td>\n      <td>4623.928571</td>\n      <td>2522.142857</td>\n      <td>5472.0</td>\n      <td>289.444444</td>\n      <td>1577.5</td>\n      <td>1250.357143</td>\n      <td>80.142857</td>\n      <td>265.714286</td>\n      <td>0.0</td>\n      <td>1516.071429</td>\n      <td>WEST WARWICK</td>\n    </tr>\n    <tr>\n      <th>9690</th>\n      <td>140.000000</td>\n      <td>0.000000</td>\n      <td>6.666667</td>\n      <td>15.000000</td>\n      <td>0.000000</td>\n      <td>1470.833333</td>\n      <td>15059.5</td>\n      <td>353.333333</td>\n      <td>NaN</td>\n      <td>3072.500000</td>\n      <td>22.500000</td>\n      <td>127.500000</td>\n      <td>0.0</td>\n      <td>4347.500000</td>\n      <td>WARWICK</td>\n    </tr>\n  </tbody>\n</table>\n</div>"
     },
     "metadata": {},
     "execution_count": 68
    }
   ],
   "source": [
    "checkpoint_2[sequence[0]].head(n=2)"
   ]
  },
  {
   "cell_type": "markdown",
   "metadata": {},
   "source": [
    "                6.2.2.3 - Droping City variable from Numerical dataframe type"
   ]
  },
  {
   "cell_type": "code",
   "execution_count": 69,
   "metadata": {},
   "outputs": [],
   "source": [
    "checkpoint_2[sequence[0]].drop(columns='City', inplace=True)"
   ]
  },
  {
   "cell_type": "markdown",
   "metadata": {},
   "source": [
    "        6.2.3 - Rename ERS ENT columns that are related to number of roadside calls and creating a column that presents the sum of it"
   ]
  },
  {
   "cell_type": "markdown",
   "metadata": {},
   "source": [
    "            6.2.3.1 Finding given columns"
   ]
  },
  {
   "cell_type": "code",
   "execution_count": 70,
   "metadata": {},
   "outputs": [
    {
     "output_type": "stream",
     "name": "stdout",
     "text": "['ERS ENT Count Year 1', 'ERS ENT Count Year 2', 'ERS ENT Count Year 3']\n"
    }
   ],
   "source": [
    "matching_ERS_ENT = [s for s in list(checkpoint_2[sequence[0]].columns) if \"ERS ENT\" in s] # creating a list of the columns that have at least the ERS ENT mnemonic\n",
    "\n",
    "print(matching_ERS_ENT)"
   ]
  },
  {
   "cell_type": "markdown",
   "metadata": {},
   "source": [
    "            6.2.3.2 Renaming Columns"
   ]
  },
  {
   "cell_type": "code",
   "execution_count": 71,
   "metadata": {},
   "outputs": [],
   "source": [
    "counter = 1 # counter flag\n",
    "\n",
    "for c in matching_ERS_ENT:\n",
    "\n",
    "    checkpoint_2[sequence[0]].rename(columns={c : 'Number of Roadside calss for Year' + ' ' + str(counter)}, inplace=True) # renaming the columns\n",
    "\n",
    "    counter = counter + 1 # index of the new product column name"
   ]
  },
  {
   "cell_type": "code",
   "execution_count": 72,
   "metadata": {},
   "outputs": [
    {
     "output_type": "execute_result",
     "data": {
      "text/plain": "               Length Of Residence  Number of Roadside calss for Year 1  \\\nHousehold Key                                                             \n8750                     90.558333                             7.857143   \n9690                    140.000000                             0.000000   \n\n               Number of Roadside calss for Year 2  \\\nHousehold Key                                        \n8750                                      4.285714   \n9690                                      6.666667   \n\n               Number of Roadside calss for Year 3  ERS Member Cost Year 1  \\\nHousehold Key                                                                \n8750                                      7.142857             4623.928571   \n9690                                     15.000000                0.000000   \n\n               ERS Member Cost Year 2  ERS Member Cost Year 3  \\\nHousehold Key                                                   \n8750                      2522.142857                  5472.0   \n9690                      1470.833333                 15059.5   \n\n               Member Tenure Years  Months from Join to Cancel   Basic Cost  \\\nHousehold Key                                                                 \n8750                    289.444444                      1577.5  1250.357143   \n9690                    353.333333                         NaN  3072.500000   \n\n               Calculated Tow Miles   Plus Cost  Premier Cost   Total Cost  \nHousehold Key                                                               \n8750                      80.142857  265.714286           0.0  1516.071429  \n9690                      22.500000  127.500000           0.0  4347.500000  ",
      "text/html": "<div>\n<style scoped>\n    .dataframe tbody tr th:only-of-type {\n        vertical-align: middle;\n    }\n\n    .dataframe tbody tr th {\n        vertical-align: top;\n    }\n\n    .dataframe thead th {\n        text-align: right;\n    }\n</style>\n<table border=\"1\" class=\"dataframe\">\n  <thead>\n    <tr style=\"text-align: right;\">\n      <th></th>\n      <th>Length Of Residence</th>\n      <th>Number of Roadside calss for Year 1</th>\n      <th>Number of Roadside calss for Year 2</th>\n      <th>Number of Roadside calss for Year 3</th>\n      <th>ERS Member Cost Year 1</th>\n      <th>ERS Member Cost Year 2</th>\n      <th>ERS Member Cost Year 3</th>\n      <th>Member Tenure Years</th>\n      <th>Months from Join to Cancel</th>\n      <th>Basic Cost</th>\n      <th>Calculated Tow Miles</th>\n      <th>Plus Cost</th>\n      <th>Premier Cost</th>\n      <th>Total Cost</th>\n    </tr>\n    <tr>\n      <th>Household Key</th>\n      <th></th>\n      <th></th>\n      <th></th>\n      <th></th>\n      <th></th>\n      <th></th>\n      <th></th>\n      <th></th>\n      <th></th>\n      <th></th>\n      <th></th>\n      <th></th>\n      <th></th>\n      <th></th>\n    </tr>\n  </thead>\n  <tbody>\n    <tr>\n      <th>8750</th>\n      <td>90.558333</td>\n      <td>7.857143</td>\n      <td>4.285714</td>\n      <td>7.142857</td>\n      <td>4623.928571</td>\n      <td>2522.142857</td>\n      <td>5472.0</td>\n      <td>289.444444</td>\n      <td>1577.5</td>\n      <td>1250.357143</td>\n      <td>80.142857</td>\n      <td>265.714286</td>\n      <td>0.0</td>\n      <td>1516.071429</td>\n    </tr>\n    <tr>\n      <th>9690</th>\n      <td>140.000000</td>\n      <td>0.000000</td>\n      <td>6.666667</td>\n      <td>15.000000</td>\n      <td>0.000000</td>\n      <td>1470.833333</td>\n      <td>15059.5</td>\n      <td>353.333333</td>\n      <td>NaN</td>\n      <td>3072.500000</td>\n      <td>22.500000</td>\n      <td>127.500000</td>\n      <td>0.0</td>\n      <td>4347.500000</td>\n    </tr>\n  </tbody>\n</table>\n</div>"
     },
     "metadata": {},
     "execution_count": 72
    }
   ],
   "source": [
    "checkpoint_2[sequence[0]].head(n=2)"
   ]
  },
  {
   "cell_type": "markdown",
   "metadata": {},
   "source": [
    "            4.1.2.3 - Calculating Total Amount of Calls"
   ]
  },
  {
   "cell_type": "code",
   "execution_count": 73,
   "metadata": {},
   "outputs": [
    {
     "output_type": "display_data",
     "data": {
      "text/plain": "HBox(children=(FloatProgress(value=0.0, description='Process Progress', max=4095.0, style=ProgressStyle(descri…",
      "application/vnd.jupyter.widget-view+json": {
       "version_major": 2,
       "version_minor": 0,
       "model_id": "26d42b4a07394550939fad85abb9d1b0"
      }
     },
     "metadata": {}
    },
    {
     "output_type": "stream",
     "name": "stdout",
     "text": "\n"
    }
   ],
   "source": [
    "new_column = [] # creating list for the new column to be appended\n",
    "\n",
    "for idx in tqdm_notebook(checkpoint_2[sequence[0]].index, desc='Process Progress'): # For each row\n",
    "    \n",
    "    total_amount = 0 # total amount of calls for each Household Key\n",
    "\n",
    "    for c in ['Number of Roadside calss for Year 1', 'Number of Roadside calss for Year 2',\t'Number of Roadside calss for Year 3']: # for each Number of Roadside calls for each Year\n",
    "\n",
    "        if np.isnan(checkpoint_2[sequence[0]][c][idx]): # checking for nan values existance\n",
    "\n",
    "            checkpoint_2[sequence[0]].at[idx, c] = 0 # replacing them by zero calls\n",
    "                  \n",
    "        checkpoint_2[sequence[0]].at[idx, c] = round(checkpoint_2[sequence[0]][c][idx]) # rounding the call values\n",
    "\n",
    "        total_amount += checkpoint_2[sequence[0]][c][idx] # summing the total amount of call\n",
    "\n",
    "    new_column.append(total_amount) # appending to list representing the new column to be appended"
   ]
  },
  {
   "cell_type": "code",
   "execution_count": 74,
   "metadata": {},
   "outputs": [],
   "source": [
    "for c in ['Number of Roadside calss for Year 1', 'Number of Roadside calss for Year 2',\t'Number of Roadside calss for Year 3']: # for each Number of Roadside calls for each Year\n",
    "    checkpoint_2[sequence[0]][c] = checkpoint_2[sequence[0]][c].astype(int) # converting the final values to iterger type\n"
   ]
  },
  {
   "cell_type": "code",
   "execution_count": 75,
   "metadata": {},
   "outputs": [],
   "source": [
    "column_name = 'Total Number of Roadside Calls' # naming the new column\n",
    "\n",
    "checkpoint_2[sequence[0]][column_name] = new_column # appendding new column\n",
    "\n",
    "checkpoint_2[sequence[0]][column_name] = checkpoint_2[sequence[0]][column_name].astype(int) # converting to iterger type"
   ]
  },
  {
   "cell_type": "code",
   "execution_count": 76,
   "metadata": {},
   "outputs": [
    {
     "output_type": "execute_result",
     "data": {
      "text/plain": "               Length Of Residence  Number of Roadside calss for Year 1  \\\nHousehold Key                                                             \n8750                     90.558333                                    8   \n9690                    140.000000                                    0   \n\n               Number of Roadside calss for Year 2  \\\nHousehold Key                                        \n8750                                             4   \n9690                                             7   \n\n               Number of Roadside calss for Year 3  ERS Member Cost Year 1  \\\nHousehold Key                                                                \n8750                                             7             4623.928571   \n9690                                            15                0.000000   \n\n               ERS Member Cost Year 2  ERS Member Cost Year 3  \\\nHousehold Key                                                   \n8750                      2522.142857                  5472.0   \n9690                      1470.833333                 15059.5   \n\n               Member Tenure Years  Months from Join to Cancel   Basic Cost  \\\nHousehold Key                                                                 \n8750                    289.444444                      1577.5  1250.357143   \n9690                    353.333333                         NaN  3072.500000   \n\n               Calculated Tow Miles   Plus Cost  Premier Cost   Total Cost  \\\nHousehold Key                                                                \n8750                      80.142857  265.714286           0.0  1516.071429   \n9690                      22.500000  127.500000           0.0  4347.500000   \n\n               Total Number of Roadside Calls  \nHousehold Key                                  \n8750                                       19  \n9690                                       22  ",
      "text/html": "<div>\n<style scoped>\n    .dataframe tbody tr th:only-of-type {\n        vertical-align: middle;\n    }\n\n    .dataframe tbody tr th {\n        vertical-align: top;\n    }\n\n    .dataframe thead th {\n        text-align: right;\n    }\n</style>\n<table border=\"1\" class=\"dataframe\">\n  <thead>\n    <tr style=\"text-align: right;\">\n      <th></th>\n      <th>Length Of Residence</th>\n      <th>Number of Roadside calss for Year 1</th>\n      <th>Number of Roadside calss for Year 2</th>\n      <th>Number of Roadside calss for Year 3</th>\n      <th>ERS Member Cost Year 1</th>\n      <th>ERS Member Cost Year 2</th>\n      <th>ERS Member Cost Year 3</th>\n      <th>Member Tenure Years</th>\n      <th>Months from Join to Cancel</th>\n      <th>Basic Cost</th>\n      <th>Calculated Tow Miles</th>\n      <th>Plus Cost</th>\n      <th>Premier Cost</th>\n      <th>Total Cost</th>\n      <th>Total Number of Roadside Calls</th>\n    </tr>\n    <tr>\n      <th>Household Key</th>\n      <th></th>\n      <th></th>\n      <th></th>\n      <th></th>\n      <th></th>\n      <th></th>\n      <th></th>\n      <th></th>\n      <th></th>\n      <th></th>\n      <th></th>\n      <th></th>\n      <th></th>\n      <th></th>\n      <th></th>\n    </tr>\n  </thead>\n  <tbody>\n    <tr>\n      <th>8750</th>\n      <td>90.558333</td>\n      <td>8</td>\n      <td>4</td>\n      <td>7</td>\n      <td>4623.928571</td>\n      <td>2522.142857</td>\n      <td>5472.0</td>\n      <td>289.444444</td>\n      <td>1577.5</td>\n      <td>1250.357143</td>\n      <td>80.142857</td>\n      <td>265.714286</td>\n      <td>0.0</td>\n      <td>1516.071429</td>\n      <td>19</td>\n    </tr>\n    <tr>\n      <th>9690</th>\n      <td>140.000000</td>\n      <td>0</td>\n      <td>7</td>\n      <td>15</td>\n      <td>0.000000</td>\n      <td>1470.833333</td>\n      <td>15059.5</td>\n      <td>353.333333</td>\n      <td>NaN</td>\n      <td>3072.500000</td>\n      <td>22.500000</td>\n      <td>127.500000</td>\n      <td>0.0</td>\n      <td>4347.500000</td>\n      <td>22</td>\n    </tr>\n  </tbody>\n</table>\n</div>"
     },
     "metadata": {},
     "execution_count": 76
    }
   ],
   "source": [
    "checkpoint_2[sequence[0]].head(n=2)"
   ]
  },
  {
   "cell_type": "markdown",
   "metadata": {},
   "source": [
    "        4.1.3 - Rename ERS Member that are related to the cost of roadside services per year and creating a column that presents the sum of it"
   ]
  },
  {
   "cell_type": "markdown",
   "metadata": {},
   "source": [
    "            4.1.3.1 Finding given columns"
   ]
  },
  {
   "cell_type": "code",
   "execution_count": 77,
   "metadata": {},
   "outputs": [
    {
     "output_type": "stream",
     "name": "stdout",
     "text": "['ERS Member Cost Year 1', 'ERS Member Cost Year 2', 'ERS Member Cost Year 3']\n"
    }
   ],
   "source": [
    "matching_ERS_Cost = [s for s in list(checkpoint_2[sequence[0]].columns) if \"ERS Member\" in s] # creating a list of the columns that have at least the ERS Member mnemonic\n",
    "\n",
    "print(matching_ERS_Cost)"
   ]
  },
  {
   "cell_type": "markdown",
   "metadata": {},
   "source": [
    "            4.1.3.2 Renaming Columns"
   ]
  },
  {
   "cell_type": "code",
   "execution_count": 78,
   "metadata": {},
   "outputs": [],
   "source": [
    "counter = 1 # counter flag\n",
    "\n",
    "for c in matching_ERS_Cost:\n",
    "\n",
    "    checkpoint_2[sequence[0]].rename(columns={c : 'Roadside Member Cost for Year' + ' ' + str(counter)}, inplace=True) # renaming the columns\n",
    "\n",
    "    counter = counter + 1 # index of the new product column name"
   ]
  },
  {
   "cell_type": "code",
   "execution_count": 79,
   "metadata": {},
   "outputs": [
    {
     "output_type": "execute_result",
     "data": {
      "text/plain": "               Length Of Residence  Number of Roadside calss for Year 1  \\\nHousehold Key                                                             \n8750                     90.558333                                    8   \n9690                    140.000000                                    0   \n\n               Number of Roadside calss for Year 2  \\\nHousehold Key                                        \n8750                                             4   \n9690                                             7   \n\n               Number of Roadside calss for Year 3  \\\nHousehold Key                                        \n8750                                             7   \n9690                                            15   \n\n               Roadside Member Cost for Year 1  \\\nHousehold Key                                    \n8750                               4623.928571   \n9690                                  0.000000   \n\n               Roadside Member Cost for Year 2  \\\nHousehold Key                                    \n8750                               2522.142857   \n9690                               1470.833333   \n\n               Roadside Member Cost for Year 3  Member Tenure Years  \\\nHousehold Key                                                         \n8750                                    5472.0           289.444444   \n9690                                   15059.5           353.333333   \n\n               Months from Join to Cancel   Basic Cost  Calculated Tow Miles  \\\nHousehold Key                                                                  \n8750                               1577.5  1250.357143             80.142857   \n9690                                  NaN  3072.500000             22.500000   \n\n                Plus Cost  Premier Cost   Total Cost  \\\nHousehold Key                                          \n8750           265.714286           0.0  1516.071429   \n9690           127.500000           0.0  4347.500000   \n\n               Total Number of Roadside Calls  \nHousehold Key                                  \n8750                                       19  \n9690                                       22  ",
      "text/html": "<div>\n<style scoped>\n    .dataframe tbody tr th:only-of-type {\n        vertical-align: middle;\n    }\n\n    .dataframe tbody tr th {\n        vertical-align: top;\n    }\n\n    .dataframe thead th {\n        text-align: right;\n    }\n</style>\n<table border=\"1\" class=\"dataframe\">\n  <thead>\n    <tr style=\"text-align: right;\">\n      <th></th>\n      <th>Length Of Residence</th>\n      <th>Number of Roadside calss for Year 1</th>\n      <th>Number of Roadside calss for Year 2</th>\n      <th>Number of Roadside calss for Year 3</th>\n      <th>Roadside Member Cost for Year 1</th>\n      <th>Roadside Member Cost for Year 2</th>\n      <th>Roadside Member Cost for Year 3</th>\n      <th>Member Tenure Years</th>\n      <th>Months from Join to Cancel</th>\n      <th>Basic Cost</th>\n      <th>Calculated Tow Miles</th>\n      <th>Plus Cost</th>\n      <th>Premier Cost</th>\n      <th>Total Cost</th>\n      <th>Total Number of Roadside Calls</th>\n    </tr>\n    <tr>\n      <th>Household Key</th>\n      <th></th>\n      <th></th>\n      <th></th>\n      <th></th>\n      <th></th>\n      <th></th>\n      <th></th>\n      <th></th>\n      <th></th>\n      <th></th>\n      <th></th>\n      <th></th>\n      <th></th>\n      <th></th>\n      <th></th>\n    </tr>\n  </thead>\n  <tbody>\n    <tr>\n      <th>8750</th>\n      <td>90.558333</td>\n      <td>8</td>\n      <td>4</td>\n      <td>7</td>\n      <td>4623.928571</td>\n      <td>2522.142857</td>\n      <td>5472.0</td>\n      <td>289.444444</td>\n      <td>1577.5</td>\n      <td>1250.357143</td>\n      <td>80.142857</td>\n      <td>265.714286</td>\n      <td>0.0</td>\n      <td>1516.071429</td>\n      <td>19</td>\n    </tr>\n    <tr>\n      <th>9690</th>\n      <td>140.000000</td>\n      <td>0</td>\n      <td>7</td>\n      <td>15</td>\n      <td>0.000000</td>\n      <td>1470.833333</td>\n      <td>15059.5</td>\n      <td>353.333333</td>\n      <td>NaN</td>\n      <td>3072.500000</td>\n      <td>22.500000</td>\n      <td>127.500000</td>\n      <td>0.0</td>\n      <td>4347.500000</td>\n      <td>22</td>\n    </tr>\n  </tbody>\n</table>\n</div>"
     },
     "metadata": {},
     "execution_count": 79
    }
   ],
   "source": [
    "checkpoint_2[sequence[0]].head(n=2)"
   ]
  },
  {
   "cell_type": "markdown",
   "metadata": {},
   "source": [
    "            4.1.3.3 - Calculating Total Amount of Calls"
   ]
  },
  {
   "cell_type": "code",
   "execution_count": 80,
   "metadata": {},
   "outputs": [
    {
     "output_type": "display_data",
     "data": {
      "text/plain": "HBox(children=(FloatProgress(value=0.0, description='Process Progress', max=4095.0, style=ProgressStyle(descri…",
      "application/vnd.jupyter.widget-view+json": {
       "version_major": 2,
       "version_minor": 0,
       "model_id": "be7bd2be547347de990489f6bae97a25"
      }
     },
     "metadata": {}
    },
    {
     "output_type": "stream",
     "name": "stdout",
     "text": "\n"
    }
   ],
   "source": [
    "new_column = [] # creating list for the new column to be appended\n",
    "\n",
    "for idx in tqdm_notebook(checkpoint_2[sequence[0]].index, desc='Process Progress'): # For each row\n",
    "    \n",
    "    total_amount = 0 # total amount of Roadside cost for each Household Key\n",
    "\n",
    "    for c in ['Roadside Member Cost for Year 1', 'Roadside Member Cost for Year 2',\t'Roadside Member Cost for Year 3']: # for each cost of Roadside for each Year\n",
    "\n",
    "        if np.isnan(checkpoint_2[sequence[0]][c][idx]): # checking for nan values existance\n",
    "\n",
    "            checkpoint_2[sequence[0]].at[idx, c] = 0 # replacing them by zero cost\n",
    "                  \n",
    "        total_amount += checkpoint_2[sequence[0]][c][idx] # summing the total amount of roadside cost\n",
    "\n",
    "    new_column.append(total_amount) # appending to list representing the new column to be appended"
   ]
  },
  {
   "cell_type": "code",
   "execution_count": 81,
   "metadata": {},
   "outputs": [],
   "source": [
    "column_name = 'Total Roadside Member Cost' # naming the new column\n",
    "\n",
    "checkpoint_2[sequence[0]][column_name] = new_column # appendding new column"
   ]
  },
  {
   "cell_type": "code",
   "execution_count": 82,
   "metadata": {},
   "outputs": [
    {
     "output_type": "execute_result",
     "data": {
      "text/plain": "               Length Of Residence  Number of Roadside calss for Year 1  \\\nHousehold Key                                                             \n8750                     90.558333                                    8   \n9690                    140.000000                                    0   \n\n               Number of Roadside calss for Year 2  \\\nHousehold Key                                        \n8750                                             4   \n9690                                             7   \n\n               Number of Roadside calss for Year 3  \\\nHousehold Key                                        \n8750                                             7   \n9690                                            15   \n\n               Roadside Member Cost for Year 1  \\\nHousehold Key                                    \n8750                               4623.928571   \n9690                                  0.000000   \n\n               Roadside Member Cost for Year 2  \\\nHousehold Key                                    \n8750                               2522.142857   \n9690                               1470.833333   \n\n               Roadside Member Cost for Year 3  Member Tenure Years  \\\nHousehold Key                                                         \n8750                                    5472.0           289.444444   \n9690                                   15059.5           353.333333   \n\n               Months from Join to Cancel   Basic Cost  Calculated Tow Miles  \\\nHousehold Key                                                                  \n8750                               1577.5  1250.357143             80.142857   \n9690                                  NaN  3072.500000             22.500000   \n\n                Plus Cost  Premier Cost   Total Cost  \\\nHousehold Key                                          \n8750           265.714286           0.0  1516.071429   \n9690           127.500000           0.0  4347.500000   \n\n               Total Number of Roadside Calls  Total Roadside Member Cost  \nHousehold Key                                                              \n8750                                       19                12618.071429  \n9690                                       22                16530.333333  ",
      "text/html": "<div>\n<style scoped>\n    .dataframe tbody tr th:only-of-type {\n        vertical-align: middle;\n    }\n\n    .dataframe tbody tr th {\n        vertical-align: top;\n    }\n\n    .dataframe thead th {\n        text-align: right;\n    }\n</style>\n<table border=\"1\" class=\"dataframe\">\n  <thead>\n    <tr style=\"text-align: right;\">\n      <th></th>\n      <th>Length Of Residence</th>\n      <th>Number of Roadside calss for Year 1</th>\n      <th>Number of Roadside calss for Year 2</th>\n      <th>Number of Roadside calss for Year 3</th>\n      <th>Roadside Member Cost for Year 1</th>\n      <th>Roadside Member Cost for Year 2</th>\n      <th>Roadside Member Cost for Year 3</th>\n      <th>Member Tenure Years</th>\n      <th>Months from Join to Cancel</th>\n      <th>Basic Cost</th>\n      <th>Calculated Tow Miles</th>\n      <th>Plus Cost</th>\n      <th>Premier Cost</th>\n      <th>Total Cost</th>\n      <th>Total Number of Roadside Calls</th>\n      <th>Total Roadside Member Cost</th>\n    </tr>\n    <tr>\n      <th>Household Key</th>\n      <th></th>\n      <th></th>\n      <th></th>\n      <th></th>\n      <th></th>\n      <th></th>\n      <th></th>\n      <th></th>\n      <th></th>\n      <th></th>\n      <th></th>\n      <th></th>\n      <th></th>\n      <th></th>\n      <th></th>\n      <th></th>\n    </tr>\n  </thead>\n  <tbody>\n    <tr>\n      <th>8750</th>\n      <td>90.558333</td>\n      <td>8</td>\n      <td>4</td>\n      <td>7</td>\n      <td>4623.928571</td>\n      <td>2522.142857</td>\n      <td>5472.0</td>\n      <td>289.444444</td>\n      <td>1577.5</td>\n      <td>1250.357143</td>\n      <td>80.142857</td>\n      <td>265.714286</td>\n      <td>0.0</td>\n      <td>1516.071429</td>\n      <td>19</td>\n      <td>12618.071429</td>\n    </tr>\n    <tr>\n      <th>9690</th>\n      <td>140.000000</td>\n      <td>0</td>\n      <td>7</td>\n      <td>15</td>\n      <td>0.000000</td>\n      <td>1470.833333</td>\n      <td>15059.5</td>\n      <td>353.333333</td>\n      <td>NaN</td>\n      <td>3072.500000</td>\n      <td>22.500000</td>\n      <td>127.500000</td>\n      <td>0.0</td>\n      <td>4347.500000</td>\n      <td>22</td>\n      <td>16530.333333</td>\n    </tr>\n  </tbody>\n</table>\n</div>"
     },
     "metadata": {},
     "execution_count": 82
    }
   ],
   "source": [
    "checkpoint_2[sequence[0]].head(n=2)"
   ]
  },
  {
   "cell_type": "markdown",
   "metadata": {},
   "source": [
    "        4.1.4 - Converting Months to Join to Cancel to Years left for subscription to end"
   ]
  },
  {
   "cell_type": "markdown",
   "metadata": {},
   "source": [
    "            4.1.4.1 - Renaming Column"
   ]
  },
  {
   "cell_type": "code",
   "execution_count": 83,
   "metadata": {},
   "outputs": [],
   "source": [
    "checkpoint_2[sequence[0]].rename(columns={'Months from Join to Cancel' : 'Years to Cancelled Status'}, inplace=True) # renaming the column"
   ]
  },
  {
   "cell_type": "markdown",
   "metadata": {},
   "source": [
    "            4.1.4.2 - Converting Months to Years"
   ]
  },
  {
   "cell_type": "code",
   "execution_count": 84,
   "metadata": {},
   "outputs": [
    {
     "output_type": "display_data",
     "data": {
      "text/plain": "HBox(children=(FloatProgress(value=0.0, description='Process Progress', max=4095.0, style=ProgressStyle(descri…",
      "application/vnd.jupyter.widget-view+json": {
       "version_major": 2,
       "version_minor": 0,
       "model_id": "68d3c7cfb42043b8a823e7496b684e2e"
      }
     },
     "metadata": {}
    },
    {
     "output_type": "stream",
     "name": "stdout",
     "text": "\n"
    }
   ],
   "source": [
    "for idx in tqdm_notebook(checkpoint_2[sequence[0]].index, desc='Process Progress'): # For each row\n",
    "    \n",
    "    if ~np.isnan(checkpoint_2[sequence[0]]['Years to Cancelled Status'][idx]): # if the given Household Key does not have a null value for the given column\n",
    "    \n",
    "        checkpoint_2[sequence[0]].at[idx, 'Years to Cancelled Status'] = round(checkpoint_2[sequence[0]]['Years to Cancelled Status'][idx]/12) # converting months to years"
   ]
  },
  {
   "cell_type": "markdown",
   "metadata": {},
   "source": [
    "            4.1.4.3 - Fill Null Values"
   ]
  },
  {
   "cell_type": "code",
   "execution_count": 85,
   "metadata": {},
   "outputs": [
    {
     "output_type": "display_data",
     "data": {
      "text/plain": "HBox(children=(FloatProgress(value=0.0, description='Process Progress', max=4095.0, style=ProgressStyle(descri…",
      "application/vnd.jupyter.widget-view+json": {
       "version_major": 2,
       "version_minor": 0,
       "model_id": "e7b5a0ca118e4603b9544f7496f1788b"
      }
     },
     "metadata": {}
    },
    {
     "output_type": "stream",
     "name": "stdout",
     "text": "\n"
    }
   ],
   "source": [
    "mean_year = round(checkpoint_2[sequence[0]]['Years to Cancelled Status'].values[~np.isnan(checkpoint_2[sequence[0]]['Years to Cancelled Status'].values)].mean()) # mean year to cancelled status for all Household Keys\n",
    "for idx in tqdm_notebook(checkpoint_2[sequence[0]].index, desc='Process Progress'): # For each row\n",
    "    \n",
    "        if np.isnan(checkpoint_2[sequence[0]]['Years to Cancelled Status'][idx]): # if the given Household Key does not have a null value for the given column\n",
    "\n",
    "            checkpoint_2[sequence[0]].at[idx, 'Years to Cancelled Status'] = mean_year # replacing null values \n",
    "            \n",
    "checkpoint_2[sequence[0]]['Years to Cancelled Status'] = checkpoint_2[sequence[0]]['Years to Cancelled Status'].astype(int) # converting to iterger type"
   ]
  },
  {
   "cell_type": "code",
   "execution_count": 86,
   "metadata": {},
   "outputs": [
    {
     "output_type": "execute_result",
     "data": {
      "text/plain": "               Length Of Residence  Number of Roadside calss for Year 1  \\\nHousehold Key                                                             \n8750                     90.558333                                    8   \n9690                    140.000000                                    0   \n\n               Number of Roadside calss for Year 2  \\\nHousehold Key                                        \n8750                                             4   \n9690                                             7   \n\n               Number of Roadside calss for Year 3  \\\nHousehold Key                                        \n8750                                             7   \n9690                                            15   \n\n               Roadside Member Cost for Year 1  \\\nHousehold Key                                    \n8750                               4623.928571   \n9690                                  0.000000   \n\n               Roadside Member Cost for Year 2  \\\nHousehold Key                                    \n8750                               2522.142857   \n9690                               1470.833333   \n\n               Roadside Member Cost for Year 3  Member Tenure Years  \\\nHousehold Key                                                         \n8750                                    5472.0           289.444444   \n9690                                   15059.5           353.333333   \n\n               Years to Cancelled Status   Basic Cost  Calculated Tow Miles  \\\nHousehold Key                                                                 \n8750                                 131  1250.357143             80.142857   \n9690                                 242  3072.500000             22.500000   \n\n                Plus Cost  Premier Cost   Total Cost  \\\nHousehold Key                                          \n8750           265.714286           0.0  1516.071429   \n9690           127.500000           0.0  4347.500000   \n\n               Total Number of Roadside Calls  Total Roadside Member Cost  \nHousehold Key                                                              \n8750                                       19                12618.071429  \n9690                                       22                16530.333333  ",
      "text/html": "<div>\n<style scoped>\n    .dataframe tbody tr th:only-of-type {\n        vertical-align: middle;\n    }\n\n    .dataframe tbody tr th {\n        vertical-align: top;\n    }\n\n    .dataframe thead th {\n        text-align: right;\n    }\n</style>\n<table border=\"1\" class=\"dataframe\">\n  <thead>\n    <tr style=\"text-align: right;\">\n      <th></th>\n      <th>Length Of Residence</th>\n      <th>Number of Roadside calss for Year 1</th>\n      <th>Number of Roadside calss for Year 2</th>\n      <th>Number of Roadside calss for Year 3</th>\n      <th>Roadside Member Cost for Year 1</th>\n      <th>Roadside Member Cost for Year 2</th>\n      <th>Roadside Member Cost for Year 3</th>\n      <th>Member Tenure Years</th>\n      <th>Years to Cancelled Status</th>\n      <th>Basic Cost</th>\n      <th>Calculated Tow Miles</th>\n      <th>Plus Cost</th>\n      <th>Premier Cost</th>\n      <th>Total Cost</th>\n      <th>Total Number of Roadside Calls</th>\n      <th>Total Roadside Member Cost</th>\n    </tr>\n    <tr>\n      <th>Household Key</th>\n      <th></th>\n      <th></th>\n      <th></th>\n      <th></th>\n      <th></th>\n      <th></th>\n      <th></th>\n      <th></th>\n      <th></th>\n      <th></th>\n      <th></th>\n      <th></th>\n      <th></th>\n      <th></th>\n      <th></th>\n      <th></th>\n    </tr>\n  </thead>\n  <tbody>\n    <tr>\n      <th>8750</th>\n      <td>90.558333</td>\n      <td>8</td>\n      <td>4</td>\n      <td>7</td>\n      <td>4623.928571</td>\n      <td>2522.142857</td>\n      <td>5472.0</td>\n      <td>289.444444</td>\n      <td>131</td>\n      <td>1250.357143</td>\n      <td>80.142857</td>\n      <td>265.714286</td>\n      <td>0.0</td>\n      <td>1516.071429</td>\n      <td>19</td>\n      <td>12618.071429</td>\n    </tr>\n    <tr>\n      <th>9690</th>\n      <td>140.000000</td>\n      <td>0</td>\n      <td>7</td>\n      <td>15</td>\n      <td>0.000000</td>\n      <td>1470.833333</td>\n      <td>15059.5</td>\n      <td>353.333333</td>\n      <td>242</td>\n      <td>3072.500000</td>\n      <td>22.500000</td>\n      <td>127.500000</td>\n      <td>0.0</td>\n      <td>4347.500000</td>\n      <td>22</td>\n      <td>16530.333333</td>\n    </tr>\n  </tbody>\n</table>\n</div>"
     },
     "metadata": {},
     "execution_count": 86
    }
   ],
   "source": [
    "checkpoint_2[sequence[0]].head(n=2)"
   ]
  },
  {
   "cell_type": "markdown",
   "metadata": {},
   "source": [
    "        4.1.5 - Converting Member Tenure Years to integer type"
   ]
  },
  {
   "cell_type": "code",
   "execution_count": 87,
   "metadata": {},
   "outputs": [
    {
     "output_type": "display_data",
     "data": {
      "text/plain": "HBox(children=(FloatProgress(value=0.0, description='Process Progress', max=4095.0, style=ProgressStyle(descri…",
      "application/vnd.jupyter.widget-view+json": {
       "version_major": 2,
       "version_minor": 0,
       "model_id": "3ae17cf6d0284c6b81cfd941509d9cd8"
      }
     },
     "metadata": {}
    },
    {
     "output_type": "stream",
     "name": "stdout",
     "text": "\n"
    }
   ],
   "source": [
    "for idx in tqdm_notebook(checkpoint_2[sequence[0]].index, desc='Process Progress'): # For each row\n",
    "    \n",
    "    checkpoint_2[sequence[0]].at[idx, 'Member Tenure Years'] = round(checkpoint_2[sequence[0]]['Member Tenure Years'][idx]) # rounding member tenure year\n",
    "\n",
    "checkpoint_2[sequence[0]]['Member Tenure Years'] = checkpoint_2[sequence[0]]['Member Tenure Years'].astype(int) # converting to iterger type"
   ]
  },
  {
   "cell_type": "code",
   "execution_count": 88,
   "metadata": {},
   "outputs": [
    {
     "output_type": "execute_result",
     "data": {
      "text/plain": "               Length Of Residence  Number of Roadside calss for Year 1  \\\nHousehold Key                                                             \n8750                     90.558333                                    8   \n9690                    140.000000                                    0   \n\n               Number of Roadside calss for Year 2  \\\nHousehold Key                                        \n8750                                             4   \n9690                                             7   \n\n               Number of Roadside calss for Year 3  \\\nHousehold Key                                        \n8750                                             7   \n9690                                            15   \n\n               Roadside Member Cost for Year 1  \\\nHousehold Key                                    \n8750                               4623.928571   \n9690                                  0.000000   \n\n               Roadside Member Cost for Year 2  \\\nHousehold Key                                    \n8750                               2522.142857   \n9690                               1470.833333   \n\n               Roadside Member Cost for Year 3  Member Tenure Years  \\\nHousehold Key                                                         \n8750                                    5472.0                  289   \n9690                                   15059.5                  353   \n\n               Years to Cancelled Status   Basic Cost  Calculated Tow Miles  \\\nHousehold Key                                                                 \n8750                                 131  1250.357143             80.142857   \n9690                                 242  3072.500000             22.500000   \n\n                Plus Cost  Premier Cost   Total Cost  \\\nHousehold Key                                          \n8750           265.714286           0.0  1516.071429   \n9690           127.500000           0.0  4347.500000   \n\n               Total Number of Roadside Calls  Total Roadside Member Cost  \nHousehold Key                                                              \n8750                                       19                12618.071429  \n9690                                       22                16530.333333  ",
      "text/html": "<div>\n<style scoped>\n    .dataframe tbody tr th:only-of-type {\n        vertical-align: middle;\n    }\n\n    .dataframe tbody tr th {\n        vertical-align: top;\n    }\n\n    .dataframe thead th {\n        text-align: right;\n    }\n</style>\n<table border=\"1\" class=\"dataframe\">\n  <thead>\n    <tr style=\"text-align: right;\">\n      <th></th>\n      <th>Length Of Residence</th>\n      <th>Number of Roadside calss for Year 1</th>\n      <th>Number of Roadside calss for Year 2</th>\n      <th>Number of Roadside calss for Year 3</th>\n      <th>Roadside Member Cost for Year 1</th>\n      <th>Roadside Member Cost for Year 2</th>\n      <th>Roadside Member Cost for Year 3</th>\n      <th>Member Tenure Years</th>\n      <th>Years to Cancelled Status</th>\n      <th>Basic Cost</th>\n      <th>Calculated Tow Miles</th>\n      <th>Plus Cost</th>\n      <th>Premier Cost</th>\n      <th>Total Cost</th>\n      <th>Total Number of Roadside Calls</th>\n      <th>Total Roadside Member Cost</th>\n    </tr>\n    <tr>\n      <th>Household Key</th>\n      <th></th>\n      <th></th>\n      <th></th>\n      <th></th>\n      <th></th>\n      <th></th>\n      <th></th>\n      <th></th>\n      <th></th>\n      <th></th>\n      <th></th>\n      <th></th>\n      <th></th>\n      <th></th>\n      <th></th>\n      <th></th>\n    </tr>\n  </thead>\n  <tbody>\n    <tr>\n      <th>8750</th>\n      <td>90.558333</td>\n      <td>8</td>\n      <td>4</td>\n      <td>7</td>\n      <td>4623.928571</td>\n      <td>2522.142857</td>\n      <td>5472.0</td>\n      <td>289</td>\n      <td>131</td>\n      <td>1250.357143</td>\n      <td>80.142857</td>\n      <td>265.714286</td>\n      <td>0.0</td>\n      <td>1516.071429</td>\n      <td>19</td>\n      <td>12618.071429</td>\n    </tr>\n    <tr>\n      <th>9690</th>\n      <td>140.000000</td>\n      <td>0</td>\n      <td>7</td>\n      <td>15</td>\n      <td>0.000000</td>\n      <td>1470.833333</td>\n      <td>15059.5</td>\n      <td>353</td>\n      <td>242</td>\n      <td>3072.500000</td>\n      <td>22.500000</td>\n      <td>127.500000</td>\n      <td>0.0</td>\n      <td>4347.500000</td>\n      <td>22</td>\n      <td>16530.333333</td>\n    </tr>\n  </tbody>\n</table>\n</div>"
     },
     "metadata": {},
     "execution_count": 88
    }
   ],
   "source": [
    "checkpoint_2[sequence[0]].head(n=2)"
   ]
  },
  {
   "cell_type": "markdown",
   "metadata": {},
   "source": [
    "        4.1.6 - Checking rest of the columns"
   ]
  },
  {
   "cell_type": "markdown",
   "metadata": {},
   "source": [
    "        4.1.6.1 - Dealing with the rest of the Null values"
   ]
  },
  {
   "cell_type": "code",
   "execution_count": 89,
   "metadata": {},
   "outputs": [
    {
     "output_type": "display_data",
     "data": {
      "text/plain": "HBox(children=(FloatProgress(value=0.0, description='Process Progress', max=5.0, style=ProgressStyle(descripti…",
      "application/vnd.jupyter.widget-view+json": {
       "version_major": 2,
       "version_minor": 0,
       "model_id": "685e831ae2fc45028a2c12c70420fbcb"
      }
     },
     "metadata": {}
    },
    {
     "output_type": "stream",
     "name": "stdout",
     "text": "\n"
    }
   ],
   "source": [
    "for c in tqdm_notebook(checkpoint_2[sequence[0]].isnull().sum().index[checkpoint_2[sequence[0]].isnull().sum() != 0].tolist(), desc='Process Progress'): # for each column where there are still null values to treat\n",
    "    for idx in checkpoint_2[sequence[0]].index: # For each Household ID \n",
    "\n",
    "        if np.isnan(checkpoint_1[sequence[0]][c][idx]): # we check if the previous checkpoint had this null value previously\n",
    "\n",
    "            checkpoint_2[sequence[0]].at[idx, c] = 0 # we replace it for zero because we need to assume that \n",
    "\n",
    "        else:\n",
    "\n",
    "            checkpoint_2[sequence[0]].at[idx, c] = checkpoint_1[sequence[0]][c][idx] # if it's not we replace with the previous value\n"
   ]
  },
  {
   "cell_type": "markdown",
   "metadata": {},
   "source": [
    "plt.figure(figsize=(10,5))\n",
    "\n",
    "sns.barplot(x=checkpoint_2[sequence[0]].isnull().sum().index, y=checkpoint_2[sequence[0]].isnull().sum())\n",
    "plt.xticks(rotation='90')\n",
    "plt.xlabel('Variables', fontsize=10)\n",
    "plt.ylabel('Percentage of missing values', fontsize=10)\n",
    "plt.title('Percentage of missing values for the' + ' ' + sequence[0] + ' ' + 'Dataframe', fontsize=15)"
   ]
  },
  {
   "cell_type": "markdown",
   "metadata": {},
   "source": [
    "        4.2 - Moving to Binary Numericals"
   ]
  },
  {
   "cell_type": "code",
   "execution_count": 90,
   "metadata": {},
   "outputs": [
    {
     "output_type": "execute_result",
     "data": {
      "text/plain": "               Email Available\nHousehold Key                 \n8750                  3.333333\n9690                  8.333333",
      "text/html": "<div>\n<style scoped>\n    .dataframe tbody tr th:only-of-type {\n        vertical-align: middle;\n    }\n\n    .dataframe tbody tr th {\n        vertical-align: top;\n    }\n\n    .dataframe thead th {\n        text-align: right;\n    }\n</style>\n<table border=\"1\" class=\"dataframe\">\n  <thead>\n    <tr style=\"text-align: right;\">\n      <th></th>\n      <th>Email Available</th>\n    </tr>\n    <tr>\n      <th>Household Key</th>\n      <th></th>\n    </tr>\n  </thead>\n  <tbody>\n    <tr>\n      <th>8750</th>\n      <td>3.333333</td>\n    </tr>\n    <tr>\n      <th>9690</th>\n      <td>8.333333</td>\n    </tr>\n  </tbody>\n</table>\n</div>"
     },
     "metadata": {},
     "execution_count": 90
    }
   ],
   "source": [
    "checkpoint_2[sequence[1]].head(n=2)"
   ]
  },
  {
   "cell_type": "markdown",
   "metadata": {},
   "source": [
    "                4.2.1 - Converting Email Available to Binary (1-0) numerical "
   ]
  },
  {
   "cell_type": "code",
   "execution_count": 91,
   "metadata": {},
   "outputs": [
    {
     "output_type": "display_data",
     "data": {
      "text/plain": "HBox(children=(FloatProgress(value=0.0, description='Process Progress', max=4095.0, style=ProgressStyle(descri…",
      "application/vnd.jupyter.widget-view+json": {
       "version_major": 2,
       "version_minor": 0,
       "model_id": "a940de45e9c0480daacea3416e818ecf"
      }
     },
     "metadata": {}
    },
    {
     "output_type": "stream",
     "name": "stdout",
     "text": "\n"
    }
   ],
   "source": [
    "for idx in tqdm_notebook(checkpoint_2[sequence[1]].index, desc='Process Progress'): # For each row\n",
    "    for c in checkpoint_2[sequence[1]].columns:\n",
    "        if checkpoint_2[sequence[1]][c][idx] != 0:\n",
    "            checkpoint_2[sequence[1]].at[idx, c] = 1.0\n",
    "            \n",
    "        else:\n",
    "            checkpoint_2[sequence[1]].at[idx, c] = 0.0\n",
    "            \n",
    "checkpoint_2[sequence[1]]['Email Available'] = checkpoint_2[sequence[1]]['Email Available'].astype(int) # converting to iterger type"
   ]
  },
  {
   "cell_type": "code",
   "execution_count": 92,
   "metadata": {},
   "outputs": [
    {
     "output_type": "execute_result",
     "data": {
      "text/plain": "               Email Available\nHousehold Key                 \n8750                         1\n9690                         1",
      "text/html": "<div>\n<style scoped>\n    .dataframe tbody tr th:only-of-type {\n        vertical-align: middle;\n    }\n\n    .dataframe tbody tr th {\n        vertical-align: top;\n    }\n\n    .dataframe thead th {\n        text-align: right;\n    }\n</style>\n<table border=\"1\" class=\"dataframe\">\n  <thead>\n    <tr style=\"text-align: right;\">\n      <th></th>\n      <th>Email Available</th>\n    </tr>\n    <tr>\n      <th>Household Key</th>\n      <th></th>\n    </tr>\n  </thead>\n  <tbody>\n    <tr>\n      <th>8750</th>\n      <td>1</td>\n    </tr>\n    <tr>\n      <th>9690</th>\n      <td>1</td>\n    </tr>\n  </tbody>\n</table>\n</div>"
     },
     "metadata": {},
     "execution_count": 92
    }
   ],
   "source": [
    "checkpoint_2[sequence[1]].head(n=2)"
   ]
  },
  {
   "cell_type": "markdown",
   "metadata": {},
   "source": [
    "            4.2.2 - Concatenating to Numericals "
   ]
  },
  {
   "cell_type": "code",
   "execution_count": 93,
   "metadata": {},
   "outputs": [],
   "source": [
    "checkpoint_2[sequence[0]]['Email Available'] = checkpoint_2[sequence[1]]['Email Available'].values # concatenate the Email Available column on the numerical column"
   ]
  },
  {
   "cell_type": "markdown",
   "metadata": {},
   "source": [
    "        4.3 - Moving to Dates"
   ]
  },
  {
   "cell_type": "code",
   "execution_count": 94,
   "metadata": {},
   "outputs": [
    {
     "output_type": "execute_result",
     "data": {
      "text/plain": "               Date Of Birth  Active Expiration Date  Join AAA Date\nHousehold Key                                                      \n8750                     NaN             2018.333333    1990.055556\n9690                  1943.5             2020.000000    1983.666667",
      "text/html": "<div>\n<style scoped>\n    .dataframe tbody tr th:only-of-type {\n        vertical-align: middle;\n    }\n\n    .dataframe tbody tr th {\n        vertical-align: top;\n    }\n\n    .dataframe thead th {\n        text-align: right;\n    }\n</style>\n<table border=\"1\" class=\"dataframe\">\n  <thead>\n    <tr style=\"text-align: right;\">\n      <th></th>\n      <th>Date Of Birth</th>\n      <th>Active Expiration Date</th>\n      <th>Join AAA Date</th>\n    </tr>\n    <tr>\n      <th>Household Key</th>\n      <th></th>\n      <th></th>\n      <th></th>\n    </tr>\n  </thead>\n  <tbody>\n    <tr>\n      <th>8750</th>\n      <td>NaN</td>\n      <td>2018.333333</td>\n      <td>1990.055556</td>\n    </tr>\n    <tr>\n      <th>9690</th>\n      <td>1943.5</td>\n      <td>2020.000000</td>\n      <td>1983.666667</td>\n    </tr>\n  </tbody>\n</table>\n</div>"
     },
     "metadata": {},
     "execution_count": 94
    }
   ],
   "source": [
    "checkpoint_2[sequence[2]].head(n=2)"
   ]
  },
  {
   "cell_type": "markdown",
   "metadata": {},
   "source": [
    "            4.3.1 - Checking Null values"
   ]
  },
  {
   "cell_type": "markdown",
   "metadata": {},
   "source": [
    "plt.figure(figsize=(10,5))\n",
    "\n",
    "sns.barplot(x=checkpoint_2[sequence[2]].isnull().sum().index, y=checkpoint_2[sequence[2]].isnull().sum())\n",
    "plt.xticks(rotation='90')\n",
    "plt.xlabel('Variables', fontsize=10)\n",
    "plt.ylabel('Percentage of missing values', fontsize=10)\n",
    "plt.title('Percentage of missing values for the' + ' ' + sequence[0] + ' ' + 'Dataframe', fontsize=15)"
   ]
  },
  {
   "cell_type": "markdown",
   "metadata": {},
   "source": [
    "            4.3.2 - Replacing Null Date of Births to mean of the dataframe "
   ]
  },
  {
   "cell_type": "code",
   "execution_count": 95,
   "metadata": {},
   "outputs": [
    {
     "output_type": "display_data",
     "data": {
      "text/plain": "HBox(children=(FloatProgress(value=0.0, description='Process Progress', max=4095.0, style=ProgressStyle(descri…",
      "application/vnd.jupyter.widget-view+json": {
       "version_major": 2,
       "version_minor": 0,
       "model_id": "e2dc755a20a741758b856c8d420c87d2"
      }
     },
     "metadata": {}
    },
    {
     "output_type": "stream",
     "name": "stdout",
     "text": "\n"
    }
   ],
   "source": [
    "mean_date_birth = round(checkpoint_2[sequence[2]]['Date Of Birth'].values[~np.isnan(checkpoint_2[sequence[2]]['Date Of Birth'].values)].mean()) # mean date of birth for all Household Keys\n",
    "\n",
    "for idx in tqdm_notebook(checkpoint_2[sequence[2]].index, desc='Process Progress'): # For each row\n",
    "    for c in checkpoint_2[sequence[2]].columns: # For all columns on the given dataframe\n",
    "    \n",
    "        if np.isnan(checkpoint_2[sequence[2]][c][idx]): # if the given Household Key has a null value for the given column\n",
    "\n",
    "            checkpoint_2[sequence[2]].at[idx, c] = mean_date_birth # replacing null values\n",
    "\n",
    "        else:\n",
    "\n",
    "            checkpoint_2[sequence[2]].at[idx, c] = round(checkpoint_2[sequence[2]][c][idx]) # rounding the year values"
   ]
  },
  {
   "cell_type": "markdown",
   "metadata": {},
   "source": [
    "            4.3.3 - Converting all columns to iterger and Years number"
   ]
  },
  {
   "cell_type": "code",
   "execution_count": 96,
   "metadata": {},
   "outputs": [
    {
     "output_type": "display_data",
     "data": {
      "text/plain": "HBox(children=(FloatProgress(value=0.0, description='Process Progress', max=4095.0, style=ProgressStyle(descri…",
      "application/vnd.jupyter.widget-view+json": {
       "version_major": 2,
       "version_minor": 0,
       "model_id": "a36239c771d24871a324c325a23d579d"
      }
     },
     "metadata": {}
    },
    {
     "output_type": "stream",
     "name": "stdout",
     "text": "\n"
    }
   ],
   "source": [
    "for idx in tqdm_notebook(checkpoint_2[sequence[2]].index, desc='Process Progress'): # For each row\n",
    "    for c in checkpoint_2[sequence[2]].columns: # For all columns on the given dataframe\n",
    "\n",
    "        checkpoint_2[sequence[2]].at[idx, c] = abs(2020 - checkpoint_2[sequence[2]][c][idx]) # replacing by the number of the year\n",
    "\n",
    "        checkpoint_2[sequence[2]][c] = checkpoint_2[sequence[2]][c].astype(int) # converting to iterger type"
   ]
  },
  {
   "cell_type": "markdown",
   "metadata": {},
   "source": [
    "            4.3.4 - Renaming columns for better identification"
   ]
  },
  {
   "cell_type": "code",
   "execution_count": 97,
   "metadata": {},
   "outputs": [],
   "source": [
    "checkpoint_2[sequence[2]].rename(columns={'Date Of Birth' : 'Age', 'Active Expiration Date': 'Years from most recent Membership Expiration', 'Join AAA Date': 'Years from Join Date'}, inplace=True) # renaming the column"
   ]
  },
  {
   "cell_type": "code",
   "execution_count": 98,
   "metadata": {},
   "outputs": [
    {
     "output_type": "execute_result",
     "data": {
      "text/plain": "               Age  Years from most recent Membership Expiration  \\\nHousehold Key                                                      \n8750            74                                             2   \n9690            76                                             0   \n33380           90                                            11   \n87180           68                                             3   \n115240          50                                             3   \n\n               Years from Join Date  \nHousehold Key                        \n8750                             30  \n9690                             36  \n33380                            38  \n87180                            11  \n115240                           37  ",
      "text/html": "<div>\n<style scoped>\n    .dataframe tbody tr th:only-of-type {\n        vertical-align: middle;\n    }\n\n    .dataframe tbody tr th {\n        vertical-align: top;\n    }\n\n    .dataframe thead th {\n        text-align: right;\n    }\n</style>\n<table border=\"1\" class=\"dataframe\">\n  <thead>\n    <tr style=\"text-align: right;\">\n      <th></th>\n      <th>Age</th>\n      <th>Years from most recent Membership Expiration</th>\n      <th>Years from Join Date</th>\n    </tr>\n    <tr>\n      <th>Household Key</th>\n      <th></th>\n      <th></th>\n      <th></th>\n    </tr>\n  </thead>\n  <tbody>\n    <tr>\n      <th>8750</th>\n      <td>74</td>\n      <td>2</td>\n      <td>30</td>\n    </tr>\n    <tr>\n      <th>9690</th>\n      <td>76</td>\n      <td>0</td>\n      <td>36</td>\n    </tr>\n    <tr>\n      <th>33380</th>\n      <td>90</td>\n      <td>11</td>\n      <td>38</td>\n    </tr>\n    <tr>\n      <th>87180</th>\n      <td>68</td>\n      <td>3</td>\n      <td>11</td>\n    </tr>\n    <tr>\n      <th>115240</th>\n      <td>50</td>\n      <td>3</td>\n      <td>37</td>\n    </tr>\n  </tbody>\n</table>\n</div>"
     },
     "metadata": {},
     "execution_count": 98
    }
   ],
   "source": [
    "checkpoint_2[sequence[2]].head()"
   ]
  },
  {
   "cell_type": "markdown",
   "metadata": {},
   "source": [
    "            4.3.5 - Appending new dataframe to numerical one"
   ]
  },
  {
   "cell_type": "code",
   "execution_count": 99,
   "metadata": {},
   "outputs": [],
   "source": [
    "for c in checkpoint_2[sequence[2]].columns: # For all columns on the given dataframe\n",
    "\n",
    "    checkpoint_2[sequence[0]][c] = checkpoint_2[sequence[2]][c].values # concatenate the columns on the numerical dataframe"
   ]
  },
  {
   "cell_type": "code",
   "execution_count": 100,
   "metadata": {},
   "outputs": [
    {
     "output_type": "execute_result",
     "data": {
      "text/plain": "               Length Of Residence  Number of Roadside calss for Year 1  \\\nHousehold Key                                                             \n8750                     90.558333                                    8   \n9690                    140.000000                                    0   \n33380                    50.000000                                    0   \n87180                   150.000000                                    0   \n115240                  121.000000                                    3   \n\n               Number of Roadside calss for Year 2  \\\nHousehold Key                                        \n8750                                             4   \n9690                                             7   \n33380                                            0   \n87180                                            0   \n115240                                          22   \n\n               Number of Roadside calss for Year 3  \\\nHousehold Key                                        \n8750                                             7   \n9690                                            15   \n33380                                            0   \n87180                                            0   \n115240                                          10   \n\n               Roadside Member Cost for Year 1  \\\nHousehold Key                                    \n8750                               4623.928571   \n9690                                  0.000000   \n33380                                 0.000000   \n87180                                 0.000000   \n115240                             1961.666667   \n\n               Roadside Member Cost for Year 2  \\\nHousehold Key                                    \n8750                               2522.142857   \n9690                               1470.833333   \n33380                                 0.000000   \n87180                                 0.000000   \n115240                            12205.833333   \n\n               Roadside Member Cost for Year 3  Member Tenure Years  \\\nHousehold Key                                                         \n8750                                    5472.0                  289   \n9690                                   15059.5                  353   \n33380                                      0.0                  373   \n87180                                      0.0                  100   \n115240                                   530.0                  363   \n\n               Years to Cancelled Status   Basic Cost  Calculated Tow Miles  \\\nHousehold Key                                                                 \n8750                                 131  1250.357143             80.142857   \n9690                                 242  3072.500000             22.500000   \n33380                                260     0.000000              0.000000   \n87180                                  2     0.000000              0.000000   \n115240                                93  5885.000000             12.000000   \n\n                Plus Cost  Premier Cost   Total Cost  \\\nHousehold Key                                          \n8750           265.714286           0.0  1516.071429   \n9690           127.500000           0.0  4347.500000   \n33380            0.000000           0.0     0.000000   \n87180            0.000000           0.0     0.000000   \n115240           0.000000           0.0  5885.000000   \n\n               Total Number of Roadside Calls  Total Roadside Member Cost  \\\nHousehold Key                                                               \n8750                                       19                12618.071429   \n9690                                       22                16530.333333   \n33380                                       0                    0.000000   \n87180                                       0                    0.000000   \n115240                                     35                14697.500000   \n\n               Email Available  Age  \\\nHousehold Key                         \n8750                         1   74   \n9690                         1   76   \n33380                        0   90   \n87180                        1   68   \n115240                       1   50   \n\n               Years from most recent Membership Expiration  \\\nHousehold Key                                                 \n8750                                                      2   \n9690                                                      0   \n33380                                                    11   \n87180                                                     3   \n115240                                                    3   \n\n               Years from Join Date  \nHousehold Key                        \n8750                             30  \n9690                             36  \n33380                            38  \n87180                            11  \n115240                           37  ",
      "text/html": "<div>\n<style scoped>\n    .dataframe tbody tr th:only-of-type {\n        vertical-align: middle;\n    }\n\n    .dataframe tbody tr th {\n        vertical-align: top;\n    }\n\n    .dataframe thead th {\n        text-align: right;\n    }\n</style>\n<table border=\"1\" class=\"dataframe\">\n  <thead>\n    <tr style=\"text-align: right;\">\n      <th></th>\n      <th>Length Of Residence</th>\n      <th>Number of Roadside calss for Year 1</th>\n      <th>Number of Roadside calss for Year 2</th>\n      <th>Number of Roadside calss for Year 3</th>\n      <th>Roadside Member Cost for Year 1</th>\n      <th>Roadside Member Cost for Year 2</th>\n      <th>Roadside Member Cost for Year 3</th>\n      <th>Member Tenure Years</th>\n      <th>Years to Cancelled Status</th>\n      <th>Basic Cost</th>\n      <th>Calculated Tow Miles</th>\n      <th>Plus Cost</th>\n      <th>Premier Cost</th>\n      <th>Total Cost</th>\n      <th>Total Number of Roadside Calls</th>\n      <th>Total Roadside Member Cost</th>\n      <th>Email Available</th>\n      <th>Age</th>\n      <th>Years from most recent Membership Expiration</th>\n      <th>Years from Join Date</th>\n    </tr>\n    <tr>\n      <th>Household Key</th>\n      <th></th>\n      <th></th>\n      <th></th>\n      <th></th>\n      <th></th>\n      <th></th>\n      <th></th>\n      <th></th>\n      <th></th>\n      <th></th>\n      <th></th>\n      <th></th>\n      <th></th>\n      <th></th>\n      <th></th>\n      <th></th>\n      <th></th>\n      <th></th>\n      <th></th>\n      <th></th>\n    </tr>\n  </thead>\n  <tbody>\n    <tr>\n      <th>8750</th>\n      <td>90.558333</td>\n      <td>8</td>\n      <td>4</td>\n      <td>7</td>\n      <td>4623.928571</td>\n      <td>2522.142857</td>\n      <td>5472.0</td>\n      <td>289</td>\n      <td>131</td>\n      <td>1250.357143</td>\n      <td>80.142857</td>\n      <td>265.714286</td>\n      <td>0.0</td>\n      <td>1516.071429</td>\n      <td>19</td>\n      <td>12618.071429</td>\n      <td>1</td>\n      <td>74</td>\n      <td>2</td>\n      <td>30</td>\n    </tr>\n    <tr>\n      <th>9690</th>\n      <td>140.000000</td>\n      <td>0</td>\n      <td>7</td>\n      <td>15</td>\n      <td>0.000000</td>\n      <td>1470.833333</td>\n      <td>15059.5</td>\n      <td>353</td>\n      <td>242</td>\n      <td>3072.500000</td>\n      <td>22.500000</td>\n      <td>127.500000</td>\n      <td>0.0</td>\n      <td>4347.500000</td>\n      <td>22</td>\n      <td>16530.333333</td>\n      <td>1</td>\n      <td>76</td>\n      <td>0</td>\n      <td>36</td>\n    </tr>\n    <tr>\n      <th>33380</th>\n      <td>50.000000</td>\n      <td>0</td>\n      <td>0</td>\n      <td>0</td>\n      <td>0.000000</td>\n      <td>0.000000</td>\n      <td>0.0</td>\n      <td>373</td>\n      <td>260</td>\n      <td>0.000000</td>\n      <td>0.000000</td>\n      <td>0.000000</td>\n      <td>0.0</td>\n      <td>0.000000</td>\n      <td>0</td>\n      <td>0.000000</td>\n      <td>0</td>\n      <td>90</td>\n      <td>11</td>\n      <td>38</td>\n    </tr>\n    <tr>\n      <th>87180</th>\n      <td>150.000000</td>\n      <td>0</td>\n      <td>0</td>\n      <td>0</td>\n      <td>0.000000</td>\n      <td>0.000000</td>\n      <td>0.0</td>\n      <td>100</td>\n      <td>2</td>\n      <td>0.000000</td>\n      <td>0.000000</td>\n      <td>0.000000</td>\n      <td>0.0</td>\n      <td>0.000000</td>\n      <td>0</td>\n      <td>0.000000</td>\n      <td>1</td>\n      <td>68</td>\n      <td>3</td>\n      <td>11</td>\n    </tr>\n    <tr>\n      <th>115240</th>\n      <td>121.000000</td>\n      <td>3</td>\n      <td>22</td>\n      <td>10</td>\n      <td>1961.666667</td>\n      <td>12205.833333</td>\n      <td>530.0</td>\n      <td>363</td>\n      <td>93</td>\n      <td>5885.000000</td>\n      <td>12.000000</td>\n      <td>0.000000</td>\n      <td>0.0</td>\n      <td>5885.000000</td>\n      <td>35</td>\n      <td>14697.500000</td>\n      <td>1</td>\n      <td>50</td>\n      <td>3</td>\n      <td>37</td>\n    </tr>\n  </tbody>\n</table>\n</div>"
     },
     "metadata": {},
     "execution_count": 100
    }
   ],
   "source": [
    "checkpoint_2[sequence[0]].head()"
   ]
  },
  {
   "cell_type": "markdown",
   "metadata": {},
   "source": [
    "        4.4 - Moving to Binary Categoricals"
   ]
  },
  {
   "cell_type": "code",
   "execution_count": 101,
   "metadata": {},
   "outputs": [
    {
     "output_type": "execute_result",
     "data": {
      "text/plain": "          Purchased Product 1 Purchased Product 2 Purchased Product 3  \\\n45007910                    N                   Y                   N   \n116229910                   N                   N                   N   \n5798100                     N                   N                   N   \n71870170                    N                   N                   N   \n77280880                    N                   N                   N   \n\n          Purchased Product 4 Purchased Product 5 Purchased Product 6  \\\n45007910                    N                   N                   N   \n116229910                   N                   N                   N   \n5798100                     N                   N                   N   \n71870170                    N                   N                   N   \n77280880                    N                   N                   N   \n\n          Purchased Product 7 Purchased Product 8 Mail Responder  Home Owner  \\\n45007910                    N                   N            Yes  Home Owner   \n116229910                   N                   N            Yes  Home Owner   \n5798100                     Y                   N            Yes  Home Owner   \n71870170                    N                   N            Yes  Home Owner   \n77280880                    N                   N            Yes  Home Owner   \n\n          Opt-Out - Publication Cash Call Fleet Indicator  \n45007910                 Opt-In         N               N  \n116229910                Opt-In         N               Y  \n5798100                  Opt-In         N               N  \n71870170                 Opt-In         N               Y  \n77280880                 Opt-In         N               Y  ",
      "text/html": "<div>\n<style scoped>\n    .dataframe tbody tr th:only-of-type {\n        vertical-align: middle;\n    }\n\n    .dataframe tbody tr th {\n        vertical-align: top;\n    }\n\n    .dataframe thead th {\n        text-align: right;\n    }\n</style>\n<table border=\"1\" class=\"dataframe\">\n  <thead>\n    <tr style=\"text-align: right;\">\n      <th></th>\n      <th>Purchased Product 1</th>\n      <th>Purchased Product 2</th>\n      <th>Purchased Product 3</th>\n      <th>Purchased Product 4</th>\n      <th>Purchased Product 5</th>\n      <th>Purchased Product 6</th>\n      <th>Purchased Product 7</th>\n      <th>Purchased Product 8</th>\n      <th>Mail Responder</th>\n      <th>Home Owner</th>\n      <th>Opt-Out - Publication</th>\n      <th>Cash Call</th>\n      <th>Fleet Indicator</th>\n    </tr>\n  </thead>\n  <tbody>\n    <tr>\n      <th>45007910</th>\n      <td>N</td>\n      <td>Y</td>\n      <td>N</td>\n      <td>N</td>\n      <td>N</td>\n      <td>N</td>\n      <td>N</td>\n      <td>N</td>\n      <td>Yes</td>\n      <td>Home Owner</td>\n      <td>Opt-In</td>\n      <td>N</td>\n      <td>N</td>\n    </tr>\n    <tr>\n      <th>116229910</th>\n      <td>N</td>\n      <td>N</td>\n      <td>N</td>\n      <td>N</td>\n      <td>N</td>\n      <td>N</td>\n      <td>N</td>\n      <td>N</td>\n      <td>Yes</td>\n      <td>Home Owner</td>\n      <td>Opt-In</td>\n      <td>N</td>\n      <td>Y</td>\n    </tr>\n    <tr>\n      <th>5798100</th>\n      <td>N</td>\n      <td>N</td>\n      <td>N</td>\n      <td>N</td>\n      <td>N</td>\n      <td>N</td>\n      <td>Y</td>\n      <td>N</td>\n      <td>Yes</td>\n      <td>Home Owner</td>\n      <td>Opt-In</td>\n      <td>N</td>\n      <td>N</td>\n    </tr>\n    <tr>\n      <th>71870170</th>\n      <td>N</td>\n      <td>N</td>\n      <td>N</td>\n      <td>N</td>\n      <td>N</td>\n      <td>N</td>\n      <td>N</td>\n      <td>N</td>\n      <td>Yes</td>\n      <td>Home Owner</td>\n      <td>Opt-In</td>\n      <td>N</td>\n      <td>Y</td>\n    </tr>\n    <tr>\n      <th>77280880</th>\n      <td>N</td>\n      <td>N</td>\n      <td>N</td>\n      <td>N</td>\n      <td>N</td>\n      <td>N</td>\n      <td>N</td>\n      <td>N</td>\n      <td>Yes</td>\n      <td>Home Owner</td>\n      <td>Opt-In</td>\n      <td>N</td>\n      <td>Y</td>\n    </tr>\n  </tbody>\n</table>\n</div>"
     },
     "metadata": {},
     "execution_count": 101
    }
   ],
   "source": [
    "checkpoint_2[sequence[3]].head()"
   ]
  },
  {
   "cell_type": "markdown",
   "metadata": {},
   "source": [
    "                4.4.1 - Checking Null values"
   ]
  },
  {
   "cell_type": "markdown",
   "metadata": {},
   "source": [
    "plt.figure(figsize=(10,5))\n",
    "\n",
    "sns.barplot(x=checkpoint_2[sequence[3]].isnull().sum().index, y=checkpoint_2[sequence[3]].isnull().sum())\n",
    "plt.xticks(rotation='90')\n",
    "plt.xlabel('Variables', fontsize=10)\n",
    "plt.ylabel('Percentage of missing values', fontsize=10)\n",
    "plt.title('Percentage of missing values for the' + ' ' + sequence[3] + ' ' + 'Dataframe', fontsize=15)"
   ]
  },
  {
   "cell_type": "markdown",
   "metadata": {},
   "source": [
    "            4.4.2 - Product Columns and creating column of total purchased itens"
   ]
  },
  {
   "cell_type": "code",
   "execution_count": 102,
   "metadata": {},
   "outputs": [],
   "source": [
    "prod_cols = ['Purchased Product 1',\t'Purchased Product 2',\t'Purchased Product 3',\t'Purchased Product 4',\t'Purchased Product 5',\t'Purchased Product 6',\t'Purchased Product 7',\t'Purchased Product 8'] # column IDs\n",
    "\n",
    "checkpoint_2[sequence[3]]['Total Number of Purchased Products'] = 0 # total number of purchased products columns\n",
    "\n",
    "checkpoint_2[sequence[3]]['Household Purchased Product'] = 0 # flag whether the given Household Key has bought a product on the last 3 years"
   ]
  },
  {
   "cell_type": "markdown",
   "metadata": {},
   "source": [
    "            4.4.3 - Mail Option Information"
   ]
  },
  {
   "cell_type": "code",
   "execution_count": 103,
   "metadata": {},
   "outputs": [],
   "source": [
    "mail_var = ['Mail Responder', 'Opt-Out - Publication'] # mail columns\n",
    "\n",
    "checkpoint_2[sequence[3]]['Email Correspondent'] = 0 # new mail information column"
   ]
  },
  {
   "cell_type": "markdown",
   "metadata": {},
   "source": [
    "        4.4.4 - Creating Columns for Home information"
   ]
  },
  {
   "cell_type": "code",
   "execution_count": 104,
   "metadata": {},
   "outputs": [],
   "source": [
    "checkpoint_2[sequence[3]]['Home Renter'] = 0 # Household rents a home\n",
    "\n",
    "checkpoint_2[sequence[3]]['No Home Ownership Info'] = 0 # no info about it"
   ]
  },
  {
   "cell_type": "markdown",
   "metadata": {},
   "source": [
    "        4.4.5 - Converting categoricals to numericals"
   ]
  },
  {
   "cell_type": "code",
   "execution_count": 105,
   "metadata": {},
   "outputs": [
    {
     "output_type": "display_data",
     "data": {
      "text/plain": "HBox(children=(FloatProgress(value=0.0, description='Process Progress', max=4095.0, style=ProgressStyle(descri…",
      "application/vnd.jupyter.widget-view+json": {
       "version_major": 2,
       "version_minor": 0,
       "model_id": "c7329afca640499198edc7fb9b7446fa"
      }
     },
     "metadata": {}
    },
    {
     "output_type": "stream",
     "name": "stdout",
     "text": "\n"
    }
   ],
   "source": [
    "for idx in tqdm_notebook(checkpoint_2[sequence[3]].index, desc='Process Progress'): # For each row\n",
    "    for c in checkpoint_2[sequence[3]].columns: # For all columns on the given dataframe\n",
    "\n",
    "        possible_values = list(Counter(checkpoint_2[sequence[3]][c].values).keys()) # list of possible values for the given column\n",
    "\n",
    "        if ('N' in possible_values) or ('Y' in possible_values) or ('NY' in possible_values): # if any possible 'Y', 'N', or 'NY' (sum of both possible mode answers) is on the given column\n",
    "\n",
    "            if (checkpoint_2[sequence[3]][c][idx] == 'N'): # if the given Household Key has a null value or 'N' for the given column\n",
    "\n",
    "                checkpoint_2[sequence[3]].at[idx, c] = 0 # we replace it by zero\n",
    "\n",
    "            else:\n",
    "\n",
    "                checkpoint_2[sequence[3]].at[idx, c] = 1 # we replace it by zero\n",
    "\n",
    "        elif ('Yes' in possible_values) or ('No' in possible_values) or ('NoYes' in possible_values) or ('Opt-In' in possible_values) or ('Opt-Out' in possible_values): # if any possible 'Yes', 'No', 'NoYes', 'Opt-In', or 'Opt-Out' is on the given column --> in this case we have entered in the Mail Responder column or Opt-Out - Publication\n",
    "\n",
    "            if (checkpoint_2[sequence[3]][c][idx] == 'Yes') or (checkpoint_2[sequence[3]][c][idx] == 'NoYes') or (checkpoint_2[sequence[3]][c][idx] == 'Opt-In'):\n",
    "\n",
    "                checkpoint_2[sequence[3]].at[idx, c] = 1\n",
    "\n",
    "                checkpoint_2[sequence[3]].at[idx, 'Email Correspondent'] = 1\n",
    "\n",
    "            else:\n",
    "\n",
    "                if pd.isnull(checkpoint_2[sequence[3]][c][idx]): # if the given Household Key has a null value for the Mail Responder column\n",
    "\n",
    "                    checkpoint_2[sequence[3]].at[idx, c] = checkpoint_2[sequence[0]]['Email Available'][idx] # we resort to the Email Available column to predict the null value for the given Household Key\n",
    "\n",
    "                else:\n",
    "                    \n",
    "                    checkpoint_2[sequence[3]].at[idx, c] = 0\n",
    "\n",
    "        elif ('Home Owner' in possible_values) or ('Probable Home Owner' in possible_values) or ('Probable Renter' in possible_values) or ('Renter' in possible_values): # if any possible 'Home Owner', 'Probable Home Owner', 'Probable Renter', or 'Renter' (sum of both possible mode answers) is on the given column --> in this case we have entered in the Mail Responder column\n",
    "\n",
    "            if (checkpoint_2[sequence[3]][c][idx] == 'Home Owner') or (checkpoint_2[sequence[3]][c][idx] == 'Probable Home Owner'):\n",
    "\n",
    "                checkpoint_2[sequence[3]].at[idx, c] = 1\n",
    "\n",
    "            else:\n",
    "\n",
    "                if pd.isnull(checkpoint_2[sequence[3]][c][idx]): # if the given Household Key has a null value for the Mail Responder column\n",
    "\n",
    "                    checkpoint_2[sequence[3]].at[idx, 'No Home Ownership Info'] = 1\n",
    "\n",
    "                    checkpoint_2[sequence[3]].at[idx, c] = 0\n",
    "\n",
    "                else:\n",
    "                    \n",
    "                    checkpoint_2[sequence[3]].at[idx, c] = 0\n",
    "\n",
    "                    checkpoint_2[sequence[3]].at[idx, 'Home Renter'] = 1"
   ]
  },
  {
   "cell_type": "code",
   "execution_count": 106,
   "metadata": {},
   "outputs": [],
   "source": [
    "for c in checkpoint_2[sequence[3]].columns: # For all columns on the given dataframe\n",
    "\n",
    "    checkpoint_2[sequence[3]][c] = checkpoint_2[sequence[3]][c].astype(int) # converting to iterger type"
   ]
  },
  {
   "cell_type": "markdown",
   "metadata": {},
   "source": [
    "        4.4.6 - Filling Total Number of Purchased Products"
   ]
  },
  {
   "cell_type": "code",
   "execution_count": 107,
   "metadata": {},
   "outputs": [
    {
     "output_type": "display_data",
     "data": {
      "text/plain": "HBox(children=(FloatProgress(value=0.0, description='Process Progress', max=4095.0, style=ProgressStyle(descri…",
      "application/vnd.jupyter.widget-view+json": {
       "version_major": 2,
       "version_minor": 0,
       "model_id": "510cbe48a9b647419ccb2957d8f4d934"
      }
     },
     "metadata": {}
    },
    {
     "output_type": "stream",
     "name": "stdout",
     "text": "\n"
    }
   ],
   "source": [
    "new_values = []\n",
    "\n",
    "for idx in tqdm_notebook(checkpoint_2[sequence[3]].index, desc='Process Progress'): # For each row\n",
    "    \n",
    "    total_amount = 0 # total amount of products bought in each row\n",
    "\n",
    "    for c in prod_cols: # In each Purchased Product Column\n",
    "\n",
    "        if checkpoint_2[sequence[3]][c][idx] == 1:\n",
    "\n",
    "            checkpoint_2[sequence[3]].at[idx, 'Household Purchased Product'] = 1\n",
    "\n",
    "            total_amount = total_amount + 1\n",
    "\n",
    "    new_values.append(total_amount)\n",
    "\n",
    "checkpoint_2[sequence[3]]['Total Number of Purchased Products'] = new_values"
   ]
  },
  {
   "cell_type": "markdown",
   "metadata": {},
   "source": [
    "        4.4.7 - Appending columns to numerical one"
   ]
  },
  {
   "cell_type": "code",
   "execution_count": 108,
   "metadata": {},
   "outputs": [],
   "source": [
    "for c in checkpoint_2[sequence[3]].columns: # For all columns on the given dataframe\n",
    "\n",
    "    checkpoint_2[sequence[0]][c] = checkpoint_2[sequence[3]][c].values # concatenate the columns on the numerical dataframe"
   ]
  },
  {
   "cell_type": "code",
   "execution_count": 109,
   "metadata": {},
   "outputs": [
    {
     "output_type": "execute_result",
     "data": {
      "text/plain": "               Length Of Residence  Number of Roadside calss for Year 1  \\\nHousehold Key                                                             \n8750                     90.558333                                    8   \n9690                    140.000000                                    0   \n33380                    50.000000                                    0   \n87180                   150.000000                                    0   \n115240                  121.000000                                    3   \n\n               Number of Roadside calss for Year 2  \\\nHousehold Key                                        \n8750                                             4   \n9690                                             7   \n33380                                            0   \n87180                                            0   \n115240                                          22   \n\n               Number of Roadside calss for Year 3  \\\nHousehold Key                                        \n8750                                             7   \n9690                                            15   \n33380                                            0   \n87180                                            0   \n115240                                          10   \n\n               Roadside Member Cost for Year 1  \\\nHousehold Key                                    \n8750                               4623.928571   \n9690                                  0.000000   \n33380                                 0.000000   \n87180                                 0.000000   \n115240                             1961.666667   \n\n               Roadside Member Cost for Year 2  \\\nHousehold Key                                    \n8750                               2522.142857   \n9690                               1470.833333   \n33380                                 0.000000   \n87180                                 0.000000   \n115240                            12205.833333   \n\n               Roadside Member Cost for Year 3  Member Tenure Years  \\\nHousehold Key                                                         \n8750                                    5472.0                  289   \n9690                                   15059.5                  353   \n33380                                      0.0                  373   \n87180                                      0.0                  100   \n115240                                   530.0                  363   \n\n               Years to Cancelled Status   Basic Cost  Calculated Tow Miles  \\\nHousehold Key                                                                 \n8750                                 131  1250.357143             80.142857   \n9690                                 242  3072.500000             22.500000   \n33380                                260     0.000000              0.000000   \n87180                                  2     0.000000              0.000000   \n115240                                93  5885.000000             12.000000   \n\n                Plus Cost  Premier Cost   Total Cost  \\\nHousehold Key                                          \n8750           265.714286           0.0  1516.071429   \n9690           127.500000           0.0  4347.500000   \n33380            0.000000           0.0     0.000000   \n87180            0.000000           0.0     0.000000   \n115240           0.000000           0.0  5885.000000   \n\n               Total Number of Roadside Calls  Total Roadside Member Cost  \\\nHousehold Key                                                               \n8750                                       19                12618.071429   \n9690                                       22                16530.333333   \n33380                                       0                    0.000000   \n87180                                       0                    0.000000   \n115240                                     35                14697.500000   \n\n               Email Available  Age  \\\nHousehold Key                         \n8750                         1   74   \n9690                         1   76   \n33380                        0   90   \n87180                        1   68   \n115240                       1   50   \n\n               Years from most recent Membership Expiration  \\\nHousehold Key                                                 \n8750                                                      2   \n9690                                                      0   \n33380                                                    11   \n87180                                                     3   \n115240                                                    3   \n\n               Years from Join Date  Purchased Product 1  Purchased Product 2  \\\nHousehold Key                                                                   \n8750                             30                    0                    1   \n9690                             36                    0                    0   \n33380                            38                    0                    0   \n87180                            11                    0                    0   \n115240                           37                    0                    0   \n\n               Purchased Product 3  Purchased Product 4  Purchased Product 5  \\\nHousehold Key                                                                  \n8750                             0                    0                    0   \n9690                             0                    0                    0   \n33380                            0                    0                    0   \n87180                            0                    0                    0   \n115240                           0                    0                    0   \n\n               Purchased Product 6  Purchased Product 7  Purchased Product 8  \\\nHousehold Key                                                                  \n8750                             0                    0                    0   \n9690                             0                    0                    0   \n33380                            0                    1                    0   \n87180                            0                    0                    0   \n115240                           0                    0                    0   \n\n               Mail Responder  Home Owner  Opt-Out - Publication  Cash Call  \\\nHousehold Key                                                                 \n8750                        1           1                      1          0   \n9690                        1           1                      1          0   \n33380                       1           1                      1          0   \n87180                       1           1                      1          0   \n115240                      1           1                      1          0   \n\n               Fleet Indicator  Total Number of Purchased Products  \\\nHousehold Key                                                        \n8750                         0                                   1   \n9690                         1                                   0   \n33380                        0                                   1   \n87180                        1                                   0   \n115240                       1                                   0   \n\n               Household Purchased Product  Email Correspondent  Home Renter  \\\nHousehold Key                                                                  \n8750                                     1                    1            0   \n9690                                     0                    1            0   \n33380                                    1                    1            0   \n87180                                    0                    1            0   \n115240                                   0                    1            0   \n\n               No Home Ownership Info  \nHousehold Key                          \n8750                                0  \n9690                                0  \n33380                               0  \n87180                               0  \n115240                              0  ",
      "text/html": "<div>\n<style scoped>\n    .dataframe tbody tr th:only-of-type {\n        vertical-align: middle;\n    }\n\n    .dataframe tbody tr th {\n        vertical-align: top;\n    }\n\n    .dataframe thead th {\n        text-align: right;\n    }\n</style>\n<table border=\"1\" class=\"dataframe\">\n  <thead>\n    <tr style=\"text-align: right;\">\n      <th></th>\n      <th>Length Of Residence</th>\n      <th>Number of Roadside calss for Year 1</th>\n      <th>Number of Roadside calss for Year 2</th>\n      <th>Number of Roadside calss for Year 3</th>\n      <th>Roadside Member Cost for Year 1</th>\n      <th>Roadside Member Cost for Year 2</th>\n      <th>Roadside Member Cost for Year 3</th>\n      <th>Member Tenure Years</th>\n      <th>Years to Cancelled Status</th>\n      <th>Basic Cost</th>\n      <th>Calculated Tow Miles</th>\n      <th>Plus Cost</th>\n      <th>Premier Cost</th>\n      <th>Total Cost</th>\n      <th>Total Number of Roadside Calls</th>\n      <th>Total Roadside Member Cost</th>\n      <th>Email Available</th>\n      <th>Age</th>\n      <th>Years from most recent Membership Expiration</th>\n      <th>Years from Join Date</th>\n      <th>Purchased Product 1</th>\n      <th>Purchased Product 2</th>\n      <th>Purchased Product 3</th>\n      <th>Purchased Product 4</th>\n      <th>Purchased Product 5</th>\n      <th>Purchased Product 6</th>\n      <th>Purchased Product 7</th>\n      <th>Purchased Product 8</th>\n      <th>Mail Responder</th>\n      <th>Home Owner</th>\n      <th>Opt-Out - Publication</th>\n      <th>Cash Call</th>\n      <th>Fleet Indicator</th>\n      <th>Total Number of Purchased Products</th>\n      <th>Household Purchased Product</th>\n      <th>Email Correspondent</th>\n      <th>Home Renter</th>\n      <th>No Home Ownership Info</th>\n    </tr>\n    <tr>\n      <th>Household Key</th>\n      <th></th>\n      <th></th>\n      <th></th>\n      <th></th>\n      <th></th>\n      <th></th>\n      <th></th>\n      <th></th>\n      <th></th>\n      <th></th>\n      <th></th>\n      <th></th>\n      <th></th>\n      <th></th>\n      <th></th>\n      <th></th>\n      <th></th>\n      <th></th>\n      <th></th>\n      <th></th>\n      <th></th>\n      <th></th>\n      <th></th>\n      <th></th>\n      <th></th>\n      <th></th>\n      <th></th>\n      <th></th>\n      <th></th>\n      <th></th>\n      <th></th>\n      <th></th>\n      <th></th>\n      <th></th>\n      <th></th>\n      <th></th>\n      <th></th>\n      <th></th>\n    </tr>\n  </thead>\n  <tbody>\n    <tr>\n      <th>8750</th>\n      <td>90.558333</td>\n      <td>8</td>\n      <td>4</td>\n      <td>7</td>\n      <td>4623.928571</td>\n      <td>2522.142857</td>\n      <td>5472.0</td>\n      <td>289</td>\n      <td>131</td>\n      <td>1250.357143</td>\n      <td>80.142857</td>\n      <td>265.714286</td>\n      <td>0.0</td>\n      <td>1516.071429</td>\n      <td>19</td>\n      <td>12618.071429</td>\n      <td>1</td>\n      <td>74</td>\n      <td>2</td>\n      <td>30</td>\n      <td>0</td>\n      <td>1</td>\n      <td>0</td>\n      <td>0</td>\n      <td>0</td>\n      <td>0</td>\n      <td>0</td>\n      <td>0</td>\n      <td>1</td>\n      <td>1</td>\n      <td>1</td>\n      <td>0</td>\n      <td>0</td>\n      <td>1</td>\n      <td>1</td>\n      <td>1</td>\n      <td>0</td>\n      <td>0</td>\n    </tr>\n    <tr>\n      <th>9690</th>\n      <td>140.000000</td>\n      <td>0</td>\n      <td>7</td>\n      <td>15</td>\n      <td>0.000000</td>\n      <td>1470.833333</td>\n      <td>15059.5</td>\n      <td>353</td>\n      <td>242</td>\n      <td>3072.500000</td>\n      <td>22.500000</td>\n      <td>127.500000</td>\n      <td>0.0</td>\n      <td>4347.500000</td>\n      <td>22</td>\n      <td>16530.333333</td>\n      <td>1</td>\n      <td>76</td>\n      <td>0</td>\n      <td>36</td>\n      <td>0</td>\n      <td>0</td>\n      <td>0</td>\n      <td>0</td>\n      <td>0</td>\n      <td>0</td>\n      <td>0</td>\n      <td>0</td>\n      <td>1</td>\n      <td>1</td>\n      <td>1</td>\n      <td>0</td>\n      <td>1</td>\n      <td>0</td>\n      <td>0</td>\n      <td>1</td>\n      <td>0</td>\n      <td>0</td>\n    </tr>\n    <tr>\n      <th>33380</th>\n      <td>50.000000</td>\n      <td>0</td>\n      <td>0</td>\n      <td>0</td>\n      <td>0.000000</td>\n      <td>0.000000</td>\n      <td>0.0</td>\n      <td>373</td>\n      <td>260</td>\n      <td>0.000000</td>\n      <td>0.000000</td>\n      <td>0.000000</td>\n      <td>0.0</td>\n      <td>0.000000</td>\n      <td>0</td>\n      <td>0.000000</td>\n      <td>0</td>\n      <td>90</td>\n      <td>11</td>\n      <td>38</td>\n      <td>0</td>\n      <td>0</td>\n      <td>0</td>\n      <td>0</td>\n      <td>0</td>\n      <td>0</td>\n      <td>1</td>\n      <td>0</td>\n      <td>1</td>\n      <td>1</td>\n      <td>1</td>\n      <td>0</td>\n      <td>0</td>\n      <td>1</td>\n      <td>1</td>\n      <td>1</td>\n      <td>0</td>\n      <td>0</td>\n    </tr>\n    <tr>\n      <th>87180</th>\n      <td>150.000000</td>\n      <td>0</td>\n      <td>0</td>\n      <td>0</td>\n      <td>0.000000</td>\n      <td>0.000000</td>\n      <td>0.0</td>\n      <td>100</td>\n      <td>2</td>\n      <td>0.000000</td>\n      <td>0.000000</td>\n      <td>0.000000</td>\n      <td>0.0</td>\n      <td>0.000000</td>\n      <td>0</td>\n      <td>0.000000</td>\n      <td>1</td>\n      <td>68</td>\n      <td>3</td>\n      <td>11</td>\n      <td>0</td>\n      <td>0</td>\n      <td>0</td>\n      <td>0</td>\n      <td>0</td>\n      <td>0</td>\n      <td>0</td>\n      <td>0</td>\n      <td>1</td>\n      <td>1</td>\n      <td>1</td>\n      <td>0</td>\n      <td>1</td>\n      <td>0</td>\n      <td>0</td>\n      <td>1</td>\n      <td>0</td>\n      <td>0</td>\n    </tr>\n    <tr>\n      <th>115240</th>\n      <td>121.000000</td>\n      <td>3</td>\n      <td>22</td>\n      <td>10</td>\n      <td>1961.666667</td>\n      <td>12205.833333</td>\n      <td>530.0</td>\n      <td>363</td>\n      <td>93</td>\n      <td>5885.000000</td>\n      <td>12.000000</td>\n      <td>0.000000</td>\n      <td>0.0</td>\n      <td>5885.000000</td>\n      <td>35</td>\n      <td>14697.500000</td>\n      <td>1</td>\n      <td>50</td>\n      <td>3</td>\n      <td>37</td>\n      <td>0</td>\n      <td>0</td>\n      <td>0</td>\n      <td>0</td>\n      <td>0</td>\n      <td>0</td>\n      <td>0</td>\n      <td>0</td>\n      <td>1</td>\n      <td>1</td>\n      <td>1</td>\n      <td>0</td>\n      <td>1</td>\n      <td>0</td>\n      <td>0</td>\n      <td>1</td>\n      <td>0</td>\n      <td>0</td>\n    </tr>\n  </tbody>\n</table>\n</div>"
     },
     "metadata": {},
     "execution_count": 109
    }
   ],
   "source": [
    "checkpoint_2[sequence[0]].head()"
   ]
  },
  {
   "cell_type": "markdown",
   "metadata": {},
   "source": [
    "        4.5 - Finally, moving to String Data"
   ]
  },
  {
   "cell_type": "code",
   "execution_count": 110,
   "metadata": {},
   "outputs": [
    {
     "output_type": "execute_result",
     "data": {
      "text/plain": "                    City           Number of Children       Income  \\\n45007910    WEST WARWICK                    One Child    30-39,999   \n116229910        WARWICK                  No children    50-59,999   \n5798100    CENTRAL FALLS                  No children    50-59,999   \n71870170         WARWICK                    One Child  100-149,999   \n77280880      BARRINGTON  Four ChildrenThree Children  100-149,999   \n\n              Education Credit Ranges Member Status Member Type Renew Method  \\\n45007910   Some College       600-649        ACTIVE     Primary   AUTO RENEW   \n116229910       Unknown       750-799        ACTIVE   Associate   AUTO RENEW   \n5798100    Some College       650-699        ACTIVE     Primary       NOTICE   \n71870170        Unknown       650-699       PENDING   Associate       NOTICE   \n77280880        Unknown   750-799800+        ACTIVE   Associate       NOTICE   \n\n          Motorcycle Indicator Prob1 Code Description  \\\n45007910                     N        Battery Service   \n116229910                    N              Flat Tire   \n5798100                      N                Lockout   \n71870170                     N             Jump Start   \n77280880                     N   ExtricationFlat Tire   \n\n          SC Call Club Code Description SC Vehicle Manufacturer Name  \n45007910                  AAA Northeast                       TOYOTA  \n116229910                 AAA Northeast                       SUBARU  \n5798100                   AAA Northeast                     INFINITI  \n71870170                  AAA Northeast                   VOLKSWAGEN  \n77280880                  AAA Northeast                        LEXUS  ",
      "text/html": "<div>\n<style scoped>\n    .dataframe tbody tr th:only-of-type {\n        vertical-align: middle;\n    }\n\n    .dataframe tbody tr th {\n        vertical-align: top;\n    }\n\n    .dataframe thead th {\n        text-align: right;\n    }\n</style>\n<table border=\"1\" class=\"dataframe\">\n  <thead>\n    <tr style=\"text-align: right;\">\n      <th></th>\n      <th>City</th>\n      <th>Number of Children</th>\n      <th>Income</th>\n      <th>Education</th>\n      <th>Credit Ranges</th>\n      <th>Member Status</th>\n      <th>Member Type</th>\n      <th>Renew Method</th>\n      <th>Motorcycle Indicator</th>\n      <th>Prob1 Code Description</th>\n      <th>SC Call Club Code Description</th>\n      <th>SC Vehicle Manufacturer Name</th>\n    </tr>\n  </thead>\n  <tbody>\n    <tr>\n      <th>45007910</th>\n      <td>WEST WARWICK</td>\n      <td>One Child</td>\n      <td>30-39,999</td>\n      <td>Some College</td>\n      <td>600-649</td>\n      <td>ACTIVE</td>\n      <td>Primary</td>\n      <td>AUTO RENEW</td>\n      <td>N</td>\n      <td>Battery Service</td>\n      <td>AAA Northeast</td>\n      <td>TOYOTA</td>\n    </tr>\n    <tr>\n      <th>116229910</th>\n      <td>WARWICK</td>\n      <td>No children</td>\n      <td>50-59,999</td>\n      <td>Unknown</td>\n      <td>750-799</td>\n      <td>ACTIVE</td>\n      <td>Associate</td>\n      <td>AUTO RENEW</td>\n      <td>N</td>\n      <td>Flat Tire</td>\n      <td>AAA Northeast</td>\n      <td>SUBARU</td>\n    </tr>\n    <tr>\n      <th>5798100</th>\n      <td>CENTRAL FALLS</td>\n      <td>No children</td>\n      <td>50-59,999</td>\n      <td>Some College</td>\n      <td>650-699</td>\n      <td>ACTIVE</td>\n      <td>Primary</td>\n      <td>NOTICE</td>\n      <td>N</td>\n      <td>Lockout</td>\n      <td>AAA Northeast</td>\n      <td>INFINITI</td>\n    </tr>\n    <tr>\n      <th>71870170</th>\n      <td>WARWICK</td>\n      <td>One Child</td>\n      <td>100-149,999</td>\n      <td>Unknown</td>\n      <td>650-699</td>\n      <td>PENDING</td>\n      <td>Associate</td>\n      <td>NOTICE</td>\n      <td>N</td>\n      <td>Jump Start</td>\n      <td>AAA Northeast</td>\n      <td>VOLKSWAGEN</td>\n    </tr>\n    <tr>\n      <th>77280880</th>\n      <td>BARRINGTON</td>\n      <td>Four ChildrenThree Children</td>\n      <td>100-149,999</td>\n      <td>Unknown</td>\n      <td>750-799800+</td>\n      <td>ACTIVE</td>\n      <td>Associate</td>\n      <td>NOTICE</td>\n      <td>N</td>\n      <td>ExtricationFlat Tire</td>\n      <td>AAA Northeast</td>\n      <td>LEXUS</td>\n    </tr>\n  </tbody>\n</table>\n</div>"
     },
     "metadata": {},
     "execution_count": 110
    }
   ],
   "source": [
    "checkpoint_2[sequence[4]].head()"
   ]
  },
  {
   "cell_type": "markdown",
   "metadata": {},
   "source": [
    "        4.5.1 - Checking Null values"
   ]
  },
  {
   "cell_type": "markdown",
   "metadata": {},
   "source": [
    "plt.figure(figsize=(10,5))\n",
    "\n",
    "sns.barplot(x=checkpoint_2[sequence[4]].isnull().sum().index, y=checkpoint_2[sequence[4]].isnull().sum())\n",
    "plt.xticks(rotation='90')\n",
    "plt.xlabel('Variables', fontsize=10)\n",
    "plt.ylabel('Percentage of missing values', fontsize=10)\n",
    "plt.title('Percentage of missing values for the' + ' ' + sequence[4] + ' ' + 'Dataframe', fontsize=15)"
   ]
  },
  {
   "cell_type": "markdown",
   "metadata": {},
   "source": [
    "        4.5.2 - Performing Null filling and creating new identities"
   ]
  },
  {
   "cell_type": "markdown",
   "metadata": {},
   "source": [
    "            4.5.2.1 - Number of Children"
   ]
  },
  {
   "cell_type": "code",
   "execution_count": 111,
   "metadata": {},
   "outputs": [
    {
     "output_type": "display_data",
     "data": {
      "text/plain": "HBox(children=(FloatProgress(value=0.0, description='Process Progress', max=4095.0, style=ProgressStyle(descri…",
      "application/vnd.jupyter.widget-view+json": {
       "version_major": 2,
       "version_minor": 0,
       "model_id": "c446368d95b943cc9d2e2e75c108809c"
      }
     },
     "metadata": {}
    },
    {
     "output_type": "stream",
     "name": "stdout",
     "text": "\n"
    }
   ],
   "source": [
    "for idx in tqdm_notebook(checkpoint_2[sequence[4]].index, desc='Process Progress'): # For each row\n",
    "    for c in checkpoint_2[sequence[4]].columns: # For all columns on the given dataframe\n",
    "\n",
    "        if c == 'Number of Children': # if we the given column is the Number of Children\n",
    "\n",
    "            if pd.isnull(checkpoint_2[sequence[4]][c][idx]): # if the given Household Key has a null value for the Number of Children column\n",
    "            \n",
    "                checkpoint_2[sequence[4]].at[idx, c] = 0 # we replace it by zero\n",
    "\n",
    "            else:\n",
    "                \n",
    "                entry =  checkpoint_2[sequence[4]][c][idx].split()[0] # we check the first part of the string\n",
    "\n",
    "                if (entry == 'No'):\n",
    "\n",
    "                    checkpoint_2[sequence[4]].at[idx, c] = 0 # we replace it by zero, because there is no children for the given Household\n",
    "\n",
    "                elif (entry == 'One'):\n",
    "\n",
    "                    checkpoint_2[sequence[4]].at[idx, c] = 1 # we replace it by one, because there is one children for the given Household\n",
    "\n",
    "                elif (entry == 'Two'):\n",
    "\n",
    "                    checkpoint_2[sequence[4]].at[idx, c] = 2 # we replace it by two, because there are two children for the given Household\n",
    "\n",
    "                elif (entry == 'Three'):\n",
    "\n",
    "                    checkpoint_2[sequence[4]].at[idx, c] = 3 # we replace it by three, because there are three children for the given Household\n",
    "\n",
    "                elif (entry == 'Four'):\n",
    "\n",
    "                    checkpoint_2[sequence[4]].at[idx, c] = 4 # we replace it by four, because there are four children for the given Household\n",
    "\n",
    "                elif (entry == 'Five'):\n",
    "\n",
    "                    checkpoint_2[sequence[4]].at[idx, c] = 5 # we replace it by five, because there are five children for the given Household\n",
    "\n",
    "                elif (entry == 'Six'):\n",
    "\n",
    "                    checkpoint_2[sequence[4]].at[idx, c] = 6 # we replace it by six, because there are six children for the given Household\n",
    "\n",
    "checkpoint_2[sequence[4]]['Number of Children'] = checkpoint_2[sequence[4]]['Number of Children'].astype(int) # converting to iterger type"
   ]
  },
  {
   "cell_type": "code",
   "execution_count": 112,
   "metadata": {},
   "outputs": [
    {
     "output_type": "display_data",
     "data": {
      "text/plain": "HBox(children=(FloatProgress(value=0.0, description='Process Progress', max=4095.0, style=ProgressStyle(descri…",
      "application/vnd.jupyter.widget-view+json": {
       "version_major": 2,
       "version_minor": 0,
       "model_id": "d81ed610aa8a4095870a69b8d64aaddd"
      }
     },
     "metadata": {}
    },
    {
     "output_type": "stream",
     "name": "stdout",
     "text": "\n"
    }
   ],
   "source": [
    "for idx in tqdm_notebook(checkpoint_2[sequence[4]].index, desc='Process Progress'): # For each row\n",
    "    for c in checkpoint_2[sequence[4]].columns: # For all columns on the given dataframe\n",
    "\n",
    "        if (c == 'Credit Ranges'): # if we the given column is the Credit Ranges \n",
    "\n",
    "            if pd.isnull(checkpoint_2[sequence[4]][c][idx]): # if the given Household Key has a null value for Credit Ranges column\n",
    "            \n",
    "                checkpoint_2[sequence[4]].at[idx, c] = 499999 # we replace it by the lowest value of Credit Ranges possible\n",
    "\n",
    "            else:\n",
    "\n",
    "                item = checkpoint_2[sequence[4]][c][idx] # we save our string list\n",
    "\n",
    "                if (\"+\" in item): # that means that we have the highest possible value of Credit Ranges on the given Household Key\n",
    "\n",
    "                    checkpoint_2[sequence[4]].at[idx, c] = 800000 # so we set as the only the higher value\n",
    "\n",
    "                elif (\"&\" in item) or (\"Unk\" in item): # that means that we have the lowest possible value of Credit Ranges on the given Household Key\n",
    "\n",
    "                    if len(item.split('-')) == 1: # if we only have this value\n",
    "\n",
    "                        checkpoint_2[sequence[4]].at[idx, c] = 499999 # we replace it by the lowest value of Credit Ranges possible\n",
    "\n",
    "                    else: # if we have other values besides the lower Credit Ranges possible\n",
    "\n",
    "                        lower_limit = 499999 # we set the lower limit by the lowest value of Credit Ranges possible\n",
    "\n",
    "                        tmp = [] # we create an empty list\n",
    "\n",
    "                        for s in item.split('-'): # we iterate over all values for this credit range\n",
    "                            \n",
    "                            tmp.append(s.split('Unk')[0]) # we append all numerical strings to it\n",
    "\n",
    "                        tmp.sort() # we sort the list of numerical strings\n",
    "\n",
    "                        upper_limit = float(tmp[-1]) * 1e3 # we choose the biggest value \n",
    "\n",
    "                        checkpoint_2[sequence[4]].at[idx, c] = (upper_limit + lower_limit)/2 # we replace the total value for the given Houlsehold Key by the mean\n",
    "\n",
    "                else:\n",
    "\n",
    "                        if len(item.split('-')) == 2: # if we only have two values for this range\n",
    "\n",
    "                            lower_limit =  float(item.split('-')[0]) * 1e3 # lower Income limit\n",
    "\n",
    "                            upper_limit = float(item.split('-')[1]) * 1e3 # Upper Income limit\n",
    "\n",
    "                            checkpoint_2[sequence[4]].at[idx, c] = (upper_limit + lower_limit)/2 # we replace the total value for the given Household Key by the mean\n",
    "\n",
    "                        else: # we have more than two values available\n",
    "\n",
    "                            tmp = [] # we create an empty list\n",
    "\n",
    "                            for s in item.split('-'): # we iterate over all values for this credit range\n",
    "                            \n",
    "                                tmp.append(s.split('Unk')[0].split(',')[0]) # we append all numerical strings to it\n",
    "\n",
    "                            tmp.sort() # we sort the list of numerical strings\n",
    "\n",
    "                            lower_limit = float(tmp[0]) * 1e3 # we choose the smaller value \n",
    "                                \n",
    "                            upper_limit = float(tmp[-1]) * 1e3 # we choose the biggest value\n",
    "\n",
    "                            checkpoint_2[sequence[4]].at[idx, c] = (upper_limit + lower_limit)/2 # we replace the total value for the given Houlsehold Key by the mean\n",
    "\n",
    "checkpoint_2[sequence[4]]['Credit Ranges'] = checkpoint_2[sequence[4]]['Credit Ranges'].astype(float) # converting to float type\n",
    "\n",
    "checkpoint_2[sequence[4]].rename(columns={'Credit Ranges' : 'Annual Credit Possible'}, inplace=True) # renaming the colum"
   ]
  },
  {
   "cell_type": "markdown",
   "metadata": {},
   "source": [
    "    We will replace each limit by the mean of the given limit. The null values will be predicted as the lower values possible (For the Income is 9999.0 and for the Credit Range is 499999.0)"
   ]
  },
  {
   "cell_type": "markdown",
   "metadata": {},
   "source": [
    "            4.5.2.2 - Income and Credit Ranges"
   ]
  },
  {
   "cell_type": "code",
   "execution_count": 113,
   "metadata": {},
   "outputs": [
    {
     "output_type": "display_data",
     "data": {
      "text/plain": "HBox(children=(FloatProgress(value=0.0, description='Process Progress', max=4095.0, style=ProgressStyle(descri…",
      "application/vnd.jupyter.widget-view+json": {
       "version_major": 2,
       "version_minor": 0,
       "model_id": "90924c7263df497c8230e1be79300ace"
      }
     },
     "metadata": {}
    },
    {
     "output_type": "stream",
     "name": "stdout",
     "text": "\n"
    }
   ],
   "source": [
    "for idx in tqdm_notebook(checkpoint_2[sequence[4]].index, desc='Process Progress'): # For each row\n",
    "    for c in checkpoint_2[sequence[4]].columns: # For all columns on the given dataframe\n",
    "\n",
    "        if (c == 'Income'): # if we the given column is the Income \n",
    "\n",
    "            if pd.isnull(checkpoint_2[sequence[4]][c][idx]): # if the given Household Key has a null value for Income column\n",
    "            \n",
    "                checkpoint_2[sequence[4]].at[idx, c] = 9999 # we replace it by the lowest value of income possible\n",
    "\n",
    "            else:\n",
    "\n",
    "                item = checkpoint_2[sequence[4]][c][idx] # we save our string list\n",
    "\n",
    "                if (\"K+\" in item): # that means that we have the highest possible value of Income on the given Household Key\n",
    "\n",
    "                    checkpoint_2[sequence[4]].at[idx, c] = 250000 # so we set as the only the higher value\n",
    "\n",
    "                elif (\"Und\" in item): # that means that we have the lowest possible value of Income on the given Household Key\n",
    "\n",
    "                    if len(item.split('-')) == 1: # if we only have this value\n",
    "\n",
    "                        checkpoint_2[sequence[4]].at[idx, c] = 9999 # we replace it by the lowest value of income possible\n",
    "\n",
    "                    else: # if we have other values besides the lower Income possible\n",
    "\n",
    "                        lower_limit = 9999 # we set the lower limit by the lowest value of income possible\n",
    "\n",
    "                        tmp = [] # we create an empty list\n",
    "\n",
    "                        for s in item.split('-'): # we iterate over all values for this credit range\n",
    "                            \n",
    "                            tmp.append(s.split('Und')[0].split(',')[0]) # we append all numerical strings to it\n",
    "\n",
    "                        tmp.sort() # we sort the list of numerical strings\n",
    "\n",
    "                        upper_limit = float(tmp[-1]) * 1e3 # we choose the biggest value \n",
    "\n",
    "                        checkpoint_2[sequence[4]].at[idx, c] = (upper_limit + lower_limit)/2 # we replace the total value for the given Houlsehold Key by the mean\n",
    "\n",
    "                else:\n",
    "\n",
    "                        if len(item.split('-')) == 2: # if we only have two values for this range\n",
    "\n",
    "                            lower_limit =  float(item.split('-')[0]) * 1e3 # lower Income limit\n",
    "\n",
    "                            upper_limit = float(item.split('-')[1].split(',')[0]) * 1e3 # Upper Income limit\n",
    "\n",
    "                            checkpoint_2[sequence[4]].at[idx, c] = (upper_limit + lower_limit)/2 # we replace the total value for the given Household Key by the mean\n",
    "\n",
    "                        else: # we have more than two values available\n",
    "\n",
    "                            tmp = [] # we create an empty list\n",
    "\n",
    "                            for s in item.split('-'): # we iterate over all values for this income\n",
    "                            \n",
    "                                tmp.append(s.split('Und')[0].split(',')[0]) # we append all numerical strings to it\n",
    "\n",
    "                            tmp.sort() # we sort the list of numerical strings\n",
    "\n",
    "                            lower_limit = float(tmp[0]) * 1e3 # we choose the smaller value \n",
    "                                \n",
    "                            upper_limit = float(tmp[-1]) * 1e3 # we choose the biggest value\n",
    "\n",
    "                            checkpoint_2[sequence[4]].at[idx, c] = (upper_limit + lower_limit)/2 # we replace the total value for the given Houlsehold Key by the mean\n",
    "\n",
    "checkpoint_2[sequence[4]]['Income'] = checkpoint_2[sequence[4]]['Income'].astype(float) # converting to float type\n",
    "\n",
    "checkpoint_2[sequence[4]].rename(columns={'Income' : 'Annual Income'}, inplace=True) # renaming the colum"
   ]
  },
  {
   "cell_type": "markdown",
   "metadata": {},
   "source": [
    "            4.5.2.3 - Education"
   ]
  },
  {
   "cell_type": "code",
   "execution_count": 114,
   "metadata": {},
   "outputs": [
    {
     "output_type": "display_data",
     "data": {
      "text/plain": "HBox(children=(FloatProgress(value=0.0, description='Process Progress', max=4095.0, style=ProgressStyle(descri…",
      "application/vnd.jupyter.widget-view+json": {
       "version_major": 2,
       "version_minor": 0,
       "model_id": "1bd2cfd411cb417e828c31d586ccaf42"
      }
     },
     "metadata": {}
    },
    {
     "output_type": "stream",
     "name": "stdout",
     "text": "\n"
    }
   ],
   "source": [
    "for idx in tqdm_notebook(checkpoint_2[sequence[4]].index, desc='Process Progress'): # For each row\n",
    "    for c in checkpoint_2[sequence[4]].columns: # For all columns on the given dataframe\n",
    "\n",
    "        if (c == 'Education'): # if we the given column is the Education \n",
    "\n",
    "            if pd.isnull(checkpoint_2[sequence[4]][c][idx]): # if the given Household Key has a null value for Education column\n",
    "            \n",
    "                checkpoint_2[sequence[4]].at[idx, c] = 'Unknown' # we replace it by Unknow Education background\n",
    "            \n",
    "            else:\n",
    "\n",
    "                item = checkpoint_2[sequence[4]][c][idx] # we save our string \n",
    "\n",
    "                if (\"Unk\" in item): # that means that we have an Unknown flag in the middle of it\n",
    "\n",
    "                    if len(item.split()) == 1: # if we only have this value\n",
    "\n",
    "                        pass # we pass it because it is already defined\n",
    "\n",
    "                    else: # if we have other values besides the lower Income possible\n",
    "\n",
    "                        checkpoint_2[sequence[4]].at[idx, c] = item.split('Unk')[0] # we replace the value by the string that is not Unknown\n",
    "\n",
    "                else:\n",
    "\n",
    "                        if (len(item.split()) > 2) and (\"College\" in item): # if we have more than two values for this range and college is one of them\n",
    "                            if ('Completed' in item.split('College')): # we check if there is one member with a complete college degree\n",
    "\n",
    "                                checkpoint_2[sequence[4]].at[idx, c] = 'Completed College' # we replace by the higgest\n",
    "\n",
    "                            else:\n",
    "\n",
    "                                checkpoint_2[sequence[4]].at[idx, c] = 'Some College' # we replace by the middle one\n",
    "\n",
    "                        if (len(item.split()) > 2) and (\"School\" in item): # if we have more than two values for this range and school is one of them\n",
    "                            if ('Graduated' in item.split('School')): # we check if there is one member with a complete school degree\n",
    "\n",
    "                                checkpoint_2[sequence[4]].at[idx, c] = 'Graduated School' # we replace by the higgest one\n",
    "\n",
    "                            else:\n",
    "\n",
    "                                checkpoint_2[sequence[4]].at[idx, c] = 'High School' # we replace by the lower one\n"
   ]
  },
  {
   "cell_type": "markdown",
   "metadata": {},
   "source": [
    "            4.5.2.4 - Member Status, Member Type, Renew Method, and Motorcycle Indicator"
   ]
  },
  {
   "cell_type": "code",
   "execution_count": 115,
   "metadata": {},
   "outputs": [
    {
     "output_type": "display_data",
     "data": {
      "text/plain": "HBox(children=(FloatProgress(value=0.0, description='Process Progress', max=4095.0, style=ProgressStyle(descri…",
      "application/vnd.jupyter.widget-view+json": {
       "version_major": 2,
       "version_minor": 0,
       "model_id": "797092f2768c4f5d8555f2c365966d6f"
      }
     },
     "metadata": {}
    },
    {
     "output_type": "stream",
     "name": "stdout",
     "text": "\n"
    }
   ],
   "source": [
    "for idx in tqdm_notebook(checkpoint_2[sequence[4]].index, desc='Process Progress'): # For each row\n",
    "    for c in checkpoint_2[sequence[4]].columns: # For all columns on the given dataframe\n",
    "\n",
    "        if (c == 'Member Status'): # if we the given column is the Member Status \n",
    "\n",
    "            item = checkpoint_2[sequence[4]][c][idx] # we save our string \n",
    "\n",
    "            if item not in ['ACTIVE', 'PENDING', 'CANCELLED']: # if the value is not one of the possible ones\n",
    "\n",
    "                if 'ACTIVE' in item: # if one of the possible values for the given Household Key is Active\n",
    "\n",
    "                    checkpoint_2[sequence[4]].at[idx, c] = 'ACTIVE' # we replace it by an Active key\n",
    "\n",
    "                else:\n",
    "                    \n",
    "                    checkpoint_2[sequence[4]].at[idx, c] = 'PENDING' # we replace it by an Pending key\n",
    "                        \n",
    "        elif (c == 'Member Type'): # if the given column is the Member Type\n",
    "\n",
    "            item = checkpoint_2[sequence[4]][c][idx] # we save our string \n",
    "\n",
    "            if 'Primary' in item: # if one of the possible values for the given Household Key is Primary\n",
    "\n",
    "                checkpoint_2[sequence[4]].at[idx, c] = 'Primary' # we replace it by the Pending key\n",
    "\n",
    "        elif (c == 'Renew Method'): # if the given column is the Renew Method\n",
    "\n",
    "            item = checkpoint_2[sequence[4]][c][idx] # we save our string \n",
    "\n",
    "            if 'AUTO' in item: # if one of the possible values for the given Household Key is Auto Renew\n",
    "\n",
    "                checkpoint_2[sequence[4]].at[idx, c] = 'AUTO RENEW' # we replace it by the Auto Rener key\n",
    "\n",
    "        elif (c == 'Motorcycle Indicator'): # if the given column is the Renew Method\n",
    "\n",
    "            item = checkpoint_2[sequence[4]][c][idx]\n",
    "\n",
    "            if pd.isnull(item) or ('N' in item): # if the given Household Key has a null value for Motorcycle Indicator column\n",
    "\n",
    "                checkpoint_2[sequence[4]].at[idx, c] = 0 # we replace it by N Motorcycle Indicator\n",
    "\n",
    "            elif 'Y' in item: # if one of the possible values for the given Household Key is Primary\n",
    "\n",
    "                checkpoint_2[sequence[4]].at[idx, c] = 1 # we replace it by Y Motorcycle Indicator\n",
    "\n",
    "checkpoint_2[sequence[4]]['Motorcycle Indicator'] = checkpoint_2[sequence[4]]['Motorcycle Indicator'].astype(int) # converting to iterger type"
   ]
  },
  {
   "cell_type": "markdown",
   "metadata": {},
   "source": [
    "            4.5.2.5 - Prob1 Code Description, SC Vehicle Manufacturer Name and SC Call Club Code Description"
   ]
  },
  {
   "cell_type": "code",
   "execution_count": 116,
   "metadata": {},
   "outputs": [],
   "source": [
    "checkpoint_2[sequence[4]]['AAA Service Necessity Due Problem' + ' ' + str(2)] = '' # we create another column on the dataframe to store the other different value\n",
    "\n",
    "checkpoint_2[sequence[4]]['Vehicle Manufacturer Name' + ' ' + str(2)] = '' # we create another column on the dataframe to store the other different value\n",
    "\n",
    "checkpoint_2[sequence[4]]['AAA Club' + ' ' + str(2)] = '' # we create another column on the dataframe to store the other different value"
   ]
  },
  {
   "cell_type": "code",
   "execution_count": 117,
   "metadata": {},
   "outputs": [
    {
     "output_type": "display_data",
     "data": {
      "text/plain": "HBox(children=(FloatProgress(value=0.0, description='Process Progress', max=4095.0, style=ProgressStyle(descri…",
      "application/vnd.jupyter.widget-view+json": {
       "version_major": 2,
       "version_minor": 0,
       "model_id": "9399ba2612344f98ae33c6ad0c785cc5"
      }
     },
     "metadata": {}
    },
    {
     "output_type": "stream",
     "name": "stdout",
     "text": "\n"
    }
   ],
   "source": [
    "for idx in tqdm_notebook(checkpoint_2[sequence[4]].index, desc='Process Progress'): # For each row\n",
    "    for c in checkpoint_2[sequence[4]].columns: # For all columns on the given dataframe\n",
    "\n",
    "        if (c == 'Prob1 Code Description'): # if we the given column is the Prob1 Code Description \n",
    "\n",
    "            item = checkpoint_2[sequence[4]][c][idx] # we save our string\n",
    "\n",
    "            if pd.isnull(item): # if the value of out string is null\n",
    "\n",
    "                checkpoint_2[sequence[4]].at[idx, c] = 'No record for the last three years' # we predict saying there is no record for the last three years\n",
    "\n",
    "            if item not in df_original[c].unique().tolist(): # if our item is not on the original unique values list for this column\n",
    "\n",
    "                out = \"\" # string to store the second value available\n",
    "\n",
    "                for s in item: # work on character by character on our string\n",
    "\n",
    "                    out = out + item[-1] # the second value building\n",
    "\n",
    "                    item = item[:-1] # popping the last character on the string\n",
    "\n",
    "                    if out[::-1] in df_original[c].unique().tolist(): # if the build of the second value is ready\n",
    "\n",
    "                        checkpoint_2[sequence[4]].at[idx, 'AAA Service Necessity Due Problem 2'] = out[::-1] # we input the second value on the second column\n",
    "\n",
    "                    if item in df_original[c].unique().tolist(): # the build of the first value is ready\n",
    "\n",
    "                        checkpoint_2[sequence[4]].at[idx, c] = item # we input the first value on the original column\n",
    "\n",
    "        elif (c == 'SC Vehicle Manufacturer Name'):\n",
    "\n",
    "            item = checkpoint_2[sequence[4]][c][idx] # we save our string\n",
    "\n",
    "            if pd.isnull(item): # if the value of out string is null\n",
    "\n",
    "                checkpoint_2[sequence[4]].at[idx, c] = 'No record for the last three years' # we predict saying there is no record for the last three years\n",
    "\n",
    "            if item not in df_original[c].unique().tolist(): # if our item is not on the original unique values list for this column\n",
    "\n",
    "                out = \"\" # string to store the second value available\n",
    "\n",
    "                for s in item: # work on character by character on our string\n",
    "\n",
    "                    out = out + item[-1] # the second value building\n",
    "\n",
    "                    item = item[:-1] # popping the last character on the string\n",
    "\n",
    "                    if out[::-1] in df_original[c].unique().tolist(): # if the build of the second value is ready\n",
    "\n",
    "                        checkpoint_2[sequence[4]].at[idx, 'Vehicle Manufacturer Name 2'] = out[::-1] # we input the second value on the second column\n",
    "                    if item in df_original[c].unique().tolist(): # the build of the first value is ready\n",
    "\n",
    "                        checkpoint_2[sequence[4]].at[idx, c] = item # we input the first value on the original column \n",
    "\n",
    "        elif (c == 'SC Call Club Code Description'):\n",
    "\n",
    "            item = checkpoint_2[sequence[4]][c][idx] # we save our string\n",
    "\n",
    "            if pd.isnull(item): # if the value of out string is null\n",
    "\n",
    "                checkpoint_2[sequence[4]].at[idx, c] = 'No record for the last three years' # we predict saying there is no record for the last three years \n",
    "\n",
    "            if item not in df_original[c].unique().tolist(): # if our item is not on the original unique values list for this column\n",
    "\n",
    "                out = \"\" # string to store the second value available\n",
    "\n",
    "                for s in item: # work on character by character on our string\n",
    "\n",
    "                    out = out + item[-1] # the second value building\n",
    "\n",
    "                    item = item[:-1] # popping the last character on the string\n",
    "\n",
    "                    if out[::-1] in df_original[c].unique().tolist(): # if the build of the second value is ready\n",
    "\n",
    "                        checkpoint_2[sequence[4]].at[idx, 'AAA Club 2'] = out[::-1] # we input the second value on the second column\n",
    "                    if item in df_original[c].unique().tolist(): # the build of the first value is ready\n",
    "\n",
    "                        checkpoint_2[sequence[4]].at[idx, c] = item # we input the first value on the original column                       \n",
    "\n",
    "checkpoint_2[sequence[4]].rename(columns={'Prob1 Code Description' : 'AAA Service Necessity Due Problem 1'}, inplace=True) # renaming the column\n",
    "checkpoint_2[sequence[4]].rename(columns={'SC Vehicle Manufacturer Name' : 'Vehicle Manufacturer Name 1'}, inplace=True) # renaming the column\n",
    "checkpoint_2[sequence[4]].rename(columns={'SC Call Club Code Description' : 'AAA Club 1'}, inplace=True) # renaming the column"
   ]
  },
  {
   "cell_type": "markdown",
   "metadata": {},
   "source": [
    "                4.5.3 - Appending column to numerical one"
   ]
  },
  {
   "cell_type": "code",
   "execution_count": 118,
   "metadata": {},
   "outputs": [],
   "source": [
    "for c in checkpoint_2[sequence[4]].columns: # For all columns on the given dataframe\n",
    "\n",
    "    checkpoint_2[sequence[0]][c] = checkpoint_2[sequence[4]][c].values # concatenate the columns on the numerical dataframe"
   ]
  },
  {
   "cell_type": "markdown",
   "metadata": {},
   "source": [
    "## 5 - Validating final dataframe"
   ]
  },
  {
   "cell_type": "markdown",
   "metadata": {},
   "source": [
    "## 5 - Creating required columns for assignment"
   ]
  },
  {
   "cell_type": "markdown",
   "metadata": {},
   "source": [
    "    5.1 - Number of Members per Household Key"
   ]
  },
  {
   "cell_type": "markdown",
   "metadata": {},
   "source": [
    "        5.1.1 - Creating new Column"
   ]
  },
  {
   "cell_type": "code",
   "execution_count": 119,
   "metadata": {},
   "outputs": [],
   "source": [
    "checkpoint_2[sequence[0]]['Number of Members per Household Key'] = 0 # creating ner column\n",
    "\n",
    "checkpoint_2[sequence[0]]['Number of Members per Household Key'] = checkpoint_2[sequence[0]]['Number of Members per Household Key'].astype(int) # converting to iterger type"
   ]
  },
  {
   "cell_type": "markdown",
   "metadata": {},
   "source": [
    "            5.1.2 - List of members per each Household Key on the original dataset"
   ]
  },
  {
   "cell_type": "code",
   "execution_count": 120,
   "metadata": {},
   "outputs": [],
   "source": [
    "member_per_household = Counter(list(df_original['Household Key'].values)) # list of number of times that a given Household Key appears on the original dataframe"
   ]
  },
  {
   "cell_type": "markdown",
   "metadata": {},
   "source": [
    "            5.1.3 - Filling Values"
   ]
  },
  {
   "cell_type": "code",
   "execution_count": 121,
   "metadata": {},
   "outputs": [
    {
     "output_type": "display_data",
     "data": {
      "text/plain": "HBox(children=(FloatProgress(value=0.0, description='Process Progress', max=4095.0, style=ProgressStyle(descri…",
      "application/vnd.jupyter.widget-view+json": {
       "version_major": 2,
       "version_minor": 0,
       "model_id": "9f3db4b1e7414d5a87021e97a076a172"
      }
     },
     "metadata": {}
    },
    {
     "output_type": "stream",
     "name": "stdout",
     "text": "\n"
    }
   ],
   "source": [
    "for idx in tqdm_notebook(checkpoint_2[sequence[0]].index, desc='Process Progress'): # For each row\n",
    "\n",
    "    checkpoint_2[sequence[0]].at[idx, 'Number of Members per Household Key'] = member_per_household[idx] # replace the value by the number of members\n"
   ]
  },
  {
   "cell_type": "markdown",
   "metadata": {},
   "source": [
    "    5.2 - Frequency of use of Roadside Services and if Household have used the Roadside Services"
   ]
  },
  {
   "cell_type": "markdown",
   "metadata": {},
   "source": [
    "        5.2.1 - Creating new Column"
   ]
  },
  {
   "cell_type": "code",
   "execution_count": 122,
   "metadata": {},
   "outputs": [],
   "source": [
    "checkpoint_2[sequence[0]]['Frequency of use of Roadside Services'] = 0 # creating ner column\n",
    "\n",
    "checkpoint_2[sequence[0]]['Frequency of use of Roadside Services'] = checkpoint_2[sequence[0]]['Frequency of use of Roadside Services'].astype(int) # converting to iterger type\n",
    "\n",
    "checkpoint_2[sequence[0]]['Household have used the Roadside Services'] = 0 # creating ner column\n",
    "\n",
    "checkpoint_2[sequence[0]]['Household have used the Roadside Services'] = checkpoint_2[sequence[0]]['Household have used the Roadside Services'].astype(int) # converting to iterger type"
   ]
  },
  {
   "cell_type": "markdown",
   "metadata": {},
   "source": [
    "            5.2.2 - Filling values"
   ]
  },
  {
   "cell_type": "code",
   "execution_count": 123,
   "metadata": {},
   "outputs": [
    {
     "output_type": "display_data",
     "data": {
      "text/plain": "HBox(children=(FloatProgress(value=0.0, description='Process Progress', max=4095.0, style=ProgressStyle(descri…",
      "application/vnd.jupyter.widget-view+json": {
       "version_major": 2,
       "version_minor": 0,
       "model_id": "6f1f5fe4166043398174d79f91a3e5f7"
      }
     },
     "metadata": {}
    },
    {
     "output_type": "stream",
     "name": "stdout",
     "text": "\n"
    }
   ],
   "source": [
    "for idx in tqdm_notebook(checkpoint_2[sequence[0]].index, desc='Process Progress'): # For each row\n",
    "\n",
    "    checkpoint_2[sequence[0]].at[idx, 'Frequency of use of Roadside Services'] = checkpoint_2[sequence[0]]['Number of Roadside calss for Year 1'][idx] +  checkpoint_2[sequence[0]]['Number of Roadside calss for Year 2'][idx] + checkpoint_2[sequence[0]]['Number of Roadside calss for Year 3'][idx] # filling the column with the total number of usage of roadside services\n",
    "\n",
    "\n",
    "    if (checkpoint_2[sequence[0]]['Number of Roadside calss for Year 1'][idx] != 0) or (checkpoint_2[sequence[0]]['Number of Roadside calss for Year 2'][idx] != 0) or (checkpoint_2[sequence[0]]['Number of Roadside calss for Year 3'][idx] != 0): # if the given Household Key has used any roadside service on the last three years\n",
    "\n",
    "        checkpoint_2[sequence[0]].at[idx, 'Household have used the Roadside Services'] = 1"
   ]
  },
  {
   "cell_type": "markdown",
   "metadata": {},
   "source": [
    "        5.1 - Creating variable for final dataframe"
   ]
  },
  {
   "cell_type": "code",
   "execution_count": 124,
   "metadata": {},
   "outputs": [],
   "source": [
    "df_final = checkpoint_2[sequence[0]].copy()"
   ]
  },
  {
   "cell_type": "markdown",
   "metadata": {},
   "source": [
    "        5.2 - Checking for Null data "
   ]
  },
  {
   "cell_type": "markdown",
   "metadata": {},
   "source": [
    "plt.figure(figsize=(10,5))\n",
    "\n",
    "sns.barplot(x=df_final.isnull().sum().index, y=df_final.isnull().sum())\n",
    "plt.xticks(rotation='90')\n",
    "plt.xlabel('Variables', fontsize=10)\n",
    "plt.ylabel('Percentage of missing values', fontsize=10)\n",
    "plt.title('Percentage of missing values for the Final Dataframe', fontsize=15)"
   ]
  },
  {
   "cell_type": "markdown",
   "metadata": {},
   "source": [
    "        5.3 - Checking Data types "
   ]
  },
  {
   "cell_type": "code",
   "execution_count": 125,
   "metadata": {},
   "outputs": [
    {
     "output_type": "execute_result",
     "data": {
      "text/plain": "Length Of Residence                             float64\nNumber of Roadside calss for Year 1               int32\nNumber of Roadside calss for Year 2               int32\nNumber of Roadside calss for Year 3               int32\nRoadside Member Cost for Year 1                 float64\nRoadside Member Cost for Year 2                 float64\nRoadside Member Cost for Year 3                 float64\nMember Tenure Years                               int32\nYears to Cancelled Status                         int32\nBasic Cost                                      float64\nCalculated Tow Miles                            float64\nPlus Cost                                       float64\nPremier Cost                                    float64\nTotal Cost                                      float64\nTotal Number of Roadside Calls                    int32\nTotal Roadside Member Cost                      float64\nEmail Available                                   int32\nAge                                               int32\nYears from most recent Membership Expiration      int32\nYears from Join Date                              int32\nPurchased Product 1                               int32\nPurchased Product 2                               int32\nPurchased Product 3                               int32\nPurchased Product 4                               int32\nPurchased Product 5                               int32\nPurchased Product 6                               int32\nPurchased Product 7                               int32\nPurchased Product 8                               int32\nMail Responder                                    int32\nHome Owner                                        int32\nOpt-Out - Publication                             int32\nCash Call                                         int32\nFleet Indicator                                   int32\nTotal Number of Purchased Products                int64\nHousehold Purchased Product                       int32\nEmail Correspondent                               int32\nHome Renter                                       int32\nNo Home Ownership Info                            int32\nCity                                             object\nNumber of Children                                int32\nAnnual Income                                   float64\nEducation                                        object\nAnnual Credit Possible                          float64\nMember Status                                    object\nMember Type                                      object\nRenew Method                                     object\nMotorcycle Indicator                              int32\nAAA Service Necessity Due Problem 1              object\nAAA Club 1                                       object\nVehicle Manufacturer Name 1                      object\nAAA Service Necessity Due Problem 2              object\nVehicle Manufacturer Name 2                      object\nAAA Club 2                                       object\nNumber of Members per Household Key               int32\nFrequency of use of Roadside Services             int32\nHousehold have used the Roadside Services         int32\ndtype: object"
     },
     "metadata": {},
     "execution_count": 125
    }
   ],
   "source": [
    "df_final.dtypes"
   ]
  },
  {
   "cell_type": "markdown",
   "metadata": {},
   "source": [
    "    We still need to convert the string variables"
   ]
  },
  {
   "cell_type": "markdown",
   "metadata": {},
   "source": [
    "        5.4 - Categorical One Hot Enconding "
   ]
  },
  {
   "cell_type": "code",
   "execution_count": 126,
   "metadata": {},
   "outputs": [
    {
     "output_type": "display_data",
     "data": {
      "text/plain": "HBox(children=(FloatProgress(value=0.0, description='Process Progress', max=56.0, style=ProgressStyle(descript…",
      "application/vnd.jupyter.widget-view+json": {
       "version_major": 2,
       "version_minor": 0,
       "model_id": "fd2882344f0e427e84f5518b29284703"
      }
     },
     "metadata": {}
    },
    {
     "output_type": "stream",
     "name": "stdout",
     "text": "\n"
    }
   ],
   "source": [
    "for c in tqdm_notebook(df_final.columns, desc='Process Progress'): # For all columns on the given dataframe\n",
    "\n",
    "    if df_final.dtypes[c] == 'O': # wecheck if the given column is an object type\n",
    "\n",
    "        df_final = pd.get_dummies(df_final, columns=[c], dtype=int) # we replace it by the binary representaion"
   ]
  },
  {
   "cell_type": "markdown",
   "metadata": {},
   "source": [
    "## 6 - Purchase Probability Prediction"
   ]
  },
  {
   "cell_type": "markdown",
   "metadata": {},
   "source": [
    "        6.1 - Saving our third checkpoint"
   ]
  },
  {
   "cell_type": "code",
   "execution_count": 127,
   "metadata": {},
   "outputs": [],
   "source": [
    "checkpoint_3 = df_final.copy()"
   ]
  },
  {
   "cell_type": "markdown",
   "metadata": {},
   "source": [
    "        6.2 - Taking a look at our Target Variable"
   ]
  },
  {
   "cell_type": "code",
   "execution_count": 128,
   "metadata": {},
   "outputs": [],
   "source": [
    "from scipy import stats # for some statistics\n",
    "#from scipy.stats import norm, skew "
   ]
  },
  {
   "cell_type": "code",
   "execution_count": 129,
   "metadata": {},
   "outputs": [],
   "source": [
    "(mu, sigma) = stats.norm.fit(checkpoint_3['Household Purchased Product'] )"
   ]
  },
  {
   "cell_type": "code",
   "execution_count": 130,
   "metadata": {},
   "outputs": [
    {
     "output_type": "execute_result",
     "data": {
      "text/plain": "Text(0.5, 1.0, 'Household Purchased Product distribution -- Mu: 0.3665445665445665 Sigma: 0.4818606098045599')"
     },
     "metadata": {},
     "execution_count": 130
    },
    {
     "output_type": "display_data",
     "data": {
      "text/plain": "<Figure size 432x288 with 1 Axes>",
      "image/svg+xml": "<?xml version=\"1.0\" encoding=\"utf-8\" standalone=\"no\"?>\r\n<!DOCTYPE svg PUBLIC \"-//W3C//DTD SVG 1.1//EN\"\r\n  \"http://www.w3.org/Graphics/SVG/1.1/DTD/svg11.dtd\">\r\n<!-- Created with matplotlib (https://matplotlib.org/) -->\r\n<svg height=\"275.86625pt\" version=\"1.1\" viewBox=\"0 0 554.08125 275.86625\" width=\"554.08125pt\" xmlns=\"http://www.w3.org/2000/svg\" xmlns:xlink=\"http://www.w3.org/1999/xlink\">\r\n <defs>\r\n  <style type=\"text/css\">\r\n*{stroke-linecap:butt;stroke-linejoin:round;}\r\n  </style>\r\n </defs>\r\n <g id=\"figure_1\">\r\n  <g id=\"patch_1\">\r\n   <path d=\"M 0 275.86625 \r\nL 554.08125 275.86625 \r\nL 554.08125 0 \r\nL 0 0 \r\nz\r\n\" style=\"fill:#ffffff;\"/>\r\n  </g>\r\n  <g id=\"axes_1\">\r\n   <g id=\"patch_2\">\r\n    <path d=\"M 109.640625 239.375625 \r\nL 444.440625 239.375625 \r\nL 444.440625 21.935625 \r\nL 109.640625 21.935625 \r\nz\r\n\" style=\"fill:#eaeaf2;\"/>\r\n   </g>\r\n   <g id=\"matplotlib.axis_1\">\r\n    <g id=\"xtick_1\">\r\n     <g id=\"line2d_1\">\r\n      <path clip-path=\"url(#pb10f0aba73)\" d=\"M 142.212264 239.375625 \r\nL 142.212264 21.935625 \r\n\" style=\"fill:none;stroke:#ffffff;stroke-linecap:round;stroke-width:0.8;\"/>\r\n     </g>\r\n     <g id=\"text_1\">\r\n      <!-- −0.2 -->\r\n      <defs>\r\n       <path d=\"M 52.828125 31.203125 \r\nL 5.5625 31.203125 \r\nL 5.5625 39.40625 \r\nL 52.828125 39.40625 \r\nz\r\n\" id=\"ArialMT-8722\"/>\r\n       <path d=\"M 4.15625 35.296875 \r\nQ 4.15625 48 6.765625 55.734375 \r\nQ 9.375 63.484375 14.515625 67.671875 \r\nQ 19.671875 71.875 27.484375 71.875 \r\nQ 33.25 71.875 37.59375 69.546875 \r\nQ 41.9375 67.234375 44.765625 62.859375 \r\nQ 47.609375 58.5 49.21875 52.21875 \r\nQ 50.828125 45.953125 50.828125 35.296875 \r\nQ 50.828125 22.703125 48.234375 14.96875 \r\nQ 45.65625 7.234375 40.5 3 \r\nQ 35.359375 -1.21875 27.484375 -1.21875 \r\nQ 17.140625 -1.21875 11.234375 6.203125 \r\nQ 4.15625 15.140625 4.15625 35.296875 \r\nz\r\nM 13.1875 35.296875 \r\nQ 13.1875 17.671875 17.3125 11.828125 \r\nQ 21.4375 6 27.484375 6 \r\nQ 33.546875 6 37.671875 11.859375 \r\nQ 41.796875 17.71875 41.796875 35.296875 \r\nQ 41.796875 52.984375 37.671875 58.78125 \r\nQ 33.546875 64.59375 27.390625 64.59375 \r\nQ 21.34375 64.59375 17.71875 59.46875 \r\nQ 13.1875 52.9375 13.1875 35.296875 \r\nz\r\n\" id=\"ArialMT-48\"/>\r\n       <path d=\"M 9.078125 0 \r\nL 9.078125 10.015625 \r\nL 19.09375 10.015625 \r\nL 19.09375 0 \r\nz\r\n\" id=\"ArialMT-46\"/>\r\n       <path d=\"M 50.34375 8.453125 \r\nL 50.34375 0 \r\nL 3.03125 0 \r\nQ 2.9375 3.171875 4.046875 6.109375 \r\nQ 5.859375 10.9375 9.828125 15.625 \r\nQ 13.8125 20.3125 21.34375 26.46875 \r\nQ 33.015625 36.03125 37.109375 41.625 \r\nQ 41.21875 47.21875 41.21875 52.203125 \r\nQ 41.21875 57.421875 37.46875 61 \r\nQ 33.734375 64.59375 27.734375 64.59375 \r\nQ 21.390625 64.59375 17.578125 60.78125 \r\nQ 13.765625 56.984375 13.71875 50.25 \r\nL 4.6875 51.171875 \r\nQ 5.609375 61.28125 11.65625 66.578125 \r\nQ 17.71875 71.875 27.9375 71.875 \r\nQ 38.234375 71.875 44.234375 66.15625 \r\nQ 50.25 60.453125 50.25 52 \r\nQ 50.25 47.703125 48.484375 43.546875 \r\nQ 46.734375 39.40625 42.65625 34.8125 \r\nQ 38.578125 30.21875 29.109375 22.21875 \r\nQ 21.1875 15.578125 18.9375 13.203125 \r\nQ 16.703125 10.84375 15.234375 8.453125 \r\nz\r\n\" id=\"ArialMT-50\"/>\r\n      </defs>\r\n      <g style=\"fill:#262626;\" transform=\"translate(132.341951 253.533437)scale(0.1 -0.1)\">\r\n       <use xlink:href=\"#ArialMT-8722\"/>\r\n       <use x=\"58.398438\" xlink:href=\"#ArialMT-48\"/>\r\n       <use x=\"114.013672\" xlink:href=\"#ArialMT-46\"/>\r\n       <use x=\"141.796875\" xlink:href=\"#ArialMT-50\"/>\r\n      </g>\r\n     </g>\r\n    </g>\r\n    <g id=\"xtick_2\">\r\n     <g id=\"line2d_2\">\r\n      <path clip-path=\"url(#pb10f0aba73)\" d=\"M 180.734653 239.375625 \r\nL 180.734653 21.935625 \r\n\" style=\"fill:none;stroke:#ffffff;stroke-linecap:round;stroke-width:0.8;\"/>\r\n     </g>\r\n     <g id=\"text_2\">\r\n      <!-- 0.0 -->\r\n      <g style=\"fill:#262626;\" transform=\"translate(173.784653 253.533437)scale(0.1 -0.1)\">\r\n       <use xlink:href=\"#ArialMT-48\"/>\r\n       <use x=\"55.615234\" xlink:href=\"#ArialMT-46\"/>\r\n       <use x=\"83.398438\" xlink:href=\"#ArialMT-48\"/>\r\n      </g>\r\n     </g>\r\n    </g>\r\n    <g id=\"xtick_3\">\r\n     <g id=\"line2d_3\">\r\n      <path clip-path=\"url(#pb10f0aba73)\" d=\"M 219.257042 239.375625 \r\nL 219.257042 21.935625 \r\n\" style=\"fill:none;stroke:#ffffff;stroke-linecap:round;stroke-width:0.8;\"/>\r\n     </g>\r\n     <g id=\"text_3\">\r\n      <!-- 0.2 -->\r\n      <g style=\"fill:#262626;\" transform=\"translate(212.307042 253.533437)scale(0.1 -0.1)\">\r\n       <use xlink:href=\"#ArialMT-48\"/>\r\n       <use x=\"55.615234\" xlink:href=\"#ArialMT-46\"/>\r\n       <use x=\"83.398438\" xlink:href=\"#ArialMT-50\"/>\r\n      </g>\r\n     </g>\r\n    </g>\r\n    <g id=\"xtick_4\">\r\n     <g id=\"line2d_4\">\r\n      <path clip-path=\"url(#pb10f0aba73)\" d=\"M 257.779431 239.375625 \r\nL 257.779431 21.935625 \r\n\" style=\"fill:none;stroke:#ffffff;stroke-linecap:round;stroke-width:0.8;\"/>\r\n     </g>\r\n     <g id=\"text_4\">\r\n      <!-- 0.4 -->\r\n      <defs>\r\n       <path d=\"M 32.328125 0 \r\nL 32.328125 17.140625 \r\nL 1.265625 17.140625 \r\nL 1.265625 25.203125 \r\nL 33.9375 71.578125 \r\nL 41.109375 71.578125 \r\nL 41.109375 25.203125 \r\nL 50.78125 25.203125 \r\nL 50.78125 17.140625 \r\nL 41.109375 17.140625 \r\nL 41.109375 0 \r\nz\r\nM 32.328125 25.203125 \r\nL 32.328125 57.46875 \r\nL 9.90625 25.203125 \r\nz\r\n\" id=\"ArialMT-52\"/>\r\n      </defs>\r\n      <g style=\"fill:#262626;\" transform=\"translate(250.829431 253.533437)scale(0.1 -0.1)\">\r\n       <use xlink:href=\"#ArialMT-48\"/>\r\n       <use x=\"55.615234\" xlink:href=\"#ArialMT-46\"/>\r\n       <use x=\"83.398438\" xlink:href=\"#ArialMT-52\"/>\r\n      </g>\r\n     </g>\r\n    </g>\r\n    <g id=\"xtick_5\">\r\n     <g id=\"line2d_5\">\r\n      <path clip-path=\"url(#pb10f0aba73)\" d=\"M 296.301819 239.375625 \r\nL 296.301819 21.935625 \r\n\" style=\"fill:none;stroke:#ffffff;stroke-linecap:round;stroke-width:0.8;\"/>\r\n     </g>\r\n     <g id=\"text_5\">\r\n      <!-- 0.6 -->\r\n      <defs>\r\n       <path d=\"M 49.75 54.046875 \r\nL 41.015625 53.375 \r\nQ 39.84375 58.546875 37.703125 60.890625 \r\nQ 34.125 64.65625 28.90625 64.65625 \r\nQ 24.703125 64.65625 21.53125 62.3125 \r\nQ 17.390625 59.28125 14.984375 53.46875 \r\nQ 12.59375 47.65625 12.5 36.921875 \r\nQ 15.671875 41.75 20.265625 44.09375 \r\nQ 24.859375 46.4375 29.890625 46.4375 \r\nQ 38.671875 46.4375 44.84375 39.96875 \r\nQ 51.03125 33.5 51.03125 23.25 \r\nQ 51.03125 16.5 48.125 10.71875 \r\nQ 45.21875 4.9375 40.140625 1.859375 \r\nQ 35.0625 -1.21875 28.609375 -1.21875 \r\nQ 17.625 -1.21875 10.6875 6.859375 \r\nQ 3.765625 14.9375 3.765625 33.5 \r\nQ 3.765625 54.25 11.421875 63.671875 \r\nQ 18.109375 71.875 29.4375 71.875 \r\nQ 37.890625 71.875 43.28125 67.140625 \r\nQ 48.6875 62.40625 49.75 54.046875 \r\nz\r\nM 13.875 23.1875 \r\nQ 13.875 18.65625 15.796875 14.5 \r\nQ 17.71875 10.359375 21.1875 8.171875 \r\nQ 24.65625 6 28.46875 6 \r\nQ 34.03125 6 38.03125 10.484375 \r\nQ 42.046875 14.984375 42.046875 22.703125 \r\nQ 42.046875 30.125 38.078125 34.390625 \r\nQ 34.125 38.671875 28.125 38.671875 \r\nQ 22.171875 38.671875 18.015625 34.390625 \r\nQ 13.875 30.125 13.875 23.1875 \r\nz\r\n\" id=\"ArialMT-54\"/>\r\n      </defs>\r\n      <g style=\"fill:#262626;\" transform=\"translate(289.351819 253.533437)scale(0.1 -0.1)\">\r\n       <use xlink:href=\"#ArialMT-48\"/>\r\n       <use x=\"55.615234\" xlink:href=\"#ArialMT-46\"/>\r\n       <use x=\"83.398438\" xlink:href=\"#ArialMT-54\"/>\r\n      </g>\r\n     </g>\r\n    </g>\r\n    <g id=\"xtick_6\">\r\n     <g id=\"line2d_6\">\r\n      <path clip-path=\"url(#pb10f0aba73)\" d=\"M 334.824208 239.375625 \r\nL 334.824208 21.935625 \r\n\" style=\"fill:none;stroke:#ffffff;stroke-linecap:round;stroke-width:0.8;\"/>\r\n     </g>\r\n     <g id=\"text_6\">\r\n      <!-- 0.8 -->\r\n      <defs>\r\n       <path d=\"M 17.671875 38.8125 \r\nQ 12.203125 40.828125 9.5625 44.53125 \r\nQ 6.9375 48.25 6.9375 53.421875 \r\nQ 6.9375 61.234375 12.546875 66.546875 \r\nQ 18.171875 71.875 27.484375 71.875 \r\nQ 36.859375 71.875 42.578125 66.421875 \r\nQ 48.296875 60.984375 48.296875 53.171875 \r\nQ 48.296875 48.1875 45.671875 44.5 \r\nQ 43.0625 40.828125 37.75 38.8125 \r\nQ 44.34375 36.671875 47.78125 31.875 \r\nQ 51.21875 27.09375 51.21875 20.453125 \r\nQ 51.21875 11.28125 44.71875 5.03125 \r\nQ 38.234375 -1.21875 27.640625 -1.21875 \r\nQ 17.046875 -1.21875 10.546875 5.046875 \r\nQ 4.046875 11.328125 4.046875 20.703125 \r\nQ 4.046875 27.6875 7.59375 32.390625 \r\nQ 11.140625 37.109375 17.671875 38.8125 \r\nz\r\nM 15.921875 53.71875 \r\nQ 15.921875 48.640625 19.1875 45.40625 \r\nQ 22.46875 42.1875 27.6875 42.1875 \r\nQ 32.765625 42.1875 36.015625 45.375 \r\nQ 39.265625 48.578125 39.265625 53.21875 \r\nQ 39.265625 58.0625 35.90625 61.359375 \r\nQ 32.5625 64.65625 27.59375 64.65625 \r\nQ 22.5625 64.65625 19.234375 61.421875 \r\nQ 15.921875 58.203125 15.921875 53.71875 \r\nz\r\nM 13.09375 20.65625 \r\nQ 13.09375 16.890625 14.875 13.375 \r\nQ 16.65625 9.859375 20.171875 7.921875 \r\nQ 23.6875 6 27.734375 6 \r\nQ 34.03125 6 38.125 10.046875 \r\nQ 42.234375 14.109375 42.234375 20.359375 \r\nQ 42.234375 26.703125 38.015625 30.859375 \r\nQ 33.796875 35.015625 27.4375 35.015625 \r\nQ 21.234375 35.015625 17.15625 30.90625 \r\nQ 13.09375 26.8125 13.09375 20.65625 \r\nz\r\n\" id=\"ArialMT-56\"/>\r\n      </defs>\r\n      <g style=\"fill:#262626;\" transform=\"translate(327.874208 253.533437)scale(0.1 -0.1)\">\r\n       <use xlink:href=\"#ArialMT-48\"/>\r\n       <use x=\"55.615234\" xlink:href=\"#ArialMT-46\"/>\r\n       <use x=\"83.398438\" xlink:href=\"#ArialMT-56\"/>\r\n      </g>\r\n     </g>\r\n    </g>\r\n    <g id=\"xtick_7\">\r\n     <g id=\"line2d_7\">\r\n      <path clip-path=\"url(#pb10f0aba73)\" d=\"M 373.346597 239.375625 \r\nL 373.346597 21.935625 \r\n\" style=\"fill:none;stroke:#ffffff;stroke-linecap:round;stroke-width:0.8;\"/>\r\n     </g>\r\n     <g id=\"text_7\">\r\n      <!-- 1.0 -->\r\n      <defs>\r\n       <path d=\"M 37.25 0 \r\nL 28.46875 0 \r\nL 28.46875 56 \r\nQ 25.296875 52.984375 20.140625 49.953125 \r\nQ 14.984375 46.921875 10.890625 45.40625 \r\nL 10.890625 53.90625 \r\nQ 18.265625 57.375 23.78125 62.296875 \r\nQ 29.296875 67.234375 31.59375 71.875 \r\nL 37.25 71.875 \r\nz\r\n\" id=\"ArialMT-49\"/>\r\n      </defs>\r\n      <g style=\"fill:#262626;\" transform=\"translate(366.396597 253.533437)scale(0.1 -0.1)\">\r\n       <use xlink:href=\"#ArialMT-49\"/>\r\n       <use x=\"55.615234\" xlink:href=\"#ArialMT-46\"/>\r\n       <use x=\"83.398438\" xlink:href=\"#ArialMT-48\"/>\r\n      </g>\r\n     </g>\r\n    </g>\r\n    <g id=\"xtick_8\">\r\n     <g id=\"line2d_8\">\r\n      <path clip-path=\"url(#pb10f0aba73)\" d=\"M 411.868986 239.375625 \r\nL 411.868986 21.935625 \r\n\" style=\"fill:none;stroke:#ffffff;stroke-linecap:round;stroke-width:0.8;\"/>\r\n     </g>\r\n     <g id=\"text_8\">\r\n      <!-- 1.2 -->\r\n      <g style=\"fill:#262626;\" transform=\"translate(404.918986 253.533437)scale(0.1 -0.1)\">\r\n       <use xlink:href=\"#ArialMT-49\"/>\r\n       <use x=\"55.615234\" xlink:href=\"#ArialMT-46\"/>\r\n       <use x=\"83.398438\" xlink:href=\"#ArialMT-50\"/>\r\n      </g>\r\n     </g>\r\n    </g>\r\n    <g id=\"text_9\">\r\n     <!-- Household Purchased Product -->\r\n     <defs>\r\n      <path d=\"M 8.015625 0 \r\nL 8.015625 71.578125 \r\nL 17.484375 71.578125 \r\nL 17.484375 42.1875 \r\nL 54.6875 42.1875 \r\nL 54.6875 71.578125 \r\nL 64.15625 71.578125 \r\nL 64.15625 0 \r\nL 54.6875 0 \r\nL 54.6875 33.734375 \r\nL 17.484375 33.734375 \r\nL 17.484375 0 \r\nz\r\n\" id=\"ArialMT-72\"/>\r\n      <path d=\"M 3.328125 25.921875 \r\nQ 3.328125 40.328125 11.328125 47.265625 \r\nQ 18.015625 53.03125 27.640625 53.03125 \r\nQ 38.328125 53.03125 45.109375 46.015625 \r\nQ 51.90625 39.015625 51.90625 26.65625 \r\nQ 51.90625 16.65625 48.90625 10.90625 \r\nQ 45.90625 5.171875 40.15625 2 \r\nQ 34.421875 -1.171875 27.640625 -1.171875 \r\nQ 16.75 -1.171875 10.03125 5.8125 \r\nQ 3.328125 12.796875 3.328125 25.921875 \r\nz\r\nM 12.359375 25.921875 \r\nQ 12.359375 15.96875 16.703125 11.015625 \r\nQ 21.046875 6.0625 27.640625 6.0625 \r\nQ 34.1875 6.0625 38.53125 11.03125 \r\nQ 42.875 16.015625 42.875 26.21875 \r\nQ 42.875 35.84375 38.5 40.796875 \r\nQ 34.125 45.75 27.640625 45.75 \r\nQ 21.046875 45.75 16.703125 40.8125 \r\nQ 12.359375 35.890625 12.359375 25.921875 \r\nz\r\n\" id=\"ArialMT-111\"/>\r\n      <path d=\"M 40.578125 0 \r\nL 40.578125 7.625 \r\nQ 34.515625 -1.171875 24.125 -1.171875 \r\nQ 19.53125 -1.171875 15.546875 0.578125 \r\nQ 11.578125 2.34375 9.640625 5 \r\nQ 7.71875 7.671875 6.9375 11.53125 \r\nQ 6.390625 14.109375 6.390625 19.734375 \r\nL 6.390625 51.859375 \r\nL 15.1875 51.859375 \r\nL 15.1875 23.09375 \r\nQ 15.1875 16.21875 15.71875 13.8125 \r\nQ 16.546875 10.359375 19.234375 8.375 \r\nQ 21.921875 6.390625 25.875 6.390625 \r\nQ 29.828125 6.390625 33.296875 8.421875 \r\nQ 36.765625 10.453125 38.203125 13.9375 \r\nQ 39.65625 17.4375 39.65625 24.078125 \r\nL 39.65625 51.859375 \r\nL 48.4375 51.859375 \r\nL 48.4375 0 \r\nz\r\n\" id=\"ArialMT-117\"/>\r\n      <path d=\"M 3.078125 15.484375 \r\nL 11.765625 16.84375 \r\nQ 12.5 11.625 15.84375 8.84375 \r\nQ 19.1875 6.0625 25.203125 6.0625 \r\nQ 31.25 6.0625 34.171875 8.515625 \r\nQ 37.109375 10.984375 37.109375 14.3125 \r\nQ 37.109375 17.28125 34.515625 19 \r\nQ 32.71875 20.171875 25.53125 21.96875 \r\nQ 15.875 24.421875 12.140625 26.203125 \r\nQ 8.40625 27.984375 6.46875 31.125 \r\nQ 4.546875 34.28125 4.546875 38.09375 \r\nQ 4.546875 41.546875 6.125 44.5 \r\nQ 7.71875 47.46875 10.453125 49.421875 \r\nQ 12.5 50.921875 16.03125 51.96875 \r\nQ 19.578125 53.03125 23.640625 53.03125 \r\nQ 29.734375 53.03125 34.34375 51.265625 \r\nQ 38.96875 49.515625 41.15625 46.5 \r\nQ 43.359375 43.5 44.1875 38.484375 \r\nL 35.59375 37.3125 \r\nQ 35.015625 41.3125 32.203125 43.546875 \r\nQ 29.390625 45.796875 24.265625 45.796875 \r\nQ 18.21875 45.796875 15.625 43.796875 \r\nQ 13.03125 41.796875 13.03125 39.109375 \r\nQ 13.03125 37.40625 14.109375 36.03125 \r\nQ 15.1875 34.625 17.484375 33.6875 \r\nQ 18.796875 33.203125 25.25 31.453125 \r\nQ 34.578125 28.953125 38.25 27.359375 \r\nQ 41.9375 25.78125 44.03125 22.75 \r\nQ 46.140625 19.734375 46.140625 15.234375 \r\nQ 46.140625 10.84375 43.578125 6.953125 \r\nQ 41.015625 3.078125 36.171875 0.953125 \r\nQ 31.34375 -1.171875 25.25 -1.171875 \r\nQ 15.140625 -1.171875 9.84375 3.03125 \r\nQ 4.546875 7.234375 3.078125 15.484375 \r\nz\r\n\" id=\"ArialMT-115\"/>\r\n      <path d=\"M 42.09375 16.703125 \r\nL 51.171875 15.578125 \r\nQ 49.03125 7.625 43.21875 3.21875 \r\nQ 37.40625 -1.171875 28.375 -1.171875 \r\nQ 17 -1.171875 10.328125 5.828125 \r\nQ 3.65625 12.84375 3.65625 25.484375 \r\nQ 3.65625 38.578125 10.390625 45.796875 \r\nQ 17.140625 53.03125 27.875 53.03125 \r\nQ 38.28125 53.03125 44.875 45.953125 \r\nQ 51.46875 38.875 51.46875 26.03125 \r\nQ 51.46875 25.25 51.421875 23.6875 \r\nL 12.75 23.6875 \r\nQ 13.234375 15.140625 17.578125 10.59375 \r\nQ 21.921875 6.0625 28.421875 6.0625 \r\nQ 33.25 6.0625 36.671875 8.59375 \r\nQ 40.09375 11.140625 42.09375 16.703125 \r\nz\r\nM 13.234375 30.90625 \r\nL 42.1875 30.90625 \r\nQ 41.609375 37.453125 38.875 40.71875 \r\nQ 34.671875 45.796875 27.984375 45.796875 \r\nQ 21.921875 45.796875 17.796875 41.75 \r\nQ 13.671875 37.703125 13.234375 30.90625 \r\nz\r\n\" id=\"ArialMT-101\"/>\r\n      <path d=\"M 6.59375 0 \r\nL 6.59375 71.578125 \r\nL 15.375 71.578125 \r\nL 15.375 45.90625 \r\nQ 21.53125 53.03125 30.90625 53.03125 \r\nQ 36.671875 53.03125 40.921875 50.75 \r\nQ 45.171875 48.484375 47 44.484375 \r\nQ 48.828125 40.484375 48.828125 32.859375 \r\nL 48.828125 0 \r\nL 40.046875 0 \r\nL 40.046875 32.859375 \r\nQ 40.046875 39.453125 37.1875 42.453125 \r\nQ 34.328125 45.453125 29.109375 45.453125 \r\nQ 25.203125 45.453125 21.75 43.421875 \r\nQ 18.3125 41.40625 16.84375 37.9375 \r\nQ 15.375 34.46875 15.375 28.375 \r\nL 15.375 0 \r\nz\r\n\" id=\"ArialMT-104\"/>\r\n      <path d=\"M 6.390625 0 \r\nL 6.390625 71.578125 \r\nL 15.1875 71.578125 \r\nL 15.1875 0 \r\nz\r\n\" id=\"ArialMT-108\"/>\r\n      <path d=\"M 40.234375 0 \r\nL 40.234375 6.546875 \r\nQ 35.296875 -1.171875 25.734375 -1.171875 \r\nQ 19.53125 -1.171875 14.328125 2.25 \r\nQ 9.125 5.671875 6.265625 11.796875 \r\nQ 3.421875 17.921875 3.421875 25.875 \r\nQ 3.421875 33.640625 6 39.96875 \r\nQ 8.59375 46.296875 13.765625 49.65625 \r\nQ 18.953125 53.03125 25.34375 53.03125 \r\nQ 30.03125 53.03125 33.6875 51.046875 \r\nQ 37.359375 49.078125 39.65625 45.90625 \r\nL 39.65625 71.578125 \r\nL 48.390625 71.578125 \r\nL 48.390625 0 \r\nz\r\nM 12.453125 25.875 \r\nQ 12.453125 15.921875 16.640625 10.984375 \r\nQ 20.84375 6.0625 26.5625 6.0625 \r\nQ 32.328125 6.0625 36.34375 10.765625 \r\nQ 40.375 15.484375 40.375 25.140625 \r\nQ 40.375 35.796875 36.265625 40.765625 \r\nQ 32.171875 45.75 26.171875 45.75 \r\nQ 20.3125 45.75 16.375 40.96875 \r\nQ 12.453125 36.1875 12.453125 25.875 \r\nz\r\n\" id=\"ArialMT-100\"/>\r\n      <path id=\"ArialMT-32\"/>\r\n      <path d=\"M 7.71875 0 \r\nL 7.71875 71.578125 \r\nL 34.71875 71.578125 \r\nQ 41.84375 71.578125 45.609375 70.90625 \r\nQ 50.875 70.015625 54.4375 67.546875 \r\nQ 58.015625 65.09375 60.1875 60.640625 \r\nQ 62.359375 56.203125 62.359375 50.875 \r\nQ 62.359375 41.75 56.546875 35.421875 \r\nQ 50.734375 29.109375 35.546875 29.109375 \r\nL 17.1875 29.109375 \r\nL 17.1875 0 \r\nz\r\nM 17.1875 37.546875 \r\nL 35.6875 37.546875 \r\nQ 44.875 37.546875 48.734375 40.96875 \r\nQ 52.59375 44.390625 52.59375 50.59375 \r\nQ 52.59375 55.078125 50.3125 58.265625 \r\nQ 48.046875 61.46875 44.34375 62.5 \r\nQ 41.9375 63.140625 35.5 63.140625 \r\nL 17.1875 63.140625 \r\nz\r\n\" id=\"ArialMT-80\"/>\r\n      <path d=\"M 6.5 0 \r\nL 6.5 51.859375 \r\nL 14.40625 51.859375 \r\nL 14.40625 44 \r\nQ 17.4375 49.515625 20 51.265625 \r\nQ 22.5625 53.03125 25.640625 53.03125 \r\nQ 30.078125 53.03125 34.671875 50.203125 \r\nL 31.640625 42.046875 \r\nQ 28.421875 43.953125 25.203125 43.953125 \r\nQ 22.3125 43.953125 20.015625 42.21875 \r\nQ 17.71875 40.484375 16.75 37.40625 \r\nQ 15.28125 32.71875 15.28125 27.15625 \r\nL 15.28125 0 \r\nz\r\n\" id=\"ArialMT-114\"/>\r\n      <path d=\"M 40.4375 19 \r\nL 49.078125 17.875 \r\nQ 47.65625 8.9375 41.8125 3.875 \r\nQ 35.984375 -1.171875 27.484375 -1.171875 \r\nQ 16.84375 -1.171875 10.375 5.78125 \r\nQ 3.90625 12.75 3.90625 25.734375 \r\nQ 3.90625 34.125 6.6875 40.421875 \r\nQ 9.46875 46.734375 15.15625 49.875 \r\nQ 20.84375 53.03125 27.546875 53.03125 \r\nQ 35.984375 53.03125 41.359375 48.75 \r\nQ 46.734375 44.484375 48.25 36.625 \r\nL 39.703125 35.296875 \r\nQ 38.484375 40.53125 35.375 43.15625 \r\nQ 32.28125 45.796875 27.875 45.796875 \r\nQ 21.234375 45.796875 17.078125 41.03125 \r\nQ 12.9375 36.28125 12.9375 25.984375 \r\nQ 12.9375 15.53125 16.9375 10.796875 \r\nQ 20.953125 6.0625 27.390625 6.0625 \r\nQ 32.5625 6.0625 36.03125 9.234375 \r\nQ 39.5 12.40625 40.4375 19 \r\nz\r\n\" id=\"ArialMT-99\"/>\r\n      <path d=\"M 40.4375 6.390625 \r\nQ 35.546875 2.25 31.03125 0.53125 \r\nQ 26.515625 -1.171875 21.34375 -1.171875 \r\nQ 12.796875 -1.171875 8.203125 3 \r\nQ 3.609375 7.171875 3.609375 13.671875 \r\nQ 3.609375 17.484375 5.34375 20.625 \r\nQ 7.078125 23.78125 9.890625 25.6875 \r\nQ 12.703125 27.59375 16.21875 28.5625 \r\nQ 18.796875 29.25 24.03125 29.890625 \r\nQ 34.671875 31.15625 39.703125 32.90625 \r\nQ 39.75 34.71875 39.75 35.203125 \r\nQ 39.75 40.578125 37.25 42.78125 \r\nQ 33.890625 45.75 27.25 45.75 \r\nQ 21.046875 45.75 18.09375 43.578125 \r\nQ 15.140625 41.40625 13.71875 35.890625 \r\nL 5.125 37.0625 \r\nQ 6.296875 42.578125 8.984375 45.96875 \r\nQ 11.671875 49.359375 16.75 51.1875 \r\nQ 21.828125 53.03125 28.515625 53.03125 \r\nQ 35.15625 53.03125 39.296875 51.46875 \r\nQ 43.453125 49.90625 45.40625 47.53125 \r\nQ 47.359375 45.171875 48.140625 41.546875 \r\nQ 48.578125 39.3125 48.578125 33.453125 \r\nL 48.578125 21.734375 \r\nQ 48.578125 9.46875 49.140625 6.21875 \r\nQ 49.703125 2.984375 51.375 0 \r\nL 42.1875 0 \r\nQ 40.828125 2.734375 40.4375 6.390625 \r\nz\r\nM 39.703125 26.03125 \r\nQ 34.90625 24.078125 25.34375 22.703125 \r\nQ 19.921875 21.921875 17.671875 20.9375 \r\nQ 15.4375 19.96875 14.203125 18.09375 \r\nQ 12.984375 16.21875 12.984375 13.921875 \r\nQ 12.984375 10.40625 15.640625 8.0625 \r\nQ 18.3125 5.71875 23.4375 5.71875 \r\nQ 28.515625 5.71875 32.46875 7.9375 \r\nQ 36.421875 10.15625 38.28125 14.015625 \r\nQ 39.703125 17 39.703125 22.796875 \r\nz\r\n\" id=\"ArialMT-97\"/>\r\n      <path d=\"M 25.78125 7.859375 \r\nL 27.046875 0.09375 \r\nQ 23.34375 -0.6875 20.40625 -0.6875 \r\nQ 15.625 -0.6875 12.984375 0.828125 \r\nQ 10.359375 2.34375 9.28125 4.8125 \r\nQ 8.203125 7.28125 8.203125 15.1875 \r\nL 8.203125 45.015625 \r\nL 1.765625 45.015625 \r\nL 1.765625 51.859375 \r\nL 8.203125 51.859375 \r\nL 8.203125 64.703125 \r\nL 16.9375 69.96875 \r\nL 16.9375 51.859375 \r\nL 25.78125 51.859375 \r\nL 25.78125 45.015625 \r\nL 16.9375 45.015625 \r\nL 16.9375 14.703125 \r\nQ 16.9375 10.9375 17.40625 9.859375 \r\nQ 17.875 8.796875 18.921875 8.15625 \r\nQ 19.96875 7.515625 21.921875 7.515625 \r\nQ 23.390625 7.515625 25.78125 7.859375 \r\nz\r\n\" id=\"ArialMT-116\"/>\r\n     </defs>\r\n     <g style=\"fill:#262626;\" transform=\"translate(209.225 266.67875)scale(0.1 -0.1)\">\r\n      <use xlink:href=\"#ArialMT-72\"/>\r\n      <use x=\"72.216797\" xlink:href=\"#ArialMT-111\"/>\r\n      <use x=\"127.832031\" xlink:href=\"#ArialMT-117\"/>\r\n      <use x=\"183.447266\" xlink:href=\"#ArialMT-115\"/>\r\n      <use x=\"233.447266\" xlink:href=\"#ArialMT-101\"/>\r\n      <use x=\"289.0625\" xlink:href=\"#ArialMT-104\"/>\r\n      <use x=\"344.677734\" xlink:href=\"#ArialMT-111\"/>\r\n      <use x=\"400.292969\" xlink:href=\"#ArialMT-108\"/>\r\n      <use x=\"422.509766\" xlink:href=\"#ArialMT-100\"/>\r\n      <use x=\"478.125\" xlink:href=\"#ArialMT-32\"/>\r\n      <use x=\"505.908203\" xlink:href=\"#ArialMT-80\"/>\r\n      <use x=\"572.607422\" xlink:href=\"#ArialMT-117\"/>\r\n      <use x=\"628.222656\" xlink:href=\"#ArialMT-114\"/>\r\n      <use x=\"661.523438\" xlink:href=\"#ArialMT-99\"/>\r\n      <use x=\"711.523438\" xlink:href=\"#ArialMT-104\"/>\r\n      <use x=\"767.138672\" xlink:href=\"#ArialMT-97\"/>\r\n      <use x=\"822.753906\" xlink:href=\"#ArialMT-115\"/>\r\n      <use x=\"872.753906\" xlink:href=\"#ArialMT-101\"/>\r\n      <use x=\"928.369141\" xlink:href=\"#ArialMT-100\"/>\r\n      <use x=\"983.984375\" xlink:href=\"#ArialMT-32\"/>\r\n      <use x=\"1011.767578\" xlink:href=\"#ArialMT-80\"/>\r\n      <use x=\"1078.466797\" xlink:href=\"#ArialMT-114\"/>\r\n      <use x=\"1111.767578\" xlink:href=\"#ArialMT-111\"/>\r\n      <use x=\"1167.382812\" xlink:href=\"#ArialMT-100\"/>\r\n      <use x=\"1222.998047\" xlink:href=\"#ArialMT-117\"/>\r\n      <use x=\"1278.613281\" xlink:href=\"#ArialMT-99\"/>\r\n      <use x=\"1328.613281\" xlink:href=\"#ArialMT-116\"/>\r\n     </g>\r\n    </g>\r\n   </g>\r\n   <g id=\"matplotlib.axis_2\">\r\n    <g id=\"ytick_1\">\r\n     <g id=\"line2d_9\">\r\n      <path clip-path=\"url(#pb10f0aba73)\" d=\"M 109.640625 239.375625 \r\nL 444.440625 239.375625 \r\n\" style=\"fill:none;stroke:#ffffff;stroke-linecap:round;stroke-width:0.8;\"/>\r\n     </g>\r\n     <g id=\"text_10\">\r\n      <!-- 0 -->\r\n      <g style=\"fill:#262626;\" transform=\"translate(97.079687 242.954531)scale(0.1 -0.1)\">\r\n       <use xlink:href=\"#ArialMT-48\"/>\r\n      </g>\r\n     </g>\r\n    </g>\r\n    <g id=\"ytick_2\">\r\n     <g id=\"line2d_10\">\r\n      <path clip-path=\"url(#pb10f0aba73)\" d=\"M 109.640625 198.511323 \r\nL 444.440625 198.511323 \r\n\" style=\"fill:none;stroke:#ffffff;stroke-linecap:round;stroke-width:0.8;\"/>\r\n     </g>\r\n     <g id=\"text_11\">\r\n      <!-- 1 -->\r\n      <g style=\"fill:#262626;\" transform=\"translate(97.079687 202.090229)scale(0.1 -0.1)\">\r\n       <use xlink:href=\"#ArialMT-49\"/>\r\n      </g>\r\n     </g>\r\n    </g>\r\n    <g id=\"ytick_3\">\r\n     <g id=\"line2d_11\">\r\n      <path clip-path=\"url(#pb10f0aba73)\" d=\"M 109.640625 157.647021 \r\nL 444.440625 157.647021 \r\n\" style=\"fill:none;stroke:#ffffff;stroke-linecap:round;stroke-width:0.8;\"/>\r\n     </g>\r\n     <g id=\"text_12\">\r\n      <!-- 2 -->\r\n      <g style=\"fill:#262626;\" transform=\"translate(97.079687 161.225927)scale(0.1 -0.1)\">\r\n       <use xlink:href=\"#ArialMT-50\"/>\r\n      </g>\r\n     </g>\r\n    </g>\r\n    <g id=\"ytick_4\">\r\n     <g id=\"line2d_12\">\r\n      <path clip-path=\"url(#pb10f0aba73)\" d=\"M 109.640625 116.782718 \r\nL 444.440625 116.782718 \r\n\" style=\"fill:none;stroke:#ffffff;stroke-linecap:round;stroke-width:0.8;\"/>\r\n     </g>\r\n     <g id=\"text_13\">\r\n      <!-- 3 -->\r\n      <defs>\r\n       <path d=\"M 4.203125 18.890625 \r\nL 12.984375 20.0625 \r\nQ 14.5 12.59375 18.140625 9.296875 \r\nQ 21.78125 6 27 6 \r\nQ 33.203125 6 37.46875 10.296875 \r\nQ 41.75 14.59375 41.75 20.953125 \r\nQ 41.75 27 37.796875 30.921875 \r\nQ 33.84375 34.859375 27.734375 34.859375 \r\nQ 25.25 34.859375 21.53125 33.890625 \r\nL 22.515625 41.609375 \r\nQ 23.390625 41.5 23.921875 41.5 \r\nQ 29.546875 41.5 34.03125 44.421875 \r\nQ 38.53125 47.359375 38.53125 53.46875 \r\nQ 38.53125 58.296875 35.25 61.46875 \r\nQ 31.984375 64.65625 26.8125 64.65625 \r\nQ 21.6875 64.65625 18.265625 61.421875 \r\nQ 14.84375 58.203125 13.875 51.765625 \r\nL 5.078125 53.328125 \r\nQ 6.6875 62.15625 12.390625 67.015625 \r\nQ 18.109375 71.875 26.609375 71.875 \r\nQ 32.46875 71.875 37.390625 69.359375 \r\nQ 42.328125 66.84375 44.9375 62.5 \r\nQ 47.5625 58.15625 47.5625 53.265625 \r\nQ 47.5625 48.640625 45.0625 44.828125 \r\nQ 42.578125 41.015625 37.703125 38.765625 \r\nQ 44.046875 37.3125 47.5625 32.6875 \r\nQ 51.078125 28.078125 51.078125 21.140625 \r\nQ 51.078125 11.765625 44.234375 5.25 \r\nQ 37.40625 -1.265625 26.953125 -1.265625 \r\nQ 17.53125 -1.265625 11.296875 4.34375 \r\nQ 5.078125 9.96875 4.203125 18.890625 \r\nz\r\n\" id=\"ArialMT-51\"/>\r\n      </defs>\r\n      <g style=\"fill:#262626;\" transform=\"translate(97.079687 120.361625)scale(0.1 -0.1)\">\r\n       <use xlink:href=\"#ArialMT-51\"/>\r\n      </g>\r\n     </g>\r\n    </g>\r\n    <g id=\"ytick_5\">\r\n     <g id=\"line2d_13\">\r\n      <path clip-path=\"url(#pb10f0aba73)\" d=\"M 109.640625 75.918416 \r\nL 444.440625 75.918416 \r\n\" style=\"fill:none;stroke:#ffffff;stroke-linecap:round;stroke-width:0.8;\"/>\r\n     </g>\r\n     <g id=\"text_14\">\r\n      <!-- 4 -->\r\n      <g style=\"fill:#262626;\" transform=\"translate(97.079687 79.497322)scale(0.1 -0.1)\">\r\n       <use xlink:href=\"#ArialMT-52\"/>\r\n      </g>\r\n     </g>\r\n    </g>\r\n    <g id=\"ytick_6\">\r\n     <g id=\"line2d_14\">\r\n      <path clip-path=\"url(#pb10f0aba73)\" d=\"M 109.640625 35.054114 \r\nL 444.440625 35.054114 \r\n\" style=\"fill:none;stroke:#ffffff;stroke-linecap:round;stroke-width:0.8;\"/>\r\n     </g>\r\n     <g id=\"text_15\">\r\n      <!-- 5 -->\r\n      <defs>\r\n       <path d=\"M 4.15625 18.75 \r\nL 13.375 19.53125 \r\nQ 14.40625 12.796875 18.140625 9.390625 \r\nQ 21.875 6 27.15625 6 \r\nQ 33.5 6 37.890625 10.78125 \r\nQ 42.28125 15.578125 42.28125 23.484375 \r\nQ 42.28125 31 38.0625 35.34375 \r\nQ 33.84375 39.703125 27 39.703125 \r\nQ 22.75 39.703125 19.328125 37.765625 \r\nQ 15.921875 35.84375 13.96875 32.765625 \r\nL 5.71875 33.84375 \r\nL 12.640625 70.609375 \r\nL 48.25 70.609375 \r\nL 48.25 62.203125 \r\nL 19.671875 62.203125 \r\nL 15.828125 42.96875 \r\nQ 22.265625 47.46875 29.34375 47.46875 \r\nQ 38.71875 47.46875 45.15625 40.96875 \r\nQ 51.609375 34.46875 51.609375 24.265625 \r\nQ 51.609375 14.546875 45.953125 7.46875 \r\nQ 39.0625 -1.21875 27.15625 -1.21875 \r\nQ 17.390625 -1.21875 11.203125 4.25 \r\nQ 5.03125 9.71875 4.15625 18.75 \r\nz\r\n\" id=\"ArialMT-53\"/>\r\n      </defs>\r\n      <g style=\"fill:#262626;\" transform=\"translate(97.079687 38.63302)scale(0.1 -0.1)\">\r\n       <use xlink:href=\"#ArialMT-53\"/>\r\n      </g>\r\n     </g>\r\n    </g>\r\n    <g id=\"text_16\">\r\n     <!-- Frequency -->\r\n     <defs>\r\n      <path d=\"M 8.203125 0 \r\nL 8.203125 71.578125 \r\nL 56.5 71.578125 \r\nL 56.5 63.140625 \r\nL 17.671875 63.140625 \r\nL 17.671875 40.96875 \r\nL 51.265625 40.96875 \r\nL 51.265625 32.515625 \r\nL 17.671875 32.515625 \r\nL 17.671875 0 \r\nz\r\n\" id=\"ArialMT-70\"/>\r\n      <path d=\"M 39.65625 -19.875 \r\nL 39.65625 5.515625 \r\nQ 37.59375 2.640625 33.90625 0.734375 \r\nQ 30.21875 -1.171875 26.078125 -1.171875 \r\nQ 16.84375 -1.171875 10.171875 6.203125 \r\nQ 3.515625 13.578125 3.515625 26.421875 \r\nQ 3.515625 34.234375 6.21875 40.421875 \r\nQ 8.9375 46.625 14.078125 49.828125 \r\nQ 19.234375 53.03125 25.390625 53.03125 \r\nQ 35.015625 53.03125 40.53125 44.921875 \r\nL 40.53125 51.859375 \r\nL 48.4375 51.859375 \r\nL 48.4375 -19.875 \r\nz\r\nM 12.546875 26.078125 \r\nQ 12.546875 16.0625 16.75 11.0625 \r\nQ 20.953125 6.0625 26.8125 6.0625 \r\nQ 32.421875 6.0625 36.46875 10.8125 \r\nQ 40.53125 15.578125 40.53125 25.296875 \r\nQ 40.53125 35.640625 36.25 40.859375 \r\nQ 31.984375 46.09375 26.21875 46.09375 \r\nQ 20.515625 46.09375 16.53125 41.234375 \r\nQ 12.546875 36.375 12.546875 26.078125 \r\nz\r\n\" id=\"ArialMT-113\"/>\r\n      <path d=\"M 6.59375 0 \r\nL 6.59375 51.859375 \r\nL 14.5 51.859375 \r\nL 14.5 44.484375 \r\nQ 20.21875 53.03125 31 53.03125 \r\nQ 35.6875 53.03125 39.625 51.34375 \r\nQ 43.5625 49.65625 45.515625 46.921875 \r\nQ 47.46875 44.1875 48.25 40.4375 \r\nQ 48.734375 37.984375 48.734375 31.890625 \r\nL 48.734375 0 \r\nL 39.9375 0 \r\nL 39.9375 31.546875 \r\nQ 39.9375 36.921875 38.90625 39.578125 \r\nQ 37.890625 42.234375 35.28125 43.8125 \r\nQ 32.671875 45.40625 29.15625 45.40625 \r\nQ 23.53125 45.40625 19.453125 41.84375 \r\nQ 15.375 38.28125 15.375 28.328125 \r\nL 15.375 0 \r\nz\r\n\" id=\"ArialMT-110\"/>\r\n      <path d=\"M 6.203125 -19.96875 \r\nL 5.21875 -11.71875 \r\nQ 8.109375 -12.5 10.25 -12.5 \r\nQ 13.1875 -12.5 14.9375 -11.515625 \r\nQ 16.703125 -10.546875 17.828125 -8.796875 \r\nQ 18.65625 -7.46875 20.515625 -2.25 \r\nQ 20.75 -1.515625 21.296875 -0.09375 \r\nL 1.609375 51.859375 \r\nL 11.078125 51.859375 \r\nL 21.875 21.828125 \r\nQ 23.96875 16.109375 25.640625 9.8125 \r\nQ 27.15625 15.875 29.25 21.625 \r\nL 40.328125 51.859375 \r\nL 49.125 51.859375 \r\nL 29.390625 -0.875 \r\nQ 26.21875 -9.421875 24.46875 -12.640625 \r\nQ 22.125 -17 19.09375 -19.015625 \r\nQ 16.0625 -21.046875 11.859375 -21.046875 \r\nQ 9.328125 -21.046875 6.203125 -19.96875 \r\nz\r\n\" id=\"ArialMT-121\"/>\r\n     </defs>\r\n     <g style=\"fill:#262626;\" transform=\"translate(90.975 154.276719)rotate(-90)scale(0.1 -0.1)\">\r\n      <use xlink:href=\"#ArialMT-70\"/>\r\n      <use x=\"61.083984\" xlink:href=\"#ArialMT-114\"/>\r\n      <use x=\"94.384766\" xlink:href=\"#ArialMT-101\"/>\r\n      <use x=\"150\" xlink:href=\"#ArialMT-113\"/>\r\n      <use x=\"205.615234\" xlink:href=\"#ArialMT-117\"/>\r\n      <use x=\"261.230469\" xlink:href=\"#ArialMT-101\"/>\r\n      <use x=\"316.845703\" xlink:href=\"#ArialMT-110\"/>\r\n      <use x=\"372.460938\" xlink:href=\"#ArialMT-99\"/>\r\n      <use x=\"422.460938\" xlink:href=\"#ArialMT-121\"/>\r\n     </g>\r\n    </g>\r\n   </g>\r\n   <g id=\"patch_3\">\r\n    <path clip-path=\"url(#pb10f0aba73)\" d=\"M 180.734653 239.375625 \r\nL 204.811146 239.375625 \r\nL 204.811146 32.289911 \r\nL 180.734653 32.289911 \r\nz\r\n\" style=\"fill:#1f77b4;opacity:0.4;stroke:#ffffff;stroke-linejoin:miter;\"/>\r\n   </g>\r\n   <g id=\"patch_4\">\r\n    <path clip-path=\"url(#pb10f0aba73)\" d=\"M 204.811146 239.375625 \r\nL 228.887639 239.375625 \r\nL 228.887639 239.375625 \r\nL 204.811146 239.375625 \r\nz\r\n\" style=\"fill:#1f77b4;opacity:0.4;stroke:#ffffff;stroke-linejoin:miter;\"/>\r\n   </g>\r\n   <g id=\"patch_5\">\r\n    <path clip-path=\"url(#pb10f0aba73)\" d=\"M 228.887639 239.375625 \r\nL 252.964132 239.375625 \r\nL 252.964132 239.375625 \r\nL 228.887639 239.375625 \r\nz\r\n\" style=\"fill:#1f77b4;opacity:0.4;stroke:#ffffff;stroke-linejoin:miter;\"/>\r\n   </g>\r\n   <g id=\"patch_6\">\r\n    <path clip-path=\"url(#pb10f0aba73)\" d=\"M 252.964132 239.375625 \r\nL 277.040625 239.375625 \r\nL 277.040625 239.375625 \r\nL 252.964132 239.375625 \r\nz\r\n\" style=\"fill:#1f77b4;opacity:0.4;stroke:#ffffff;stroke-linejoin:miter;\"/>\r\n   </g>\r\n   <g id=\"patch_7\">\r\n    <path clip-path=\"url(#pb10f0aba73)\" d=\"M 277.040625 239.375625 \r\nL 301.117118 239.375625 \r\nL 301.117118 239.375625 \r\nL 277.040625 239.375625 \r\nz\r\n\" style=\"fill:#1f77b4;opacity:0.4;stroke:#ffffff;stroke-linejoin:miter;\"/>\r\n   </g>\r\n   <g id=\"patch_8\">\r\n    <path clip-path=\"url(#pb10f0aba73)\" d=\"M 301.117118 239.375625 \r\nL 325.193611 239.375625 \r\nL 325.193611 239.375625 \r\nL 301.117118 239.375625 \r\nz\r\n\" style=\"fill:#1f77b4;opacity:0.4;stroke:#ffffff;stroke-linejoin:miter;\"/>\r\n   </g>\r\n   <g id=\"patch_9\">\r\n    <path clip-path=\"url(#pb10f0aba73)\" d=\"M 325.193611 239.375625 \r\nL 349.270104 239.375625 \r\nL 349.270104 239.375625 \r\nL 325.193611 239.375625 \r\nz\r\n\" style=\"fill:#1f77b4;opacity:0.4;stroke:#ffffff;stroke-linejoin:miter;\"/>\r\n   </g>\r\n   <g id=\"patch_10\">\r\n    <path clip-path=\"url(#pb10f0aba73)\" d=\"M 349.270104 239.375625 \r\nL 373.346597 239.375625 \r\nL 373.346597 119.546921 \r\nL 349.270104 119.546921 \r\nz\r\n\" style=\"fill:#1f77b4;opacity:0.4;stroke:#ffffff;stroke-linejoin:miter;\"/>\r\n   </g>\r\n   <g id=\"line2d_15\">\r\n    <path clip-path=\"url(#pb10f0aba73)\" d=\"M 124.858807 237.612771 \r\nL 127.255371 237.208228 \r\nL 129.651935 236.538869 \r\nL 132.048499 235.558923 \r\nL 134.445063 234.209901 \r\nL 136.841627 232.422971 \r\nL 139.238191 230.122624 \r\nL 141.634755 227.231767 \r\nL 144.031319 223.678289 \r\nL 146.427883 219.402907 \r\nL 148.824447 214.367946 \r\nL 151.221012 208.566397 \r\nL 153.617576 202.03043 \r\nL 156.01414 194.838329 \r\nL 160.807268 179.051646 \r\nL 165.600396 162.822317 \r\nL 167.99696 155.21857 \r\nL 170.393524 148.354231 \r\nL 172.790088 142.520429 \r\nL 175.186652 137.97772 \r\nL 177.583216 134.936844 \r\nL 179.97978 133.542529 \r\nL 182.376344 133.862069 \r\nL 184.772908 135.879947 \r\nL 187.169473 139.499078 \r\nL 189.566037 144.548555 \r\nL 191.962601 150.797028 \r\nL 194.359165 157.970252 \r\nL 199.152293 173.899093 \r\nL 203.945421 190.031965 \r\nL 206.341985 197.57363 \r\nL 208.738549 204.534563 \r\nL 211.135113 210.805335 \r\nL 213.531677 216.325835 \r\nL 215.928241 221.079948 \r\nL 218.324805 225.088023 \r\nL 220.721369 228.398219 \r\nL 223.117934 231.077695 \r\nL 225.514498 233.204425 \r\nL 227.911062 234.860192 \r\nL 230.307626 236.125056 \r\nL 232.70419 237.073391 \r\nL 235.100754 237.771382 \r\nL 237.497318 238.275806 \r\nL 242.290446 238.883341 \r\nL 247.083574 239.169166 \r\nL 254.273266 239.325995 \r\nL 273.445779 239.375039 \r\nL 304.601112 239.300124 \r\nL 311.790804 239.090768 \r\nL 316.583932 238.739222 \r\nL 318.980496 238.447341 \r\nL 321.37706 238.043453 \r\nL 323.773624 237.494706 \r\nL 326.170188 236.762801 \r\nL 328.566752 235.804703 \r\nL 330.963316 234.574086 \r\nL 333.359881 233.023626 \r\nL 335.756445 231.108204 \r\nL 338.153009 228.788959 \r\nL 340.549573 226.038025 \r\nL 342.946137 222.843626 \r\nL 345.342701 219.215088 \r\nL 347.739265 215.187193 \r\nL 350.135829 210.82326 \r\nL 359.722085 192.270974 \r\nL 362.118649 188.120238 \r\nL 364.515213 184.504603 \r\nL 366.911777 181.582758 \r\nL 369.308342 179.488573 \r\nL 371.704906 178.320942 \r\nL 374.10147 178.136041 \r\nL 376.498034 178.942851 \r\nL 378.894598 180.702431 \r\nL 381.291162 183.331034 \r\nL 383.687726 186.706714 \r\nL 386.08429 190.6787 \r\nL 388.480854 195.078523 \r\nL 398.06711 213.603593 \r\nL 400.463674 217.764564 \r\nL 402.860238 221.545348 \r\nL 405.256803 224.900288 \r\nL 407.653367 227.810193 \r\nL 410.049931 230.278206 \r\nL 412.446495 232.324713 \r\nL 414.843059 233.981869 \r\nL 417.239623 235.288205 \r\nL 419.636187 236.283671 \r\nL 422.032751 237.005323 \r\nL 424.429315 237.483737 \r\nL 426.825879 237.740148 \r\nL 429.222443 237.784279 \r\nL 429.222443 237.784279 \r\n\" style=\"fill:none;stroke:#1f77b4;stroke-linecap:round;stroke-width:1.5;\"/>\r\n   </g>\r\n   <g id=\"patch_11\">\r\n    <path d=\"M 109.640625 239.375625 \r\nL 109.640625 21.935625 \r\n\" style=\"fill:none;stroke:#ffffff;stroke-linecap:square;stroke-linejoin:miter;stroke-width:0.8;\"/>\r\n   </g>\r\n   <g id=\"patch_12\">\r\n    <path d=\"M 444.440625 239.375625 \r\nL 444.440625 21.935625 \r\n\" style=\"fill:none;stroke:#ffffff;stroke-linecap:square;stroke-linejoin:miter;stroke-width:0.8;\"/>\r\n   </g>\r\n   <g id=\"patch_13\">\r\n    <path d=\"M 109.640625 239.375625 \r\nL 444.440625 239.375625 \r\n\" style=\"fill:none;stroke:#ffffff;stroke-linecap:square;stroke-linejoin:miter;stroke-width:0.8;\"/>\r\n   </g>\r\n   <g id=\"patch_14\">\r\n    <path d=\"M 109.640625 21.935625 \r\nL 444.440625 21.935625 \r\n\" style=\"fill:none;stroke:#ffffff;stroke-linecap:square;stroke-linejoin:miter;stroke-width:0.8;\"/>\r\n   </g>\r\n   <g id=\"text_17\">\r\n    <!-- Household Purchased Product distribution - - Mu: 0.3665445665445665 Sigma: 0.4818606098045599 -->\r\n    <defs>\r\n     <path d=\"M 6.640625 61.46875 \r\nL 6.640625 71.578125 \r\nL 15.4375 71.578125 \r\nL 15.4375 61.46875 \r\nz\r\nM 6.640625 0 \r\nL 6.640625 51.859375 \r\nL 15.4375 51.859375 \r\nL 15.4375 0 \r\nz\r\n\" id=\"ArialMT-105\"/>\r\n     <path d=\"M 14.703125 0 \r\nL 6.546875 0 \r\nL 6.546875 71.578125 \r\nL 15.328125 71.578125 \r\nL 15.328125 46.046875 \r\nQ 20.90625 53.03125 29.546875 53.03125 \r\nQ 34.328125 53.03125 38.59375 51.09375 \r\nQ 42.875 49.171875 45.625 45.671875 \r\nQ 48.390625 42.1875 49.953125 37.25 \r\nQ 51.515625 32.328125 51.515625 26.703125 \r\nQ 51.515625 13.375 44.921875 6.09375 \r\nQ 38.328125 -1.171875 29.109375 -1.171875 \r\nQ 19.921875 -1.171875 14.703125 6.5 \r\nz\r\nM 14.59375 26.3125 \r\nQ 14.59375 17 17.140625 12.84375 \r\nQ 21.296875 6.0625 28.375 6.0625 \r\nQ 34.125 6.0625 38.328125 11.0625 \r\nQ 42.53125 16.0625 42.53125 25.984375 \r\nQ 42.53125 36.140625 38.5 40.96875 \r\nQ 34.46875 45.796875 28.765625 45.796875 \r\nQ 23 45.796875 18.796875 40.796875 \r\nQ 14.59375 35.796875 14.59375 26.3125 \r\nz\r\n\" id=\"ArialMT-98\"/>\r\n     <path d=\"M 3.171875 21.484375 \r\nL 3.171875 30.328125 \r\nL 30.171875 30.328125 \r\nL 30.171875 21.484375 \r\nz\r\n\" id=\"ArialMT-45\"/>\r\n     <path d=\"M 7.421875 0 \r\nL 7.421875 71.578125 \r\nL 21.6875 71.578125 \r\nL 38.625 20.90625 \r\nQ 40.96875 13.8125 42.046875 10.296875 \r\nQ 43.265625 14.203125 45.84375 21.78125 \r\nL 62.984375 71.578125 \r\nL 75.734375 71.578125 \r\nL 75.734375 0 \r\nL 66.609375 0 \r\nL 66.609375 59.90625 \r\nL 45.796875 0 \r\nL 37.25 0 \r\nL 16.546875 60.9375 \r\nL 16.546875 0 \r\nz\r\n\" id=\"ArialMT-77\"/>\r\n     <path d=\"M 9.03125 41.84375 \r\nL 9.03125 51.859375 \r\nL 19.046875 51.859375 \r\nL 19.046875 41.84375 \r\nz\r\nM 9.03125 0 \r\nL 9.03125 10.015625 \r\nL 19.046875 10.015625 \r\nL 19.046875 0 \r\nz\r\n\" id=\"ArialMT-58\"/>\r\n     <path d=\"M 4.5 23 \r\nL 13.421875 23.78125 \r\nQ 14.0625 18.40625 16.375 14.96875 \r\nQ 18.703125 11.53125 23.578125 9.40625 \r\nQ 28.46875 7.28125 34.578125 7.28125 \r\nQ 39.984375 7.28125 44.140625 8.890625 \r\nQ 48.296875 10.5 50.3125 13.296875 \r\nQ 52.34375 16.109375 52.34375 19.4375 \r\nQ 52.34375 22.796875 50.390625 25.3125 \r\nQ 48.4375 27.828125 43.953125 29.546875 \r\nQ 41.0625 30.671875 31.203125 33.03125 \r\nQ 21.34375 35.40625 17.390625 37.5 \r\nQ 12.25 40.1875 9.734375 44.15625 \r\nQ 7.234375 48.140625 7.234375 53.078125 \r\nQ 7.234375 58.5 10.296875 63.203125 \r\nQ 13.375 67.921875 19.28125 70.359375 \r\nQ 25.203125 72.796875 32.421875 72.796875 \r\nQ 40.375 72.796875 46.453125 70.234375 \r\nQ 52.546875 67.671875 55.8125 62.6875 \r\nQ 59.078125 57.71875 59.328125 51.421875 \r\nL 50.25 50.734375 \r\nQ 49.515625 57.515625 45.28125 60.984375 \r\nQ 41.0625 64.453125 32.8125 64.453125 \r\nQ 24.21875 64.453125 20.28125 61.296875 \r\nQ 16.359375 58.15625 16.359375 53.71875 \r\nQ 16.359375 49.859375 19.140625 47.359375 \r\nQ 21.875 44.875 33.421875 42.265625 \r\nQ 44.96875 39.65625 49.265625 37.703125 \r\nQ 55.515625 34.8125 58.484375 30.390625 \r\nQ 61.46875 25.984375 61.46875 20.21875 \r\nQ 61.46875 14.5 58.203125 9.4375 \r\nQ 54.9375 4.390625 48.796875 1.578125 \r\nQ 42.671875 -1.21875 35.015625 -1.21875 \r\nQ 25.296875 -1.21875 18.71875 1.609375 \r\nQ 12.15625 4.4375 8.421875 10.125 \r\nQ 4.6875 15.828125 4.5 23 \r\nz\r\n\" id=\"ArialMT-83\"/>\r\n     <path d=\"M 4.984375 -4.296875 \r\nL 13.53125 -5.5625 \r\nQ 14.0625 -9.515625 16.5 -11.328125 \r\nQ 19.78125 -13.765625 25.4375 -13.765625 \r\nQ 31.546875 -13.765625 34.859375 -11.328125 \r\nQ 38.1875 -8.890625 39.359375 -4.5 \r\nQ 40.046875 -1.8125 39.984375 6.78125 \r\nQ 34.234375 0 25.640625 0 \r\nQ 14.9375 0 9.078125 7.71875 \r\nQ 3.21875 15.4375 3.21875 26.21875 \r\nQ 3.21875 33.640625 5.90625 39.90625 \r\nQ 8.59375 46.1875 13.6875 49.609375 \r\nQ 18.796875 53.03125 25.6875 53.03125 \r\nQ 34.859375 53.03125 40.828125 45.609375 \r\nL 40.828125 51.859375 \r\nL 48.921875 51.859375 \r\nL 48.921875 7.03125 \r\nQ 48.921875 -5.078125 46.453125 -10.125 \r\nQ 44 -15.1875 38.640625 -18.109375 \r\nQ 33.296875 -21.046875 25.484375 -21.046875 \r\nQ 16.21875 -21.046875 10.5 -16.875 \r\nQ 4.78125 -12.703125 4.984375 -4.296875 \r\nz\r\nM 12.25 26.859375 \r\nQ 12.25 16.65625 16.296875 11.96875 \r\nQ 20.359375 7.28125 26.46875 7.28125 \r\nQ 32.515625 7.28125 36.609375 11.9375 \r\nQ 40.71875 16.609375 40.71875 26.5625 \r\nQ 40.71875 36.078125 36.5 40.90625 \r\nQ 32.28125 45.75 26.3125 45.75 \r\nQ 20.453125 45.75 16.34375 40.984375 \r\nQ 12.25 36.234375 12.25 26.859375 \r\nz\r\n\" id=\"ArialMT-103\"/>\r\n     <path d=\"M 6.59375 0 \r\nL 6.59375 51.859375 \r\nL 14.453125 51.859375 \r\nL 14.453125 44.578125 \r\nQ 16.890625 48.390625 20.9375 50.703125 \r\nQ 25 53.03125 30.171875 53.03125 \r\nQ 35.9375 53.03125 39.625 50.640625 \r\nQ 43.3125 48.25 44.828125 43.953125 \r\nQ 50.984375 53.03125 60.84375 53.03125 \r\nQ 68.5625 53.03125 72.703125 48.75 \r\nQ 76.859375 44.484375 76.859375 35.59375 \r\nL 76.859375 0 \r\nL 68.109375 0 \r\nL 68.109375 32.671875 \r\nQ 68.109375 37.9375 67.25 40.25 \r\nQ 66.40625 42.578125 64.15625 43.984375 \r\nQ 61.921875 45.40625 58.890625 45.40625 \r\nQ 53.421875 45.40625 49.796875 41.765625 \r\nQ 46.1875 38.140625 46.1875 30.125 \r\nL 46.1875 0 \r\nL 37.40625 0 \r\nL 37.40625 33.6875 \r\nQ 37.40625 39.546875 35.25 42.46875 \r\nQ 33.109375 45.40625 28.21875 45.40625 \r\nQ 24.515625 45.40625 21.359375 43.453125 \r\nQ 18.21875 41.5 16.796875 37.734375 \r\nQ 15.375 33.984375 15.375 26.90625 \r\nL 15.375 0 \r\nz\r\n\" id=\"ArialMT-109\"/>\r\n     <path d=\"M 5.46875 16.546875 \r\nL 13.921875 17.328125 \r\nQ 14.984375 11.375 18.015625 8.6875 \r\nQ 21.046875 6 25.78125 6 \r\nQ 29.828125 6 32.875 7.859375 \r\nQ 35.9375 9.71875 37.890625 12.8125 \r\nQ 39.84375 15.921875 41.15625 21.1875 \r\nQ 42.484375 26.46875 42.484375 31.9375 \r\nQ 42.484375 32.515625 42.4375 33.6875 \r\nQ 39.796875 29.5 35.234375 26.875 \r\nQ 30.671875 24.265625 25.34375 24.265625 \r\nQ 16.453125 24.265625 10.296875 30.703125 \r\nQ 4.15625 37.15625 4.15625 47.703125 \r\nQ 4.15625 58.59375 10.578125 65.234375 \r\nQ 17 71.875 26.65625 71.875 \r\nQ 33.640625 71.875 39.421875 68.109375 \r\nQ 45.21875 64.359375 48.21875 57.390625 \r\nQ 51.21875 50.4375 51.21875 37.25 \r\nQ 51.21875 23.53125 48.234375 15.40625 \r\nQ 45.265625 7.28125 39.375 3.03125 \r\nQ 33.5 -1.21875 25.59375 -1.21875 \r\nQ 17.1875 -1.21875 11.859375 3.4375 \r\nQ 6.546875 8.109375 5.46875 16.546875 \r\nz\r\nM 41.453125 48.140625 \r\nQ 41.453125 55.71875 37.421875 60.15625 \r\nQ 33.40625 64.59375 27.734375 64.59375 \r\nQ 21.875 64.59375 17.53125 59.8125 \r\nQ 13.1875 55.03125 13.1875 47.40625 \r\nQ 13.1875 40.578125 17.3125 36.296875 \r\nQ 21.4375 32.03125 27.484375 32.03125 \r\nQ 33.59375 32.03125 37.515625 36.296875 \r\nQ 41.453125 40.578125 41.453125 48.140625 \r\nz\r\n\" id=\"ArialMT-57\"/>\r\n    </defs>\r\n    <g style=\"fill:#262626;\" transform=\"translate(7.2 15.935625)scale(0.12 -0.12)\">\r\n     <use xlink:href=\"#ArialMT-72\"/>\r\n     <use x=\"72.216797\" xlink:href=\"#ArialMT-111\"/>\r\n     <use x=\"127.832031\" xlink:href=\"#ArialMT-117\"/>\r\n     <use x=\"183.447266\" xlink:href=\"#ArialMT-115\"/>\r\n     <use x=\"233.447266\" xlink:href=\"#ArialMT-101\"/>\r\n     <use x=\"289.0625\" xlink:href=\"#ArialMT-104\"/>\r\n     <use x=\"344.677734\" xlink:href=\"#ArialMT-111\"/>\r\n     <use x=\"400.292969\" xlink:href=\"#ArialMT-108\"/>\r\n     <use x=\"422.509766\" xlink:href=\"#ArialMT-100\"/>\r\n     <use x=\"478.125\" xlink:href=\"#ArialMT-32\"/>\r\n     <use x=\"505.908203\" xlink:href=\"#ArialMT-80\"/>\r\n     <use x=\"572.607422\" xlink:href=\"#ArialMT-117\"/>\r\n     <use x=\"628.222656\" xlink:href=\"#ArialMT-114\"/>\r\n     <use x=\"661.523438\" xlink:href=\"#ArialMT-99\"/>\r\n     <use x=\"711.523438\" xlink:href=\"#ArialMT-104\"/>\r\n     <use x=\"767.138672\" xlink:href=\"#ArialMT-97\"/>\r\n     <use x=\"822.753906\" xlink:href=\"#ArialMT-115\"/>\r\n     <use x=\"872.753906\" xlink:href=\"#ArialMT-101\"/>\r\n     <use x=\"928.369141\" xlink:href=\"#ArialMT-100\"/>\r\n     <use x=\"983.984375\" xlink:href=\"#ArialMT-32\"/>\r\n     <use x=\"1011.767578\" xlink:href=\"#ArialMT-80\"/>\r\n     <use x=\"1078.466797\" xlink:href=\"#ArialMT-114\"/>\r\n     <use x=\"1111.767578\" xlink:href=\"#ArialMT-111\"/>\r\n     <use x=\"1167.382812\" xlink:href=\"#ArialMT-100\"/>\r\n     <use x=\"1222.998047\" xlink:href=\"#ArialMT-117\"/>\r\n     <use x=\"1278.613281\" xlink:href=\"#ArialMT-99\"/>\r\n     <use x=\"1328.613281\" xlink:href=\"#ArialMT-116\"/>\r\n     <use x=\"1356.396484\" xlink:href=\"#ArialMT-32\"/>\r\n     <use x=\"1384.179688\" xlink:href=\"#ArialMT-100\"/>\r\n     <use x=\"1439.794922\" xlink:href=\"#ArialMT-105\"/>\r\n     <use x=\"1462.011719\" xlink:href=\"#ArialMT-115\"/>\r\n     <use x=\"1512.011719\" xlink:href=\"#ArialMT-116\"/>\r\n     <use x=\"1539.794922\" xlink:href=\"#ArialMT-114\"/>\r\n     <use x=\"1573.095703\" xlink:href=\"#ArialMT-105\"/>\r\n     <use x=\"1595.3125\" xlink:href=\"#ArialMT-98\"/>\r\n     <use x=\"1650.927734\" xlink:href=\"#ArialMT-117\"/>\r\n     <use x=\"1706.542969\" xlink:href=\"#ArialMT-116\"/>\r\n     <use x=\"1734.326172\" xlink:href=\"#ArialMT-105\"/>\r\n     <use x=\"1756.542969\" xlink:href=\"#ArialMT-111\"/>\r\n     <use x=\"1812.158203\" xlink:href=\"#ArialMT-110\"/>\r\n     <use x=\"1867.773438\" xlink:href=\"#ArialMT-32\"/>\r\n     <use x=\"1895.556641\" xlink:href=\"#ArialMT-45\"/>\r\n     <use x=\"1928.857422\" xlink:href=\"#ArialMT-45\"/>\r\n     <use x=\"1962.158203\" xlink:href=\"#ArialMT-32\"/>\r\n     <use x=\"1989.941406\" xlink:href=\"#ArialMT-77\"/>\r\n     <use x=\"2073.242188\" xlink:href=\"#ArialMT-117\"/>\r\n     <use x=\"2128.857422\" xlink:href=\"#ArialMT-58\"/>\r\n     <use x=\"2156.640625\" xlink:href=\"#ArialMT-32\"/>\r\n     <use x=\"2184.423828\" xlink:href=\"#ArialMT-48\"/>\r\n     <use x=\"2240.039062\" xlink:href=\"#ArialMT-46\"/>\r\n     <use x=\"2267.822266\" xlink:href=\"#ArialMT-51\"/>\r\n     <use x=\"2323.4375\" xlink:href=\"#ArialMT-54\"/>\r\n     <use x=\"2379.052734\" xlink:href=\"#ArialMT-54\"/>\r\n     <use x=\"2434.667969\" xlink:href=\"#ArialMT-53\"/>\r\n     <use x=\"2490.283203\" xlink:href=\"#ArialMT-52\"/>\r\n     <use x=\"2545.898438\" xlink:href=\"#ArialMT-52\"/>\r\n     <use x=\"2601.513672\" xlink:href=\"#ArialMT-53\"/>\r\n     <use x=\"2657.128906\" xlink:href=\"#ArialMT-54\"/>\r\n     <use x=\"2712.744141\" xlink:href=\"#ArialMT-54\"/>\r\n     <use x=\"2768.359375\" xlink:href=\"#ArialMT-53\"/>\r\n     <use x=\"2823.974609\" xlink:href=\"#ArialMT-52\"/>\r\n     <use x=\"2879.589844\" xlink:href=\"#ArialMT-52\"/>\r\n     <use x=\"2935.205078\" xlink:href=\"#ArialMT-53\"/>\r\n     <use x=\"2990.820312\" xlink:href=\"#ArialMT-54\"/>\r\n     <use x=\"3046.435547\" xlink:href=\"#ArialMT-54\"/>\r\n     <use x=\"3102.050781\" xlink:href=\"#ArialMT-53\"/>\r\n     <use x=\"3157.666016\" xlink:href=\"#ArialMT-32\"/>\r\n     <use x=\"3185.449219\" xlink:href=\"#ArialMT-83\"/>\r\n     <use x=\"3252.148438\" xlink:href=\"#ArialMT-105\"/>\r\n     <use x=\"3274.365234\" xlink:href=\"#ArialMT-103\"/>\r\n     <use x=\"3329.980469\" xlink:href=\"#ArialMT-109\"/>\r\n     <use x=\"3413.28125\" xlink:href=\"#ArialMT-97\"/>\r\n     <use x=\"3468.896484\" xlink:href=\"#ArialMT-58\"/>\r\n     <use x=\"3496.679688\" xlink:href=\"#ArialMT-32\"/>\r\n     <use x=\"3524.462891\" xlink:href=\"#ArialMT-48\"/>\r\n     <use x=\"3580.078125\" xlink:href=\"#ArialMT-46\"/>\r\n     <use x=\"3607.861328\" xlink:href=\"#ArialMT-52\"/>\r\n     <use x=\"3663.476562\" xlink:href=\"#ArialMT-56\"/>\r\n     <use x=\"3719.091797\" xlink:href=\"#ArialMT-49\"/>\r\n     <use x=\"3774.707031\" xlink:href=\"#ArialMT-56\"/>\r\n     <use x=\"3830.322266\" xlink:href=\"#ArialMT-54\"/>\r\n     <use x=\"3885.9375\" xlink:href=\"#ArialMT-48\"/>\r\n     <use x=\"3941.552734\" xlink:href=\"#ArialMT-54\"/>\r\n     <use x=\"3997.167969\" xlink:href=\"#ArialMT-48\"/>\r\n     <use x=\"4052.783203\" xlink:href=\"#ArialMT-57\"/>\r\n     <use x=\"4108.398438\" xlink:href=\"#ArialMT-56\"/>\r\n     <use x=\"4164.013672\" xlink:href=\"#ArialMT-48\"/>\r\n     <use x=\"4219.628906\" xlink:href=\"#ArialMT-52\"/>\r\n     <use x=\"4275.244141\" xlink:href=\"#ArialMT-53\"/>\r\n     <use x=\"4330.859375\" xlink:href=\"#ArialMT-53\"/>\r\n     <use x=\"4386.474609\" xlink:href=\"#ArialMT-57\"/>\r\n     <use x=\"4442.089844\" xlink:href=\"#ArialMT-57\"/>\r\n    </g>\r\n   </g>\r\n   <g id=\"legend_1\">\r\n    <g id=\"patch_15\">\r\n     <path d=\"M 398.21875 44.080937 \r\nL 437.440625 44.080937 \r\nQ 439.440625 44.080937 439.440625 42.080937 \r\nL 439.440625 28.935625 \r\nQ 439.440625 26.935625 437.440625 26.935625 \r\nL 398.21875 26.935625 \r\nQ 396.21875 26.935625 396.21875 28.935625 \r\nL 396.21875 42.080937 \r\nQ 396.21875 44.080937 398.21875 44.080937 \r\nz\r\n\" style=\"fill:#eaeaf2;opacity:0.8;stroke:#cccccc;stroke-linejoin:miter;\"/>\r\n    </g>\r\n    <g id=\"patch_16\">\r\n     <path d=\"M 400.21875 38.093437 \r\nL 420.21875 38.093437 \r\nL 420.21875 31.093437 \r\nL 400.21875 31.093437 \r\nz\r\n\" style=\"fill:#1f77b4;opacity:0.4;stroke:#ffffff;stroke-linejoin:miter;\"/>\r\n    </g>\r\n    <g id=\"text_18\">\r\n     <!-- N -->\r\n     <defs>\r\n      <path d=\"M 7.625 0 \r\nL 7.625 71.578125 \r\nL 17.328125 71.578125 \r\nL 54.9375 15.375 \r\nL 54.9375 71.578125 \r\nL 64.015625 71.578125 \r\nL 64.015625 0 \r\nL 54.296875 0 \r\nL 16.703125 56.25 \r\nL 16.703125 0 \r\nz\r\n\" id=\"ArialMT-78\"/>\r\n     </defs>\r\n     <g style=\"fill:#262626;\" transform=\"translate(428.21875 38.093437)scale(0.1 -0.1)\">\r\n      <use xlink:href=\"#ArialMT-78\"/>\r\n     </g>\r\n    </g>\r\n   </g>\r\n  </g>\r\n </g>\r\n <defs>\r\n  <clipPath id=\"pb10f0aba73\">\r\n   <rect height=\"217.44\" width=\"334.8\" x=\"109.640625\" y=\"21.935625\"/>\r\n  </clipPath>\r\n </defs>\r\n</svg>\r\n",
      "image/png": "[encoded data removed]"
     },
     "metadata": {}
    }
   ],
   "source": [
    "sns.distplot(checkpoint_3['Household Purchased Product']); # distribution plot with normalized fitting\n",
    "\n",
    "plt.legend('Normal distribution')\n",
    "plt.ylabel('Frequency')\n",
    "plt.title('Household Purchased Product distribution -- Mu:' + ' ' + str(mu) + ' ' + 'Sigma:' + ' ' + str(sigma) )\n"
   ]
  },
  {
   "cell_type": "markdown",
   "metadata": {},
   "source": [
    "    As a binary variable we wont need to standardize it"
   ]
  },
  {
   "cell_type": "markdown",
   "metadata": {},
   "source": [
    "        6.3 - Checking our data correlation"
   ]
  },
  {
   "cell_type": "code",
   "execution_count": 131,
   "metadata": {},
   "outputs": [],
   "source": [
    "corrmat = abs(checkpoint_3.corr()) # dataframe correlation"
   ]
  },
  {
   "cell_type": "code",
   "execution_count": 132,
   "metadata": {},
   "outputs": [],
   "source": [
    "#plt.figure(figsize=(20,20))\n",
    "#sns.heatmap(corrmat, square=True, robust=True); # matrix correlation"
   ]
  },
  {
   "cell_type": "markdown",
   "metadata": {},
   "source": [
    "        6.4 - Feature Selection"
   ]
  },
  {
   "cell_type": "markdown",
   "metadata": {},
   "source": [
    "            6.4.1 - Pearson Correlation (Filtering Metod)"
   ]
  },
  {
   "cell_type": "markdown",
   "metadata": {},
   "source": [
    "                Let's target to our objective. The prediction of the Percentage of a given Household buy a AAA product"
   ]
  },
  {
   "cell_type": "code",
   "execution_count": 133,
   "metadata": {},
   "outputs": [],
   "source": [
    "k = 10 #number of variables for heatmap\n",
    "\n",
    "cols = corrmat.nlargest(k, 'Household Purchased Product')['Household Purchased Product'].index # The tenth greater correlation columns\n",
    "\n",
    "focus_corr = abs(np.corrcoef(checkpoint_3[cols].values.T)) # correlation calculated considering only the tenth more correlated columns\n",
    "\n",
    "#plt.figure(figsize=(15,10))\n",
    "\n",
    "#hm = sns.heatmap(focus_corr, cbar=True, annot=True, square=True, fmt='.2f', annot_kws={'size': 10}, yticklabels=cols.values, xticklabels=cols.values) # correlation matrix\n",
    "\n",
    "#plt.show()"
   ]
  },
  {
   "cell_type": "markdown",
   "metadata": {},
   "source": [
    "                We have narrow down to 10 features. However, for linear regression, we still need to check intra-dependencies among those features. In here, we will consider a set of dependent variables when they have a correlation magnitude higher than 55%."
   ]
  },
  {
   "cell_type": "code",
   "execution_count": 134,
   "metadata": {},
   "outputs": [],
   "source": [
    "cols_greater = cols[1:-2]\n",
    "\n",
    "focus_corr_greater = abs(np.corrcoef(checkpoint_3[cols_greater].values.T)) # correlation calculated considering only the tenth more correlated columns\n",
    "\n",
    "#plt.figure(figsize=(15,10))\n",
    "\n",
    "#hm = sns.heatmap(focus_corr_greater, cbar=True, annot=True, square=True, fmt='.2f', annot_kws={'size': 10}, yticklabels=cols_greater.values, xticklabels=cols_greater.values) # correlation matrix\n",
    "\n",
    "#plt.show()"
   ]
  },
  {
   "cell_type": "markdown",
   "metadata": {},
   "source": [
    "                As we can see, the columns Total Number of Purchased Product and Purchased Product 7 are highly correlated. Therefore, we only need to maintain one of them. In this case, we will maintain the Total Number of Purchased Product because it has a higher correlation score with the target feature than the other."
   ]
  },
  {
   "cell_type": "code",
   "execution_count": 135,
   "metadata": {},
   "outputs": [],
   "source": [
    "pearson_features = cols_greater.drop('Purchased Product 7').tolist() # saving our features selecter using the filtering method (Pearson Correlation)"
   ]
  },
  {
   "cell_type": "markdown",
   "metadata": {},
   "source": [
    "            6.4.2 - Recursive Feature Elimination"
   ]
  },
  {
   "cell_type": "markdown",
   "metadata": {},
   "source": [
    "                6.4.2.1 - Lets import our sklearn libraries to analyse"
   ]
  },
  {
   "cell_type": "code",
   "execution_count": 136,
   "metadata": {},
   "outputs": [],
   "source": [
    "from sklearn.feature_selection import RFE\n",
    "from sklearn.linear_model import LogisticRegression\n",
    "from sklearn.model_selection import train_test_split\n",
    "from sklearn.preprocessing import MinMaxScaler\n",
    "from sklearn.preprocessing import StandardScaler\n",
    "from sklearn.metrics import classification_report"
   ]
  },
  {
   "cell_type": "markdown",
   "metadata": {},
   "source": [
    "                6.4.2.2 - Create the the label data, expected output using our checkpoint3 and converting it to array"
   ]
  },
  {
   "cell_type": "code",
   "execution_count": 137,
   "metadata": {},
   "outputs": [],
   "source": [
    "entry = checkpoint_3.drop(columns='Household Purchased Product').values # converting our features to be analyzed by the RFE method to array type\n",
    "\n",
    "target = checkpoint_3['Household Purchased Product'].values # converting our target to array type"
   ]
  },
  {
   "cell_type": "code",
   "execution_count": 138,
   "metadata": {},
   "outputs": [],
   "source": [
    "model = LogisticRegression(solver='lbfgs', n_jobs= 9, penalty='l2') # lbfgs solver is recommended for large datasets and we choose l1 norm for a better convergency"
   ]
  },
  {
   "cell_type": "markdown",
   "metadata": {},
   "source": [
    "                6.4.2.3 - Defining Model"
   ]
  },
  {
   "cell_type": "markdown",
   "metadata": {},
   "source": [
    "                6.4.2.3 - RFE experiment for multiples number of possible features"
   ]
  },
  {
   "cell_type": "code",
   "execution_count": 139,
   "metadata": {},
   "outputs": [
    {
     "output_type": "display_data",
     "data": {
      "text/plain": "HBox(children=(FloatProgress(value=0.0, description='RFE Optimum Number of Features', max=7.0, style=ProgressS…",
      "application/vnd.jupyter.widget-view+json": {
       "version_major": 2,
       "version_minor": 0,
       "model_id": "414b377c22ad49dfa738239684b9b554"
      }
     },
     "metadata": {}
    },
    {
     "output_type": "stream",
     "name": "stdout",
     "text": "\n"
    }
   ],
   "source": [
    "import numpy.matlib as matlib # for data augmentation procedure\n",
    "\n",
    "number_possible_features = np.arange(3, 10) # list of number of possible features\n",
    "           \n",
    "features_list_score = [] # list to track calculated scores\n",
    "\n",
    "selected_features = [] # list to track selected features\n",
    "\n",
    "for n in tqdm_notebook(range(len(number_possible_features)), desc='RFE Optimum Number of Features'):\n",
    "\n",
    "        rfe = RFE(model, number_possible_features[n]) # defining RFE experiment\n",
    "\n",
    "        rfe.fit(MinMaxScaler().fit_transform(StandardScaler().fit_transform(entry)), target); # fitting\n",
    "\n",
    "        temp = pd.Series(rfe.support_,  index = list(checkpoint_3.drop(columns='Household Purchased Product').columns)) # selecting RFE columns features\n",
    "\n",
    "        tmp_selected_features = temp[temp==True].index.tolist()\n",
    "\n",
    "        selected_features.append(tmp_selected_features) # appending to our list\n",
    "\n",
    "        x_train, x_test, y_train, y_test = train_test_split(MinMaxScaler().fit_transform(checkpoint_3[tmp_selected_features]), target, test_size = 0.7, random_state = 42, shuffle=True)\n",
    "\n",
    "\n",
    "        x2 = np.matlib.repmat(x_train, 10, 1) # as we have an imbalanced sample of classes, we perform a data augmentation procedure to avoid miss prediction\n",
    "\n",
    "        y2 = np.matlib.repmat(y_train, 10, 1).ravel() # as we have an imbalanced sample of classes, we perform a data augmentation procedure to avoid miss prediction\n",
    "\n",
    "        model.fit(x2, y2) # fitting the model\n",
    "\n",
    "        tmp_score = model.score(x_test, y_test) # scoring the model \n",
    "\n",
    "        features_list_score.append(tmp_score) # appending to the score list\n",
    "        "
   ]
  },
  {
   "cell_type": "code",
   "execution_count": 140,
   "metadata": {},
   "outputs": [
    {
     "output_type": "stream",
     "name": "stdout",
     "text": "Selected features for K = 3 \n\n['Purchased Product 7', 'Purchased Product 8', 'Total Number of Purchased Products'] \n\nCorresponding Score: 1.0\nSelected features for K = 4 \n\n['Purchased Product 2', 'Purchased Product 7', 'Purchased Product 8', 'Total Number of Purchased Products'] \n\nCorresponding Score: 1.0\nSelected features for K = 5 \n\n['Purchased Product 1', 'Purchased Product 2', 'Purchased Product 7', 'Purchased Product 8', 'Total Number of Purchased Products'] \n\nCorresponding Score: 1.0\nSelected features for K = 6 \n\n['Purchased Product 1', 'Purchased Product 2', 'Purchased Product 5', 'Purchased Product 7', 'Purchased Product 8', 'Total Number of Purchased Products'] \n\nCorresponding Score: 0.9979072200906871\nSelected features for K = 7 \n\n['Purchased Product 1', 'Purchased Product 2', 'Purchased Product 3', 'Purchased Product 5', 'Purchased Product 7', 'Purchased Product 8', 'Total Number of Purchased Products'] \n\nCorresponding Score: 0.9996512033484478\nSelected features for K = 8 \n\n['Purchased Product 1', 'Purchased Product 2', 'Purchased Product 3', 'Purchased Product 5', 'Purchased Product 6', 'Purchased Product 7', 'Purchased Product 8', 'Total Number of Purchased Products'] \n\nCorresponding Score: 0.9996512033484478\nSelected features for K = 9 \n\n['Purchased Product 1', 'Purchased Product 2', 'Purchased Product 3', 'Purchased Product 5', 'Purchased Product 6', 'Purchased Product 7', 'Purchased Product 8', 'Total Number of Purchased Products', 'Member Type_Primary'] \n\nCorresponding Score: 0.9996512033484478\n"
    }
   ],
   "source": [
    "for i in range(len(selected_features)):\n",
    "\n",
    "    print('Selected features for K =' + ' ' + str(i+3), '\\n')\n",
    "\n",
    "    print(selected_features[i], '\\n')\n",
    "\n",
    "    print('Corresponding Score:' + ' ' + str(features_list_score[i]))"
   ]
  },
  {
   "cell_type": "markdown",
   "metadata": {},
   "source": [
    "    We have seen that for K till 5 we maintain a score equal 1. In this sense we choose the biggest K to use the most of the available features"
   ]
  },
  {
   "cell_type": "code",
   "execution_count": 143,
   "metadata": {},
   "outputs": [],
   "source": [
    "rfe_features = selected_features[2] # choosing RFE selected features"
   ]
  },
  {
   "cell_type": "markdown",
   "metadata": {},
   "source": [
    "        6.5 - Prediction of Purchased Probability using select features "
   ]
  },
  {
   "cell_type": "markdown",
   "metadata": {},
   "source": [
    "                6.5.1 - For Features Selected using the Filtering Method"
   ]
  },
  {
   "cell_type": "markdown",
   "metadata": {},
   "source": [
    "                6.5.1.1 - Performing Prediction"
   ]
  },
  {
   "cell_type": "code",
   "execution_count": 144,
   "metadata": {},
   "outputs": [
    {
     "output_type": "execute_result",
     "data": {
      "text/plain": "1.0"
     },
     "metadata": {},
     "execution_count": 144
    }
   ],
   "source": [
    "model = LogisticRegression(solver='lbfgs', n_jobs= 9, penalty='l2') # lbfgs solver is recommended for large datasets and we choose l2 norm for a better convergency\n",
    "\n",
    "x_train, x_test, y_train, y_test = train_test_split(MinMaxScaler().fit_transform(checkpoint_3[pearson_features]), target, test_size = 0.7, random_state = 42, shuffle=True) # splitting dataset using features selected for the filtering method\n",
    "\n",
    "x2 = np.matlib.repmat(x_train, 10, 1) # as we have an imbalanced sample of classes, we perform a data augmentation procedure to avoid miss prediction\n",
    "\n",
    "y2 = np.matlib.repmat(y_train, 10, 1).ravel() # as we have an imbalanced sample of classes, we perform a data augmentation procedure to avoid miss prediction\n",
    "\n",
    "model.fit(x2, y2) # fitting the model\n",
    "\n",
    "model.score(x_test, y_test) # scoring the model "
   ]
  },
  {
   "cell_type": "markdown",
   "metadata": {},
   "source": [
    "                6.5.1.2 - Analyzing Result "
   ]
  },
  {
   "cell_type": "code",
   "execution_count": 145,
   "metadata": {},
   "outputs": [],
   "source": [
    "pearson_feat_pred = model.predict(MinMaxScaler().fit_transform(checkpoint_3[pearson_features])) # predicting the target variable using the entire input\n",
    "\n",
    "pearson_feat_pred_proba = model.predict_proba(MinMaxScaler().fit_transform(checkpoint_3[pearson_features])) # predicting the probability of belonging to a given class of the target variable using the entire input"
   ]
  },
  {
   "cell_type": "markdown",
   "metadata": {},
   "source": [
    "                6.5.1.3 - Analyzing Metrics "
   ]
  },
  {
   "cell_type": "code",
   "execution_count": 148,
   "metadata": {},
   "outputs": [
    {
     "output_type": "stream",
     "name": "stdout",
     "text": "precision    recall  f1-score   support\n\nHousehold did not Purchased any Product       1.00      1.00      1.00      2594\n   Household did Purchased some Product       1.00      1.00      1.00      1501\n\n                               accuracy                           1.00      4095\n                              macro avg       1.00      1.00      1.00      4095\n                           weighted avg       1.00      1.00      1.00      4095\n\n"
    }
   ],
   "source": [
    "calss_ids = ['Household did not Purchased any Product', 'Household did Purchased some Product'] # classes names\n",
    "\n",
    "print(classification_report(target, pearson_feat_pred, target_names=calss_ids)) # classification report"
   ]
  },
  {
   "cell_type": "markdown",
   "metadata": {},
   "source": [
    "                6.5.2 - For Features Selected using the RFE Method"
   ]
  },
  {
   "cell_type": "markdown",
   "metadata": {},
   "source": [
    "                6.5.2.1 - Performing Prediction"
   ]
  },
  {
   "cell_type": "code",
   "execution_count": 150,
   "metadata": {},
   "outputs": [
    {
     "output_type": "execute_result",
     "data": {
      "text/plain": "1.0"
     },
     "metadata": {},
     "execution_count": 150
    }
   ],
   "source": [
    "model = LogisticRegression(solver='lbfgs', n_jobs= 9, penalty='l2') # lbfgs solver is recommended for large datasets and we choose l2 norm for a better convergency\n",
    "\n",
    "x_train, x_test, y_train, y_test = train_test_split(MinMaxScaler().fit_transform(checkpoint_3[rfe_features]), target, test_size = 0.7, random_state = 42, shuffle=True) # splitting dataset using features selected for the filtering method\n",
    "\n",
    "x2 = np.matlib.repmat(x_train, 10, 1) # as we have an imbalanced sample of classes, we perform a data augmentation procedure to avoid miss prediction\n",
    "\n",
    "y2 = np.matlib.repmat(y_train, 10, 1).ravel() # as we have an imbalanced sample of classes, we perform a data augmentation procedure to avoid miss prediction\n",
    "\n",
    "model.fit(x2, y2) # fitting the model\n",
    "\n",
    "model.score(x_test, y_test) # scoring the model "
   ]
  },
  {
   "cell_type": "markdown",
   "metadata": {},
   "source": [
    "                6.5.2.2 - Analyzing Result "
   ]
  },
  {
   "cell_type": "code",
   "execution_count": 151,
   "metadata": {},
   "outputs": [],
   "source": [
    "rfe_feat_pred = model.predict(MinMaxScaler().fit_transform(checkpoint_3[rfe_features])) # predicting the target variable using the entire input\n",
    "\n",
    "rfe_feat_pred_proba = model.predict_proba(MinMaxScaler().fit_transform(checkpoint_3[rfe_features])) # predicting the probability of belonging to a given class of the target variable using the entire input"
   ]
  },
  {
   "cell_type": "markdown",
   "metadata": {},
   "source": [
    "                6.5.2.3 - Analyzing Metrics "
   ]
  },
  {
   "cell_type": "code",
   "execution_count": 153,
   "metadata": {},
   "outputs": [
    {
     "output_type": "stream",
     "name": "stdout",
     "text": "precision    recall  f1-score   support\n\nHousehold did not Purchased any Product       1.00      1.00      1.00      2594\n   Household did Purchased some Product       1.00      1.00      1.00      1501\n\n                               accuracy                           1.00      4095\n                              macro avg       1.00      1.00      1.00      4095\n                           weighted avg       1.00      1.00      1.00      4095\n\n"
    }
   ],
   "source": [
    "print(classification_report(target, rfe_feat_pred, target_names=calss_ids)) # classification report"
   ]
  },
  {
   "cell_type": "markdown",
   "metadata": {},
   "source": [
    "    Both approaches present solid results, but we still need to choose one of them. Lets see the most accurate probability among them."
   ]
  },
  {
   "cell_type": "markdown",
   "metadata": {},
   "source": [
    "    6.6 - Approach Choice and Creation of the new column"
   ]
  },
  {
   "cell_type": "code",
   "execution_count": 162,
   "metadata": {},
   "outputs": [
    {
     "output_type": "execute_result",
     "data": {
      "text/plain": "2595.231311666772"
     },
     "metadata": {},
     "execution_count": 162
    }
   ],
   "source": [
    "abs((pearson_feat_pred_proba - 1)[:, 1]).sum() # total distance between the binary correct label"
   ]
  },
  {
   "cell_type": "code",
   "execution_count": 163,
   "metadata": {},
   "outputs": [
    {
     "output_type": "execute_result",
     "data": {
      "text/plain": "2592.359024894099"
     },
     "metadata": {},
     "execution_count": 163
    }
   ],
   "source": [
    "abs((rfe_feat_pred_proba - 1)[:, 1]).sum()  # total distance between the binary correct label"
   ]
  },
  {
   "cell_type": "markdown",
   "metadata": {},
   "source": [
    "    As we can see, the RFE method provided a more accurate prediction than the Filtering Method. Therefore, we will use the RFE probability prediction to generate our new column"
   ]
  },
  {
   "cell_type": "code",
   "execution_count": 164,
   "metadata": {},
   "outputs": [],
   "source": [
    "checkpoint_3['Household Purchase Product Probability'] = rfe_feat_pred_proba[:, 1] # creating new column"
   ]
  },
  {
   "cell_type": "markdown",
   "metadata": {},
   "source": [
    "## 7 - Roadside Usage Probability Prediction"
   ]
  },
  {
   "cell_type": "markdown",
   "metadata": {},
   "source": [
    "    7.1 - Taking a look at our Target Variable"
   ]
  },
  {
   "cell_type": "code",
   "execution_count": 167,
   "metadata": {},
   "outputs": [],
   "source": [
    "(mu, sigma) = stats.norm.fit(checkpoint_3['Household have used the Roadside Services'] )\n"
   ]
  },
  {
   "cell_type": "code",
   "execution_count": 168,
   "metadata": {},
   "outputs": [
    {
     "output_type": "execute_result",
     "data": {
      "text/plain": "Text(0.5, 1.0, 'Household have used the Roadside Services distribution -- Mu: 0.7186813186813187 Sigma: 0.4496426145949687')"
     },
     "metadata": {},
     "execution_count": 168
    },
    {
     "output_type": "display_data",
     "data": {
      "text/plain": "<Figure size 432x288 with 1 Axes>",
      "image/svg+xml": "<?xml version=\"1.0\" encoding=\"utf-8\" standalone=\"no\"?>\r\n<!DOCTYPE svg PUBLIC \"-//W3C//DTD SVG 1.1//EN\"\r\n  \"http://www.w3.org/Graphics/SVG/1.1/DTD/svg11.dtd\">\r\n<!-- Created with matplotlib (https://matplotlib.org/) -->\r\n<svg height=\"275.86625pt\" version=\"1.1\" viewBox=\"0 0 630.793125 275.86625\" width=\"630.793125pt\" xmlns=\"http://www.w3.org/2000/svg\" xmlns:xlink=\"http://www.w3.org/1999/xlink\">\r\n <defs>\r\n  <style type=\"text/css\">\r\n*{stroke-linecap:butt;stroke-linejoin:round;}\r\n  </style>\r\n </defs>\r\n <g id=\"figure_1\">\r\n  <g id=\"patch_1\">\r\n   <path d=\"M 0 275.86625 \r\nL 630.793125 275.86625 \r\nL 630.793125 0 \r\nL 0 0 \r\nz\r\n\" style=\"fill:#ffffff;\"/>\r\n  </g>\r\n  <g id=\"axes_1\">\r\n   <g id=\"patch_2\">\r\n    <path d=\"M 147.996562 239.375625 \r\nL 482.796562 239.375625 \r\nL 482.796562 21.935625 \r\nL 147.996562 21.935625 \r\nz\r\n\" style=\"fill:#eaeaf2;\"/>\r\n   </g>\r\n   <g id=\"matplotlib.axis_1\">\r\n    <g id=\"xtick_1\">\r\n     <g id=\"line2d_1\">\r\n      <path clip-path=\"url(#p6ad89041ee)\" d=\"M 177.174963 239.375625 \r\nL 177.174963 21.935625 \r\n\" style=\"fill:none;stroke:#ffffff;stroke-linecap:round;stroke-width:0.8;\"/>\r\n     </g>\r\n     <g id=\"text_1\">\r\n      <!-- −0.2 -->\r\n      <defs>\r\n       <path d=\"M 52.828125 31.203125 \r\nL 5.5625 31.203125 \r\nL 5.5625 39.40625 \r\nL 52.828125 39.40625 \r\nz\r\n\" id=\"ArialMT-8722\"/>\r\n       <path d=\"M 4.15625 35.296875 \r\nQ 4.15625 48 6.765625 55.734375 \r\nQ 9.375 63.484375 14.515625 67.671875 \r\nQ 19.671875 71.875 27.484375 71.875 \r\nQ 33.25 71.875 37.59375 69.546875 \r\nQ 41.9375 67.234375 44.765625 62.859375 \r\nQ 47.609375 58.5 49.21875 52.21875 \r\nQ 50.828125 45.953125 50.828125 35.296875 \r\nQ 50.828125 22.703125 48.234375 14.96875 \r\nQ 45.65625 7.234375 40.5 3 \r\nQ 35.359375 -1.21875 27.484375 -1.21875 \r\nQ 17.140625 -1.21875 11.234375 6.203125 \r\nQ 4.15625 15.140625 4.15625 35.296875 \r\nz\r\nM 13.1875 35.296875 \r\nQ 13.1875 17.671875 17.3125 11.828125 \r\nQ 21.4375 6 27.484375 6 \r\nQ 33.546875 6 37.671875 11.859375 \r\nQ 41.796875 17.71875 41.796875 35.296875 \r\nQ 41.796875 52.984375 37.671875 58.78125 \r\nQ 33.546875 64.59375 27.390625 64.59375 \r\nQ 21.34375 64.59375 17.71875 59.46875 \r\nQ 13.1875 52.9375 13.1875 35.296875 \r\nz\r\n\" id=\"ArialMT-48\"/>\r\n       <path d=\"M 9.078125 0 \r\nL 9.078125 10.015625 \r\nL 19.09375 10.015625 \r\nL 19.09375 0 \r\nz\r\n\" id=\"ArialMT-46\"/>\r\n       <path d=\"M 50.34375 8.453125 \r\nL 50.34375 0 \r\nL 3.03125 0 \r\nQ 2.9375 3.171875 4.046875 6.109375 \r\nQ 5.859375 10.9375 9.828125 15.625 \r\nQ 13.8125 20.3125 21.34375 26.46875 \r\nQ 33.015625 36.03125 37.109375 41.625 \r\nQ 41.21875 47.21875 41.21875 52.203125 \r\nQ 41.21875 57.421875 37.46875 61 \r\nQ 33.734375 64.59375 27.734375 64.59375 \r\nQ 21.390625 64.59375 17.578125 60.78125 \r\nQ 13.765625 56.984375 13.71875 50.25 \r\nL 4.6875 51.171875 \r\nQ 5.609375 61.28125 11.65625 66.578125 \r\nQ 17.71875 71.875 27.9375 71.875 \r\nQ 38.234375 71.875 44.234375 66.15625 \r\nQ 50.25 60.453125 50.25 52 \r\nQ 50.25 47.703125 48.484375 43.546875 \r\nQ 46.734375 39.40625 42.65625 34.8125 \r\nQ 38.578125 30.21875 29.109375 22.21875 \r\nQ 21.1875 15.578125 18.9375 13.203125 \r\nQ 16.703125 10.84375 15.234375 8.453125 \r\nz\r\n\" id=\"ArialMT-50\"/>\r\n      </defs>\r\n      <g style=\"fill:#262626;\" transform=\"translate(167.30465 253.533437)scale(0.1 -0.1)\">\r\n       <use xlink:href=\"#ArialMT-8722\"/>\r\n       <use x=\"58.398438\" xlink:href=\"#ArialMT-48\"/>\r\n       <use x=\"114.013672\" xlink:href=\"#ArialMT-46\"/>\r\n       <use x=\"141.796875\" xlink:href=\"#ArialMT-50\"/>\r\n      </g>\r\n     </g>\r\n    </g>\r\n    <g id=\"xtick_2\">\r\n     <g id=\"line2d_2\">\r\n      <path clip-path=\"url(#p6ad89041ee)\" d=\"M 216.666849 239.375625 \r\nL 216.666849 21.935625 \r\n\" style=\"fill:none;stroke:#ffffff;stroke-linecap:round;stroke-width:0.8;\"/>\r\n     </g>\r\n     <g id=\"text_2\">\r\n      <!-- 0.0 -->\r\n      <g style=\"fill:#262626;\" transform=\"translate(209.716849 253.533437)scale(0.1 -0.1)\">\r\n       <use xlink:href=\"#ArialMT-48\"/>\r\n       <use x=\"55.615234\" xlink:href=\"#ArialMT-46\"/>\r\n       <use x=\"83.398438\" xlink:href=\"#ArialMT-48\"/>\r\n      </g>\r\n     </g>\r\n    </g>\r\n    <g id=\"xtick_3\">\r\n     <g id=\"line2d_3\">\r\n      <path clip-path=\"url(#p6ad89041ee)\" d=\"M 256.158734 239.375625 \r\nL 256.158734 21.935625 \r\n\" style=\"fill:none;stroke:#ffffff;stroke-linecap:round;stroke-width:0.8;\"/>\r\n     </g>\r\n     <g id=\"text_3\">\r\n      <!-- 0.2 -->\r\n      <g style=\"fill:#262626;\" transform=\"translate(249.208734 253.533437)scale(0.1 -0.1)\">\r\n       <use xlink:href=\"#ArialMT-48\"/>\r\n       <use x=\"55.615234\" xlink:href=\"#ArialMT-46\"/>\r\n       <use x=\"83.398438\" xlink:href=\"#ArialMT-50\"/>\r\n      </g>\r\n     </g>\r\n    </g>\r\n    <g id=\"xtick_4\">\r\n     <g id=\"line2d_4\">\r\n      <path clip-path=\"url(#p6ad89041ee)\" d=\"M 295.65062 239.375625 \r\nL 295.65062 21.935625 \r\n\" style=\"fill:none;stroke:#ffffff;stroke-linecap:round;stroke-width:0.8;\"/>\r\n     </g>\r\n     <g id=\"text_4\">\r\n      <!-- 0.4 -->\r\n      <defs>\r\n       <path d=\"M 32.328125 0 \r\nL 32.328125 17.140625 \r\nL 1.265625 17.140625 \r\nL 1.265625 25.203125 \r\nL 33.9375 71.578125 \r\nL 41.109375 71.578125 \r\nL 41.109375 25.203125 \r\nL 50.78125 25.203125 \r\nL 50.78125 17.140625 \r\nL 41.109375 17.140625 \r\nL 41.109375 0 \r\nz\r\nM 32.328125 25.203125 \r\nL 32.328125 57.46875 \r\nL 9.90625 25.203125 \r\nz\r\n\" id=\"ArialMT-52\"/>\r\n      </defs>\r\n      <g style=\"fill:#262626;\" transform=\"translate(288.70062 253.533437)scale(0.1 -0.1)\">\r\n       <use xlink:href=\"#ArialMT-48\"/>\r\n       <use x=\"55.615234\" xlink:href=\"#ArialMT-46\"/>\r\n       <use x=\"83.398438\" xlink:href=\"#ArialMT-52\"/>\r\n      </g>\r\n     </g>\r\n    </g>\r\n    <g id=\"xtick_5\">\r\n     <g id=\"line2d_5\">\r\n      <path clip-path=\"url(#p6ad89041ee)\" d=\"M 335.142505 239.375625 \r\nL 335.142505 21.935625 \r\n\" style=\"fill:none;stroke:#ffffff;stroke-linecap:round;stroke-width:0.8;\"/>\r\n     </g>\r\n     <g id=\"text_5\">\r\n      <!-- 0.6 -->\r\n      <defs>\r\n       <path d=\"M 49.75 54.046875 \r\nL 41.015625 53.375 \r\nQ 39.84375 58.546875 37.703125 60.890625 \r\nQ 34.125 64.65625 28.90625 64.65625 \r\nQ 24.703125 64.65625 21.53125 62.3125 \r\nQ 17.390625 59.28125 14.984375 53.46875 \r\nQ 12.59375 47.65625 12.5 36.921875 \r\nQ 15.671875 41.75 20.265625 44.09375 \r\nQ 24.859375 46.4375 29.890625 46.4375 \r\nQ 38.671875 46.4375 44.84375 39.96875 \r\nQ 51.03125 33.5 51.03125 23.25 \r\nQ 51.03125 16.5 48.125 10.71875 \r\nQ 45.21875 4.9375 40.140625 1.859375 \r\nQ 35.0625 -1.21875 28.609375 -1.21875 \r\nQ 17.625 -1.21875 10.6875 6.859375 \r\nQ 3.765625 14.9375 3.765625 33.5 \r\nQ 3.765625 54.25 11.421875 63.671875 \r\nQ 18.109375 71.875 29.4375 71.875 \r\nQ 37.890625 71.875 43.28125 67.140625 \r\nQ 48.6875 62.40625 49.75 54.046875 \r\nz\r\nM 13.875 23.1875 \r\nQ 13.875 18.65625 15.796875 14.5 \r\nQ 17.71875 10.359375 21.1875 8.171875 \r\nQ 24.65625 6 28.46875 6 \r\nQ 34.03125 6 38.03125 10.484375 \r\nQ 42.046875 14.984375 42.046875 22.703125 \r\nQ 42.046875 30.125 38.078125 34.390625 \r\nQ 34.125 38.671875 28.125 38.671875 \r\nQ 22.171875 38.671875 18.015625 34.390625 \r\nQ 13.875 30.125 13.875 23.1875 \r\nz\r\n\" id=\"ArialMT-54\"/>\r\n      </defs>\r\n      <g style=\"fill:#262626;\" transform=\"translate(328.192505 253.533437)scale(0.1 -0.1)\">\r\n       <use xlink:href=\"#ArialMT-48\"/>\r\n       <use x=\"55.615234\" xlink:href=\"#ArialMT-46\"/>\r\n       <use x=\"83.398438\" xlink:href=\"#ArialMT-54\"/>\r\n      </g>\r\n     </g>\r\n    </g>\r\n    <g id=\"xtick_6\">\r\n     <g id=\"line2d_6\">\r\n      <path clip-path=\"url(#p6ad89041ee)\" d=\"M 374.634391 239.375625 \r\nL 374.634391 21.935625 \r\n\" style=\"fill:none;stroke:#ffffff;stroke-linecap:round;stroke-width:0.8;\"/>\r\n     </g>\r\n     <g id=\"text_6\">\r\n      <!-- 0.8 -->\r\n      <defs>\r\n       <path d=\"M 17.671875 38.8125 \r\nQ 12.203125 40.828125 9.5625 44.53125 \r\nQ 6.9375 48.25 6.9375 53.421875 \r\nQ 6.9375 61.234375 12.546875 66.546875 \r\nQ 18.171875 71.875 27.484375 71.875 \r\nQ 36.859375 71.875 42.578125 66.421875 \r\nQ 48.296875 60.984375 48.296875 53.171875 \r\nQ 48.296875 48.1875 45.671875 44.5 \r\nQ 43.0625 40.828125 37.75 38.8125 \r\nQ 44.34375 36.671875 47.78125 31.875 \r\nQ 51.21875 27.09375 51.21875 20.453125 \r\nQ 51.21875 11.28125 44.71875 5.03125 \r\nQ 38.234375 -1.21875 27.640625 -1.21875 \r\nQ 17.046875 -1.21875 10.546875 5.046875 \r\nQ 4.046875 11.328125 4.046875 20.703125 \r\nQ 4.046875 27.6875 7.59375 32.390625 \r\nQ 11.140625 37.109375 17.671875 38.8125 \r\nz\r\nM 15.921875 53.71875 \r\nQ 15.921875 48.640625 19.1875 45.40625 \r\nQ 22.46875 42.1875 27.6875 42.1875 \r\nQ 32.765625 42.1875 36.015625 45.375 \r\nQ 39.265625 48.578125 39.265625 53.21875 \r\nQ 39.265625 58.0625 35.90625 61.359375 \r\nQ 32.5625 64.65625 27.59375 64.65625 \r\nQ 22.5625 64.65625 19.234375 61.421875 \r\nQ 15.921875 58.203125 15.921875 53.71875 \r\nz\r\nM 13.09375 20.65625 \r\nQ 13.09375 16.890625 14.875 13.375 \r\nQ 16.65625 9.859375 20.171875 7.921875 \r\nQ 23.6875 6 27.734375 6 \r\nQ 34.03125 6 38.125 10.046875 \r\nQ 42.234375 14.109375 42.234375 20.359375 \r\nQ 42.234375 26.703125 38.015625 30.859375 \r\nQ 33.796875 35.015625 27.4375 35.015625 \r\nQ 21.234375 35.015625 17.15625 30.90625 \r\nQ 13.09375 26.8125 13.09375 20.65625 \r\nz\r\n\" id=\"ArialMT-56\"/>\r\n      </defs>\r\n      <g style=\"fill:#262626;\" transform=\"translate(367.684391 253.533437)scale(0.1 -0.1)\">\r\n       <use xlink:href=\"#ArialMT-48\"/>\r\n       <use x=\"55.615234\" xlink:href=\"#ArialMT-46\"/>\r\n       <use x=\"83.398438\" xlink:href=\"#ArialMT-56\"/>\r\n      </g>\r\n     </g>\r\n    </g>\r\n    <g id=\"xtick_7\">\r\n     <g id=\"line2d_7\">\r\n      <path clip-path=\"url(#p6ad89041ee)\" d=\"M 414.126276 239.375625 \r\nL 414.126276 21.935625 \r\n\" style=\"fill:none;stroke:#ffffff;stroke-linecap:round;stroke-width:0.8;\"/>\r\n     </g>\r\n     <g id=\"text_7\">\r\n      <!-- 1.0 -->\r\n      <defs>\r\n       <path d=\"M 37.25 0 \r\nL 28.46875 0 \r\nL 28.46875 56 \r\nQ 25.296875 52.984375 20.140625 49.953125 \r\nQ 14.984375 46.921875 10.890625 45.40625 \r\nL 10.890625 53.90625 \r\nQ 18.265625 57.375 23.78125 62.296875 \r\nQ 29.296875 67.234375 31.59375 71.875 \r\nL 37.25 71.875 \r\nz\r\n\" id=\"ArialMT-49\"/>\r\n      </defs>\r\n      <g style=\"fill:#262626;\" transform=\"translate(407.176276 253.533437)scale(0.1 -0.1)\">\r\n       <use xlink:href=\"#ArialMT-49\"/>\r\n       <use x=\"55.615234\" xlink:href=\"#ArialMT-46\"/>\r\n       <use x=\"83.398438\" xlink:href=\"#ArialMT-48\"/>\r\n      </g>\r\n     </g>\r\n    </g>\r\n    <g id=\"xtick_8\">\r\n     <g id=\"line2d_8\">\r\n      <path clip-path=\"url(#p6ad89041ee)\" d=\"M 453.618162 239.375625 \r\nL 453.618162 21.935625 \r\n\" style=\"fill:none;stroke:#ffffff;stroke-linecap:round;stroke-width:0.8;\"/>\r\n     </g>\r\n     <g id=\"text_8\">\r\n      <!-- 1.2 -->\r\n      <g style=\"fill:#262626;\" transform=\"translate(446.668162 253.533437)scale(0.1 -0.1)\">\r\n       <use xlink:href=\"#ArialMT-49\"/>\r\n       <use x=\"55.615234\" xlink:href=\"#ArialMT-46\"/>\r\n       <use x=\"83.398438\" xlink:href=\"#ArialMT-50\"/>\r\n      </g>\r\n     </g>\r\n    </g>\r\n    <g id=\"text_9\">\r\n     <!-- Household have used the Roadside Services -->\r\n     <defs>\r\n      <path d=\"M 8.015625 0 \r\nL 8.015625 71.578125 \r\nL 17.484375 71.578125 \r\nL 17.484375 42.1875 \r\nL 54.6875 42.1875 \r\nL 54.6875 71.578125 \r\nL 64.15625 71.578125 \r\nL 64.15625 0 \r\nL 54.6875 0 \r\nL 54.6875 33.734375 \r\nL 17.484375 33.734375 \r\nL 17.484375 0 \r\nz\r\n\" id=\"ArialMT-72\"/>\r\n      <path d=\"M 3.328125 25.921875 \r\nQ 3.328125 40.328125 11.328125 47.265625 \r\nQ 18.015625 53.03125 27.640625 53.03125 \r\nQ 38.328125 53.03125 45.109375 46.015625 \r\nQ 51.90625 39.015625 51.90625 26.65625 \r\nQ 51.90625 16.65625 48.90625 10.90625 \r\nQ 45.90625 5.171875 40.15625 2 \r\nQ 34.421875 -1.171875 27.640625 -1.171875 \r\nQ 16.75 -1.171875 10.03125 5.8125 \r\nQ 3.328125 12.796875 3.328125 25.921875 \r\nz\r\nM 12.359375 25.921875 \r\nQ 12.359375 15.96875 16.703125 11.015625 \r\nQ 21.046875 6.0625 27.640625 6.0625 \r\nQ 34.1875 6.0625 38.53125 11.03125 \r\nQ 42.875 16.015625 42.875 26.21875 \r\nQ 42.875 35.84375 38.5 40.796875 \r\nQ 34.125 45.75 27.640625 45.75 \r\nQ 21.046875 45.75 16.703125 40.8125 \r\nQ 12.359375 35.890625 12.359375 25.921875 \r\nz\r\n\" id=\"ArialMT-111\"/>\r\n      <path d=\"M 40.578125 0 \r\nL 40.578125 7.625 \r\nQ 34.515625 -1.171875 24.125 -1.171875 \r\nQ 19.53125 -1.171875 15.546875 0.578125 \r\nQ 11.578125 2.34375 9.640625 5 \r\nQ 7.71875 7.671875 6.9375 11.53125 \r\nQ 6.390625 14.109375 6.390625 19.734375 \r\nL 6.390625 51.859375 \r\nL 15.1875 51.859375 \r\nL 15.1875 23.09375 \r\nQ 15.1875 16.21875 15.71875 13.8125 \r\nQ 16.546875 10.359375 19.234375 8.375 \r\nQ 21.921875 6.390625 25.875 6.390625 \r\nQ 29.828125 6.390625 33.296875 8.421875 \r\nQ 36.765625 10.453125 38.203125 13.9375 \r\nQ 39.65625 17.4375 39.65625 24.078125 \r\nL 39.65625 51.859375 \r\nL 48.4375 51.859375 \r\nL 48.4375 0 \r\nz\r\n\" id=\"ArialMT-117\"/>\r\n      <path d=\"M 3.078125 15.484375 \r\nL 11.765625 16.84375 \r\nQ 12.5 11.625 15.84375 8.84375 \r\nQ 19.1875 6.0625 25.203125 6.0625 \r\nQ 31.25 6.0625 34.171875 8.515625 \r\nQ 37.109375 10.984375 37.109375 14.3125 \r\nQ 37.109375 17.28125 34.515625 19 \r\nQ 32.71875 20.171875 25.53125 21.96875 \r\nQ 15.875 24.421875 12.140625 26.203125 \r\nQ 8.40625 27.984375 6.46875 31.125 \r\nQ 4.546875 34.28125 4.546875 38.09375 \r\nQ 4.546875 41.546875 6.125 44.5 \r\nQ 7.71875 47.46875 10.453125 49.421875 \r\nQ 12.5 50.921875 16.03125 51.96875 \r\nQ 19.578125 53.03125 23.640625 53.03125 \r\nQ 29.734375 53.03125 34.34375 51.265625 \r\nQ 38.96875 49.515625 41.15625 46.5 \r\nQ 43.359375 43.5 44.1875 38.484375 \r\nL 35.59375 37.3125 \r\nQ 35.015625 41.3125 32.203125 43.546875 \r\nQ 29.390625 45.796875 24.265625 45.796875 \r\nQ 18.21875 45.796875 15.625 43.796875 \r\nQ 13.03125 41.796875 13.03125 39.109375 \r\nQ 13.03125 37.40625 14.109375 36.03125 \r\nQ 15.1875 34.625 17.484375 33.6875 \r\nQ 18.796875 33.203125 25.25 31.453125 \r\nQ 34.578125 28.953125 38.25 27.359375 \r\nQ 41.9375 25.78125 44.03125 22.75 \r\nQ 46.140625 19.734375 46.140625 15.234375 \r\nQ 46.140625 10.84375 43.578125 6.953125 \r\nQ 41.015625 3.078125 36.171875 0.953125 \r\nQ 31.34375 -1.171875 25.25 -1.171875 \r\nQ 15.140625 -1.171875 9.84375 3.03125 \r\nQ 4.546875 7.234375 3.078125 15.484375 \r\nz\r\n\" id=\"ArialMT-115\"/>\r\n      <path d=\"M 42.09375 16.703125 \r\nL 51.171875 15.578125 \r\nQ 49.03125 7.625 43.21875 3.21875 \r\nQ 37.40625 -1.171875 28.375 -1.171875 \r\nQ 17 -1.171875 10.328125 5.828125 \r\nQ 3.65625 12.84375 3.65625 25.484375 \r\nQ 3.65625 38.578125 10.390625 45.796875 \r\nQ 17.140625 53.03125 27.875 53.03125 \r\nQ 38.28125 53.03125 44.875 45.953125 \r\nQ 51.46875 38.875 51.46875 26.03125 \r\nQ 51.46875 25.25 51.421875 23.6875 \r\nL 12.75 23.6875 \r\nQ 13.234375 15.140625 17.578125 10.59375 \r\nQ 21.921875 6.0625 28.421875 6.0625 \r\nQ 33.25 6.0625 36.671875 8.59375 \r\nQ 40.09375 11.140625 42.09375 16.703125 \r\nz\r\nM 13.234375 30.90625 \r\nL 42.1875 30.90625 \r\nQ 41.609375 37.453125 38.875 40.71875 \r\nQ 34.671875 45.796875 27.984375 45.796875 \r\nQ 21.921875 45.796875 17.796875 41.75 \r\nQ 13.671875 37.703125 13.234375 30.90625 \r\nz\r\n\" id=\"ArialMT-101\"/>\r\n      <path d=\"M 6.59375 0 \r\nL 6.59375 71.578125 \r\nL 15.375 71.578125 \r\nL 15.375 45.90625 \r\nQ 21.53125 53.03125 30.90625 53.03125 \r\nQ 36.671875 53.03125 40.921875 50.75 \r\nQ 45.171875 48.484375 47 44.484375 \r\nQ 48.828125 40.484375 48.828125 32.859375 \r\nL 48.828125 0 \r\nL 40.046875 0 \r\nL 40.046875 32.859375 \r\nQ 40.046875 39.453125 37.1875 42.453125 \r\nQ 34.328125 45.453125 29.109375 45.453125 \r\nQ 25.203125 45.453125 21.75 43.421875 \r\nQ 18.3125 41.40625 16.84375 37.9375 \r\nQ 15.375 34.46875 15.375 28.375 \r\nL 15.375 0 \r\nz\r\n\" id=\"ArialMT-104\"/>\r\n      <path d=\"M 6.390625 0 \r\nL 6.390625 71.578125 \r\nL 15.1875 71.578125 \r\nL 15.1875 0 \r\nz\r\n\" id=\"ArialMT-108\"/>\r\n      <path d=\"M 40.234375 0 \r\nL 40.234375 6.546875 \r\nQ 35.296875 -1.171875 25.734375 -1.171875 \r\nQ 19.53125 -1.171875 14.328125 2.25 \r\nQ 9.125 5.671875 6.265625 11.796875 \r\nQ 3.421875 17.921875 3.421875 25.875 \r\nQ 3.421875 33.640625 6 39.96875 \r\nQ 8.59375 46.296875 13.765625 49.65625 \r\nQ 18.953125 53.03125 25.34375 53.03125 \r\nQ 30.03125 53.03125 33.6875 51.046875 \r\nQ 37.359375 49.078125 39.65625 45.90625 \r\nL 39.65625 71.578125 \r\nL 48.390625 71.578125 \r\nL 48.390625 0 \r\nz\r\nM 12.453125 25.875 \r\nQ 12.453125 15.921875 16.640625 10.984375 \r\nQ 20.84375 6.0625 26.5625 6.0625 \r\nQ 32.328125 6.0625 36.34375 10.765625 \r\nQ 40.375 15.484375 40.375 25.140625 \r\nQ 40.375 35.796875 36.265625 40.765625 \r\nQ 32.171875 45.75 26.171875 45.75 \r\nQ 20.3125 45.75 16.375 40.96875 \r\nQ 12.453125 36.1875 12.453125 25.875 \r\nz\r\n\" id=\"ArialMT-100\"/>\r\n      <path id=\"ArialMT-32\"/>\r\n      <path d=\"M 40.4375 6.390625 \r\nQ 35.546875 2.25 31.03125 0.53125 \r\nQ 26.515625 -1.171875 21.34375 -1.171875 \r\nQ 12.796875 -1.171875 8.203125 3 \r\nQ 3.609375 7.171875 3.609375 13.671875 \r\nQ 3.609375 17.484375 5.34375 20.625 \r\nQ 7.078125 23.78125 9.890625 25.6875 \r\nQ 12.703125 27.59375 16.21875 28.5625 \r\nQ 18.796875 29.25 24.03125 29.890625 \r\nQ 34.671875 31.15625 39.703125 32.90625 \r\nQ 39.75 34.71875 39.75 35.203125 \r\nQ 39.75 40.578125 37.25 42.78125 \r\nQ 33.890625 45.75 27.25 45.75 \r\nQ 21.046875 45.75 18.09375 43.578125 \r\nQ 15.140625 41.40625 13.71875 35.890625 \r\nL 5.125 37.0625 \r\nQ 6.296875 42.578125 8.984375 45.96875 \r\nQ 11.671875 49.359375 16.75 51.1875 \r\nQ 21.828125 53.03125 28.515625 53.03125 \r\nQ 35.15625 53.03125 39.296875 51.46875 \r\nQ 43.453125 49.90625 45.40625 47.53125 \r\nQ 47.359375 45.171875 48.140625 41.546875 \r\nQ 48.578125 39.3125 48.578125 33.453125 \r\nL 48.578125 21.734375 \r\nQ 48.578125 9.46875 49.140625 6.21875 \r\nQ 49.703125 2.984375 51.375 0 \r\nL 42.1875 0 \r\nQ 40.828125 2.734375 40.4375 6.390625 \r\nz\r\nM 39.703125 26.03125 \r\nQ 34.90625 24.078125 25.34375 22.703125 \r\nQ 19.921875 21.921875 17.671875 20.9375 \r\nQ 15.4375 19.96875 14.203125 18.09375 \r\nQ 12.984375 16.21875 12.984375 13.921875 \r\nQ 12.984375 10.40625 15.640625 8.0625 \r\nQ 18.3125 5.71875 23.4375 5.71875 \r\nQ 28.515625 5.71875 32.46875 7.9375 \r\nQ 36.421875 10.15625 38.28125 14.015625 \r\nQ 39.703125 17 39.703125 22.796875 \r\nz\r\n\" id=\"ArialMT-97\"/>\r\n      <path d=\"M 21 0 \r\nL 1.265625 51.859375 \r\nL 10.546875 51.859375 \r\nL 21.6875 20.796875 \r\nQ 23.484375 15.765625 25 10.359375 \r\nQ 26.171875 14.453125 28.265625 20.21875 \r\nL 39.796875 51.859375 \r\nL 48.828125 51.859375 \r\nL 29.203125 0 \r\nz\r\n\" id=\"ArialMT-118\"/>\r\n      <path d=\"M 25.78125 7.859375 \r\nL 27.046875 0.09375 \r\nQ 23.34375 -0.6875 20.40625 -0.6875 \r\nQ 15.625 -0.6875 12.984375 0.828125 \r\nQ 10.359375 2.34375 9.28125 4.8125 \r\nQ 8.203125 7.28125 8.203125 15.1875 \r\nL 8.203125 45.015625 \r\nL 1.765625 45.015625 \r\nL 1.765625 51.859375 \r\nL 8.203125 51.859375 \r\nL 8.203125 64.703125 \r\nL 16.9375 69.96875 \r\nL 16.9375 51.859375 \r\nL 25.78125 51.859375 \r\nL 25.78125 45.015625 \r\nL 16.9375 45.015625 \r\nL 16.9375 14.703125 \r\nQ 16.9375 10.9375 17.40625 9.859375 \r\nQ 17.875 8.796875 18.921875 8.15625 \r\nQ 19.96875 7.515625 21.921875 7.515625 \r\nQ 23.390625 7.515625 25.78125 7.859375 \r\nz\r\n\" id=\"ArialMT-116\"/>\r\n      <path d=\"M 7.859375 0 \r\nL 7.859375 71.578125 \r\nL 39.59375 71.578125 \r\nQ 49.171875 71.578125 54.140625 69.640625 \r\nQ 59.125 67.71875 62.109375 62.828125 \r\nQ 65.09375 57.953125 65.09375 52.046875 \r\nQ 65.09375 44.4375 60.15625 39.203125 \r\nQ 55.21875 33.984375 44.921875 32.5625 \r\nQ 48.6875 30.765625 50.640625 29 \r\nQ 54.78125 25.203125 58.5 19.484375 \r\nL 70.953125 0 \r\nL 59.03125 0 \r\nL 49.5625 14.890625 \r\nQ 45.40625 21.34375 42.71875 24.75 \r\nQ 40.046875 28.171875 37.921875 29.53125 \r\nQ 35.796875 30.90625 33.59375 31.453125 \r\nQ 31.984375 31.78125 28.328125 31.78125 \r\nL 17.328125 31.78125 \r\nL 17.328125 0 \r\nz\r\nM 17.328125 39.984375 \r\nL 37.703125 39.984375 \r\nQ 44.1875 39.984375 47.84375 41.328125 \r\nQ 51.515625 42.671875 53.421875 45.625 \r\nQ 55.328125 48.578125 55.328125 52.046875 \r\nQ 55.328125 57.125 51.640625 60.390625 \r\nQ 47.953125 63.671875 39.984375 63.671875 \r\nL 17.328125 63.671875 \r\nz\r\n\" id=\"ArialMT-82\"/>\r\n      <path d=\"M 6.640625 61.46875 \r\nL 6.640625 71.578125 \r\nL 15.4375 71.578125 \r\nL 15.4375 61.46875 \r\nz\r\nM 6.640625 0 \r\nL 6.640625 51.859375 \r\nL 15.4375 51.859375 \r\nL 15.4375 0 \r\nz\r\n\" id=\"ArialMT-105\"/>\r\n      <path d=\"M 4.5 23 \r\nL 13.421875 23.78125 \r\nQ 14.0625 18.40625 16.375 14.96875 \r\nQ 18.703125 11.53125 23.578125 9.40625 \r\nQ 28.46875 7.28125 34.578125 7.28125 \r\nQ 39.984375 7.28125 44.140625 8.890625 \r\nQ 48.296875 10.5 50.3125 13.296875 \r\nQ 52.34375 16.109375 52.34375 19.4375 \r\nQ 52.34375 22.796875 50.390625 25.3125 \r\nQ 48.4375 27.828125 43.953125 29.546875 \r\nQ 41.0625 30.671875 31.203125 33.03125 \r\nQ 21.34375 35.40625 17.390625 37.5 \r\nQ 12.25 40.1875 9.734375 44.15625 \r\nQ 7.234375 48.140625 7.234375 53.078125 \r\nQ 7.234375 58.5 10.296875 63.203125 \r\nQ 13.375 67.921875 19.28125 70.359375 \r\nQ 25.203125 72.796875 32.421875 72.796875 \r\nQ 40.375 72.796875 46.453125 70.234375 \r\nQ 52.546875 67.671875 55.8125 62.6875 \r\nQ 59.078125 57.71875 59.328125 51.421875 \r\nL 50.25 50.734375 \r\nQ 49.515625 57.515625 45.28125 60.984375 \r\nQ 41.0625 64.453125 32.8125 64.453125 \r\nQ 24.21875 64.453125 20.28125 61.296875 \r\nQ 16.359375 58.15625 16.359375 53.71875 \r\nQ 16.359375 49.859375 19.140625 47.359375 \r\nQ 21.875 44.875 33.421875 42.265625 \r\nQ 44.96875 39.65625 49.265625 37.703125 \r\nQ 55.515625 34.8125 58.484375 30.390625 \r\nQ 61.46875 25.984375 61.46875 20.21875 \r\nQ 61.46875 14.5 58.203125 9.4375 \r\nQ 54.9375 4.390625 48.796875 1.578125 \r\nQ 42.671875 -1.21875 35.015625 -1.21875 \r\nQ 25.296875 -1.21875 18.71875 1.609375 \r\nQ 12.15625 4.4375 8.421875 10.125 \r\nQ 4.6875 15.828125 4.5 23 \r\nz\r\n\" id=\"ArialMT-83\"/>\r\n      <path d=\"M 6.5 0 \r\nL 6.5 51.859375 \r\nL 14.40625 51.859375 \r\nL 14.40625 44 \r\nQ 17.4375 49.515625 20 51.265625 \r\nQ 22.5625 53.03125 25.640625 53.03125 \r\nQ 30.078125 53.03125 34.671875 50.203125 \r\nL 31.640625 42.046875 \r\nQ 28.421875 43.953125 25.203125 43.953125 \r\nQ 22.3125 43.953125 20.015625 42.21875 \r\nQ 17.71875 40.484375 16.75 37.40625 \r\nQ 15.28125 32.71875 15.28125 27.15625 \r\nL 15.28125 0 \r\nz\r\n\" id=\"ArialMT-114\"/>\r\n      <path d=\"M 40.4375 19 \r\nL 49.078125 17.875 \r\nQ 47.65625 8.9375 41.8125 3.875 \r\nQ 35.984375 -1.171875 27.484375 -1.171875 \r\nQ 16.84375 -1.171875 10.375 5.78125 \r\nQ 3.90625 12.75 3.90625 25.734375 \r\nQ 3.90625 34.125 6.6875 40.421875 \r\nQ 9.46875 46.734375 15.15625 49.875 \r\nQ 20.84375 53.03125 27.546875 53.03125 \r\nQ 35.984375 53.03125 41.359375 48.75 \r\nQ 46.734375 44.484375 48.25 36.625 \r\nL 39.703125 35.296875 \r\nQ 38.484375 40.53125 35.375 43.15625 \r\nQ 32.28125 45.796875 27.875 45.796875 \r\nQ 21.234375 45.796875 17.078125 41.03125 \r\nQ 12.9375 36.28125 12.9375 25.984375 \r\nQ 12.9375 15.53125 16.9375 10.796875 \r\nQ 20.953125 6.0625 27.390625 6.0625 \r\nQ 32.5625 6.0625 36.03125 9.234375 \r\nQ 39.5 12.40625 40.4375 19 \r\nz\r\n\" id=\"ArialMT-99\"/>\r\n     </defs>\r\n     <g style=\"fill:#262626;\" transform=\"translate(215.617656 266.67875)scale(0.1 -0.1)\">\r\n      <use xlink:href=\"#ArialMT-72\"/>\r\n      <use x=\"72.216797\" xlink:href=\"#ArialMT-111\"/>\r\n      <use x=\"127.832031\" xlink:href=\"#ArialMT-117\"/>\r\n      <use x=\"183.447266\" xlink:href=\"#ArialMT-115\"/>\r\n      <use x=\"233.447266\" xlink:href=\"#ArialMT-101\"/>\r\n      <use x=\"289.0625\" xlink:href=\"#ArialMT-104\"/>\r\n      <use x=\"344.677734\" xlink:href=\"#ArialMT-111\"/>\r\n      <use x=\"400.292969\" xlink:href=\"#ArialMT-108\"/>\r\n      <use x=\"422.509766\" xlink:href=\"#ArialMT-100\"/>\r\n      <use x=\"478.125\" xlink:href=\"#ArialMT-32\"/>\r\n      <use x=\"505.908203\" xlink:href=\"#ArialMT-104\"/>\r\n      <use x=\"561.523438\" xlink:href=\"#ArialMT-97\"/>\r\n      <use x=\"617.138672\" xlink:href=\"#ArialMT-118\"/>\r\n      <use x=\"667.138672\" xlink:href=\"#ArialMT-101\"/>\r\n      <use x=\"722.753906\" xlink:href=\"#ArialMT-32\"/>\r\n      <use x=\"750.537109\" xlink:href=\"#ArialMT-117\"/>\r\n      <use x=\"806.152344\" xlink:href=\"#ArialMT-115\"/>\r\n      <use x=\"856.152344\" xlink:href=\"#ArialMT-101\"/>\r\n      <use x=\"911.767578\" xlink:href=\"#ArialMT-100\"/>\r\n      <use x=\"967.382812\" xlink:href=\"#ArialMT-32\"/>\r\n      <use x=\"995.166016\" xlink:href=\"#ArialMT-116\"/>\r\n      <use x=\"1022.949219\" xlink:href=\"#ArialMT-104\"/>\r\n      <use x=\"1078.564453\" xlink:href=\"#ArialMT-101\"/>\r\n      <use x=\"1134.179688\" xlink:href=\"#ArialMT-32\"/>\r\n      <use x=\"1161.962891\" xlink:href=\"#ArialMT-82\"/>\r\n      <use x=\"1234.179688\" xlink:href=\"#ArialMT-111\"/>\r\n      <use x=\"1289.794922\" xlink:href=\"#ArialMT-97\"/>\r\n      <use x=\"1345.410156\" xlink:href=\"#ArialMT-100\"/>\r\n      <use x=\"1401.025391\" xlink:href=\"#ArialMT-115\"/>\r\n      <use x=\"1451.025391\" xlink:href=\"#ArialMT-105\"/>\r\n      <use x=\"1473.242188\" xlink:href=\"#ArialMT-100\"/>\r\n      <use x=\"1528.857422\" xlink:href=\"#ArialMT-101\"/>\r\n      <use x=\"1584.472656\" xlink:href=\"#ArialMT-32\"/>\r\n      <use x=\"1612.255859\" xlink:href=\"#ArialMT-83\"/>\r\n      <use x=\"1678.955078\" xlink:href=\"#ArialMT-101\"/>\r\n      <use x=\"1734.570312\" xlink:href=\"#ArialMT-114\"/>\r\n      <use x=\"1767.871094\" xlink:href=\"#ArialMT-118\"/>\r\n      <use x=\"1817.871094\" xlink:href=\"#ArialMT-105\"/>\r\n      <use x=\"1840.087891\" xlink:href=\"#ArialMT-99\"/>\r\n      <use x=\"1890.087891\" xlink:href=\"#ArialMT-101\"/>\r\n      <use x=\"1945.703125\" xlink:href=\"#ArialMT-115\"/>\r\n     </g>\r\n    </g>\r\n   </g>\r\n   <g id=\"matplotlib.axis_2\">\r\n    <g id=\"ytick_1\">\r\n     <g id=\"line2d_9\">\r\n      <path clip-path=\"url(#p6ad89041ee)\" d=\"M 147.996562 239.375625 \r\nL 482.796562 239.375625 \r\n\" style=\"fill:none;stroke:#ffffff;stroke-linecap:round;stroke-width:0.8;\"/>\r\n     </g>\r\n     <g id=\"text_10\">\r\n      <!-- 0 -->\r\n      <g style=\"fill:#262626;\" transform=\"translate(135.435625 242.954531)scale(0.1 -0.1)\">\r\n       <use xlink:href=\"#ArialMT-48\"/>\r\n      </g>\r\n     </g>\r\n    </g>\r\n    <g id=\"ytick_2\">\r\n     <g id=\"line2d_10\">\r\n      <path clip-path=\"url(#p6ad89041ee)\" d=\"M 147.996562 203.357276 \r\nL 482.796562 203.357276 \r\n\" style=\"fill:none;stroke:#ffffff;stroke-linecap:round;stroke-width:0.8;\"/>\r\n     </g>\r\n     <g id=\"text_11\">\r\n      <!-- 1 -->\r\n      <g style=\"fill:#262626;\" transform=\"translate(135.435625 206.936183)scale(0.1 -0.1)\">\r\n       <use xlink:href=\"#ArialMT-49\"/>\r\n      </g>\r\n     </g>\r\n    </g>\r\n    <g id=\"ytick_3\">\r\n     <g id=\"line2d_11\">\r\n      <path clip-path=\"url(#p6ad89041ee)\" d=\"M 147.996562 167.338928 \r\nL 482.796562 167.338928 \r\n\" style=\"fill:none;stroke:#ffffff;stroke-linecap:round;stroke-width:0.8;\"/>\r\n     </g>\r\n     <g id=\"text_12\">\r\n      <!-- 2 -->\r\n      <g style=\"fill:#262626;\" transform=\"translate(135.435625 170.917834)scale(0.1 -0.1)\">\r\n       <use xlink:href=\"#ArialMT-50\"/>\r\n      </g>\r\n     </g>\r\n    </g>\r\n    <g id=\"ytick_4\">\r\n     <g id=\"line2d_12\">\r\n      <path clip-path=\"url(#p6ad89041ee)\" d=\"M 147.996562 131.320579 \r\nL 482.796562 131.320579 \r\n\" style=\"fill:none;stroke:#ffffff;stroke-linecap:round;stroke-width:0.8;\"/>\r\n     </g>\r\n     <g id=\"text_13\">\r\n      <!-- 3 -->\r\n      <defs>\r\n       <path d=\"M 4.203125 18.890625 \r\nL 12.984375 20.0625 \r\nQ 14.5 12.59375 18.140625 9.296875 \r\nQ 21.78125 6 27 6 \r\nQ 33.203125 6 37.46875 10.296875 \r\nQ 41.75 14.59375 41.75 20.953125 \r\nQ 41.75 27 37.796875 30.921875 \r\nQ 33.84375 34.859375 27.734375 34.859375 \r\nQ 25.25 34.859375 21.53125 33.890625 \r\nL 22.515625 41.609375 \r\nQ 23.390625 41.5 23.921875 41.5 \r\nQ 29.546875 41.5 34.03125 44.421875 \r\nQ 38.53125 47.359375 38.53125 53.46875 \r\nQ 38.53125 58.296875 35.25 61.46875 \r\nQ 31.984375 64.65625 26.8125 64.65625 \r\nQ 21.6875 64.65625 18.265625 61.421875 \r\nQ 14.84375 58.203125 13.875 51.765625 \r\nL 5.078125 53.328125 \r\nQ 6.6875 62.15625 12.390625 67.015625 \r\nQ 18.109375 71.875 26.609375 71.875 \r\nQ 32.46875 71.875 37.390625 69.359375 \r\nQ 42.328125 66.84375 44.9375 62.5 \r\nQ 47.5625 58.15625 47.5625 53.265625 \r\nQ 47.5625 48.640625 45.0625 44.828125 \r\nQ 42.578125 41.015625 37.703125 38.765625 \r\nQ 44.046875 37.3125 47.5625 32.6875 \r\nQ 51.078125 28.078125 51.078125 21.140625 \r\nQ 51.078125 11.765625 44.234375 5.25 \r\nQ 37.40625 -1.265625 26.953125 -1.265625 \r\nQ 17.53125 -1.265625 11.296875 4.34375 \r\nQ 5.078125 9.96875 4.203125 18.890625 \r\nz\r\n\" id=\"ArialMT-51\"/>\r\n      </defs>\r\n      <g style=\"fill:#262626;\" transform=\"translate(135.435625 134.899485)scale(0.1 -0.1)\">\r\n       <use xlink:href=\"#ArialMT-51\"/>\r\n      </g>\r\n     </g>\r\n    </g>\r\n    <g id=\"ytick_5\">\r\n     <g id=\"line2d_13\">\r\n      <path clip-path=\"url(#p6ad89041ee)\" d=\"M 147.996562 95.302231 \r\nL 482.796562 95.302231 \r\n\" style=\"fill:none;stroke:#ffffff;stroke-linecap:round;stroke-width:0.8;\"/>\r\n     </g>\r\n     <g id=\"text_14\">\r\n      <!-- 4 -->\r\n      <g style=\"fill:#262626;\" transform=\"translate(135.435625 98.881137)scale(0.1 -0.1)\">\r\n       <use xlink:href=\"#ArialMT-52\"/>\r\n      </g>\r\n     </g>\r\n    </g>\r\n    <g id=\"ytick_6\">\r\n     <g id=\"line2d_14\">\r\n      <path clip-path=\"url(#p6ad89041ee)\" d=\"M 147.996562 59.283882 \r\nL 482.796562 59.283882 \r\n\" style=\"fill:none;stroke:#ffffff;stroke-linecap:round;stroke-width:0.8;\"/>\r\n     </g>\r\n     <g id=\"text_15\">\r\n      <!-- 5 -->\r\n      <defs>\r\n       <path d=\"M 4.15625 18.75 \r\nL 13.375 19.53125 \r\nQ 14.40625 12.796875 18.140625 9.390625 \r\nQ 21.875 6 27.15625 6 \r\nQ 33.5 6 37.890625 10.78125 \r\nQ 42.28125 15.578125 42.28125 23.484375 \r\nQ 42.28125 31 38.0625 35.34375 \r\nQ 33.84375 39.703125 27 39.703125 \r\nQ 22.75 39.703125 19.328125 37.765625 \r\nQ 15.921875 35.84375 13.96875 32.765625 \r\nL 5.71875 33.84375 \r\nL 12.640625 70.609375 \r\nL 48.25 70.609375 \r\nL 48.25 62.203125 \r\nL 19.671875 62.203125 \r\nL 15.828125 42.96875 \r\nQ 22.265625 47.46875 29.34375 47.46875 \r\nQ 38.71875 47.46875 45.15625 40.96875 \r\nQ 51.609375 34.46875 51.609375 24.265625 \r\nQ 51.609375 14.546875 45.953125 7.46875 \r\nQ 39.0625 -1.21875 27.15625 -1.21875 \r\nQ 17.390625 -1.21875 11.203125 4.25 \r\nQ 5.03125 9.71875 4.15625 18.75 \r\nz\r\n\" id=\"ArialMT-53\"/>\r\n      </defs>\r\n      <g style=\"fill:#262626;\" transform=\"translate(135.435625 62.862788)scale(0.1 -0.1)\">\r\n       <use xlink:href=\"#ArialMT-53\"/>\r\n      </g>\r\n     </g>\r\n    </g>\r\n    <g id=\"ytick_7\">\r\n     <g id=\"line2d_15\">\r\n      <path clip-path=\"url(#p6ad89041ee)\" d=\"M 147.996562 23.265533 \r\nL 482.796562 23.265533 \r\n\" style=\"fill:none;stroke:#ffffff;stroke-linecap:round;stroke-width:0.8;\"/>\r\n     </g>\r\n     <g id=\"text_16\">\r\n      <!-- 6 -->\r\n      <g style=\"fill:#262626;\" transform=\"translate(135.435625 26.84444)scale(0.1 -0.1)\">\r\n       <use xlink:href=\"#ArialMT-54\"/>\r\n      </g>\r\n     </g>\r\n    </g>\r\n    <g id=\"text_17\">\r\n     <!-- Frequency -->\r\n     <defs>\r\n      <path d=\"M 8.203125 0 \r\nL 8.203125 71.578125 \r\nL 56.5 71.578125 \r\nL 56.5 63.140625 \r\nL 17.671875 63.140625 \r\nL 17.671875 40.96875 \r\nL 51.265625 40.96875 \r\nL 51.265625 32.515625 \r\nL 17.671875 32.515625 \r\nL 17.671875 0 \r\nz\r\n\" id=\"ArialMT-70\"/>\r\n      <path d=\"M 39.65625 -19.875 \r\nL 39.65625 5.515625 \r\nQ 37.59375 2.640625 33.90625 0.734375 \r\nQ 30.21875 -1.171875 26.078125 -1.171875 \r\nQ 16.84375 -1.171875 10.171875 6.203125 \r\nQ 3.515625 13.578125 3.515625 26.421875 \r\nQ 3.515625 34.234375 6.21875 40.421875 \r\nQ 8.9375 46.625 14.078125 49.828125 \r\nQ 19.234375 53.03125 25.390625 53.03125 \r\nQ 35.015625 53.03125 40.53125 44.921875 \r\nL 40.53125 51.859375 \r\nL 48.4375 51.859375 \r\nL 48.4375 -19.875 \r\nz\r\nM 12.546875 26.078125 \r\nQ 12.546875 16.0625 16.75 11.0625 \r\nQ 20.953125 6.0625 26.8125 6.0625 \r\nQ 32.421875 6.0625 36.46875 10.8125 \r\nQ 40.53125 15.578125 40.53125 25.296875 \r\nQ 40.53125 35.640625 36.25 40.859375 \r\nQ 31.984375 46.09375 26.21875 46.09375 \r\nQ 20.515625 46.09375 16.53125 41.234375 \r\nQ 12.546875 36.375 12.546875 26.078125 \r\nz\r\n\" id=\"ArialMT-113\"/>\r\n      <path d=\"M 6.59375 0 \r\nL 6.59375 51.859375 \r\nL 14.5 51.859375 \r\nL 14.5 44.484375 \r\nQ 20.21875 53.03125 31 53.03125 \r\nQ 35.6875 53.03125 39.625 51.34375 \r\nQ 43.5625 49.65625 45.515625 46.921875 \r\nQ 47.46875 44.1875 48.25 40.4375 \r\nQ 48.734375 37.984375 48.734375 31.890625 \r\nL 48.734375 0 \r\nL 39.9375 0 \r\nL 39.9375 31.546875 \r\nQ 39.9375 36.921875 38.90625 39.578125 \r\nQ 37.890625 42.234375 35.28125 43.8125 \r\nQ 32.671875 45.40625 29.15625 45.40625 \r\nQ 23.53125 45.40625 19.453125 41.84375 \r\nQ 15.375 38.28125 15.375 28.328125 \r\nL 15.375 0 \r\nz\r\n\" id=\"ArialMT-110\"/>\r\n      <path d=\"M 6.203125 -19.96875 \r\nL 5.21875 -11.71875 \r\nQ 8.109375 -12.5 10.25 -12.5 \r\nQ 13.1875 -12.5 14.9375 -11.515625 \r\nQ 16.703125 -10.546875 17.828125 -8.796875 \r\nQ 18.65625 -7.46875 20.515625 -2.25 \r\nQ 20.75 -1.515625 21.296875 -0.09375 \r\nL 1.609375 51.859375 \r\nL 11.078125 51.859375 \r\nL 21.875 21.828125 \r\nQ 23.96875 16.109375 25.640625 9.8125 \r\nQ 27.15625 15.875 29.25 21.625 \r\nL 40.328125 51.859375 \r\nL 49.125 51.859375 \r\nL 29.390625 -0.875 \r\nQ 26.21875 -9.421875 24.46875 -12.640625 \r\nQ 22.125 -17 19.09375 -19.015625 \r\nQ 16.0625 -21.046875 11.859375 -21.046875 \r\nQ 9.328125 -21.046875 6.203125 -19.96875 \r\nz\r\n\" id=\"ArialMT-121\"/>\r\n     </defs>\r\n     <g style=\"fill:#262626;\" transform=\"translate(129.330937 154.276719)rotate(-90)scale(0.1 -0.1)\">\r\n      <use xlink:href=\"#ArialMT-70\"/>\r\n      <use x=\"61.083984\" xlink:href=\"#ArialMT-114\"/>\r\n      <use x=\"94.384766\" xlink:href=\"#ArialMT-101\"/>\r\n      <use x=\"150\" xlink:href=\"#ArialMT-113\"/>\r\n      <use x=\"205.615234\" xlink:href=\"#ArialMT-117\"/>\r\n      <use x=\"261.230469\" xlink:href=\"#ArialMT-101\"/>\r\n      <use x=\"316.845703\" xlink:href=\"#ArialMT-110\"/>\r\n      <use x=\"372.460938\" xlink:href=\"#ArialMT-99\"/>\r\n      <use x=\"422.460938\" xlink:href=\"#ArialMT-121\"/>\r\n     </g>\r\n    </g>\r\n   </g>\r\n   <g id=\"patch_3\">\r\n    <path clip-path=\"url(#p6ad89041ee)\" d=\"M 216.666849 239.375625 \r\nL 241.349277 239.375625 \r\nL 241.349277 158.31455 \r\nL 216.666849 158.31455 \r\nz\r\n\" style=\"fill:#1f77b4;opacity:0.4;stroke:#ffffff;stroke-linejoin:miter;\"/>\r\n   </g>\r\n   <g id=\"patch_4\">\r\n    <path clip-path=\"url(#p6ad89041ee)\" d=\"M 241.349277 239.375625 \r\nL 266.031706 239.375625 \r\nL 266.031706 239.375625 \r\nL 241.349277 239.375625 \r\nz\r\n\" style=\"fill:#1f77b4;opacity:0.4;stroke:#ffffff;stroke-linejoin:miter;\"/>\r\n   </g>\r\n   <g id=\"patch_5\">\r\n    <path clip-path=\"url(#p6ad89041ee)\" d=\"M 266.031706 239.375625 \r\nL 290.714134 239.375625 \r\nL 290.714134 239.375625 \r\nL 266.031706 239.375625 \r\nz\r\n\" style=\"fill:#1f77b4;opacity:0.4;stroke:#ffffff;stroke-linejoin:miter;\"/>\r\n   </g>\r\n   <g id=\"patch_6\">\r\n    <path clip-path=\"url(#p6ad89041ee)\" d=\"M 290.714134 239.375625 \r\nL 315.396562 239.375625 \r\nL 315.396562 239.375625 \r\nL 290.714134 239.375625 \r\nz\r\n\" style=\"fill:#1f77b4;opacity:0.4;stroke:#ffffff;stroke-linejoin:miter;\"/>\r\n   </g>\r\n   <g id=\"patch_7\">\r\n    <path clip-path=\"url(#p6ad89041ee)\" d=\"M 315.396563 239.375625 \r\nL 340.078991 239.375625 \r\nL 340.078991 239.375625 \r\nL 315.396563 239.375625 \r\nz\r\n\" style=\"fill:#1f77b4;opacity:0.4;stroke:#ffffff;stroke-linejoin:miter;\"/>\r\n   </g>\r\n   <g id=\"patch_8\">\r\n    <path clip-path=\"url(#p6ad89041ee)\" d=\"M 340.078991 239.375625 \r\nL 364.761419 239.375625 \r\nL 364.761419 239.375625 \r\nL 340.078991 239.375625 \r\nz\r\n\" style=\"fill:#1f77b4;opacity:0.4;stroke:#ffffff;stroke-linejoin:miter;\"/>\r\n   </g>\r\n   <g id=\"patch_9\">\r\n    <path clip-path=\"url(#p6ad89041ee)\" d=\"M 364.761419 239.375625 \r\nL 389.443848 239.375625 \r\nL 389.443848 239.375625 \r\nL 364.761419 239.375625 \r\nz\r\n\" style=\"fill:#1f77b4;opacity:0.4;stroke:#ffffff;stroke-linejoin:miter;\"/>\r\n   </g>\r\n   <g id=\"patch_10\">\r\n    <path clip-path=\"url(#p6ad89041ee)\" d=\"M 389.443848 239.375625 \r\nL 414.126276 239.375625 \r\nL 414.126276 32.289911 \r\nL 389.443848 32.289911 \r\nz\r\n\" style=\"fill:#1f77b4;opacity:0.4;stroke:#ffffff;stroke-linejoin:miter;\"/>\r\n   </g>\r\n   <g id=\"line2d_16\">\r\n    <path clip-path=\"url(#p6ad89041ee)\" d=\"M 163.214744 237.940769 \r\nL 165.611308 238.001184 \r\nL 168.007872 237.861563 \r\nL 170.404437 237.522605 \r\nL 172.801001 236.972723 \r\nL 175.197565 236.190601 \r\nL 177.594129 235.148347 \r\nL 179.990693 233.815255 \r\nL 182.387257 232.16218 \r\nL 184.783821 230.166399 \r\nL 187.180385 227.816728 \r\nL 189.576949 225.118515 \r\nL 191.973513 222.098021 \r\nL 194.370077 218.805601 \r\nL 203.956333 204.780711 \r\nL 206.352898 201.693501 \r\nL 208.749462 199.054844 \r\nL 211.146026 196.992497 \r\nL 213.54259 195.610543 \r\nL 215.939154 194.9807 \r\nL 218.335718 195.136152 \r\nL 220.732282 196.068656 \r\nL 223.128846 197.729263 \r\nL 225.52541 200.032576 \r\nL 227.921974 202.864031 \r\nL 230.318538 206.089315 \r\nL 242.301358 223.323656 \r\nL 244.697923 226.223376 \r\nL 247.094487 228.789299 \r\nL 249.491051 231.004877 \r\nL 251.887615 232.873471 \r\nL 254.284179 234.413994 \r\nL 256.680743 235.656284 \r\nL 259.077307 236.636687 \r\nL 261.473871 237.39422 \r\nL 263.870435 237.967506 \r\nL 266.266999 238.392564 \r\nL 271.060127 238.921381 \r\nL 275.853255 239.180145 \r\nL 283.042948 239.327331 \r\nL 302.21546 239.375094 \r\nL 345.353613 239.300915 \r\nL 352.543306 239.056647 \r\nL 357.336434 238.607564 \r\nL 359.732998 238.215173 \r\nL 362.129562 237.653221 \r\nL 364.526126 236.864211 \r\nL 366.92269 235.778322 \r\nL 369.319254 234.313755 \r\nL 371.715818 232.378495 \r\nL 374.112382 229.873871 \r\nL 376.508946 226.700209 \r\nL 378.90551 222.764653 \r\nL 381.302074 217.990979 \r\nL 383.698638 212.33087 \r\nL 386.095202 205.775739 \r\nL 388.491767 198.367859 \r\nL 390.888331 190.2093 \r\nL 395.681459 172.373251 \r\nL 400.474587 154.339505 \r\nL 402.871151 146.099911 \r\nL 405.267715 138.866431 \r\nL 407.664279 132.982184 \r\nL 410.060843 128.739853 \r\nL 412.457407 126.357599 \r\nL 414.853971 125.960467 \r\nL 417.250535 127.569523 \r\nL 419.647099 131.099991 \r\nL 422.043663 136.36866 \r\nL 424.440227 143.109638 \r\nL 426.836792 150.996561 \r\nL 429.233356 159.668706 \r\nL 436.423048 186.827617 \r\nL 438.819612 195.240482 \r\nL 441.216176 202.960108 \r\nL 443.61274 209.858931 \r\nL 446.009304 215.871661 \r\nL 448.405868 220.987566 \r\nL 450.802432 225.239902 \r\nL 453.198996 228.694029 \r\nL 455.59556 231.435565 \r\nL 457.992124 233.559602 \r\nL 460.388688 235.16167 \r\nL 462.785253 236.330743 \r\nL 465.181817 237.144318 \r\nL 467.578381 237.665352 \r\nL 467.578381 237.665352 \r\n\" style=\"fill:none;stroke:#1f77b4;stroke-linecap:round;stroke-width:1.5;\"/>\r\n   </g>\r\n   <g id=\"patch_11\">\r\n    <path d=\"M 147.996562 239.375625 \r\nL 147.996562 21.935625 \r\n\" style=\"fill:none;stroke:#ffffff;stroke-linecap:square;stroke-linejoin:miter;stroke-width:0.8;\"/>\r\n   </g>\r\n   <g id=\"patch_12\">\r\n    <path d=\"M 482.796562 239.375625 \r\nL 482.796562 21.935625 \r\n\" style=\"fill:none;stroke:#ffffff;stroke-linecap:square;stroke-linejoin:miter;stroke-width:0.8;\"/>\r\n   </g>\r\n   <g id=\"patch_13\">\r\n    <path d=\"M 147.996562 239.375625 \r\nL 482.796562 239.375625 \r\n\" style=\"fill:none;stroke:#ffffff;stroke-linecap:square;stroke-linejoin:miter;stroke-width:0.8;\"/>\r\n   </g>\r\n   <g id=\"patch_14\">\r\n    <path d=\"M 147.996562 21.935625 \r\nL 482.796562 21.935625 \r\n\" style=\"fill:none;stroke:#ffffff;stroke-linecap:square;stroke-linejoin:miter;stroke-width:0.8;\"/>\r\n   </g>\r\n   <g id=\"text_18\">\r\n    <!-- Household have used the Roadside Services distribution - - Mu: 0.7186813186813187 Sigma: 0.4496426145949687 -->\r\n    <defs>\r\n     <path d=\"M 14.703125 0 \r\nL 6.546875 0 \r\nL 6.546875 71.578125 \r\nL 15.328125 71.578125 \r\nL 15.328125 46.046875 \r\nQ 20.90625 53.03125 29.546875 53.03125 \r\nQ 34.328125 53.03125 38.59375 51.09375 \r\nQ 42.875 49.171875 45.625 45.671875 \r\nQ 48.390625 42.1875 49.953125 37.25 \r\nQ 51.515625 32.328125 51.515625 26.703125 \r\nQ 51.515625 13.375 44.921875 6.09375 \r\nQ 38.328125 -1.171875 29.109375 -1.171875 \r\nQ 19.921875 -1.171875 14.703125 6.5 \r\nz\r\nM 14.59375 26.3125 \r\nQ 14.59375 17 17.140625 12.84375 \r\nQ 21.296875 6.0625 28.375 6.0625 \r\nQ 34.125 6.0625 38.328125 11.0625 \r\nQ 42.53125 16.0625 42.53125 25.984375 \r\nQ 42.53125 36.140625 38.5 40.96875 \r\nQ 34.46875 45.796875 28.765625 45.796875 \r\nQ 23 45.796875 18.796875 40.796875 \r\nQ 14.59375 35.796875 14.59375 26.3125 \r\nz\r\n\" id=\"ArialMT-98\"/>\r\n     <path d=\"M 3.171875 21.484375 \r\nL 3.171875 30.328125 \r\nL 30.171875 30.328125 \r\nL 30.171875 21.484375 \r\nz\r\n\" id=\"ArialMT-45\"/>\r\n     <path d=\"M 7.421875 0 \r\nL 7.421875 71.578125 \r\nL 21.6875 71.578125 \r\nL 38.625 20.90625 \r\nQ 40.96875 13.8125 42.046875 10.296875 \r\nQ 43.265625 14.203125 45.84375 21.78125 \r\nL 62.984375 71.578125 \r\nL 75.734375 71.578125 \r\nL 75.734375 0 \r\nL 66.609375 0 \r\nL 66.609375 59.90625 \r\nL 45.796875 0 \r\nL 37.25 0 \r\nL 16.546875 60.9375 \r\nL 16.546875 0 \r\nz\r\n\" id=\"ArialMT-77\"/>\r\n     <path d=\"M 9.03125 41.84375 \r\nL 9.03125 51.859375 \r\nL 19.046875 51.859375 \r\nL 19.046875 41.84375 \r\nz\r\nM 9.03125 0 \r\nL 9.03125 10.015625 \r\nL 19.046875 10.015625 \r\nL 19.046875 0 \r\nz\r\n\" id=\"ArialMT-58\"/>\r\n     <path d=\"M 4.734375 62.203125 \r\nL 4.734375 70.65625 \r\nL 51.078125 70.65625 \r\nL 51.078125 63.8125 \r\nQ 44.234375 56.546875 37.515625 44.484375 \r\nQ 30.8125 32.421875 27.15625 19.671875 \r\nQ 24.515625 10.6875 23.78125 0 \r\nL 14.75 0 \r\nQ 14.890625 8.453125 18.0625 20.40625 \r\nQ 21.234375 32.375 27.171875 43.484375 \r\nQ 33.109375 54.59375 39.796875 62.203125 \r\nz\r\n\" id=\"ArialMT-55\"/>\r\n     <path d=\"M 4.984375 -4.296875 \r\nL 13.53125 -5.5625 \r\nQ 14.0625 -9.515625 16.5 -11.328125 \r\nQ 19.78125 -13.765625 25.4375 -13.765625 \r\nQ 31.546875 -13.765625 34.859375 -11.328125 \r\nQ 38.1875 -8.890625 39.359375 -4.5 \r\nQ 40.046875 -1.8125 39.984375 6.78125 \r\nQ 34.234375 0 25.640625 0 \r\nQ 14.9375 0 9.078125 7.71875 \r\nQ 3.21875 15.4375 3.21875 26.21875 \r\nQ 3.21875 33.640625 5.90625 39.90625 \r\nQ 8.59375 46.1875 13.6875 49.609375 \r\nQ 18.796875 53.03125 25.6875 53.03125 \r\nQ 34.859375 53.03125 40.828125 45.609375 \r\nL 40.828125 51.859375 \r\nL 48.921875 51.859375 \r\nL 48.921875 7.03125 \r\nQ 48.921875 -5.078125 46.453125 -10.125 \r\nQ 44 -15.1875 38.640625 -18.109375 \r\nQ 33.296875 -21.046875 25.484375 -21.046875 \r\nQ 16.21875 -21.046875 10.5 -16.875 \r\nQ 4.78125 -12.703125 4.984375 -4.296875 \r\nz\r\nM 12.25 26.859375 \r\nQ 12.25 16.65625 16.296875 11.96875 \r\nQ 20.359375 7.28125 26.46875 7.28125 \r\nQ 32.515625 7.28125 36.609375 11.9375 \r\nQ 40.71875 16.609375 40.71875 26.5625 \r\nQ 40.71875 36.078125 36.5 40.90625 \r\nQ 32.28125 45.75 26.3125 45.75 \r\nQ 20.453125 45.75 16.34375 40.984375 \r\nQ 12.25 36.234375 12.25 26.859375 \r\nz\r\n\" id=\"ArialMT-103\"/>\r\n     <path d=\"M 6.59375 0 \r\nL 6.59375 51.859375 \r\nL 14.453125 51.859375 \r\nL 14.453125 44.578125 \r\nQ 16.890625 48.390625 20.9375 50.703125 \r\nQ 25 53.03125 30.171875 53.03125 \r\nQ 35.9375 53.03125 39.625 50.640625 \r\nQ 43.3125 48.25 44.828125 43.953125 \r\nQ 50.984375 53.03125 60.84375 53.03125 \r\nQ 68.5625 53.03125 72.703125 48.75 \r\nQ 76.859375 44.484375 76.859375 35.59375 \r\nL 76.859375 0 \r\nL 68.109375 0 \r\nL 68.109375 32.671875 \r\nQ 68.109375 37.9375 67.25 40.25 \r\nQ 66.40625 42.578125 64.15625 43.984375 \r\nQ 61.921875 45.40625 58.890625 45.40625 \r\nQ 53.421875 45.40625 49.796875 41.765625 \r\nQ 46.1875 38.140625 46.1875 30.125 \r\nL 46.1875 0 \r\nL 37.40625 0 \r\nL 37.40625 33.6875 \r\nQ 37.40625 39.546875 35.25 42.46875 \r\nQ 33.109375 45.40625 28.21875 45.40625 \r\nQ 24.515625 45.40625 21.359375 43.453125 \r\nQ 18.21875 41.5 16.796875 37.734375 \r\nQ 15.375 33.984375 15.375 26.90625 \r\nL 15.375 0 \r\nz\r\n\" id=\"ArialMT-109\"/>\r\n     <path d=\"M 5.46875 16.546875 \r\nL 13.921875 17.328125 \r\nQ 14.984375 11.375 18.015625 8.6875 \r\nQ 21.046875 6 25.78125 6 \r\nQ 29.828125 6 32.875 7.859375 \r\nQ 35.9375 9.71875 37.890625 12.8125 \r\nQ 39.84375 15.921875 41.15625 21.1875 \r\nQ 42.484375 26.46875 42.484375 31.9375 \r\nQ 42.484375 32.515625 42.4375 33.6875 \r\nQ 39.796875 29.5 35.234375 26.875 \r\nQ 30.671875 24.265625 25.34375 24.265625 \r\nQ 16.453125 24.265625 10.296875 30.703125 \r\nQ 4.15625 37.15625 4.15625 47.703125 \r\nQ 4.15625 58.59375 10.578125 65.234375 \r\nQ 17 71.875 26.65625 71.875 \r\nQ 33.640625 71.875 39.421875 68.109375 \r\nQ 45.21875 64.359375 48.21875 57.390625 \r\nQ 51.21875 50.4375 51.21875 37.25 \r\nQ 51.21875 23.53125 48.234375 15.40625 \r\nQ 45.265625 7.28125 39.375 3.03125 \r\nQ 33.5 -1.21875 25.59375 -1.21875 \r\nQ 17.1875 -1.21875 11.859375 3.4375 \r\nQ 6.546875 8.109375 5.46875 16.546875 \r\nz\r\nM 41.453125 48.140625 \r\nQ 41.453125 55.71875 37.421875 60.15625 \r\nQ 33.40625 64.59375 27.734375 64.59375 \r\nQ 21.875 64.59375 17.53125 59.8125 \r\nQ 13.1875 55.03125 13.1875 47.40625 \r\nQ 13.1875 40.578125 17.3125 36.296875 \r\nQ 21.4375 32.03125 27.484375 32.03125 \r\nQ 33.59375 32.03125 37.515625 36.296875 \r\nQ 41.453125 40.578125 41.453125 48.140625 \r\nz\r\n\" id=\"ArialMT-57\"/>\r\n    </defs>\r\n    <g style=\"fill:#262626;\" transform=\"translate(7.2 15.935625)scale(0.12 -0.12)\">\r\n     <use xlink:href=\"#ArialMT-72\"/>\r\n     <use x=\"72.216797\" xlink:href=\"#ArialMT-111\"/>\r\n     <use x=\"127.832031\" xlink:href=\"#ArialMT-117\"/>\r\n     <use x=\"183.447266\" xlink:href=\"#ArialMT-115\"/>\r\n     <use x=\"233.447266\" xlink:href=\"#ArialMT-101\"/>\r\n     <use x=\"289.0625\" xlink:href=\"#ArialMT-104\"/>\r\n     <use x=\"344.677734\" xlink:href=\"#ArialMT-111\"/>\r\n     <use x=\"400.292969\" xlink:href=\"#ArialMT-108\"/>\r\n     <use x=\"422.509766\" xlink:href=\"#ArialMT-100\"/>\r\n     <use x=\"478.125\" xlink:href=\"#ArialMT-32\"/>\r\n     <use x=\"505.908203\" xlink:href=\"#ArialMT-104\"/>\r\n     <use x=\"561.523438\" xlink:href=\"#ArialMT-97\"/>\r\n     <use x=\"617.138672\" xlink:href=\"#ArialMT-118\"/>\r\n     <use x=\"667.138672\" xlink:href=\"#ArialMT-101\"/>\r\n     <use x=\"722.753906\" xlink:href=\"#ArialMT-32\"/>\r\n     <use x=\"750.537109\" xlink:href=\"#ArialMT-117\"/>\r\n     <use x=\"806.152344\" xlink:href=\"#ArialMT-115\"/>\r\n     <use x=\"856.152344\" xlink:href=\"#ArialMT-101\"/>\r\n     <use x=\"911.767578\" xlink:href=\"#ArialMT-100\"/>\r\n     <use x=\"967.382812\" xlink:href=\"#ArialMT-32\"/>\r\n     <use x=\"995.166016\" xlink:href=\"#ArialMT-116\"/>\r\n     <use x=\"1022.949219\" xlink:href=\"#ArialMT-104\"/>\r\n     <use x=\"1078.564453\" xlink:href=\"#ArialMT-101\"/>\r\n     <use x=\"1134.179688\" xlink:href=\"#ArialMT-32\"/>\r\n     <use x=\"1161.962891\" xlink:href=\"#ArialMT-82\"/>\r\n     <use x=\"1234.179688\" xlink:href=\"#ArialMT-111\"/>\r\n     <use x=\"1289.794922\" xlink:href=\"#ArialMT-97\"/>\r\n     <use x=\"1345.410156\" xlink:href=\"#ArialMT-100\"/>\r\n     <use x=\"1401.025391\" xlink:href=\"#ArialMT-115\"/>\r\n     <use x=\"1451.025391\" xlink:href=\"#ArialMT-105\"/>\r\n     <use x=\"1473.242188\" xlink:href=\"#ArialMT-100\"/>\r\n     <use x=\"1528.857422\" xlink:href=\"#ArialMT-101\"/>\r\n     <use x=\"1584.472656\" xlink:href=\"#ArialMT-32\"/>\r\n     <use x=\"1612.255859\" xlink:href=\"#ArialMT-83\"/>\r\n     <use x=\"1678.955078\" xlink:href=\"#ArialMT-101\"/>\r\n     <use x=\"1734.570312\" xlink:href=\"#ArialMT-114\"/>\r\n     <use x=\"1767.871094\" xlink:href=\"#ArialMT-118\"/>\r\n     <use x=\"1817.871094\" xlink:href=\"#ArialMT-105\"/>\r\n     <use x=\"1840.087891\" xlink:href=\"#ArialMT-99\"/>\r\n     <use x=\"1890.087891\" xlink:href=\"#ArialMT-101\"/>\r\n     <use x=\"1945.703125\" xlink:href=\"#ArialMT-115\"/>\r\n     <use x=\"1995.703125\" xlink:href=\"#ArialMT-32\"/>\r\n     <use x=\"2023.486328\" xlink:href=\"#ArialMT-100\"/>\r\n     <use x=\"2079.101562\" xlink:href=\"#ArialMT-105\"/>\r\n     <use x=\"2101.318359\" xlink:href=\"#ArialMT-115\"/>\r\n     <use x=\"2151.318359\" xlink:href=\"#ArialMT-116\"/>\r\n     <use x=\"2179.101562\" xlink:href=\"#ArialMT-114\"/>\r\n     <use x=\"2212.402344\" xlink:href=\"#ArialMT-105\"/>\r\n     <use x=\"2234.619141\" xlink:href=\"#ArialMT-98\"/>\r\n     <use x=\"2290.234375\" xlink:href=\"#ArialMT-117\"/>\r\n     <use x=\"2345.849609\" xlink:href=\"#ArialMT-116\"/>\r\n     <use x=\"2373.632812\" xlink:href=\"#ArialMT-105\"/>\r\n     <use x=\"2395.849609\" xlink:href=\"#ArialMT-111\"/>\r\n     <use x=\"2451.464844\" xlink:href=\"#ArialMT-110\"/>\r\n     <use x=\"2507.080078\" xlink:href=\"#ArialMT-32\"/>\r\n     <use x=\"2534.863281\" xlink:href=\"#ArialMT-45\"/>\r\n     <use x=\"2568.164062\" xlink:href=\"#ArialMT-45\"/>\r\n     <use x=\"2601.464844\" xlink:href=\"#ArialMT-32\"/>\r\n     <use x=\"2629.248047\" xlink:href=\"#ArialMT-77\"/>\r\n     <use x=\"2712.548828\" xlink:href=\"#ArialMT-117\"/>\r\n     <use x=\"2768.164062\" xlink:href=\"#ArialMT-58\"/>\r\n     <use x=\"2795.947266\" xlink:href=\"#ArialMT-32\"/>\r\n     <use x=\"2823.730469\" xlink:href=\"#ArialMT-48\"/>\r\n     <use x=\"2879.345703\" xlink:href=\"#ArialMT-46\"/>\r\n     <use x=\"2907.128906\" xlink:href=\"#ArialMT-55\"/>\r\n     <use x=\"2962.744141\" xlink:href=\"#ArialMT-49\"/>\r\n     <use x=\"3018.359375\" xlink:href=\"#ArialMT-56\"/>\r\n     <use x=\"3073.974609\" xlink:href=\"#ArialMT-54\"/>\r\n     <use x=\"3129.589844\" xlink:href=\"#ArialMT-56\"/>\r\n     <use x=\"3185.205078\" xlink:href=\"#ArialMT-49\"/>\r\n     <use x=\"3240.820312\" xlink:href=\"#ArialMT-51\"/>\r\n     <use x=\"3296.435547\" xlink:href=\"#ArialMT-49\"/>\r\n     <use x=\"3352.050781\" xlink:href=\"#ArialMT-56\"/>\r\n     <use x=\"3407.666016\" xlink:href=\"#ArialMT-54\"/>\r\n     <use x=\"3463.28125\" xlink:href=\"#ArialMT-56\"/>\r\n     <use x=\"3518.896484\" xlink:href=\"#ArialMT-49\"/>\r\n     <use x=\"3574.511719\" xlink:href=\"#ArialMT-51\"/>\r\n     <use x=\"3630.126953\" xlink:href=\"#ArialMT-49\"/>\r\n     <use x=\"3685.742188\" xlink:href=\"#ArialMT-56\"/>\r\n     <use x=\"3741.357422\" xlink:href=\"#ArialMT-55\"/>\r\n     <use x=\"3796.972656\" xlink:href=\"#ArialMT-32\"/>\r\n     <use x=\"3824.755859\" xlink:href=\"#ArialMT-83\"/>\r\n     <use x=\"3891.455078\" xlink:href=\"#ArialMT-105\"/>\r\n     <use x=\"3913.671875\" xlink:href=\"#ArialMT-103\"/>\r\n     <use x=\"3969.287109\" xlink:href=\"#ArialMT-109\"/>\r\n     <use x=\"4052.587891\" xlink:href=\"#ArialMT-97\"/>\r\n     <use x=\"4108.203125\" xlink:href=\"#ArialMT-58\"/>\r\n     <use x=\"4135.986328\" xlink:href=\"#ArialMT-32\"/>\r\n     <use x=\"4163.769531\" xlink:href=\"#ArialMT-48\"/>\r\n     <use x=\"4219.384766\" xlink:href=\"#ArialMT-46\"/>\r\n     <use x=\"4247.167969\" xlink:href=\"#ArialMT-52\"/>\r\n     <use x=\"4302.783203\" xlink:href=\"#ArialMT-52\"/>\r\n     <use x=\"4358.398438\" xlink:href=\"#ArialMT-57\"/>\r\n     <use x=\"4414.013672\" xlink:href=\"#ArialMT-54\"/>\r\n     <use x=\"4469.628906\" xlink:href=\"#ArialMT-52\"/>\r\n     <use x=\"4525.244141\" xlink:href=\"#ArialMT-50\"/>\r\n     <use x=\"4580.859375\" xlink:href=\"#ArialMT-54\"/>\r\n     <use x=\"4636.474609\" xlink:href=\"#ArialMT-49\"/>\r\n     <use x=\"4692.089844\" xlink:href=\"#ArialMT-52\"/>\r\n     <use x=\"4747.705078\" xlink:href=\"#ArialMT-53\"/>\r\n     <use x=\"4803.320312\" xlink:href=\"#ArialMT-57\"/>\r\n     <use x=\"4858.935547\" xlink:href=\"#ArialMT-52\"/>\r\n     <use x=\"4914.550781\" xlink:href=\"#ArialMT-57\"/>\r\n     <use x=\"4970.166016\" xlink:href=\"#ArialMT-54\"/>\r\n     <use x=\"5025.78125\" xlink:href=\"#ArialMT-56\"/>\r\n     <use x=\"5081.396484\" xlink:href=\"#ArialMT-55\"/>\r\n    </g>\r\n   </g>\r\n   <g id=\"legend_1\">\r\n    <g id=\"patch_15\">\r\n     <path d=\"M 436.574687 44.080937 \r\nL 475.796562 44.080937 \r\nQ 477.796562 44.080937 477.796562 42.080937 \r\nL 477.796562 28.935625 \r\nQ 477.796562 26.935625 475.796562 26.935625 \r\nL 436.574687 26.935625 \r\nQ 434.574687 26.935625 434.574687 28.935625 \r\nL 434.574687 42.080937 \r\nQ 434.574687 44.080937 436.574687 44.080937 \r\nz\r\n\" style=\"fill:#eaeaf2;opacity:0.8;stroke:#cccccc;stroke-linejoin:miter;\"/>\r\n    </g>\r\n    <g id=\"patch_16\">\r\n     <path d=\"M 438.574687 38.093437 \r\nL 458.574687 38.093437 \r\nL 458.574687 31.093437 \r\nL 438.574687 31.093437 \r\nz\r\n\" style=\"fill:#1f77b4;opacity:0.4;stroke:#ffffff;stroke-linejoin:miter;\"/>\r\n    </g>\r\n    <g id=\"text_19\">\r\n     <!-- N -->\r\n     <defs>\r\n      <path d=\"M 7.625 0 \r\nL 7.625 71.578125 \r\nL 17.328125 71.578125 \r\nL 54.9375 15.375 \r\nL 54.9375 71.578125 \r\nL 64.015625 71.578125 \r\nL 64.015625 0 \r\nL 54.296875 0 \r\nL 16.703125 56.25 \r\nL 16.703125 0 \r\nz\r\n\" id=\"ArialMT-78\"/>\r\n     </defs>\r\n     <g style=\"fill:#262626;\" transform=\"translate(466.574687 38.093437)scale(0.1 -0.1)\">\r\n      <use xlink:href=\"#ArialMT-78\"/>\r\n     </g>\r\n    </g>\r\n   </g>\r\n  </g>\r\n </g>\r\n <defs>\r\n  <clipPath id=\"p6ad89041ee\">\r\n   <rect height=\"217.44\" width=\"334.8\" x=\"147.996562\" y=\"21.935625\"/>\r\n  </clipPath>\r\n </defs>\r\n</svg>\r\n",
      "image/png": "[encoded data removed]"
     },
     "metadata": {}
    }
   ],
   "source": [
    "sns.distplot(checkpoint_3['Household have used the Roadside Services']); # distribution plot with normalized fitting\n",
    "\n",
    "plt.legend('Normal distribution')\n",
    "plt.ylabel('Frequency')\n",
    "plt.title('Household have used the Roadside Services distribution -- Mu:' + ' ' + str(mu) + ' ' + 'Sigma:' + ' ' + str(sigma) )"
   ]
  },
  {
   "cell_type": "markdown",
   "metadata": {},
   "source": [
    "    In this case, the variable presents a even more unbalanced distribution than the previous one"
   ]
  },
  {
   "cell_type": "markdown",
   "metadata": {},
   "source": [
    "    7.2 - Feature Selection"
   ]
  },
  {
   "cell_type": "markdown",
   "metadata": {},
   "source": [
    "        7.2.1 - Pearson Correlation (Filtering Metod)"
   ]
  },
  {
   "cell_type": "code",
   "execution_count": 173,
   "metadata": {},
   "outputs": [],
   "source": [
    "k = 10 #number of variables for heatmap\n",
    "\n",
    "cols = corrmat.nlargest(k, 'Household have used the Roadside Services')['Household have used the Roadside Services'].index # The tenth greater correlation columns\n",
    "\n",
    "focus_corr = abs(np.corrcoef(checkpoint_3[cols].values.T)) # correlation calculated considering only the tenth more correlated columns\n",
    "\n",
    "#plt.figure(figsize=(15,10))\n",
    "\n",
    "#hm = sns.heatmap(focus_corr, cbar=True, annot=True, square=True, fmt='.2f', annot_kws={'size': 10}, yticklabels=cols.values, xticklabels=cols.values) # correlation matrix\n",
    "\n",
    "#plt.show()"
   ]
  },
  {
   "cell_type": "markdown",
   "metadata": {},
   "source": [
    "                We have narrow down to 10 features. However, for linear regression, we still need to check intra-dependencies among those features. In here, we will consider all available variables in a way they all make sense to be related to the target variable.\n"
   ]
  },
  {
   "cell_type": "code",
   "execution_count": 174,
   "metadata": {},
   "outputs": [],
   "source": [
    "cols_greater = cols[1::]\n",
    "\n",
    "focus_corr_greater = abs(np.corrcoef(checkpoint_3[cols_greater].values.T)) # correlation calculated considering only the tenth more correlated columns\n",
    "\n",
    "#plt.figure(figsize=(15,10))\n",
    "\n",
    "#hm = sns.heatmap(focus_corr_greater, cbar=True, annot=True, square=True, fmt='.2f', annot_kws={'size': 10}, yticklabels=cols_greater.values, xticklabels=cols_greater.values) # correlation matrix\n",
    "\n",
    "#plt.show()"
   ]
  },
  {
   "cell_type": "markdown",
   "metadata": {},
   "source": [
    "    As we can see, the columns Total Number of Roadside Calss, Frequency of use of Roadside Services are the same. Therefore, we only need to maintain one of them. In this case, we will maintain the first one."
   ]
  },
  {
   "cell_type": "code",
   "execution_count": 175,
   "metadata": {},
   "outputs": [],
   "source": [
    "pearson_features = cols_greater.drop('Frequency of use of Roadside Services').tolist() # saving our features selecter using the filtering method (Pearson Correlation)\n"
   ]
  },
  {
   "cell_type": "markdown",
   "metadata": {},
   "source": [
    "        7.2.2 - Recursive Feature Elimination\n"
   ]
  },
  {
   "cell_type": "markdown",
   "metadata": {},
   "source": [
    "            7.2.2.1 - Create the the label data, expected output using our checkpoint3 and converting it to array"
   ]
  },
  {
   "cell_type": "code",
   "execution_count": 172,
   "metadata": {},
   "outputs": [],
   "source": [
    "entry = checkpoint_3.drop(columns='Household have used the Roadside Services').values # converting our features to be analyzed by the RFE method to array type\n",
    "\n",
    "target = checkpoint_3['Household have used the Roadside Services'].values # converting our target to array type\n"
   ]
  },
  {
   "cell_type": "markdown",
   "metadata": {},
   "source": [
    "            7.2.2.2 - RFE experiment for multiples number of possible features"
   ]
  },
  {
   "cell_type": "code",
   "execution_count": 176,
   "metadata": {},
   "outputs": [
    {
     "output_type": "display_data",
     "data": {
      "text/plain": "HBox(children=(FloatProgress(value=0.0, description='RFE Optimum Number of Features', max=7.0, style=ProgressS…",
      "application/vnd.jupyter.widget-view+json": {
       "version_major": 2,
       "version_minor": 0,
       "model_id": "4cd1b9d09fa04b27a7a747e07fab9321"
      }
     },
     "metadata": {}
    },
    {
     "output_type": "stream",
     "name": "stdout",
     "text": "\n"
    }
   ],
   "source": [
    "import numpy.matlib as matlib # for data augmentation procedure\n",
    "\n",
    "number_possible_features = np.arange(3, 10) # list of number of possible features\n",
    "           \n",
    "features_list_score = [] # list to track calculated scores\n",
    "\n",
    "selected_features = [] # list to track selected features\n",
    "\n",
    "for n in tqdm_notebook(range(len(number_possible_features)), desc='RFE Optimum Number of Features'):\n",
    "\n",
    "        rfe = RFE(model, number_possible_features[n]) # defining RFE experiment\n",
    "\n",
    "        rfe.fit(MinMaxScaler().fit_transform(StandardScaler().fit_transform(entry)), target); # fitting\n",
    "\n",
    "        temp = pd.Series(rfe.support_,  index = list(checkpoint_3.drop(columns='Household have used the Roadside Services').columns)) # selecting RFE columns features\n",
    "\n",
    "        tmp_selected_features = temp[temp==True].index.tolist()\n",
    "\n",
    "        selected_features.append(tmp_selected_features) # appending to our list\n",
    "\n",
    "        x_train, x_test, y_train, y_test = train_test_split(MinMaxScaler().fit_transform(checkpoint_3[tmp_selected_features]), target, test_size = 0.7, random_state = 42, shuffle=True)\n",
    "\n",
    "\n",
    "        x2 = np.matlib.repmat(x_train, 10, 1) # as we have an imbalanced sample of classes, we perform a data augmentation procedure to avoid miss prediction\n",
    "\n",
    "        y2 = np.matlib.repmat(y_train, 10, 1).ravel() # as we have an imbalanced sample of classes, we perform a data augmentation procedure to avoid miss prediction\n",
    "\n",
    "        model.fit(x2, y2) # fitting the model\n",
    "\n",
    "        tmp_score = model.score(x_test, y_test) # scoring the model \n",
    "\n",
    "        features_list_score.append(tmp_score) # appending to the score list"
   ]
  },
  {
   "cell_type": "code",
   "execution_count": 177,
   "metadata": {},
   "outputs": [
    {
     "output_type": "stream",
     "name": "stdout",
     "text": "Selected features for K = 3 \n\n['Number of Roadside calss for Year 2', 'Total Number of Roadside Calls', 'Frequency of use of Roadside Services'] \n\nCorresponding Score: 0.9794209975584235\nSelected features for K = 4 \n\n['Number of Roadside calss for Year 2', 'Number of Roadside calss for Year 3', 'Total Number of Roadside Calls', 'Frequency of use of Roadside Services'] \n\nCorresponding Score: 0.9853505406348099\nSelected features for K = 5 \n\n['Number of Roadside calss for Year 1', 'Number of Roadside calss for Year 2', 'Number of Roadside calss for Year 3', 'Total Number of Roadside Calls', 'Frequency of use of Roadside Services'] \n\nCorresponding Score: 0.9794209975584235\nSelected features for K = 6 \n\n['Number of Roadside calss for Year 1', 'Number of Roadside calss for Year 2', 'Number of Roadside calss for Year 3', 'Total Number of Roadside Calls', 'Total Roadside Member Cost', 'Frequency of use of Roadside Services'] \n\nCorresponding Score: 0.9825601674223927\nSelected features for K = 7 \n\n['Number of Roadside calss for Year 1', 'Number of Roadside calss for Year 2', 'Number of Roadside calss for Year 3', 'Basic Cost', 'Total Number of Roadside Calls', 'Total Roadside Member Cost', 'Frequency of use of Roadside Services'] \n\nCorresponding Score: 0.9790722009068713\nSelected features for K = 8 \n\n['Number of Roadside calss for Year 1', 'Number of Roadside calss for Year 2', 'Number of Roadside calss for Year 3', 'Roadside Member Cost for Year 3', 'Basic Cost', 'Total Number of Roadside Calls', 'Total Roadside Member Cost', 'Frequency of use of Roadside Services'] \n\nCorresponding Score: 0.9790722009068713\nSelected features for K = 9 \n\n['Number of Roadside calss for Year 1', 'Number of Roadside calss for Year 2', 'Number of Roadside calss for Year 3', 'Roadside Member Cost for Year 2', 'Roadside Member Cost for Year 3', 'Basic Cost', 'Total Number of Roadside Calls', 'Total Roadside Member Cost', 'Frequency of use of Roadside Services'] \n\nCorresponding Score: 0.9790722009068713\n"
    }
   ],
   "source": [
    "for i in range(len(selected_features)):\n",
    "\n",
    "    print('Selected features for K =' + ' ' + str(i+3), '\\n')\n",
    "\n",
    "    print(selected_features[i], '\\n')\n",
    "\n",
    "    print('Corresponding Score:' + ' ' + str(features_list_score[i]))"
   ]
  },
  {
   "cell_type": "code",
   "execution_count": 180,
   "metadata": {},
   "outputs": [],
   "source": [
    "idx = features_list_score.index(max(features_list_score)) # index of max value on the scores list\n",
    "\n",
    "rfe_features = selected_features[idx] # choosing RFE selected features"
   ]
  },
  {
   "cell_type": "markdown",
   "metadata": {},
   "source": [
    "    7.3 - Prediction of Roadside Services Usage Probability using select features "
   ]
  },
  {
   "cell_type": "markdown",
   "metadata": {},
   "source": [
    "            7.3.1 - For Features Selected using the Filtering Method"
   ]
  },
  {
   "cell_type": "markdown",
   "metadata": {},
   "source": [
    "                7.3.1.1 - Performing Prediction"
   ]
  },
  {
   "cell_type": "code",
   "execution_count": 182,
   "metadata": {},
   "outputs": [
    {
     "output_type": "execute_result",
     "data": {
      "text/plain": "0.978374607603767"
     },
     "metadata": {},
     "execution_count": 182
    }
   ],
   "source": [
    "x_train, x_test, y_train, y_test = train_test_split(MinMaxScaler().fit_transform(checkpoint_3[pearson_features]), target, test_size = 0.7, random_state = 42, shuffle=True) # splitting dataset using features selected for the filtering method\n",
    "\n",
    "x2 = np.matlib.repmat(x_train, 10, 1) # as we have an imbalanced sample of classes, we perform a data augmentation procedure to avoid miss prediction\n",
    "\n",
    "y2 = np.matlib.repmat(y_train, 10, 1).ravel() # as we have an imbalanced sample of classes, we perform a data augmentation procedure to avoid miss prediction\n",
    "\n",
    "model.fit(x2, y2) # fitting the model\n",
    "\n",
    "model.score(x_test, y_test) # scoring the model "
   ]
  },
  {
   "cell_type": "markdown",
   "metadata": {},
   "source": [
    "                7.3.1.2 - Analyzing Result"
   ]
  },
  {
   "cell_type": "code",
   "execution_count": 183,
   "metadata": {},
   "outputs": [],
   "source": [
    "pearson_feat_pred = model.predict(MinMaxScaler().fit_transform(checkpoint_3[pearson_features])) # predicting the target variable using the entire input\n",
    "\n",
    "pearson_feat_pred_proba = model.predict_proba(MinMaxScaler().fit_transform(checkpoint_3[pearson_features])) # predicting the probability of belonging to a given class of the target variable using the entire input"
   ]
  },
  {
   "cell_type": "markdown",
   "metadata": {},
   "source": [
    "                7.3.1.3 - Analyzing Metrics "
   ]
  },
  {
   "cell_type": "code",
   "execution_count": 187,
   "metadata": {},
   "outputs": [
    {
     "output_type": "stream",
     "name": "stdout",
     "text": "precision    recall  f1-score   support\n\nHousehold did not use Roadside Services       0.93      0.99      0.96      1152\n    Household did use Roadside Services       1.00      0.97      0.98      2943\n\n                               accuracy                           0.98      4095\n                              macro avg       0.96      0.98      0.97      4095\n                           weighted avg       0.98      0.98      0.98      4095\n\n"
    }
   ],
   "source": [
    "calss_ids = ['Household did not use Roadside Services', 'Household did use Roadside Services'] # classes names\n",
    "\n",
    "\n",
    "print(classification_report(target, pearson_feat_pred, target_names=calss_ids)) # classification report"
   ]
  },
  {
   "cell_type": "markdown",
   "metadata": {},
   "source": [
    "            7.3.2 - For Features Selected using the RFE Method"
   ]
  },
  {
   "cell_type": "markdown",
   "metadata": {},
   "source": [
    "                7.3.2.1 - Performing Prediction"
   ]
  },
  {
   "cell_type": "code",
   "execution_count": 185,
   "metadata": {},
   "outputs": [
    {
     "output_type": "execute_result",
     "data": {
      "text/plain": "0.9853505406348099"
     },
     "metadata": {},
     "execution_count": 185
    }
   ],
   "source": [
    "x_train, x_test, y_train, y_test = train_test_split(MinMaxScaler().fit_transform(checkpoint_3[rfe_features]), target, test_size = 0.7, random_state = 42, shuffle=True) # splitting dataset using features selected for the filtering method\n",
    "\n",
    "x2 = np.matlib.repmat(x_train, 10, 1) # as we have an imbalanced sample of classes, we perform a data augmentation procedure to avoid miss prediction\n",
    "\n",
    "y2 = np.matlib.repmat(y_train, 10, 1).ravel() # as we have an imbalanced sample of classes, we perform a data augmentation procedure to avoid miss prediction\n",
    "\n",
    "model.fit(x2, y2) # fitting the model\n",
    "\n",
    "model.score(x_test, y_test) # scoring the model "
   ]
  },
  {
   "cell_type": "markdown",
   "metadata": {},
   "source": [
    "                7.3.2.2 - Analyzing Result"
   ]
  },
  {
   "cell_type": "code",
   "execution_count": 186,
   "metadata": {},
   "outputs": [],
   "source": [
    "rfe_feat_pred = model.predict(MinMaxScaler().fit_transform(checkpoint_3[rfe_features])) # predicting the target variable using the entire input\n",
    "\n",
    "rfe_feat_pred_proba = model.predict_proba(MinMaxScaler().fit_transform(checkpoint_3[rfe_features])) # predicting the probability of belonging to a given class of the target variable using the entire input"
   ]
  },
  {
   "cell_type": "markdown",
   "metadata": {},
   "source": [
    "                7.3.1.3 - Analyzing Metrics "
   ]
  },
  {
   "cell_type": "code",
   "execution_count": 188,
   "metadata": {},
   "outputs": [
    {
     "output_type": "stream",
     "name": "stdout",
     "text": "precision    recall  f1-score   support\n\nHousehold did not use Roadside Services       0.94      1.00      0.97      1152\n    Household did use Roadside Services       1.00      0.98      0.99      2943\n\n                               accuracy                           0.98      4095\n                              macro avg       0.97      0.99      0.98      4095\n                           weighted avg       0.98      0.98      0.98      4095\n\n"
    }
   ],
   "source": [
    "print(classification_report(target, rfe_feat_pred, target_names=calss_ids)) # classification report"
   ]
  },
  {
   "cell_type": "markdown",
   "metadata": {},
   "source": [
    "    7.4 - Approach Choice and Creation of the new column"
   ]
  },
  {
   "cell_type": "markdown",
   "metadata": {},
   "source": [
    "        In this case, the features selected by the RFE method had better metrics than the filtering method. So, we will use the probability prediction of this from this method"
   ]
  },
  {
   "cell_type": "code",
   "execution_count": 189,
   "metadata": {},
   "outputs": [],
   "source": [
    "checkpoint_3['Household Roadside Usage Probability'] = rfe_feat_pred_proba[:, 1] # creating new column"
   ]
  },
  {
   "cell_type": "code",
   "execution_count": 190,
   "metadata": {},
   "outputs": [
    {
     "output_type": "execute_result",
     "data": {
      "text/plain": "               Length Of Residence  Number of Roadside calss for Year 1  \\\nHousehold Key                                                             \n8750                     90.558333                                    8   \n9690                    140.000000                                    0   \n33380                    50.000000                                    0   \n87180                   150.000000                                    0   \n\n               Number of Roadside calss for Year 2  \\\nHousehold Key                                        \n8750                                             4   \n9690                                             7   \n33380                                            0   \n87180                                            0   \n\n               Number of Roadside calss for Year 3  \\\nHousehold Key                                        \n8750                                             7   \n9690                                            15   \n33380                                            0   \n87180                                            0   \n\n               Roadside Member Cost for Year 1  \\\nHousehold Key                                    \n8750                               4623.928571   \n9690                                  0.000000   \n33380                                 0.000000   \n87180                                 0.000000   \n\n               Roadside Member Cost for Year 2  \\\nHousehold Key                                    \n8750                               2522.142857   \n9690                               1470.833333   \n33380                                 0.000000   \n87180                                 0.000000   \n\n               Roadside Member Cost for Year 3  Member Tenure Years  \\\nHousehold Key                                                         \n8750                                    5472.0                  289   \n9690                                   15059.5                  353   \n33380                                      0.0                  373   \n87180                                      0.0                  100   \n\n               Years to Cancelled Status   Basic Cost  Calculated Tow Miles  \\\nHousehold Key                                                                 \n8750                                 131  1250.357143             80.142857   \n9690                                 242  3072.500000             22.500000   \n33380                                260     0.000000              0.000000   \n87180                                  2     0.000000              0.000000   \n\n                Plus Cost  Premier Cost   Total Cost  \\\nHousehold Key                                          \n8750           265.714286           0.0  1516.071429   \n9690           127.500000           0.0  4347.500000   \n33380            0.000000           0.0     0.000000   \n87180            0.000000           0.0     0.000000   \n\n               Total Number of Roadside Calls  Total Roadside Member Cost  \\\nHousehold Key                                                               \n8750                                       19                12618.071429   \n9690                                       22                16530.333333   \n33380                                       0                    0.000000   \n87180                                       0                    0.000000   \n\n               Email Available  Age  \\\nHousehold Key                         \n8750                         1   74   \n9690                         1   76   \n33380                        0   90   \n87180                        1   68   \n\n               Years from most recent Membership Expiration  \\\nHousehold Key                                                 \n8750                                                      2   \n9690                                                      0   \n33380                                                    11   \n87180                                                     3   \n\n               Years from Join Date  Purchased Product 1  Purchased Product 2  \\\nHousehold Key                                                                   \n8750                             30                    0                    1   \n9690                             36                    0                    0   \n33380                            38                    0                    0   \n87180                            11                    0                    0   \n\n               Purchased Product 3  Purchased Product 4  Purchased Product 5  \\\nHousehold Key                                                                  \n8750                             0                    0                    0   \n9690                             0                    0                    0   \n33380                            0                    0                    0   \n87180                            0                    0                    0   \n\n               Purchased Product 6  Purchased Product 7  Purchased Product 8  \\\nHousehold Key                                                                  \n8750                             0                    0                    0   \n9690                             0                    0                    0   \n33380                            0                    1                    0   \n87180                            0                    0                    0   \n\n               Mail Responder  Home Owner  Opt-Out - Publication  Cash Call  \\\nHousehold Key                                                                 \n8750                        1           1                      1          0   \n9690                        1           1                      1          0   \n33380                       1           1                      1          0   \n87180                       1           1                      1          0   \n\n               Fleet Indicator  Total Number of Purchased Products  \\\nHousehold Key                                                        \n8750                         0                                   1   \n9690                         1                                   0   \n33380                        0                                   1   \n87180                        1                                   0   \n\n               Household Purchased Product  Email Correspondent  Home Renter  \\\nHousehold Key                                                                  \n8750                                     1                    1            0   \n9690                                     0                    1            0   \n33380                                    1                    1            0   \n87180                                    0                    1            0   \n\n               No Home Ownership Info  Number of Children  Annual Income  \\\nHousehold Key                                                              \n8750                                0                   1        34500.0   \n9690                                0                   0        54500.0   \n33380                               0                   0        54500.0   \n87180                               0                   1       124500.0   \n\n               Annual Credit Possible  Motorcycle Indicator  \\\nHousehold Key                                                 \n8750                         624500.0                     0   \n9690                         774500.0                     0   \n33380                        674500.0                     0   \n87180                        674500.0                     0   \n\n               Number of Members per Household Key  \\\nHousehold Key                                        \n8750                                            18   \n9690                                             6   \n33380                                            3   \n87180                                            2   \n\n               Frequency of use of Roadside Services  \\\nHousehold Key                                          \n8750                                              19   \n9690                                              22   \n33380                                              0   \n87180                                              0   \n\n               Household have used the Roadside Services  City_ADAMSVILLE  \\\nHousehold Key                                                               \n8750                                                   1                0   \n9690                                                   1                0   \n33380                                                  0                0   \n87180                                                  0                0   \n\n               City_ALBION  City_ASHAWAY  City_AVON  City_BARRINGTON  \\\nHousehold Key                                                          \n8750                     0             0          0                0   \n9690                     0             0          0                0   \n33380                    0             0          0                0   \n87180                    0             0          0                0   \n\n               City_BARRINGTONWARWICK  City_BLOCK ISLAND  City_BRADFORD  \\\nHousehold Key                                                             \n8750                                0                  0              0   \n9690                                0                  0              0   \n33380                               0                  0              0   \n87180                               0                  0              0   \n\n               City_BRIDGEPORT  City_BRISTOL  City_BROOKLYN  City_CAROLINA  \\\nHousehold Key                                                                \n8750                         0             0              0              0   \n9690                         0             0              0              0   \n33380                        0             0              0              0   \n87180                        0             0              0              0   \n\n               City_CENTRAL FALLS  City_CHARLESTOWN  City_CHEPACHET  \\\nHousehold Key                                                         \n8750                            0                 0               0   \n9690                            0                 0               0   \n33380                           1                 0               0   \n87180                           0                 0               0   \n\n               City_CHESHIRE  City_COLCHESTER  City_COS COB  City_COVENTRY  \\\nHousehold Key                                                                \n8750                       0                0             0              0   \n9690                       0                0             0              0   \n33380                      0                0             0              0   \n87180                      0                0             0              0   \n\n               City_COVENTRYWEST WARWICK  City_CRANSTON  \\\nHousehold Key                                             \n8750                                   0              0   \n9690                                   0              0   \n33380                                  0              0   \n87180                                  0              0   \n\n               City_CRANSTONEAST GREENWICH  City_CRANSTONJOHNSTON  \\\nHousehold Key                                                       \n8750                                     0                      0   \n9690                                     0                      0   \n33380                                    0                      0   \n87180                                    0                      0   \n\n               City_CRANSTONNARRAGANSETT  City_CRANSTONNORTH PROVIDENCE  \\\nHousehold Key                                                             \n8750                                   0                              0   \n9690                                   0                              0   \n33380                                  0                              0   \n87180                                  0                              0   \n\n               City_CRANSTONWARWICK  City_CUMBERLAND  City_DANIELSON  \\\nHousehold Key                                                          \n8750                              0                0               0   \n9690                              0                0               0   \n33380                             0                0               0   \n87180                             0                0               0   \n\n               City_DAYVILLE  City_E GREENWICH  City_E PROVIDENCE  \\\nHousehold Key                                                       \n8750                       0                 0                  0   \n9690                       0                 0                  0   \n33380                      0                 0                  0   \n87180                      0                 0                  0   \n\n               City_EAST GREENWICH  City_EAST GREENWICHWARWICK  \\\nHousehold Key                                                    \n8750                             0                           0   \n9690                             0                           0   \n33380                            0                           0   \n87180                            0                           0   \n\n               City_EAST GREENWICHWEST GREENWICH  City_EAST PROVIDENCE  \\\nHousehold Key                                                            \n8750                                           0                     0   \n9690                                           0                     0   \n33380                                          0                     0   \n87180                                          0                     0   \n\n               City_EAST PROVIDENCENORTH PROVIDENCE  City_EASTON  City_EXETER  \\\nHousehold Key                                                                   \n8750                                              0            0            0   \n9690                                              0            0            0   \n33380                                             0            0            0   \n87180                                             0            0            0   \n\n               City_FISKEVILLE  City_FOSTER  City_GREENE  City_GREENVILLE  \\\nHousehold Key                                                               \n8750                         0            0            0                0   \n9690                         0            0            0                0   \n33380                        0            0            0                0   \n87180                        0            0            0                0   \n\n               City_GREENWICH  City_GROTON  City_GUILFORD  City_HARMONY  \\\nHousehold Key                                                             \n8750                        0            0              0             0   \n9690                        0            0              0             0   \n33380                       0            0              0             0   \n87180                       0            0              0             0   \n\n               City_HARRISVILLE  City_HOPE  City_HOPE VALLEY  City_HOPKINTON  \\\nHousehold Key                                                                  \n8750                          0          0                 0               0   \n9690                          0          0                 0               0   \n33380                         0          0                 0               0   \n87180                         0          0                 0               0   \n\n               City_JAMESTOWN  City_JOHNSTON  City_KINGSTON  City_LINCOLN  \\\nHousehold Key                                                               \n8750                        0              0              0             0   \n9690                        0              0              0             0   \n33380                       0              0              0             0   \n87180                       0              0              0             0   \n\n               City_LINCOLNNORTH PROVIDENCE  City_LITTLE COMPTON  \\\nHousehold Key                                                      \n8750                                      0                    0   \n9690                                      0                    0   \n33380                                     0                    0   \n87180                                     0                    0   \n\n               City_MANCHESTER  City_MANSFIELD CENTER  City_MANVILLE  \\\nHousehold Key                                                          \n8750                         0                      0              0   \n9690                         0                      0              0   \n33380                        0                      0              0   \n87180                        0                      0              0   \n\n               City_MAPLEVILLE  City_MIDDLETOWN  City_MIDDLETOWNPORTSMOUTH  \\\nHousehold Key                                                                \n8750                         0                0                          0   \n9690                         0                0                          0   \n33380                        0                0                          0   \n87180                        0                0                          0   \n\n               City_MILFORD  City_MOOSUP  City_MYSTIC  City_N KINGSTOWN  \\\nHousehold Key                                                             \n8750                      0            0            0                 0   \n9690                      0            0            0                 0   \n33380                     0            0            0                 0   \n87180                     0            0            0                 0   \n\n               City_N PROVIDENCE  City_N SMITHFIELD  City_NARRAGANSETT  \\\nHousehold Key                                                            \n8750                           0                  0                  0   \n9690                           0                  0                  0   \n33380                          0                  0                  0   \n87180                          0                  0                  0   \n\n               City_NAUGATUCK  City_NEW CANAAN  City_NEW HARTFORD  \\\nHousehold Key                                                       \n8750                        0                0                  0   \n9690                        0                0                  0   \n33380                       0                0                  0   \n87180                       0                0                  0   \n\n               City_NEW HAVEN  City_NEW LONDON  City_NEW MILFORD  \\\nHousehold Key                                                      \n8750                        0                0                 0   \n9690                        0                0                 0   \n33380                       0                0                 0   \n87180                       0                0                 0   \n\n               City_NEWINGTON  City_NEWPORT  City_NEWTOWN  City_NORFOLK  \\\nHousehold Key                                                             \n8750                        0             0             0             0   \n9690                        0             0             0             0   \n33380                       0             0             0             0   \n87180                       0             0             0             0   \n\n               City_NORTH KINGSTOWN  City_NORTH PROVIDENCE  \\\nHousehold Key                                                \n8750                              0                      0   \n9690                              0                      0   \n33380                             0                      0   \n87180                             0                      0   \n\n               City_NORTH SCITUATE  City_NORTH SMITHFIELD  \\\nHousehold Key                                               \n8750                             0                      0   \n9690                             0                      0   \n33380                            0                      0   \n87180                            0                      0   \n\n               City_NORTH STONINGTON  City_OAKLAND  City_PASCOAG  \\\nHousehold Key                                                      \n8750                               0             0             0   \n9690                               0             0             0   \n33380                              0             0             0   \n87180                              0             0             0   \n\n               City_PAWCATUCK  City_PAWTUCKET  City_PEACE DALE  \\\nHousehold Key                                                    \n8750                        0               0                0   \n9690                        0               0                0   \n33380                       0               0                0   \n87180                       0               0                0   \n\n               City_PORTSMOUTH  City_PROSPECT  City_PROVIDENCE  City_PUTNAM  \\\nHousehold Key                                                                 \n8750                         0              0                0            0   \n9690                         0              0                0            0   \n33380                        0              0                0            0   \n87180                        0              0                0            0   \n\n               City_RIVERSIDE  City_ROCKVILLE  City_RUMFORD  \\\nHousehold Key                                                 \n8750                        0               0             0   \n9690                        0               0             0   \n33380                       0               0             0   \n87180                       0               0             0   \n\n               City_SAUNDERSTOWN  City_SCITUATE  City_SLATERSVILLE  \\\nHousehold Key                                                        \n8750                           0              0                  0   \n9690                           0              0                  0   \n33380                          0              0                  0   \n87180                          0              0                  0   \n\n               City_SMITHFIELD  City_SOUTH KINGSTOWN  City_STRATFORD  \\\nHousehold Key                                                          \n8750                         0                     0               0   \n9690                         0                     0               0   \n33380                        0                     0               0   \n87180                        0                     0               0   \n\n               City_TIVERTON  City_TOLLAND  City_TRUMBULL  City_UNIONVILLE  \\\nHousehold Key                                                                \n8750                       0             0              0                0   \n9690                       0             0              0                0   \n33380                      0             0              0                0   \n87180                      0             0              0                0   \n\n               City_VOLUNTOWN  City_W GREENWICH  City_WAKEFIELD  \\\nHousehold Key                                                     \n8750                        0                 0               0   \n9690                        0                 0               0   \n33380                       0                 0               0   \n87180                       0                 0               0   \n\n               City_WALLINGFORD  City_WARREN  City_WARWICK  \\\nHousehold Key                                                \n8750                          0            0             0   \n9690                          0            0             1   \n33380                         0            0             0   \n87180                         0            0             1   \n\n               City_WARWICKWEST WARWICK  City_WATERBURY  City_WATERFORD  \\\nHousehold Key                                                             \n8750                                  0               0               0   \n9690                                  0               0               0   \n33380                                 0               0               0   \n87180                                 0               0               0   \n\n               City_WEST GREENWICH  City_WEST HARTFORD  City_WEST KINGSTON  \\\nHousehold Key                                                                \n8750                             0                   0                   0   \n9690                             0                   0                   0   \n33380                            0                   0                   0   \n87180                            0                   0                   0   \n\n               City_WEST WARWICK  City_WESTBROOK  City_WESTERLY  \\\nHousehold Key                                                     \n8750                           1               0              0   \n9690                           0               0              0   \n33380                          0               0              0   \n87180                          0               0              0   \n\n               City_WESTPORT  City_WOOD RIVER JUNCTION  City_WOODBRIDGE  \\\nHousehold Key                                                             \n8750                       0                         0                0   \n9690                       0                         0                0   \n33380                      0                         0                0   \n87180                      0                         0                0   \n\n               City_WOODBURY  City_WOODSTOCK  City_WOONSOCKET  City_WYOMING  \\\nHousehold Key                                                                 \n8750                       0               0                0             0   \n9690                       0               0                0             0   \n33380                      0               0                0             0   \n87180                      0               0                0             0   \n\n               Education_Completed College  Education_Graduated School  \\\nHousehold Key                                                            \n8750                                     0                           0   \n9690                                     0                           0   \n33380                                    0                           0   \n87180                                    0                           0   \n\n               Education_High School  Education_Some College  \\\nHousehold Key                                                  \n8750                               0                       1   \n9690                               0                       0   \n33380                              0                       1   \n87180                              0                       0   \n\n               Education_Unknown  Member Status_ACTIVE  \\\nHousehold Key                                            \n8750                           0                     1   \n9690                           1                     1   \n33380                          0                     1   \n87180                          1                     0   \n\n               Member Status_CANCELLED  Member Status_PENDING  \\\nHousehold Key                                                   \n8750                                 0                      0   \n9690                                 0                      0   \n33380                                0                      0   \n87180                                0                      1   \n\n               Member Type_Associate  Member Type_Primary  \\\nHousehold Key                                               \n8750                               0                    1   \n9690                               1                    0   \n33380                              0                    1   \n87180                              1                    0   \n\n               Renew Method_AUTO RENEW  Renew Method_NOTICE  \\\nHousehold Key                                                 \n8750                                 1                    0   \n9690                                 1                    0   \n33380                                0                    1   \n87180                                0                    1   \n\n               Renew Method_PAYMENT PLAN  \\\nHousehold Key                              \n8750                                   0   \n9690                                   0   \n33380                                  0   \n87180                                  0   \n\n               AAA Service Necessity Due Problem 1_Battery Service  \\\nHousehold Key                                                        \n8750                                                           1     \n9690                                                           0     \n33380                                                          0     \n87180                                                          0     \n\n               AAA Service Necessity Due Problem 1_Bicycle Roadside Assistance  \\\nHousehold Key                                                                    \n8750                                                           0                 \n9690                                                           0                 \n33380                                                          0                 \n87180                                                          0                 \n\n               AAA Service Necessity Due Problem 1_Can't start  \\\nHousehold Key                                                    \n8750                                                         0   \n9690                                                         0   \n33380                                                        0   \n87180                                                        0   \n\n               AAA Service Necessity Due Problem 1_Extrication  \\\nHousehold Key                                                    \n8750                                                         0   \n9690                                                         0   \n33380                                                        0   \n87180                                                        0   \n\n               AAA Service Necessity Due Problem 1_Flat Tire  \\\nHousehold Key                                                  \n8750                                                       0   \n9690                                                       1   \n33380                                                      0   \n87180                                                      0   \n\n               AAA Service Necessity Due Problem 1_Flatbed  \\\nHousehold Key                                                \n8750                                                     0   \n9690                                                     0   \n33380                                                    0   \n87180                                                    0   \n\n               AAA Service Necessity Due Problem 1_Frozen Locks  \\\nHousehold Key                                                     \n8750                                                          0   \n9690                                                          0   \n33380                                                         0   \n87180                                                         0   \n\n               AAA Service Necessity Due Problem 1_GOA RAP CALL  \\\nHousehold Key                                                     \n8750                                                          0   \n9690                                                          0   \n33380                                                         0   \n87180                                                         0   \n\n               AAA Service Necessity Due Problem 1_Jump Start  \\\nHousehold Key                                                   \n8750                                                        0   \n9690                                                        0   \n33380                                                       0   \n87180                                                       1   \n\n               AAA Service Necessity Due Problem 1_Lockout  \\\nHousehold Key                                                \n8750                                                     0   \n9690                                                     0   \n33380                                                    1   \n87180                                                    0   \n\n               AAA Service Necessity Due Problem 1_Locksmith  \\\nHousehold Key                                                  \n8750                                                       0   \n9690                                                       0   \n33380                                                      0   \n87180                                                      0   \n\n               AAA Service Necessity Due Problem 1_Miscellaneous  \\\nHousehold Key                                                      \n8750                                                           0   \n9690                                                           0   \n33380                                                          0   \n87180                                                          0   \n\n               AAA Service Necessity Due Problem 1_No record for the last three years  \\\nHousehold Key                                                                           \n8750                                                           0                        \n9690                                                           0                        \n33380                                                          0                        \n87180                                                          0                        \n\n               AAA Service Necessity Due Problem 1_Tow  \\\nHousehold Key                                            \n8750                                                 0   \n9690                                                 0   \n33380                                                0   \n87180                                                0   \n\n               AAA Service Necessity Due Problem 1_Unleaded, Out of Gas  \\\nHousehold Key                                                             \n8750                                                           0          \n9690                                                           0          \n33380                                                          0          \n87180                                                          0          \n\n               AAA Club 1_AAA Cent Penn  AAA Club 1_AAA Minnesota  \\\nHousehold Key                                                       \n8750                                  0                         0   \n9690                                  0                         0   \n33380                                 0                         0   \n87180                                 0                         0   \n\n               AAA Club 1_AAA Northeast  AAA Club 1_Hudson Valley  \\\nHousehold Key                                                       \n8750                                  1                         0   \n9690                                  1                         0   \n33380                                 1                         0   \n87180                                 1                         0   \n\n               AAA Club 1_Mid-Atlantic  AAA Club 1_N New England  \\\nHousehold Key                                                      \n8750                                 0                         0   \n9690                                 0                         0   \n33380                                0                         0   \n87180                                0                         0   \n\n               AAA Club 1_No record for the last three years  \\\nHousehold Key                                                  \n8750                                                       0   \n9690                                                       0   \n33380                                                      0   \n87180                                                      0   \n\n               AAA Club 1_Northeast Penn  AAA Club 1_Northhampton  \\\nHousehold Key                                                       \n8750                                   0                        0   \n9690                                   0                        0   \n33380                                  0                        0   \n87180                                  0                        0   \n\n               AAA Club 1_Pioneer Valley  AAA Club 1_Schuylkill Cnty  \\\nHousehold Key                                                          \n8750                                   0                           0   \n9690                                   0                           0   \n33380                                  0                           0   \n87180                                  0                           0   \n\n               AAA Club 1_W Penn/W Va  Vehicle Manufacturer Name 1_ACURA  \\\nHousehold Key                                                              \n8750                                0                                  0   \n9690                                0                                  0   \n33380                               0                                  0   \n87180                               0                                  0   \n\n               Vehicle Manufacturer Name 1_AUDI  \\\nHousehold Key                                     \n8750                                          0   \n9690                                          0   \n33380                                         0   \n87180                                         0   \n\n               Vehicle Manufacturer Name 1_BICYCLE  \\\nHousehold Key                                        \n8750                                             0   \n9690                                             0   \n33380                                            0   \n87180                                            0   \n\n               Vehicle Manufacturer Name 1_BMW  \\\nHousehold Key                                    \n8750                                         0   \n9690                                         0   \n33380                                        0   \n87180                                        0   \n\n               Vehicle Manufacturer Name 1_BUICK  \\\nHousehold Key                                      \n8750                                           0   \n9690                                           0   \n33380                                          0   \n87180                                          0   \n\n               Vehicle Manufacturer Name 1_CADILLAC  \\\nHousehold Key                                         \n8750                                              0   \n9690                                              0   \n33380                                             0   \n87180                                             0   \n\n               Vehicle Manufacturer Name 1_CHEVROLET  \\\nHousehold Key                                          \n8750                                               0   \n9690                                               0   \n33380                                              0   \n87180                                              0   \n\n               Vehicle Manufacturer Name 1_CHEVY  \\\nHousehold Key                                      \n8750                                           0   \n9690                                           0   \n33380                                          0   \n87180                                          0   \n\n               Vehicle Manufacturer Name 1_CHRYSLER  \\\nHousehold Key                                         \n8750                                              0   \n9690                                              0   \n33380                                             0   \n87180                                             0   \n\n               Vehicle Manufacturer Name 1_Chevrolet  \\\nHousehold Key                                          \n8750                                               0   \n9690                                               0   \n33380                                              0   \n87180                                              0   \n\n               Vehicle Manufacturer Name 1_DODGE  \\\nHousehold Key                                      \n8750                                           0   \n9690                                           0   \n33380                                          0   \n87180                                          0   \n\n               Vehicle Manufacturer Name 1_FIAT  \\\nHousehold Key                                     \n8750                                          0   \n9690                                          0   \n33380                                         0   \n87180                                         0   \n\n               Vehicle Manufacturer Name 1_FORD  \\\nHousehold Key                                     \n8750                                          0   \n9690                                          0   \n33380                                         0   \n87180                                         0   \n\n               Vehicle Manufacturer Name 1_GEO  \\\nHousehold Key                                    \n8750                                         0   \n9690                                         0   \n33380                                        0   \n87180                                        0   \n\n               Vehicle Manufacturer Name 1_GMC  \\\nHousehold Key                                    \n8750                                         0   \n9690                                         0   \n33380                                        0   \n87180                                        0   \n\n               Vehicle Manufacturer Name 1_HONDA  \\\nHousehold Key                                      \n8750                                           0   \n9690                                           0   \n33380                                          0   \n87180                                          0   \n\n               Vehicle Manufacturer Name 1_HYUNDAI  \\\nHousehold Key                                        \n8750                                             0   \n9690                                             0   \n33380                                            0   \n87180                                            0   \n\n               Vehicle Manufacturer Name 1_INFINITI  \\\nHousehold Key                                         \n8750                                              0   \n9690                                              0   \n33380                                             1   \n87180                                             0   \n\n               Vehicle Manufacturer Name 1_ISO  \\\nHousehold Key                                    \n8750                                         0   \n9690                                         0   \n33380                                        0   \n87180                                        0   \n\n               Vehicle Manufacturer Name 1_ISUZU  \\\nHousehold Key                                      \n8750                                           0   \n9690                                           0   \n33380                                          0   \n87180                                          0   \n\n               Vehicle Manufacturer Name 1_JAGUAR  \\\nHousehold Key                                       \n8750                                            0   \n9690                                            0   \n33380                                           0   \n87180                                           0   \n\n               Vehicle Manufacturer Name 1_JEEP  \\\nHousehold Key                                     \n8750                                          0   \n9690                                          0   \n33380                                         0   \n87180                                         0   \n\n               Vehicle Manufacturer Name 1_KIA  \\\nHousehold Key                                    \n8750                                         0   \n9690                                         0   \n33380                                        0   \n87180                                        0   \n\n               Vehicle Manufacturer Name 1_LAND ROVER  \\\nHousehold Key                                           \n8750                                                0   \n9690                                                0   \n33380                                               0   \n87180                                               0   \n\n               Vehicle Manufacturer Name 1_LEXUS  \\\nHousehold Key                                      \n8750                                           0   \n9690                                           0   \n33380                                          0   \n87180                                          0   \n\n               Vehicle Manufacturer Name 1_LINCOLN  \\\nHousehold Key                                        \n8750                                             0   \n9690                                             0   \n33380                                            0   \n87180                                            0   \n\n               Vehicle Manufacturer Name 1_MAZDA  \\\nHousehold Key                                      \n8750                                           0   \n9690                                           0   \n33380                                          0   \n87180                                          0   \n\n               Vehicle Manufacturer Name 1_MERCEDES-BENZ  \\\nHousehold Key                                              \n8750                                                   0   \n9690                                                   0   \n33380                                                  0   \n87180                                                  0   \n\n               Vehicle Manufacturer Name 1_MERCURY  \\\nHousehold Key                                        \n8750                                             0   \n9690                                             0   \n33380                                            0   \n87180                                            0   \n\n               Vehicle Manufacturer Name 1_MG  \\\nHousehold Key                                   \n8750                                        0   \n9690                                        0   \n33380                                       0   \n87180                                       0   \n\n               Vehicle Manufacturer Name 1_MINI  \\\nHousehold Key                                     \n8750                                          0   \n9690                                          0   \n33380                                         0   \n87180                                         0   \n\n               Vehicle Manufacturer Name 1_MITSUBISHI  \\\nHousehold Key                                           \n8750                                                0   \n9690                                                0   \n33380                                               0   \n87180                                               0   \n\n               Vehicle Manufacturer Name 1_NISSAN  \\\nHousehold Key                                       \n8750                                            0   \n9690                                            0   \n33380                                           0   \n87180                                           0   \n\n               Vehicle Manufacturer Name 1_Nissan  \\\nHousehold Key                                       \n8750                                            0   \n9690                                            0   \n33380                                           0   \n87180                                           0   \n\n               Vehicle Manufacturer Name 1_No record for the last three years  \\\nHousehold Key                                                                   \n8750                                                           0                \n9690                                                           0                \n33380                                                          0                \n87180                                                          0                \n\n               Vehicle Manufacturer Name 1_OLDSMOBILE  \\\nHousehold Key                                           \n8750                                                0   \n9690                                                0   \n33380                                               0   \n87180                                               0   \n\n               Vehicle Manufacturer Name 1_PLYMOUTH  \\\nHousehold Key                                         \n8750                                              0   \n9690                                              0   \n33380                                             0   \n87180                                             0   \n\n               Vehicle Manufacturer Name 1_PONTIAC  \\\nHousehold Key                                        \n8750                                             0   \n9690                                             0   \n33380                                            0   \n87180                                            0   \n\n               Vehicle Manufacturer Name 1_PORSCHE  \\\nHousehold Key                                        \n8750                                             0   \n9690                                             0   \n33380                                            0   \n87180                                            0   \n\n               Vehicle Manufacturer Name 1_RAM  \\\nHousehold Key                                    \n8750                                         0   \n9690                                         0   \n33380                                        0   \n87180                                        0   \n\n               Vehicle Manufacturer Name 1_SAAB  \\\nHousehold Key                                     \n8750                                          0   \n9690                                          0   \n33380                                         0   \n87180                                         0   \n\n               Vehicle Manufacturer Name 1_SATURN  \\\nHousehold Key                                       \n8750                                            0   \n9690                                            0   \n33380                                           0   \n87180                                           0   \n\n               Vehicle Manufacturer Name 1_SCION  \\\nHousehold Key                                      \n8750                                           0   \n9690                                           0   \n33380                                          0   \n87180                                          0   \n\n               Vehicle Manufacturer Name 1_SUBARU  \\\nHousehold Key                                       \n8750                                            0   \n9690                                            1   \n33380                                           0   \n87180                                           0   \n\n               Vehicle Manufacturer Name 1_SUZUKI  \\\nHousehold Key                                       \n8750                                            0   \n9690                                            0   \n33380                                           0   \n87180                                           0   \n\n               Vehicle Manufacturer Name 1_TOYOTA  \\\nHousehold Key                                       \n8750                                            1   \n9690                                            0   \n33380                                           0   \n87180                                           0   \n\n               Vehicle Manufacturer Name 1_Toyota  \\\nHousehold Key                                       \n8750                                            0   \n9690                                            0   \n33380                                           0   \n87180                                           0   \n\n               Vehicle Manufacturer Name 1_VOLKSWAGEN  \\\nHousehold Key                                           \n8750                                                0   \n9690                                                0   \n33380                                               0   \n87180                                               1   \n\n               Vehicle Manufacturer Name 1_VOLKSWAGON  \\\nHousehold Key                                           \n8750                                                0   \n9690                                                0   \n33380                                               0   \n87180                                               0   \n\n               Vehicle Manufacturer Name 1_VOLVO  \\\nHousehold Key                                      \n8750                                           0   \n9690                                           0   \n33380                                          0   \n87180                                          0   \n\n               AAA Service Necessity Due Problem 2_  \\\nHousehold Key                                         \n8750                                              1   \n9690                                              1   \n33380                                             1   \n87180                                             1   \n\n               AAA Service Necessity Due Problem 2_Can't start  \\\nHousehold Key                                                    \n8750                                                         0   \n9690                                                         0   \n33380                                                        0   \n87180                                                        0   \n\n               AAA Service Necessity Due Problem 2_Extrication  \\\nHousehold Key                                                    \n8750                                                         0   \n9690                                                         0   \n33380                                                        0   \n87180                                                        0   \n\n               AAA Service Necessity Due Problem 2_Flat Tire  \\\nHousehold Key                                                  \n8750                                                       0   \n9690                                                       0   \n33380                                                      0   \n87180                                                      0   \n\n               AAA Service Necessity Due Problem 2_Frozen Locks  \\\nHousehold Key                                                     \n8750                                                          0   \n9690                                                          0   \n33380                                                         0   \n87180                                                         0   \n\n               AAA Service Necessity Due Problem 2_Jump Start  \\\nHousehold Key                                                   \n8750                                                        0   \n9690                                                        0   \n33380                                                       0   \n87180                                                       0   \n\n               AAA Service Necessity Due Problem 2_Lockout  \\\nHousehold Key                                                \n8750                                                     0   \n9690                                                     0   \n33380                                                    0   \n87180                                                    0   \n\n               AAA Service Necessity Due Problem 2_Locksmith  \\\nHousehold Key                                                  \n8750                                                       0   \n9690                                                       0   \n33380                                                      0   \n87180                                                      0   \n\n               AAA Service Necessity Due Problem 2_Miscellaneous  \\\nHousehold Key                                                      \n8750                                                           0   \n9690                                                           0   \n33380                                                          0   \n87180                                                          0   \n\n               AAA Service Necessity Due Problem 2_Needs Air  \\\nHousehold Key                                                  \n8750                                                       0   \n9690                                                       0   \n33380                                                      0   \n87180                                                      0   \n\n               AAA Service Necessity Due Problem 2_Tow  \\\nHousehold Key                                            \n8750                                                 0   \n9690                                                 0   \n33380                                                0   \n87180                                                0   \n\n               AAA Service Necessity Due Problem 2_Unleaded, Out of Gas  \\\nHousehold Key                                                             \n8750                                                           0          \n9690                                                           0          \n33380                                                          0          \n87180                                                          0          \n\n               Vehicle Manufacturer Name 2_  \\\nHousehold Key                                 \n8750                                      1   \n9690                                      1   \n33380                                     1   \n87180                                     1   \n\n               Vehicle Manufacturer Name 2_BUICK  \\\nHousehold Key                                      \n8750                                           0   \n9690                                           0   \n33380                                          0   \n87180                                          0   \n\n               Vehicle Manufacturer Name 2_CADILLAC  \\\nHousehold Key                                         \n8750                                              0   \n9690                                              0   \n33380                                             0   \n87180                                             0   \n\n               Vehicle Manufacturer Name 2_CHEVROLET  \\\nHousehold Key                                          \n8750                                               0   \n9690                                               0   \n33380                                              0   \n87180                                              0   \n\n               Vehicle Manufacturer Name 2_CHRYSLER  \\\nHousehold Key                                         \n8750                                              0   \n9690                                              0   \n33380                                             0   \n87180                                             0   \n\n               Vehicle Manufacturer Name 2_DODGE  \\\nHousehold Key                                      \n8750                                           0   \n9690                                           0   \n33380                                          0   \n87180                                          0   \n\n               Vehicle Manufacturer Name 2_FORD  \\\nHousehold Key                                     \n8750                                          0   \n9690                                          0   \n33380                                         0   \n87180                                         0   \n\n               Vehicle Manufacturer Name 2_GMC  \\\nHousehold Key                                    \n8750                                         0   \n9690                                         0   \n33380                                        0   \n87180                                        0   \n\n               Vehicle Manufacturer Name 2_HONDA  \\\nHousehold Key                                      \n8750                                           0   \n9690                                           0   \n33380                                          0   \n87180                                          0   \n\n               Vehicle Manufacturer Name 2_HYUNDAI  \\\nHousehold Key                                        \n8750                                             0   \n9690                                             0   \n33380                                            0   \n87180                                            0   \n\n               Vehicle Manufacturer Name 2_INFINITI  \\\nHousehold Key                                         \n8750                                              0   \n9690                                              0   \n33380                                             0   \n87180                                             0   \n\n               Vehicle Manufacturer Name 2_ISUZU  \\\nHousehold Key                                      \n8750                                           0   \n9690                                           0   \n33380                                          0   \n87180                                          0   \n\n               Vehicle Manufacturer Name 2_JEEP  \\\nHousehold Key                                     \n8750                                          0   \n9690                                          0   \n33380                                         0   \n87180                                         0   \n\n               Vehicle Manufacturer Name 2_KIA  \\\nHousehold Key                                    \n8750                                         0   \n9690                                         0   \n33380                                        0   \n87180                                        0   \n\n               Vehicle Manufacturer Name 2_LAND ROVER  \\\nHousehold Key                                           \n8750                                                0   \n9690                                                0   \n33380                                               0   \n87180                                               0   \n\n               Vehicle Manufacturer Name 2_LEXUS  \\\nHousehold Key                                      \n8750                                           0   \n9690                                           0   \n33380                                          0   \n87180                                          0   \n\n               Vehicle Manufacturer Name 2_LINCOLN  \\\nHousehold Key                                        \n8750                                             0   \n9690                                             0   \n33380                                            0   \n87180                                            0   \n\n               Vehicle Manufacturer Name 2_MAZDA  \\\nHousehold Key                                      \n8750                                           0   \n9690                                           0   \n33380                                          0   \n87180                                          0   \n\n               Vehicle Manufacturer Name 2_MERCEDES-BENZ  \\\nHousehold Key                                              \n8750                                                   0   \n9690                                                   0   \n33380                                                  0   \n87180                                                  0   \n\n               Vehicle Manufacturer Name 2_MERCURY  \\\nHousehold Key                                        \n8750                                             0   \n9690                                             0   \n33380                                            0   \n87180                                            0   \n\n               Vehicle Manufacturer Name 2_MINI  \\\nHousehold Key                                     \n8750                                          0   \n9690                                          0   \n33380                                         0   \n87180                                         0   \n\n               Vehicle Manufacturer Name 2_MITSUBISHI  \\\nHousehold Key                                           \n8750                                                0   \n9690                                                0   \n33380                                               0   \n87180                                               0   \n\n               Vehicle Manufacturer Name 2_NISSAN  \\\nHousehold Key                                       \n8750                                            0   \n9690                                            0   \n33380                                           0   \n87180                                           0   \n\n               Vehicle Manufacturer Name 2_OLDSMOBILE  \\\nHousehold Key                                           \n8750                                                0   \n9690                                                0   \n33380                                               0   \n87180                                               0   \n\n               Vehicle Manufacturer Name 2_PLYMOUTH  \\\nHousehold Key                                         \n8750                                              0   \n9690                                              0   \n33380                                             0   \n87180                                             0   \n\n               Vehicle Manufacturer Name 2_PONTIAC  \\\nHousehold Key                                        \n8750                                             0   \n9690                                             0   \n33380                                            0   \n87180                                            0   \n\n               Vehicle Manufacturer Name 2_PORSCHE  \\\nHousehold Key                                        \n8750                                             0   \n9690                                             0   \n33380                                            0   \n87180                                            0   \n\n               Vehicle Manufacturer Name 2_RAM  \\\nHousehold Key                                    \n8750                                         0   \n9690                                         0   \n33380                                        0   \n87180                                        0   \n\n               Vehicle Manufacturer Name 2_SAAB  \\\nHousehold Key                                     \n8750                                          0   \n9690                                          0   \n33380                                         0   \n87180                                         0   \n\n               Vehicle Manufacturer Name 2_SATURN  \\\nHousehold Key                                       \n8750                                            0   \n9690                                            0   \n33380                                           0   \n87180                                           0   \n\n               Vehicle Manufacturer Name 2_SCION  \\\nHousehold Key                                      \n8750                                           0   \n9690                                           0   \n33380                                          0   \n87180                                          0   \n\n               Vehicle Manufacturer Name 2_SUBARU  \\\nHousehold Key                                       \n8750                                            0   \n9690                                            0   \n33380                                           0   \n87180                                           0   \n\n               Vehicle Manufacturer Name 2_SUZUKI  \\\nHousehold Key                                       \n8750                                            0   \n9690                                            0   \n33380                                           0   \n87180                                           0   \n\n               Vehicle Manufacturer Name 2_TOYOTA  \\\nHousehold Key                                       \n8750                                            0   \n9690                                            0   \n33380                                           0   \n87180                                           0   \n\n               Vehicle Manufacturer Name 2_VOLKSWAGEN  \\\nHousehold Key                                           \n8750                                                0   \n9690                                                0   \n33380                                               0   \n87180                                               0   \n\n               Vehicle Manufacturer Name 2_VOLVO  AAA Club 2_  \\\nHousehold Key                                                   \n8750                                           0            1   \n9690                                           0            1   \n33380                                          0            1   \n87180                                          0            1   \n\n               AAA Club 2_AAA Northeast  AAA Club 2_Mid-Atlantic  \\\nHousehold Key                                                      \n8750                                  0                        0   \n9690                                  0                        0   \n33380                                 0                        0   \n87180                                 0                        0   \n\n               AAA Club 2_N New England  AAA Club 2_Northeast Penn  \\\nHousehold Key                                                        \n8750                                  0                          0   \n9690                                  0                          0   \n33380                                 0                          0   \n87180                                 0                          0   \n\n               AAA Club 2_Northhampton  AAA Club 2_Ohio Auto Club  \\\nHousehold Key                                                       \n8750                                 0                          0   \n9690                                 0                          0   \n33380                                0                          0   \n87180                                0                          0   \n\n               AAA Club 2_Pioneer Valley  AAA Club 2_So Pennsylvania  \\\nHousehold Key                                                          \n8750                                   0                           0   \n9690                                   0                           0   \n33380                                  0                           0   \n87180                                  0                           0   \n\n               AAA Club 2_Tidewater  AAA Club 2_Washington  \\\nHousehold Key                                                \n8750                              0                      0   \n9690                              0                      0   \n33380                             0                      0   \n87180                             0                      0   \n\n               AAA Club 2_West/Central NY  \\\nHousehold Key                               \n8750                                    0   \n9690                                    0   \n33380                                   0   \n87180                                   0   \n\n               Household Purchase Product Probability  \\\nHousehold Key                                           \n8750                                         0.990008   \n9690                                         0.010777   \n33380                                        0.997030   \n87180                                        0.010777   \n\n               Household Roadside Usage Probability  \nHousehold Key                                        \n8750                                       0.999183  \n9690                                       0.999964  \n33380                                      0.185457  \n87180                                      0.185457  ",
      "text/html": "<div>\n<style scoped>\n    .dataframe tbody tr th:only-of-type {\n        vertical-align: middle;\n    }\n\n    .dataframe tbody tr th {\n        vertical-align: top;\n    }\n\n    .dataframe thead th {\n        text-align: right;\n    }\n</style>\n<table border=\"1\" class=\"dataframe\">\n  <thead>\n    <tr style=\"text-align: right;\">\n      <th></th>\n      <th>Length Of Residence</th>\n      <th>Number of Roadside calss for Year 1</th>\n      <th>Number of Roadside calss for Year 2</th>\n      <th>Number of Roadside calss for Year 3</th>\n      <th>Roadside Member Cost for Year 1</th>\n      <th>Roadside Member Cost for Year 2</th>\n      <th>Roadside Member Cost for Year 3</th>\n      <th>Member Tenure Years</th>\n      <th>Years to Cancelled Status</th>\n      <th>Basic Cost</th>\n      <th>Calculated Tow Miles</th>\n      <th>Plus Cost</th>\n      <th>Premier Cost</th>\n      <th>Total Cost</th>\n      <th>Total Number of Roadside Calls</th>\n      <th>Total Roadside Member Cost</th>\n      <th>Email Available</th>\n      <th>Age</th>\n      <th>Years from most recent Membership Expiration</th>\n      <th>Years from Join Date</th>\n      <th>Purchased Product 1</th>\n      <th>Purchased Product 2</th>\n      <th>Purchased Product 3</th>\n      <th>Purchased Product 4</th>\n      <th>Purchased Product 5</th>\n      <th>Purchased Product 6</th>\n      <th>Purchased Product 7</th>\n      <th>Purchased Product 8</th>\n      <th>Mail Responder</th>\n      <th>Home Owner</th>\n      <th>Opt-Out - Publication</th>\n      <th>Cash Call</th>\n      <th>Fleet Indicator</th>\n      <th>Total Number of Purchased Products</th>\n      <th>Household Purchased Product</th>\n      <th>Email Correspondent</th>\n      <th>Home Renter</th>\n      <th>No Home Ownership Info</th>\n      <th>Number of Children</th>\n      <th>Annual Income</th>\n      <th>Annual Credit Possible</th>\n      <th>Motorcycle Indicator</th>\n      <th>Number of Members per Household Key</th>\n      <th>Frequency of use of Roadside Services</th>\n      <th>Household have used the Roadside Services</th>\n      <th>City_ADAMSVILLE</th>\n      <th>City_ALBION</th>\n      <th>City_ASHAWAY</th>\n      <th>City_AVON</th>\n      <th>City_BARRINGTON</th>\n      <th>City_BARRINGTONWARWICK</th>\n      <th>City_BLOCK ISLAND</th>\n      <th>City_BRADFORD</th>\n      <th>City_BRIDGEPORT</th>\n      <th>City_BRISTOL</th>\n      <th>City_BROOKLYN</th>\n      <th>City_CAROLINA</th>\n      <th>City_CENTRAL FALLS</th>\n      <th>City_CHARLESTOWN</th>\n      <th>City_CHEPACHET</th>\n      <th>City_CHESHIRE</th>\n      <th>City_COLCHESTER</th>\n      <th>City_COS COB</th>\n      <th>City_COVENTRY</th>\n      <th>City_COVENTRYWEST WARWICK</th>\n      <th>City_CRANSTON</th>\n      <th>City_CRANSTONEAST GREENWICH</th>\n      <th>City_CRANSTONJOHNSTON</th>\n      <th>City_CRANSTONNARRAGANSETT</th>\n      <th>City_CRANSTONNORTH PROVIDENCE</th>\n      <th>City_CRANSTONWARWICK</th>\n      <th>City_CUMBERLAND</th>\n      <th>City_DANIELSON</th>\n      <th>City_DAYVILLE</th>\n      <th>City_E GREENWICH</th>\n      <th>City_E PROVIDENCE</th>\n      <th>City_EAST GREENWICH</th>\n      <th>City_EAST GREENWICHWARWICK</th>\n      <th>City_EAST GREENWICHWEST GREENWICH</th>\n      <th>City_EAST PROVIDENCE</th>\n      <th>City_EAST PROVIDENCENORTH PROVIDENCE</th>\n      <th>City_EASTON</th>\n      <th>City_EXETER</th>\n      <th>City_FISKEVILLE</th>\n      <th>City_FOSTER</th>\n      <th>City_GREENE</th>\n      <th>City_GREENVILLE</th>\n      <th>City_GREENWICH</th>\n      <th>City_GROTON</th>\n      <th>City_GUILFORD</th>\n      <th>City_HARMONY</th>\n      <th>City_HARRISVILLE</th>\n      <th>City_HOPE</th>\n      <th>City_HOPE VALLEY</th>\n      <th>City_HOPKINTON</th>\n      <th>City_JAMESTOWN</th>\n      <th>City_JOHNSTON</th>\n      <th>City_KINGSTON</th>\n      <th>City_LINCOLN</th>\n      <th>City_LINCOLNNORTH PROVIDENCE</th>\n      <th>City_LITTLE COMPTON</th>\n      <th>City_MANCHESTER</th>\n      <th>City_MANSFIELD CENTER</th>\n      <th>City_MANVILLE</th>\n      <th>City_MAPLEVILLE</th>\n      <th>City_MIDDLETOWN</th>\n      <th>City_MIDDLETOWNPORTSMOUTH</th>\n      <th>City_MILFORD</th>\n      <th>City_MOOSUP</th>\n      <th>City_MYSTIC</th>\n      <th>City_N KINGSTOWN</th>\n      <th>City_N PROVIDENCE</th>\n      <th>City_N SMITHFIELD</th>\n      <th>City_NARRAGANSETT</th>\n      <th>City_NAUGATUCK</th>\n      <th>City_NEW CANAAN</th>\n      <th>City_NEW HARTFORD</th>\n      <th>City_NEW HAVEN</th>\n      <th>City_NEW LONDON</th>\n      <th>City_NEW MILFORD</th>\n      <th>City_NEWINGTON</th>\n      <th>City_NEWPORT</th>\n      <th>City_NEWTOWN</th>\n      <th>City_NORFOLK</th>\n      <th>City_NORTH KINGSTOWN</th>\n      <th>City_NORTH PROVIDENCE</th>\n      <th>City_NORTH SCITUATE</th>\n      <th>City_NORTH SMITHFIELD</th>\n      <th>City_NORTH STONINGTON</th>\n      <th>City_OAKLAND</th>\n      <th>City_PASCOAG</th>\n      <th>City_PAWCATUCK</th>\n      <th>City_PAWTUCKET</th>\n      <th>City_PEACE DALE</th>\n      <th>City_PORTSMOUTH</th>\n      <th>City_PROSPECT</th>\n      <th>City_PROVIDENCE</th>\n      <th>City_PUTNAM</th>\n      <th>City_RIVERSIDE</th>\n      <th>City_ROCKVILLE</th>\n      <th>City_RUMFORD</th>\n      <th>City_SAUNDERSTOWN</th>\n      <th>City_SCITUATE</th>\n      <th>City_SLATERSVILLE</th>\n      <th>City_SMITHFIELD</th>\n      <th>City_SOUTH KINGSTOWN</th>\n      <th>City_STRATFORD</th>\n      <th>City_TIVERTON</th>\n      <th>City_TOLLAND</th>\n      <th>City_TRUMBULL</th>\n      <th>City_UNIONVILLE</th>\n      <th>City_VOLUNTOWN</th>\n      <th>City_W GREENWICH</th>\n      <th>City_WAKEFIELD</th>\n      <th>City_WALLINGFORD</th>\n      <th>City_WARREN</th>\n      <th>City_WARWICK</th>\n      <th>City_WARWICKWEST WARWICK</th>\n      <th>City_WATERBURY</th>\n      <th>City_WATERFORD</th>\n      <th>City_WEST GREENWICH</th>\n      <th>City_WEST HARTFORD</th>\n      <th>City_WEST KINGSTON</th>\n      <th>City_WEST WARWICK</th>\n      <th>City_WESTBROOK</th>\n      <th>City_WESTERLY</th>\n      <th>City_WESTPORT</th>\n      <th>City_WOOD RIVER JUNCTION</th>\n      <th>City_WOODBRIDGE</th>\n      <th>City_WOODBURY</th>\n      <th>City_WOODSTOCK</th>\n      <th>City_WOONSOCKET</th>\n      <th>City_WYOMING</th>\n      <th>Education_Completed College</th>\n      <th>Education_Graduated School</th>\n      <th>Education_High School</th>\n      <th>Education_Some College</th>\n      <th>Education_Unknown</th>\n      <th>Member Status_ACTIVE</th>\n      <th>Member Status_CANCELLED</th>\n      <th>Member Status_PENDING</th>\n      <th>Member Type_Associate</th>\n      <th>Member Type_Primary</th>\n      <th>Renew Method_AUTO RENEW</th>\n      <th>Renew Method_NOTICE</th>\n      <th>Renew Method_PAYMENT PLAN</th>\n      <th>AAA Service Necessity Due Problem 1_Battery Service</th>\n      <th>AAA Service Necessity Due Problem 1_Bicycle Roadside Assistance</th>\n      <th>AAA Service Necessity Due Problem 1_Can't start</th>\n      <th>AAA Service Necessity Due Problem 1_Extrication</th>\n      <th>AAA Service Necessity Due Problem 1_Flat Tire</th>\n      <th>AAA Service Necessity Due Problem 1_Flatbed</th>\n      <th>AAA Service Necessity Due Problem 1_Frozen Locks</th>\n      <th>AAA Service Necessity Due Problem 1_GOA RAP CALL</th>\n      <th>AAA Service Necessity Due Problem 1_Jump Start</th>\n      <th>AAA Service Necessity Due Problem 1_Lockout</th>\n      <th>AAA Service Necessity Due Problem 1_Locksmith</th>\n      <th>AAA Service Necessity Due Problem 1_Miscellaneous</th>\n      <th>AAA Service Necessity Due Problem 1_No record for the last three years</th>\n      <th>AAA Service Necessity Due Problem 1_Tow</th>\n      <th>AAA Service Necessity Due Problem 1_Unleaded, Out of Gas</th>\n      <th>AAA Club 1_AAA Cent Penn</th>\n      <th>AAA Club 1_AAA Minnesota</th>\n      <th>AAA Club 1_AAA Northeast</th>\n      <th>AAA Club 1_Hudson Valley</th>\n      <th>AAA Club 1_Mid-Atlantic</th>\n      <th>AAA Club 1_N New England</th>\n      <th>AAA Club 1_No record for the last three years</th>\n      <th>AAA Club 1_Northeast Penn</th>\n      <th>AAA Club 1_Northhampton</th>\n      <th>AAA Club 1_Pioneer Valley</th>\n      <th>AAA Club 1_Schuylkill Cnty</th>\n      <th>AAA Club 1_W Penn/W Va</th>\n      <th>Vehicle Manufacturer Name 1_ACURA</th>\n      <th>Vehicle Manufacturer Name 1_AUDI</th>\n      <th>Vehicle Manufacturer Name 1_BICYCLE</th>\n      <th>Vehicle Manufacturer Name 1_BMW</th>\n      <th>Vehicle Manufacturer Name 1_BUICK</th>\n      <th>Vehicle Manufacturer Name 1_CADILLAC</th>\n      <th>Vehicle Manufacturer Name 1_CHEVROLET</th>\n      <th>Vehicle Manufacturer Name 1_CHEVY</th>\n      <th>Vehicle Manufacturer Name 1_CHRYSLER</th>\n      <th>Vehicle Manufacturer Name 1_Chevrolet</th>\n      <th>Vehicle Manufacturer Name 1_DODGE</th>\n      <th>Vehicle Manufacturer Name 1_FIAT</th>\n      <th>Vehicle Manufacturer Name 1_FORD</th>\n      <th>Vehicle Manufacturer Name 1_GEO</th>\n      <th>Vehicle Manufacturer Name 1_GMC</th>\n      <th>Vehicle Manufacturer Name 1_HONDA</th>\n      <th>Vehicle Manufacturer Name 1_HYUNDAI</th>\n      <th>Vehicle Manufacturer Name 1_INFINITI</th>\n      <th>Vehicle Manufacturer Name 1_ISO</th>\n      <th>Vehicle Manufacturer Name 1_ISUZU</th>\n      <th>Vehicle Manufacturer Name 1_JAGUAR</th>\n      <th>Vehicle Manufacturer Name 1_JEEP</th>\n      <th>Vehicle Manufacturer Name 1_KIA</th>\n      <th>Vehicle Manufacturer Name 1_LAND ROVER</th>\n      <th>Vehicle Manufacturer Name 1_LEXUS</th>\n      <th>Vehicle Manufacturer Name 1_LINCOLN</th>\n      <th>Vehicle Manufacturer Name 1_MAZDA</th>\n      <th>Vehicle Manufacturer Name 1_MERCEDES-BENZ</th>\n      <th>Vehicle Manufacturer Name 1_MERCURY</th>\n      <th>Vehicle Manufacturer Name 1_MG</th>\n      <th>Vehicle Manufacturer Name 1_MINI</th>\n      <th>Vehicle Manufacturer Name 1_MITSUBISHI</th>\n      <th>Vehicle Manufacturer Name 1_NISSAN</th>\n      <th>Vehicle Manufacturer Name 1_Nissan</th>\n      <th>Vehicle Manufacturer Name 1_No record for the last three years</th>\n      <th>Vehicle Manufacturer Name 1_OLDSMOBILE</th>\n      <th>Vehicle Manufacturer Name 1_PLYMOUTH</th>\n      <th>Vehicle Manufacturer Name 1_PONTIAC</th>\n      <th>Vehicle Manufacturer Name 1_PORSCHE</th>\n      <th>Vehicle Manufacturer Name 1_RAM</th>\n      <th>Vehicle Manufacturer Name 1_SAAB</th>\n      <th>Vehicle Manufacturer Name 1_SATURN</th>\n      <th>Vehicle Manufacturer Name 1_SCION</th>\n      <th>Vehicle Manufacturer Name 1_SUBARU</th>\n      <th>Vehicle Manufacturer Name 1_SUZUKI</th>\n      <th>Vehicle Manufacturer Name 1_TOYOTA</th>\n      <th>Vehicle Manufacturer Name 1_Toyota</th>\n      <th>Vehicle Manufacturer Name 1_VOLKSWAGEN</th>\n      <th>Vehicle Manufacturer Name 1_VOLKSWAGON</th>\n      <th>Vehicle Manufacturer Name 1_VOLVO</th>\n      <th>AAA Service Necessity Due Problem 2_</th>\n      <th>AAA Service Necessity Due Problem 2_Can't start</th>\n      <th>AAA Service Necessity Due Problem 2_Extrication</th>\n      <th>AAA Service Necessity Due Problem 2_Flat Tire</th>\n      <th>AAA Service Necessity Due Problem 2_Frozen Locks</th>\n      <th>AAA Service Necessity Due Problem 2_Jump Start</th>\n      <th>AAA Service Necessity Due Problem 2_Lockout</th>\n      <th>AAA Service Necessity Due Problem 2_Locksmith</th>\n      <th>AAA Service Necessity Due Problem 2_Miscellaneous</th>\n      <th>AAA Service Necessity Due Problem 2_Needs Air</th>\n      <th>AAA Service Necessity Due Problem 2_Tow</th>\n      <th>AAA Service Necessity Due Problem 2_Unleaded, Out of Gas</th>\n      <th>Vehicle Manufacturer Name 2_</th>\n      <th>Vehicle Manufacturer Name 2_BUICK</th>\n      <th>Vehicle Manufacturer Name 2_CADILLAC</th>\n      <th>Vehicle Manufacturer Name 2_CHEVROLET</th>\n      <th>Vehicle Manufacturer Name 2_CHRYSLER</th>\n      <th>Vehicle Manufacturer Name 2_DODGE</th>\n      <th>Vehicle Manufacturer Name 2_FORD</th>\n      <th>Vehicle Manufacturer Name 2_GMC</th>\n      <th>Vehicle Manufacturer Name 2_HONDA</th>\n      <th>Vehicle Manufacturer Name 2_HYUNDAI</th>\n      <th>Vehicle Manufacturer Name 2_INFINITI</th>\n      <th>Vehicle Manufacturer Name 2_ISUZU</th>\n      <th>Vehicle Manufacturer Name 2_JEEP</th>\n      <th>Vehicle Manufacturer Name 2_KIA</th>\n      <th>Vehicle Manufacturer Name 2_LAND ROVER</th>\n      <th>Vehicle Manufacturer Name 2_LEXUS</th>\n      <th>Vehicle Manufacturer Name 2_LINCOLN</th>\n      <th>Vehicle Manufacturer Name 2_MAZDA</th>\n      <th>Vehicle Manufacturer Name 2_MERCEDES-BENZ</th>\n      <th>Vehicle Manufacturer Name 2_MERCURY</th>\n      <th>Vehicle Manufacturer Name 2_MINI</th>\n      <th>Vehicle Manufacturer Name 2_MITSUBISHI</th>\n      <th>Vehicle Manufacturer Name 2_NISSAN</th>\n      <th>Vehicle Manufacturer Name 2_OLDSMOBILE</th>\n      <th>Vehicle Manufacturer Name 2_PLYMOUTH</th>\n      <th>Vehicle Manufacturer Name 2_PONTIAC</th>\n      <th>Vehicle Manufacturer Name 2_PORSCHE</th>\n      <th>Vehicle Manufacturer Name 2_RAM</th>\n      <th>Vehicle Manufacturer Name 2_SAAB</th>\n      <th>Vehicle Manufacturer Name 2_SATURN</th>\n      <th>Vehicle Manufacturer Name 2_SCION</th>\n      <th>Vehicle Manufacturer Name 2_SUBARU</th>\n      <th>Vehicle Manufacturer Name 2_SUZUKI</th>\n      <th>Vehicle Manufacturer Name 2_TOYOTA</th>\n      <th>Vehicle Manufacturer Name 2_VOLKSWAGEN</th>\n      <th>Vehicle Manufacturer Name 2_VOLVO</th>\n      <th>AAA Club 2_</th>\n      <th>AAA Club 2_AAA Northeast</th>\n      <th>AAA Club 2_Mid-Atlantic</th>\n      <th>AAA Club 2_N New England</th>\n      <th>AAA Club 2_Northeast Penn</th>\n      <th>AAA Club 2_Northhampton</th>\n      <th>AAA Club 2_Ohio Auto Club</th>\n      <th>AAA Club 2_Pioneer Valley</th>\n      <th>AAA Club 2_So Pennsylvania</th>\n      <th>AAA Club 2_Tidewater</th>\n      <th>AAA Club 2_Washington</th>\n      <th>AAA Club 2_West/Central NY</th>\n      <th>Household Purchase Product Probability</th>\n      <th>Household Roadside Usage Probability</th>\n    </tr>\n    <tr>\n      <th>Household Key</th>\n      <th></th>\n      <th></th>\n      <th></th>\n      <th></th>\n      <th></th>\n      <th></th>\n      <th></th>\n      <th></th>\n      <th></th>\n      <th></th>\n      <th></th>\n      <th></th>\n      <th></th>\n      <th></th>\n      <th></th>\n      <th></th>\n      <th></th>\n      <th></th>\n      <th></th>\n      <th></th>\n      <th></th>\n      <th></th>\n      <th></th>\n      <th></th>\n      <th></th>\n      <th></th>\n      <th></th>\n      <th></th>\n      <th></th>\n      <th></th>\n      <th></th>\n      <th></th>\n      <th></th>\n      <th></th>\n      <th></th>\n      <th></th>\n      <th></th>\n      <th></th>\n      <th></th>\n      <th></th>\n      <th></th>\n      <th></th>\n      <th></th>\n      <th></th>\n      <th></th>\n      <th></th>\n      <th></th>\n      <th></th>\n      <th></th>\n      <th></th>\n      <th></th>\n      <th></th>\n      <th></th>\n      <th></th>\n      <th></th>\n      <th></th>\n      <th></th>\n      <th></th>\n      <th></th>\n      <th></th>\n      <th></th>\n      <th></th>\n      <th></th>\n      <th></th>\n      <th></th>\n      <th></th>\n      <th></th>\n      <th></th>\n      <th></th>\n      <th></th>\n      <th></th>\n      <th></th>\n      <th></th>\n      <th></th>\n      <th></th>\n      <th></th>\n      <th></th>\n      <th></th>\n      <th></th>\n      <th></th>\n      <th></th>\n      <th></th>\n      <th></th>\n      <th></th>\n      <th></th>\n      <th></th>\n      <th></th>\n      <th></th>\n      <th></th>\n      <th></th>\n      <th></th>\n      <th></th>\n      <th></th>\n      <th></th>\n      <th></th>\n      <th></th>\n      <th></th>\n      <th></th>\n      <th></th>\n      <th></th>\n      <th></th>\n      <th></th>\n      <th></th>\n      <th></th>\n      <th></th>\n      <th></th>\n      <th></th>\n      <th></th>\n      <th></th>\n      <th></th>\n      <th></th>\n      <th></th>\n      <th></th>\n      <th></th>\n      <th></th>\n      <th></th>\n      <th></th>\n      <th></th>\n      <th></th>\n      <th></th>\n      <th></th>\n      <th></th>\n      <th></th>\n      <th></th>\n      <th></th>\n      <th></th>\n      <th></th>\n      <th></th>\n      <th></th>\n      <th></th>\n      <th></th>\n      <th></th>\n      <th></th>\n      <th></th>\n      <th></th>\n      <th></th>\n      <th></th>\n      <th></th>\n      <th></th>\n      <th></th>\n      <th></th>\n      <th></th>\n      <th></th>\n      <th></th>\n      <th></th>\n      <th></th>\n      <th></th>\n      <th></th>\n      <th></th>\n      <th></th>\n      <th></th>\n      <th></th>\n      <th></th>\n      <th></th>\n      <th></th>\n      <th></th>\n      <th></th>\n      <th></th>\n      <th></th>\n      <th></th>\n      <th></th>\n      <th></th>\n      <th></th>\n      <th></th>\n      <th></th>\n      <th></th>\n      <th></th>\n      <th></th>\n      <th></th>\n      <th></th>\n      <th></th>\n      <th></th>\n      <th></th>\n      <th></th>\n      <th></th>\n      <th></th>\n      <th></th>\n      <th></th>\n      <th></th>\n      <th></th>\n      <th></th>\n      <th></th>\n      <th></th>\n      <th></th>\n      <th></th>\n      <th></th>\n      <th></th>\n      <th></th>\n      <th></th>\n      <th></th>\n      <th></th>\n      <th></th>\n      <th></th>\n      <th></th>\n      <th></th>\n      <th></th>\n      <th></th>\n      <th></th>\n      <th></th>\n      <th></th>\n      <th></th>\n      <th></th>\n      <th></th>\n      <th></th>\n      <th></th>\n      <th></th>\n      <th></th>\n      <th></th>\n      <th></th>\n      <th></th>\n      <th></th>\n      <th></th>\n      <th></th>\n      <th></th>\n      <th></th>\n      <th></th>\n      <th></th>\n      <th></th>\n      <th></th>\n      <th></th>\n      <th></th>\n      <th></th>\n      <th></th>\n      <th></th>\n      <th></th>\n      <th></th>\n      <th></th>\n      <th></th>\n      <th></th>\n      <th></th>\n      <th></th>\n      <th></th>\n      <th></th>\n      <th></th>\n      <th></th>\n      <th></th>\n      <th></th>\n      <th></th>\n      <th></th>\n      <th></th>\n      <th></th>\n      <th></th>\n      <th></th>\n      <th></th>\n      <th></th>\n      <th></th>\n      <th></th>\n      <th></th>\n      <th></th>\n      <th></th>\n      <th></th>\n      <th></th>\n      <th></th>\n      <th></th>\n      <th></th>\n      <th></th>\n      <th></th>\n      <th></th>\n      <th></th>\n      <th></th>\n      <th></th>\n      <th></th>\n      <th></th>\n      <th></th>\n      <th></th>\n      <th></th>\n      <th></th>\n      <th></th>\n      <th></th>\n      <th></th>\n      <th></th>\n      <th></th>\n      <th></th>\n      <th></th>\n      <th></th>\n      <th></th>\n      <th></th>\n      <th></th>\n      <th></th>\n      <th></th>\n      <th></th>\n      <th></th>\n      <th></th>\n      <th></th>\n      <th></th>\n      <th></th>\n      <th></th>\n      <th></th>\n      <th></th>\n      <th></th>\n      <th></th>\n      <th></th>\n      <th></th>\n      <th></th>\n      <th></th>\n      <th></th>\n      <th></th>\n      <th></th>\n      <th></th>\n      <th></th>\n      <th></th>\n      <th></th>\n      <th></th>\n      <th></th>\n      <th></th>\n      <th></th>\n      <th></th>\n      <th></th>\n      <th></th>\n      <th></th>\n      <th></th>\n      <th></th>\n      <th></th>\n      <th></th>\n      <th></th>\n      <th></th>\n      <th></th>\n      <th></th>\n      <th></th>\n      <th></th>\n      <th></th>\n      <th></th>\n      <th></th>\n      <th></th>\n      <th></th>\n    </tr>\n  </thead>\n  <tbody>\n    <tr>\n      <th>8750</th>\n      <td>90.558333</td>\n      <td>8</td>\n      <td>4</td>\n      <td>7</td>\n      <td>4623.928571</td>\n      <td>2522.142857</td>\n      <td>5472.0</td>\n      <td>289</td>\n      <td>131</td>\n      <td>1250.357143</td>\n      <td>80.142857</td>\n      <td>265.714286</td>\n      <td>0.0</td>\n      <td>1516.071429</td>\n      <td>19</td>\n      <td>12618.071429</td>\n      <td>1</td>\n      <td>74</td>\n      <td>2</td>\n      <td>30</td>\n      <td>0</td>\n      <td>1</td>\n      <td>0</td>\n      <td>0</td>\n      <td>0</td>\n      <td>0</td>\n      <td>0</td>\n      <td>0</td>\n      <td>1</td>\n      <td>1</td>\n      <td>1</td>\n      <td>0</td>\n      <td>0</td>\n      <td>1</td>\n      <td>1</td>\n      <td>1</td>\n      <td>0</td>\n      <td>0</td>\n      <td>1</td>\n      <td>34500.0</td>\n      <td>624500.0</td>\n      <td>0</td>\n      <td>18</td>\n      <td>19</td>\n      <td>1</td>\n      <td>0</td>\n      <td>0</td>\n      <td>0</td>\n      <td>0</td>\n      <td>0</td>\n      <td>0</td>\n      <td>0</td>\n      <td>0</td>\n      <td>0</td>\n      <td>0</td>\n      <td>0</td>\n      <td>0</td>\n      <td>0</td>\n      <td>0</td>\n      <td>0</td>\n      <td>0</td>\n      <td>0</td>\n      <td>0</td>\n      <td>0</td>\n      <td>0</td>\n      <td>0</td>\n      <td>0</td>\n      <td>0</td>\n      <td>0</td>\n      <td>0</td>\n      <td>0</td>\n      <td>0</td>\n      <td>0</td>\n      <td>0</td>\n      <td>0</td>\n      <td>0</td>\n      <td>0</td>\n      <td>0</td>\n      <td>0</td>\n      <td>0</td>\n      <td>0</td>\n      <td>0</td>\n      <td>0</td>\n      <td>0</td>\n      <td>0</td>\n      <td>0</td>\n      <td>0</td>\n      <td>0</td>\n      <td>0</td>\n      <td>0</td>\n      <td>0</td>\n      <td>0</td>\n      <td>0</td>\n      <td>0</td>\n      <td>0</td>\n      <td>0</td>\n      <td>0</td>\n      <td>0</td>\n      <td>0</td>\n      <td>0</td>\n      <td>0</td>\n      <td>0</td>\n      <td>0</td>\n      <td>0</td>\n      <td>0</td>\n      <td>0</td>\n      <td>0</td>\n      <td>0</td>\n      <td>0</td>\n      <td>0</td>\n      <td>0</td>\n      <td>0</td>\n      <td>0</td>\n      <td>0</td>\n      <td>0</td>\n      <td>0</td>\n      <td>0</td>\n      <td>0</td>\n      <td>0</td>\n      <td>0</td>\n      <td>0</td>\n      <td>0</td>\n      <td>0</td>\n      <td>0</td>\n      <td>0</td>\n      <td>0</td>\n      <td>0</td>\n      <td>0</td>\n      <td>0</td>\n      <td>0</td>\n      <td>0</td>\n      <td>0</td>\n      <td>0</td>\n      <td>0</td>\n      <td>0</td>\n      <td>0</td>\n      <td>0</td>\n      <td>0</td>\n      <td>0</td>\n      <td>0</td>\n      <td>0</td>\n      <td>0</td>\n      <td>0</td>\n      <td>0</td>\n      <td>0</td>\n      <td>0</td>\n      <td>0</td>\n      <td>0</td>\n      <td>0</td>\n      <td>0</td>\n      <td>0</td>\n      <td>0</td>\n      <td>0</td>\n      <td>0</td>\n      <td>0</td>\n      <td>0</td>\n      <td>0</td>\n      <td>0</td>\n      <td>0</td>\n      <td>0</td>\n      <td>0</td>\n      <td>0</td>\n      <td>0</td>\n      <td>1</td>\n      <td>0</td>\n      <td>0</td>\n      <td>0</td>\n      <td>0</td>\n      <td>0</td>\n      <td>0</td>\n      <td>0</td>\n      <td>0</td>\n      <td>0</td>\n      <td>0</td>\n      <td>0</td>\n      <td>0</td>\n      <td>1</td>\n      <td>0</td>\n      <td>1</td>\n      <td>0</td>\n      <td>0</td>\n      <td>0</td>\n      <td>1</td>\n      <td>1</td>\n      <td>0</td>\n      <td>0</td>\n      <td>1</td>\n      <td>0</td>\n      <td>0</td>\n      <td>0</td>\n      <td>0</td>\n      <td>0</td>\n      <td>0</td>\n      <td>0</td>\n      <td>0</td>\n      <td>0</td>\n      <td>0</td>\n      <td>0</td>\n      <td>0</td>\n      <td>0</td>\n      <td>0</td>\n      <td>0</td>\n      <td>0</td>\n      <td>1</td>\n      <td>0</td>\n      <td>0</td>\n      <td>0</td>\n      <td>0</td>\n      <td>0</td>\n      <td>0</td>\n      <td>0</td>\n      <td>0</td>\n      <td>0</td>\n      <td>0</td>\n      <td>0</td>\n      <td>0</td>\n      <td>0</td>\n      <td>0</td>\n      <td>0</td>\n      <td>0</td>\n      <td>0</td>\n      <td>0</td>\n      <td>0</td>\n      <td>0</td>\n      <td>0</td>\n      <td>0</td>\n      <td>0</td>\n      <td>0</td>\n      <td>0</td>\n      <td>0</td>\n      <td>0</td>\n      <td>0</td>\n      <td>0</td>\n      <td>0</td>\n      <td>0</td>\n      <td>0</td>\n      <td>0</td>\n      <td>0</td>\n      <td>0</td>\n      <td>0</td>\n      <td>0</td>\n      <td>0</td>\n      <td>0</td>\n      <td>0</td>\n      <td>0</td>\n      <td>0</td>\n      <td>0</td>\n      <td>0</td>\n      <td>0</td>\n      <td>0</td>\n      <td>0</td>\n      <td>0</td>\n      <td>0</td>\n      <td>0</td>\n      <td>0</td>\n      <td>0</td>\n      <td>0</td>\n      <td>0</td>\n      <td>1</td>\n      <td>0</td>\n      <td>0</td>\n      <td>0</td>\n      <td>0</td>\n      <td>1</td>\n      <td>0</td>\n      <td>0</td>\n      <td>0</td>\n      <td>0</td>\n      <td>0</td>\n      <td>0</td>\n      <td>0</td>\n      <td>0</td>\n      <td>0</td>\n      <td>0</td>\n      <td>0</td>\n      <td>1</td>\n      <td>0</td>\n      <td>0</td>\n      <td>0</td>\n      <td>0</td>\n      <td>0</td>\n      <td>0</td>\n      <td>0</td>\n      <td>0</td>\n      <td>0</td>\n      <td>0</td>\n      <td>0</td>\n      <td>0</td>\n      <td>0</td>\n      <td>0</td>\n      <td>0</td>\n      <td>0</td>\n      <td>0</td>\n      <td>0</td>\n      <td>0</td>\n      <td>0</td>\n      <td>0</td>\n      <td>0</td>\n      <td>0</td>\n      <td>0</td>\n      <td>0</td>\n      <td>0</td>\n      <td>0</td>\n      <td>0</td>\n      <td>0</td>\n      <td>0</td>\n      <td>0</td>\n      <td>0</td>\n      <td>0</td>\n      <td>0</td>\n      <td>0</td>\n      <td>1</td>\n      <td>0</td>\n      <td>0</td>\n      <td>0</td>\n      <td>0</td>\n      <td>0</td>\n      <td>0</td>\n      <td>0</td>\n      <td>0</td>\n      <td>0</td>\n      <td>0</td>\n      <td>0</td>\n      <td>0.990008</td>\n      <td>0.999183</td>\n    </tr>\n    <tr>\n      <th>9690</th>\n      <td>140.000000</td>\n      <td>0</td>\n      <td>7</td>\n      <td>15</td>\n      <td>0.000000</td>\n      <td>1470.833333</td>\n      <td>15059.5</td>\n      <td>353</td>\n      <td>242</td>\n      <td>3072.500000</td>\n      <td>22.500000</td>\n      <td>127.500000</td>\n      <td>0.0</td>\n      <td>4347.500000</td>\n      <td>22</td>\n      <td>16530.333333</td>\n      <td>1</td>\n      <td>76</td>\n      <td>0</td>\n      <td>36</td>\n      <td>0</td>\n      <td>0</td>\n      <td>0</td>\n      <td>0</td>\n      <td>0</td>\n      <td>0</td>\n      <td>0</td>\n      <td>0</td>\n      <td>1</td>\n      <td>1</td>\n      <td>1</td>\n      <td>0</td>\n      <td>1</td>\n      <td>0</td>\n      <td>0</td>\n      <td>1</td>\n      <td>0</td>\n      <td>0</td>\n      <td>0</td>\n      <td>54500.0</td>\n      <td>774500.0</td>\n      <td>0</td>\n      <td>6</td>\n      <td>22</td>\n      <td>1</td>\n      <td>0</td>\n      <td>0</td>\n      <td>0</td>\n      <td>0</td>\n      <td>0</td>\n      <td>0</td>\n      <td>0</td>\n      <td>0</td>\n      <td>0</td>\n      <td>0</td>\n      <td>0</td>\n      <td>0</td>\n      <td>0</td>\n      <td>0</td>\n      <td>0</td>\n      <td>0</td>\n      <td>0</td>\n      <td>0</td>\n      <td>0</td>\n      <td>0</td>\n      <td>0</td>\n      <td>0</td>\n      <td>0</td>\n      <td>0</td>\n      <td>0</td>\n      <td>0</td>\n      <td>0</td>\n      <td>0</td>\n      <td>0</td>\n      <td>0</td>\n      <td>0</td>\n      <td>0</td>\n      <td>0</td>\n      <td>0</td>\n      <td>0</td>\n      <td>0</td>\n      <td>0</td>\n      <td>0</td>\n      <td>0</td>\n      <td>0</td>\n      <td>0</td>\n      <td>0</td>\n      <td>0</td>\n      <td>0</td>\n      <td>0</td>\n      <td>0</td>\n      <td>0</td>\n      <td>0</td>\n      <td>0</td>\n      <td>0</td>\n      <td>0</td>\n      <td>0</td>\n      <td>0</td>\n      <td>0</td>\n      <td>0</td>\n      <td>0</td>\n      <td>0</td>\n      <td>0</td>\n      <td>0</td>\n      <td>0</td>\n      <td>0</td>\n      <td>0</td>\n      <td>0</td>\n      <td>0</td>\n      <td>0</td>\n      <td>0</td>\n      <td>0</td>\n      <td>0</td>\n      <td>0</td>\n      <td>0</td>\n      <td>0</td>\n      <td>0</td>\n      <td>0</td>\n      <td>0</td>\n      <td>0</td>\n      <td>0</td>\n      <td>0</td>\n      <td>0</td>\n      <td>0</td>\n      <td>0</td>\n      <td>0</td>\n      <td>0</td>\n      <td>0</td>\n      <td>0</td>\n      <td>0</td>\n      <td>0</td>\n      <td>0</td>\n      <td>0</td>\n      <td>0</td>\n      <td>0</td>\n      <td>0</td>\n      <td>0</td>\n      <td>0</td>\n      <td>0</td>\n      <td>0</td>\n      <td>0</td>\n      <td>0</td>\n      <td>0</td>\n      <td>0</td>\n      <td>0</td>\n      <td>0</td>\n      <td>0</td>\n      <td>0</td>\n      <td>0</td>\n      <td>0</td>\n      <td>0</td>\n      <td>0</td>\n      <td>0</td>\n      <td>0</td>\n      <td>0</td>\n      <td>0</td>\n      <td>1</td>\n      <td>0</td>\n      <td>0</td>\n      <td>0</td>\n      <td>0</td>\n      <td>0</td>\n      <td>0</td>\n      <td>0</td>\n      <td>0</td>\n      <td>0</td>\n      <td>0</td>\n      <td>0</td>\n      <td>0</td>\n      <td>0</td>\n      <td>0</td>\n      <td>0</td>\n      <td>0</td>\n      <td>0</td>\n      <td>0</td>\n      <td>0</td>\n      <td>0</td>\n      <td>1</td>\n      <td>1</td>\n      <td>0</td>\n      <td>0</td>\n      <td>1</td>\n      <td>0</td>\n      <td>1</td>\n      <td>0</td>\n      <td>0</td>\n      <td>0</td>\n      <td>0</td>\n      <td>0</td>\n      <td>0</td>\n      <td>1</td>\n      <td>0</td>\n      <td>0</td>\n      <td>0</td>\n      <td>0</td>\n      <td>0</td>\n      <td>0</td>\n      <td>0</td>\n      <td>0</td>\n      <td>0</td>\n      <td>0</td>\n      <td>0</td>\n      <td>0</td>\n      <td>1</td>\n      <td>0</td>\n      <td>0</td>\n      <td>0</td>\n      <td>0</td>\n      <td>0</td>\n      <td>0</td>\n      <td>0</td>\n      <td>0</td>\n      <td>0</td>\n      <td>0</td>\n      <td>0</td>\n      <td>0</td>\n      <td>0</td>\n      <td>0</td>\n      <td>0</td>\n      <td>0</td>\n      <td>0</td>\n      <td>0</td>\n      <td>0</td>\n      <td>0</td>\n      <td>0</td>\n      <td>0</td>\n      <td>0</td>\n      <td>0</td>\n      <td>0</td>\n      <td>0</td>\n      <td>0</td>\n      <td>0</td>\n      <td>0</td>\n      <td>0</td>\n      <td>0</td>\n      <td>0</td>\n      <td>0</td>\n      <td>0</td>\n      <td>0</td>\n      <td>0</td>\n      <td>0</td>\n      <td>0</td>\n      <td>0</td>\n      <td>0</td>\n      <td>0</td>\n      <td>0</td>\n      <td>0</td>\n      <td>0</td>\n      <td>0</td>\n      <td>0</td>\n      <td>0</td>\n      <td>0</td>\n      <td>0</td>\n      <td>0</td>\n      <td>0</td>\n      <td>0</td>\n      <td>1</td>\n      <td>0</td>\n      <td>0</td>\n      <td>0</td>\n      <td>0</td>\n      <td>0</td>\n      <td>0</td>\n      <td>1</td>\n      <td>0</td>\n      <td>0</td>\n      <td>0</td>\n      <td>0</td>\n      <td>0</td>\n      <td>0</td>\n      <td>0</td>\n      <td>0</td>\n      <td>0</td>\n      <td>0</td>\n      <td>0</td>\n      <td>1</td>\n      <td>0</td>\n      <td>0</td>\n      <td>0</td>\n      <td>0</td>\n      <td>0</td>\n      <td>0</td>\n      <td>0</td>\n      <td>0</td>\n      <td>0</td>\n      <td>0</td>\n      <td>0</td>\n      <td>0</td>\n      <td>0</td>\n      <td>0</td>\n      <td>0</td>\n      <td>0</td>\n      <td>0</td>\n      <td>0</td>\n      <td>0</td>\n      <td>0</td>\n      <td>0</td>\n      <td>0</td>\n      <td>0</td>\n      <td>0</td>\n      <td>0</td>\n      <td>0</td>\n      <td>0</td>\n      <td>0</td>\n      <td>0</td>\n      <td>0</td>\n      <td>0</td>\n      <td>0</td>\n      <td>0</td>\n      <td>0</td>\n      <td>0</td>\n      <td>1</td>\n      <td>0</td>\n      <td>0</td>\n      <td>0</td>\n      <td>0</td>\n      <td>0</td>\n      <td>0</td>\n      <td>0</td>\n      <td>0</td>\n      <td>0</td>\n      <td>0</td>\n      <td>0</td>\n      <td>0.010777</td>\n      <td>0.999964</td>\n    </tr>\n    <tr>\n      <th>33380</th>\n      <td>50.000000</td>\n      <td>0</td>\n      <td>0</td>\n      <td>0</td>\n      <td>0.000000</td>\n      <td>0.000000</td>\n      <td>0.0</td>\n      <td>373</td>\n      <td>260</td>\n      <td>0.000000</td>\n      <td>0.000000</td>\n      <td>0.000000</td>\n      <td>0.0</td>\n      <td>0.000000</td>\n      <td>0</td>\n      <td>0.000000</td>\n      <td>0</td>\n      <td>90</td>\n      <td>11</td>\n      <td>38</td>\n      <td>0</td>\n      <td>0</td>\n      <td>0</td>\n      <td>0</td>\n      <td>0</td>\n      <td>0</td>\n      <td>1</td>\n      <td>0</td>\n      <td>1</td>\n      <td>1</td>\n      <td>1</td>\n      <td>0</td>\n      <td>0</td>\n      <td>1</td>\n      <td>1</td>\n      <td>1</td>\n      <td>0</td>\n      <td>0</td>\n      <td>0</td>\n      <td>54500.0</td>\n      <td>674500.0</td>\n      <td>0</td>\n      <td>3</td>\n      <td>0</td>\n      <td>0</td>\n      <td>0</td>\n      <td>0</td>\n      <td>0</td>\n      <td>0</td>\n      <td>0</td>\n      <td>0</td>\n      <td>0</td>\n      <td>0</td>\n      <td>0</td>\n      <td>0</td>\n      <td>0</td>\n      <td>0</td>\n      <td>1</td>\n      <td>0</td>\n      <td>0</td>\n      <td>0</td>\n      <td>0</td>\n      <td>0</td>\n      <td>0</td>\n      <td>0</td>\n      <td>0</td>\n      <td>0</td>\n      <td>0</td>\n      <td>0</td>\n      <td>0</td>\n      <td>0</td>\n      <td>0</td>\n      <td>0</td>\n      <td>0</td>\n      <td>0</td>\n      <td>0</td>\n      <td>0</td>\n      <td>0</td>\n      <td>0</td>\n      <td>0</td>\n      <td>0</td>\n      <td>0</td>\n      <td>0</td>\n      <td>0</td>\n      <td>0</td>\n      <td>0</td>\n      <td>0</td>\n      <td>0</td>\n      <td>0</td>\n      <td>0</td>\n      <td>0</td>\n      <td>0</td>\n      <td>0</td>\n      <td>0</td>\n      <td>0</td>\n      <td>0</td>\n      <td>0</td>\n      <td>0</td>\n      <td>0</td>\n      <td>0</td>\n      <td>0</td>\n      <td>0</td>\n      <td>0</td>\n      <td>0</td>\n      <td>0</td>\n      <td>0</td>\n      <td>0</td>\n      <td>0</td>\n      <td>0</td>\n      <td>0</td>\n      <td>0</td>\n      <td>0</td>\n      <td>0</td>\n      <td>0</td>\n      <td>0</td>\n      <td>0</td>\n      <td>0</td>\n      <td>0</td>\n      <td>0</td>\n      <td>0</td>\n      <td>0</td>\n      <td>0</td>\n      <td>0</td>\n      <td>0</td>\n      <td>0</td>\n      <td>0</td>\n      <td>0</td>\n      <td>0</td>\n      <td>0</td>\n      <td>0</td>\n      <td>0</td>\n      <td>0</td>\n      <td>0</td>\n      <td>0</td>\n      <td>0</td>\n      <td>0</td>\n      <td>0</td>\n      <td>0</td>\n      <td>0</td>\n      <td>0</td>\n      <td>0</td>\n      <td>0</td>\n      <td>0</td>\n      <td>0</td>\n      <td>0</td>\n      <td>0</td>\n      <td>0</td>\n      <td>0</td>\n      <td>0</td>\n      <td>0</td>\n      <td>0</td>\n      <td>0</td>\n      <td>0</td>\n      <td>0</td>\n      <td>0</td>\n      <td>0</td>\n      <td>0</td>\n      <td>0</td>\n      <td>0</td>\n      <td>0</td>\n      <td>0</td>\n      <td>0</td>\n      <td>0</td>\n      <td>0</td>\n      <td>0</td>\n      <td>0</td>\n      <td>0</td>\n      <td>0</td>\n      <td>0</td>\n      <td>0</td>\n      <td>0</td>\n      <td>0</td>\n      <td>0</td>\n      <td>0</td>\n      <td>0</td>\n      <td>0</td>\n      <td>1</td>\n      <td>0</td>\n      <td>1</td>\n      <td>0</td>\n      <td>0</td>\n      <td>0</td>\n      <td>1</td>\n      <td>0</td>\n      <td>1</td>\n      <td>0</td>\n      <td>0</td>\n      <td>0</td>\n      <td>0</td>\n      <td>0</td>\n      <td>0</td>\n      <td>0</td>\n      <td>0</td>\n      <td>0</td>\n      <td>0</td>\n      <td>1</td>\n      <td>0</td>\n      <td>0</td>\n      <td>0</td>\n      <td>0</td>\n      <td>0</td>\n      <td>0</td>\n      <td>0</td>\n      <td>1</td>\n      <td>0</td>\n      <td>0</td>\n      <td>0</td>\n      <td>0</td>\n      <td>0</td>\n      <td>0</td>\n      <td>0</td>\n      <td>0</td>\n      <td>0</td>\n      <td>0</td>\n      <td>0</td>\n      <td>0</td>\n      <td>0</td>\n      <td>0</td>\n      <td>0</td>\n      <td>0</td>\n      <td>0</td>\n      <td>0</td>\n      <td>0</td>\n      <td>0</td>\n      <td>0</td>\n      <td>0</td>\n      <td>0</td>\n      <td>0</td>\n      <td>0</td>\n      <td>0</td>\n      <td>1</td>\n      <td>0</td>\n      <td>0</td>\n      <td>0</td>\n      <td>0</td>\n      <td>0</td>\n      <td>0</td>\n      <td>0</td>\n      <td>0</td>\n      <td>0</td>\n      <td>0</td>\n      <td>0</td>\n      <td>0</td>\n      <td>0</td>\n      <td>0</td>\n      <td>0</td>\n      <td>0</td>\n      <td>0</td>\n      <td>0</td>\n      <td>0</td>\n      <td>0</td>\n      <td>0</td>\n      <td>0</td>\n      <td>0</td>\n      <td>0</td>\n      <td>0</td>\n      <td>0</td>\n      <td>0</td>\n      <td>0</td>\n      <td>0</td>\n      <td>0</td>\n      <td>0</td>\n      <td>0</td>\n      <td>1</td>\n      <td>0</td>\n      <td>0</td>\n      <td>0</td>\n      <td>0</td>\n      <td>0</td>\n      <td>0</td>\n      <td>0</td>\n      <td>0</td>\n      <td>0</td>\n      <td>0</td>\n      <td>0</td>\n      <td>1</td>\n      <td>0</td>\n      <td>0</td>\n      <td>0</td>\n      <td>0</td>\n      <td>0</td>\n      <td>0</td>\n      <td>0</td>\n      <td>0</td>\n      <td>0</td>\n      <td>0</td>\n      <td>0</td>\n      <td>0</td>\n      <td>0</td>\n      <td>0</td>\n      <td>0</td>\n      <td>0</td>\n      <td>0</td>\n      <td>0</td>\n      <td>0</td>\n      <td>0</td>\n      <td>0</td>\n      <td>0</td>\n      <td>0</td>\n      <td>0</td>\n      <td>0</td>\n      <td>0</td>\n      <td>0</td>\n      <td>0</td>\n      <td>0</td>\n      <td>0</td>\n      <td>0</td>\n      <td>0</td>\n      <td>0</td>\n      <td>0</td>\n      <td>0</td>\n      <td>1</td>\n      <td>0</td>\n      <td>0</td>\n      <td>0</td>\n      <td>0</td>\n      <td>0</td>\n      <td>0</td>\n      <td>0</td>\n      <td>0</td>\n      <td>0</td>\n      <td>0</td>\n      <td>0</td>\n      <td>0.997030</td>\n      <td>0.185457</td>\n    </tr>\n    <tr>\n      <th>87180</th>\n      <td>150.000000</td>\n      <td>0</td>\n      <td>0</td>\n      <td>0</td>\n      <td>0.000000</td>\n      <td>0.000000</td>\n      <td>0.0</td>\n      <td>100</td>\n      <td>2</td>\n      <td>0.000000</td>\n      <td>0.000000</td>\n      <td>0.000000</td>\n      <td>0.0</td>\n      <td>0.000000</td>\n      <td>0</td>\n      <td>0.000000</td>\n      <td>1</td>\n      <td>68</td>\n      <td>3</td>\n      <td>11</td>\n      <td>0</td>\n      <td>0</td>\n      <td>0</td>\n      <td>0</td>\n      <td>0</td>\n      <td>0</td>\n      <td>0</td>\n      <td>0</td>\n      <td>1</td>\n      <td>1</td>\n      <td>1</td>\n      <td>0</td>\n      <td>1</td>\n      <td>0</td>\n      <td>0</td>\n      <td>1</td>\n      <td>0</td>\n      <td>0</td>\n      <td>1</td>\n      <td>124500.0</td>\n      <td>674500.0</td>\n      <td>0</td>\n      <td>2</td>\n      <td>0</td>\n      <td>0</td>\n      <td>0</td>\n      <td>0</td>\n      <td>0</td>\n      <td>0</td>\n      <td>0</td>\n      <td>0</td>\n      <td>0</td>\n      <td>0</td>\n      <td>0</td>\n      <td>0</td>\n      <td>0</td>\n      <td>0</td>\n      <td>0</td>\n      <td>0</td>\n      <td>0</td>\n      <td>0</td>\n      <td>0</td>\n      <td>0</td>\n      <td>0</td>\n      <td>0</td>\n      <td>0</td>\n      <td>0</td>\n      <td>0</td>\n      <td>0</td>\n      <td>0</td>\n      <td>0</td>\n      <td>0</td>\n      <td>0</td>\n      <td>0</td>\n      <td>0</td>\n      <td>0</td>\n      <td>0</td>\n      <td>0</td>\n      <td>0</td>\n      <td>0</td>\n      <td>0</td>\n      <td>0</td>\n      <td>0</td>\n      <td>0</td>\n      <td>0</td>\n      <td>0</td>\n      <td>0</td>\n      <td>0</td>\n      <td>0</td>\n      <td>0</td>\n      <td>0</td>\n      <td>0</td>\n      <td>0</td>\n      <td>0</td>\n      <td>0</td>\n      <td>0</td>\n      <td>0</td>\n      <td>0</td>\n      <td>0</td>\n      <td>0</td>\n      <td>0</td>\n      <td>0</td>\n      <td>0</td>\n      <td>0</td>\n      <td>0</td>\n      <td>0</td>\n      <td>0</td>\n      <td>0</td>\n      <td>0</td>\n      <td>0</td>\n      <td>0</td>\n      <td>0</td>\n      <td>0</td>\n      <td>0</td>\n      <td>0</td>\n      <td>0</td>\n      <td>0</td>\n      <td>0</td>\n      <td>0</td>\n      <td>0</td>\n      <td>0</td>\n      <td>0</td>\n      <td>0</td>\n      <td>0</td>\n      <td>0</td>\n      <td>0</td>\n      <td>0</td>\n      <td>0</td>\n      <td>0</td>\n      <td>0</td>\n      <td>0</td>\n      <td>0</td>\n      <td>0</td>\n      <td>0</td>\n      <td>0</td>\n      <td>0</td>\n      <td>0</td>\n      <td>0</td>\n      <td>0</td>\n      <td>0</td>\n      <td>0</td>\n      <td>0</td>\n      <td>0</td>\n      <td>0</td>\n      <td>0</td>\n      <td>0</td>\n      <td>0</td>\n      <td>0</td>\n      <td>0</td>\n      <td>0</td>\n      <td>0</td>\n      <td>0</td>\n      <td>0</td>\n      <td>0</td>\n      <td>0</td>\n      <td>0</td>\n      <td>1</td>\n      <td>0</td>\n      <td>0</td>\n      <td>0</td>\n      <td>0</td>\n      <td>0</td>\n      <td>0</td>\n      <td>0</td>\n      <td>0</td>\n      <td>0</td>\n      <td>0</td>\n      <td>0</td>\n      <td>0</td>\n      <td>0</td>\n      <td>0</td>\n      <td>0</td>\n      <td>0</td>\n      <td>0</td>\n      <td>0</td>\n      <td>0</td>\n      <td>0</td>\n      <td>1</td>\n      <td>0</td>\n      <td>0</td>\n      <td>1</td>\n      <td>1</td>\n      <td>0</td>\n      <td>0</td>\n      <td>1</td>\n      <td>0</td>\n      <td>0</td>\n      <td>0</td>\n      <td>0</td>\n      <td>0</td>\n      <td>0</td>\n      <td>0</td>\n      <td>0</td>\n      <td>0</td>\n      <td>1</td>\n      <td>0</td>\n      <td>0</td>\n      <td>0</td>\n      <td>0</td>\n      <td>0</td>\n      <td>0</td>\n      <td>0</td>\n      <td>0</td>\n      <td>1</td>\n      <td>0</td>\n      <td>0</td>\n      <td>0</td>\n      <td>0</td>\n      <td>0</td>\n      <td>0</td>\n      <td>0</td>\n      <td>0</td>\n      <td>0</td>\n      <td>0</td>\n      <td>0</td>\n      <td>0</td>\n      <td>0</td>\n      <td>0</td>\n      <td>0</td>\n      <td>0</td>\n      <td>0</td>\n      <td>0</td>\n      <td>0</td>\n      <td>0</td>\n      <td>0</td>\n      <td>0</td>\n      <td>0</td>\n      <td>0</td>\n      <td>0</td>\n      <td>0</td>\n      <td>0</td>\n      <td>0</td>\n      <td>0</td>\n      <td>0</td>\n      <td>0</td>\n      <td>0</td>\n      <td>0</td>\n      <td>0</td>\n      <td>0</td>\n      <td>0</td>\n      <td>0</td>\n      <td>0</td>\n      <td>0</td>\n      <td>0</td>\n      <td>0</td>\n      <td>0</td>\n      <td>0</td>\n      <td>0</td>\n      <td>0</td>\n      <td>0</td>\n      <td>0</td>\n      <td>0</td>\n      <td>0</td>\n      <td>0</td>\n      <td>0</td>\n      <td>0</td>\n      <td>0</td>\n      <td>0</td>\n      <td>0</td>\n      <td>0</td>\n      <td>1</td>\n      <td>0</td>\n      <td>0</td>\n      <td>1</td>\n      <td>0</td>\n      <td>0</td>\n      <td>0</td>\n      <td>0</td>\n      <td>0</td>\n      <td>0</td>\n      <td>0</td>\n      <td>0</td>\n      <td>0</td>\n      <td>0</td>\n      <td>0</td>\n      <td>1</td>\n      <td>0</td>\n      <td>0</td>\n      <td>0</td>\n      <td>0</td>\n      <td>0</td>\n      <td>0</td>\n      <td>0</td>\n      <td>0</td>\n      <td>0</td>\n      <td>0</td>\n      <td>0</td>\n      <td>0</td>\n      <td>0</td>\n      <td>0</td>\n      <td>0</td>\n      <td>0</td>\n      <td>0</td>\n      <td>0</td>\n      <td>0</td>\n      <td>0</td>\n      <td>0</td>\n      <td>0</td>\n      <td>0</td>\n      <td>0</td>\n      <td>0</td>\n      <td>0</td>\n      <td>0</td>\n      <td>0</td>\n      <td>0</td>\n      <td>0</td>\n      <td>0</td>\n      <td>0</td>\n      <td>0</td>\n      <td>0</td>\n      <td>0</td>\n      <td>1</td>\n      <td>0</td>\n      <td>0</td>\n      <td>0</td>\n      <td>0</td>\n      <td>0</td>\n      <td>0</td>\n      <td>0</td>\n      <td>0</td>\n      <td>0</td>\n      <td>0</td>\n      <td>0</td>\n      <td>0.010777</td>\n      <td>0.185457</td>\n    </tr>\n  </tbody>\n</table>\n</div>"
     },
     "metadata": {},
     "execution_count": 190
    }
   ],
   "source": [
    "checkpoint_3.head(n=4)"
   ]
  },
  {
   "cell_type": "markdown",
   "metadata": {},
   "source": [
    "## 8 - Clustering By Household Types"
   ]
  },
  {
   "cell_type": "markdown",
   "metadata": {},
   "source": [
    "    8.1 - Last Checkpoint"
   ]
  },
  {
   "cell_type": "code",
   "execution_count": 227,
   "metadata": {},
   "outputs": [],
   "source": [
    "checkpoint_4 = checkpoint_3.copy() # creating new dataframe"
   ]
  },
  {
   "cell_type": "markdown",
   "metadata": {},
   "source": [
    "    8.2 - Scaling our final checkpoint to K-Means procedure"
   ]
  },
  {
   "cell_type": "code",
   "execution_count": 230,
   "metadata": {},
   "outputs": [],
   "source": [
    "checkpoint_4 = StandardScaler().fit_transform(checkpoint_4) # standardize scaler    \n",
    "\n",
    "checkpoint_4 = MinMaxScaler().fit_transform(checkpoint_4) # normalize scaler\n",
    "\n",
    "checkpoint_4 = pd.DataFrame(checkpoint_4, index=checkpoint_3.index, columns=checkpoint_3.columns) # converting back to dataframe type"
   ]
  },
  {
   "cell_type": "markdown",
   "metadata": {},
   "source": [
    "    8.3 - K-Means Clustering and Hyperparameter Tunning"
   ]
  },
  {
   "cell_type": "markdown",
   "metadata": {},
   "source": [
    "        8.3.1 - Importing Library"
   ]
  },
  {
   "cell_type": "code",
   "execution_count": 232,
   "metadata": {},
   "outputs": [],
   "source": [
    "from sklearn.cluster import KMeans "
   ]
  },
  {
   "cell_type": "markdown",
   "metadata": {},
   "source": [
    "        8.3.2 - Elbow Method of Analysis"
   ]
  },
  {
   "cell_type": "code",
   "execution_count": null,
   "metadata": {},
   "outputs": [],
   "source": [
    "wcss = [] # Within cluster sum of squares to analyze k-means performance\n",
    "\n",
    "k_number_clusters = np.arange(1, 11) # define number of clusters to test\n",
    "\n",
    "for k in tqdm_notebook(k_number_clusters, desc='K-Means Hyperparameter Tunning'): \n",
    "\n",
    "    kmeans = KMeans(n_clusters=k, init=\"k-means++\", random_state=42, max_iter=500, n_jobs=9) # k-means model definition\n",
    "\n",
    "    kmeans.fit(checkpoint_4) # fitting to our dataframe\n",
    "\n",
    "    wcss.append(kmeans.inertia_) # appending intertia value to our list for further evaluation"
   ]
  },
  {
   "cell_type": "code",
   "execution_count": null,
   "metadata": {},
   "outputs": [],
   "source": []
  },
  {
   "cell_type": "code",
   "execution_count": null,
   "metadata": {},
   "outputs": [],
   "source": []
  },
  {
   "cell_type": "code",
   "execution_count": null,
   "metadata": {},
   "outputs": [],
   "source": []
  },
  {
   "cell_type": "code",
   "execution_count": null,
   "metadata": {},
   "outputs": [],
   "source": []
  },
  {
   "cell_type": "code",
   "execution_count": null,
   "metadata": {},
   "outputs": [],
   "source": [
    "path_out = '..\\\\resources\\\\checkpoint.csv'\n",
    "filtered_data.to_csv(path_or_buf=path_out, index=False)"
   ]
  },
  {
   "cell_type": "markdown",
   "metadata": {},
   "source": [
    "        We still need to keep an eye on the variables that only have 2 unique values, but it will be more a subjective evaluation "
   ]
  },
  {
   "cell_type": "markdown",
   "metadata": {},
   "source": [
    "* Check correlation Matrix"
   ]
  },
  {
   "cell_type": "markdown",
   "metadata": {},
   "source": [
    "#correlation matrix\n",
    "corrmat = remove_null_data.corr()\n",
    "f, ax = plt.subplots(figsize=(15, 10))\n",
    "sns.heatmap(corrmat, square=True); # considering 70% o correlation as minimum to show"
   ]
  },
  {
   "cell_type": "markdown",
   "metadata": {},
   "source": [
    "* Observations"
   ]
  },
  {
   "cell_type": "markdown",
   "metadata": {},
   "source": [
    "  1- There is an \"island\" between Rec ID and Tow destination Longitude this will be evaluate latter, but looks promissing\n",
    "  2- Basic Cost has a high correlation with the variables within this \"island\" \n",
    "  3- Individual Key and Right_Individual Key are pratically the same variable\n",
    "  4- ZIP5 and ZIP9 are pratically the same variable\n",
    "  5- Months from join to Cancel has no correlation at so ever with the Premier Cost variable\n",
    "  "
   ]
  },
  {
   "cell_type": "markdown",
   "metadata": {},
   "source": [
    "    By the correlation matrix of the entire dataset (minus the columns with more than 70% of null values), we can see that there are still some columns with no correlation, or total correlation with all the variables, and some trouble columns. Therefore, the best thing to do is to drop them."
   ]
  },
  {
   "cell_type": "markdown",
   "metadata": {},
   "source": [
    "trouble_columns= ['Is Duplicate', 'Member Match Flag']\n",
    "\n",
    "columns_will_not_use = ['Individual Key', 'Member Flag', 'Right_Individual Key']"
   ]
  }
 ],
 "metadata": {
  "kernelspec": {
   "display_name": "Python 3.7.6 64-bit ('capstone_project': conda)",
   "language": "python",
   "name": "python37664bitcapstoneprojectcondad07c177c475741d8a46606514fa38a7a"
  },
  "language_info": {
   "codemirror_mode": {
    "name": "ipython",
    "version": 3
   },
   "file_extension": ".py",
   "mimetype": "text/x-python",
   "name": "python",
   "nbconvert_exporter": "python",
   "pygments_lexer": "ipython3",
   "version": "3.7.6-final"
  }
 },
 "nbformat": 4,
 "nbformat_minor": 2
}