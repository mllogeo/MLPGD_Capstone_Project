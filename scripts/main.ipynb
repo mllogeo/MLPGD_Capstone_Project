{
 "cells": [
  {
   "cell_type": "markdown",
   "metadata": {},
   "source": [
    "# Loading Packages"
   ]
  },
  {
   "cell_type": "code",
   "execution_count": 1,
   "metadata": {},
   "outputs": [],
   "source": [
    "import numpy as np\n",
    "import pandas as pd\n",
    "import matplotlib.pyplot as plt\n",
    "import seaborn as sns\n",
    "from collections import Counter"
   ]
  },
  {
   "cell_type": "markdown",
   "metadata": {},
   "source": [
    "## Progress Bar"
   ]
  },
  {
   "cell_type": "code",
   "execution_count": 2,
   "metadata": {},
   "outputs": [],
   "source": [
    "%%capture\n",
    "from tqdm import tqdm_notebook\n",
    "tqdm_notebook().pandas()"
   ]
  },
  {
   "cell_type": "markdown",
   "metadata": {},
   "source": [
    "## Pandas Options"
   ]
  },
  {
   "cell_type": "code",
   "execution_count": 3,
   "metadata": {},
   "outputs": [],
   "source": [
    "pd.set_option('max_columns', None)\n",
    "pd.set_option('display.max_rows', None)"
   ]
  },
  {
   "cell_type": "markdown",
   "metadata": {},
   "source": [
    "# Loading Files"
   ]
  },
  {
   "cell_type": "markdown",
   "metadata": {},
   "source": [
    "## 1 - Read Default Data"
   ]
  },
  {
   "cell_type": "code",
   "execution_count": 4,
   "metadata": {},
   "outputs": [],
   "source": [
    "path = 'D:\\\\Desktop\\\\MLPGD_Capstone_Project\\\\resources\\\\aaa_sample_data.xlsx'\n",
    "\n",
    "df_original = pd.read_excel(path)"
   ]
  },
  {
   "cell_type": "markdown",
   "metadata": {},
   "source": [
    "* Data Glance"
   ]
  },
  {
   "cell_type": "code",
   "execution_count": 5,
   "metadata": {},
   "outputs": [
    {
     "output_type": "execute_result",
     "data": {
      "text/plain": "   Column1  Individual Key  Household Key Member Flag          City  \\\n0        0       100000030      104625900           Y     NEW HAVEN   \n1        1       522115500       45007910           Y  WEST WARWICK   \n\n  State - Grouped   ZIP5       ZIP9 FSV CMSI Flag FSV Credit Card Flag  \\\n0              CT  65110  651113490             N                    N   \n1              RI  28930  289338500             N                    Y   \n\n  FSV Deposit Program Flag FSV Home Equity Flag FSV ID Theft Flag  \\\n0                        N                    N                 N   \n1                        N                    N                 N   \n\n  FSV Mortgage Flag INS Client Flag TRV Globalware Flag Number of Children  \\\n0                 N               N                   N                NaN   \n1                 N               N                   N          One Child   \n\n  Responded to Catalog                         Race  Length Of Residence  \\\n0                  NaN                          NaN                  NaN   \n1                  NaN  Caucasion / White - English                150.0   \n\n  Mail Responder  Home Owner     Income Date Of Birth Children     Education  \\\n0            NaN         NaN        NaN           NaT      NaN           NaN   \n1            Yes  Home Owner  30-39,999    1922-02-05      Yes  Some College   \n\n                              Dwelling Type Credit Ranges Language Gender  \\\n0  Small or large multi-family w/apt number           NaN      NaN   Male   \n1  Small or large multi-family w/apt number       600-649  English    NaN   \n\n  Active Expiration Date Address Change Date Bad Address Flag  \\\n0                    NaT                 NaT              NaN   \n1             2020-09-01 2005-01-28 12:41:09                F   \n\n  Billing Code Description Birth Date MMDDYYYY          Branch Name  \\\n0                      NaN                 NaT                  NaN   \n1               New Member          1922-02-05  RI - WARWICK BRANCH   \n\n  Cancel Date Cancel Reason County  Do Not Direct Mail Solicit  \\\n0         NaT           NaN    NaN                         NaN   \n1         NaT           NaN   KENT                         0.0   \n\n   Email Available Email Status  ERS ENT Count Year 1  ERS ENT Count Year 2  \\\n0              NaN          NaN                   NaN                   NaN   \n1              0.0          NaN                   0.0                   0.0   \n\n   ERS ENT Count Year 3  ERS Member Cost Year 1  ERS Member Cost Year 2  \\\n0                   NaN                     NaN                     NaN   \n1                  20.0                     0.0                     0.0   \n\n   ERS Member Cost Year 3 Right_Gender  Right_Individual Key Join AAA Date  \\\n0                     NaN          NaN                   NaN           NaT   \n1                   650.0          NaN           522115500.0    1970-09-01   \n\n  Join Club Date  Member Key Member Map Location  Member Number Associate ID  \\\n0            NaT         NaN                 NaN                         NaN   \n1     1970-09-01  15000140.0   {41.696,-71.5308}                    153000.0   \n\n  Member Phone Type Member Status  Member Tenure Years Member Type  \\\n0               NaN           NaN                  NaN         NaN   \n1              VoIP        ACTIVE                490.0     Primary   \n\n   Membership ID  Months from Join to Cancel Opt-Out - Publication  \\\n0            NaN                         NaN                   NaN   \n1         1530.0                         NaN                Opt-In   \n\n  Reason Joined Reinstate Date Renew Method      ZIP  Mosaic Household  \\\n0           NaN            NaT          NaN      NaN               NaN   \n1           NaN     2019-08-23   AUTO RENEW  28930.0  Senior Discounts   \n\n  Mosaic Global Household kcl_B_IND_MosaicsGrouping New Mover Flag  \\\n0                     NaN                       NaN            NaN   \n1       Low Income Elders     Golden Year Guardians              N   \n\n  Occupation Code Occupation Group Right_Dwelling Type Move Distance  \\\n0             NaN              NaN                 NaN           NaN   \n1             NaN              NaN                 NaN           NaN   \n\n  Occupant Type Breakdown Map Location Breakdown City Breakdown State  \\\n0           NaN                    NaN            NaN             NaN   \n1           NaN               {41,-71}   West Warwick              RI   \n\n   Basic Cost  Calculated Tow Miles Call Canceled Call Killed  \\\n0         NaN                   NaN           NaN         NaN   \n1       325.0                   8.0             N           N   \n\n  Call Status Recv Date Cash Call Clearing Code Last Description  \\\n0                   NaN       NaN                            NaN   \n1   2017-04-13 10:05:17         Y               CASH CALL ONLY C   \n\n  Dispatch Code1 Description  Dispatch Code2Description  \\\n0                        NaN                        NaN   \n1            Engine Overheat                        NaN   \n\n  DTL Prob1 Code Description Fleet Indicator  Is Duplicate  Is NSR  \\\n0                        NaN             NaN           NaN     NaN   \n1            Engine Overheat               N           0.0     0.0   \n\n   Member Match Flag  Member Number and Associate ID Motorcycle Indicator  \\\n0                NaN                             NaN                  NaN   \n1               10.0                        153000.0                    N   \n\n   Plus Cost Plus Indicator Description  Premier Cost Prob1 Code Description  \\\n0        NaN                        NaN           NaN                    NaN   \n1        0.0           Basic Membership           0.0                    Tow   \n\n  Prob2 Code Description SC Call Club Code Description    SC Date      Rec ID  \\\n0                    NaN                           NaN        NaT         NaN   \n1                    NaN                 AAA Northeast 2017-04-13  97073200.0   \n\n  SC STS RSN Code Description SC Vehicle Manufacturer Name  \\\n0                         NaN                          NaN   \n1            CASH CALL ONLY C                       TOYOTA   \n\n  SC Vehicle Model Name      SVC Facility Name   SVC Facility Type  \\\n0                   NaN                    NaN                 NaN   \n1                 CAMRY  ASTRO WRECKER SERVICE  independent repair   \n\n   Total Cost  Tow Destination Latitude  Tow Destination Longitude  \\\n0         NaN                       NaN                        NaN   \n1       325.0                     410.0                     -710.0   \n\n           Tow Destination Name  Was Duplicated  Was Towed To AAR Referral  \n0                           NaN             NaN                        NaN  \n1  Aar / Johnson's Auto Service             0.0                       10.0  ",
      "text/html": "<div>\n<style scoped>\n    .dataframe tbody tr th:only-of-type {\n        vertical-align: middle;\n    }\n\n    .dataframe tbody tr th {\n        vertical-align: top;\n    }\n\n    .dataframe thead th {\n        text-align: right;\n    }\n</style>\n<table border=\"1\" class=\"dataframe\">\n  <thead>\n    <tr style=\"text-align: right;\">\n      <th></th>\n      <th>Column1</th>\n      <th>Individual Key</th>\n      <th>Household Key</th>\n      <th>Member Flag</th>\n      <th>City</th>\n      <th>State - Grouped</th>\n      <th>ZIP5</th>\n      <th>ZIP9</th>\n      <th>FSV CMSI Flag</th>\n      <th>FSV Credit Card Flag</th>\n      <th>FSV Deposit Program Flag</th>\n      <th>FSV Home Equity Flag</th>\n      <th>FSV ID Theft Flag</th>\n      <th>FSV Mortgage Flag</th>\n      <th>INS Client Flag</th>\n      <th>TRV Globalware Flag</th>\n      <th>Number of Children</th>\n      <th>Responded to Catalog</th>\n      <th>Race</th>\n      <th>Length Of Residence</th>\n      <th>Mail Responder</th>\n      <th>Home Owner</th>\n      <th>Income</th>\n      <th>Date Of Birth</th>\n      <th>Children</th>\n      <th>Education</th>\n      <th>Dwelling Type</th>\n      <th>Credit Ranges</th>\n      <th>Language</th>\n      <th>Gender</th>\n      <th>Active Expiration Date</th>\n      <th>Address Change Date</th>\n      <th>Bad Address Flag</th>\n      <th>Billing Code Description</th>\n      <th>Birth Date MMDDYYYY</th>\n      <th>Branch Name</th>\n      <th>Cancel Date</th>\n      <th>Cancel Reason</th>\n      <th>County</th>\n      <th>Do Not Direct Mail Solicit</th>\n      <th>Email Available</th>\n      <th>Email Status</th>\n      <th>ERS ENT Count Year 1</th>\n      <th>ERS ENT Count Year 2</th>\n      <th>ERS ENT Count Year 3</th>\n      <th>ERS Member Cost Year 1</th>\n      <th>ERS Member Cost Year 2</th>\n      <th>ERS Member Cost Year 3</th>\n      <th>Right_Gender</th>\n      <th>Right_Individual Key</th>\n      <th>Join AAA Date</th>\n      <th>Join Club Date</th>\n      <th>Member Key</th>\n      <th>Member Map Location</th>\n      <th>Member Number Associate ID</th>\n      <th>Member Phone Type</th>\n      <th>Member Status</th>\n      <th>Member Tenure Years</th>\n      <th>Member Type</th>\n      <th>Membership ID</th>\n      <th>Months from Join to Cancel</th>\n      <th>Opt-Out - Publication</th>\n      <th>Reason Joined</th>\n      <th>Reinstate Date</th>\n      <th>Renew Method</th>\n      <th>ZIP</th>\n      <th>Mosaic Household</th>\n      <th>Mosaic Global Household</th>\n      <th>kcl_B_IND_MosaicsGrouping</th>\n      <th>New Mover Flag</th>\n      <th>Occupation Code</th>\n      <th>Occupation Group</th>\n      <th>Right_Dwelling Type</th>\n      <th>Move Distance</th>\n      <th>Occupant Type</th>\n      <th>Breakdown Map Location</th>\n      <th>Breakdown City</th>\n      <th>Breakdown State</th>\n      <th>Basic Cost</th>\n      <th>Calculated Tow Miles</th>\n      <th>Call Canceled</th>\n      <th>Call Killed</th>\n      <th>Call Status Recv Date</th>\n      <th>Cash Call</th>\n      <th>Clearing Code Last Description</th>\n      <th>Dispatch Code1 Description</th>\n      <th>Dispatch Code2Description</th>\n      <th>DTL Prob1 Code Description</th>\n      <th>Fleet Indicator</th>\n      <th>Is Duplicate</th>\n      <th>Is NSR</th>\n      <th>Member Match Flag</th>\n      <th>Member Number and Associate ID</th>\n      <th>Motorcycle Indicator</th>\n      <th>Plus Cost</th>\n      <th>Plus Indicator Description</th>\n      <th>Premier Cost</th>\n      <th>Prob1 Code Description</th>\n      <th>Prob2 Code Description</th>\n      <th>SC Call Club Code Description</th>\n      <th>SC Date</th>\n      <th>Rec ID</th>\n      <th>SC STS RSN Code Description</th>\n      <th>SC Vehicle Manufacturer Name</th>\n      <th>SC Vehicle Model Name</th>\n      <th>SVC Facility Name</th>\n      <th>SVC Facility Type</th>\n      <th>Total Cost</th>\n      <th>Tow Destination Latitude</th>\n      <th>Tow Destination Longitude</th>\n      <th>Tow Destination Name</th>\n      <th>Was Duplicated</th>\n      <th>Was Towed To AAR Referral</th>\n    </tr>\n  </thead>\n  <tbody>\n    <tr>\n      <th>0</th>\n      <td>0</td>\n      <td>100000030</td>\n      <td>104625900</td>\n      <td>Y</td>\n      <td>NEW HAVEN</td>\n      <td>CT</td>\n      <td>65110</td>\n      <td>651113490</td>\n      <td>N</td>\n      <td>N</td>\n      <td>N</td>\n      <td>N</td>\n      <td>N</td>\n      <td>N</td>\n      <td>N</td>\n      <td>N</td>\n      <td>NaN</td>\n      <td>NaN</td>\n      <td>NaN</td>\n      <td>NaN</td>\n      <td>NaN</td>\n      <td>NaN</td>\n      <td>NaN</td>\n      <td>NaT</td>\n      <td>NaN</td>\n      <td>NaN</td>\n      <td>Small or large multi-family w/apt number</td>\n      <td>NaN</td>\n      <td>NaN</td>\n      <td>Male</td>\n      <td>NaT</td>\n      <td>NaT</td>\n      <td>NaN</td>\n      <td>NaN</td>\n      <td>NaT</td>\n      <td>NaN</td>\n      <td>NaT</td>\n      <td>NaN</td>\n      <td>NaN</td>\n      <td>NaN</td>\n      <td>NaN</td>\n      <td>NaN</td>\n      <td>NaN</td>\n      <td>NaN</td>\n      <td>NaN</td>\n      <td>NaN</td>\n      <td>NaN</td>\n      <td>NaN</td>\n      <td>NaN</td>\n      <td>NaN</td>\n      <td>NaT</td>\n      <td>NaT</td>\n      <td>NaN</td>\n      <td>NaN</td>\n      <td>NaN</td>\n      <td>NaN</td>\n      <td>NaN</td>\n      <td>NaN</td>\n      <td>NaN</td>\n      <td>NaN</td>\n      <td>NaN</td>\n      <td>NaN</td>\n      <td>NaN</td>\n      <td>NaT</td>\n      <td>NaN</td>\n      <td>NaN</td>\n      <td>NaN</td>\n      <td>NaN</td>\n      <td>NaN</td>\n      <td>NaN</td>\n      <td>NaN</td>\n      <td>NaN</td>\n      <td>NaN</td>\n      <td>NaN</td>\n      <td>NaN</td>\n      <td>NaN</td>\n      <td>NaN</td>\n      <td>NaN</td>\n      <td>NaN</td>\n      <td>NaN</td>\n      <td>NaN</td>\n      <td>NaN</td>\n      <td>NaN</td>\n      <td>NaN</td>\n      <td>NaN</td>\n      <td>NaN</td>\n      <td>NaN</td>\n      <td>NaN</td>\n      <td>NaN</td>\n      <td>NaN</td>\n      <td>NaN</td>\n      <td>NaN</td>\n      <td>NaN</td>\n      <td>NaN</td>\n      <td>NaN</td>\n      <td>NaN</td>\n      <td>NaN</td>\n      <td>NaN</td>\n      <td>NaN</td>\n      <td>NaN</td>\n      <td>NaT</td>\n      <td>NaN</td>\n      <td>NaN</td>\n      <td>NaN</td>\n      <td>NaN</td>\n      <td>NaN</td>\n      <td>NaN</td>\n      <td>NaN</td>\n      <td>NaN</td>\n      <td>NaN</td>\n      <td>NaN</td>\n      <td>NaN</td>\n      <td>NaN</td>\n    </tr>\n    <tr>\n      <th>1</th>\n      <td>1</td>\n      <td>522115500</td>\n      <td>45007910</td>\n      <td>Y</td>\n      <td>WEST WARWICK</td>\n      <td>RI</td>\n      <td>28930</td>\n      <td>289338500</td>\n      <td>N</td>\n      <td>Y</td>\n      <td>N</td>\n      <td>N</td>\n      <td>N</td>\n      <td>N</td>\n      <td>N</td>\n      <td>N</td>\n      <td>One Child</td>\n      <td>NaN</td>\n      <td>Caucasion / White - English</td>\n      <td>150.0</td>\n      <td>Yes</td>\n      <td>Home Owner</td>\n      <td>30-39,999</td>\n      <td>1922-02-05</td>\n      <td>Yes</td>\n      <td>Some College</td>\n      <td>Small or large multi-family w/apt number</td>\n      <td>600-649</td>\n      <td>English</td>\n      <td>NaN</td>\n      <td>2020-09-01</td>\n      <td>2005-01-28 12:41:09</td>\n      <td>F</td>\n      <td>New Member</td>\n      <td>1922-02-05</td>\n      <td>RI - WARWICK BRANCH</td>\n      <td>NaT</td>\n      <td>NaN</td>\n      <td>KENT</td>\n      <td>0.0</td>\n      <td>0.0</td>\n      <td>NaN</td>\n      <td>0.0</td>\n      <td>0.0</td>\n      <td>20.0</td>\n      <td>0.0</td>\n      <td>0.0</td>\n      <td>650.0</td>\n      <td>NaN</td>\n      <td>522115500.0</td>\n      <td>1970-09-01</td>\n      <td>1970-09-01</td>\n      <td>15000140.0</td>\n      <td>{41.696,-71.5308}</td>\n      <td>153000.0</td>\n      <td>VoIP</td>\n      <td>ACTIVE</td>\n      <td>490.0</td>\n      <td>Primary</td>\n      <td>1530.0</td>\n      <td>NaN</td>\n      <td>Opt-In</td>\n      <td>NaN</td>\n      <td>2019-08-23</td>\n      <td>AUTO RENEW</td>\n      <td>28930.0</td>\n      <td>Senior Discounts</td>\n      <td>Low Income Elders</td>\n      <td>Golden Year Guardians</td>\n      <td>N</td>\n      <td>NaN</td>\n      <td>NaN</td>\n      <td>NaN</td>\n      <td>NaN</td>\n      <td>NaN</td>\n      <td>{41,-71}</td>\n      <td>West Warwick</td>\n      <td>RI</td>\n      <td>325.0</td>\n      <td>8.0</td>\n      <td>N</td>\n      <td>N</td>\n      <td>2017-04-13 10:05:17</td>\n      <td>Y</td>\n      <td>CASH CALL ONLY C</td>\n      <td>Engine Overheat</td>\n      <td>NaN</td>\n      <td>Engine Overheat</td>\n      <td>N</td>\n      <td>0.0</td>\n      <td>0.0</td>\n      <td>10.0</td>\n      <td>153000.0</td>\n      <td>N</td>\n      <td>0.0</td>\n      <td>Basic Membership</td>\n      <td>0.0</td>\n      <td>Tow</td>\n      <td>NaN</td>\n      <td>AAA Northeast</td>\n      <td>2017-04-13</td>\n      <td>97073200.0</td>\n      <td>CASH CALL ONLY C</td>\n      <td>TOYOTA</td>\n      <td>CAMRY</td>\n      <td>ASTRO WRECKER SERVICE</td>\n      <td>independent repair</td>\n      <td>325.0</td>\n      <td>410.0</td>\n      <td>-710.0</td>\n      <td>Aar / Johnson's Auto Service</td>\n      <td>0.0</td>\n      <td>10.0</td>\n    </tr>\n  </tbody>\n</table>\n</div>"
     },
     "metadata": {},
     "execution_count": 5
    }
   ],
   "source": [
    "df_original.head(n=2)"
   ]
  },
  {
   "cell_type": "markdown",
   "metadata": {},
   "source": [
    "* General Info"
   ]
  },
  {
   "cell_type": "code",
   "execution_count": 6,
   "metadata": {},
   "outputs": [
    {
     "output_type": "stream",
     "name": "stdout",
     "text": "<class 'pandas.core.frame.DataFrame'>\nRangeIndex: 21344 entries, 0 to 21343\nColumns: 113 entries, Column1 to Was Towed To AAR Referral\ndtypes: datetime64[ns](9), float64(31), int64(5), object(68)\nmemory usage: 18.4+ MB\n"
    }
   ],
   "source": [
    "df_original.info()"
   ]
  },
  {
   "cell_type": "code",
   "execution_count": 7,
   "metadata": {},
   "outputs": [
    {
     "output_type": "execute_result",
     "data": {
      "text/plain": "Column1                                    int64\nIndividual Key                             int64\nHousehold Key                              int64\nMember Flag                               object\nCity                                      object\nState - Grouped                           object\nZIP5                                       int64\nZIP9                                       int64\nFSV CMSI Flag                             object\nFSV Credit Card Flag                      object\nFSV Deposit Program Flag                  object\nFSV Home Equity Flag                      object\nFSV ID Theft Flag                         object\nFSV Mortgage Flag                         object\nINS Client Flag                           object\nTRV Globalware Flag                       object\nNumber of Children                        object\nResponded to Catalog                      object\nRace                                      object\nLength Of Residence                      float64\nMail Responder                            object\nHome Owner                                object\nIncome                                    object\nDate Of Birth                     datetime64[ns]\nChildren                                  object\nEducation                                 object\nDwelling Type                             object\nCredit Ranges                             object\nLanguage                                  object\nGender                                    object\nActive Expiration Date            datetime64[ns]\nAddress Change Date               datetime64[ns]\nBad Address Flag                          object\nBilling Code Description                  object\nBirth Date MMDDYYYY               datetime64[ns]\nBranch Name                               object\nCancel Date                       datetime64[ns]\nCancel Reason                             object\nCounty                                    object\nDo Not Direct Mail Solicit               float64\nEmail Available                          float64\nEmail Status                              object\nERS ENT Count Year 1                     float64\nERS ENT Count Year 2                     float64\nERS ENT Count Year 3                     float64\nERS Member Cost Year 1                   float64\nERS Member Cost Year 2                   float64\nERS Member Cost Year 3                   float64\nRight_Gender                              object\nRight_Individual Key                     float64\nJoin AAA Date                     datetime64[ns]\nJoin Club Date                    datetime64[ns]\nMember Key                               float64\nMember Map Location                       object\nMember Number Associate ID               float64\nMember Phone Type                         object\nMember Status                             object\nMember Tenure Years                      float64\nMember Type                               object\nMembership ID                            float64\nMonths from Join to Cancel               float64\nOpt-Out - Publication                     object\nReason Joined                             object\nReinstate Date                    datetime64[ns]\nRenew Method                              object\nZIP                                      float64\nMosaic Household                          object\nMosaic Global Household                   object\nkcl_B_IND_MosaicsGrouping                 object\nNew Mover Flag                            object\nOccupation Code                           object\nOccupation Group                          object\nRight_Dwelling Type                       object\nMove Distance                             object\nOccupant Type                             object\nBreakdown Map Location                    object\nBreakdown City                            object\nBreakdown State                           object\nBasic Cost                               float64\nCalculated Tow Miles                     float64\nCall Canceled                             object\nCall Killed                               object\nCall Status Recv Date                     object\nCash Call                                 object\nClearing Code Last Description            object\nDispatch Code1 Description                object\nDispatch Code2Description                float64\nDTL Prob1 Code Description                object\nFleet Indicator                           object\nIs Duplicate                             float64\nIs NSR                                   float64\nMember Match Flag                        float64\nMember Number and Associate ID           float64\nMotorcycle Indicator                      object\nPlus Cost                                float64\nPlus Indicator Description                object\nPremier Cost                             float64\nProb1 Code Description                    object\nProb2 Code Description                    object\nSC Call Club Code Description             object\nSC Date                           datetime64[ns]\nRec ID                                   float64\nSC STS RSN Code Description               object\nSC Vehicle Manufacturer Name              object\nSC Vehicle Model Name                     object\nSVC Facility Name                         object\nSVC Facility Type                         object\nTotal Cost                               float64\nTow Destination Latitude                 float64\nTow Destination Longitude                float64\nTow Destination Name                      object\nWas Duplicated                           float64\nWas Towed To AAR Referral                float64\ndtype: object"
     },
     "metadata": {},
     "execution_count": 7
    }
   ],
   "source": [
    "df_original.dtypes"
   ]
  },
  {
   "cell_type": "markdown",
   "metadata": {},
   "source": [
    "* Reading Dictionaries"
   ]
  },
  {
   "cell_type": "code",
   "execution_count": 8,
   "metadata": {},
   "outputs": [],
   "source": [
    "path_dict_member = 'D:\\\\Desktop\\\\MLPGD_Capstone_Project\\\\resources\\\\member_data_dict.xlsx'\n",
    "\n",
    "dict_member = pd.read_excel(path_dict_member)"
   ]
  },
  {
   "cell_type": "code",
   "execution_count": 9,
   "metadata": {},
   "outputs": [],
   "source": [
    "path_dict_rodaside = 'D:\\\\Desktop\\\\MLPGD_Capstone_Project\\\\resources\\\\roadside_data_dict.xlsx'\n",
    "\n",
    "dict_roadside = pd.read_excel(path_dict_rodaside)"
   ]
  },
  {
   "cell_type": "markdown",
   "metadata": {},
   "source": [
    "# Data processing (Exploratory Data Analysis - EDA)"
   ]
  },
  {
   "cell_type": "markdown",
   "metadata": {},
   "source": [
    "* Creating Dictionary to keep track of each operation and each filtering per operation"
   ]
  },
  {
   "cell_type": "code",
   "execution_count": 10,
   "metadata": {},
   "outputs": [],
   "source": [
    "removed_columns = {}"
   ]
  },
  {
   "cell_type": "markdown",
   "metadata": {},
   "source": [
    "## 1 - Dropping Erroneous Column (excel did that on converting the csv original file)"
   ]
  },
  {
   "cell_type": "markdown",
   "metadata": {},
   "source": [
    "    1.1 - Defining the key for this operation "
   ]
  },
  {
   "cell_type": "code",
   "execution_count": 11,
   "metadata": {},
   "outputs": [],
   "source": [
    "removed_columns['Erroneous Columns Removal'] = ['Column1'] "
   ]
  },
  {
   "cell_type": "markdown",
   "metadata": {},
   "source": [
    "    1.2 - Performing Filtering"
   ]
  },
  {
   "cell_type": "code",
   "execution_count": 12,
   "metadata": {},
   "outputs": [],
   "source": [
    "df_original.drop(columns='Column1', inplace=True)"
   ]
  },
  {
   "cell_type": "code",
   "execution_count": 13,
   "metadata": {},
   "outputs": [
    {
     "output_type": "stream",
     "name": "stdout",
     "text": "<class 'pandas.core.frame.DataFrame'>\nRangeIndex: 21344 entries, 0 to 21343\nColumns: 112 entries, Individual Key to Was Towed To AAR Referral\ndtypes: datetime64[ns](9), float64(31), int64(4), object(68)\nmemory usage: 18.2+ MB\n"
    }
   ],
   "source": [
    "df_original.info()"
   ]
  },
  {
   "cell_type": "markdown",
   "metadata": {},
   "source": [
    "## 2 - Evaluating number of null values"
   ]
  },
  {
   "cell_type": "code",
   "execution_count": 14,
   "metadata": {},
   "outputs": [],
   "source": [
    "nullval_ratio = (df_original.isnull().sum() * 100 / len(df_original)).sort_values(ascending=False) # percentage of null values per column"
   ]
  },
  {
   "cell_type": "code",
   "execution_count": 15,
   "metadata": {},
   "outputs": [
    {
     "output_type": "execute_result",
     "data": {
      "text/plain": "Dispatch Code2Description         100.000000\nProb2 Code Description             99.962519\nReason Joined                      98.182159\nReinstate Date                     97.680847\nMove Distance                      96.996814\nOccupant Type                      96.570465\nRight_Dwelling Type                96.139430\nResponded to Catalog               95.970765\nTow Destination Name               82.702399\nRight_Gender                       74.779798\nMonths from Join to Cancel         61.689468\nCancel Date                        61.689468\nCancel Reason                      61.689468\nOccupation Group                   58.854948\nOccupation Code                    58.854948\nGender                             58.850262\nDate Of Birth                      52.253561\nEmail Status                       48.833396\nAddress Change Date                46.640742\nHome Owner                         45.516304\nTow Destination Latitude           44.654235\nTow Destination Longitude          44.654235\nIncome                             44.045165\nMail Responder                     43.731259\nChildren                           43.731259\nRace                               43.731259\nNumber of Children                 43.731259\nLength Of Residence                43.731259\nLanguage                           43.731259\nEducation                          43.731259\nCredit Ranges                      43.731259\nMember Phone Type                  42.292916\nMotorcycle Indicator               38.244940\nSVC Facility Type                  37.364130\nBreakdown Map Location             35.616567\nSVC Facility Name                  35.096514\nFleet Indicator                    35.096514\nCalculated Tow Miles               35.059033\nPremier Cost                       34.824775\nTotal Cost                         34.670165\nPlus Cost                          34.670165\nBasic Cost                         34.670165\nCall Status Recv Date              34.642054\nSC STS RSN Code Description        34.627999\nClearing Code Last Description     34.627999\nSC Vehicle Model Name              34.515555\nSC Vehicle Manufacturer Name       34.478073\nDispatch Code1 Description         34.426537\nDTL Prob1 Code Description         34.426537\nWas Duplicated                     34.421852\nWas Towed To AAR Referral          34.421852\nCash Call                          34.421852\nSC Date                            34.421852\nPlus Indicator Description         34.421852\nProb1 Code Description             34.421852\nSC Call Club Code Description      34.421852\nMember Match Flag                  34.421852\nIs NSR                             34.421852\nIs Duplicate                       34.421852\nMember Number and Associate ID     34.421852\nCall Killed                        34.421852\nCall Canceled                      34.421852\nBreakdown State                    34.421852\nBreakdown City                     34.421852\nRec ID                             34.421852\nMosaic Global Household            25.595015\nkcl_B_IND_MosaicsGrouping          25.595015\nMosaic Household                   25.595015\nDwelling Type                      25.548163\nERS ENT Count Year 1               21.875000\nERS Member Cost Year 3             21.875000\nERS ENT Count Year 2               21.875000\nERS ENT Count Year 3               21.875000\nERS Member Cost Year 1             21.875000\nERS Member Cost Year 2             21.875000\nBirth Date MMDDYYYY                15.226762\nMember Map Location                 0.168666\nActive Expiration Date              0.004685\nBad Address Flag                    0.004685\nMember Status                       0.004685\nBilling Code Description            0.004685\nMember Number Associate ID          0.004685\nBranch Name                         0.004685\nZIP                                 0.004685\nRenew Method                        0.004685\nOpt-Out - Publication               0.004685\nMembership ID                       0.004685\nMember Type                         0.004685\nMember Tenure Years                 0.004685\nNew Mover Flag                      0.004685\nMember Key                          0.004685\nJoin AAA Date                       0.004685\nRight_Individual Key                0.004685\nEmail Available                     0.004685\nDo Not Direct Mail Solicit          0.004685\nCounty                              0.004685\nJoin Club Date                      0.004685\nFSV CMSI Flag                       0.000000\nHousehold Key                       0.000000\nMember Flag                         0.000000\nCity                                0.000000\nState - Grouped                     0.000000\nZIP5                                0.000000\nZIP9                                0.000000\nFSV Home Equity Flag                0.000000\nFSV Credit Card Flag                0.000000\nFSV Deposit Program Flag            0.000000\nFSV ID Theft Flag                   0.000000\nFSV Mortgage Flag                   0.000000\nINS Client Flag                     0.000000\nTRV Globalware Flag                 0.000000\nIndividual Key                      0.000000\ndtype: float64"
     },
     "metadata": {},
     "execution_count": 15
    }
   ],
   "source": [
    "nullval_ratio"
   ]
  },
  {
   "cell_type": "markdown",
   "metadata": {},
   "source": [
    "    2.1 - Removing columns with more than 70% of null values"
   ]
  },
  {
   "cell_type": "markdown",
   "metadata": {},
   "source": [
    "            2.1.1 - Maintaining Original Data file "
   ]
  },
  {
   "cell_type": "code",
   "execution_count": 16,
   "metadata": {},
   "outputs": [],
   "source": [
    "removed_null_data = df_original.copy()"
   ]
  },
  {
   "cell_type": "markdown",
   "metadata": {},
   "source": [
    "            2.1.2 - Defining Threshold "
   ]
  },
  {
   "cell_type": "code",
   "execution_count": 17,
   "metadata": {},
   "outputs": [],
   "source": [
    "threshold = 70.0"
   ]
  },
  {
   "cell_type": "markdown",
   "metadata": {},
   "source": [
    "            2.1.3 - Defining the key for this operation"
   ]
  },
  {
   "cell_type": "code",
   "execution_count": 18,
   "metadata": {},
   "outputs": [],
   "source": [
    "key2 = str(threshold) + '% Threshold Column Removal'\n",
    "\n",
    "removed_columns[key2] = []"
   ]
  },
  {
   "cell_type": "markdown",
   "metadata": {},
   "source": [
    "            2.1.4 - Performing Filtering"
   ]
  },
  {
   "cell_type": "code",
   "execution_count": 19,
   "metadata": {},
   "outputs": [
    {
     "output_type": "display_data",
     "data": {
      "text/plain": "HBox(children=(FloatProgress(value=0.0, description='Process Progress', max=112.0, style=ProgressStyle(descrip…",
      "application/vnd.jupyter.widget-view+json": {
       "version_major": 2,
       "version_minor": 0,
       "model_id": "cd9e9b95c7ed48789bedffb85f7e1f0c"
      }
     },
     "metadata": {}
    },
    {
     "output_type": "stream",
     "name": "stdout",
     "text": "\nRemoved Columns after filtering process:  ['Responded to Catalog', 'Right_Gender', 'Reason Joined', 'Reinstate Date', 'Right_Dwelling Type', 'Move Distance', 'Occupant Type', 'Dispatch Code2Description', 'Prob2 Code Description', 'Tow Destination Name']\n"
    }
   ],
   "source": [
    "for c in tqdm_notebook(df_original.columns, desc='Process Progress'):\n",
    "\n",
    "    if nullval_ratio[c] > threshold:\n",
    "\n",
    "        removed_null_data.drop(columns=c, inplace=True)\n",
    "\n",
    "        removed_columns[key2].append(c)\n",
    "\n",
    "print('Removed Columns after filtering process: ', removed_columns[key2])"
   ]
  },
  {
   "cell_type": "code",
   "execution_count": 20,
   "metadata": {},
   "outputs": [
    {
     "output_type": "stream",
     "name": "stdout",
     "text": "<class 'pandas.core.frame.DataFrame'>\nRangeIndex: 21344 entries, 0 to 21343\nColumns: 102 entries, Individual Key to Was Towed To AAR Referral\ndtypes: datetime64[ns](8), float64(30), int64(4), object(60)\nmemory usage: 16.6+ MB\n"
    }
   ],
   "source": [
    "removed_null_data.info()"
   ]
  },
  {
   "cell_type": "markdown",
   "metadata": {},
   "source": [
    "## 3 - Subjective Evaluation"
   ]
  },
  {
   "cell_type": "markdown",
   "metadata": {},
   "source": [
    "    3.1 - Rename FSV, INS, and TRV columns that are related to products purchase flags"
   ]
  },
  {
   "cell_type": "code",
   "execution_count": 21,
   "metadata": {},
   "outputs": [
    {
     "output_type": "stream",
     "name": "stdout",
     "text": "['FSV CMSI Flag', 'FSV Credit Card Flag', 'FSV Deposit Program Flag', 'FSV Home Equity Flag', 'FSV ID Theft Flag', 'FSV Mortgage Flag', 'INS Client Flag', 'TRV Globalware Flag']\n"
    }
   ],
   "source": [
    "matching_FSV = [s for s in list(removed_null_data.columns) if \"FSV\" in s]\n",
    "matching_INS = [s for s in list(removed_null_data.columns) if \"INS\" in s]\n",
    "matching_TRV = [s for s in list(removed_null_data.columns) if \"TRV\" in s]\n",
    "final_matching = matching_FSV + matching_INS + matching_TRV\n",
    "print(final_matching)"
   ]
  },
  {
   "cell_type": "code",
   "execution_count": 22,
   "metadata": {},
   "outputs": [],
   "source": [
    "counter = 1\n",
    "\n",
    "for c in final_matching:\n",
    "\n",
    "    removed_null_data.rename(columns={c : 'Purchased Product' + ' ' + str(counter)}, inplace=True)\n",
    "\n",
    "    counter = counter + 1"
   ]
  },
  {
   "cell_type": "code",
   "execution_count": 23,
   "metadata": {},
   "outputs": [
    {
     "output_type": "execute_result",
     "data": {
      "text/plain": "   Individual Key  Household Key Member Flag          City State - Grouped  \\\n0       100000030      104625900           Y     NEW HAVEN              CT   \n1       522115500       45007910           Y  WEST WARWICK              RI   \n\n    ZIP5       ZIP9 Purchased Product 1 Purchased Product 2  \\\n0  65110  651113490                   N                   N   \n1  28930  289338500                   N                   Y   \n\n  Purchased Product 3 Purchased Product 4 Purchased Product 5  \\\n0                   N                   N                   N   \n1                   N                   N                   N   \n\n  Purchased Product 6 Purchased Product 7 Purchased Product 8  \\\n0                   N                   N                   N   \n1                   N                   N                   N   \n\n  Number of Children                         Race  Length Of Residence  \\\n0                NaN                          NaN                  NaN   \n1          One Child  Caucasion / White - English                150.0   \n\n  Mail Responder  Home Owner     Income Date Of Birth Children     Education  \\\n0            NaN         NaN        NaN           NaT      NaN           NaN   \n1            Yes  Home Owner  30-39,999    1922-02-05      Yes  Some College   \n\n                              Dwelling Type Credit Ranges Language Gender  \\\n0  Small or large multi-family w/apt number           NaN      NaN   Male   \n1  Small or large multi-family w/apt number       600-649  English    NaN   \n\n  Active Expiration Date Address Change Date Bad Address Flag  \\\n0                    NaT                 NaT              NaN   \n1             2020-09-01 2005-01-28 12:41:09                F   \n\n  Billing Code Description Birth Date MMDDYYYY          Branch Name  \\\n0                      NaN                 NaT                  NaN   \n1               New Member          1922-02-05  RI - WARWICK BRANCH   \n\n  Cancel Date Cancel Reason County  Do Not Direct Mail Solicit  \\\n0         NaT           NaN    NaN                         NaN   \n1         NaT           NaN   KENT                         0.0   \n\n   Email Available Email Status  ERS ENT Count Year 1  ERS ENT Count Year 2  \\\n0              NaN          NaN                   NaN                   NaN   \n1              0.0          NaN                   0.0                   0.0   \n\n   ERS ENT Count Year 3  ERS Member Cost Year 1  ERS Member Cost Year 2  \\\n0                   NaN                     NaN                     NaN   \n1                  20.0                     0.0                     0.0   \n\n   ERS Member Cost Year 3  Right_Individual Key Join AAA Date Join Club Date  \\\n0                     NaN                   NaN           NaT            NaT   \n1                   650.0           522115500.0    1970-09-01     1970-09-01   \n\n   Member Key Member Map Location  Member Number Associate ID  \\\n0         NaN                 NaN                         NaN   \n1  15000140.0   {41.696,-71.5308}                    153000.0   \n\n  Member Phone Type Member Status  Member Tenure Years Member Type  \\\n0               NaN           NaN                  NaN         NaN   \n1              VoIP        ACTIVE                490.0     Primary   \n\n   Membership ID  Months from Join to Cancel Opt-Out - Publication  \\\n0            NaN                         NaN                   NaN   \n1         1530.0                         NaN                Opt-In   \n\n  Renew Method      ZIP  Mosaic Household Mosaic Global Household  \\\n0          NaN      NaN               NaN                     NaN   \n1   AUTO RENEW  28930.0  Senior Discounts       Low Income Elders   \n\n  kcl_B_IND_MosaicsGrouping New Mover Flag Occupation Code Occupation Group  \\\n0                       NaN            NaN             NaN              NaN   \n1     Golden Year Guardians              N             NaN              NaN   \n\n  Breakdown Map Location Breakdown City Breakdown State  Basic Cost  \\\n0                    NaN            NaN             NaN         NaN   \n1               {41,-71}   West Warwick              RI       325.0   \n\n   Calculated Tow Miles Call Canceled Call Killed Call Status Recv Date  \\\n0                   NaN           NaN         NaN                   NaN   \n1                   8.0             N           N   2017-04-13 10:05:17   \n\n  Cash Call Clearing Code Last Description Dispatch Code1 Description  \\\n0       NaN                            NaN                        NaN   \n1         Y               CASH CALL ONLY C            Engine Overheat   \n\n  DTL Prob1 Code Description Fleet Indicator  Is Duplicate  Is NSR  \\\n0                        NaN             NaN           NaN     NaN   \n1            Engine Overheat               N           0.0     0.0   \n\n   Member Match Flag  Member Number and Associate ID Motorcycle Indicator  \\\n0                NaN                             NaN                  NaN   \n1               10.0                        153000.0                    N   \n\n   Plus Cost Plus Indicator Description  Premier Cost Prob1 Code Description  \\\n0        NaN                        NaN           NaN                    NaN   \n1        0.0           Basic Membership           0.0                    Tow   \n\n  SC Call Club Code Description    SC Date      Rec ID  \\\n0                           NaN        NaT         NaN   \n1                 AAA Northeast 2017-04-13  97073200.0   \n\n  SC STS RSN Code Description SC Vehicle Manufacturer Name  \\\n0                         NaN                          NaN   \n1            CASH CALL ONLY C                       TOYOTA   \n\n  SC Vehicle Model Name      SVC Facility Name   SVC Facility Type  \\\n0                   NaN                    NaN                 NaN   \n1                 CAMRY  ASTRO WRECKER SERVICE  independent repair   \n\n   Total Cost  Tow Destination Latitude  Tow Destination Longitude  \\\n0         NaN                       NaN                        NaN   \n1       325.0                     410.0                     -710.0   \n\n   Was Duplicated  Was Towed To AAR Referral  \n0             NaN                        NaN  \n1             0.0                       10.0  ",
      "text/html": "<div>\n<style scoped>\n    .dataframe tbody tr th:only-of-type {\n        vertical-align: middle;\n    }\n\n    .dataframe tbody tr th {\n        vertical-align: top;\n    }\n\n    .dataframe thead th {\n        text-align: right;\n    }\n</style>\n<table border=\"1\" class=\"dataframe\">\n  <thead>\n    <tr style=\"text-align: right;\">\n      <th></th>\n      <th>Individual Key</th>\n      <th>Household Key</th>\n      <th>Member Flag</th>\n      <th>City</th>\n      <th>State - Grouped</th>\n      <th>ZIP5</th>\n      <th>ZIP9</th>\n      <th>Purchased Product 1</th>\n      <th>Purchased Product 2</th>\n      <th>Purchased Product 3</th>\n      <th>Purchased Product 4</th>\n      <th>Purchased Product 5</th>\n      <th>Purchased Product 6</th>\n      <th>Purchased Product 7</th>\n      <th>Purchased Product 8</th>\n      <th>Number of Children</th>\n      <th>Race</th>\n      <th>Length Of Residence</th>\n      <th>Mail Responder</th>\n      <th>Home Owner</th>\n      <th>Income</th>\n      <th>Date Of Birth</th>\n      <th>Children</th>\n      <th>Education</th>\n      <th>Dwelling Type</th>\n      <th>Credit Ranges</th>\n      <th>Language</th>\n      <th>Gender</th>\n      <th>Active Expiration Date</th>\n      <th>Address Change Date</th>\n      <th>Bad Address Flag</th>\n      <th>Billing Code Description</th>\n      <th>Birth Date MMDDYYYY</th>\n      <th>Branch Name</th>\n      <th>Cancel Date</th>\n      <th>Cancel Reason</th>\n      <th>County</th>\n      <th>Do Not Direct Mail Solicit</th>\n      <th>Email Available</th>\n      <th>Email Status</th>\n      <th>ERS ENT Count Year 1</th>\n      <th>ERS ENT Count Year 2</th>\n      <th>ERS ENT Count Year 3</th>\n      <th>ERS Member Cost Year 1</th>\n      <th>ERS Member Cost Year 2</th>\n      <th>ERS Member Cost Year 3</th>\n      <th>Right_Individual Key</th>\n      <th>Join AAA Date</th>\n      <th>Join Club Date</th>\n      <th>Member Key</th>\n      <th>Member Map Location</th>\n      <th>Member Number Associate ID</th>\n      <th>Member Phone Type</th>\n      <th>Member Status</th>\n      <th>Member Tenure Years</th>\n      <th>Member Type</th>\n      <th>Membership ID</th>\n      <th>Months from Join to Cancel</th>\n      <th>Opt-Out - Publication</th>\n      <th>Renew Method</th>\n      <th>ZIP</th>\n      <th>Mosaic Household</th>\n      <th>Mosaic Global Household</th>\n      <th>kcl_B_IND_MosaicsGrouping</th>\n      <th>New Mover Flag</th>\n      <th>Occupation Code</th>\n      <th>Occupation Group</th>\n      <th>Breakdown Map Location</th>\n      <th>Breakdown City</th>\n      <th>Breakdown State</th>\n      <th>Basic Cost</th>\n      <th>Calculated Tow Miles</th>\n      <th>Call Canceled</th>\n      <th>Call Killed</th>\n      <th>Call Status Recv Date</th>\n      <th>Cash Call</th>\n      <th>Clearing Code Last Description</th>\n      <th>Dispatch Code1 Description</th>\n      <th>DTL Prob1 Code Description</th>\n      <th>Fleet Indicator</th>\n      <th>Is Duplicate</th>\n      <th>Is NSR</th>\n      <th>Member Match Flag</th>\n      <th>Member Number and Associate ID</th>\n      <th>Motorcycle Indicator</th>\n      <th>Plus Cost</th>\n      <th>Plus Indicator Description</th>\n      <th>Premier Cost</th>\n      <th>Prob1 Code Description</th>\n      <th>SC Call Club Code Description</th>\n      <th>SC Date</th>\n      <th>Rec ID</th>\n      <th>SC STS RSN Code Description</th>\n      <th>SC Vehicle Manufacturer Name</th>\n      <th>SC Vehicle Model Name</th>\n      <th>SVC Facility Name</th>\n      <th>SVC Facility Type</th>\n      <th>Total Cost</th>\n      <th>Tow Destination Latitude</th>\n      <th>Tow Destination Longitude</th>\n      <th>Was Duplicated</th>\n      <th>Was Towed To AAR Referral</th>\n    </tr>\n  </thead>\n  <tbody>\n    <tr>\n      <th>0</th>\n      <td>100000030</td>\n      <td>104625900</td>\n      <td>Y</td>\n      <td>NEW HAVEN</td>\n      <td>CT</td>\n      <td>65110</td>\n      <td>651113490</td>\n      <td>N</td>\n      <td>N</td>\n      <td>N</td>\n      <td>N</td>\n      <td>N</td>\n      <td>N</td>\n      <td>N</td>\n      <td>N</td>\n      <td>NaN</td>\n      <td>NaN</td>\n      <td>NaN</td>\n      <td>NaN</td>\n      <td>NaN</td>\n      <td>NaN</td>\n      <td>NaT</td>\n      <td>NaN</td>\n      <td>NaN</td>\n      <td>Small or large multi-family w/apt number</td>\n      <td>NaN</td>\n      <td>NaN</td>\n      <td>Male</td>\n      <td>NaT</td>\n      <td>NaT</td>\n      <td>NaN</td>\n      <td>NaN</td>\n      <td>NaT</td>\n      <td>NaN</td>\n      <td>NaT</td>\n      <td>NaN</td>\n      <td>NaN</td>\n      <td>NaN</td>\n      <td>NaN</td>\n      <td>NaN</td>\n      <td>NaN</td>\n      <td>NaN</td>\n      <td>NaN</td>\n      <td>NaN</td>\n      <td>NaN</td>\n      <td>NaN</td>\n      <td>NaN</td>\n      <td>NaT</td>\n      <td>NaT</td>\n      <td>NaN</td>\n      <td>NaN</td>\n      <td>NaN</td>\n      <td>NaN</td>\n      <td>NaN</td>\n      <td>NaN</td>\n      <td>NaN</td>\n      <td>NaN</td>\n      <td>NaN</td>\n      <td>NaN</td>\n      <td>NaN</td>\n      <td>NaN</td>\n      <td>NaN</td>\n      <td>NaN</td>\n      <td>NaN</td>\n      <td>NaN</td>\n      <td>NaN</td>\n      <td>NaN</td>\n      <td>NaN</td>\n      <td>NaN</td>\n      <td>NaN</td>\n      <td>NaN</td>\n      <td>NaN</td>\n      <td>NaN</td>\n      <td>NaN</td>\n      <td>NaN</td>\n      <td>NaN</td>\n      <td>NaN</td>\n      <td>NaN</td>\n      <td>NaN</td>\n      <td>NaN</td>\n      <td>NaN</td>\n      <td>NaN</td>\n      <td>NaN</td>\n      <td>NaN</td>\n      <td>NaN</td>\n      <td>NaN</td>\n      <td>NaN</td>\n      <td>NaN</td>\n      <td>NaN</td>\n      <td>NaN</td>\n      <td>NaT</td>\n      <td>NaN</td>\n      <td>NaN</td>\n      <td>NaN</td>\n      <td>NaN</td>\n      <td>NaN</td>\n      <td>NaN</td>\n      <td>NaN</td>\n      <td>NaN</td>\n      <td>NaN</td>\n      <td>NaN</td>\n      <td>NaN</td>\n    </tr>\n    <tr>\n      <th>1</th>\n      <td>522115500</td>\n      <td>45007910</td>\n      <td>Y</td>\n      <td>WEST WARWICK</td>\n      <td>RI</td>\n      <td>28930</td>\n      <td>289338500</td>\n      <td>N</td>\n      <td>Y</td>\n      <td>N</td>\n      <td>N</td>\n      <td>N</td>\n      <td>N</td>\n      <td>N</td>\n      <td>N</td>\n      <td>One Child</td>\n      <td>Caucasion / White - English</td>\n      <td>150.0</td>\n      <td>Yes</td>\n      <td>Home Owner</td>\n      <td>30-39,999</td>\n      <td>1922-02-05</td>\n      <td>Yes</td>\n      <td>Some College</td>\n      <td>Small or large multi-family w/apt number</td>\n      <td>600-649</td>\n      <td>English</td>\n      <td>NaN</td>\n      <td>2020-09-01</td>\n      <td>2005-01-28 12:41:09</td>\n      <td>F</td>\n      <td>New Member</td>\n      <td>1922-02-05</td>\n      <td>RI - WARWICK BRANCH</td>\n      <td>NaT</td>\n      <td>NaN</td>\n      <td>KENT</td>\n      <td>0.0</td>\n      <td>0.0</td>\n      <td>NaN</td>\n      <td>0.0</td>\n      <td>0.0</td>\n      <td>20.0</td>\n      <td>0.0</td>\n      <td>0.0</td>\n      <td>650.0</td>\n      <td>522115500.0</td>\n      <td>1970-09-01</td>\n      <td>1970-09-01</td>\n      <td>15000140.0</td>\n      <td>{41.696,-71.5308}</td>\n      <td>153000.0</td>\n      <td>VoIP</td>\n      <td>ACTIVE</td>\n      <td>490.0</td>\n      <td>Primary</td>\n      <td>1530.0</td>\n      <td>NaN</td>\n      <td>Opt-In</td>\n      <td>AUTO RENEW</td>\n      <td>28930.0</td>\n      <td>Senior Discounts</td>\n      <td>Low Income Elders</td>\n      <td>Golden Year Guardians</td>\n      <td>N</td>\n      <td>NaN</td>\n      <td>NaN</td>\n      <td>{41,-71}</td>\n      <td>West Warwick</td>\n      <td>RI</td>\n      <td>325.0</td>\n      <td>8.0</td>\n      <td>N</td>\n      <td>N</td>\n      <td>2017-04-13 10:05:17</td>\n      <td>Y</td>\n      <td>CASH CALL ONLY C</td>\n      <td>Engine Overheat</td>\n      <td>Engine Overheat</td>\n      <td>N</td>\n      <td>0.0</td>\n      <td>0.0</td>\n      <td>10.0</td>\n      <td>153000.0</td>\n      <td>N</td>\n      <td>0.0</td>\n      <td>Basic Membership</td>\n      <td>0.0</td>\n      <td>Tow</td>\n      <td>AAA Northeast</td>\n      <td>2017-04-13</td>\n      <td>97073200.0</td>\n      <td>CASH CALL ONLY C</td>\n      <td>TOYOTA</td>\n      <td>CAMRY</td>\n      <td>ASTRO WRECKER SERVICE</td>\n      <td>independent repair</td>\n      <td>325.0</td>\n      <td>410.0</td>\n      <td>-710.0</td>\n      <td>0.0</td>\n      <td>10.0</td>\n    </tr>\n  </tbody>\n</table>\n</div>"
     },
     "metadata": {},
     "execution_count": 23
    }
   ],
   "source": [
    "removed_null_data.head(n=2)"
   ]
  },
  {
   "cell_type": "markdown",
   "metadata": {},
   "source": [
    "    3.2 -  Removing columns that are not allowed or not ethical to work\n"
   ]
  },
  {
   "cell_type": "markdown",
   "metadata": {},
   "source": [
    "        3.2.1 - Creating Dictionary Key"
   ]
  },
  {
   "cell_type": "code",
   "execution_count": 24,
   "metadata": {},
   "outputs": [],
   "source": [
    "key3 = 'Unethical Columns'\n",
    "\n",
    "removed_columns[key3] = ['Race', 'Language'] # is gender an unethical information for market segmentation?"
   ]
  },
  {
   "cell_type": "markdown",
   "metadata": {},
   "source": [
    "        3.2.2 - Performing Filtering"
   ]
  },
  {
   "cell_type": "code",
   "execution_count": 25,
   "metadata": {},
   "outputs": [
    {
     "output_type": "display_data",
     "data": {
      "text/plain": "HBox(children=(FloatProgress(value=0.0, description='Process Progress', max=2.0, style=ProgressStyle(descripti…",
      "application/vnd.jupyter.widget-view+json": {
       "version_major": 2,
       "version_minor": 0,
       "model_id": "9f747d453e744b2083d7e0efd25e1ad0"
      }
     },
     "metadata": {}
    },
    {
     "output_type": "stream",
     "name": "stdout",
     "text": "\nRemoved Columns after filtering process:  ['Race', 'Language']\n"
    }
   ],
   "source": [
    "for c in tqdm_notebook(removed_columns[key3], desc='Process Progress'):\n",
    "\n",
    "    removed_null_data.drop(columns=c, inplace=True)\n",
    "\n",
    "print('Removed Columns after filtering process: ', removed_columns[key3])"
   ]
  },
  {
   "cell_type": "code",
   "execution_count": 26,
   "metadata": {},
   "outputs": [
    {
     "output_type": "stream",
     "name": "stdout",
     "text": "<class 'pandas.core.frame.DataFrame'>\nRangeIndex: 21344 entries, 0 to 21343\nData columns (total 100 columns):\n #   Column                          Non-Null Count  Dtype         \n---  ------                          --------------  -----         \n 0   Individual Key                  21344 non-null  int64         \n 1   Household Key                   21344 non-null  int64         \n 2   Member Flag                     21344 non-null  object        \n 3   City                            21344 non-null  object        \n 4   State - Grouped                 21344 non-null  object        \n 5   ZIP5                            21344 non-null  int64         \n 6   ZIP9                            21344 non-null  int64         \n 7   Purchased Product 1             21344 non-null  object        \n 8   Purchased Product 2             21344 non-null  object        \n 9   Purchased Product 3             21344 non-null  object        \n 10  Purchased Product 4             21344 non-null  object        \n 11  Purchased Product 5             21344 non-null  object        \n 12  Purchased Product 6             21344 non-null  object        \n 13  Purchased Product 7             21344 non-null  object        \n 14  Purchased Product 8             21344 non-null  object        \n 15  Number of Children              12010 non-null  object        \n 16  Length Of Residence             12010 non-null  float64       \n 17  Mail Responder                  12010 non-null  object        \n 18  Home Owner                      11629 non-null  object        \n 19  Income                          11943 non-null  object        \n 20  Date Of Birth                   10191 non-null  datetime64[ns]\n 21  Children                        12010 non-null  object        \n 22  Education                       12010 non-null  object        \n 23  Dwelling Type                   15891 non-null  object        \n 24  Credit Ranges                   12010 non-null  object        \n 25  Gender                          8783 non-null   object        \n 26  Active Expiration Date          21343 non-null  datetime64[ns]\n 27  Address Change Date             11389 non-null  datetime64[ns]\n 28  Bad Address Flag                21343 non-null  object        \n 29  Billing Code Description        21343 non-null  object        \n 30  Birth Date MMDDYYYY             18094 non-null  datetime64[ns]\n 31  Branch Name                     21343 non-null  object        \n 32  Cancel Date                     8177 non-null   datetime64[ns]\n 33  Cancel Reason                   8177 non-null   object        \n 34  County                          21343 non-null  object        \n 35  Do Not Direct Mail Solicit      21343 non-null  float64       \n 36  Email Available                 21343 non-null  float64       \n 37  Email Status                    10921 non-null  object        \n 38  ERS ENT Count Year 1            16675 non-null  float64       \n 39  ERS ENT Count Year 2            16675 non-null  float64       \n 40  ERS ENT Count Year 3            16675 non-null  float64       \n 41  ERS Member Cost Year 1          16675 non-null  float64       \n 42  ERS Member Cost Year 2          16675 non-null  float64       \n 43  ERS Member Cost Year 3          16675 non-null  float64       \n 44  Right_Individual Key            21343 non-null  float64       \n 45  Join AAA Date                   21343 non-null  datetime64[ns]\n 46  Join Club Date                  21343 non-null  datetime64[ns]\n 47  Member Key                      21343 non-null  float64       \n 48  Member Map Location             21308 non-null  object        \n 49  Member Number Associate ID      21343 non-null  float64       \n 50  Member Phone Type               12317 non-null  object        \n 51  Member Status                   21343 non-null  object        \n 52  Member Tenure Years             21343 non-null  float64       \n 53  Member Type                     21343 non-null  object        \n 54  Membership ID                   21343 non-null  float64       \n 55  Months from Join to Cancel      8177 non-null   float64       \n 56  Opt-Out - Publication           21343 non-null  object        \n 57  Renew Method                    21343 non-null  object        \n 58  ZIP                             21343 non-null  float64       \n 59  Mosaic Household                15881 non-null  object        \n 60  Mosaic Global Household         15881 non-null  object        \n 61  kcl_B_IND_MosaicsGrouping       15881 non-null  object        \n 62  New Mover Flag                  21343 non-null  object        \n 63  Occupation Code                 8782 non-null   object        \n 64  Occupation Group                8782 non-null   object        \n 65  Breakdown Map Location          13742 non-null  object        \n 66  Breakdown City                  13997 non-null  object        \n 67  Breakdown State                 13997 non-null  object        \n 68  Basic Cost                      13944 non-null  float64       \n 69  Calculated Tow Miles            13861 non-null  float64       \n 70  Call Canceled                   13997 non-null  object        \n 71  Call Killed                     13997 non-null  object        \n 72  Call Status Recv Date           13950 non-null  object        \n 73  Cash Call                       13997 non-null  object        \n 74  Clearing Code Last Description  13953 non-null  object        \n 75  Dispatch Code1 Description      13996 non-null  object        \n 76  DTL Prob1 Code Description      13996 non-null  object        \n 77  Fleet Indicator                 13853 non-null  object        \n 78  Is Duplicate                    13997 non-null  float64       \n 79  Is NSR                          13997 non-null  float64       \n 80  Member Match Flag               13997 non-null  float64       \n 81  Member Number and Associate ID  13997 non-null  float64       \n 82  Motorcycle Indicator            13181 non-null  object        \n 83  Plus Cost                       13944 non-null  float64       \n 84  Plus Indicator Description      13997 non-null  object        \n 85  Premier Cost                    13911 non-null  float64       \n 86  Prob1 Code Description          13997 non-null  object        \n 87  SC Call Club Code Description   13997 non-null  object        \n 88  SC Date                         13997 non-null  datetime64[ns]\n 89  Rec ID                          13997 non-null  float64       \n 90  SC STS RSN Code Description     13953 non-null  object        \n 91  SC Vehicle Manufacturer Name    13985 non-null  object        \n 92  SC Vehicle Model Name           13977 non-null  object        \n 93  SVC Facility Name               13853 non-null  object        \n 94  SVC Facility Type               13369 non-null  object        \n 95  Total Cost                      13944 non-null  float64       \n 96  Tow Destination Latitude        11813 non-null  float64       \n 97  Tow Destination Longitude       11813 non-null  float64       \n 98  Was Duplicated                  13997 non-null  float64       \n 99  Was Towed To AAR Referral       13997 non-null  float64       \ndtypes: datetime64[ns](8), float64(30), int64(4), object(58)\nmemory usage: 16.3+ MB\n"
    }
   ],
   "source": [
    "removed_null_data.info()"
   ]
  },
  {
   "cell_type": "markdown",
   "metadata": {},
   "source": [
    "    3.3 - Removing Columns that represent the same information in a different way (information redundancy)"
   ]
  },
  {
   "cell_type": "markdown",
   "metadata": {},
   "source": [
    "        3.3.1 - Creating Dictionary Key"
   ]
  },
  {
   "cell_type": "code",
   "execution_count": 27,
   "metadata": {},
   "outputs": [],
   "source": [
    "key4 = 'Redundancy Information Columns'\n",
    "\n",
    "removed_columns[key4] = ['Individual Key', 'State - Grouped', 'ZIP5', 'ZIP9', 'Children', 'Birth Date MMDDYYYY', 'Cancel Date', 'County', 'Do Not Direct Mail Solicit', 'Right_Individual Key', 'Member Key', 'Member Number Associate ID', 'Membership ID', 'Reinstate Date', 'ZIP', 'Mosaic Household', 'kcl_B_IND_MosaicsGrouping', 'Occupation Code', 'Breakdown State', 'Call Killed', 'Clearing Code Last Description', 'Dispatch Code1 Description','DTL Prob1 Code Description', 'Is Duplicate', 'Member Match Flag', 'Member Number and Associate ID', 'SC Date', 'Rec ID', 'SC STS RSN Code Description', 'SC Vehicle Model Name', 'SVC Facility Name', 'SVC Facility Type', 'Tow Destination Latitude', 'Tow Destination Longitude'] # is the City variable relevant once we already have lat/long location? Address Change Date? Bad Adress Flag? Reinstate Date (y)? Call Status Recv Date? "
   ]
  },
  {
   "cell_type": "markdown",
   "metadata": {},
   "source": [
    "        3.3.2 - Performing Filtering"
   ]
  },
  {
   "cell_type": "code",
   "execution_count": 28,
   "metadata": {},
   "outputs": [
    {
     "output_type": "display_data",
     "data": {
      "text/plain": "HBox(children=(FloatProgress(value=0.0, description='Process Progress', max=34.0, style=ProgressStyle(descript…",
      "application/vnd.jupyter.widget-view+json": {
       "version_major": 2,
       "version_minor": 0,
       "model_id": "8051685cdb1d40e3831bf78cbe0b8bde"
      }
     },
     "metadata": {}
    },
    {
     "output_type": "stream",
     "name": "stdout",
     "text": "\nRemoved Columns after filtering process:  ['Individual Key', 'State - Grouped', 'ZIP5', 'ZIP9', 'Children', 'Birth Date MMDDYYYY', 'Cancel Date', 'County', 'Do Not Direct Mail Solicit', 'Right_Individual Key', 'Member Key', 'Member Number Associate ID', 'Membership ID', 'Reinstate Date', 'ZIP', 'Mosaic Household', 'kcl_B_IND_MosaicsGrouping', 'Occupation Code', 'Breakdown State', 'Call Killed', 'Clearing Code Last Description', 'Dispatch Code1 Description', 'DTL Prob1 Code Description', 'Is Duplicate', 'Member Match Flag', 'Member Number and Associate ID', 'SC Date', 'Rec ID', 'SC STS RSN Code Description', 'SC Vehicle Model Name', 'SVC Facility Name', 'SVC Facility Type', 'Tow Destination Latitude', 'Tow Destination Longitude']\n"
    }
   ],
   "source": [
    "for c in tqdm_notebook(removed_columns[key4], desc='Process Progress'):\n",
    "\n",
    "    if c in removed_null_data.columns: # since we have choosen a lot of columns, we have to ensure that all of them are still in the current dataset status\n",
    "\n",
    "        removed_null_data.drop(columns=c, inplace=True)\n",
    "\n",
    "print('Removed Columns after filtering process: ', removed_columns[key4])"
   ]
  },
  {
   "cell_type": "code",
   "execution_count": 29,
   "metadata": {},
   "outputs": [
    {
     "output_type": "stream",
     "name": "stdout",
     "text": "<class 'pandas.core.frame.DataFrame'>\nRangeIndex: 21344 entries, 0 to 21343\nData columns (total 67 columns):\n #   Column                         Non-Null Count  Dtype         \n---  ------                         --------------  -----         \n 0   Household Key                  21344 non-null  int64         \n 1   Member Flag                    21344 non-null  object        \n 2   City                           21344 non-null  object        \n 3   Purchased Product 1            21344 non-null  object        \n 4   Purchased Product 2            21344 non-null  object        \n 5   Purchased Product 3            21344 non-null  object        \n 6   Purchased Product 4            21344 non-null  object        \n 7   Purchased Product 5            21344 non-null  object        \n 8   Purchased Product 6            21344 non-null  object        \n 9   Purchased Product 7            21344 non-null  object        \n 10  Purchased Product 8            21344 non-null  object        \n 11  Number of Children             12010 non-null  object        \n 12  Length Of Residence            12010 non-null  float64       \n 13  Mail Responder                 12010 non-null  object        \n 14  Home Owner                     11629 non-null  object        \n 15  Income                         11943 non-null  object        \n 16  Date Of Birth                  10191 non-null  datetime64[ns]\n 17  Education                      12010 non-null  object        \n 18  Dwelling Type                  15891 non-null  object        \n 19  Credit Ranges                  12010 non-null  object        \n 20  Gender                         8783 non-null   object        \n 21  Active Expiration Date         21343 non-null  datetime64[ns]\n 22  Address Change Date            11389 non-null  datetime64[ns]\n 23  Bad Address Flag               21343 non-null  object        \n 24  Billing Code Description       21343 non-null  object        \n 25  Branch Name                    21343 non-null  object        \n 26  Cancel Reason                  8177 non-null   object        \n 27  Email Available                21343 non-null  float64       \n 28  Email Status                   10921 non-null  object        \n 29  ERS ENT Count Year 1           16675 non-null  float64       \n 30  ERS ENT Count Year 2           16675 non-null  float64       \n 31  ERS ENT Count Year 3           16675 non-null  float64       \n 32  ERS Member Cost Year 1         16675 non-null  float64       \n 33  ERS Member Cost Year 2         16675 non-null  float64       \n 34  ERS Member Cost Year 3         16675 non-null  float64       \n 35  Join AAA Date                  21343 non-null  datetime64[ns]\n 36  Join Club Date                 21343 non-null  datetime64[ns]\n 37  Member Map Location            21308 non-null  object        \n 38  Member Phone Type              12317 non-null  object        \n 39  Member Status                  21343 non-null  object        \n 40  Member Tenure Years            21343 non-null  float64       \n 41  Member Type                    21343 non-null  object        \n 42  Months from Join to Cancel     8177 non-null   float64       \n 43  Opt-Out - Publication          21343 non-null  object        \n 44  Renew Method                   21343 non-null  object        \n 45  Mosaic Global Household        15881 non-null  object        \n 46  New Mover Flag                 21343 non-null  object        \n 47  Occupation Group               8782 non-null   object        \n 48  Breakdown Map Location         13742 non-null  object        \n 49  Breakdown City                 13997 non-null  object        \n 50  Basic Cost                     13944 non-null  float64       \n 51  Calculated Tow Miles           13861 non-null  float64       \n 52  Call Canceled                  13997 non-null  object        \n 53  Call Status Recv Date          13950 non-null  object        \n 54  Cash Call                      13997 non-null  object        \n 55  Fleet Indicator                13853 non-null  object        \n 56  Is NSR                         13997 non-null  float64       \n 57  Motorcycle Indicator           13181 non-null  object        \n 58  Plus Cost                      13944 non-null  float64       \n 59  Plus Indicator Description     13997 non-null  object        \n 60  Premier Cost                   13911 non-null  float64       \n 61  Prob1 Code Description         13997 non-null  object        \n 62  SC Call Club Code Description  13997 non-null  object        \n 63  SC Vehicle Manufacturer Name   13985 non-null  object        \n 64  Total Cost                     13944 non-null  float64       \n 65  Was Duplicated                 13997 non-null  float64       \n 66  Was Towed To AAR Referral      13997 non-null  float64       \ndtypes: datetime64[ns](5), float64(18), int64(1), object(43)\nmemory usage: 10.9+ MB\n"
    }
   ],
   "source": [
    "removed_null_data.info()"
   ]
  },
  {
   "cell_type": "markdown",
   "metadata": {},
   "source": [
    "    3.4 - Checking Columns with low percentage of variantional information (counting null values)"
   ]
  },
  {
   "cell_type": "markdown",
   "metadata": {},
   "source": [
    "        3.4.1 - Creating Dictionay Key "
   ]
  },
  {
   "cell_type": "code",
   "execution_count": 30,
   "metadata": {},
   "outputs": [],
   "source": [
    "key5 = 'Low Variational Information Columns'\n",
    "\n",
    "removed_columns[key5] = []"
   ]
  },
  {
   "cell_type": "markdown",
   "metadata": {},
   "source": [
    "        3.4.2 - Performing Filtering"
   ]
  },
  {
   "cell_type": "code",
   "execution_count": 31,
   "metadata": {},
   "outputs": [
    {
     "output_type": "display_data",
     "data": {
      "text/plain": "HBox(children=(FloatProgress(value=0.0, description='Process Progress', max=67.0, style=ProgressStyle(descript…",
      "application/vnd.jupyter.widget-view+json": {
       "version_major": 2,
       "version_minor": 0,
       "model_id": "52b31c511dac425d8302dcf826951c35"
      }
     },
     "metadata": {}
    },
    {
     "output_type": "stream",
     "name": "stdout",
     "text": "\nRemoved Columns after filtering process:  ['Member Flag']\n"
    }
   ],
   "source": [
    "for c in tqdm_notebook(removed_null_data.columns, desc='Process Progress'):\n",
    "\n",
    "    if removed_null_data.nunique()[c] == 1:\n",
    "\n",
    "        removed_null_data.drop(columns=c, inplace=True)\n",
    "\n",
    "        removed_columns[key5].append(c)\n",
    "        \n",
    "print('Removed Columns after filtering process: ', removed_columns[key5])"
   ]
  },
  {
   "cell_type": "code",
   "execution_count": 32,
   "metadata": {},
   "outputs": [
    {
     "output_type": "stream",
     "name": "stdout",
     "text": "<class 'pandas.core.frame.DataFrame'>\nRangeIndex: 21344 entries, 0 to 21343\nData columns (total 66 columns):\n #   Column                         Non-Null Count  Dtype         \n---  ------                         --------------  -----         \n 0   Household Key                  21344 non-null  int64         \n 1   City                           21344 non-null  object        \n 2   Purchased Product 1            21344 non-null  object        \n 3   Purchased Product 2            21344 non-null  object        \n 4   Purchased Product 3            21344 non-null  object        \n 5   Purchased Product 4            21344 non-null  object        \n 6   Purchased Product 5            21344 non-null  object        \n 7   Purchased Product 6            21344 non-null  object        \n 8   Purchased Product 7            21344 non-null  object        \n 9   Purchased Product 8            21344 non-null  object        \n 10  Number of Children             12010 non-null  object        \n 11  Length Of Residence            12010 non-null  float64       \n 12  Mail Responder                 12010 non-null  object        \n 13  Home Owner                     11629 non-null  object        \n 14  Income                         11943 non-null  object        \n 15  Date Of Birth                  10191 non-null  datetime64[ns]\n 16  Education                      12010 non-null  object        \n 17  Dwelling Type                  15891 non-null  object        \n 18  Credit Ranges                  12010 non-null  object        \n 19  Gender                         8783 non-null   object        \n 20  Active Expiration Date         21343 non-null  datetime64[ns]\n 21  Address Change Date            11389 non-null  datetime64[ns]\n 22  Bad Address Flag               21343 non-null  object        \n 23  Billing Code Description       21343 non-null  object        \n 24  Branch Name                    21343 non-null  object        \n 25  Cancel Reason                  8177 non-null   object        \n 26  Email Available                21343 non-null  float64       \n 27  Email Status                   10921 non-null  object        \n 28  ERS ENT Count Year 1           16675 non-null  float64       \n 29  ERS ENT Count Year 2           16675 non-null  float64       \n 30  ERS ENT Count Year 3           16675 non-null  float64       \n 31  ERS Member Cost Year 1         16675 non-null  float64       \n 32  ERS Member Cost Year 2         16675 non-null  float64       \n 33  ERS Member Cost Year 3         16675 non-null  float64       \n 34  Join AAA Date                  21343 non-null  datetime64[ns]\n 35  Join Club Date                 21343 non-null  datetime64[ns]\n 36  Member Map Location            21308 non-null  object        \n 37  Member Phone Type              12317 non-null  object        \n 38  Member Status                  21343 non-null  object        \n 39  Member Tenure Years            21343 non-null  float64       \n 40  Member Type                    21343 non-null  object        \n 41  Months from Join to Cancel     8177 non-null   float64       \n 42  Opt-Out - Publication          21343 non-null  object        \n 43  Renew Method                   21343 non-null  object        \n 44  Mosaic Global Household        15881 non-null  object        \n 45  New Mover Flag                 21343 non-null  object        \n 46  Occupation Group               8782 non-null   object        \n 47  Breakdown Map Location         13742 non-null  object        \n 48  Breakdown City                 13997 non-null  object        \n 49  Basic Cost                     13944 non-null  float64       \n 50  Calculated Tow Miles           13861 non-null  float64       \n 51  Call Canceled                  13997 non-null  object        \n 52  Call Status Recv Date          13950 non-null  object        \n 53  Cash Call                      13997 non-null  object        \n 54  Fleet Indicator                13853 non-null  object        \n 55  Is NSR                         13997 non-null  float64       \n 56  Motorcycle Indicator           13181 non-null  object        \n 57  Plus Cost                      13944 non-null  float64       \n 58  Plus Indicator Description     13997 non-null  object        \n 59  Premier Cost                   13911 non-null  float64       \n 60  Prob1 Code Description         13997 non-null  object        \n 61  SC Call Club Code Description  13997 non-null  object        \n 62  SC Vehicle Manufacturer Name   13985 non-null  object        \n 63  Total Cost                     13944 non-null  float64       \n 64  Was Duplicated                 13997 non-null  float64       \n 65  Was Towed To AAR Referral      13997 non-null  float64       \ndtypes: datetime64[ns](5), float64(18), int64(1), object(42)\nmemory usage: 10.7+ MB\n"
    }
   ],
   "source": [
    "removed_null_data.info()"
   ]
  },
  {
   "cell_type": "markdown",
   "metadata": {},
   "source": [
    "    3.5 - Removing Columns with Unnecessary Information (extremely subjective)"
   ]
  },
  {
   "cell_type": "markdown",
   "metadata": {},
   "source": [
    "        3.5.1 - Creating Dictionary Key"
   ]
  },
  {
   "cell_type": "code",
   "execution_count": 33,
   "metadata": {},
   "outputs": [],
   "source": [
    "key6 = 'Unnecessary Columns'\n",
    "\n",
    "removed_columns[key6] = ['Address Change Date', 'Bad Address Flag', 'Billing Code Description', 'Join Club Date', 'Member Phone Type', 'Mosaic Global Household', 'New Mover Flag', 'Call Canceled', 'Is NSR', 'Plus Indicator Description', 'Calculated Tow Miles', 'Was Duplicated', 'Was Towed To AAR Referral']"
   ]
  },
  {
   "cell_type": "markdown",
   "metadata": {},
   "source": [
    "        3.5.2 - Performing Filtering"
   ]
  },
  {
   "cell_type": "code",
   "execution_count": 34,
   "metadata": {},
   "outputs": [
    {
     "output_type": "display_data",
     "data": {
      "text/plain": "HBox(children=(FloatProgress(value=0.0, description='Process Progress', max=13.0, style=ProgressStyle(descript…",
      "application/vnd.jupyter.widget-view+json": {
       "version_major": 2,
       "version_minor": 0,
       "model_id": "c4fc1195ba194792965a9e48066b12c7"
      }
     },
     "metadata": {}
    },
    {
     "output_type": "stream",
     "name": "stdout",
     "text": "\nRemoved Columns after filtering process:  ['Address Change Date', 'Bad Address Flag', 'Billing Code Description', 'Join Club Date', 'Member Phone Type', 'Mosaic Global Household', 'New Mover Flag', 'Call Canceled', 'Is NSR', 'Plus Indicator Description', 'Calculated Tow Miles', 'Was Duplicated', 'Was Towed To AAR Referral']\n"
    }
   ],
   "source": [
    "for c in tqdm_notebook(removed_columns[key6], desc='Process Progress'):\n",
    "\n",
    "    removed_null_data.drop(columns=c, inplace=True)\n",
    "\n",
    "print('Removed Columns after filtering process: ', removed_columns[key6])"
   ]
  },
  {
   "cell_type": "code",
   "execution_count": 35,
   "metadata": {},
   "outputs": [
    {
     "output_type": "stream",
     "name": "stdout",
     "text": "<class 'pandas.core.frame.DataFrame'>\nRangeIndex: 21344 entries, 0 to 21343\nData columns (total 53 columns):\n #   Column                         Non-Null Count  Dtype         \n---  ------                         --------------  -----         \n 0   Household Key                  21344 non-null  int64         \n 1   City                           21344 non-null  object        \n 2   Purchased Product 1            21344 non-null  object        \n 3   Purchased Product 2            21344 non-null  object        \n 4   Purchased Product 3            21344 non-null  object        \n 5   Purchased Product 4            21344 non-null  object        \n 6   Purchased Product 5            21344 non-null  object        \n 7   Purchased Product 6            21344 non-null  object        \n 8   Purchased Product 7            21344 non-null  object        \n 9   Purchased Product 8            21344 non-null  object        \n 10  Number of Children             12010 non-null  object        \n 11  Length Of Residence            12010 non-null  float64       \n 12  Mail Responder                 12010 non-null  object        \n 13  Home Owner                     11629 non-null  object        \n 14  Income                         11943 non-null  object        \n 15  Date Of Birth                  10191 non-null  datetime64[ns]\n 16  Education                      12010 non-null  object        \n 17  Dwelling Type                  15891 non-null  object        \n 18  Credit Ranges                  12010 non-null  object        \n 19  Gender                         8783 non-null   object        \n 20  Active Expiration Date         21343 non-null  datetime64[ns]\n 21  Branch Name                    21343 non-null  object        \n 22  Cancel Reason                  8177 non-null   object        \n 23  Email Available                21343 non-null  float64       \n 24  Email Status                   10921 non-null  object        \n 25  ERS ENT Count Year 1           16675 non-null  float64       \n 26  ERS ENT Count Year 2           16675 non-null  float64       \n 27  ERS ENT Count Year 3           16675 non-null  float64       \n 28  ERS Member Cost Year 1         16675 non-null  float64       \n 29  ERS Member Cost Year 2         16675 non-null  float64       \n 30  ERS Member Cost Year 3         16675 non-null  float64       \n 31  Join AAA Date                  21343 non-null  datetime64[ns]\n 32  Member Map Location            21308 non-null  object        \n 33  Member Status                  21343 non-null  object        \n 34  Member Tenure Years            21343 non-null  float64       \n 35  Member Type                    21343 non-null  object        \n 36  Months from Join to Cancel     8177 non-null   float64       \n 37  Opt-Out - Publication          21343 non-null  object        \n 38  Renew Method                   21343 non-null  object        \n 39  Occupation Group               8782 non-null   object        \n 40  Breakdown Map Location         13742 non-null  object        \n 41  Breakdown City                 13997 non-null  object        \n 42  Basic Cost                     13944 non-null  float64       \n 43  Call Status Recv Date          13950 non-null  object        \n 44  Cash Call                      13997 non-null  object        \n 45  Fleet Indicator                13853 non-null  object        \n 46  Motorcycle Indicator           13181 non-null  object        \n 47  Plus Cost                      13944 non-null  float64       \n 48  Premier Cost                   13911 non-null  float64       \n 49  Prob1 Code Description         13997 non-null  object        \n 50  SC Call Club Code Description  13997 non-null  object        \n 51  SC Vehicle Manufacturer Name   13985 non-null  object        \n 52  Total Cost                     13944 non-null  float64       \ndtypes: datetime64[ns](3), float64(14), int64(1), object(35)\nmemory usage: 8.6+ MB\n"
    }
   ],
   "source": [
    "removed_null_data.info()"
   ]
  },
  {
   "cell_type": "markdown",
   "metadata": {},
   "source": [
    "## 4 - Summarize Information and Fill Nulls in the given columns "
   ]
  },
  {
   "cell_type": "markdown",
   "metadata": {},
   "source": [
    "    Renaming Pivot Variable and saving previous state of the data"
   ]
  },
  {
   "cell_type": "code",
   "execution_count": 36,
   "metadata": {},
   "outputs": [],
   "source": [
    "filtered_data = removed_null_data.copy()"
   ]
  },
  {
   "cell_type": "markdown",
   "metadata": {},
   "source": [
    "    4.1 - Number of Purchased Products"
   ]
  },
  {
   "cell_type": "markdown",
   "metadata": {},
   "source": [
    "        4.1.1 - Creating Dictionary Key"
   ]
  },
  {
   "cell_type": "code",
   "execution_count": 37,
   "metadata": {},
   "outputs": [],
   "source": [
    "key7 = 'Merging total number of purchased products by each row'\n",
    "\n",
    "removed_columns[key7] = ['Purchased Product 1',\t'Purchased Product 2',\t'Purchased Product 3',\t'Purchased Product 4',\t'Purchased Product 5',\t'Purchased Product 6',\t'Purchased Product 7',\t'Purchased Product 8']"
   ]
  },
  {
   "cell_type": "markdown",
   "metadata": {},
   "source": [
    "        4.1.2 - Performing Summary"
   ]
  },
  {
   "cell_type": "markdown",
   "metadata": {},
   "source": [
    "            4.1.2.1 - Converting String Values in Numerical Values and filling Null values as 0 purchased products for empty different Household Keys"
   ]
  },
  {
   "cell_type": "code",
   "execution_count": 38,
   "metadata": {},
   "outputs": [
    {
     "output_type": "display_data",
     "data": {
      "text/plain": "HBox(children=(FloatProgress(value=0.0, description='Process Progress', max=21344.0, style=ProgressStyle(descr…",
      "application/vnd.jupyter.widget-view+json": {
       "version_major": 2,
       "version_minor": 0,
       "model_id": "b42c6eb99890404e80b32b44bd60314d"
      }
     },
     "metadata": {}
    },
    {
     "output_type": "stream",
     "name": "stdout",
     "text": "\n"
    }
   ],
   "source": [
    "for idx in tqdm_notebook(range(len(filtered_data)), desc='Process Progress'): # For each row\n",
    "    for c in removed_columns[key7]: # In each Purchased Product Column\n",
    "\n",
    "        if (filtered_data[c].values[idx] == 'N') or (filtered_data[c].values[idx] == 'Null') or (filtered_data[c].values[idx] == np.nan):\n",
    "\n",
    "            filtered_data[c].values[idx] = 0\n",
    "\n",
    "        else:\n",
    "\n",
    "            filtered_data[c].values[idx] = 1"
   ]
  },
  {
   "cell_type": "markdown",
   "metadata": {},
   "source": [
    "            4.1.2.2 - Converting Columns to Iterger Type"
   ]
  },
  {
   "cell_type": "code",
   "execution_count": 39,
   "metadata": {},
   "outputs": [
    {
     "output_type": "display_data",
     "data": {
      "text/plain": "HBox(children=(FloatProgress(value=0.0, description='Process Progress', max=8.0, style=ProgressStyle(descripti…",
      "application/vnd.jupyter.widget-view+json": {
       "version_major": 2,
       "version_minor": 0,
       "model_id": "e1d9bc22e53f45b19419cd65efcda2d2"
      }
     },
     "metadata": {}
    },
    {
     "output_type": "stream",
     "name": "stdout",
     "text": "\n"
    }
   ],
   "source": [
    "for c in tqdm_notebook(removed_columns[key7], desc='Process Progress'):\n",
    "\n",
    "    filtered_data[c] = filtered_data[c].astype(int)"
   ]
  },
  {
   "cell_type": "markdown",
   "metadata": {},
   "source": [
    "        4.1.2.3 - Summarize all Purchased Columns"
   ]
  },
  {
   "cell_type": "code",
   "execution_count": 40,
   "metadata": {},
   "outputs": [
    {
     "output_type": "display_data",
     "data": {
      "text/plain": "HBox(children=(FloatProgress(value=0.0, description='Process Progress', max=21344.0, style=ProgressStyle(descr…",
      "application/vnd.jupyter.widget-view+json": {
       "version_major": 2,
       "version_minor": 0,
       "model_id": "9373de766858471c91cb486a9944f1ce"
      }
     },
     "metadata": {}
    },
    {
     "output_type": "stream",
     "name": "stdout",
     "text": "\n"
    }
   ],
   "source": [
    "new_column = [] # creating list for the new column to be appended\n",
    "\n",
    "column_name = 'Total Number of Purchased Products' # naming the new column\n",
    "\n",
    "for idx in tqdm_notebook(range(len(filtered_data)), desc='Process Progress'): # For each row\n",
    "    total_amount = 0 # total amount of products bought in each row\n",
    "\n",
    "    for c in removed_columns[key7]: # In each Purchased Product Column\n",
    "\n",
    "        if filtered_data[c][idx] == 1:\n",
    "\n",
    "            total_amount = total_amount + 1\n",
    "\n",
    "    new_column.append(total_amount)"
   ]
  },
  {
   "cell_type": "markdown",
   "metadata": {},
   "source": [
    "        4.1.2.4 - Drop Separate Purchased Data and Concatenate Total Purchased Data"
   ]
  },
  {
   "cell_type": "code",
   "execution_count": 41,
   "metadata": {},
   "outputs": [
    {
     "output_type": "display_data",
     "data": {
      "text/plain": "HBox(children=(FloatProgress(value=0.0, description='Process Progress', max=8.0, style=ProgressStyle(descripti…",
      "application/vnd.jupyter.widget-view+json": {
       "version_major": 2,
       "version_minor": 0,
       "model_id": "7b30c80b28b94cfb86ec42ed94162f22"
      }
     },
     "metadata": {}
    },
    {
     "output_type": "stream",
     "name": "stdout",
     "text": "\nRemoved Columns after filtering process:  ['Purchased Product 1', 'Purchased Product 2', 'Purchased Product 3', 'Purchased Product 4', 'Purchased Product 5', 'Purchased Product 6', 'Purchased Product 7', 'Purchased Product 8']\n"
    }
   ],
   "source": [
    "for c in tqdm_notebook(removed_columns[key7], desc='Process Progress'):\n",
    "\n",
    "    filtered_data.drop(columns=c, inplace=True)\n",
    "\n",
    "filtered_data[column_name] = new_column\n",
    "print('Removed Columns after filtering process: ', removed_columns[key7])"
   ]
  },
  {
   "cell_type": "code",
   "execution_count": 42,
   "metadata": {},
   "outputs": [
    {
     "output_type": "stream",
     "name": "stdout",
     "text": "<class 'pandas.core.frame.DataFrame'>\nRangeIndex: 21344 entries, 0 to 21343\nData columns (total 46 columns):\n #   Column                              Non-Null Count  Dtype         \n---  ------                              --------------  -----         \n 0   Household Key                       21344 non-null  int64         \n 1   City                                21344 non-null  object        \n 2   Number of Children                  12010 non-null  object        \n 3   Length Of Residence                 12010 non-null  float64       \n 4   Mail Responder                      12010 non-null  object        \n 5   Home Owner                          11629 non-null  object        \n 6   Income                              11943 non-null  object        \n 7   Date Of Birth                       10191 non-null  datetime64[ns]\n 8   Education                           12010 non-null  object        \n 9   Dwelling Type                       15891 non-null  object        \n 10  Credit Ranges                       12010 non-null  object        \n 11  Gender                              8783 non-null   object        \n 12  Active Expiration Date              21343 non-null  datetime64[ns]\n 13  Branch Name                         21343 non-null  object        \n 14  Cancel Reason                       8177 non-null   object        \n 15  Email Available                     21343 non-null  float64       \n 16  Email Status                        10921 non-null  object        \n 17  ERS ENT Count Year 1                16675 non-null  float64       \n 18  ERS ENT Count Year 2                16675 non-null  float64       \n 19  ERS ENT Count Year 3                16675 non-null  float64       \n 20  ERS Member Cost Year 1              16675 non-null  float64       \n 21  ERS Member Cost Year 2              16675 non-null  float64       \n 22  ERS Member Cost Year 3              16675 non-null  float64       \n 23  Join AAA Date                       21343 non-null  datetime64[ns]\n 24  Member Map Location                 21308 non-null  object        \n 25  Member Status                       21343 non-null  object        \n 26  Member Tenure Years                 21343 non-null  float64       \n 27  Member Type                         21343 non-null  object        \n 28  Months from Join to Cancel          8177 non-null   float64       \n 29  Opt-Out - Publication               21343 non-null  object        \n 30  Renew Method                        21343 non-null  object        \n 31  Occupation Group                    8782 non-null   object        \n 32  Breakdown Map Location              13742 non-null  object        \n 33  Breakdown City                      13997 non-null  object        \n 34  Basic Cost                          13944 non-null  float64       \n 35  Call Status Recv Date               13950 non-null  object        \n 36  Cash Call                           13997 non-null  object        \n 37  Fleet Indicator                     13853 non-null  object        \n 38  Motorcycle Indicator                13181 non-null  object        \n 39  Plus Cost                           13944 non-null  float64       \n 40  Premier Cost                        13911 non-null  float64       \n 41  Prob1 Code Description              13997 non-null  object        \n 42  SC Call Club Code Description       13997 non-null  object        \n 43  SC Vehicle Manufacturer Name        13985 non-null  object        \n 44  Total Cost                          13944 non-null  float64       \n 45  Total Number of Purchased Products  21344 non-null  int64         \ndtypes: datetime64[ns](3), float64(14), int64(2), object(27)\nmemory usage: 7.5+ MB\n"
    }
   ],
   "source": [
    "filtered_data.info()"
   ]
  },
  {
   "cell_type": "markdown",
   "metadata": {},
   "source": [
    "    4.2 - Correcting Number of Children column"
   ]
  },
  {
   "cell_type": "markdown",
   "metadata": {},
   "source": [
    "        4.2.1 - Checking if for any HouseHold Key there is a different information for children numbering"
   ]
  },
  {
   "cell_type": "code",
   "execution_count": 43,
   "metadata": {},
   "outputs": [
    {
     "output_type": "execute_result",
     "data": {
      "text/plain": "Counter({0: 6076, 1: 5827})"
     },
     "metadata": {},
     "execution_count": 43
    }
   ],
   "source": [
    "Counter(df_original.groupby('Individual Key')['Number of Children'].nunique().values) # as the sheet is sorted for Individual Keys, since the beginning, we need to check if, for each Individual Key there is only 1 or 0 entries for the Number of Children"
   ]
  },
  {
   "cell_type": "markdown",
   "metadata": {},
   "source": [
    "            With this information, we can ensure that there is no Individual Key, therefore no Household Key since it is a collection the previous, with an erroneous entry for the Number of Children column"
   ]
  },
  {
   "cell_type": "markdown",
   "metadata": {},
   "source": [
    "        4.2.2 - Converting String Values in Numerical Values and filling Null values as 0 children for empty different Household Keys"
   ]
  },
  {
   "cell_type": "code",
   "execution_count": 44,
   "metadata": {},
   "outputs": [],
   "source": [
    "mask_n_children = filtered_data['Number of Children'].isnull() # creating mask of null values in Number of Children column"
   ]
  },
  {
   "cell_type": "code",
   "execution_count": 45,
   "metadata": {},
   "outputs": [
    {
     "output_type": "display_data",
     "data": {
      "text/plain": "HBox(children=(FloatProgress(value=0.0, description='Process Progress', max=21344.0, style=ProgressStyle(descr…",
      "application/vnd.jupyter.widget-view+json": {
       "version_major": 2,
       "version_minor": 0,
       "model_id": "e022231a76ba45c7a99395fe50d31611"
      }
     },
     "metadata": {}
    },
    {
     "output_type": "stream",
     "name": "stdout",
     "text": "\n"
    }
   ],
   "source": [
    "for idx in tqdm_notebook(range(len(filtered_data)), desc='Process Progress'): # For each row\n",
    "\n",
    "    if mask_n_children[idx]: # if the mask is true, that means that the correponded value for that index is Null\n",
    "\n",
    "        filtered_data['Number of Children'].values[idx] = 0    \n",
    "    \n",
    "    else:\n",
    "\n",
    "        entry = filtered_data['Number of Children'].values[idx].split()[0]\n",
    "\n",
    "        if (entry == 'No'):\n",
    "\n",
    "            filtered_data['Number of Children'].values[idx] = 0\n",
    "\n",
    "        elif (entry == 'One'):\n",
    "\n",
    "            filtered_data['Number of Children'].values[idx] = 1\n",
    "\n",
    "        elif (entry == 'Two'):\n",
    "\n",
    "            filtered_data['Number of Children'].values[idx] = 2\n",
    "\n",
    "        elif (entry == 'Three'):\n",
    "\n",
    "            filtered_data['Number of Children'].values[idx] = 3\n",
    "\n",
    "        elif (entry == 'Four'):\n",
    "\n",
    "            filtered_data['Number of Children'].values[idx] = 4\n",
    "\n",
    "        elif (entry == 'Five'):\n",
    "\n",
    "            filtered_data['Number of Children'].values[idx] = 5\n",
    "\n",
    "        elif (entry == 'Six'):\n",
    "\n",
    "            filtered_data['Number of Children'].values[idx] = 6"
   ]
  },
  {
   "cell_type": "markdown",
   "metadata": {},
   "source": [
    "        4.2.2 - Converting Column to Iterger Type\n"
   ]
  },
  {
   "cell_type": "code",
   "execution_count": 46,
   "metadata": {},
   "outputs": [],
   "source": [
    "filtered_data['Number of Children'] = filtered_data['Number of Children'].astype(int)"
   ]
  },
  {
   "cell_type": "code",
   "execution_count": 47,
   "metadata": {},
   "outputs": [
    {
     "output_type": "stream",
     "name": "stdout",
     "text": "<class 'pandas.core.frame.DataFrame'>\nRangeIndex: 21344 entries, 0 to 21343\nData columns (total 46 columns):\n #   Column                              Non-Null Count  Dtype         \n---  ------                              --------------  -----         \n 0   Household Key                       21344 non-null  int64         \n 1   City                                21344 non-null  object        \n 2   Number of Children                  21344 non-null  int32         \n 3   Length Of Residence                 12010 non-null  float64       \n 4   Mail Responder                      12010 non-null  object        \n 5   Home Owner                          11629 non-null  object        \n 6   Income                              11943 non-null  object        \n 7   Date Of Birth                       10191 non-null  datetime64[ns]\n 8   Education                           12010 non-null  object        \n 9   Dwelling Type                       15891 non-null  object        \n 10  Credit Ranges                       12010 non-null  object        \n 11  Gender                              8783 non-null   object        \n 12  Active Expiration Date              21343 non-null  datetime64[ns]\n 13  Branch Name                         21343 non-null  object        \n 14  Cancel Reason                       8177 non-null   object        \n 15  Email Available                     21343 non-null  float64       \n 16  Email Status                        10921 non-null  object        \n 17  ERS ENT Count Year 1                16675 non-null  float64       \n 18  ERS ENT Count Year 2                16675 non-null  float64       \n 19  ERS ENT Count Year 3                16675 non-null  float64       \n 20  ERS Member Cost Year 1              16675 non-null  float64       \n 21  ERS Member Cost Year 2              16675 non-null  float64       \n 22  ERS Member Cost Year 3              16675 non-null  float64       \n 23  Join AAA Date                       21343 non-null  datetime64[ns]\n 24  Member Map Location                 21308 non-null  object        \n 25  Member Status                       21343 non-null  object        \n 26  Member Tenure Years                 21343 non-null  float64       \n 27  Member Type                         21343 non-null  object        \n 28  Months from Join to Cancel          8177 non-null   float64       \n 29  Opt-Out - Publication               21343 non-null  object        \n 30  Renew Method                        21343 non-null  object        \n 31  Occupation Group                    8782 non-null   object        \n 32  Breakdown Map Location              13742 non-null  object        \n 33  Breakdown City                      13997 non-null  object        \n 34  Basic Cost                          13944 non-null  float64       \n 35  Call Status Recv Date               13950 non-null  object        \n 36  Cash Call                           13997 non-null  object        \n 37  Fleet Indicator                     13853 non-null  object        \n 38  Motorcycle Indicator                13181 non-null  object        \n 39  Plus Cost                           13944 non-null  float64       \n 40  Premier Cost                        13911 non-null  float64       \n 41  Prob1 Code Description              13997 non-null  object        \n 42  SC Call Club Code Description       13997 non-null  object        \n 43  SC Vehicle Manufacturer Name        13985 non-null  object        \n 44  Total Cost                          13944 non-null  float64       \n 45  Total Number of Purchased Products  21344 non-null  int64         \ndtypes: datetime64[ns](3), float64(14), int32(1), int64(2), object(26)\nmemory usage: 7.4+ MB\n"
    }
   ],
   "source": [
    "filtered_data.info()"
   ]
  },
  {
   "cell_type": "markdown",
   "metadata": {},
   "source": [
    "    4.3 - Length of Residence"
   ]
  },
  {
   "cell_type": "markdown",
   "metadata": {},
   "source": [
    "    The main approach we are going to apply here is to get the mean value of the household key and apply it on the same number. After that, if it still exists any null value on the given column, we will use the mean or the mode of the column City to fill it."
   ]
  },
  {
   "cell_type": "markdown",
   "metadata": {},
   "source": [
    "        4.3.1 - Replace random default value apllied by Pandas on Null values for the Length Of Residence column. For some reason it was choosen a smaller number as possible for a float64 number"
   ]
  },
  {
   "cell_type": "code",
   "execution_count": 48,
   "metadata": {},
   "outputs": [
    {
     "output_type": "execute_result",
     "data": {
      "text/plain": "array([ nan, 150., 130.,  50., 110.,  70.,  30., 100.,   0.,  80., 140.,\n        60., 120.,  20., 230.,  10.,  40.,  90., 390., 340., 190., 380.,\n       180., 250., 220., 470., 200., 440., 210., 170., 330., 160., 310.,\n       460., 320., 260., 280., 290., 270., 240., 360., 350., 490., 430.,\n       450.])"
     },
     "metadata": {},
     "execution_count": 48
    }
   ],
   "source": [
    "filtered_data['Length Of Residence'].unique()  # as we can see, by some reason, the number -9.223372e+18 was choosen to be a flag of a Null value for this column, we need to replace it by 0 or np.nan"
   ]
  },
  {
   "cell_type": "code",
   "execution_count": 49,
   "metadata": {},
   "outputs": [],
   "source": [
    "filtered_data['Length Of Residence'] = filtered_data['Length Of Residence'].replace(filtered_data['Length Of Residence'].unique()[0], np.nan) # replacing random numerical Null values chose by Pandas for numpy NaN "
   ]
  },
  {
   "cell_type": "code",
   "execution_count": 50,
   "metadata": {},
   "outputs": [
    {
     "output_type": "execute_result",
     "data": {
      "text/plain": "array([ nan, 150., 130.,  50., 110.,  70.,  30., 100.,   0.,  80., 140.,\n        60., 120.,  20., 230.,  10.,  40.,  90., 390., 340., 190., 380.,\n       180., 250., 220., 470., 200., 440., 210., 170., 330., 160., 310.,\n       460., 320., 260., 280., 290., 270., 240., 360., 350., 490., 430.,\n       450.])"
     },
     "metadata": {},
     "execution_count": 50
    }
   ],
   "source": [
    "filtered_data['Length Of Residence'].unique() # now we have out correct output for Null values for the Length Of Residence column"
   ]
  },
  {
   "cell_type": "markdown",
   "metadata": {},
   "source": [
    "        4.3.2 - Checking if there are Household Keys with at least one value for the Length Of Residence column and apply it to the rest of them"
   ]
  },
  {
   "cell_type": "code",
   "execution_count": 51,
   "metadata": {},
   "outputs": [],
   "source": [
    "filtered_data.groupby('Household Key')['Length Of Residence'].unique(); # As we can see, for the same Household Key level we have different values of Length Of Residence. This happens because our main sheet data was sorted on a Individual Key level, that is not our interest here. # OBS: REMOVE THE ';' AT THE END OF THE COMMAND TO PRINT THE OUTPUT! BE ADVISED, THE OUTPUT IS EXTENSE!"
   ]
  },
  {
   "cell_type": "code",
   "execution_count": 53,
   "metadata": {},
   "outputs": [
    {
     "output_type": "display_data",
     "data": {
      "text/plain": "HBox(children=(FloatProgress(value=0.0, description='Process Progress', max=5241.0, style=ProgressStyle(descri…",
      "application/vnd.jupyter.widget-view+json": {
       "version_major": 2,
       "version_minor": 0,
       "model_id": "d45847438c484c1999460d68d6f49c25"
      }
     },
     "metadata": {}
    },
    {
     "output_type": "stream",
     "name": "stdout",
     "text": "\n"
    }
   ],
   "source": [
    "for house_id in tqdm_notebook(filtered_data.groupby('Household Key')['Length Of Residence'].unique().keys(), desc='Process Progress'): # for every single unique Household Key value\n",
    "\n",
    "    if len(filtered_data.groupby('Household Key')['Length Of Residence'].unique()[house_id]) == 1: # if there is only one associated value for Length Of Residence, independet of the value, we can infer nothing for now, so, we pass\n",
    "        pass\n",
    "    \n",
    "    else:\n",
    "\n",
    "        tmp = filtered_data.loc[filtered_data['Household Key'] == house_id]['Length Of Residence'].values # storing array on a temporary file\n",
    "\n",
    "        if np.isnan(tmp).any(): # check if the associated values for the Length Of Residence for a given Household Key has at least one Null value\n",
    "\n",
    "            nan_positions = np.where(np.isnan(tmp))[0].tolist() # grabing the positions where the Null values exist\n",
    "\n",
    "            if len(nan_positions) == len(tmp): # checking if all the values for the given Household Key are Null (in this case we will treat it in another way, so, we pass)\n",
    "                pass\n",
    "\n",
    "            else:\n",
    "\n",
    "                replacement_value =  tmp[~np.isnan(tmp)].mean() # calculating the mean of all non Null values\n",
    "\n",
    "                tmp[np.isnan(tmp)] = replacement_value # index of Null values on the array\n",
    "\n",
    "                idxs = filtered_data.loc[filtered_data['Household Key'] == house_id, 'Length Of Residence'].index[nan_positions] # index of Null values on the dataframe\n",
    "\n",
    "                for i in idxs: # for each dataframe index\n",
    "                \n",
    "                    filtered_data.at[i, 'Length Of Residence'] = replacement_value # replace de Null value by the Household Key mean"
   ]
  },
  {
   "cell_type": "markdown",
   "metadata": {},
   "source": [
    "        4.3.3 - Now we focus on predicting the rest of the Null values, but this time through groups of cities"
   ]
  },
  {
   "cell_type": "code",
   "execution_count": 58,
   "metadata": {},
   "outputs": [],
   "source": [
    "filtered_data.groupby('City')['Length Of Residence'].unique(); # As we can see, for the same City we have different values of Length Of Residence. We want to take advantage of this bigger scale to replace more Null values # OBS: REMOVE THE ';' AT THE END OF THE COMMAND TO PRINT THE OUTPUT! BE ADVISED, THE OUTPUT IS EXTENSE!"
   ]
  },
  {
   "cell_type": "code",
   "execution_count": 59,
   "metadata": {},
   "outputs": [
    {
     "output_type": "display_data",
     "data": {
      "text/plain": "HBox(children=(FloatProgress(value=0.0, description='Process Progress', max=167.0, style=ProgressStyle(descrip…",
      "application/vnd.jupyter.widget-view+json": {
       "version_major": 2,
       "version_minor": 0,
       "model_id": "82751998cc85459cb24516aab514209a"
      }
     },
     "metadata": {}
    },
    {
     "output_type": "stream",
     "name": "stdout",
     "text": "\n"
    }
   ],
   "source": [
    "for city in tqdm_notebook(filtered_data.groupby('City')['Length Of Residence'].unique().keys(), desc='Process Progress'): # for every single unique Household Key value\n",
    "\n",
    "    if len(filtered_data.groupby('City')['Length Of Residence'].unique()[city]) == 1: # if there is only one associated value for Length Of Residence, we can infer nothing for now. So, we pass and let this for the state mean \n",
    "        pass\n",
    "    \n",
    "    else:\n",
    "\n",
    "        tmp = filtered_data.loc[filtered_data['City'] == city]['Length Of Residence'].values # storing array on a temporary file\n",
    "\n",
    "        if np.isnan(tmp).any(): # check if the associated values for the Length Of Residence for a given City has at least one Null value\n",
    "\n",
    "            nan_positions = np.where(np.isnan(tmp))[0].tolist() # grabing the positions where the Null values exist\n",
    "\n",
    "            if len(nan_positions) == len(tmp): # checking if all the values for the given City are Null (in this case we will treat it in another way, so, we pass)\n",
    "                pass\n",
    "\n",
    "            else:\n",
    "\n",
    "                replacement_value =  tmp[~np.isnan(tmp)].mean() # calculating the mean of all non Null values\n",
    "\n",
    "                tmp[np.isnan(tmp)] = replacement_value # index of Null values on the array\n",
    "\n",
    "                idxs = filtered_data.loc[filtered_data['City'] == city, 'Length Of Residence'].index[nan_positions] # index of Null values on the dataframe\n",
    "\n",
    "                for i in idxs: # for each dataframe index\n",
    "                \n",
    "                    filtered_data.at[i, 'Length Of Residence'] = replacement_value # replace de Null value by the City mean"
   ]
  },
  {
   "cell_type": "markdown",
   "metadata": {},
   "source": [
    "            4.3.4 - Now we focus on predicting the rest of the Null values on the biggest and final scale as possible, the states."
   ]
  },
  {
   "cell_type": "markdown",
   "metadata": {},
   "source": [
    "            Note: You may noticed that we have excluded the State - Gouped column, but, since we havent eliminated any row yet we can still use the previous indexes of this unusable column "
   ]
  },
  {
   "cell_type": "code",
   "execution_count": 79,
   "metadata": {},
   "outputs": [],
   "source": [
    "ct_idxs = df_original.index[df_original['State - Grouped'] == 'CT'].tolist() # grab index of all rows that belong to the CT state\n",
    "ri_idxs = df_original.index[df_original['State - Grouped'] == 'RI'].tolist() # grab index of all rows that belong to the RI state"
   ]
  },
  {
   "cell_type": "code",
   "execution_count": 82,
   "metadata": {},
   "outputs": [
    {
     "output_type": "stream",
     "name": "stdout",
     "text": "CT mean value considering all Null values so far filled:  73.08636311810243 \n RI mean value considering all Null values so far filled:  112.58786399700816\n"
    }
   ],
   "source": [
    "ct_mean = filtered_data['Length Of Residence'][ct_idxs].mean()\n",
    "ri_mean = filtered_data['Length Of Residence'][ri_idxs].mean()\n",
    "print('CT mean value considering all Null values so far filled: ', ct_mean, '\\n', 'RI mean value considering all Null values so far filled: ', ri_mean)"
   ]
  },
  {
   "cell_type": "code",
   "execution_count": 84,
   "metadata": {},
   "outputs": [
    {
     "output_type": "display_data",
     "data": {
      "text/plain": "HBox(children=(FloatProgress(value=0.0, description='Process Progress', max=21344.0, style=ProgressStyle(descr…",
      "application/vnd.jupyter.widget-view+json": {
       "version_major": 2,
       "version_minor": 0,
       "model_id": "4370ad46ffab4e53840f12bcc3d8257d"
      }
     },
     "metadata": {}
    },
    {
     "output_type": "stream",
     "name": "stdout",
     "text": "\n"
    }
   ],
   "source": [
    "for idx in tqdm_notebook(filtered_data.index, desc='Process Progress'): # for every single unique Household Key value\n",
    "\n",
    "    if filtered_data['Length Of Residence'].isnull()[idx]: # if for the given index of the Length Of Residence column the value is Null\n",
    "        if idx in ct_idxs: # check if this index belongs to the CT state\n",
    "\n",
    "            filtered_data.at[idx, 'Length Of Residence'] = ct_mean # replace the Null value by the CT state mean\n",
    "\n",
    "        else:\n",
    "\n",
    "            filtered_data.at[idx, 'Length Of Residence'] = ri_mean # replace the Null value by the RI state mean"
   ]
  },
  {
   "cell_type": "code",
   "execution_count": 85,
   "metadata": {},
   "outputs": [
    {
     "output_type": "execute_result",
     "data": {
      "text/plain": "False"
     },
     "metadata": {},
     "execution_count": 85
    }
   ],
   "source": [
    "filtered_data['Length Of Residence'].isnull().values.any() # check if Length Of Residence column still has any Null value left"
   ]
  },
  {
   "cell_type": "code",
   "execution_count": null,
   "metadata": {},
   "outputs": [],
   "source": []
  },
  {
   "cell_type": "code",
   "execution_count": null,
   "metadata": {},
   "outputs": [],
   "source": []
  },
  {
   "cell_type": "code",
   "execution_count": null,
   "metadata": {},
   "outputs": [],
   "source": []
  },
  {
   "cell_type": "code",
   "execution_count": null,
   "metadata": {},
   "outputs": [],
   "source": []
  },
  {
   "cell_type": "code",
   "execution_count": null,
   "metadata": {},
   "outputs": [],
   "source": []
  },
  {
   "cell_type": "code",
   "execution_count": null,
   "metadata": {},
   "outputs": [],
   "source": []
  },
  {
   "cell_type": "code",
   "execution_count": null,
   "metadata": {},
   "outputs": [],
   "source": []
  },
  {
   "cell_type": "code",
   "execution_count": null,
   "metadata": {},
   "outputs": [],
   "source": []
  },
  {
   "cell_type": "code",
   "execution_count": null,
   "metadata": {},
   "outputs": [],
   "source": []
  },
  {
   "cell_type": "code",
   "execution_count": null,
   "metadata": {},
   "outputs": [],
   "source": []
  },
  {
   "cell_type": "code",
   "execution_count": null,
   "metadata": {},
   "outputs": [],
   "source": []
  },
  {
   "cell_type": "code",
   "execution_count": null,
   "metadata": {},
   "outputs": [],
   "source": []
  },
  {
   "cell_type": "markdown",
   "metadata": {},
   "source": [
    "        We still need to keep an eye on the variables that only have 2 unique values, but it will be more a subjective evaluation "
   ]
  },
  {
   "cell_type": "markdown",
   "metadata": {},
   "source": [
    "* Check correlation Matrix"
   ]
  },
  {
   "cell_type": "markdown",
   "metadata": {},
   "source": [
    "#correlation matrix\n",
    "corrmat = remove_null_data.corr()\n",
    "f, ax = plt.subplots(figsize=(15, 10))\n",
    "sns.heatmap(corrmat, square=True); # considering 70% o correlation as minimum to show"
   ]
  },
  {
   "cell_type": "markdown",
   "metadata": {},
   "source": [
    "* Observations"
   ]
  },
  {
   "cell_type": "markdown",
   "metadata": {},
   "source": [
    "  1- There is an \"island\" between Rec ID and Tow destination Longitude this will be evaluate latter, but looks promissing\n",
    "  2- Basic Cost has a high correlation with the variables within this \"island\" \n",
    "  3- Individual Key and Right_Individual Key are pratically the same variable\n",
    "  4- ZIP5 and ZIP9 are pratically the same variable\n",
    "  5- Months from join to Cancel has no correlation at so ever with the Premier Cost variable\n",
    "  "
   ]
  },
  {
   "cell_type": "markdown",
   "metadata": {},
   "source": [
    "    By the correlation matrix of the entire dataset (minus the columns with more than 70% of null values), we can see that there are still some columns with no correlation, or total correlation with all the variables, and some trouble columns. Therefore, the best thing to do is to drop them."
   ]
  },
  {
   "cell_type": "markdown",
   "metadata": {},
   "source": [
    "trouble_columns= ['Is Duplicate', 'Member Match Flag']\n",
    "\n",
    "columns_will_not_use = ['Individual Key', 'Member Flag', 'Right_Individual Key']"
   ]
  }
 ],
 "metadata": {
  "language_info": {
   "codemirror_mode": {
    "name": "ipython",
    "version": 3
   },
   "file_extension": ".py",
   "mimetype": "text/x-python",
   "name": "python",
   "nbconvert_exporter": "python",
   "pygments_lexer": "ipython3",
   "version": "3.7.6-final"
  },
  "orig_nbformat": 2,
  "kernelspec": {
   "name": "python37664bitcapstoneprojectcondad07c177c475741d8a46606514fa38a7a",
   "display_name": "Python 3.7.6 64-bit ('capstone_project': conda)"
  }
 },
 "nbformat": 4,
 "nbformat_minor": 2
}