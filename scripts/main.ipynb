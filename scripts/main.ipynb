{
 "cells": [
  {
   "cell_type": "markdown",
   "metadata": {},
   "source": [
    "# Loading Packages"
   ]
  },
  {
   "cell_type": "code",
   "execution_count": 1,
   "metadata": {},
   "outputs": [],
   "source": [
    "import numpy as np\n",
    "import pandas as pd\n",
    "import matplotlib.pyplot as plt\n",
    "import seaborn as sns\n",
    "from collections import Counter"
   ]
  },
  {
   "cell_type": "markdown",
   "metadata": {},
   "source": [
    "## Progress Bar"
   ]
  },
  {
   "cell_type": "code",
   "execution_count": 2,
   "metadata": {},
   "outputs": [],
   "source": [
    "%%capture\n",
    "from tqdm import tqdm_notebook\n",
    "tqdm_notebook().pandas()"
   ]
  },
  {
   "cell_type": "markdown",
   "metadata": {},
   "source": [
    "## Pandas Options"
   ]
  },
  {
   "cell_type": "code",
   "execution_count": 3,
   "metadata": {},
   "outputs": [],
   "source": [
    "pd.set_option('max_columns', None)\n",
    "pd.set_option('display.max_rows', None)"
   ]
  },
  {
   "cell_type": "markdown",
   "metadata": {},
   "source": [
    "# Loading Files"
   ]
  },
  {
   "cell_type": "markdown",
   "metadata": {},
   "source": [
    "## 1 - Read Default Data"
   ]
  },
  {
   "cell_type": "code",
   "execution_count": 4,
   "metadata": {},
   "outputs": [],
   "source": [
    "path = 'D:\\\\Desktop\\\\MLPGD_Capstone_Project\\\\resources\\\\aaa_sample_data.xlsx'\n",
    "\n",
    "df_original = pd.read_excel(path)"
   ]
  },
  {
   "cell_type": "markdown",
   "metadata": {},
   "source": [
    "* Data Glance"
   ]
  },
  {
   "cell_type": "code",
   "execution_count": 5,
   "metadata": {},
   "outputs": [
    {
     "output_type": "execute_result",
     "data": {
      "text/plain": "   Column1  Individual Key  Household Key Member Flag          City  \\\n0        0       100000030      104625900           Y     NEW HAVEN   \n1        1       522115500       45007910           Y  WEST WARWICK   \n\n  State - Grouped   ZIP5       ZIP9 FSV CMSI Flag FSV Credit Card Flag  \\\n0              CT  65110  651113490             N                    N   \n1              RI  28930  289338500             N                    Y   \n\n  FSV Deposit Program Flag FSV Home Equity Flag FSV ID Theft Flag  \\\n0                        N                    N                 N   \n1                        N                    N                 N   \n\n  FSV Mortgage Flag INS Client Flag TRV Globalware Flag Number of Children  \\\n0                 N               N                   N                NaN   \n1                 N               N                   N          One Child   \n\n  Responded to Catalog                         Race  Length Of Residence  \\\n0                  NaN                          NaN                  NaN   \n1                  NaN  Caucasion / White - English                150.0   \n\n  Mail Responder  Home Owner     Income Date Of Birth Children     Education  \\\n0            NaN         NaN        NaN           NaT      NaN           NaN   \n1            Yes  Home Owner  30-39,999    1922-02-05      Yes  Some College   \n\n                              Dwelling Type Credit Ranges Language Gender  \\\n0  Small or large multi-family w/apt number           NaN      NaN   Male   \n1  Small or large multi-family w/apt number       600-649  English    NaN   \n\n  Active Expiration Date Address Change Date Bad Address Flag  \\\n0                    NaT                 NaT              NaN   \n1             2020-09-01 2005-01-28 12:41:09                F   \n\n  Billing Code Description Birth Date MMDDYYYY          Branch Name  \\\n0                      NaN                 NaT                  NaN   \n1               New Member          1922-02-05  RI - WARWICK BRANCH   \n\n  Cancel Date Cancel Reason County  Do Not Direct Mail Solicit  \\\n0         NaT           NaN    NaN                         NaN   \n1         NaT           NaN   KENT                         0.0   \n\n   Email Available Email Status  ERS ENT Count Year 1  ERS ENT Count Year 2  \\\n0              NaN          NaN                   NaN                   NaN   \n1              0.0          NaN                   0.0                   0.0   \n\n   ERS ENT Count Year 3  ERS Member Cost Year 1  ERS Member Cost Year 2  \\\n0                   NaN                     NaN                     NaN   \n1                  20.0                     0.0                     0.0   \n\n   ERS Member Cost Year 3 Right_Gender  Right_Individual Key Join AAA Date  \\\n0                     NaN          NaN                   NaN           NaT   \n1                   650.0          NaN           522115500.0    1970-09-01   \n\n  Join Club Date  Member Key Member Map Location  Member Number Associate ID  \\\n0            NaT         NaN                 NaN                         NaN   \n1     1970-09-01  15000140.0   {41.696,-71.5308}                    153000.0   \n\n  Member Phone Type Member Status  Member Tenure Years Member Type  \\\n0               NaN           NaN                  NaN         NaN   \n1              VoIP        ACTIVE                490.0     Primary   \n\n   Membership ID  Months from Join to Cancel Opt-Out - Publication  \\\n0            NaN                         NaN                   NaN   \n1         1530.0                         NaN                Opt-In   \n\n  Reason Joined Reinstate Date Renew Method      ZIP  Mosaic Household  \\\n0           NaN            NaT          NaN      NaN               NaN   \n1           NaN     2019-08-23   AUTO RENEW  28930.0  Senior Discounts   \n\n  Mosaic Global Household kcl_B_IND_MosaicsGrouping New Mover Flag  \\\n0                     NaN                       NaN            NaN   \n1       Low Income Elders     Golden Year Guardians              N   \n\n  Occupation Code Occupation Group Right_Dwelling Type Move Distance  \\\n0             NaN              NaN                 NaN           NaN   \n1             NaN              NaN                 NaN           NaN   \n\n  Occupant Type Breakdown Map Location Breakdown City Breakdown State  \\\n0           NaN                    NaN            NaN             NaN   \n1           NaN               {41,-71}   West Warwick              RI   \n\n   Basic Cost  Calculated Tow Miles Call Canceled Call Killed  \\\n0         NaN                   NaN           NaN         NaN   \n1       325.0                   8.0             N           N   \n\n  Call Status Recv Date Cash Call Clearing Code Last Description  \\\n0                   NaN       NaN                            NaN   \n1   2017-04-13 10:05:17         Y               CASH CALL ONLY C   \n\n  Dispatch Code1 Description  Dispatch Code2Description  \\\n0                        NaN                        NaN   \n1            Engine Overheat                        NaN   \n\n  DTL Prob1 Code Description Fleet Indicator  Is Duplicate  Is NSR  \\\n0                        NaN             NaN           NaN     NaN   \n1            Engine Overheat               N           0.0     0.0   \n\n   Member Match Flag  Member Number and Associate ID Motorcycle Indicator  \\\n0                NaN                             NaN                  NaN   \n1               10.0                        153000.0                    N   \n\n   Plus Cost Plus Indicator Description  Premier Cost Prob1 Code Description  \\\n0        NaN                        NaN           NaN                    NaN   \n1        0.0           Basic Membership           0.0                    Tow   \n\n  Prob2 Code Description SC Call Club Code Description    SC Date      Rec ID  \\\n0                    NaN                           NaN        NaT         NaN   \n1                    NaN                 AAA Northeast 2017-04-13  97073200.0   \n\n  SC STS RSN Code Description SC Vehicle Manufacturer Name  \\\n0                         NaN                          NaN   \n1            CASH CALL ONLY C                       TOYOTA   \n\n  SC Vehicle Model Name      SVC Facility Name   SVC Facility Type  \\\n0                   NaN                    NaN                 NaN   \n1                 CAMRY  ASTRO WRECKER SERVICE  independent repair   \n\n   Total Cost  Tow Destination Latitude  Tow Destination Longitude  \\\n0         NaN                       NaN                        NaN   \n1       325.0                     410.0                     -710.0   \n\n           Tow Destination Name  Was Duplicated  Was Towed To AAR Referral  \n0                           NaN             NaN                        NaN  \n1  Aar / Johnson's Auto Service             0.0                       10.0  ",
      "text/html": "<div>\n<style scoped>\n    .dataframe tbody tr th:only-of-type {\n        vertical-align: middle;\n    }\n\n    .dataframe tbody tr th {\n        vertical-align: top;\n    }\n\n    .dataframe thead th {\n        text-align: right;\n    }\n</style>\n<table border=\"1\" class=\"dataframe\">\n  <thead>\n    <tr style=\"text-align: right;\">\n      <th></th>\n      <th>Column1</th>\n      <th>Individual Key</th>\n      <th>Household Key</th>\n      <th>Member Flag</th>\n      <th>City</th>\n      <th>State - Grouped</th>\n      <th>ZIP5</th>\n      <th>ZIP9</th>\n      <th>FSV CMSI Flag</th>\n      <th>FSV Credit Card Flag</th>\n      <th>FSV Deposit Program Flag</th>\n      <th>FSV Home Equity Flag</th>\n      <th>FSV ID Theft Flag</th>\n      <th>FSV Mortgage Flag</th>\n      <th>INS Client Flag</th>\n      <th>TRV Globalware Flag</th>\n      <th>Number of Children</th>\n      <th>Responded to Catalog</th>\n      <th>Race</th>\n      <th>Length Of Residence</th>\n      <th>Mail Responder</th>\n      <th>Home Owner</th>\n      <th>Income</th>\n      <th>Date Of Birth</th>\n      <th>Children</th>\n      <th>Education</th>\n      <th>Dwelling Type</th>\n      <th>Credit Ranges</th>\n      <th>Language</th>\n      <th>Gender</th>\n      <th>Active Expiration Date</th>\n      <th>Address Change Date</th>\n      <th>Bad Address Flag</th>\n      <th>Billing Code Description</th>\n      <th>Birth Date MMDDYYYY</th>\n      <th>Branch Name</th>\n      <th>Cancel Date</th>\n      <th>Cancel Reason</th>\n      <th>County</th>\n      <th>Do Not Direct Mail Solicit</th>\n      <th>Email Available</th>\n      <th>Email Status</th>\n      <th>ERS ENT Count Year 1</th>\n      <th>ERS ENT Count Year 2</th>\n      <th>ERS ENT Count Year 3</th>\n      <th>ERS Member Cost Year 1</th>\n      <th>ERS Member Cost Year 2</th>\n      <th>ERS Member Cost Year 3</th>\n      <th>Right_Gender</th>\n      <th>Right_Individual Key</th>\n      <th>Join AAA Date</th>\n      <th>Join Club Date</th>\n      <th>Member Key</th>\n      <th>Member Map Location</th>\n      <th>Member Number Associate ID</th>\n      <th>Member Phone Type</th>\n      <th>Member Status</th>\n      <th>Member Tenure Years</th>\n      <th>Member Type</th>\n      <th>Membership ID</th>\n      <th>Months from Join to Cancel</th>\n      <th>Opt-Out - Publication</th>\n      <th>Reason Joined</th>\n      <th>Reinstate Date</th>\n      <th>Renew Method</th>\n      <th>ZIP</th>\n      <th>Mosaic Household</th>\n      <th>Mosaic Global Household</th>\n      <th>kcl_B_IND_MosaicsGrouping</th>\n      <th>New Mover Flag</th>\n      <th>Occupation Code</th>\n      <th>Occupation Group</th>\n      <th>Right_Dwelling Type</th>\n      <th>Move Distance</th>\n      <th>Occupant Type</th>\n      <th>Breakdown Map Location</th>\n      <th>Breakdown City</th>\n      <th>Breakdown State</th>\n      <th>Basic Cost</th>\n      <th>Calculated Tow Miles</th>\n      <th>Call Canceled</th>\n      <th>Call Killed</th>\n      <th>Call Status Recv Date</th>\n      <th>Cash Call</th>\n      <th>Clearing Code Last Description</th>\n      <th>Dispatch Code1 Description</th>\n      <th>Dispatch Code2Description</th>\n      <th>DTL Prob1 Code Description</th>\n      <th>Fleet Indicator</th>\n      <th>Is Duplicate</th>\n      <th>Is NSR</th>\n      <th>Member Match Flag</th>\n      <th>Member Number and Associate ID</th>\n      <th>Motorcycle Indicator</th>\n      <th>Plus Cost</th>\n      <th>Plus Indicator Description</th>\n      <th>Premier Cost</th>\n      <th>Prob1 Code Description</th>\n      <th>Prob2 Code Description</th>\n      <th>SC Call Club Code Description</th>\n      <th>SC Date</th>\n      <th>Rec ID</th>\n      <th>SC STS RSN Code Description</th>\n      <th>SC Vehicle Manufacturer Name</th>\n      <th>SC Vehicle Model Name</th>\n      <th>SVC Facility Name</th>\n      <th>SVC Facility Type</th>\n      <th>Total Cost</th>\n      <th>Tow Destination Latitude</th>\n      <th>Tow Destination Longitude</th>\n      <th>Tow Destination Name</th>\n      <th>Was Duplicated</th>\n      <th>Was Towed To AAR Referral</th>\n    </tr>\n  </thead>\n  <tbody>\n    <tr>\n      <th>0</th>\n      <td>0</td>\n      <td>100000030</td>\n      <td>104625900</td>\n      <td>Y</td>\n      <td>NEW HAVEN</td>\n      <td>CT</td>\n      <td>65110</td>\n      <td>651113490</td>\n      <td>N</td>\n      <td>N</td>\n      <td>N</td>\n      <td>N</td>\n      <td>N</td>\n      <td>N</td>\n      <td>N</td>\n      <td>N</td>\n      <td>NaN</td>\n      <td>NaN</td>\n      <td>NaN</td>\n      <td>NaN</td>\n      <td>NaN</td>\n      <td>NaN</td>\n      <td>NaN</td>\n      <td>NaT</td>\n      <td>NaN</td>\n      <td>NaN</td>\n      <td>Small or large multi-family w/apt number</td>\n      <td>NaN</td>\n      <td>NaN</td>\n      <td>Male</td>\n      <td>NaT</td>\n      <td>NaT</td>\n      <td>NaN</td>\n      <td>NaN</td>\n      <td>NaT</td>\n      <td>NaN</td>\n      <td>NaT</td>\n      <td>NaN</td>\n      <td>NaN</td>\n      <td>NaN</td>\n      <td>NaN</td>\n      <td>NaN</td>\n      <td>NaN</td>\n      <td>NaN</td>\n      <td>NaN</td>\n      <td>NaN</td>\n      <td>NaN</td>\n      <td>NaN</td>\n      <td>NaN</td>\n      <td>NaN</td>\n      <td>NaT</td>\n      <td>NaT</td>\n      <td>NaN</td>\n      <td>NaN</td>\n      <td>NaN</td>\n      <td>NaN</td>\n      <td>NaN</td>\n      <td>NaN</td>\n      <td>NaN</td>\n      <td>NaN</td>\n      <td>NaN</td>\n      <td>NaN</td>\n      <td>NaN</td>\n      <td>NaT</td>\n      <td>NaN</td>\n      <td>NaN</td>\n      <td>NaN</td>\n      <td>NaN</td>\n      <td>NaN</td>\n      <td>NaN</td>\n      <td>NaN</td>\n      <td>NaN</td>\n      <td>NaN</td>\n      <td>NaN</td>\n      <td>NaN</td>\n      <td>NaN</td>\n      <td>NaN</td>\n      <td>NaN</td>\n      <td>NaN</td>\n      <td>NaN</td>\n      <td>NaN</td>\n      <td>NaN</td>\n      <td>NaN</td>\n      <td>NaN</td>\n      <td>NaN</td>\n      <td>NaN</td>\n      <td>NaN</td>\n      <td>NaN</td>\n      <td>NaN</td>\n      <td>NaN</td>\n      <td>NaN</td>\n      <td>NaN</td>\n      <td>NaN</td>\n      <td>NaN</td>\n      <td>NaN</td>\n      <td>NaN</td>\n      <td>NaN</td>\n      <td>NaN</td>\n      <td>NaN</td>\n      <td>NaN</td>\n      <td>NaT</td>\n      <td>NaN</td>\n      <td>NaN</td>\n      <td>NaN</td>\n      <td>NaN</td>\n      <td>NaN</td>\n      <td>NaN</td>\n      <td>NaN</td>\n      <td>NaN</td>\n      <td>NaN</td>\n      <td>NaN</td>\n      <td>NaN</td>\n      <td>NaN</td>\n    </tr>\n    <tr>\n      <th>1</th>\n      <td>1</td>\n      <td>522115500</td>\n      <td>45007910</td>\n      <td>Y</td>\n      <td>WEST WARWICK</td>\n      <td>RI</td>\n      <td>28930</td>\n      <td>289338500</td>\n      <td>N</td>\n      <td>Y</td>\n      <td>N</td>\n      <td>N</td>\n      <td>N</td>\n      <td>N</td>\n      <td>N</td>\n      <td>N</td>\n      <td>One Child</td>\n      <td>NaN</td>\n      <td>Caucasion / White - English</td>\n      <td>150.0</td>\n      <td>Yes</td>\n      <td>Home Owner</td>\n      <td>30-39,999</td>\n      <td>1922-02-05</td>\n      <td>Yes</td>\n      <td>Some College</td>\n      <td>Small or large multi-family w/apt number</td>\n      <td>600-649</td>\n      <td>English</td>\n      <td>NaN</td>\n      <td>2020-09-01</td>\n      <td>2005-01-28 12:41:09</td>\n      <td>F</td>\n      <td>New Member</td>\n      <td>1922-02-05</td>\n      <td>RI - WARWICK BRANCH</td>\n      <td>NaT</td>\n      <td>NaN</td>\n      <td>KENT</td>\n      <td>0.0</td>\n      <td>0.0</td>\n      <td>NaN</td>\n      <td>0.0</td>\n      <td>0.0</td>\n      <td>20.0</td>\n      <td>0.0</td>\n      <td>0.0</td>\n      <td>650.0</td>\n      <td>NaN</td>\n      <td>522115500.0</td>\n      <td>1970-09-01</td>\n      <td>1970-09-01</td>\n      <td>15000140.0</td>\n      <td>{41.696,-71.5308}</td>\n      <td>153000.0</td>\n      <td>VoIP</td>\n      <td>ACTIVE</td>\n      <td>490.0</td>\n      <td>Primary</td>\n      <td>1530.0</td>\n      <td>NaN</td>\n      <td>Opt-In</td>\n      <td>NaN</td>\n      <td>2019-08-23</td>\n      <td>AUTO RENEW</td>\n      <td>28930.0</td>\n      <td>Senior Discounts</td>\n      <td>Low Income Elders</td>\n      <td>Golden Year Guardians</td>\n      <td>N</td>\n      <td>NaN</td>\n      <td>NaN</td>\n      <td>NaN</td>\n      <td>NaN</td>\n      <td>NaN</td>\n      <td>{41,-71}</td>\n      <td>West Warwick</td>\n      <td>RI</td>\n      <td>325.0</td>\n      <td>8.0</td>\n      <td>N</td>\n      <td>N</td>\n      <td>2017-04-13 10:05:17</td>\n      <td>Y</td>\n      <td>CASH CALL ONLY C</td>\n      <td>Engine Overheat</td>\n      <td>NaN</td>\n      <td>Engine Overheat</td>\n      <td>N</td>\n      <td>0.0</td>\n      <td>0.0</td>\n      <td>10.0</td>\n      <td>153000.0</td>\n      <td>N</td>\n      <td>0.0</td>\n      <td>Basic Membership</td>\n      <td>0.0</td>\n      <td>Tow</td>\n      <td>NaN</td>\n      <td>AAA Northeast</td>\n      <td>2017-04-13</td>\n      <td>97073200.0</td>\n      <td>CASH CALL ONLY C</td>\n      <td>TOYOTA</td>\n      <td>CAMRY</td>\n      <td>ASTRO WRECKER SERVICE</td>\n      <td>independent repair</td>\n      <td>325.0</td>\n      <td>410.0</td>\n      <td>-710.0</td>\n      <td>Aar / Johnson's Auto Service</td>\n      <td>0.0</td>\n      <td>10.0</td>\n    </tr>\n  </tbody>\n</table>\n</div>"
     },
     "metadata": {},
     "execution_count": 5
    }
   ],
   "source": [
    "df_original.head(n=2)"
   ]
  },
  {
   "cell_type": "markdown",
   "metadata": {},
   "source": [
    "* General Info"
   ]
  },
  {
   "cell_type": "code",
   "execution_count": 6,
   "metadata": {},
   "outputs": [
    {
     "output_type": "stream",
     "name": "stdout",
     "text": "<class 'pandas.core.frame.DataFrame'>\nRangeIndex: 21344 entries, 0 to 21343\nColumns: 113 entries, Column1 to Was Towed To AAR Referral\ndtypes: datetime64[ns](9), float64(31), int64(5), object(68)\nmemory usage: 18.4+ MB\n"
    }
   ],
   "source": [
    "df_original.info()"
   ]
  },
  {
   "cell_type": "code",
   "execution_count": 7,
   "metadata": {},
   "outputs": [
    {
     "output_type": "execute_result",
     "data": {
      "text/plain": "Column1                                    int64\nIndividual Key                             int64\nHousehold Key                              int64\nMember Flag                               object\nCity                                      object\nState - Grouped                           object\nZIP5                                       int64\nZIP9                                       int64\nFSV CMSI Flag                             object\nFSV Credit Card Flag                      object\nFSV Deposit Program Flag                  object\nFSV Home Equity Flag                      object\nFSV ID Theft Flag                         object\nFSV Mortgage Flag                         object\nINS Client Flag                           object\nTRV Globalware Flag                       object\nNumber of Children                        object\nResponded to Catalog                      object\nRace                                      object\nLength Of Residence                      float64\nMail Responder                            object\nHome Owner                                object\nIncome                                    object\nDate Of Birth                     datetime64[ns]\nChildren                                  object\nEducation                                 object\nDwelling Type                             object\nCredit Ranges                             object\nLanguage                                  object\nGender                                    object\nActive Expiration Date            datetime64[ns]\nAddress Change Date               datetime64[ns]\nBad Address Flag                          object\nBilling Code Description                  object\nBirth Date MMDDYYYY               datetime64[ns]\nBranch Name                               object\nCancel Date                       datetime64[ns]\nCancel Reason                             object\nCounty                                    object\nDo Not Direct Mail Solicit               float64\nEmail Available                          float64\nEmail Status                              object\nERS ENT Count Year 1                     float64\nERS ENT Count Year 2                     float64\nERS ENT Count Year 3                     float64\nERS Member Cost Year 1                   float64\nERS Member Cost Year 2                   float64\nERS Member Cost Year 3                   float64\nRight_Gender                              object\nRight_Individual Key                     float64\nJoin AAA Date                     datetime64[ns]\nJoin Club Date                    datetime64[ns]\nMember Key                               float64\nMember Map Location                       object\nMember Number Associate ID               float64\nMember Phone Type                         object\nMember Status                             object\nMember Tenure Years                      float64\nMember Type                               object\nMembership ID                            float64\nMonths from Join to Cancel               float64\nOpt-Out - Publication                     object\nReason Joined                             object\nReinstate Date                    datetime64[ns]\nRenew Method                              object\nZIP                                      float64\nMosaic Household                          object\nMosaic Global Household                   object\nkcl_B_IND_MosaicsGrouping                 object\nNew Mover Flag                            object\nOccupation Code                           object\nOccupation Group                          object\nRight_Dwelling Type                       object\nMove Distance                             object\nOccupant Type                             object\nBreakdown Map Location                    object\nBreakdown City                            object\nBreakdown State                           object\nBasic Cost                               float64\nCalculated Tow Miles                     float64\nCall Canceled                             object\nCall Killed                               object\nCall Status Recv Date                     object\nCash Call                                 object\nClearing Code Last Description            object\nDispatch Code1 Description                object\nDispatch Code2Description                float64\nDTL Prob1 Code Description                object\nFleet Indicator                           object\nIs Duplicate                             float64\nIs NSR                                   float64\nMember Match Flag                        float64\nMember Number and Associate ID           float64\nMotorcycle Indicator                      object\nPlus Cost                                float64\nPlus Indicator Description                object\nPremier Cost                             float64\nProb1 Code Description                    object\nProb2 Code Description                    object\nSC Call Club Code Description             object\nSC Date                           datetime64[ns]\nRec ID                                   float64\nSC STS RSN Code Description               object\nSC Vehicle Manufacturer Name              object\nSC Vehicle Model Name                     object\nSVC Facility Name                         object\nSVC Facility Type                         object\nTotal Cost                               float64\nTow Destination Latitude                 float64\nTow Destination Longitude                float64\nTow Destination Name                      object\nWas Duplicated                           float64\nWas Towed To AAR Referral                float64\ndtype: object"
     },
     "metadata": {},
     "execution_count": 7
    }
   ],
   "source": [
    "df_original.dtypes"
   ]
  },
  {
   "cell_type": "markdown",
   "metadata": {},
   "source": [
    "* Reading Dictionaries"
   ]
  },
  {
   "cell_type": "code",
   "execution_count": 8,
   "metadata": {},
   "outputs": [],
   "source": [
    "path_dict_member = 'D:\\\\Desktop\\\\MLPGD_Capstone_Project\\\\resources\\\\member_data_dict.xlsx'\n",
    "\n",
    "dict_member = pd.read_excel(path_dict_member)"
   ]
  },
  {
   "cell_type": "code",
   "execution_count": 9,
   "metadata": {},
   "outputs": [],
   "source": [
    "path_dict_rodaside = 'D:\\\\Desktop\\\\MLPGD_Capstone_Project\\\\resources\\\\roadside_data_dict.xlsx'\n",
    "\n",
    "dict_roadside = pd.read_excel(path_dict_rodaside)"
   ]
  },
  {
   "cell_type": "markdown",
   "metadata": {},
   "source": [
    "# Data processing (Exploratory Data Analysis - EDA)"
   ]
  },
  {
   "cell_type": "markdown",
   "metadata": {},
   "source": [
    "* Creating Dictionary to keep track of each operation and each filtering per operation"
   ]
  },
  {
   "cell_type": "code",
   "execution_count": 10,
   "metadata": {},
   "outputs": [],
   "source": [
    "removed_columns = {}\n",
    "removed_rows = {}"
   ]
  },
  {
   "cell_type": "markdown",
   "metadata": {},
   "source": [
    "## 1 - Dropping Erroneous Column (excel did that on converting the csv original file)"
   ]
  },
  {
   "cell_type": "markdown",
   "metadata": {},
   "source": [
    "    1.1 - Defining the key for this operation "
   ]
  },
  {
   "cell_type": "code",
   "execution_count": 11,
   "metadata": {},
   "outputs": [],
   "source": [
    "removed_columns['Erroneous Columns Removal'] = ['Column1'] "
   ]
  },
  {
   "cell_type": "markdown",
   "metadata": {},
   "source": [
    "    1.2 - Performing Filtering"
   ]
  },
  {
   "cell_type": "code",
   "execution_count": 12,
   "metadata": {},
   "outputs": [],
   "source": [
    "df_original.drop(columns='Column1', inplace=True)"
   ]
  },
  {
   "cell_type": "code",
   "execution_count": 13,
   "metadata": {},
   "outputs": [
    {
     "output_type": "stream",
     "name": "stdout",
     "text": "<class 'pandas.core.frame.DataFrame'>\nRangeIndex: 21344 entries, 0 to 21343\nColumns: 112 entries, Individual Key to Was Towed To AAR Referral\ndtypes: datetime64[ns](9), float64(31), int64(4), object(68)\nmemory usage: 18.2+ MB\n"
    }
   ],
   "source": [
    "df_original.info()"
   ]
  },
  {
   "cell_type": "markdown",
   "metadata": {},
   "source": [
    "## 2 - Grouping By Househol Key (main objective) and separate by variable type"
   ]
  },
  {
   "cell_type": "markdown",
   "metadata": {},
   "source": [
    "    2.1 - Defining Data Type Columns and creating individual DataFrame per each"
   ]
  },
  {
   "cell_type": "code",
   "execution_count": 14,
   "metadata": {},
   "outputs": [],
   "source": [
    "binary_columns = ['FSV CMSI Flag', 'FSV Credit Card Flag', 'FSV Deposit Program Flag', 'FSV Home Equity Flag', 'FSV ID Theft Flag', 'FSV Mortgage Flag', 'INS Client Flag', 'TRV Globalware Flag', 'Responded to Catalog', 'Mail Responder', 'Home Owner', 'Children', 'Gender', 'Bad Address Flag', 'Do Not Direct Mail Solicit', 'Email Available', 'Opt-Out - Publication', 'New Mover Flag', 'Occupant Type', 'Call Canceled', 'Call Killed', 'Cash Call', 'Fleet Indicator', 'Is Duplicate', 'Is NSR',\t'Member Match Flag', 'Was Duplicated',\t'Was Towed To AAR Referral'] # binary data that will be threat different from the rest of the numerical and categorical data\n",
    "\n",
    "binary = pd.DataFrame() # individual binary dataframe\n",
    "\n",
    "binary['Household Key'] = df_original['Household Key'] # concatenating household key column to perform groupby method\n",
    "\n",
    "numericals = pd.DataFrame() # individual numerical dataframe\n",
    "\n",
    "string = pd.DataFrame() # individual string dataframe\n",
    "\n",
    "string['Household Key'] = df_original['Household Key'] # concatenating household key column to perform groupby method\n",
    "\n",
    "dates = pd.DataFrame() # individual dates dataframe\n",
    "\n",
    "dates['Household Key'] = df_original['Household Key'] # concatenating household key column to perform groupby method"
   ]
  },
  {
   "cell_type": "markdown",
   "metadata": {},
   "source": [
    "    2.2 - Filling each Individual Dataframe with the proper columns"
   ]
  },
  {
   "cell_type": "code",
   "execution_count": 15,
   "metadata": {},
   "outputs": [
    {
     "output_type": "display_data",
     "data": {
      "text/plain": "HBox(children=(FloatProgress(value=0.0, description='Process Progress', max=112.0, style=ProgressStyle(descrip…",
      "application/vnd.jupyter.widget-view+json": {
       "version_major": 2,
       "version_minor": 0,
       "model_id": "d276d3ca90fe4519b8e31a739e1ad93c"
      }
     },
     "metadata": {}
    },
    {
     "output_type": "stream",
     "name": "stdout",
     "text": "\n"
    }
   ],
   "source": [
    "for c in tqdm_notebook(df_original.columns, desc='Process Progress'):\n",
    "\n",
    "    if c in binary_columns:\n",
    "\n",
    "        binary[c] = df_original[c]\n",
    "    \n",
    "    elif df_original.dtypes[c] in ['int64', 'float64']:\n",
    "\n",
    "        numericals[c] = df_original[c]\n",
    "\n",
    "    elif df_original.dtypes[c] in ['<M8[ns]']:\n",
    "        \n",
    "        dates[c] = df_original[c]\n",
    "\n",
    "    else:\n",
    "\n",
    "        string[c] = df_original[c]\n",
    "    "
   ]
  },
  {
   "cell_type": "markdown",
   "metadata": {},
   "source": [
    "    2.3 - Grouping by Household Key"
   ]
  },
  {
   "cell_type": "code",
   "execution_count": 16,
   "metadata": {},
   "outputs": [],
   "source": [
    "numericals = numericals.groupby('Household Key').mean() # grouping by the mean of numerical values per each Household Key\n",
    "\n",
    "binary_numericals = binary.groupby('Household Key').mean() # grouping by the mean of binary values per each Household Key We still need to separate categorical and numerical binary variables to perform the groupby procedure in the categorical columns"
   ]
  },
  {
   "cell_type": "markdown",
   "metadata": {},
   "source": [
    "        2.3.1 - Converting Dates to Year and Separating Binary Numericals from Binary Categoricals"
   ]
  },
  {
   "cell_type": "code",
   "execution_count": 17,
   "metadata": {},
   "outputs": [
    {
     "output_type": "display_data",
     "data": {
      "text/plain": "HBox(children=(FloatProgress(value=0.0, description='Process Progress', max=29.0, style=ProgressStyle(descript…",
      "application/vnd.jupyter.widget-view+json": {
       "version_major": 2,
       "version_minor": 0,
       "model_id": "bddf62c2eb8c4ffc8a0e6c3fb62827c2"
      }
     },
     "metadata": {}
    },
    {
     "output_type": "stream",
     "name": "stdout",
     "text": "\n"
    }
   ],
   "source": [
    "for c in tqdm_notebook(binary.columns, desc='Process Progress'): # Separating Binary Types\n",
    "    if (c != 'Household Key'):\n",
    "        if (binary.dtypes[c] in ['int64', 'float64']):\n",
    "\n",
    "            binary.drop(columns=c, inplace=True)"
   ]
  },
  {
   "cell_type": "code",
   "execution_count": 18,
   "metadata": {},
   "outputs": [
    {
     "output_type": "display_data",
     "data": {
      "text/plain": "HBox(children=(FloatProgress(value=0.0, description='Process Progress', max=10.0, style=ProgressStyle(descript…",
      "application/vnd.jupyter.widget-view+json": {
       "version_major": 2,
       "version_minor": 0,
       "model_id": "9f0997183e6e466bbb3b09c3e4c248d7"
      }
     },
     "metadata": {}
    },
    {
     "output_type": "stream",
     "name": "stdout",
     "text": "\n"
    }
   ],
   "source": [
    "for c in tqdm_notebook(dates.columns, desc='Process Progress'): # Converting Dates into Years\n",
    "    if (c != 'Household Key'):\n",
    "        dates[c] = dates[c].astype('datetime64[ns]')\n",
    "        dates[c] = dates[c].dt.year\n",
    "        #dates[c] = dates[c].astype('int64')"
   ]
  },
  {
   "cell_type": "markdown",
   "metadata": {},
   "source": [
    "        2.3.2 - Grouping by mean and Household Key"
   ]
  },
  {
   "cell_type": "code",
   "execution_count": 19,
   "metadata": {},
   "outputs": [],
   "source": [
    "dates  = dates.groupby('Household Key').mean() # grouping by the mean of year values per each Household Key"
   ]
  },
  {
   "cell_type": "markdown",
   "metadata": {},
   "source": [
    "        2.3.3 - Grouping by mode and Household Key"
   ]
  },
  {
   "cell_type": "code",
   "execution_count": 20,
   "metadata": {},
   "outputs": [],
   "source": [
    "string = string.groupby('Household Key').apply(lambda x: x.mode()) # grouping by the mode of each categorical per each Household Key"
   ]
  },
  {
   "cell_type": "code",
   "execution_count": 21,
   "metadata": {},
   "outputs": [
    {
     "output_type": "execute_result",
     "data": {
      "text/plain": "                 Household Key Member Flag      City State - Grouped  \\\nHousehold Key                                                          \n8750          0         8750.0           Y  CRANSTON              RI   \n              1            NaN         NaN       NaN             NaN   \n\n                Number of Children Race Income Education Dwelling Type  \\\nHousehold Key                                                            \n8750          0                NaN  NaN    NaN       NaN          SFDU   \n              1                NaN  NaN    NaN       NaN           NaN   \n\n                Credit Ranges Language Billing Code Description  \\\nHousehold Key                                                     \n8750          0           NaN      NaN      Renewal Mbr Billing   \n              1           NaN      NaN                      NaN   \n\n                          Branch Name Cancel Reason      County  Email Status  \\\nHousehold Key                                                                   \n8750          0  RI - CRANSTON BRANCH   Non-Payment  PROVIDENCE        Active   \n              1                   NaN           NaN         NaN  Unsubscribed   \n\n                Right_Gender Member Map Location Member Phone Type  \\\nHousehold Key                                                        \n8750          0          NaN  {41.7658,-71.4978}          Wireless   \n              1          NaN                 NaN               NaN   \n\n                Member Status Member Type Reason Joined Renew Method  \\\nHousehold Key                                                          \n8750          0        ACTIVE   Associate           NaN       NOTICE   \n              1           NaN         NaN           NaN          NaN   \n\n                   Mosaic Household Mosaic Global Household  \\\nHousehold Key                                                 \n8750          0  Couples with Clout    Bourgeois Prosperity   \n              1                 NaN                     NaN   \n\n                kcl_B_IND_MosaicsGrouping Occupation Code Occupation Group  \\\nHousehold Key                                                                \n8750          0               Power Elite             NaN              NaN   \n              1                       NaN             NaN              NaN   \n\n                Right_Dwelling Type Move Distance Breakdown Map Location  \\\nHousehold Key                                                              \n8750          0   Multi Family With  1 to 5 Miles               {41,-71}   \n              1                 NaN           NaN                    NaN   \n\n                Breakdown City Breakdown State Call Status Recv Date  \\\nHousehold Key                                                          \n8750          0       Cranston              RI   2014-09-27 17:54:38   \n              1            NaN             NaN   2014-09-29 06:34:41   \n\n                Clearing Code Last Description   Dispatch Code1 Description  \\\nHousehold Key                                                                 \n8750          0                 Normal Service            Flat Tire w/spare   \n              1                            NaN  Transmission/Clutch Failure   \n\n                  DTL Prob1 Code Description Motorcycle Indicator  \\\nHousehold Key                                                       \n8750          0            Flat Tire w/spare                    N   \n              1  Transmission/Clutch Failure                  NaN   \n\n                Plus Indicator Description Prob1 Code Description  \\\nHousehold Key                                                       \n8750          0            Plus Membership                    Tow   \n              1                        NaN                    NaN   \n\n                Prob2 Code Description SC Call Club Code Description  \\\nHousehold Key                                                          \n8750          0                    NaN                 AAA Northeast   \n              1                    NaN                           NaN   \n\n                SC STS RSN Code Description SC Vehicle Manufacturer Name  \\\nHousehold Key                                                              \n8750          0              Normal Service                      PONTIAC   \n              1                         NaN                       TOYOTA   \n\n                SC Vehicle Model Name          SVC Facility Name  \\\nHousehold Key                                                      \n8750          0              GRAND AM  AAA SNE RI  LIGHT SERVICE   \n              1                   NaN                        NaN   \n\n                      SVC Facility Type Tow Destination Name  \nHousehold Key                                                 \n8750          0  mobile battery service                Mobil  \n              1                     NaN       Oaklawn Mobile  ",
      "text/html": "<div>\n<style scoped>\n    .dataframe tbody tr th:only-of-type {\n        vertical-align: middle;\n    }\n\n    .dataframe tbody tr th {\n        vertical-align: top;\n    }\n\n    .dataframe thead th {\n        text-align: right;\n    }\n</style>\n<table border=\"1\" class=\"dataframe\">\n  <thead>\n    <tr style=\"text-align: right;\">\n      <th></th>\n      <th></th>\n      <th>Household Key</th>\n      <th>Member Flag</th>\n      <th>City</th>\n      <th>State - Grouped</th>\n      <th>Number of Children</th>\n      <th>Race</th>\n      <th>Income</th>\n      <th>Education</th>\n      <th>Dwelling Type</th>\n      <th>Credit Ranges</th>\n      <th>Language</th>\n      <th>Billing Code Description</th>\n      <th>Branch Name</th>\n      <th>Cancel Reason</th>\n      <th>County</th>\n      <th>Email Status</th>\n      <th>Right_Gender</th>\n      <th>Member Map Location</th>\n      <th>Member Phone Type</th>\n      <th>Member Status</th>\n      <th>Member Type</th>\n      <th>Reason Joined</th>\n      <th>Renew Method</th>\n      <th>Mosaic Household</th>\n      <th>Mosaic Global Household</th>\n      <th>kcl_B_IND_MosaicsGrouping</th>\n      <th>Occupation Code</th>\n      <th>Occupation Group</th>\n      <th>Right_Dwelling Type</th>\n      <th>Move Distance</th>\n      <th>Breakdown Map Location</th>\n      <th>Breakdown City</th>\n      <th>Breakdown State</th>\n      <th>Call Status Recv Date</th>\n      <th>Clearing Code Last Description</th>\n      <th>Dispatch Code1 Description</th>\n      <th>DTL Prob1 Code Description</th>\n      <th>Motorcycle Indicator</th>\n      <th>Plus Indicator Description</th>\n      <th>Prob1 Code Description</th>\n      <th>Prob2 Code Description</th>\n      <th>SC Call Club Code Description</th>\n      <th>SC STS RSN Code Description</th>\n      <th>SC Vehicle Manufacturer Name</th>\n      <th>SC Vehicle Model Name</th>\n      <th>SVC Facility Name</th>\n      <th>SVC Facility Type</th>\n      <th>Tow Destination Name</th>\n    </tr>\n    <tr>\n      <th>Household Key</th>\n      <th></th>\n      <th></th>\n      <th></th>\n      <th></th>\n      <th></th>\n      <th></th>\n      <th></th>\n      <th></th>\n      <th></th>\n      <th></th>\n      <th></th>\n      <th></th>\n      <th></th>\n      <th></th>\n      <th></th>\n      <th></th>\n      <th></th>\n      <th></th>\n      <th></th>\n      <th></th>\n      <th></th>\n      <th></th>\n      <th></th>\n      <th></th>\n      <th></th>\n      <th></th>\n      <th></th>\n      <th></th>\n      <th></th>\n      <th></th>\n      <th></th>\n      <th></th>\n      <th></th>\n      <th></th>\n      <th></th>\n      <th></th>\n      <th></th>\n      <th></th>\n      <th></th>\n      <th></th>\n      <th></th>\n      <th></th>\n      <th></th>\n      <th></th>\n      <th></th>\n      <th></th>\n      <th></th>\n      <th></th>\n      <th></th>\n    </tr>\n  </thead>\n  <tbody>\n    <tr>\n      <th rowspan=\"2\" valign=\"top\">8750</th>\n      <th>0</th>\n      <td>8750.0</td>\n      <td>Y</td>\n      <td>CRANSTON</td>\n      <td>RI</td>\n      <td>NaN</td>\n      <td>NaN</td>\n      <td>NaN</td>\n      <td>NaN</td>\n      <td>SFDU</td>\n      <td>NaN</td>\n      <td>NaN</td>\n      <td>Renewal Mbr Billing</td>\n      <td>RI - CRANSTON BRANCH</td>\n      <td>Non-Payment</td>\n      <td>PROVIDENCE</td>\n      <td>Active</td>\n      <td>NaN</td>\n      <td>{41.7658,-71.4978}</td>\n      <td>Wireless</td>\n      <td>ACTIVE</td>\n      <td>Associate</td>\n      <td>NaN</td>\n      <td>NOTICE</td>\n      <td>Couples with Clout</td>\n      <td>Bourgeois Prosperity</td>\n      <td>Power Elite</td>\n      <td>NaN</td>\n      <td>NaN</td>\n      <td>Multi Family With</td>\n      <td>1 to 5 Miles</td>\n      <td>{41,-71}</td>\n      <td>Cranston</td>\n      <td>RI</td>\n      <td>2014-09-27 17:54:38</td>\n      <td>Normal Service</td>\n      <td>Flat Tire w/spare</td>\n      <td>Flat Tire w/spare</td>\n      <td>N</td>\n      <td>Plus Membership</td>\n      <td>Tow</td>\n      <td>NaN</td>\n      <td>AAA Northeast</td>\n      <td>Normal Service</td>\n      <td>PONTIAC</td>\n      <td>GRAND AM</td>\n      <td>AAA SNE RI  LIGHT SERVICE</td>\n      <td>mobile battery service</td>\n      <td>Mobil</td>\n    </tr>\n    <tr>\n      <th>1</th>\n      <td>NaN</td>\n      <td>NaN</td>\n      <td>NaN</td>\n      <td>NaN</td>\n      <td>NaN</td>\n      <td>NaN</td>\n      <td>NaN</td>\n      <td>NaN</td>\n      <td>NaN</td>\n      <td>NaN</td>\n      <td>NaN</td>\n      <td>NaN</td>\n      <td>NaN</td>\n      <td>NaN</td>\n      <td>NaN</td>\n      <td>Unsubscribed</td>\n      <td>NaN</td>\n      <td>NaN</td>\n      <td>NaN</td>\n      <td>NaN</td>\n      <td>NaN</td>\n      <td>NaN</td>\n      <td>NaN</td>\n      <td>NaN</td>\n      <td>NaN</td>\n      <td>NaN</td>\n      <td>NaN</td>\n      <td>NaN</td>\n      <td>NaN</td>\n      <td>NaN</td>\n      <td>NaN</td>\n      <td>NaN</td>\n      <td>NaN</td>\n      <td>2014-09-29 06:34:41</td>\n      <td>NaN</td>\n      <td>Transmission/Clutch Failure</td>\n      <td>Transmission/Clutch Failure</td>\n      <td>NaN</td>\n      <td>NaN</td>\n      <td>NaN</td>\n      <td>NaN</td>\n      <td>NaN</td>\n      <td>NaN</td>\n      <td>TOYOTA</td>\n      <td>NaN</td>\n      <td>NaN</td>\n      <td>NaN</td>\n      <td>Oaklawn Mobile</td>\n    </tr>\n  </tbody>\n</table>\n</div>"
     },
     "metadata": {},
     "execution_count": 21
    }
   ],
   "source": [
    "string.head(n=2) # by some reason, the groupby method by the mode of string columns returned a multi-index dataframe. Therefore, we need to remove the multi-index of this dataframe to move further our analysis"
   ]
  },
  {
   "cell_type": "code",
   "execution_count": 22,
   "metadata": {},
   "outputs": [],
   "source": [
    "post_processed_string = pd.DataFrame() # creating a new dataframe for the post processed string variable"
   ]
  },
  {
   "cell_type": "code",
   "execution_count": 23,
   "metadata": {},
   "outputs": [
    {
     "output_type": "display_data",
     "data": {
      "text/plain": "HBox(children=(FloatProgress(value=0.0, description='Process Progress', max=5241.0, style=ProgressStyle(descri…",
      "application/vnd.jupyter.widget-view+json": {
       "version_major": 2,
       "version_minor": 0,
       "model_id": "0ac6cd09f7c64e918f99828804cd3038"
      }
     },
     "metadata": {}
    },
    {
     "output_type": "stream",
     "name": "stdout",
     "text": "\n"
    }
   ],
   "source": [
    "for house_id in tqdm_notebook(df_original['Household Key'].unique().tolist(), desc='Process Progress'): # iterating over all unique Household Keys\n",
    "\n",
    "    if len(string.loc[house_id].index.tolist()) > 1: # if, for a given Household Key, we have more then one multi-index value\n",
    "\n",
    "        result = string.loc[house_id].iloc[0] + string.loc[house_id].iloc[1] # we sum the first two rows\n",
    "\n",
    "        non_null_indexes = np.where(string.loc[house_id].iloc[1].isnull().tolist())[0] # we evaluate which of them were not null before the sum procedure\n",
    "\n",
    "        for i in np.where(string.loc[house_id].iloc[1].isnull().tolist())[0]: # we iterate over the indexes that were not null before the sum procedure\n",
    "\n",
    "            result[i] = string.loc[house_id].iloc[0][i] # we replace by the previous non null value\n",
    "\n",
    "        post_processed_string = pd.concat([post_processed_string, result.to_frame().T]) # and we store on our new dataframe\n",
    "\n",
    "    else: # if, for a given Household Key, we have only one multi-index value\n",
    "\n",
    "        result = string.loc[house_id].iloc[0] # we store it because we can not change it so far\n",
    "\n",
    "        post_processed_string = pd.concat([post_processed_string, result.to_frame().T]) # # and we store on our new dataframe"
   ]
  },
  {
   "cell_type": "code",
   "execution_count": 26,
   "metadata": {},
   "outputs": [],
   "source": [
    "binary_categoricals = binary.groupby('Household Key').apply(lambda x: x.mode()) # grouping by the mode of each categorical per each Household Key"
   ]
  },
  {
   "cell_type": "code",
   "execution_count": 29,
   "metadata": {},
   "outputs": [
    {
     "output_type": "execute_result",
     "data": {
      "text/plain": "                 Household Key FSV CMSI Flag FSV Credit Card Flag  \\\nHousehold Key                                                       \n8750          0         8750.0             N                    N   \n9690          0         9690.0             N                    N   \n33380         0        33380.0             N                    N   \n87180         0        87180.0             N                    N   \n              1            NaN           NaN                  NaN   \n\n                FSV Deposit Program Flag FSV Home Equity Flag  \\\nHousehold Key                                                   \n8750          0                        N                    N   \n9690          0                        N                    N   \n33380         0                        N                    N   \n87180         0                        N                    N   \n              1                      NaN                  NaN   \n\n                FSV ID Theft Flag FSV Mortgage Flag INS Client Flag  \\\nHousehold Key                                                         \n8750          0                 N                 N               N   \n9690          0                 N                 N               N   \n33380         0                 N                 N               N   \n87180         0                 N                 N               N   \n              1               NaN               NaN             NaN   \n\n                TRV Globalware Flag Responded to Catalog Mail Responder  \\\nHousehold Key                                                             \n8750          0                   N                  NaN            NaN   \n9690          0                   N                  NaN            Yes   \n33380         0                   N                  NaN            Yes   \n87180         0                   N                  NaN            Yes   \n              1                   Y                  NaN            NaN   \n\n                 Home Owner Children Gender Bad Address Flag  \\\nHousehold Key                                                  \n8750          0         NaN      NaN    NaN                F   \n9690          0  Home Owner       No   Male                F   \n33380         0  Home Owner      Yes    NaN                F   \n87180         0  Home Owner       No   Male                F   \n              1         NaN      NaN    NaN              NaN   \n\n                Opt-Out - Publication New Mover Flag Occupant Type  \\\nHousehold Key                                                        \n8750          0                Opt-In              N        Renter   \n9690          0                Opt-In              N           NaN   \n33380         0                Opt-In              N           NaN   \n87180         0                Opt-In              N           NaN   \n              1                   NaN            NaN           NaN   \n\n                Call Canceled Call Killed Cash Call Fleet Indicator  \nHousehold Key                                                        \n8750          0             N           N         N               Y  \n9690          0             N           N         N               Y  \n33380         0           NaN         NaN       NaN             NaN  \n87180         0           NaN         NaN       NaN             NaN  \n              1           NaN         NaN       NaN             NaN  ",
      "text/html": "<div>\n<style scoped>\n    .dataframe tbody tr th:only-of-type {\n        vertical-align: middle;\n    }\n\n    .dataframe tbody tr th {\n        vertical-align: top;\n    }\n\n    .dataframe thead th {\n        text-align: right;\n    }\n</style>\n<table border=\"1\" class=\"dataframe\">\n  <thead>\n    <tr style=\"text-align: right;\">\n      <th></th>\n      <th></th>\n      <th>Household Key</th>\n      <th>FSV CMSI Flag</th>\n      <th>FSV Credit Card Flag</th>\n      <th>FSV Deposit Program Flag</th>\n      <th>FSV Home Equity Flag</th>\n      <th>FSV ID Theft Flag</th>\n      <th>FSV Mortgage Flag</th>\n      <th>INS Client Flag</th>\n      <th>TRV Globalware Flag</th>\n      <th>Responded to Catalog</th>\n      <th>Mail Responder</th>\n      <th>Home Owner</th>\n      <th>Children</th>\n      <th>Gender</th>\n      <th>Bad Address Flag</th>\n      <th>Opt-Out - Publication</th>\n      <th>New Mover Flag</th>\n      <th>Occupant Type</th>\n      <th>Call Canceled</th>\n      <th>Call Killed</th>\n      <th>Cash Call</th>\n      <th>Fleet Indicator</th>\n    </tr>\n    <tr>\n      <th>Household Key</th>\n      <th></th>\n      <th></th>\n      <th></th>\n      <th></th>\n      <th></th>\n      <th></th>\n      <th></th>\n      <th></th>\n      <th></th>\n      <th></th>\n      <th></th>\n      <th></th>\n      <th></th>\n      <th></th>\n      <th></th>\n      <th></th>\n      <th></th>\n      <th></th>\n      <th></th>\n      <th></th>\n      <th></th>\n      <th></th>\n      <th></th>\n    </tr>\n  </thead>\n  <tbody>\n    <tr>\n      <th>8750</th>\n      <th>0</th>\n      <td>8750.0</td>\n      <td>N</td>\n      <td>N</td>\n      <td>N</td>\n      <td>N</td>\n      <td>N</td>\n      <td>N</td>\n      <td>N</td>\n      <td>N</td>\n      <td>NaN</td>\n      <td>NaN</td>\n      <td>NaN</td>\n      <td>NaN</td>\n      <td>NaN</td>\n      <td>F</td>\n      <td>Opt-In</td>\n      <td>N</td>\n      <td>Renter</td>\n      <td>N</td>\n      <td>N</td>\n      <td>N</td>\n      <td>Y</td>\n    </tr>\n    <tr>\n      <th>9690</th>\n      <th>0</th>\n      <td>9690.0</td>\n      <td>N</td>\n      <td>N</td>\n      <td>N</td>\n      <td>N</td>\n      <td>N</td>\n      <td>N</td>\n      <td>N</td>\n      <td>N</td>\n      <td>NaN</td>\n      <td>Yes</td>\n      <td>Home Owner</td>\n      <td>No</td>\n      <td>Male</td>\n      <td>F</td>\n      <td>Opt-In</td>\n      <td>N</td>\n      <td>NaN</td>\n      <td>N</td>\n      <td>N</td>\n      <td>N</td>\n      <td>Y</td>\n    </tr>\n    <tr>\n      <th>33380</th>\n      <th>0</th>\n      <td>33380.0</td>\n      <td>N</td>\n      <td>N</td>\n      <td>N</td>\n      <td>N</td>\n      <td>N</td>\n      <td>N</td>\n      <td>N</td>\n      <td>N</td>\n      <td>NaN</td>\n      <td>Yes</td>\n      <td>Home Owner</td>\n      <td>Yes</td>\n      <td>NaN</td>\n      <td>F</td>\n      <td>Opt-In</td>\n      <td>N</td>\n      <td>NaN</td>\n      <td>NaN</td>\n      <td>NaN</td>\n      <td>NaN</td>\n      <td>NaN</td>\n    </tr>\n    <tr>\n      <th rowspan=\"2\" valign=\"top\">87180</th>\n      <th>0</th>\n      <td>87180.0</td>\n      <td>N</td>\n      <td>N</td>\n      <td>N</td>\n      <td>N</td>\n      <td>N</td>\n      <td>N</td>\n      <td>N</td>\n      <td>N</td>\n      <td>NaN</td>\n      <td>Yes</td>\n      <td>Home Owner</td>\n      <td>No</td>\n      <td>Male</td>\n      <td>F</td>\n      <td>Opt-In</td>\n      <td>N</td>\n      <td>NaN</td>\n      <td>NaN</td>\n      <td>NaN</td>\n      <td>NaN</td>\n      <td>NaN</td>\n    </tr>\n    <tr>\n      <th>1</th>\n      <td>NaN</td>\n      <td>NaN</td>\n      <td>NaN</td>\n      <td>NaN</td>\n      <td>NaN</td>\n      <td>NaN</td>\n      <td>NaN</td>\n      <td>NaN</td>\n      <td>Y</td>\n      <td>NaN</td>\n      <td>NaN</td>\n      <td>NaN</td>\n      <td>NaN</td>\n      <td>NaN</td>\n      <td>NaN</td>\n      <td>NaN</td>\n      <td>NaN</td>\n      <td>NaN</td>\n      <td>NaN</td>\n      <td>NaN</td>\n      <td>NaN</td>\n      <td>NaN</td>\n    </tr>\n  </tbody>\n</table>\n</div>"
     },
     "metadata": {},
     "execution_count": 29
    }
   ],
   "source": [
    "binary_categoricals.head(n=5) # by some reason, the groupby method by the mode of binary_categoricals columns returned a multi-index dataframe. Therefore, we need to remove the multi-index of this dataframe to move further our analysis"
   ]
  },
  {
   "cell_type": "code",
   "execution_count": null,
   "metadata": {},
   "outputs": [],
   "source": [
    "#performing same thing on string variables"
   ]
  },
  {
   "cell_type": "code",
   "execution_count": 27,
   "metadata": {},
   "outputs": [
    {
     "output_type": "stream",
     "name": "stdout",
     "text": "5241 5241 6338 5241 5241\n"
    }
   ],
   "source": [
    "print(len(numericals.index), len(binary_numericals.index), len(binary_categoricals.index), len(dates.index), len(post_processed_string.index)) # number of rows per type of variable"
   ]
  },
  {
   "cell_type": "markdown",
   "metadata": {},
   "source": [
    "## 3 - Evaluating number of null values"
   ]
  },
  {
   "cell_type": "code",
   "execution_count": null,
   "metadata": {},
   "outputs": [],
   "source": [
    "columns_nullval_ratio = {} # dictionary of null values ration for all columns\n",
    "\n",
    "sequence = ['Numerical', 'Binary Numericals', 'Dates', 'Binary Categoricals', 'Strings'] # key sequence for dictionaries\n",
    "\n",
    "data_type_collection = [numericals, binary_numericals, dates, binary_categoricals, post_processed_string] # list of dataframes per each data type\n",
    "\n",
    "for var_type, idx in zip(sequence, range(len(sequence))): \n",
    "\n",
    "    columns_nullval_ratio[var_type] = (data_type_collection[idx].isnull().sum() * 100 / len(data_type_collection[idx])).sort_values(ascending=False) # filling dataframe dictionary"
   ]
  },
  {
   "cell_type": "code",
   "execution_count": null,
   "metadata": {},
   "outputs": [],
   "source": [
    "for var_type in sequence:\n",
    "\n",
    "    print(var_type +' Column Null Values','\\n', columns_nullval_ratio[var_type], '\\n')"
   ]
  },
  {
   "cell_type": "markdown",
   "metadata": {},
   "source": [
    "    2.1 - Removing columns beyond given threshold"
   ]
  },
  {
   "cell_type": "markdown",
   "metadata": {},
   "source": [
    "            2.1.1 - Maintaining Original Data files "
   ]
  },
  {
   "cell_type": "markdown",
   "metadata": {},
   "source": [
    "            2.1.2 - Defining Column Threshold "
   ]
  },
  {
   "cell_type": "code",
   "execution_count": null,
   "metadata": {},
   "outputs": [],
   "source": [
    "column_threshold = 50.0 # threshold of 50 %"
   ]
  },
  {
   "cell_type": "markdown",
   "metadata": {},
   "source": [
    "            2.1.3 - Defining the key for this operation"
   ]
  },
  {
   "cell_type": "code",
   "execution_count": null,
   "metadata": {},
   "outputs": [],
   "source": [
    "key2 = str(column_threshold) + '% Column Threshold Column Removal' # key for our track removal dictionary\n",
    "\n",
    "removed_columns[key2] = [] # adding to the new key to the dictionary"
   ]
  },
  {
   "cell_type": "markdown",
   "metadata": {},
   "source": [
    "            2.1.4 - Performing Filtering"
   ]
  },
  {
   "cell_type": "code",
   "execution_count": null,
   "metadata": {},
   "outputs": [],
   "source": [
    "for c in tqdm_notebook(df_original.columns, desc='Process Progress'): # for all columns on the original dataframe\n",
    "    for var_type in sequence: # for all type of separatable dataframe\n",
    "\n",
    "        if var_type == \"Strings\": # we will deal with the String type in a different way so, for now, we pass\n",
    "            pass\n",
    "    \n",
    "        else:\n",
    "            if c in removed_null_data[var_type].columns:\n",
    "\n",
    "                if columns_nullval_ratio[var_type][c] >= column_threshold:\n",
    "\n",
    "                    removed_null_data[var_type].drop(columns=c, inplace=True)\n",
    "\n",
    "                    removed_columns[key2].append(c)\n",
    "\n",
    "print('Removed Columns after filtering process: ', removed_columns[key2])"
   ]
  },
  {
   "cell_type": "code",
   "execution_count": null,
   "metadata": {},
   "outputs": [],
   "source": [
    "removed_null_data.info()"
   ]
  },
  {
   "cell_type": "markdown",
   "metadata": {},
   "source": [
    "        2.1.5 - Analysing Strings case and why they are so high"
   ]
  },
  {
   "cell_type": "code",
   "execution_count": null,
   "metadata": {},
   "outputs": [],
   "source": [
    "original_null_val_ratio = {}\n",
    "\n",
    "for col in tqdm_notebook(columns_nullval_ratio['Strings'].index.tolist(), desc='Process Progress'):\n",
    "\n",
    "    original_null_val_ratio[col] = (df_original[col].isnull().sum() * 100 / len(df_original))"
   ]
  },
  {
   "cell_type": "code",
   "execution_count": null,
   "metadata": {},
   "outputs": [],
   "source": [
    "for col in tqdm_notebook(columns_nullval_ratio['Strings'].index.tolist(), desc='Process Progress'):\n",
    "    print(col, original_null_val_ratio[col])"
   ]
  },
  {
   "cell_type": "code",
   "execution_count": null,
   "metadata": {},
   "outputs": [],
   "source": [
    "columns_nullval_ratio['Strings']"
   ]
  },
  {
   "cell_type": "code",
   "execution_count": null,
   "metadata": {},
   "outputs": [],
   "source": [
    "\n",
    "rows_nullval_ratio = [(numericals.isnull().sum(axis=1) * 100 / len(numericals)).sort_values(ascending=False), (binary_numericals.isnull().sum(axis=1) * 100 / len(binary_numericals)).sort_values(ascending=False), (dates.isnull().sum(axis=1) * 100 / len(dates)).sort_values(ascending=False), (binary_categoricals.isnull().sum(axis=1) * 100 / len(binary_categoricals)).sort_values(ascending=False), (string.isnull().sum(axis=1) * 100 / len(string)).sort_values(ascending=False)] # percentage of null values per column\n",
    "\n"
   ]
  },
  {
   "cell_type": "markdown",
   "metadata": {},
   "source": [
    "## 3 - Subjective Evaluation"
   ]
  },
  {
   "cell_type": "markdown",
   "metadata": {},
   "source": [
    "    3.1 - Rename FSV, INS, and TRV columns that are related to products purchase flags"
   ]
  },
  {
   "cell_type": "code",
   "execution_count": null,
   "metadata": {},
   "outputs": [],
   "source": [
    "matching_FSV = [s for s in list(removed_null_data.columns) if \"FSV\" in s]\n",
    "matching_INS = [s for s in list(removed_null_data.columns) if \"INS\" in s]\n",
    "matching_TRV = [s for s in list(removed_null_data.columns) if \"TRV\" in s]\n",
    "final_matching = matching_FSV + matching_INS + matching_TRV\n",
    "print(final_matching)"
   ]
  },
  {
   "cell_type": "code",
   "execution_count": null,
   "metadata": {},
   "outputs": [],
   "source": [
    "counter = 1\n",
    "\n",
    "for c in final_matching:\n",
    "\n",
    "    removed_null_data.rename(columns={c : 'Purchased Product' + ' ' + str(counter)}, inplace=True)\n",
    "\n",
    "    counter = counter + 1"
   ]
  },
  {
   "cell_type": "code",
   "execution_count": null,
   "metadata": {},
   "outputs": [],
   "source": [
    "removed_null_data.head(n=2)"
   ]
  },
  {
   "cell_type": "markdown",
   "metadata": {},
   "source": [
    "    3.2 -  Removing columns that are not allowed or not ethical to work\n"
   ]
  },
  {
   "cell_type": "markdown",
   "metadata": {},
   "source": [
    "        3.2.1 - Creating Dictionary Key"
   ]
  },
  {
   "cell_type": "code",
   "execution_count": null,
   "metadata": {},
   "outputs": [],
   "source": [
    "key3 = 'Unethical Columns'\n",
    "\n",
    "removed_columns[key3] = ['Race', 'Language', 'Gender'] # is gender an unethical information for market segmentation?"
   ]
  },
  {
   "cell_type": "markdown",
   "metadata": {},
   "source": [
    "        3.2.2 - Performing Filtering"
   ]
  },
  {
   "cell_type": "code",
   "execution_count": null,
   "metadata": {},
   "outputs": [],
   "source": [
    "for c in tqdm_notebook(removed_columns[key3], desc='Process Progress'):\n",
    "\n",
    "    removed_null_data.drop(columns=c, inplace=True)\n",
    "\n",
    "print('Removed Columns after filtering process: ', removed_columns[key3])"
   ]
  },
  {
   "cell_type": "code",
   "execution_count": null,
   "metadata": {},
   "outputs": [],
   "source": [
    "removed_null_data.info() "
   ]
  },
  {
   "cell_type": "markdown",
   "metadata": {},
   "source": [
    "    3.3 - Removing Columns that represent the same information in a different way (information redundancy)"
   ]
  },
  {
   "cell_type": "markdown",
   "metadata": {},
   "source": [
    "        3.3.1 - Creating Dictionary Key"
   ]
  },
  {
   "cell_type": "code",
   "execution_count": null,
   "metadata": {},
   "outputs": [],
   "source": [
    "key4 = 'Redundancy Information Columns'\n",
    "\n",
    "removed_columns[key4] = ['Individual Key', 'State - Grouped', 'ZIP5', 'ZIP9', 'Children', 'Birth Date MMDDYYYY', 'Cancel Date', 'County', 'Do Not Direct Mail Solicit', 'Right_Individual Key', 'Member Key', 'Member Number Associate ID', 'Membership ID', 'Reinstate Date', 'ZIP', 'Mosaic Household', 'kcl_B_IND_MosaicsGrouping', 'Occupation Code', 'Breakdown State', 'Call Killed', 'Clearing Code Last Description', 'Dispatch Code1 Description','DTL Prob1 Code Description', 'Is Duplicate', 'Member Match Flag', 'Member Number and Associate ID', 'SC Date', 'Rec ID', 'SC STS RSN Code Description', 'SC Vehicle Model Name', 'SVC Facility Name', 'SVC Facility Type', 'Tow Destination Latitude', 'Tow Destination Longitude'] # is the City variable relevant once we already have lat/long location? Address Change Date? Bad Adress Flag? Reinstate Date (y)? Call Status Recv Date? "
   ]
  },
  {
   "cell_type": "markdown",
   "metadata": {},
   "source": [
    "        3.3.2 - Performing Filtering"
   ]
  },
  {
   "cell_type": "code",
   "execution_count": null,
   "metadata": {},
   "outputs": [],
   "source": [
    "for c in tqdm_notebook(removed_columns[key4], desc='Process Progress'):\n",
    "\n",
    "    if c in removed_null_data.columns: # since we have choosen a lot of columns, we have to ensure that all of them are still in the current dataset status\n",
    "\n",
    "        removed_null_data.drop(columns=c, inplace=True)\n",
    "\n",
    "print('Removed Columns after filtering process: ', removed_columns[key4])"
   ]
  },
  {
   "cell_type": "code",
   "execution_count": null,
   "metadata": {},
   "outputs": [],
   "source": [
    "removed_null_data.info()"
   ]
  },
  {
   "cell_type": "markdown",
   "metadata": {},
   "source": [
    "    3.4 - Checking Columns with low percentage of variantional information (counting null values)"
   ]
  },
  {
   "cell_type": "markdown",
   "metadata": {},
   "source": [
    "        3.4.1 - Creating Dictionay Key "
   ]
  },
  {
   "cell_type": "code",
   "execution_count": null,
   "metadata": {},
   "outputs": [],
   "source": [
    "key5 = 'Low Variational Information Columns'\n",
    "\n",
    "removed_columns[key5] = []"
   ]
  },
  {
   "cell_type": "markdown",
   "metadata": {},
   "source": [
    "        3.4.2 - Performing Filtering"
   ]
  },
  {
   "cell_type": "code",
   "execution_count": null,
   "metadata": {},
   "outputs": [],
   "source": [
    "for c in tqdm_notebook(removed_null_data.columns, desc='Process Progress'):\n",
    "\n",
    "    if removed_null_data.nunique()[c] == 1:\n",
    "\n",
    "        removed_null_data.drop(columns=c, inplace=True)\n",
    "\n",
    "        removed_columns[key5].append(c)\n",
    "        \n",
    "print('Removed Columns after filtering process: ', removed_columns[key5])"
   ]
  },
  {
   "cell_type": "code",
   "execution_count": null,
   "metadata": {},
   "outputs": [],
   "source": [
    "removed_null_data.info()"
   ]
  },
  {
   "cell_type": "markdown",
   "metadata": {},
   "source": [
    "    3.5 - Removing Columns with Unnecessary Information (extremely subjective)"
   ]
  },
  {
   "cell_type": "markdown",
   "metadata": {},
   "source": [
    "        3.5.1 - Creating Dictionary Key"
   ]
  },
  {
   "cell_type": "code",
   "execution_count": null,
   "metadata": {},
   "outputs": [],
   "source": [
    "key6 = 'Unnecessary Columns'\n",
    "\n",
    "removed_columns[key6] = ['Address Change Date', 'Bad Address Flag', 'Billing Code Description', 'Join Club Date', 'Member Phone Type', 'Mosaic Global Household', 'New Mover Flag', 'Call Canceled', 'Is NSR', 'Plus Indicator Description', 'Calculated Tow Miles', 'Was Duplicated', 'Was Towed To AAR Referral', 'Branch Name']"
   ]
  },
  {
   "cell_type": "markdown",
   "metadata": {},
   "source": [
    "        3.5.2 - Performing Filtering"
   ]
  },
  {
   "cell_type": "code",
   "execution_count": null,
   "metadata": {},
   "outputs": [],
   "source": [
    "for c in tqdm_notebook(removed_columns[key6], desc='Process Progress'):\n",
    "\n",
    "    removed_null_data.drop(columns=c, inplace=True)\n",
    "\n",
    "print('Removed Columns after filtering process: ', removed_columns[key6])"
   ]
  },
  {
   "cell_type": "code",
   "execution_count": null,
   "metadata": {},
   "outputs": [],
   "source": [
    "removed_null_data.info()"
   ]
  },
  {
   "cell_type": "markdown",
   "metadata": {},
   "source": [
    "## 4 - Summarize Information and Fill Nulls in the given columns "
   ]
  },
  {
   "cell_type": "markdown",
   "metadata": {},
   "source": [
    "    Renaming Pivot Variable and saving previous state of the data"
   ]
  },
  {
   "cell_type": "code",
   "execution_count": null,
   "metadata": {},
   "outputs": [],
   "source": [
    "filtered_data = removed_null_data.copy()"
   ]
  },
  {
   "cell_type": "markdown",
   "metadata": {},
   "source": [
    "    4.1 - Number of Purchased Products"
   ]
  },
  {
   "cell_type": "markdown",
   "metadata": {},
   "source": [
    "        4.1.1 - Creating Dictionary Key"
   ]
  },
  {
   "cell_type": "code",
   "execution_count": null,
   "metadata": {},
   "outputs": [],
   "source": [
    "key7 = 'Merging total number of purchased products by each row'\n",
    "\n",
    "removed_columns[key7] = ['Purchased Product 1',\t'Purchased Product 2',\t'Purchased Product 3',\t'Purchased Product 4',\t'Purchased Product 5',\t'Purchased Product 6',\t'Purchased Product 7',\t'Purchased Product 8']"
   ]
  },
  {
   "cell_type": "markdown",
   "metadata": {},
   "source": [
    "        4.1.2 - Performing Summary"
   ]
  },
  {
   "cell_type": "markdown",
   "metadata": {},
   "source": [
    "            4.1.2.1 - Converting String Values in Numerical Values and filling Null values as 0 purchased products for empty different Household Keys"
   ]
  },
  {
   "cell_type": "code",
   "execution_count": null,
   "metadata": {},
   "outputs": [],
   "source": [
    "for idx in tqdm_notebook(range(len(filtered_data)), desc='Process Progress'): # For each row\n",
    "    for c in removed_columns[key7]: # In each Purchased Product Column\n",
    "\n",
    "        if (filtered_data[c].values[idx] == 'N') or (filtered_data[c].values[idx] == 'Null') or (filtered_data[c].values[idx] == np.nan):\n",
    "\n",
    "            filtered_data[c].values[idx] = 0\n",
    "\n",
    "        else:\n",
    "\n",
    "            filtered_data[c].values[idx] = 1"
   ]
  },
  {
   "cell_type": "markdown",
   "metadata": {},
   "source": [
    "            4.1.2.2 - Converting Columns to Iterger Type"
   ]
  },
  {
   "cell_type": "code",
   "execution_count": null,
   "metadata": {},
   "outputs": [],
   "source": [
    "for c in tqdm_notebook(removed_columns[key7], desc='Process Progress'):\n",
    "\n",
    "    filtered_data[c] = filtered_data[c].astype(int)"
   ]
  },
  {
   "cell_type": "markdown",
   "metadata": {},
   "source": [
    "        4.1.2.3 - Summarize all Purchased Columns"
   ]
  },
  {
   "cell_type": "code",
   "execution_count": null,
   "metadata": {},
   "outputs": [],
   "source": [
    "new_column = [] # creating list for the new column to be appended\n",
    "\n",
    "column_name = 'Total Number of Purchased Products' # naming the new column\n",
    "\n",
    "for idx in tqdm_notebook(range(len(filtered_data)), desc='Process Progress'): # For each row\n",
    "    total_amount = 0 # total amount of products bought in each row\n",
    "\n",
    "    for c in removed_columns[key7]: # In each Purchased Product Column\n",
    "\n",
    "        if filtered_data[c][idx] == 1:\n",
    "\n",
    "            total_amount = total_amount + 1\n",
    "\n",
    "    new_column.append(total_amount)"
   ]
  },
  {
   "cell_type": "markdown",
   "metadata": {},
   "source": [
    "        4.1.2.4 - Drop Separate Purchased Data and Concatenate Total Purchased Data"
   ]
  },
  {
   "cell_type": "code",
   "execution_count": null,
   "metadata": {},
   "outputs": [],
   "source": [
    "for c in tqdm_notebook(removed_columns[key7], desc='Process Progress'):\n",
    "\n",
    "    filtered_data.drop(columns=c, inplace=True)\n",
    "\n",
    "filtered_data[column_name] = new_column\n",
    "print('Removed Columns after filtering process: ', removed_columns[key7])"
   ]
  },
  {
   "cell_type": "code",
   "execution_count": null,
   "metadata": {},
   "outputs": [],
   "source": [
    "filtered_data.info()"
   ]
  },
  {
   "cell_type": "markdown",
   "metadata": {},
   "source": [
    "    4.2 - Correcting Number of Children column"
   ]
  },
  {
   "cell_type": "markdown",
   "metadata": {},
   "source": [
    "        4.2.1 - Checking if for any HouseHold Key there is a different information for children numbering"
   ]
  },
  {
   "cell_type": "code",
   "execution_count": null,
   "metadata": {},
   "outputs": [],
   "source": [
    "Counter(df_original.groupby('Individual Key')['Number of Children'].nunique().values) # as the sheet is sorted for Individual Keys, since the beginning, we need to check if, for each Individual Key there is only 1 or 0 entries for the Number of Children"
   ]
  },
  {
   "cell_type": "markdown",
   "metadata": {},
   "source": [
    "            With this information, we can ensure that there is no Individual Key, therefore no Household Key since it is a collection of the previous, with an erroneous entry for the Number of Children column"
   ]
  },
  {
   "cell_type": "markdown",
   "metadata": {},
   "source": [
    "        4.2.2 - Converting String Values in Numerical Values and filling Null values as 0 children for empty different Household Keys"
   ]
  },
  {
   "cell_type": "code",
   "execution_count": null,
   "metadata": {},
   "outputs": [],
   "source": [
    "mask_n_children = filtered_data['Number of Children'].isnull() # creating mask of null values in Number of Children column"
   ]
  },
  {
   "cell_type": "code",
   "execution_count": null,
   "metadata": {},
   "outputs": [],
   "source": [
    "for idx in tqdm_notebook(range(len(filtered_data)), desc='Process Progress'): # For each row\n",
    "\n",
    "    if mask_n_children[idx]: # if the mask is true, that means that the correponded value for that index is Null\n",
    "\n",
    "        filtered_data['Number of Children'].values[idx] = 0    \n",
    "    \n",
    "    else:\n",
    "\n",
    "        entry = filtered_data['Number of Children'].values[idx].split()[0]\n",
    "\n",
    "        if (entry == 'No'):\n",
    "\n",
    "            filtered_data['Number of Children'].values[idx] = 0\n",
    "\n",
    "        elif (entry == 'One'):\n",
    "\n",
    "            filtered_data['Number of Children'].values[idx] = 1\n",
    "\n",
    "        elif (entry == 'Two'):\n",
    "\n",
    "            filtered_data['Number of Children'].values[idx] = 2\n",
    "\n",
    "        elif (entry == 'Three'):\n",
    "\n",
    "            filtered_data['Number of Children'].values[idx] = 3\n",
    "\n",
    "        elif (entry == 'Four'):\n",
    "\n",
    "            filtered_data['Number of Children'].values[idx] = 4\n",
    "\n",
    "        elif (entry == 'Five'):\n",
    "\n",
    "            filtered_data['Number of Children'].values[idx] = 5\n",
    "\n",
    "        elif (entry == 'Six'):\n",
    "\n",
    "            filtered_data['Number of Children'].values[idx] = 6"
   ]
  },
  {
   "cell_type": "markdown",
   "metadata": {},
   "source": [
    "        4.2.2 - Converting Column to Iterger Type\n"
   ]
  },
  {
   "cell_type": "code",
   "execution_count": null,
   "metadata": {},
   "outputs": [],
   "source": [
    "filtered_data['Number of Children'] = filtered_data['Number of Children'].astype(int)"
   ]
  },
  {
   "cell_type": "code",
   "execution_count": null,
   "metadata": {},
   "outputs": [],
   "source": [
    "filtered_data.info()"
   ]
  },
  {
   "cell_type": "markdown",
   "metadata": {},
   "source": [
    "    4.3 - Length of Residence"
   ]
  },
  {
   "cell_type": "markdown",
   "metadata": {},
   "source": [
    "    The main approach we are going to apply here is to get the mean value of the household key and apply it on the same number. After that, if it still exists any null value on the given column, we will use the mean or the mode of the column City to fill it."
   ]
  },
  {
   "cell_type": "markdown",
   "metadata": {},
   "source": [
    "        4.3.1 - Replace random default value apllied by Pandas on Null values for the Length Of Residence column. For some reason it was choosen a smaller number as possible for a float64 number"
   ]
  },
  {
   "cell_type": "code",
   "execution_count": null,
   "metadata": {},
   "outputs": [],
   "source": [
    "filtered_data['Length Of Residence'].unique()  # as we can see, by some reason, the number -9.223372e+18 was choosen to be a flag of a Null value for this column, we need to replace it by 0 or np.nan"
   ]
  },
  {
   "cell_type": "code",
   "execution_count": null,
   "metadata": {},
   "outputs": [],
   "source": [
    "filtered_data['Length Of Residence'] = filtered_data['Length Of Residence'].replace(filtered_data['Length Of Residence'].unique()[0], np.nan) # replacing random numerical Null values chose by Pandas for numpy NaN "
   ]
  },
  {
   "cell_type": "code",
   "execution_count": null,
   "metadata": {},
   "outputs": [],
   "source": [
    "filtered_data['Length Of Residence'].unique() # now we have out correct output for Null values for the Length Of Residence column"
   ]
  },
  {
   "cell_type": "markdown",
   "metadata": {},
   "source": [
    "        4.3.2 - Checking if there are Household Keys with at least one value for the Length Of Residence column and apply it to the rest of them"
   ]
  },
  {
   "cell_type": "code",
   "execution_count": null,
   "metadata": {},
   "outputs": [],
   "source": [
    "filtered_data.groupby('Household Key')['Length Of Residence'].unique(); # As we can see, for the same Household Key level we have different values of Length Of Residence. This happens because our main sheet data was sorted on a Individual Key level, that is not our interest here. # OBS: REMOVE THE ';' AT THE END OF THE COMMAND TO PRINT THE OUTPUT! BE ADVISED, THE OUTPUT IS EXTENSE!"
   ]
  },
  {
   "cell_type": "code",
   "execution_count": null,
   "metadata": {},
   "outputs": [],
   "source": [
    "for house_id in tqdm_notebook(filtered_data.groupby('Household Key')['Length Of Residence'].unique().keys(), desc='Process Progress'): # for every single unique Household Key value\n",
    "\n",
    "    if len(filtered_data.groupby('Household Key')['Length Of Residence'].unique()[house_id]) == 1: # if there is only one associated value for Length Of Residence, independet of the value, we can infer nothing for now, so, we pass\n",
    "        pass\n",
    "    \n",
    "    else:\n",
    "\n",
    "        tmp = filtered_data.loc[filtered_data['Household Key'] == house_id]['Length Of Residence'].values # storing array on a temporary file\n",
    "\n",
    "        if np.isnan(tmp).any(): # check if the associated values for the Length Of Residence for a given Household Key has at least one Null value\n",
    "\n",
    "            nan_positions = np.where(np.isnan(tmp))[0].tolist() # grabing the positions where the Null values exist\n",
    "\n",
    "            if len(nan_positions) == len(tmp): # checking if all the values for the given Household Key are Null (in this case we will treat it in another way, so, we pass)\n",
    "                pass\n",
    "\n",
    "            else:\n",
    "\n",
    "                replacement_value =  tmp[~np.isnan(tmp)].mean() # calculating the mean of all non Null values\n",
    "\n",
    "                tmp[np.isnan(tmp)] = replacement_value # index of Null values on the array\n",
    "\n",
    "                idxs = filtered_data.loc[filtered_data['Household Key'] == house_id, 'Length Of Residence'].index[nan_positions] # index of Null values on the dataframe\n",
    "\n",
    "                for i in idxs: # for each dataframe index\n",
    "                \n",
    "                    filtered_data.at[i, 'Length Of Residence'] = replacement_value # replace de Null value by the Household Key mean"
   ]
  },
  {
   "cell_type": "markdown",
   "metadata": {},
   "source": [
    "        4.3.3 - Now we focus on predicting the rest of the Null values, but this time through groups of cities"
   ]
  },
  {
   "cell_type": "code",
   "execution_count": null,
   "metadata": {},
   "outputs": [],
   "source": [
    "filtered_data.groupby('City')['Length Of Residence'].unique(); # As we can see, for the same City we have different values of Length Of Residence. We want to take advantage of this bigger scale to replace more Null values # OBS: REMOVE THE ';' AT THE END OF THE COMMAND TO PRINT THE OUTPUT! BE ADVISED, THE OUTPUT IS EXTENSE!"
   ]
  },
  {
   "cell_type": "code",
   "execution_count": null,
   "metadata": {},
   "outputs": [],
   "source": [
    "for city in tqdm_notebook(filtered_data.groupby('City')['Length Of Residence'].unique().keys(), desc='Process Progress'): # for every single unique Household Key value\n",
    "\n",
    "    if len(filtered_data.groupby('City')['Length Of Residence'].unique()[city]) == 1: # if there is only one associated value for Length Of Residence, we can infer nothing for now. So, we pass and let this for the state mean \n",
    "        pass\n",
    "    \n",
    "    else:\n",
    "\n",
    "        tmp = filtered_data.loc[filtered_data['City'] == city]['Length Of Residence'].values # storing array on a temporary file\n",
    "\n",
    "        if np.isnan(tmp).any(): # check if the associated values for the Length Of Residence for a given City has at least one Null value\n",
    "\n",
    "            nan_positions = np.where(np.isnan(tmp))[0].tolist() # grabing the positions where the Null values exist\n",
    "\n",
    "            if len(nan_positions) == len(tmp): # checking if all the values for the given City are Null (in this case we will treat it in another way, so, we pass)\n",
    "                pass\n",
    "\n",
    "            else:\n",
    "\n",
    "                replacement_value =  tmp[~np.isnan(tmp)].mean() # calculating the mean of all non Null values\n",
    "\n",
    "                tmp[np.isnan(tmp)] = replacement_value # index of Null values on the array\n",
    "\n",
    "                idxs = filtered_data.loc[filtered_data['City'] == city, 'Length Of Residence'].index[nan_positions] # index of Null values on the dataframe\n",
    "\n",
    "                for i in idxs: # for each dataframe index\n",
    "                \n",
    "                    filtered_data.at[i, 'Length Of Residence'] = replacement_value # replace de Null value by the City mean"
   ]
  },
  {
   "cell_type": "markdown",
   "metadata": {},
   "source": [
    "            4.3.4 - Now we focus on predicting the rest of the Null values on the biggest and final scale as possible, the states."
   ]
  },
  {
   "cell_type": "markdown",
   "metadata": {},
   "source": [
    "            Note: You may noticed that we have excluded the State - Gouped column, but, since we havent eliminated any row yet we can still use the previous indexes of this unusable column "
   ]
  },
  {
   "cell_type": "code",
   "execution_count": null,
   "metadata": {},
   "outputs": [],
   "source": [
    "ct_idxs = df_original.index[df_original['State - Grouped'] == 'CT'].tolist() # grab index of all rows that belong to the CT state\n",
    "ri_idxs = df_original.index[df_original['State - Grouped'] == 'RI'].tolist() # grab index of all rows that belong to the RI state"
   ]
  },
  {
   "cell_type": "code",
   "execution_count": null,
   "metadata": {},
   "outputs": [],
   "source": [
    "ct_mean = filtered_data['Length Of Residence'][ct_idxs].mean()\n",
    "ri_mean = filtered_data['Length Of Residence'][ri_idxs].mean()\n",
    "print('CT mean value considering all Null values so far filled: ', ct_mean, '\\n', 'RI mean value considering all Null values so far filled: ', ri_mean)"
   ]
  },
  {
   "cell_type": "code",
   "execution_count": null,
   "metadata": {},
   "outputs": [],
   "source": [
    "for idx in tqdm_notebook(filtered_data.index, desc='Process Progress'): # for every single unique Household Key value\n",
    "\n",
    "    if filtered_data['Length Of Residence'].isnull()[idx]: # if for the given index of the Length Of Residence column the value is Null\n",
    "        if idx in ct_idxs: # check if this index belongs to the CT state\n",
    "\n",
    "            filtered_data.at[idx, 'Length Of Residence'] = ct_mean # replace the Null value by the CT state mean\n",
    "\n",
    "        else:\n",
    "\n",
    "            filtered_data.at[idx, 'Length Of Residence'] = ri_mean # replace the Null value by the RI state mean"
   ]
  },
  {
   "cell_type": "code",
   "execution_count": null,
   "metadata": {},
   "outputs": [],
   "source": [
    "filtered_data['Length Of Residence'].isnull().values.any() # check if Length Of Residence column still has any Null value left"
   ]
  },
  {
   "cell_type": "code",
   "execution_count": null,
   "metadata": {},
   "outputs": [],
   "source": [
    "filtered_data.info()"
   ]
  },
  {
   "cell_type": "markdown",
   "metadata": {},
   "source": []
  },
  {
   "cell_type": "markdown",
   "metadata": {},
   "source": [
    "    4.4 - Summarize E-mail and Mail Information"
   ]
  },
  {
   "cell_type": "markdown",
   "metadata": {},
   "source": [
    "        4.4.1 - Creating List of Columns to be summarized"
   ]
  },
  {
   "cell_type": "code",
   "execution_count": null,
   "metadata": {},
   "outputs": [],
   "source": [
    "mail_var = ['Mail Responder', 'Email Available', 'Email Status', 'Opt-Out - Publication']"
   ]
  },
  {
   "cell_type": "markdown",
   "metadata": {},
   "source": [
    "        4.4.2 - Checking Existance of Null Values on this columns"
   ]
  },
  {
   "cell_type": "code",
   "execution_count": null,
   "metadata": {},
   "outputs": [],
   "source": [
    "for col in mail_var:\n",
    "\n",
    "    print('Flag if column ', col, ' has null values. ', filtered_data[col].isnull().values.any(), ' and its percentage ', nullval_ratio[col]) # check if the columns have any Null values"
   ]
  },
  {
   "cell_type": "markdown",
   "metadata": {},
   "source": [
    "        As we can see, all the binary categorical columns have Null values. However, the columns related to Email Available and Opt-Out - Publication are almost full filled and, according to the spreadsheet dictionary, those two are AAA direct information and not third party information. So, we will focus on them as most reliable data and use the Member Status as well to \"predict\" a summary of all these information"
   ]
  },
  {
   "cell_type": "code",
   "execution_count": null,
   "metadata": {},
   "outputs": [],
   "source": [
    "filtered_data.groupby('Household Key')['Email Status'].unique();"
   ]
  },
  {
   "cell_type": "markdown",
   "metadata": {},
   "source": [
    "        4.4.3 - Give the name of the new column to be added on the dataframe"
   ]
  },
  {
   "cell_type": "code",
   "execution_count": null,
   "metadata": {},
   "outputs": [],
   "source": [
    "new_mail_key = 'Email Correspondent' # new column name\n",
    "\n",
    "filtered_data[new_mail_key] = \"\" # appending new column to the dataframe"
   ]
  },
  {
   "cell_type": "markdown",
   "metadata": {},
   "source": [
    "        4.4.4 - To summarize all these information we need to ensure that for the same Household Key we have a concordance between all the variables. For that we will use the Member Status variable and Email Available as pivot information"
   ]
  },
  {
   "cell_type": "code",
   "execution_count": null,
   "metadata": {},
   "outputs": [],
   "source": [
    "for house_id in tqdm_notebook(filtered_data['Household Key'].unique().tolist(), desc='Process Progress'): # for every single unique Household Key value\n",
    "\n",
    "    if len(Counter(filtered_data.groupby('Household Key')['Member Status'].unique()[house_id].tolist())) != 1: # if there is more than one Member Status type for the given Household Key\n",
    "\n",
    "        if 'ACTIVE' in filtered_data.groupby('Household Key')['Member Status'].unique()[house_id].tolist(): # if at least one individual member is active on the given HouseHold Key\n",
    "\n",
    "            filtered_data.loc[(filtered_data['Household Key'] == house_id), 'Member Status'] = 'ACTIVE' # replace them all for active\n",
    "\n",
    "        elif 'PENDING' in filtered_data.groupby('Household Key')['Member Status'].unique()[house_id].tolist(): # if at least one individual member is pending on the given HouseHold Key and there is none active\n",
    "\n",
    "            filtered_data.loc[(filtered_data['Household Key'] == house_id), 'Member Status'] = 'PENDING' # replace them all for pending \n",
    "    \n",
    "    if len(Counter(filtered_data.groupby('Household Key')['Email Available'].unique()[house_id].tolist())) != 1: # if there is more than one Email Available type for the given Household Key\n",
    "\n",
    "        if 10 in filtered_data.groupby('Household Key')['Email Available'].unique()[house_id].tolist(): # if at least one individual member has its email available on the given HouseHold Key\n",
    "\n",
    "            filtered_data.loc[(filtered_data['Household Key'] == house_id), 'Email Available'] = 10 # replace them all by 10 (active)\n",
    "\n",
    "    if len(Counter(filtered_data.groupby('Household Key')['Opt-Out - Publication'].unique()[house_id].tolist())) != 1: # if there is more than one Opt-Out - Publication type for the given Household Key   \n",
    "\n",
    "        if 'Opt-In' in filtered_data.groupby('Household Key')['Opt-Out - Publication'].unique()[house_id].tolist(): # if at least one individual member has optional for an email publication on the given HouseHold Key\n",
    "\n",
    "            filtered_data.loc[(filtered_data['Household Key'] == house_id), 'Opt-Out - Publication'] = 'Opt-In' # replace them all by Opt-In (active)\n"
   ]
  },
  {
   "cell_type": "markdown",
   "metadata": {},
   "source": [
    "        4.4.5 - Filling the new column"
   ]
  },
  {
   "cell_type": "code",
   "execution_count": null,
   "metadata": {},
   "outputs": [],
   "source": [
    "for house_id in tqdm_notebook(filtered_data['Household Key'].unique().tolist(), desc='Process Progress'): # for every single unique Household Key value\n",
    "\n",
    "    if ('ACTIVE' in filtered_data[filtered_data['Household Key'] == house_id]['Member Status'].tolist()) and (10 in filtered_data[filtered_data['Household Key'] == house_id]['Email Available'].tolist()) and ('Opt-In' in filtered_data[filtered_data['Household Key'] == house_id]['Opt-Out - Publication'].tolist()): # if all the conditions are satisfied\n",
    "\n",
    "        filtered_data.loc[(filtered_data['Household Key'] == house_id), 'Email Correspondent'] = 1 # the household is an e-mail correspondent\n",
    "\n",
    "    else:\n",
    "\n",
    "        filtered_data.loc[(filtered_data['Household Key'] == house_id), 'Email Correspondent'] = 0 # the household is not an e-mail correspondent\n",
    "\n",
    "\n",
    "filtered_data['Email Correspondent'] = filtered_data['Email Correspondent'].astype(int) # changing to integer data type"
   ]
  },
  {
   "cell_type": "markdown",
   "metadata": {},
   "source": [
    "        4.4.6 -  Dropping Email information Columns"
   ]
  },
  {
   "cell_type": "code",
   "execution_count": null,
   "metadata": {},
   "outputs": [],
   "source": [
    "key8 = 'Merging Availability of Email Contact'\n",
    "\n",
    "removed_columns[key8] = mail_var"
   ]
  },
  {
   "cell_type": "code",
   "execution_count": null,
   "metadata": {},
   "outputs": [],
   "source": [
    "for c in mail_var:\n",
    "\n",
    "    filtered_data.drop(columns=c, inplace=True)\n",
    "\n",
    "print('Removed Columns after filtering process: ', removed_columns[key8])"
   ]
  },
  {
   "cell_type": "code",
   "execution_count": null,
   "metadata": {},
   "outputs": [],
   "source": [
    "filtered_data.info()"
   ]
  },
  {
   "cell_type": "code",
   "execution_count": null,
   "metadata": {},
   "outputs": [],
   "source": []
  },
  {
   "cell_type": "code",
   "execution_count": null,
   "metadata": {},
   "outputs": [],
   "source": []
  },
  {
   "cell_type": "code",
   "execution_count": null,
   "metadata": {},
   "outputs": [],
   "source": []
  },
  {
   "cell_type": "code",
   "execution_count": null,
   "metadata": {},
   "outputs": [],
   "source": []
  },
  {
   "cell_type": "code",
   "execution_count": null,
   "metadata": {},
   "outputs": [],
   "source": []
  },
  {
   "cell_type": "code",
   "execution_count": null,
   "metadata": {},
   "outputs": [],
   "source": [
    "path_out = '..\\\\resources\\\\checkpoint.csv'\n",
    "filtered_data.to_csv(path_or_buf=path_out, index=False)"
   ]
  },
  {
   "cell_type": "code",
   "execution_count": null,
   "metadata": {},
   "outputs": [],
   "source": []
  },
  {
   "cell_type": "code",
   "execution_count": null,
   "metadata": {},
   "outputs": [],
   "source": []
  },
  {
   "cell_type": "code",
   "execution_count": null,
   "metadata": {},
   "outputs": [],
   "source": []
  },
  {
   "cell_type": "markdown",
   "metadata": {},
   "source": [
    "        We still need to keep an eye on the variables that only have 2 unique values, but it will be more a subjective evaluation "
   ]
  },
  {
   "cell_type": "markdown",
   "metadata": {},
   "source": [
    "* Check correlation Matrix"
   ]
  },
  {
   "cell_type": "markdown",
   "metadata": {},
   "source": [
    "#correlation matrix\n",
    "corrmat = remove_null_data.corr()\n",
    "f, ax = plt.subplots(figsize=(15, 10))\n",
    "sns.heatmap(corrmat, square=True); # considering 70% o correlation as minimum to show"
   ]
  },
  {
   "cell_type": "markdown",
   "metadata": {},
   "source": [
    "* Observations"
   ]
  },
  {
   "cell_type": "markdown",
   "metadata": {},
   "source": [
    "  1- There is an \"island\" between Rec ID and Tow destination Longitude this will be evaluate latter, but looks promissing\n",
    "  2- Basic Cost has a high correlation with the variables within this \"island\" \n",
    "  3- Individual Key and Right_Individual Key are pratically the same variable\n",
    "  4- ZIP5 and ZIP9 are pratically the same variable\n",
    "  5- Months from join to Cancel has no correlation at so ever with the Premier Cost variable\n",
    "  "
   ]
  },
  {
   "cell_type": "markdown",
   "metadata": {},
   "source": [
    "    By the correlation matrix of the entire dataset (minus the columns with more than 70% of null values), we can see that there are still some columns with no correlation, or total correlation with all the variables, and some trouble columns. Therefore, the best thing to do is to drop them."
   ]
  },
  {
   "cell_type": "markdown",
   "metadata": {},
   "source": [
    "trouble_columns= ['Is Duplicate', 'Member Match Flag']\n",
    "\n",
    "columns_will_not_use = ['Individual Key', 'Member Flag', 'Right_Individual Key']"
   ]
  }
 ],
 "metadata": {
  "language_info": {
   "codemirror_mode": {
    "name": "ipython",
    "version": 3
   },
   "file_extension": ".py",
   "mimetype": "text/x-python",
   "name": "python",
   "nbconvert_exporter": "python",
   "pygments_lexer": "ipython3",
   "version": "3.7.6-final"
  },
  "orig_nbformat": 2,
  "kernelspec": {
   "name": "python37664bitcapstoneprojectcondad07c177c475741d8a46606514fa38a7a",
   "display_name": "Python 3.7.6 64-bit ('capstone_project': conda)"
  }
 },
 "nbformat": 4,
 "nbformat_minor": 2
}