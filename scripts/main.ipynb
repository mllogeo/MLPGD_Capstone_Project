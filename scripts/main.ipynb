{
 "cells": [
  {
   "cell_type": "markdown",
   "metadata": {},
   "source": [
    "# Loading Packages"
   ]
  },
  {
   "cell_type": "code",
   "execution_count": 1,
   "metadata": {},
   "outputs": [],
   "source": [
    "import numpy as np\n",
    "import pandas as pd\n",
    "import matplotlib.pyplot as plt\n",
    "import seaborn as sns\n",
    "from collections import Counter"
   ]
  },
  {
   "cell_type": "markdown",
   "metadata": {},
   "source": [
    "## Progress Bar"
   ]
  },
  {
   "cell_type": "code",
   "execution_count": 2,
   "metadata": {},
   "outputs": [],
   "source": [
    "%%capture\n",
    "from tqdm import tqdm_notebook\n",
    "tqdm_notebook().pandas()"
   ]
  },
  {
   "cell_type": "markdown",
   "metadata": {},
   "source": [
    "## Pandas Options"
   ]
  },
  {
   "cell_type": "code",
   "execution_count": 3,
   "metadata": {},
   "outputs": [],
   "source": [
    "pd.set_option('max_columns', None)\n",
    "pd.set_option('display.max_rows', None)"
   ]
  },
  {
   "cell_type": "markdown",
   "metadata": {},
   "source": [
    "# Loading Files"
   ]
  },
  {
   "cell_type": "markdown",
   "metadata": {},
   "source": [
    "## 1 - Read Default Data"
   ]
  },
  {
   "cell_type": "code",
   "execution_count": 4,
   "metadata": {},
   "outputs": [],
   "source": [
    "path = 'D:\\\\Desktop\\\\MLPGD_Capstone_Project\\\\resources\\\\aaa_sample_data.xlsx'\n",
    "\n",
    "df_original = pd.read_excel(path)"
   ]
  },
  {
   "cell_type": "markdown",
   "metadata": {},
   "source": [
    "* Data Glance"
   ]
  },
  {
   "cell_type": "code",
   "execution_count": 5,
   "metadata": {},
   "outputs": [
    {
     "output_type": "execute_result",
     "data": {
      "text/plain": "   Column1  Individual Key  Household Key Member Flag          City  \\\n0        0       100000030      104625900           Y     NEW HAVEN   \n1        1       522115500       45007910           Y  WEST WARWICK   \n\n  State - Grouped   ZIP5       ZIP9 FSV CMSI Flag FSV Credit Card Flag  \\\n0              CT  65110  651113490             N                    N   \n1              RI  28930  289338500             N                    Y   \n\n  FSV Deposit Program Flag FSV Home Equity Flag FSV ID Theft Flag  \\\n0                        N                    N                 N   \n1                        N                    N                 N   \n\n  FSV Mortgage Flag INS Client Flag TRV Globalware Flag Number of Children  \\\n0                 N               N                   N                NaN   \n1                 N               N                   N          One Child   \n\n  Responded to Catalog                         Race  Length Of Residence  \\\n0                  NaN                          NaN                  NaN   \n1                  NaN  Caucasion / White - English                150.0   \n\n  Mail Responder  Home Owner     Income Date Of Birth Children     Education  \\\n0            NaN         NaN        NaN           NaT      NaN           NaN   \n1            Yes  Home Owner  30-39,999    1922-02-05      Yes  Some College   \n\n                              Dwelling Type Credit Ranges Language Gender  \\\n0  Small or large multi-family w/apt number           NaN      NaN   Male   \n1  Small or large multi-family w/apt number       600-649  English    NaN   \n\n  Active Expiration Date Address Change Date Bad Address Flag  \\\n0                    NaT                 NaT              NaN   \n1             2020-09-01 2005-01-28 12:41:09                F   \n\n  Billing Code Description Birth Date MMDDYYYY          Branch Name  \\\n0                      NaN                 NaT                  NaN   \n1               New Member          1922-02-05  RI - WARWICK BRANCH   \n\n  Cancel Date Cancel Reason County  Do Not Direct Mail Solicit  \\\n0         NaT           NaN    NaN                         NaN   \n1         NaT           NaN   KENT                         0.0   \n\n   Email Available Email Status  ERS ENT Count Year 1  ERS ENT Count Year 2  \\\n0              NaN          NaN                   NaN                   NaN   \n1              0.0          NaN                   0.0                   0.0   \n\n   ERS ENT Count Year 3  ERS Member Cost Year 1  ERS Member Cost Year 2  \\\n0                   NaN                     NaN                     NaN   \n1                  20.0                     0.0                     0.0   \n\n   ERS Member Cost Year 3 Right_Gender  Right_Individual Key Join AAA Date  \\\n0                     NaN          NaN                   NaN           NaT   \n1                   650.0          NaN           522115500.0    1970-09-01   \n\n  Join Club Date  Member Key Member Map Location  Member Number Associate ID  \\\n0            NaT         NaN                 NaN                         NaN   \n1     1970-09-01  15000140.0   {41.696,-71.5308}                    153000.0   \n\n  Member Phone Type Member Status  Member Tenure Years Member Type  \\\n0               NaN           NaN                  NaN         NaN   \n1              VoIP        ACTIVE                490.0     Primary   \n\n   Membership ID  Months from Join to Cancel Opt-Out - Publication  \\\n0            NaN                         NaN                   NaN   \n1         1530.0                         NaN                Opt-In   \n\n  Reason Joined Reinstate Date Renew Method      ZIP  Mosaic Household  \\\n0           NaN            NaT          NaN      NaN               NaN   \n1           NaN     2019-08-23   AUTO RENEW  28930.0  Senior Discounts   \n\n  Mosaic Global Household kcl_B_IND_MosaicsGrouping New Mover Flag  \\\n0                     NaN                       NaN            NaN   \n1       Low Income Elders     Golden Year Guardians              N   \n\n  Occupation Code Occupation Group Right_Dwelling Type Move Distance  \\\n0             NaN              NaN                 NaN           NaN   \n1             NaN              NaN                 NaN           NaN   \n\n  Occupant Type Breakdown Map Location Breakdown City Breakdown State  \\\n0           NaN                    NaN            NaN             NaN   \n1           NaN               {41,-71}   West Warwick              RI   \n\n   Basic Cost  Calculated Tow Miles Call Canceled Call Killed  \\\n0         NaN                   NaN           NaN         NaN   \n1       325.0                   8.0             N           N   \n\n  Call Status Recv Date Cash Call Clearing Code Last Description  \\\n0                   NaN       NaN                            NaN   \n1   2017-04-13 10:05:17         Y               CASH CALL ONLY C   \n\n  Dispatch Code1 Description  Dispatch Code2Description  \\\n0                        NaN                        NaN   \n1            Engine Overheat                        NaN   \n\n  DTL Prob1 Code Description Fleet Indicator  Is Duplicate  Is NSR  \\\n0                        NaN             NaN           NaN     NaN   \n1            Engine Overheat               N           0.0     0.0   \n\n   Member Match Flag  Member Number and Associate ID Motorcycle Indicator  \\\n0                NaN                             NaN                  NaN   \n1               10.0                        153000.0                    N   \n\n   Plus Cost Plus Indicator Description  Premier Cost Prob1 Code Description  \\\n0        NaN                        NaN           NaN                    NaN   \n1        0.0           Basic Membership           0.0                    Tow   \n\n  Prob2 Code Description SC Call Club Code Description    SC Date      Rec ID  \\\n0                    NaN                           NaN        NaT         NaN   \n1                    NaN                 AAA Northeast 2017-04-13  97073200.0   \n\n  SC STS RSN Code Description SC Vehicle Manufacturer Name  \\\n0                         NaN                          NaN   \n1            CASH CALL ONLY C                       TOYOTA   \n\n  SC Vehicle Model Name      SVC Facility Name   SVC Facility Type  \\\n0                   NaN                    NaN                 NaN   \n1                 CAMRY  ASTRO WRECKER SERVICE  independent repair   \n\n   Total Cost  Tow Destination Latitude  Tow Destination Longitude  \\\n0         NaN                       NaN                        NaN   \n1       325.0                     410.0                     -710.0   \n\n           Tow Destination Name  Was Duplicated  Was Towed To AAR Referral  \n0                           NaN             NaN                        NaN  \n1  Aar / Johnson's Auto Service             0.0                       10.0  ",
      "text/html": "<div>\n<style scoped>\n    .dataframe tbody tr th:only-of-type {\n        vertical-align: middle;\n    }\n\n    .dataframe tbody tr th {\n        vertical-align: top;\n    }\n\n    .dataframe thead th {\n        text-align: right;\n    }\n</style>\n<table border=\"1\" class=\"dataframe\">\n  <thead>\n    <tr style=\"text-align: right;\">\n      <th></th>\n      <th>Column1</th>\n      <th>Individual Key</th>\n      <th>Household Key</th>\n      <th>Member Flag</th>\n      <th>City</th>\n      <th>State - Grouped</th>\n      <th>ZIP5</th>\n      <th>ZIP9</th>\n      <th>FSV CMSI Flag</th>\n      <th>FSV Credit Card Flag</th>\n      <th>FSV Deposit Program Flag</th>\n      <th>FSV Home Equity Flag</th>\n      <th>FSV ID Theft Flag</th>\n      <th>FSV Mortgage Flag</th>\n      <th>INS Client Flag</th>\n      <th>TRV Globalware Flag</th>\n      <th>Number of Children</th>\n      <th>Responded to Catalog</th>\n      <th>Race</th>\n      <th>Length Of Residence</th>\n      <th>Mail Responder</th>\n      <th>Home Owner</th>\n      <th>Income</th>\n      <th>Date Of Birth</th>\n      <th>Children</th>\n      <th>Education</th>\n      <th>Dwelling Type</th>\n      <th>Credit Ranges</th>\n      <th>Language</th>\n      <th>Gender</th>\n      <th>Active Expiration Date</th>\n      <th>Address Change Date</th>\n      <th>Bad Address Flag</th>\n      <th>Billing Code Description</th>\n      <th>Birth Date MMDDYYYY</th>\n      <th>Branch Name</th>\n      <th>Cancel Date</th>\n      <th>Cancel Reason</th>\n      <th>County</th>\n      <th>Do Not Direct Mail Solicit</th>\n      <th>Email Available</th>\n      <th>Email Status</th>\n      <th>ERS ENT Count Year 1</th>\n      <th>ERS ENT Count Year 2</th>\n      <th>ERS ENT Count Year 3</th>\n      <th>ERS Member Cost Year 1</th>\n      <th>ERS Member Cost Year 2</th>\n      <th>ERS Member Cost Year 3</th>\n      <th>Right_Gender</th>\n      <th>Right_Individual Key</th>\n      <th>Join AAA Date</th>\n      <th>Join Club Date</th>\n      <th>Member Key</th>\n      <th>Member Map Location</th>\n      <th>Member Number Associate ID</th>\n      <th>Member Phone Type</th>\n      <th>Member Status</th>\n      <th>Member Tenure Years</th>\n      <th>Member Type</th>\n      <th>Membership ID</th>\n      <th>Months from Join to Cancel</th>\n      <th>Opt-Out - Publication</th>\n      <th>Reason Joined</th>\n      <th>Reinstate Date</th>\n      <th>Renew Method</th>\n      <th>ZIP</th>\n      <th>Mosaic Household</th>\n      <th>Mosaic Global Household</th>\n      <th>kcl_B_IND_MosaicsGrouping</th>\n      <th>New Mover Flag</th>\n      <th>Occupation Code</th>\n      <th>Occupation Group</th>\n      <th>Right_Dwelling Type</th>\n      <th>Move Distance</th>\n      <th>Occupant Type</th>\n      <th>Breakdown Map Location</th>\n      <th>Breakdown City</th>\n      <th>Breakdown State</th>\n      <th>Basic Cost</th>\n      <th>Calculated Tow Miles</th>\n      <th>Call Canceled</th>\n      <th>Call Killed</th>\n      <th>Call Status Recv Date</th>\n      <th>Cash Call</th>\n      <th>Clearing Code Last Description</th>\n      <th>Dispatch Code1 Description</th>\n      <th>Dispatch Code2Description</th>\n      <th>DTL Prob1 Code Description</th>\n      <th>Fleet Indicator</th>\n      <th>Is Duplicate</th>\n      <th>Is NSR</th>\n      <th>Member Match Flag</th>\n      <th>Member Number and Associate ID</th>\n      <th>Motorcycle Indicator</th>\n      <th>Plus Cost</th>\n      <th>Plus Indicator Description</th>\n      <th>Premier Cost</th>\n      <th>Prob1 Code Description</th>\n      <th>Prob2 Code Description</th>\n      <th>SC Call Club Code Description</th>\n      <th>SC Date</th>\n      <th>Rec ID</th>\n      <th>SC STS RSN Code Description</th>\n      <th>SC Vehicle Manufacturer Name</th>\n      <th>SC Vehicle Model Name</th>\n      <th>SVC Facility Name</th>\n      <th>SVC Facility Type</th>\n      <th>Total Cost</th>\n      <th>Tow Destination Latitude</th>\n      <th>Tow Destination Longitude</th>\n      <th>Tow Destination Name</th>\n      <th>Was Duplicated</th>\n      <th>Was Towed To AAR Referral</th>\n    </tr>\n  </thead>\n  <tbody>\n    <tr>\n      <th>0</th>\n      <td>0</td>\n      <td>100000030</td>\n      <td>104625900</td>\n      <td>Y</td>\n      <td>NEW HAVEN</td>\n      <td>CT</td>\n      <td>65110</td>\n      <td>651113490</td>\n      <td>N</td>\n      <td>N</td>\n      <td>N</td>\n      <td>N</td>\n      <td>N</td>\n      <td>N</td>\n      <td>N</td>\n      <td>N</td>\n      <td>NaN</td>\n      <td>NaN</td>\n      <td>NaN</td>\n      <td>NaN</td>\n      <td>NaN</td>\n      <td>NaN</td>\n      <td>NaN</td>\n      <td>NaT</td>\n      <td>NaN</td>\n      <td>NaN</td>\n      <td>Small or large multi-family w/apt number</td>\n      <td>NaN</td>\n      <td>NaN</td>\n      <td>Male</td>\n      <td>NaT</td>\n      <td>NaT</td>\n      <td>NaN</td>\n      <td>NaN</td>\n      <td>NaT</td>\n      <td>NaN</td>\n      <td>NaT</td>\n      <td>NaN</td>\n      <td>NaN</td>\n      <td>NaN</td>\n      <td>NaN</td>\n      <td>NaN</td>\n      <td>NaN</td>\n      <td>NaN</td>\n      <td>NaN</td>\n      <td>NaN</td>\n      <td>NaN</td>\n      <td>NaN</td>\n      <td>NaN</td>\n      <td>NaN</td>\n      <td>NaT</td>\n      <td>NaT</td>\n      <td>NaN</td>\n      <td>NaN</td>\n      <td>NaN</td>\n      <td>NaN</td>\n      <td>NaN</td>\n      <td>NaN</td>\n      <td>NaN</td>\n      <td>NaN</td>\n      <td>NaN</td>\n      <td>NaN</td>\n      <td>NaN</td>\n      <td>NaT</td>\n      <td>NaN</td>\n      <td>NaN</td>\n      <td>NaN</td>\n      <td>NaN</td>\n      <td>NaN</td>\n      <td>NaN</td>\n      <td>NaN</td>\n      <td>NaN</td>\n      <td>NaN</td>\n      <td>NaN</td>\n      <td>NaN</td>\n      <td>NaN</td>\n      <td>NaN</td>\n      <td>NaN</td>\n      <td>NaN</td>\n      <td>NaN</td>\n      <td>NaN</td>\n      <td>NaN</td>\n      <td>NaN</td>\n      <td>NaN</td>\n      <td>NaN</td>\n      <td>NaN</td>\n      <td>NaN</td>\n      <td>NaN</td>\n      <td>NaN</td>\n      <td>NaN</td>\n      <td>NaN</td>\n      <td>NaN</td>\n      <td>NaN</td>\n      <td>NaN</td>\n      <td>NaN</td>\n      <td>NaN</td>\n      <td>NaN</td>\n      <td>NaN</td>\n      <td>NaN</td>\n      <td>NaN</td>\n      <td>NaT</td>\n      <td>NaN</td>\n      <td>NaN</td>\n      <td>NaN</td>\n      <td>NaN</td>\n      <td>NaN</td>\n      <td>NaN</td>\n      <td>NaN</td>\n      <td>NaN</td>\n      <td>NaN</td>\n      <td>NaN</td>\n      <td>NaN</td>\n      <td>NaN</td>\n    </tr>\n    <tr>\n      <th>1</th>\n      <td>1</td>\n      <td>522115500</td>\n      <td>45007910</td>\n      <td>Y</td>\n      <td>WEST WARWICK</td>\n      <td>RI</td>\n      <td>28930</td>\n      <td>289338500</td>\n      <td>N</td>\n      <td>Y</td>\n      <td>N</td>\n      <td>N</td>\n      <td>N</td>\n      <td>N</td>\n      <td>N</td>\n      <td>N</td>\n      <td>One Child</td>\n      <td>NaN</td>\n      <td>Caucasion / White - English</td>\n      <td>150.0</td>\n      <td>Yes</td>\n      <td>Home Owner</td>\n      <td>30-39,999</td>\n      <td>1922-02-05</td>\n      <td>Yes</td>\n      <td>Some College</td>\n      <td>Small or large multi-family w/apt number</td>\n      <td>600-649</td>\n      <td>English</td>\n      <td>NaN</td>\n      <td>2020-09-01</td>\n      <td>2005-01-28 12:41:09</td>\n      <td>F</td>\n      <td>New Member</td>\n      <td>1922-02-05</td>\n      <td>RI - WARWICK BRANCH</td>\n      <td>NaT</td>\n      <td>NaN</td>\n      <td>KENT</td>\n      <td>0.0</td>\n      <td>0.0</td>\n      <td>NaN</td>\n      <td>0.0</td>\n      <td>0.0</td>\n      <td>20.0</td>\n      <td>0.0</td>\n      <td>0.0</td>\n      <td>650.0</td>\n      <td>NaN</td>\n      <td>522115500.0</td>\n      <td>1970-09-01</td>\n      <td>1970-09-01</td>\n      <td>15000140.0</td>\n      <td>{41.696,-71.5308}</td>\n      <td>153000.0</td>\n      <td>VoIP</td>\n      <td>ACTIVE</td>\n      <td>490.0</td>\n      <td>Primary</td>\n      <td>1530.0</td>\n      <td>NaN</td>\n      <td>Opt-In</td>\n      <td>NaN</td>\n      <td>2019-08-23</td>\n      <td>AUTO RENEW</td>\n      <td>28930.0</td>\n      <td>Senior Discounts</td>\n      <td>Low Income Elders</td>\n      <td>Golden Year Guardians</td>\n      <td>N</td>\n      <td>NaN</td>\n      <td>NaN</td>\n      <td>NaN</td>\n      <td>NaN</td>\n      <td>NaN</td>\n      <td>{41,-71}</td>\n      <td>West Warwick</td>\n      <td>RI</td>\n      <td>325.0</td>\n      <td>8.0</td>\n      <td>N</td>\n      <td>N</td>\n      <td>2017-04-13 10:05:17</td>\n      <td>Y</td>\n      <td>CASH CALL ONLY C</td>\n      <td>Engine Overheat</td>\n      <td>NaN</td>\n      <td>Engine Overheat</td>\n      <td>N</td>\n      <td>0.0</td>\n      <td>0.0</td>\n      <td>10.0</td>\n      <td>153000.0</td>\n      <td>N</td>\n      <td>0.0</td>\n      <td>Basic Membership</td>\n      <td>0.0</td>\n      <td>Tow</td>\n      <td>NaN</td>\n      <td>AAA Northeast</td>\n      <td>2017-04-13</td>\n      <td>97073200.0</td>\n      <td>CASH CALL ONLY C</td>\n      <td>TOYOTA</td>\n      <td>CAMRY</td>\n      <td>ASTRO WRECKER SERVICE</td>\n      <td>independent repair</td>\n      <td>325.0</td>\n      <td>410.0</td>\n      <td>-710.0</td>\n      <td>Aar / Johnson's Auto Service</td>\n      <td>0.0</td>\n      <td>10.0</td>\n    </tr>\n  </tbody>\n</table>\n</div>"
     },
     "metadata": {},
     "execution_count": 5
    }
   ],
   "source": [
    "df_original.head(n=2)"
   ]
  },
  {
   "cell_type": "markdown",
   "metadata": {},
   "source": [
    "* General Info"
   ]
  },
  {
   "cell_type": "code",
   "execution_count": 6,
   "metadata": {},
   "outputs": [
    {
     "output_type": "stream",
     "name": "stdout",
     "text": "<class 'pandas.core.frame.DataFrame'>\nRangeIndex: 21344 entries, 0 to 21343\nColumns: 113 entries, Column1 to Was Towed To AAR Referral\ndtypes: datetime64[ns](9), float64(31), int64(5), object(68)\nmemory usage: 18.4+ MB\n"
    }
   ],
   "source": [
    "df_original.info()"
   ]
  },
  {
   "cell_type": "code",
   "execution_count": 7,
   "metadata": {},
   "outputs": [],
   "source": [
    "df_original.dtypes;"
   ]
  },
  {
   "cell_type": "markdown",
   "metadata": {},
   "source": [
    "* Reading Dictionaries"
   ]
  },
  {
   "cell_type": "code",
   "execution_count": 8,
   "metadata": {},
   "outputs": [],
   "source": [
    "path_dict_member = 'D:\\\\Desktop\\\\MLPGD_Capstone_Project\\\\resources\\\\member_data_dict.xlsx'\n",
    "\n",
    "dict_member = pd.read_excel(path_dict_member)"
   ]
  },
  {
   "cell_type": "code",
   "execution_count": 9,
   "metadata": {},
   "outputs": [],
   "source": [
    "path_dict_rodaside = 'D:\\\\Desktop\\\\MLPGD_Capstone_Project\\\\resources\\\\roadside_data_dict.xlsx'\n",
    "\n",
    "dict_roadside = pd.read_excel(path_dict_rodaside)"
   ]
  },
  {
   "cell_type": "markdown",
   "metadata": {},
   "source": [
    "# Data processing (Exploratory Data Analysis - EDA)"
   ]
  },
  {
   "cell_type": "markdown",
   "metadata": {},
   "source": [
    "* Creating Dictionary to keep track of each operation and each filtering per operation"
   ]
  },
  {
   "cell_type": "code",
   "execution_count": 10,
   "metadata": {},
   "outputs": [],
   "source": [
    "removed_columns = {}\n",
    "removed_rows = {}"
   ]
  },
  {
   "cell_type": "markdown",
   "metadata": {},
   "source": [
    "## 1 - Dropping Erroneous Column (excel did that on converting the csv original file)"
   ]
  },
  {
   "cell_type": "markdown",
   "metadata": {},
   "source": [
    "    1.1 - Defining the key for this operation "
   ]
  },
  {
   "cell_type": "code",
   "execution_count": 11,
   "metadata": {},
   "outputs": [],
   "source": [
    "removed_columns['Erroneous Columns Removal'] = ['Column1'] "
   ]
  },
  {
   "cell_type": "markdown",
   "metadata": {},
   "source": [
    "    1.2 - Performing Filtering"
   ]
  },
  {
   "cell_type": "code",
   "execution_count": 12,
   "metadata": {},
   "outputs": [],
   "source": [
    "df_original.drop(columns='Column1', inplace=True)"
   ]
  },
  {
   "cell_type": "code",
   "execution_count": 13,
   "metadata": {},
   "outputs": [
    {
     "output_type": "stream",
     "name": "stdout",
     "text": "<class 'pandas.core.frame.DataFrame'>\nRangeIndex: 21344 entries, 0 to 21343\nColumns: 112 entries, Individual Key to Was Towed To AAR Referral\ndtypes: datetime64[ns](9), float64(31), int64(4), object(68)\nmemory usage: 18.2+ MB\n"
    }
   ],
   "source": [
    "df_original.info()"
   ]
  },
  {
   "cell_type": "markdown",
   "metadata": {},
   "source": [
    "## 2 - Grouping By Househol Key (main objective) and separate by variable type"
   ]
  },
  {
   "cell_type": "markdown",
   "metadata": {},
   "source": [
    "    2.1 - Defining Data Type Columns and creating individual DataFrame per each"
   ]
  },
  {
   "cell_type": "code",
   "execution_count": 14,
   "metadata": {},
   "outputs": [],
   "source": [
    "binary_columns = ['FSV CMSI Flag', 'FSV Credit Card Flag', 'FSV Deposit Program Flag', 'FSV Home Equity Flag', 'FSV ID Theft Flag', 'FSV Mortgage Flag', 'INS Client Flag', 'TRV Globalware Flag', 'Responded to Catalog', 'Mail Responder', 'Home Owner', 'Children', 'Gender', 'Bad Address Flag', 'Do Not Direct Mail Solicit', 'Email Available', 'Opt-Out - Publication', 'New Mover Flag', 'Occupant Type', 'Call Canceled', 'Call Killed', 'Cash Call', 'Fleet Indicator', 'Is Duplicate', 'Is NSR',\t'Member Match Flag', 'Was Duplicated',\t'Was Towed To AAR Referral'] # binary data that will be threat different from the rest of the numerical and categorical data\n",
    "\n",
    "binary = pd.DataFrame() # individual binary dataframe\n",
    "\n",
    "binary['Household Key'] = df_original['Household Key'] # concatenating household key column to perform groupby method\n",
    "\n",
    "numericals = pd.DataFrame() # individual numerical dataframe\n",
    "\n",
    "string = pd.DataFrame() # individual string dataframe\n",
    "\n",
    "string['Household Key'] = df_original['Household Key'] # concatenating household key column to perform groupby method\n",
    "\n",
    "dates = pd.DataFrame() # individual dates dataframe\n",
    "\n",
    "dates['Household Key'] = df_original['Household Key'] # concatenating household key column to perform groupby method"
   ]
  },
  {
   "cell_type": "markdown",
   "metadata": {},
   "source": [
    "    2.2 - Filling each Individual Dataframe with the proper columns"
   ]
  },
  {
   "cell_type": "code",
   "execution_count": 15,
   "metadata": {},
   "outputs": [
    {
     "output_type": "display_data",
     "data": {
      "text/plain": "HBox(children=(FloatProgress(value=0.0, description='Process Progress', max=112.0, style=ProgressStyle(descrip…",
      "application/vnd.jupyter.widget-view+json": {
       "version_major": 2,
       "version_minor": 0,
       "model_id": "298a172228154fe7be875b2304b61688"
      }
     },
     "metadata": {}
    },
    {
     "output_type": "stream",
     "name": "stdout",
     "text": "\n"
    }
   ],
   "source": [
    "for c in tqdm_notebook(df_original.columns, desc='Process Progress'): # for all the columns\n",
    "\n",
    "    if c in binary_columns: # if the columns is in the binary categorie\n",
    "\n",
    "        binary[c] = df_original[c] # fill in the binary dataframe\n",
    "    \n",
    "    elif df_original.dtypes[c] in ['int64', 'float64']: # if the variables type of the given column are float or iteger\n",
    "\n",
    "        numericals[c] = df_original[c] # fill in the numerical dataframe\n",
    "\n",
    "    elif df_original.dtypes[c] in ['<M8[ns]']: # if the variables type of the given column are in the data format\n",
    "        \n",
    "        dates[c] = df_original[c] # fill in the date dataframe\n",
    "\n",
    "    else:\n",
    "\n",
    "        string[c] = df_original[c] # else, fill in the string dataframe\n",
    "    "
   ]
  },
  {
   "cell_type": "markdown",
   "metadata": {},
   "source": [
    "    2.3 - Grouping by Household Key"
   ]
  },
  {
   "cell_type": "code",
   "execution_count": 16,
   "metadata": {},
   "outputs": [],
   "source": [
    "numericals = numericals.groupby('Household Key').mean() # grouping by the mean of numerical values per each Household Key\n",
    "\n",
    "binary_numericals = binary.groupby('Household Key').mean() # grouping by the mean of binary values per each Household Key We still need to separate categorical and numerical binary variables to perform the groupby procedure in the categorical columns"
   ]
  },
  {
   "cell_type": "markdown",
   "metadata": {},
   "source": [
    "        2.3.1 - Converting Dates to Year and Separating Binary Numericals from Binary Categoricals"
   ]
  },
  {
   "cell_type": "code",
   "execution_count": 17,
   "metadata": {},
   "outputs": [
    {
     "output_type": "display_data",
     "data": {
      "text/plain": "HBox(children=(FloatProgress(value=0.0, description='Process Progress', max=29.0, style=ProgressStyle(descript…",
      "application/vnd.jupyter.widget-view+json": {
       "version_major": 2,
       "version_minor": 0,
       "model_id": "6812a31c4be242688d2ad7e0768222c6"
      }
     },
     "metadata": {}
    },
    {
     "output_type": "stream",
     "name": "stdout",
     "text": "\n"
    }
   ],
   "source": [
    "for c in tqdm_notebook(binary.columns, desc='Process Progress'): # Separating Binary Types\n",
    "    if (c != 'Household Key'): # we dont want to iterate over the Household Key unecessarily\n",
    "        if (binary.dtypes[c] in ['int64', 'float64']): # if the variables type of the given column are float or iteger \n",
    "\n",
    "            binary.drop(columns=c, inplace=True) # dropped from the future categorical binary dataframe"
   ]
  },
  {
   "cell_type": "code",
   "execution_count": 18,
   "metadata": {},
   "outputs": [
    {
     "output_type": "display_data",
     "data": {
      "text/plain": "HBox(children=(FloatProgress(value=0.0, description='Process Progress', max=10.0, style=ProgressStyle(descript…",
      "application/vnd.jupyter.widget-view+json": {
       "version_major": 2,
       "version_minor": 0,
       "model_id": "56ab5e3e20b74143967d255cac02742e"
      }
     },
     "metadata": {}
    },
    {
     "output_type": "stream",
     "name": "stdout",
     "text": "\n"
    }
   ],
   "source": [
    "for c in tqdm_notebook(dates.columns, desc='Process Progress'): # Converting Dates into Years\n",
    "    if (c != 'Household Key'):\n",
    "        dates[c] = dates[c].astype('datetime64[ns]')\n",
    "        dates[c] = dates[c].dt.year\n",
    "        #dates[c] = dates[c].astype('int64')"
   ]
  },
  {
   "cell_type": "markdown",
   "metadata": {},
   "source": [
    "        2.3.2 - Grouping by mean and Household Key"
   ]
  },
  {
   "cell_type": "code",
   "execution_count": 19,
   "metadata": {},
   "outputs": [],
   "source": [
    "dates  = dates.groupby('Household Key').mean() # grouping by the mean of year values per each Household Key"
   ]
  },
  {
   "cell_type": "markdown",
   "metadata": {},
   "source": [
    "        2.3.3 - Grouping by mode and Household Key"
   ]
  },
  {
   "cell_type": "code",
   "execution_count": 20,
   "metadata": {},
   "outputs": [],
   "source": [
    "string = string.groupby('Household Key').apply(lambda x: x.mode()) # grouping by the mode of each categorical per each Household Key"
   ]
  },
  {
   "cell_type": "code",
   "execution_count": 21,
   "metadata": {},
   "outputs": [
    {
     "output_type": "execute_result",
     "data": {
      "text/plain": "                 Household Key Member Flag      City State - Grouped  \\\nHousehold Key                                                          \n8750          0         8750.0           Y  CRANSTON              RI   \n              1            NaN         NaN       NaN             NaN   \n\n                Number of Children Race Income Education Dwelling Type  \\\nHousehold Key                                                            \n8750          0                NaN  NaN    NaN       NaN          SFDU   \n              1                NaN  NaN    NaN       NaN           NaN   \n\n                Credit Ranges Language Billing Code Description  \\\nHousehold Key                                                     \n8750          0           NaN      NaN      Renewal Mbr Billing   \n              1           NaN      NaN                      NaN   \n\n                          Branch Name Cancel Reason      County  Email Status  \\\nHousehold Key                                                                   \n8750          0  RI - CRANSTON BRANCH   Non-Payment  PROVIDENCE        Active   \n              1                   NaN           NaN         NaN  Unsubscribed   \n\n                Right_Gender Member Map Location Member Phone Type  \\\nHousehold Key                                                        \n8750          0          NaN  {41.7658,-71.4978}          Wireless   \n              1          NaN                 NaN               NaN   \n\n                Member Status Member Type Reason Joined Renew Method  \\\nHousehold Key                                                          \n8750          0        ACTIVE   Associate           NaN       NOTICE   \n              1           NaN         NaN           NaN          NaN   \n\n                   Mosaic Household Mosaic Global Household  \\\nHousehold Key                                                 \n8750          0  Couples with Clout    Bourgeois Prosperity   \n              1                 NaN                     NaN   \n\n                kcl_B_IND_MosaicsGrouping Occupation Code Occupation Group  \\\nHousehold Key                                                                \n8750          0               Power Elite             NaN              NaN   \n              1                       NaN             NaN              NaN   \n\n                Right_Dwelling Type Move Distance Breakdown Map Location  \\\nHousehold Key                                                              \n8750          0   Multi Family With  1 to 5 Miles               {41,-71}   \n              1                 NaN           NaN                    NaN   \n\n                Breakdown City Breakdown State Call Status Recv Date  \\\nHousehold Key                                                          \n8750          0       Cranston              RI   2014-09-27 17:54:38   \n              1            NaN             NaN   2014-09-29 06:34:41   \n\n                Clearing Code Last Description   Dispatch Code1 Description  \\\nHousehold Key                                                                 \n8750          0                 Normal Service            Flat Tire w/spare   \n              1                            NaN  Transmission/Clutch Failure   \n\n                  DTL Prob1 Code Description Motorcycle Indicator  \\\nHousehold Key                                                       \n8750          0            Flat Tire w/spare                    N   \n              1  Transmission/Clutch Failure                  NaN   \n\n                Plus Indicator Description Prob1 Code Description  \\\nHousehold Key                                                       \n8750          0            Plus Membership                    Tow   \n              1                        NaN                    NaN   \n\n                Prob2 Code Description SC Call Club Code Description  \\\nHousehold Key                                                          \n8750          0                    NaN                 AAA Northeast   \n              1                    NaN                           NaN   \n\n                SC STS RSN Code Description SC Vehicle Manufacturer Name  \\\nHousehold Key                                                              \n8750          0              Normal Service                      PONTIAC   \n              1                         NaN                       TOYOTA   \n\n                SC Vehicle Model Name          SVC Facility Name  \\\nHousehold Key                                                      \n8750          0              GRAND AM  AAA SNE RI  LIGHT SERVICE   \n              1                   NaN                        NaN   \n\n                      SVC Facility Type Tow Destination Name  \nHousehold Key                                                 \n8750          0  mobile battery service                Mobil  \n              1                     NaN       Oaklawn Mobile  ",
      "text/html": "<div>\n<style scoped>\n    .dataframe tbody tr th:only-of-type {\n        vertical-align: middle;\n    }\n\n    .dataframe tbody tr th {\n        vertical-align: top;\n    }\n\n    .dataframe thead th {\n        text-align: right;\n    }\n</style>\n<table border=\"1\" class=\"dataframe\">\n  <thead>\n    <tr style=\"text-align: right;\">\n      <th></th>\n      <th></th>\n      <th>Household Key</th>\n      <th>Member Flag</th>\n      <th>City</th>\n      <th>State - Grouped</th>\n      <th>Number of Children</th>\n      <th>Race</th>\n      <th>Income</th>\n      <th>Education</th>\n      <th>Dwelling Type</th>\n      <th>Credit Ranges</th>\n      <th>Language</th>\n      <th>Billing Code Description</th>\n      <th>Branch Name</th>\n      <th>Cancel Reason</th>\n      <th>County</th>\n      <th>Email Status</th>\n      <th>Right_Gender</th>\n      <th>Member Map Location</th>\n      <th>Member Phone Type</th>\n      <th>Member Status</th>\n      <th>Member Type</th>\n      <th>Reason Joined</th>\n      <th>Renew Method</th>\n      <th>Mosaic Household</th>\n      <th>Mosaic Global Household</th>\n      <th>kcl_B_IND_MosaicsGrouping</th>\n      <th>Occupation Code</th>\n      <th>Occupation Group</th>\n      <th>Right_Dwelling Type</th>\n      <th>Move Distance</th>\n      <th>Breakdown Map Location</th>\n      <th>Breakdown City</th>\n      <th>Breakdown State</th>\n      <th>Call Status Recv Date</th>\n      <th>Clearing Code Last Description</th>\n      <th>Dispatch Code1 Description</th>\n      <th>DTL Prob1 Code Description</th>\n      <th>Motorcycle Indicator</th>\n      <th>Plus Indicator Description</th>\n      <th>Prob1 Code Description</th>\n      <th>Prob2 Code Description</th>\n      <th>SC Call Club Code Description</th>\n      <th>SC STS RSN Code Description</th>\n      <th>SC Vehicle Manufacturer Name</th>\n      <th>SC Vehicle Model Name</th>\n      <th>SVC Facility Name</th>\n      <th>SVC Facility Type</th>\n      <th>Tow Destination Name</th>\n    </tr>\n    <tr>\n      <th>Household Key</th>\n      <th></th>\n      <th></th>\n      <th></th>\n      <th></th>\n      <th></th>\n      <th></th>\n      <th></th>\n      <th></th>\n      <th></th>\n      <th></th>\n      <th></th>\n      <th></th>\n      <th></th>\n      <th></th>\n      <th></th>\n      <th></th>\n      <th></th>\n      <th></th>\n      <th></th>\n      <th></th>\n      <th></th>\n      <th></th>\n      <th></th>\n      <th></th>\n      <th></th>\n      <th></th>\n      <th></th>\n      <th></th>\n      <th></th>\n      <th></th>\n      <th></th>\n      <th></th>\n      <th></th>\n      <th></th>\n      <th></th>\n      <th></th>\n      <th></th>\n      <th></th>\n      <th></th>\n      <th></th>\n      <th></th>\n      <th></th>\n      <th></th>\n      <th></th>\n      <th></th>\n      <th></th>\n      <th></th>\n      <th></th>\n      <th></th>\n    </tr>\n  </thead>\n  <tbody>\n    <tr>\n      <th rowspan=\"2\" valign=\"top\">8750</th>\n      <th>0</th>\n      <td>8750.0</td>\n      <td>Y</td>\n      <td>CRANSTON</td>\n      <td>RI</td>\n      <td>NaN</td>\n      <td>NaN</td>\n      <td>NaN</td>\n      <td>NaN</td>\n      <td>SFDU</td>\n      <td>NaN</td>\n      <td>NaN</td>\n      <td>Renewal Mbr Billing</td>\n      <td>RI - CRANSTON BRANCH</td>\n      <td>Non-Payment</td>\n      <td>PROVIDENCE</td>\n      <td>Active</td>\n      <td>NaN</td>\n      <td>{41.7658,-71.4978}</td>\n      <td>Wireless</td>\n      <td>ACTIVE</td>\n      <td>Associate</td>\n      <td>NaN</td>\n      <td>NOTICE</td>\n      <td>Couples with Clout</td>\n      <td>Bourgeois Prosperity</td>\n      <td>Power Elite</td>\n      <td>NaN</td>\n      <td>NaN</td>\n      <td>Multi Family With</td>\n      <td>1 to 5 Miles</td>\n      <td>{41,-71}</td>\n      <td>Cranston</td>\n      <td>RI</td>\n      <td>2014-09-27 17:54:38</td>\n      <td>Normal Service</td>\n      <td>Flat Tire w/spare</td>\n      <td>Flat Tire w/spare</td>\n      <td>N</td>\n      <td>Plus Membership</td>\n      <td>Tow</td>\n      <td>NaN</td>\n      <td>AAA Northeast</td>\n      <td>Normal Service</td>\n      <td>PONTIAC</td>\n      <td>GRAND AM</td>\n      <td>AAA SNE RI  LIGHT SERVICE</td>\n      <td>mobile battery service</td>\n      <td>Mobil</td>\n    </tr>\n    <tr>\n      <th>1</th>\n      <td>NaN</td>\n      <td>NaN</td>\n      <td>NaN</td>\n      <td>NaN</td>\n      <td>NaN</td>\n      <td>NaN</td>\n      <td>NaN</td>\n      <td>NaN</td>\n      <td>NaN</td>\n      <td>NaN</td>\n      <td>NaN</td>\n      <td>NaN</td>\n      <td>NaN</td>\n      <td>NaN</td>\n      <td>NaN</td>\n      <td>Unsubscribed</td>\n      <td>NaN</td>\n      <td>NaN</td>\n      <td>NaN</td>\n      <td>NaN</td>\n      <td>NaN</td>\n      <td>NaN</td>\n      <td>NaN</td>\n      <td>NaN</td>\n      <td>NaN</td>\n      <td>NaN</td>\n      <td>NaN</td>\n      <td>NaN</td>\n      <td>NaN</td>\n      <td>NaN</td>\n      <td>NaN</td>\n      <td>NaN</td>\n      <td>NaN</td>\n      <td>2014-09-29 06:34:41</td>\n      <td>NaN</td>\n      <td>Transmission/Clutch Failure</td>\n      <td>Transmission/Clutch Failure</td>\n      <td>NaN</td>\n      <td>NaN</td>\n      <td>NaN</td>\n      <td>NaN</td>\n      <td>NaN</td>\n      <td>NaN</td>\n      <td>TOYOTA</td>\n      <td>NaN</td>\n      <td>NaN</td>\n      <td>NaN</td>\n      <td>Oaklawn Mobile</td>\n    </tr>\n  </tbody>\n</table>\n</div>"
     },
     "metadata": {},
     "execution_count": 21
    }
   ],
   "source": [
    "string.head(n=2) # by some reason, the groupby method by the mode of string columns returned a multi-index dataframe. Therefore, we need to remove the multi-index of this dataframe to move further our analysis"
   ]
  },
  {
   "cell_type": "code",
   "execution_count": 22,
   "metadata": {},
   "outputs": [],
   "source": [
    "post_processed_string = pd.DataFrame() # creating a new dataframe for the post processed string variable"
   ]
  },
  {
   "cell_type": "code",
   "execution_count": 23,
   "metadata": {},
   "outputs": [
    {
     "output_type": "display_data",
     "data": {
      "text/plain": "HBox(children=(FloatProgress(value=0.0, description='Process Progress', max=5241.0, style=ProgressStyle(descri…",
      "application/vnd.jupyter.widget-view+json": {
       "version_major": 2,
       "version_minor": 0,
       "model_id": "aa7228fa3ff84b6391e07aefd922509b"
      }
     },
     "metadata": {}
    },
    {
     "output_type": "stream",
     "name": "stdout",
     "text": "\n"
    }
   ],
   "source": [
    "for house_id in tqdm_notebook(df_original['Household Key'].unique().tolist(), desc='Process Progress'): # iterating over all unique Household Keys\n",
    "\n",
    "    if len(string.loc[house_id].index.tolist()) > 1: # if, for a given Household Key, we have more then one multi-index value\n",
    "\n",
    "        result = string.loc[house_id].iloc[0] + string.loc[house_id].iloc[1] # we sum the first two rows\n",
    "\n",
    "        non_null_indexes = np.where(string.loc[house_id].iloc[1].isnull().tolist())[0] # we evaluate which of them were not null before the sum procedure\n",
    "\n",
    "        for i in np.where(string.loc[house_id].iloc[1].isnull().tolist())[0]: # we iterate over the indexes that were not null before the sum procedure\n",
    "\n",
    "            result[i] = string.loc[house_id].iloc[0][i] # we replace by the previous non null value\n",
    "\n",
    "        post_processed_string = pd.concat([post_processed_string, result.to_frame().T]) # and we store on our new dataframe\n",
    "\n",
    "    else: # if, for a given Household Key, we have only one multi-index value\n",
    "\n",
    "        result = string.loc[house_id].iloc[0] # we store it because we can not change it so far\n",
    "\n",
    "        post_processed_string = pd.concat([post_processed_string, result.to_frame().T]) # # and we store on our new dataframe"
   ]
  },
  {
   "cell_type": "code",
   "execution_count": 24,
   "metadata": {},
   "outputs": [
    {
     "output_type": "execute_result",
     "data": {
      "text/plain": "          Member Flag          City State - Grouped Number of Children  \\\n104625900           Y     NEW HAVEN              CT                NaN   \n45007910            Y  WEST WARWICK              RI          One Child   \n43175160            Y      TIVERTON              RI                NaN   \n\n                                  Race     Income     Education  \\\n104625900                          NaN        NaN           NaN   \n45007910   Caucasion / White - English  30-39,999  Some College   \n43175160                           NaN        NaN           NaN   \n\n                                      Dwelling Type Credit Ranges Language  \\\n104625900  Small or large multi-family w/apt number           NaN      NaN   \n45007910   Small or large multi-family w/apt number       600-649  English   \n43175160                                       SFDU           NaN      NaN   \n\n          Billing Code Description             Branch Name Cancel Reason  \\\n104625900                      NaN                     NaN           NaN   \n45007910                New Member     RI - WARWICK BRANCH           NaN   \n43175160              Cancellation  RI - BARRINGTON BRANCH      Deceased   \n\n            County Email Status Right_Gender Member Map Location  \\\n104625900      NaN          NaN          NaN                 NaN   \n45007910      KENT          NaN          NaN   {41.696,-71.5308}   \n43175160   NEWPORT          NaN          NaN   {41.673,-71.1886}   \n\n          Member Phone Type Member Status Member Type Reason Joined  \\\n104625900               NaN           NaN         NaN           NaN   \n45007910               VoIP        ACTIVE     Primary           NaN   \n43175160                NaN     CANCELLED     Primary           NaN   \n\n          Renew Method  Mosaic Household Mosaic Global Household  \\\n104625900          NaN               NaN                     NaN   \n45007910    AUTO RENEW  Senior Discounts       Low Income Elders   \n43175160        NOTICE    Aging in Place  Comfortable Retirement   \n\n          kcl_B_IND_MosaicsGrouping Occupation Code Occupation Group  \\\n104625900                       NaN             NaN              NaN   \n45007910      Golden Year Guardians             NaN              NaN   \n43175160               Autumn Years             NaN              NaN   \n\n          Right_Dwelling Type Move Distance Breakdown Map Location  \\\n104625900                 NaN           NaN                    NaN   \n45007910                  NaN           NaN               {41,-71}   \n43175160                  NaN           NaN                    NaN   \n\n          Breakdown City Breakdown State  \\\n104625900            NaN             NaN   \n45007910    West Warwick              RI   \n43175160             NaN             NaN   \n\n                            Call Status Recv Date  \\\n104625900                                     NaN   \n45007910   2015-01-29 14:34:292015-09-25 16:26:14   \n43175160                                      NaN   \n\n          Clearing Code Last Description       Dispatch Code1 Description  \\\n104625900                            NaN                              NaN   \n45007910                  Normal Service  Member Requests Battery Service   \n43175160                             NaN                              NaN   \n\n                DTL Prob1 Code Description Motorcycle Indicator  \\\n104625900                              NaN                  NaN   \n45007910   Member Requests Battery Service                    N   \n43175160                               NaN                  NaN   \n\n          Plus Indicator Description Prob1 Code Description  \\\n104625900                        NaN                    NaN   \n45007910            Basic Membership        Battery Service   \n43175160                         NaN                    NaN   \n\n          Prob2 Code Description SC Call Club Code Description  \\\n104625900                    NaN                           NaN   \n45007910                     NaN                 AAA Northeast   \n43175160                     NaN                           NaN   \n\n          SC STS RSN Code Description SC Vehicle Manufacturer Name  \\\n104625900                         NaN                          NaN   \n45007910               Normal Service                       TOYOTA   \n43175160                          NaN                          NaN   \n\n          SC Vehicle Model Name                           SVC Facility Name  \\\n104625900                   NaN                                         NaN   \n45007910                  CAMRY  ASTRO WRECKER SERVICEAstro Wrecker Service   \n43175160                    NaN                                         NaN   \n\n            SVC Facility Type          Tow Destination Name  \n104625900                 NaN                           NaN  \n45007910   independent repair  Aar / Johnson's Auto Service  \n43175160                  NaN                           NaN  ",
      "text/html": "<div>\n<style scoped>\n    .dataframe tbody tr th:only-of-type {\n        vertical-align: middle;\n    }\n\n    .dataframe tbody tr th {\n        vertical-align: top;\n    }\n\n    .dataframe thead th {\n        text-align: right;\n    }\n</style>\n<table border=\"1\" class=\"dataframe\">\n  <thead>\n    <tr style=\"text-align: right;\">\n      <th></th>\n      <th>Member Flag</th>\n      <th>City</th>\n      <th>State - Grouped</th>\n      <th>Number of Children</th>\n      <th>Race</th>\n      <th>Income</th>\n      <th>Education</th>\n      <th>Dwelling Type</th>\n      <th>Credit Ranges</th>\n      <th>Language</th>\n      <th>Billing Code Description</th>\n      <th>Branch Name</th>\n      <th>Cancel Reason</th>\n      <th>County</th>\n      <th>Email Status</th>\n      <th>Right_Gender</th>\n      <th>Member Map Location</th>\n      <th>Member Phone Type</th>\n      <th>Member Status</th>\n      <th>Member Type</th>\n      <th>Reason Joined</th>\n      <th>Renew Method</th>\n      <th>Mosaic Household</th>\n      <th>Mosaic Global Household</th>\n      <th>kcl_B_IND_MosaicsGrouping</th>\n      <th>Occupation Code</th>\n      <th>Occupation Group</th>\n      <th>Right_Dwelling Type</th>\n      <th>Move Distance</th>\n      <th>Breakdown Map Location</th>\n      <th>Breakdown City</th>\n      <th>Breakdown State</th>\n      <th>Call Status Recv Date</th>\n      <th>Clearing Code Last Description</th>\n      <th>Dispatch Code1 Description</th>\n      <th>DTL Prob1 Code Description</th>\n      <th>Motorcycle Indicator</th>\n      <th>Plus Indicator Description</th>\n      <th>Prob1 Code Description</th>\n      <th>Prob2 Code Description</th>\n      <th>SC Call Club Code Description</th>\n      <th>SC STS RSN Code Description</th>\n      <th>SC Vehicle Manufacturer Name</th>\n      <th>SC Vehicle Model Name</th>\n      <th>SVC Facility Name</th>\n      <th>SVC Facility Type</th>\n      <th>Tow Destination Name</th>\n    </tr>\n  </thead>\n  <tbody>\n    <tr>\n      <th>104625900</th>\n      <td>Y</td>\n      <td>NEW HAVEN</td>\n      <td>CT</td>\n      <td>NaN</td>\n      <td>NaN</td>\n      <td>NaN</td>\n      <td>NaN</td>\n      <td>Small or large multi-family w/apt number</td>\n      <td>NaN</td>\n      <td>NaN</td>\n      <td>NaN</td>\n      <td>NaN</td>\n      <td>NaN</td>\n      <td>NaN</td>\n      <td>NaN</td>\n      <td>NaN</td>\n      <td>NaN</td>\n      <td>NaN</td>\n      <td>NaN</td>\n      <td>NaN</td>\n      <td>NaN</td>\n      <td>NaN</td>\n      <td>NaN</td>\n      <td>NaN</td>\n      <td>NaN</td>\n      <td>NaN</td>\n      <td>NaN</td>\n      <td>NaN</td>\n      <td>NaN</td>\n      <td>NaN</td>\n      <td>NaN</td>\n      <td>NaN</td>\n      <td>NaN</td>\n      <td>NaN</td>\n      <td>NaN</td>\n      <td>NaN</td>\n      <td>NaN</td>\n      <td>NaN</td>\n      <td>NaN</td>\n      <td>NaN</td>\n      <td>NaN</td>\n      <td>NaN</td>\n      <td>NaN</td>\n      <td>NaN</td>\n      <td>NaN</td>\n      <td>NaN</td>\n      <td>NaN</td>\n    </tr>\n    <tr>\n      <th>45007910</th>\n      <td>Y</td>\n      <td>WEST WARWICK</td>\n      <td>RI</td>\n      <td>One Child</td>\n      <td>Caucasion / White - English</td>\n      <td>30-39,999</td>\n      <td>Some College</td>\n      <td>Small or large multi-family w/apt number</td>\n      <td>600-649</td>\n      <td>English</td>\n      <td>New Member</td>\n      <td>RI - WARWICK BRANCH</td>\n      <td>NaN</td>\n      <td>KENT</td>\n      <td>NaN</td>\n      <td>NaN</td>\n      <td>{41.696,-71.5308}</td>\n      <td>VoIP</td>\n      <td>ACTIVE</td>\n      <td>Primary</td>\n      <td>NaN</td>\n      <td>AUTO RENEW</td>\n      <td>Senior Discounts</td>\n      <td>Low Income Elders</td>\n      <td>Golden Year Guardians</td>\n      <td>NaN</td>\n      <td>NaN</td>\n      <td>NaN</td>\n      <td>NaN</td>\n      <td>{41,-71}</td>\n      <td>West Warwick</td>\n      <td>RI</td>\n      <td>2015-01-29 14:34:292015-09-25 16:26:14</td>\n      <td>Normal Service</td>\n      <td>Member Requests Battery Service</td>\n      <td>Member Requests Battery Service</td>\n      <td>N</td>\n      <td>Basic Membership</td>\n      <td>Battery Service</td>\n      <td>NaN</td>\n      <td>AAA Northeast</td>\n      <td>Normal Service</td>\n      <td>TOYOTA</td>\n      <td>CAMRY</td>\n      <td>ASTRO WRECKER SERVICEAstro Wrecker Service</td>\n      <td>independent repair</td>\n      <td>Aar / Johnson's Auto Service</td>\n    </tr>\n    <tr>\n      <th>43175160</th>\n      <td>Y</td>\n      <td>TIVERTON</td>\n      <td>RI</td>\n      <td>NaN</td>\n      <td>NaN</td>\n      <td>NaN</td>\n      <td>NaN</td>\n      <td>SFDU</td>\n      <td>NaN</td>\n      <td>NaN</td>\n      <td>Cancellation</td>\n      <td>RI - BARRINGTON BRANCH</td>\n      <td>Deceased</td>\n      <td>NEWPORT</td>\n      <td>NaN</td>\n      <td>NaN</td>\n      <td>{41.673,-71.1886}</td>\n      <td>NaN</td>\n      <td>CANCELLED</td>\n      <td>Primary</td>\n      <td>NaN</td>\n      <td>NOTICE</td>\n      <td>Aging in Place</td>\n      <td>Comfortable Retirement</td>\n      <td>Autumn Years</td>\n      <td>NaN</td>\n      <td>NaN</td>\n      <td>NaN</td>\n      <td>NaN</td>\n      <td>NaN</td>\n      <td>NaN</td>\n      <td>NaN</td>\n      <td>NaN</td>\n      <td>NaN</td>\n      <td>NaN</td>\n      <td>NaN</td>\n      <td>NaN</td>\n      <td>NaN</td>\n      <td>NaN</td>\n      <td>NaN</td>\n      <td>NaN</td>\n      <td>NaN</td>\n      <td>NaN</td>\n      <td>NaN</td>\n      <td>NaN</td>\n      <td>NaN</td>\n      <td>NaN</td>\n    </tr>\n  </tbody>\n</table>\n</div>"
     },
     "metadata": {},
     "execution_count": 24
    }
   ],
   "source": [
    "post_processed_string = post_processed_string.set_index('Household Key') # set index to be sorted as Household Key values\n",
    "\n",
    "post_processed_string.index = post_processed_string.index.astype(int) # converting the index to iterger\n",
    "\n",
    "post_processed_string.head(n=3)"
   ]
  },
  {
   "cell_type": "code",
   "execution_count": 25,
   "metadata": {},
   "outputs": [],
   "source": [
    "binary_categoricals = binary.groupby('Household Key').apply(lambda x: x.mode()) # grouping by the mode of each categorical per each Household Key"
   ]
  },
  {
   "cell_type": "code",
   "execution_count": 26,
   "metadata": {},
   "outputs": [
    {
     "output_type": "execute_result",
     "data": {
      "text/plain": "                 Household Key FSV CMSI Flag FSV Credit Card Flag  \\\nHousehold Key                                                       \n8750          0         8750.0             N                    N   \n9690          0         9690.0             N                    N   \n33380         0        33380.0             N                    N   \n87180         0        87180.0             N                    N   \n              1            NaN           NaN                  NaN   \n\n                FSV Deposit Program Flag FSV Home Equity Flag  \\\nHousehold Key                                                   \n8750          0                        N                    N   \n9690          0                        N                    N   \n33380         0                        N                    N   \n87180         0                        N                    N   \n              1                      NaN                  NaN   \n\n                FSV ID Theft Flag FSV Mortgage Flag INS Client Flag  \\\nHousehold Key                                                         \n8750          0                 N                 N               N   \n9690          0                 N                 N               N   \n33380         0                 N                 N               N   \n87180         0                 N                 N               N   \n              1               NaN               NaN             NaN   \n\n                TRV Globalware Flag Responded to Catalog Mail Responder  \\\nHousehold Key                                                             \n8750          0                   N                  NaN            NaN   \n9690          0                   N                  NaN            Yes   \n33380         0                   N                  NaN            Yes   \n87180         0                   N                  NaN            Yes   \n              1                   Y                  NaN            NaN   \n\n                 Home Owner Children Gender Bad Address Flag  \\\nHousehold Key                                                  \n8750          0         NaN      NaN    NaN                F   \n9690          0  Home Owner       No   Male                F   \n33380         0  Home Owner      Yes    NaN                F   \n87180         0  Home Owner       No   Male                F   \n              1         NaN      NaN    NaN              NaN   \n\n                Opt-Out - Publication New Mover Flag Occupant Type  \\\nHousehold Key                                                        \n8750          0                Opt-In              N        Renter   \n9690          0                Opt-In              N           NaN   \n33380         0                Opt-In              N           NaN   \n87180         0                Opt-In              N           NaN   \n              1                   NaN            NaN           NaN   \n\n                Call Canceled Call Killed Cash Call Fleet Indicator  \nHousehold Key                                                        \n8750          0             N           N         N               Y  \n9690          0             N           N         N               Y  \n33380         0           NaN         NaN       NaN             NaN  \n87180         0           NaN         NaN       NaN             NaN  \n              1           NaN         NaN       NaN             NaN  ",
      "text/html": "<div>\n<style scoped>\n    .dataframe tbody tr th:only-of-type {\n        vertical-align: middle;\n    }\n\n    .dataframe tbody tr th {\n        vertical-align: top;\n    }\n\n    .dataframe thead th {\n        text-align: right;\n    }\n</style>\n<table border=\"1\" class=\"dataframe\">\n  <thead>\n    <tr style=\"text-align: right;\">\n      <th></th>\n      <th></th>\n      <th>Household Key</th>\n      <th>FSV CMSI Flag</th>\n      <th>FSV Credit Card Flag</th>\n      <th>FSV Deposit Program Flag</th>\n      <th>FSV Home Equity Flag</th>\n      <th>FSV ID Theft Flag</th>\n      <th>FSV Mortgage Flag</th>\n      <th>INS Client Flag</th>\n      <th>TRV Globalware Flag</th>\n      <th>Responded to Catalog</th>\n      <th>Mail Responder</th>\n      <th>Home Owner</th>\n      <th>Children</th>\n      <th>Gender</th>\n      <th>Bad Address Flag</th>\n      <th>Opt-Out - Publication</th>\n      <th>New Mover Flag</th>\n      <th>Occupant Type</th>\n      <th>Call Canceled</th>\n      <th>Call Killed</th>\n      <th>Cash Call</th>\n      <th>Fleet Indicator</th>\n    </tr>\n    <tr>\n      <th>Household Key</th>\n      <th></th>\n      <th></th>\n      <th></th>\n      <th></th>\n      <th></th>\n      <th></th>\n      <th></th>\n      <th></th>\n      <th></th>\n      <th></th>\n      <th></th>\n      <th></th>\n      <th></th>\n      <th></th>\n      <th></th>\n      <th></th>\n      <th></th>\n      <th></th>\n      <th></th>\n      <th></th>\n      <th></th>\n      <th></th>\n      <th></th>\n    </tr>\n  </thead>\n  <tbody>\n    <tr>\n      <th>8750</th>\n      <th>0</th>\n      <td>8750.0</td>\n      <td>N</td>\n      <td>N</td>\n      <td>N</td>\n      <td>N</td>\n      <td>N</td>\n      <td>N</td>\n      <td>N</td>\n      <td>N</td>\n      <td>NaN</td>\n      <td>NaN</td>\n      <td>NaN</td>\n      <td>NaN</td>\n      <td>NaN</td>\n      <td>F</td>\n      <td>Opt-In</td>\n      <td>N</td>\n      <td>Renter</td>\n      <td>N</td>\n      <td>N</td>\n      <td>N</td>\n      <td>Y</td>\n    </tr>\n    <tr>\n      <th>9690</th>\n      <th>0</th>\n      <td>9690.0</td>\n      <td>N</td>\n      <td>N</td>\n      <td>N</td>\n      <td>N</td>\n      <td>N</td>\n      <td>N</td>\n      <td>N</td>\n      <td>N</td>\n      <td>NaN</td>\n      <td>Yes</td>\n      <td>Home Owner</td>\n      <td>No</td>\n      <td>Male</td>\n      <td>F</td>\n      <td>Opt-In</td>\n      <td>N</td>\n      <td>NaN</td>\n      <td>N</td>\n      <td>N</td>\n      <td>N</td>\n      <td>Y</td>\n    </tr>\n    <tr>\n      <th>33380</th>\n      <th>0</th>\n      <td>33380.0</td>\n      <td>N</td>\n      <td>N</td>\n      <td>N</td>\n      <td>N</td>\n      <td>N</td>\n      <td>N</td>\n      <td>N</td>\n      <td>N</td>\n      <td>NaN</td>\n      <td>Yes</td>\n      <td>Home Owner</td>\n      <td>Yes</td>\n      <td>NaN</td>\n      <td>F</td>\n      <td>Opt-In</td>\n      <td>N</td>\n      <td>NaN</td>\n      <td>NaN</td>\n      <td>NaN</td>\n      <td>NaN</td>\n      <td>NaN</td>\n    </tr>\n    <tr>\n      <th rowspan=\"2\" valign=\"top\">87180</th>\n      <th>0</th>\n      <td>87180.0</td>\n      <td>N</td>\n      <td>N</td>\n      <td>N</td>\n      <td>N</td>\n      <td>N</td>\n      <td>N</td>\n      <td>N</td>\n      <td>N</td>\n      <td>NaN</td>\n      <td>Yes</td>\n      <td>Home Owner</td>\n      <td>No</td>\n      <td>Male</td>\n      <td>F</td>\n      <td>Opt-In</td>\n      <td>N</td>\n      <td>NaN</td>\n      <td>NaN</td>\n      <td>NaN</td>\n      <td>NaN</td>\n      <td>NaN</td>\n    </tr>\n    <tr>\n      <th>1</th>\n      <td>NaN</td>\n      <td>NaN</td>\n      <td>NaN</td>\n      <td>NaN</td>\n      <td>NaN</td>\n      <td>NaN</td>\n      <td>NaN</td>\n      <td>NaN</td>\n      <td>Y</td>\n      <td>NaN</td>\n      <td>NaN</td>\n      <td>NaN</td>\n      <td>NaN</td>\n      <td>NaN</td>\n      <td>NaN</td>\n      <td>NaN</td>\n      <td>NaN</td>\n      <td>NaN</td>\n      <td>NaN</td>\n      <td>NaN</td>\n      <td>NaN</td>\n      <td>NaN</td>\n    </tr>\n  </tbody>\n</table>\n</div>"
     },
     "metadata": {},
     "execution_count": 26
    }
   ],
   "source": [
    "binary_categoricals.head(n=5) # by some reason, the groupby method by the mode of binary_categoricals columns returned a multi-index dataframe. Therefore, we need to remove the multi-index of this dataframe to move further our analysis"
   ]
  },
  {
   "cell_type": "code",
   "execution_count": 27,
   "metadata": {},
   "outputs": [],
   "source": [
    "post_processed_binary_categoricals = pd.DataFrame() # creating a new dataframe for the post processed string variable"
   ]
  },
  {
   "cell_type": "code",
   "execution_count": 28,
   "metadata": {},
   "outputs": [
    {
     "output_type": "display_data",
     "data": {
      "text/plain": "HBox(children=(FloatProgress(value=0.0, description='Process Progress', max=5241.0, style=ProgressStyle(descri…",
      "application/vnd.jupyter.widget-view+json": {
       "version_major": 2,
       "version_minor": 0,
       "model_id": "3057a59c6959402c9721e7b2efebe58c"
      }
     },
     "metadata": {}
    },
    {
     "output_type": "stream",
     "name": "stdout",
     "text": "\n"
    }
   ],
   "source": [
    "for house_id in tqdm_notebook(df_original['Household Key'].unique().tolist(), desc='Process Progress'): # iterating over all unique Household Keys\n",
    "\n",
    "    if len(binary_categoricals.loc[house_id].index.tolist()) > 1: # if, for a given Household Key, we have more then one multi-index value\n",
    "\n",
    "        result = binary_categoricals.loc[house_id].iloc[0] + binary_categoricals.loc[house_id].iloc[1] # we sum the first two rows\n",
    "\n",
    "        non_null_indexes = np.where(binary_categoricals.loc[house_id].iloc[1].isnull().tolist())[0] # we evaluate which of them were not null before the sum procedure\n",
    "\n",
    "        for i in np.where(binary_categoricals.loc[house_id].iloc[1].isnull().tolist())[0]: # we iterate over the indexes that were not null before the sum procedure\n",
    "\n",
    "            result[i] = binary_categoricals.loc[house_id].iloc[0][i] # we replace by the previous non null value\n",
    "\n",
    "        post_processed_binary_categoricals = pd.concat([post_processed_binary_categoricals, result.to_frame().T]) # and we store on our new dataframe\n",
    "\n",
    "    else: # if, for a given Household Key, we have only one multi-index value\n",
    "\n",
    "        result = binary_categoricals.loc[house_id].iloc[0] # we store it because we can not change it so far\n",
    "\n",
    "        post_processed_binary_categoricals = pd.concat([post_processed_binary_categoricals, result.to_frame().T]) # # and we store on our new dataframe"
   ]
  },
  {
   "cell_type": "code",
   "execution_count": 29,
   "metadata": {},
   "outputs": [
    {
     "output_type": "execute_result",
     "data": {
      "text/plain": "          FSV CMSI Flag FSV Credit Card Flag FSV Deposit Program Flag  \\\n104625900             N                    N                        N   \n45007910              N                    Y                        N   \n43175160              N                    N                        N   \n\n          FSV Home Equity Flag FSV ID Theft Flag FSV Mortgage Flag  \\\n104625900                    N                 N                 N   \n45007910                     N                 N                 N   \n43175160                     N                 N                 N   \n\n          INS Client Flag TRV Globalware Flag Responded to Catalog  \\\n104625900               N                   N                  NaN   \n45007910                N                   N                  NaN   \n43175160                N                   N                  NaN   \n\n          Mail Responder  Home Owner Children Gender Bad Address Flag  \\\n104625900            NaN         NaN      NaN   Male              NaN   \n45007910             Yes  Home Owner      Yes    NaN                F   \n43175160             NaN         NaN      NaN    NaN                F   \n\n          Opt-Out - Publication New Mover Flag Occupant Type Call Canceled  \\\n104625900                   NaN            NaN           NaN           NaN   \n45007910                 Opt-In              N           NaN             N   \n43175160                 Opt-In              N           NaN           NaN   \n\n          Call Killed Cash Call Fleet Indicator  \n104625900         NaN       NaN             NaN  \n45007910            N         N               N  \n43175160          NaN       NaN             NaN  ",
      "text/html": "<div>\n<style scoped>\n    .dataframe tbody tr th:only-of-type {\n        vertical-align: middle;\n    }\n\n    .dataframe tbody tr th {\n        vertical-align: top;\n    }\n\n    .dataframe thead th {\n        text-align: right;\n    }\n</style>\n<table border=\"1\" class=\"dataframe\">\n  <thead>\n    <tr style=\"text-align: right;\">\n      <th></th>\n      <th>FSV CMSI Flag</th>\n      <th>FSV Credit Card Flag</th>\n      <th>FSV Deposit Program Flag</th>\n      <th>FSV Home Equity Flag</th>\n      <th>FSV ID Theft Flag</th>\n      <th>FSV Mortgage Flag</th>\n      <th>INS Client Flag</th>\n      <th>TRV Globalware Flag</th>\n      <th>Responded to Catalog</th>\n      <th>Mail Responder</th>\n      <th>Home Owner</th>\n      <th>Children</th>\n      <th>Gender</th>\n      <th>Bad Address Flag</th>\n      <th>Opt-Out - Publication</th>\n      <th>New Mover Flag</th>\n      <th>Occupant Type</th>\n      <th>Call Canceled</th>\n      <th>Call Killed</th>\n      <th>Cash Call</th>\n      <th>Fleet Indicator</th>\n    </tr>\n  </thead>\n  <tbody>\n    <tr>\n      <th>104625900</th>\n      <td>N</td>\n      <td>N</td>\n      <td>N</td>\n      <td>N</td>\n      <td>N</td>\n      <td>N</td>\n      <td>N</td>\n      <td>N</td>\n      <td>NaN</td>\n      <td>NaN</td>\n      <td>NaN</td>\n      <td>NaN</td>\n      <td>Male</td>\n      <td>NaN</td>\n      <td>NaN</td>\n      <td>NaN</td>\n      <td>NaN</td>\n      <td>NaN</td>\n      <td>NaN</td>\n      <td>NaN</td>\n      <td>NaN</td>\n    </tr>\n    <tr>\n      <th>45007910</th>\n      <td>N</td>\n      <td>Y</td>\n      <td>N</td>\n      <td>N</td>\n      <td>N</td>\n      <td>N</td>\n      <td>N</td>\n      <td>N</td>\n      <td>NaN</td>\n      <td>Yes</td>\n      <td>Home Owner</td>\n      <td>Yes</td>\n      <td>NaN</td>\n      <td>F</td>\n      <td>Opt-In</td>\n      <td>N</td>\n      <td>NaN</td>\n      <td>N</td>\n      <td>N</td>\n      <td>N</td>\n      <td>N</td>\n    </tr>\n    <tr>\n      <th>43175160</th>\n      <td>N</td>\n      <td>N</td>\n      <td>N</td>\n      <td>N</td>\n      <td>N</td>\n      <td>N</td>\n      <td>N</td>\n      <td>N</td>\n      <td>NaN</td>\n      <td>NaN</td>\n      <td>NaN</td>\n      <td>NaN</td>\n      <td>NaN</td>\n      <td>F</td>\n      <td>Opt-In</td>\n      <td>N</td>\n      <td>NaN</td>\n      <td>NaN</td>\n      <td>NaN</td>\n      <td>NaN</td>\n      <td>NaN</td>\n    </tr>\n  </tbody>\n</table>\n</div>"
     },
     "metadata": {},
     "execution_count": 29
    }
   ],
   "source": [
    "post_processed_binary_categoricals = post_processed_binary_categoricals.set_index('Household Key') # set index to be sorted as Household Key values\n",
    "\n",
    "post_processed_binary_categoricals.index = post_processed_binary_categoricals.index.astype(int) # converting the index to iterger\n",
    "\n",
    "post_processed_binary_categoricals.head(n=3)"
   ]
  },
  {
   "cell_type": "code",
   "execution_count": 30,
   "metadata": {},
   "outputs": [
    {
     "output_type": "stream",
     "name": "stdout",
     "text": "5241 5241 5241 5241 5241\n"
    }
   ],
   "source": [
    "print(len(numericals.index), len(binary_numericals.index), len(post_processed_binary_categoricals.index), len(dates.index), len(post_processed_string.index)) # number of rows per type of variable"
   ]
  },
  {
   "cell_type": "code",
   "execution_count": 31,
   "metadata": {},
   "outputs": [
    {
     "output_type": "stream",
     "name": "stdout",
     "text": "27 7 21 9 47\n"
    }
   ],
   "source": [
    "print(len(numericals.columns), len(binary_numericals.columns), len(post_processed_binary_categoricals.columns), len(dates.columns), len(post_processed_string.columns)) # number of columns per type of variable"
   ]
  },
  {
   "cell_type": "markdown",
   "metadata": {},
   "source": [
    "## 3 - Evaluating number of null values"
   ]
  },
  {
   "cell_type": "code",
   "execution_count": 32,
   "metadata": {},
   "outputs": [],
   "source": [
    "columns_nullval_ratio = {} # dictionary of null values ration for all columns\n",
    "\n",
    "sequence = ['Numerical', 'Binary Numericals', 'Dates', 'Binary Categoricals', 'Strings'] # key sequence for dictionaries\n",
    "\n",
    "data_type_collection = [numericals, binary_numericals, dates, post_processed_binary_categoricals, post_processed_string] # list of dataframes per each data type\n",
    "\n",
    "for var_type, idx in zip(sequence, range(len(sequence))): \n",
    "\n",
    "    columns_nullval_ratio[var_type] = (data_type_collection[idx].isnull().sum() * 100 / len(data_type_collection[idx])).sort_values(ascending=False) # filling dataframe dictionary"
   ]
  },
  {
   "cell_type": "code",
   "execution_count": 33,
   "metadata": {},
   "outputs": [
    {
     "output_type": "stream",
     "name": "stdout",
     "text": "Numerical Column Null Values \n Dispatch Code2Description         100.000000\nTow Destination Longitude          38.847548\nTow Destination Latitude           38.847548\nCalculated Tow Miles               35.126884\nPremier Cost                       35.107804\nBasic Cost                         34.974242\nPlus Cost                          34.974242\nTotal Cost                         34.974242\nMember Number and Associate ID     34.936081\nRec ID                             34.936081\nLength Of Residence                31.081855\nMonths from Join to Cancel         28.963938\nERS Member Cost Year 2             15.264263\nERS ENT Count Year 1               15.264263\nERS ENT Count Year 2               15.264263\nERS ENT Count Year 3               15.264263\nERS Member Cost Year 1             15.264263\nERS Member Cost Year 3             15.264263\nMember Tenure Years                 0.019080\nRight_Individual Key                0.019080\nMember Key                          0.019080\nMember Number Associate ID          0.019080\nMembership ID                       0.019080\nZIP                                 0.019080\nZIP9                                0.000000\nZIP5                                0.000000\nIndividual Key                      0.000000\ndtype: float64 \n\nBinary Numericals Column Null Values \n Was Towed To AAR Referral     34.936081\nWas Duplicated                34.936081\nMember Match Flag             34.936081\nIs NSR                        34.936081\nIs Duplicate                  34.936081\nEmail Available                0.019080\nDo Not Direct Mail Solicit     0.019080\ndtype: float64 \n\nDates Column Null Values \n Reinstate Date            96.527380\nAddress Change Date       44.724289\nDate Of Birth             37.397443\nSC Date                   34.936081\nCancel Date               28.963938\nBirth Date MMDDYYYY        5.304331\nJoin Club Date             0.019080\nJoin AAA Date              0.019080\nActive Expiration Date     0.019080\ndtype: float64 \n\nBinary Categoricals Column Null Values \n Occupant Type               94.676588\nResponded to Catalog        93.436367\nGender                      49.284488\nFleet Indicator             35.145965\nCall Killed                 34.936081\nCall Canceled               34.936081\nCash Call                   34.936081\nHome Owner                  33.142530\nChildren                    31.081855\nMail Responder              31.081855\nBad Address Flag             0.019080\nOpt-Out - Publication        0.019080\nNew Mover Flag               0.019080\nTRV Globalware Flag          0.000000\nINS Client Flag              0.000000\nFSV Mortgage Flag            0.000000\nFSV ID Theft Flag            0.000000\nFSV Home Equity Flag         0.000000\nFSV Deposit Program Flag     0.000000\nFSV Credit Card Flag         0.000000\nFSV CMSI Flag                0.000000\ndtype: float64 \n\nStrings Column Null Values \n Prob2 Code Description            99.847357\nReason Joined                     96.870826\nMove Distance                     95.153597\nRight_Dwelling Type               94.027857\nTow Destination Name              66.265980\nRight_Gender                      65.369204\nOccupation Code                   49.303568\nOccupation Group                  49.303568\nSVC Facility Type                 35.947338\nMotorcycle Indicator              35.832856\nBreakdown Map Location            35.184125\nSVC Facility Name                 35.145965\nSC Vehicle Model Name             34.955161\nBreakdown State                   34.936081\nBreakdown City                    34.936081\nCall Status Recv Date             34.936081\nSC STS RSN Code Description       34.936081\nClearing Code Last Description    34.936081\nDispatch Code1 Description        34.936081\nDTL Prob1 Code Description        34.936081\nPlus Indicator Description        34.936081\nProb1 Code Description            34.936081\nSC Vehicle Manufacturer Name      34.936081\nSC Call Club Code Description     34.936081\nEmail Status                      33.085289\nIncome                            31.329899\nEducation                         31.081855\nCredit Ranges                     31.081855\nLanguage                          31.081855\nNumber of Children                31.081855\nRace                              31.081855\nMember Phone Type                 29.269223\nCancel Reason                     28.963938\nMosaic Global Household           28.029002\nMosaic Household                  28.029002\nkcl_B_IND_MosaicsGrouping         28.029002\nDwelling Type                     28.009922\nMember Map Location                0.190803\nCounty                             0.019080\nBranch Name                        0.019080\nBilling Code Description           0.019080\nMember Status                      0.019080\nMember Type                        0.019080\nRenew Method                       0.019080\nState - Grouped                    0.000000\nCity                               0.000000\nMember Flag                        0.000000\ndtype: float64 \n\n"
    }
   ],
   "source": [
    "for var_type in sequence:\n",
    "\n",
    "    print(var_type +' Column Null Values','\\n', columns_nullval_ratio[var_type], '\\n') # extensive print, beware"
   ]
  },
  {
   "cell_type": "markdown",
   "metadata": {},
   "source": [
    "    3.1 - Removing columns beyond given threshold"
   ]
  },
  {
   "source": [
    "            3.1.1 - First Checkpoint"
   ],
   "cell_type": "markdown",
   "metadata": {}
  },
  {
   "cell_type": "code",
   "execution_count": 34,
   "metadata": {},
   "outputs": [],
   "source": [
    "checkpoint_1 = {} # creating dictionary for the first checkpoint\n",
    "\n",
    "for var_type, idx in zip(sequence, range(len(sequence))): \n",
    "    checkpoint_1[var_type] = data_type_collection[idx].copy() # filling it with all types of dataframes"
   ]
  },
  {
   "cell_type": "markdown",
   "metadata": {},
   "source": [
    "            3.1.2 - Defining Column Threshold "
   ]
  },
  {
   "cell_type": "code",
   "execution_count": 35,
   "metadata": {},
   "outputs": [],
   "source": [
    "column_threshold = 40.0 # threshold of 40 %"
   ]
  },
  {
   "cell_type": "markdown",
   "metadata": {},
   "source": [
    "            3.1.3 - Defining the key for this operation"
   ]
  },
  {
   "cell_type": "code",
   "execution_count": 36,
   "metadata": {},
   "outputs": [],
   "source": [
    "key2 = str(column_threshold) + '% Column Threshold Column Removal' # key for our track removal dictionary\n",
    "\n",
    "removed_columns[key2] = [] # adding to the new key to the dictionary"
   ]
  },
  {
   "cell_type": "markdown",
   "metadata": {},
   "source": [
    "            3.1.4 - Performing Filtering"
   ]
  },
  {
   "cell_type": "code",
   "execution_count": 37,
   "metadata": {},
   "outputs": [
    {
     "output_type": "display_data",
     "data": {
      "text/plain": "HBox(children=(FloatProgress(value=0.0, description='Process Progress', max=112.0, style=ProgressStyle(descrip…",
      "application/vnd.jupyter.widget-view+json": {
       "version_major": 2,
       "version_minor": 0,
       "model_id": "109885ffc6404dceab7b6bc0a25d95f4"
      }
     },
     "metadata": {}
    },
    {
     "output_type": "stream",
     "name": "stdout",
     "text": "\nRemoved Columns after filtering process:  ['Responded to Catalog', 'Gender', 'Address Change Date', 'Right_Gender', 'Reason Joined', 'Reinstate Date', 'Right_Dwelling Type', 'Move Distance', 'Occupant Type', 'Dispatch Code2Description', 'Prob2 Code Description', 'Tow Destination Name']\n"
    }
   ],
   "source": [
    "for c in tqdm_notebook(df_original.columns, desc='Process Progress'): # for all columns on the original dataframe\n",
    "    for var_type in sequence: # for all type of separatable dataframe \n",
    "\n",
    "        if (c == 'Occupation Code') or (c == 'Occupation Group'): # we want to preserve these two columns although we already now they would not pass the column threshold limit\n",
    "            pass\n",
    "        \n",
    "        else:\n",
    "\n",
    "            if c in checkpoint_1[var_type].columns: # if the column is in the list of columns of the given type of dataframe\n",
    "\n",
    "                if columns_nullval_ratio[var_type][c] >= column_threshold: # we check if the same does not satisfies the threshold limit\n",
    "\n",
    "                    checkpoint_1[var_type].drop(columns=c, inplace=True) # in this case we remove the given column from the given type of dataframe\n",
    "                \n",
    "                    removed_columns[key2].append(c) # and we add its name to the list of removed columns\n",
    "\n",
    "print('Removed Columns after filtering process: ', removed_columns[key2])"
   ]
  },
  {
   "cell_type": "code",
   "execution_count": 38,
   "metadata": {},
   "outputs": [],
   "source": [
    "for var_type, idx in zip(sequence, range(len(sequence))): # lets check the result now\n",
    "\n",
    "    columns_nullval_ratio[var_type] = (checkpoint_1[var_type].isnull().sum() * 100 / len(checkpoint_1[var_type])).sort_values(ascending=False) # filling dataframe dictionary"
   ]
  },
  {
   "cell_type": "code",
   "execution_count": 39,
   "metadata": {},
   "outputs": [
    {
     "output_type": "error",
     "ename": "SyntaxError",
     "evalue": "unexpected EOF while parsing (<ipython-input-39-8d75f8b2c922>, line 3)",
     "traceback": [
      "\u001b[1;36m  File \u001b[1;32m\"<ipython-input-39-8d75f8b2c922>\"\u001b[1;36m, line \u001b[1;32m3\u001b[0m\n\u001b[1;33m    #print(var_type +' Column Null Values','\\n', columns_nullval_ratio[var_type], '\\n') # Nice! We have dropped the columns with a lot of null information that would make difficult for us to predict any of them\u001b[0m\n\u001b[1;37m                                                                                                                                                                                                                   ^\u001b[0m\n\u001b[1;31mSyntaxError\u001b[0m\u001b[1;31m:\u001b[0m unexpected EOF while parsing\n"
     ]
    }
   ],
   "source": [
    "for var_type in sequence:\n",
    "\n",
    "    #print(var_type +' Column Null Values','\\n', columns_nullval_ratio[var_type], '\\n') # Nice! We have dropped the columns with a lot of null information that would make difficult for us to predict any of them "
   ]
  },
  {
   "source": [
    "    3.2 - Removing rows (Household Keys) beyond given threshold"
   ],
   "cell_type": "markdown",
   "metadata": {}
  },
  {
   "source": [
    "        3.2.1 - Creating Key and Dictionary for this operation"
   ],
   "cell_type": "markdown",
   "metadata": {}
  },
  {
   "cell_type": "code",
   "execution_count": 40,
   "metadata": {},
   "outputs": [],
   "source": [
    "rows_nullval_ratio = {} # dictionary of null values ration for all columns\n",
    "\n",
    "for var_type in sequence: \n",
    "\n",
    "    rows_nullval_ratio[var_type] = (checkpoint_1[var_type].isnull().sum(axis=1).sort_values(ascending=False)) # filling dataframe dictionary"
   ]
  },
  {
   "cell_type": "code",
   "execution_count": 41,
   "metadata": {},
   "outputs": [
    {
     "output_type": "stream",
     "name": "stdout",
     "text": "\n Mean Number of Null values on Rows: 20.0\n"
    }
   ],
   "source": [
    "sum_num_null_rows = [] # list of sum of all null values per row\n",
    "\n",
    "for var_type in sequence:\n",
    "\n",
    "    sum_num_null_rows.append(round(rows_nullval_ratio[var_type].sum())) # filling list\n",
    "\n",
    "total_mean = round(sum(sum_num_null_rows)/len(rows_nullval_ratio['Numerical'].index.tolist())) # general mean of null values per row\n",
    "\n",
    "print('\\n','Mean Number of Null values on Rows:', total_mean) "
   ]
  },
  {
   "cell_type": "code",
   "execution_count": 42,
   "metadata": {},
   "outputs": [],
   "source": [
    "removed_rows = {}\n",
    "\n",
    "row_key1 = str(total_mean) + ' Number of Null per Row Threshold Removal' # key for our track removal dictionary\n",
    "\n",
    "removed_rows[row_key1] = [] # adding to the new key to the dictionary"
   ]
  },
  {
   "cell_type": "code",
   "execution_count": 43,
   "metadata": {},
   "outputs": [
    {
     "output_type": "display_data",
     "data": {
      "text/plain": "HBox(children=(FloatProgress(value=0.0, description='Process Progress', max=5241.0, style=ProgressStyle(descri…",
      "application/vnd.jupyter.widget-view+json": {
       "version_major": 2,
       "version_minor": 0,
       "model_id": "6dd86a738d4e4baa9356e0ccf79bd73f"
      }
     },
     "metadata": {}
    },
    {
     "output_type": "stream",
     "name": "stdout",
     "text": "\n"
    },
    {
     "output_type": "display_data",
     "data": {
      "text/plain": "HBox(children=(FloatProgress(value=0.0, description='Process Progress', max=4628.0, style=ProgressStyle(descri…",
      "application/vnd.jupyter.widget-view+json": {
       "version_major": 2,
       "version_minor": 0,
       "model_id": "11be7845c49842d280584aeb7e5e3b09"
      }
     },
     "metadata": {}
    },
    {
     "output_type": "stream",
     "name": "stdout",
     "text": "\n"
    },
    {
     "output_type": "display_data",
     "data": {
      "text/plain": "HBox(children=(FloatProgress(value=0.0, description='Process Progress', max=4628.0, style=ProgressStyle(descri…",
      "application/vnd.jupyter.widget-view+json": {
       "version_major": 2,
       "version_minor": 0,
       "model_id": "91b45cb81b8445f89c8807d69ee03387"
      }
     },
     "metadata": {}
    },
    {
     "output_type": "stream",
     "name": "stdout",
     "text": "\n"
    },
    {
     "output_type": "display_data",
     "data": {
      "text/plain": "HBox(children=(FloatProgress(value=0.0, description='Process Progress', max=4628.0, style=ProgressStyle(descri…",
      "application/vnd.jupyter.widget-view+json": {
       "version_major": 2,
       "version_minor": 0,
       "model_id": "3fc71e725db34cceb8e52123fbea0cb5"
      }
     },
     "metadata": {}
    },
    {
     "output_type": "stream",
     "name": "stdout",
     "text": "\n"
    },
    {
     "output_type": "display_data",
     "data": {
      "text/plain": "HBox(children=(FloatProgress(value=0.0, description='Process Progress', max=4628.0, style=ProgressStyle(descri…",
      "application/vnd.jupyter.widget-view+json": {
       "version_major": 2,
       "version_minor": 0,
       "model_id": "d7c43fbfdfac4899b32a7c0484b08fc8"
      }
     },
     "metadata": {}
    },
    {
     "output_type": "stream",
     "name": "stdout",
     "text": "\nRemoved Rows after filtering process:  [104625900, 104625900, 104625900, 104625900, 104625900, 104723190, 104723190, 104723190, 104723190, 104723190, 105175590, 105175590, 105175590, 105175590, 105175590, 105295450, 105295450, 105295450, 105295450, 105295450, 106235040, 106235040, 106235040, 106235040, 106235040, 106952010, 106952010, 106952010, 106952010, 106952010, 106977940, 106977940, 106977940, 106977940, 106977940, 107032760, 107032760, 107032760, 107032760, 107032760, 107067720, 107067720, 107067720, 107067720, 107067720, 107075450, 107075450, 107075450, 107075450, 107075450, 107075820, 107075820, 107075820, 107075820, 107075820, 107520870, 107520870, 107520870, 107520870, 107520870, 107529640, 107529640, 107529640, 107529640, 107529640, 107782370, 107782370, 107782370, 107782370, 107782370, 107836140, 107836140, 107836140, 107836140, 107836140, 108006640, 108006640, 108006640, 108006640, 108006640, 108502330, 108502330, 108502330, 108502330, 108502330, 108502350, 108502350, 108502350, 108502350, 108502350, 108619400, 108619400, 108619400, 108619400, 108619400, 108915970, 108915970, 108915970, 108915970, 108915970, 109160590, 109160590, 109160590, 109160590, 109160590, 109195960, 109195960, 109195960, 109195960, 109195960, 109815620, 109815620, 109815620, 109815620, 109815620, 109852700, 109852700, 109852700, 109852700, 109852700, 109854430, 109854430, 109854430, 109854430, 109854430, 109854680, 109854680, 109854680, 109854680, 109854680, 110224440, 110224440, 110224440, 110224440, 110224440, 110420250, 110420250, 110420250, 110420250, 110420250, 110687530, 110687530, 110687530, 110687530, 110687530, 110687860, 110687860, 110687860, 110687860, 110687860, 110887870, 110887870, 110887870, 110887870, 110887870, 110897890, 110897890, 110897890, 110897890, 110897890, 110931870, 110931870, 110931870, 110931870, 110931870, 111187520, 111187520, 111187520, 111187520, 111187520, 111187830, 111187830, 111187830, 111187830, 111187830, 111187900, 111187900, 111187900, 111187900, 111187900, 111237530, 111237530, 111237530, 111237530, 111237530, 111440140, 111440140, 111440140, 111440140, 111440140, 111482510, 111482510, 111482510, 111482510, 111482510, 111517320, 111517320, 111517320, 111517320, 111517320, 111775670, 111775670, 111775670, 111775670, 111775670, 111961100, 111961100, 111961100, 111961100, 111961100, 112576740, 112576740, 112576740, 112576740, 112576740, 112731950, 112731950, 112731950, 112731950, 112731950, 112773820, 112773820, 112773820, 112773820, 112773820, 112777450, 112777450, 112777450, 112777450, 112777450, 112928690, 112928690, 112928690, 112928690, 112928690, 113057630, 113057630, 113057630, 113057630, 113057630, 113067770, 113067770, 113067770, 113067770, 113067770, 113110960, 113110960, 113110960, 113110960, 113110960, 113365150, 113365150, 113365150, 113365150, 113365150, 113556290, 113556290, 113556290, 113556290, 113556290, 113568740, 113568740, 113568740, 113568740, 113568740, 113937420, 113937420, 113937420, 113937420, 113937420, 114013060, 114013060, 114013060, 114013060, 114013060, 114013090, 114013090, 114013090, 114013090, 114013090, 114023180, 114023180, 114023180, 114023180, 114023180, 114042080, 114042080, 114042080, 114042080, 114042080, 114275890, 114275890, 114275890, 114275890, 114275890, 114594120, 114594120, 114594120, 114594120, 114594120, 114940970, 114940970, 114940970, 114940970, 114940970, 115640600, 115640600, 115640600, 115640600, 115640600, 115658140, 115658140, 115658140, 115658140, 115658140, 115662540, 115662540, 115662540, 115662540, 115662540, 115752560, 115752560, 115752560, 115752560, 115752560, 115775190, 115775190, 115775190, 115775190, 115775190, 116155070, 116155070, 116155070, 116155070, 116155070, 116270290, 116270290, 116270290, 116270290, 116270290, 118302170, 118302170, 118302170, 118302170, 118302170, 118361570, 118361570, 118361570, 118361570, 118361570, 118569880, 118569880, 118569880, 118569880, 118569880, 118617080, 118617080, 118617080, 118617080, 118617080, 118670570, 118670570, 118670570, 118670570, 118670570, 118727840, 118727840, 118727840, 118727840, 118727840, 119190730, 119190730, 119190730, 119190730, 119190730, 119464760, 119464760, 119464760, 119464760, 119464760, 120026600, 120026600, 120026600, 120026600, 120026600, 120034380, 120034380, 120034380, 120034380, 120034380, 120195790, 120195790, 120195790, 120195790, 120195790, 120196910, 120196910, 120196910, 120196910, 120196910, 120302220, 120302220, 120302220, 120302220, 120302220, 120584200, 120584200, 120584200, 120584200, 120584200, 120584870, 120584870, 120584870, 120584870, 120584870, 120619680, 120619680, 120619680, 120619680, 120619680, 120775370, 120775370, 120775370, 120775370, 120775370, 120813280, 120813280, 120813280, 120813280, 120813280, 120813480, 120813480, 120813480, 120813480, 120813480, 120813540, 120813540, 120813540, 120813540, 120813540, 120813680, 120813680, 120813680, 120813680, 120813680, 120860430, 120860430, 120860430, 120860430, 120860430, 121122630, 121122630, 121122630, 121122630, 121122630, 121146250, 121146250, 121146250, 121146250, 121146250, 121274780, 121274780, 121274780, 121274780, 121274780, 121430710, 121430710, 121430710, 121430710, 121430710, 121443500, 121443500, 121443500, 121443500, 121443500, 121672000, 121672000, 121672000, 121672000, 121672000, 121710220, 121710220, 121710220, 121710220, 121710220, 121772530, 121772530, 121772530, 121772530, 121772530, 121907980, 121907980, 121907980, 121907980, 121907980, 121989600, 121989600, 121989600, 121989600, 121989600, 122095370, 122095370, 122095370, 122095370, 122095370, 122119870, 122119870, 122119870, 122119870, 122119870, 122224030, 122224030, 122224030, 122224030, 122224030, 122496060, 122496060, 122496060, 122496060, 122496060, 122689620, 122689620, 122689620, 122689620, 122689620, 122979990, 122979990, 122979990, 122979990, 122979990, 123086750, 123086750, 123086750, 123086750, 123086750, 123116710, 123116710, 123116710, 123116710, 123116710, 123208860, 123208860, 123208860, 123208860, 123208860, 123208920, 123208920, 123208920, 123208920, 123208920, 123475540, 123475540, 123475540, 123475540, 123475540, 123788700, 123788700, 123788700, 123788700, 123788700, 123881920, 123881920, 123881920, 123881920, 123881920, 123884910, 123884910, 123884910, 123884910, 123884910, 123938400, 123938400, 123938400, 123938400, 123938400, 123944520, 123944520, 123944520, 123944520, 123944520, 124286990, 124286990, 124286990, 124286990, 124286990, 124428220, 124428220, 124428220, 124428220, 124428220, 124456050, 124456050, 124456050, 124456050, 124456050, 124767830, 124767830, 124767830, 124767830, 124767830, 124783590, 124783590, 124783590, 124783590, 124783590, 124786230, 124786230, 124786230, 124786230, 124786230, 125049250, 125049250, 125049250, 125049250, 125049250, 125096670, 125096670, 125096670, 125096670, 125096670, 125098470, 125098470, 125098470, 125098470, 125098470, 125282980, 125282980, 125282980, 125282980, 125282980, 126407660, 126407660, 126407660, 126407660, 126407660, 126412680, 126412680, 126412680, 126412680, 126412680, 126762730, 126762730, 126762730, 126762730, 126762730, 127612100, 127612100, 127612100, 127612100, 127612100, 127853090, 127853090, 127853090, 127853090, 127853090, 128649050, 128649050, 128649050, 128649050, 128649050, 128683940, 128683940, 128683940, 128683940, 128683940, 129037170, 129037170, 129037170, 129037170, 129037170, 129047220, 129047220, 129047220, 129047220, 129047220, 129347560, 129347560, 129347560, 129347560, 129347560, 130015360, 130015360, 130015360, 130015360, 130015360, 130301690, 130301690, 130301690, 130301690, 130301690, 131095030, 131095030, 131095030, 131095030, 131095030, 131211280, 131211280, 131211280, 131211280, 131211280, 131213210, 131213210, 131213210, 131213210, 131213210, 131280530, 131280530, 131280530, 131280530, 131280530, 131349970, 131349970, 131349970, 131349970, 131349970, 131372040, 131372040, 131372040, 131372040, 131372040, 131626010, 131626010, 131626010, 131626010, 131626010, 131642270, 131642270, 131642270, 131642270, 131642270, 131668760, 131668760, 131668760, 131668760, 131668760, 131824380, 131824380, 131824380, 131824380, 131824380, 131894960, 131894960, 131894960, 131894960, 131894960, 132043950, 132043950, 132043950, 132043950, 132043950, 132163760, 132163760, 132163760, 132163760, 132163760, 132182010, 132182010, 132182010, 132182010, 132182010, 132206840, 132206840, 132206840, 132206840, 132206840, 132234670, 132234670, 132234670, 132234670, 132234670, 132434730, 132434730, 132434730, 132434730, 132434730, 132434860, 132434860, 132434860, 132434860, 132434860, 132434990, 132434990, 132434990, 132434990, 132434990, 132435580, 132435580, 132435580, 132435580, 132435580, 132670300, 132670300, 132670300, 132670300, 132670300, 132952220, 132952220, 132952220, 132952220, 132952220, 133033090, 133033090, 133033090, 133033090, 133033090, 133204210, 133204210, 133204210, 133204210, 133204210, 133292320, 133292320, 133292320, 133292320, 133292320, 133294910, 133294910, 133294910, 133294910, 133294910, 133415240, 133415240, 133415240, 133415240, 133415240, 133659390, 133659390, 133659390, 133659390, 133659390, 133683170, 133683170, 133683170, 133683170, 133683170, 133683360, 133683360, 133683360, 133683360, 133683360, 133714970, 133714970, 133714970, 133714970, 133714970, 133861740, 133861740, 133861740, 133861740, 133861740, 133979960, 133979960, 133979960, 133979960, 133979960, 134105870, 134105870, 134105870, 134105870, 134105870, 134700940, 134700940, 134700940, 134700940, 134700940, 134728010, 134728010, 134728010, 134728010, 134728010, 134730000, 134730000, 134730000, 134730000, 134730000, 134996410, 134996410, 134996410, 134996410, 134996410, 135057210, 135057210, 135057210, 135057210, 135057210, 135102930, 135102930, 135102930, 135102930, 135102930, 135249810, 135249810, 135249810, 135249810, 135249810, 135260800, 135260800, 135260800, 135260800, 135260800, 135277310, 135277310, 135277310, 135277310, 135277310, 135282480, 135282480, 135282480, 135282480, 135282480, 135470890, 135470890, 135470890, 135470890, 135470890, 135970580, 135970580, 135970580, 135970580, 135970580, 136076180, 136076180, 136076180, 136076180, 136076180, 136322820, 136322820, 136322820, 136322820, 136322820, 136757760, 136757760, 136757760, 136757760, 136757760, 136794830, 136794830, 136794830, 136794830, 136794830, 137087900, 137087900, 137087900, 137087900, 137087900, 137150920, 137150920, 137150920, 137150920, 137150920, 137282730, 137282730, 137282730, 137282730, 137282730, 137576720, 137576720, 137576720, 137576720, 137576720, 137791590, 137791590, 137791590, 137791590, 137791590, 137791890, 137791890, 137791890, 137791890, 137791890, 138044710, 138044710, 138044710, 138044710, 138044710, 138250720, 138250720, 138250720, 138250720, 138250720, 139515070, 139515070, 139515070, 139515070, 139515070, 140716490, 140716490, 140716490, 140716490, 140716490, 140988590, 140988590, 140988590, 140988590, 140988590, 141037850, 141037850, 141037850, 141037850, 141037850, 141043740, 141043740, 141043740, 141043740, 141043740, 141049940, 141049940, 141049940, 141049940, 141049940, 141050190, 141050190, 141050190, 141050190, 141050190, 141054240, 141054240, 141054240, 141054240, 141054240, 141819030, 141819030, 141819030, 141819030, 141819030, 141836930, 141836930, 141836930, 141836930, 141836930, 142302320, 142302320, 142302320, 142302320, 142302320, 142332860, 142332860, 142332860, 142332860, 142332860, 142393460, 142393460, 142393460, 142393460, 142393460, 142633750, 142633750, 142633750, 142633750, 142633750, 142664710, 142664710, 142664710, 142664710, 142664710, 142675220, 142675220, 142675220, 142675220, 142675220, 142781390, 142781390, 142781390, 142781390, 142781390, 143738160, 143738160, 143738160, 143738160, 143738160, 143789290, 143789290, 143789290, 143789290, 143789290, 143964070, 143964070, 143964070, 143964070, 143964070, 144111180, 144111180, 144111180, 144111180, 144111180, 144154740, 144154740, 144154740, 144154740, 144154740, 144796220, 144796220, 144796220, 144796220, 144796220, 144867970, 144867970, 144867970, 144867970, 144867970, 144907880, 144907880, 144907880, 144907880, 144907880, 145066610, 145066610, 145066610, 145066610, 145066610, 145185410, 145185410, 145185410, 145185410, 145185410, 145208150, 145208150, 145208150, 145208150, 145208150, 145241020, 145241020, 145241020, 145241020, 145241020, 145244080, 145244080, 145244080, 145244080, 145244080, 145512070, 145512070, 145512070, 145512070, 145512070, 145570900, 145570900, 145570900, 145570900, 145570900, 145817210, 145817210, 145817210, 145817210, 145817210, 145817460, 145817460, 145817460, 145817460, 145817460, 146031220, 146031220, 146031220, 146031220, 146031220, 146068000, 146068000, 146068000, 146068000, 146068000, 146141500, 146141500, 146141500, 146141500, 146141500, 146200570, 146200570, 146200570, 146200570, 146200570, 146235340, 146235340, 146235340, 146235340, 146235340, 146544030, 146544030, 146544030, 146544030, 146544030, 146564040, 146564040, 146564040, 146564040, 146564040, 146718710, 146718710, 146718710, 146718710, 146718710, 147058710, 147058710, 147058710, 147058710, 147058710, 147344270, 147344270, 147344270, 147344270, 147344270, 147585430, 147585430, 147585430, 147585430, 147585430, 147816860, 147816860, 147816860, 147816860, 147816860, 147901990, 147901990, 147901990, 147901990, 147901990, 148072200, 148072200, 148072200, 148072200, 148072200, 148074560, 148074560, 148074560, 148074560, 148074560, 148074710, 148074710, 148074710, 148074710, 148074710, 148353310, 148353310, 148353310, 148353310, 148353310, 148358230, 148358230, 148358230, 148358230, 148358230, 148411610, 148411610, 148411610, 148411610, 148411610, 148649490, 148649490, 148649490, 148649490, 148649490, 148770290, 148770290, 148770290, 148770290, 148770290, 149196770, 149196770, 149196770, 149196770, 149196770, 149202630, 149202630, 149202630, 149202630, 149202630, 149575170, 149575170, 149575170, 149575170, 149575170, 149619700, 149619700, 149619700, 149619700, 149619700, 149649840, 149649840, 149649840, 149649840, 149649840, 150009830, 150009830, 150009830, 150009830, 150009830, 150231890, 150231890, 150231890, 150231890, 150231890, 150497860, 150497860, 150497860, 150497860, 150497860, 150802620, 150802620, 150802620, 150802620, 150802620, 152457210, 152457210, 152457210, 152457210, 152457210, 152486960, 152486960, 152486960, 152486960, 152486960, 153161900, 153161900, 153161900, 153161900, 153161900, 153204640, 153204640, 153204640, 153204640, 153204640, 153299210, 153299210, 153299210, 153299210, 153299210, 153425870, 153425870, 153425870, 153425870, 153425870, 153640190, 153640190, 153640190, 153640190, 153640190, 153642860, 153642860, 153642860, 153642860, 153642860, 153811580, 153811580, 153811580, 153811580, 153811580, 153964170, 153964170, 153964170, 153964170, 153964170, 154421140, 154421140, 154421140, 154421140, 154421140, 154496880, 154496880, 154496880, 154496880, 154496880, 154561170, 154561170, 154561170, 154561170, 154561170, 154611570, 154611570, 154611570, 154611570, 154611570, 154866650, 154866650, 154866650, 154866650, 154866650, 155266460, 155266460, 155266460, 155266460, 155266460, 155279250, 155279250, 155279250, 155279250, 155279250, 155793530, 155793530, 155793530, 155793530, 155793530, 155870950, 155870950, 155870950, 155870950, 155870950, 155904090, 155904090, 155904090, 155904090, 155904090, 156037640, 156037640, 156037640, 156037640, 156037640, 156076000, 156076000, 156076000, 156076000, 156076000, 156448520, 156448520, 156448520, 156448520, 156448520, 156499420, 156499420, 156499420, 156499420, 156499420, 156739290, 156739290, 156739290, 156739290, 156739290, 156740450, 156740450, 156740450, 156740450, 156740450, 156877000, 156877000, 156877000, 156877000, 156877000, 157376380, 157376380, 157376380, 157376380, 157376380, 157767390, 157767390, 157767390, 157767390, 157767390, 157832490, 157832490, 157832490, 157832490, 157832490, 157968230, 157968230, 157968230, 157968230, 157968230, 158246780, 158246780, 158246780, 158246780, 158246780, 158610470, 158610470, 158610470, 158610470, 158610470, 158685040, 158685040, 158685040, 158685040, 158685040, 159167940, 159167940, 159167940, 159167940, 159167940, 159222370, 159222370, 159222370, 159222370, 159222370, 159439350, 159439350, 159439350, 159439350, 159439350, 159578140, 159578140, 159578140, 159578140, 159578140, 159994350, 159994350, 159994350, 159994350, 159994350, 160078020, 160078020, 160078020, 160078020, 160078020, 160215610, 160215610, 160215610, 160215610, 160215610, 160403720, 160403720, 160403720, 160403720, 160403720, 160847190, 160847190, 160847190, 160847190, 160847190, 161241250, 161241250, 161241250, 161241250, 161241250, 161477340, 161477340, 161477340, 161477340, 161477340, 162411360, 162411360, 162411360, 162411360, 162411360, 162417450, 162417450, 162417450, 162417450, 162417450, 163488430, 163488430, 163488430, 163488430, 163488430, 163489640, 163489640, 163489640, 163489640, 163489640, 163510210, 163510210, 163510210, 163510210, 163510210, 164100790, 164100790, 164100790, 164100790, 164100790, 164427930, 164427930, 164427930, 164427930, 164427930, 164809210, 164809210, 164809210, 164809210, 164809210, 164922330, 164922330, 164922330, 164922330, 164922330, 164923730, 164923730, 164923730, 164923730, 164923730, 165184600, 165184600, 165184600, 165184600, 165184600, 165401210, 165401210, 165401210, 165401210, 165401210, 165547710, 165547710, 165547710, 165547710, 165547710, 165577420, 165577420, 165577420, 165577420, 165577420, 166161990, 166161990, 166161990, 166161990, 166161990, 166482060, 166482060, 166482060, 166482060, 166482060, 166528460, 166528460, 166528460, 166528460, 166528460, 166854310, 166854310, 166854310, 166854310, 166854310, 166858230, 166858230, 166858230, 166858230, 166858230, 166858680, 166858680, 166858680, 166858680, 166858680, 166858720, 166858720, 166858720, 166858720, 166858720, 166859140, 166859140, 166859140, 166859140, 166859140, 166859380, 166859380, 166859380, 166859380, 166859380, 166859400, 166859400, 166859400, 166859400, 166859400, 166860080, 166860080, 166860080, 166860080, 166860080, 166860370, 166860370, 166860370, 166860370, 166860370, 167344790, 167344790, 167344790, 167344790, 167344790, 167463890, 167463890, 167463890, 167463890, 167463890, 167481090, 167481090, 167481090, 167481090, 167481090, 167768110, 167768110, 167768110, 167768110, 167768110, 167830980, 167830980, 167830980, 167830980, 167830980, 168167370, 168167370, 168167370, 168167370, 168167370, 168181240, 168181240, 168181240, 168181240, 168181240, 168261160, 168261160, 168261160, 168261160, 168261160, 168284660, 168284660, 168284660, 168284660, 168284660, 168295010, 168295010, 168295010, 168295010, 168295010, 168651990, 168651990, 168651990, 168651990, 168651990, 168691720, 168691720, 168691720, 168691720, 168691720, 168897300, 168897300, 168897300, 168897300, 168897300, 169101630, 169101630, 169101630, 169101630, 169101630, 169165360, 169165360, 169165360, 169165360, 169165360, 169985070, 169985070, 169985070, 169985070, 169985070, 170372800, 170372800, 170372800, 170372800, 170372800, 170679040, 170679040, 170679040, 170679040, 170679040, 170984760, 170984760, 170984760, 170984760, 170984760, 171038800, 171038800, 171038800, 171038800, 171038800, 171547440, 171547440, 171547440, 171547440, 171547440, 171668400, 171668400, 171668400, 171668400, 171668400, 171684930, 171684930, 171684930, 171684930, 171684930, 173057180, 173057180, 173057180, 173057180, 173057180, 173551480, 173551480, 173551480, 173551480, 173551480, 173559880, 173559880, 173559880, 173559880, 173559880, 174504150, 174504150, 174504150, 174504150, 174504150, 175026860, 175026860, 175026860, 175026860, 175026860, 175915200, 175915200, 175915200, 175915200, 175915200, 175915320, 175915320, 175915320, 175915320, 175915320, 176076660, 176076660, 176076660, 176076660, 176076660, 176449510, 176449510, 176449510, 176449510, 176449510, 176622310, 176622310, 176622310, 176622310, 176622310, 176881390, 176881390, 176881390, 176881390, 176881390, 176912640, 176912640, 176912640, 176912640, 176912640, 177004530, 177004530, 177004530, 177004530, 177004530, 177203390, 177203390, 177203390, 177203390, 177203390, 177211730, 177211730, 177211730, 177211730, 177211730, 177540480, 177540480, 177540480, 177540480, 177540480, 178097860, 178097860, 178097860, 178097860, 178097860, 178337960, 178337960, 178337960, 178337960, 178337960, 178631230, 178631230, 178631230, 178631230, 178631230, 179008780, 179008780, 179008780, 179008780, 179008780, 179299980, 179299980, 179299980, 179299980, 179299980, 179370680, 179370680, 179370680, 179370680, 179370680, 179481280, 179481280, 179481280, 179481280, 179481280, 179756770, 179756770, 179756770, 179756770, 179756770, 179813950, 179813950, 179813950, 179813950, 179813950, 180103290, 180103290, 180103290, 180103290, 180103290, 180517080, 180517080, 180517080, 180517080, 180517080, 180531860, 180531860, 180531860, 180531860, 180531860, 180573120, 180573120, 180573120, 180573120, 180573120, 180647470, 180647470, 180647470, 180647470, 180647470, 181138250, 181138250, 181138250, 181138250, 181138250, 181266420, 181266420, 181266420, 181266420, 181266420, 181381930, 181381930, 181381930, 181381930, 181381930, 181634710, 181634710, 181634710, 181634710, 181634710, 181851850, 181851850, 181851850, 181851850, 181851850, 182098450, 182098450, 182098450, 182098450, 182098450, 182101850, 182101850, 182101850, 182101850, 182101850, 182110110, 182110110, 182110110, 182110110, 182110110, 182587430, 182587430, 182587430, 182587430, 182587430, 182838380, 182838380, 182838380, 182838380, 182838380, 183411400, 183411400, 183411400, 183411400, 183411400, 183967640, 183967640, 183967640, 183967640, 183967640, 184027360, 184027360, 184027360, 184027360, 184027360, 184235970, 184235970, 184235970, 184235970, 184235970, 184622030, 184622030, 184622030, 184622030, 184622030, 184626100, 184626100, 184626100, 184626100, 184626100, 185411770, 185411770, 185411770, 185411770, 185411770, 185414770, 185414770, 185414770, 185414770, 185414770, 185428450, 185428450, 185428450, 185428450, 185428450, 185447300, 185447300, 185447300, 185447300, 185447300, 185862590, 185862590, 185862590, 185862590, 185862590, 187390240, 187390240, 187390240, 187390240, 187390240, 187509400, 187509400, 187509400, 187509400, 187509400, 187915770, 187915770, 187915770, 187915770, 187915770, 188208020, 188208020, 188208020, 188208020, 188208020, 188375550, 188375550, 188375550, 188375550, 188375550, 188608320, 188608320, 188608320, 188608320, 188608320, 188617470, 188617470, 188617470, 188617470, 188617470, 188676670, 188676670, 188676670, 188676670, 188676670, 188681090, 188681090, 188681090, 188681090, 188681090, 188719610, 188719610, 188719610, 188719610, 188719610, 189041680, 189041680, 189041680, 189041680, 189041680, 189050280, 189050280, 189050280, 189050280, 189050280, 189056950, 189056950, 189056950, 189056950, 189056950, 189398170, 189398170, 189398170, 189398170, 189398170, 189415440, 189415440, 189415440, 189415440, 189415440, 189514400, 189514400, 189514400, 189514400, 189514400, 190549110, 190549110, 190549110, 190549110, 190549110, 190549780, 190549780, 190549780, 190549780, 190549780, 190550960, 190550960, 190550960, 190550960, 190550960, 190554860, 190554860, 190554860, 190554860, 190554860, 190569860, 190569860, 190569860, 190569860, 190569860, 190920730, 190920730, 190920730, 190920730, 190920730, 191393150, 191393150, 191393150, 191393150, 191393150, 191580880, 191580880, 191580880, 191580880, 191580880, 191653130, 191653130, 191653130, 191653130, 191653130, 191674010, 191674010, 191674010, 191674010, 191674010, 192073450, 192073450, 192073450, 192073450, 192073450, 192257270, 192257270, 192257270, 192257270, 192257270, 192260810, 192260810, 192260810, 192260810, 192260810, 192307470, 192307470, 192307470, 192307470, 192307470, 192366440, 192366440, 192366440, 192366440, 192366440, 192425900, 192425900, 192425900, 192425900, 192425900, 192748400, 192748400, 192748400, 192748400, 192748400, 193368400, 193368400, 193368400, 193368400, 193368400, 193542330, 193542330, 193542330, 193542330, 193542330, 193542550, 193542550, 193542550, 193542550, 193542550, 193839060, 193839060, 193839060, 193839060, 193839060, 194202960, 194202960, 194202960, 194202960, 194202960, 194379140, 194379140, 194379140, 194379140, 194379140, 194465070, 194465070, 194465070, 194465070, 194465070, 194465860, 194465860, 194465860, 194465860, 194465860, 194826110, 194826110, 194826110, 194826110, 194826110, 194944960, 194944960, 194944960, 194944960, 194944960, 195077720, 195077720, 195077720, 195077720, 195077720, 195089500, 195089500, 195089500, 195089500, 195089500, 195460150, 195460150, 195460150, 195460150, 195460150, 195949220, 195949220, 195949220, 195949220, 195949220, 196004130, 196004130, 196004130, 196004130, 196004130, 196576370, 196576370, 196576370, 196576370, 196576370, 196798580, 196798580, 196798580, 196798580, 196798580, 198269120, 198269120, 198269120, 198269120, 198269120, 198404490, 198404490, 198404490, 198404490, 198404490, 199031600, 199031600, 199031600, 199031600, 199031600, 199175940, 199175940, 199175940, 199175940, 199175940, 199251080, 199251080, 199251080, 199251080, 199251080, 199427820, 199427820, 199427820, 199427820, 199427820, 199438920, 199438920, 199438920, 199438920, 199438920, 199913480, 199913480, 199913480, 199913480, 199913480, 200598910, 200598910, 200598910, 200598910, 200598910, 200699800, 200699800, 200699800, 200699800, 200699800, 200819240, 200819240, 200819240, 200819240, 200819240, 200962390, 200962390, 200962390, 200962390, 200962390, 201076520, 201076520, 201076520, 201076520, 201076520, 201322770, 201322770, 201322770, 201322770, 201322770, 201432170, 201432170, 201432170, 201432170, 201432170, 201457880, 201457880, 201457880, 201457880, 201457880, 201625720, 201625720, 201625720, 201625720, 201625720, 201677240, 201677240, 201677240, 201677240, 201677240, 202017080, 202017080, 202017080, 202017080, 202017080, 202211070, 202211070, 202211070, 202211070, 202211070, 202444190, 202444190, 202444190, 202444190, 202444190, 202492120, 202492120, 202492120, 202492120, 202492120, 202499460, 202499460, 202499460, 202499460, 202499460, 202513430, 202513430, 202513430, 202513430, 202513430, 202549120, 202549120, 202549120, 202549120, 202549120, 202610110, 202610110, 202610110, 202610110, 202610110, 203211250, 203211250, 203211250, 203211250, 203211250, 203325600, 203325600, 203325600, 203325600, 203325600, 203329290, 203329290, 203329290, 203329290, 203329290, 203341480, 203341480, 203341480, 203341480, 203341480, 203347990, 203347990, 203347990, 203347990, 203347990, 204014550, 204014550, 204014550, 204014550, 204014550, 204227650, 204227650, 204227650, 204227650, 204227650, 204239600, 204239600, 204239600, 204239600, 204239600, 204583680, 204583680, 204583680, 204583680, 204583680, 204642170, 204642170, 204642170, 204642170, 204642170, 204645890, 204645890, 204645890, 204645890, 204645890, 205096220, 205096220, 205096220, 205096220, 205096220, 205122510, 205122510, 205122510, 205122510, 205122510, 205136240, 205136240, 205136240, 205136240, 205136240, 205280680, 205280680, 205280680, 205280680, 205280680, 205436550, 205436550, 205436550, 205436550, 205436550, 205796780, 205796780, 205796780, 205796780, 205796780, 206285380, 206285380, 206285380, 206285380, 206285380, 206695790, 206695790, 206695790, 206695790, 206695790, 207029500, 207029500, 207029500, 207029500, 207029500, 249014820, 249014820, 249014820, 249014820, 249014820, 323391000, 323391000, 323391000, 323391000, 323391000, 375396480, 375396480, 375396480, 375396480, 375396480, 375409380, 375409380, 375409380, 375409380, 375409380, 375559560, 375559560, 375559560, 375559560, 375559560, 375598600, 375598600, 375598600, 375598600, 375598600, 375599230, 375599230, 375599230, 375599230, 375599230, 375610130, 375610130, 375610130, 375610130, 375610130, 375654320, 375654320, 375654320, 375654320, 375654320, 375654970, 375654970, 375654970, 375654970, 375654970, 375655770, 375655770, 375655770, 375655770, 375655770, 375687390, 375687390, 375687390, 375687390, 375687390, 375756140, 375756140, 375756140, 375756140, 375756140, 375767540, 375767540, 375767540, 375767540, 375767540, 375774790, 375774790, 375774790, 375774790, 375774790, 375781680, 375781680, 375781680, 375781680, 375781680, 375782360, 375782360, 375782360, 375782360, 375782360, 375848500, 375848500, 375848500, 375848500, 375848500, 375917320, 375917320, 375917320, 375917320, 375917320, 376016030, 376016030, 376016030, 376016030, 376016030, 376018440, 376018440, 376018440, 376018440, 376018440, 376116420, 376116420, 376116420, 376116420, 376116420, 376216880, 376216880, 376216880, 376216880, 376216880, 376312790, 376312790, 376312790, 376312790, 376312790, 376318070, 376318070, 376318070, 376318070, 376318070, 376335220, 376335220, 376335220, 376335220, 376335220, 376376670, 376376670, 376376670, 376376670, 376376670, 376378100, 376378100, 376378100, 376378100, 376378100, 376409400, 376409400, 376409400, 376409400, 376409400, 376989540, 376989540, 376989540, 376989540, 376989540, 377221300, 377221300, 377221300, 377221300, 377221300, 378868990, 378868990, 378868990, 378868990, 378868990, 379151450, 379151450, 379151450, 379151450, 379151450, 379865530, 379865530, 379865530, 379865530, 379865530, 381717800, 381717800, 381717800, 381717800, 381717800, 404828960, 404828960, 404828960, 404828960, 404828960, 405202960, 405202960, 405202960, 405202960, 405202960, 405892480, 405892480, 405892480, 405892480, 405892480, 406010550, 406010550, 406010550, 406010550, 406010550, 406282910, 406282910, 406282910, 406282910, 406282910, 406378740, 406378740, 406378740, 406378740, 406378740, 407090170, 407090170, 407090170, 407090170, 407090170, 407522560, 407522560, 407522560, 407522560, 407522560, 491617760, 491617760, 491617760, 491617760, 491617760, 492761870, 492761870, 492761870, 492761870, 492761870, 570361550, 570361550, 570361550, 570361550, 570361550, 631060220, 631060220, 631060220, 631060220, 631060220, 631339110, 631339110, 631339110, 631339110, 631339110, 631339120, 631339120, 631339120, 631339120, 631339120, 631618070, 631618070, 631618070, 631618070, 631618070, 631997490, 631997490, 631997490, 631997490, 631997490, 631997500, 631997500, 631997500, 631997500, 631997500, 638241120, 638241120, 638241120, 638241120, 638241120, 647493300, 647493300, 647493300, 647493300, 647493300, 708942080, 708942080, 708942080, 708942080, 708942080, 709373890, 709373890, 709373890, 709373890, 709373890, 721449110, 721449110, 721449110, 721449110, 721449110, 721539440, 721539440, 721539440, 721539440, 721539440, 722260040, 722260040, 722260040, 722260040, 722260040, 722261320, 722261320, 722261320, 722261320, 722261320, 722538310, 722538310, 722538310, 722538310, 722538310, 722562170, 722562170, 722562170, 722562170, 722562170, 725263980, 725263980, 725263980, 725263980, 725263980, 751492850, 751492850, 751492850, 751492850, 751492850, 752097710, 752097710, 752097710, 752097710, 752097710, 753245160, 753245160, 753245160, 753245160, 753245160, 753253630, 753253630, 753253630, 753253630, 753253630, 769747680, 769747680, 769747680, 769747680, 769747680, 770059170, 770059170, 770059170, 770059170, 770059170, 805777210, 805777210, 805777210, 805777210, 805777210, 829615860, 829615860, 829615860, 829615860, 829615860, 836019780, 836019780, 836019780, 836019780, 836019780, 850702030, 850702030, 850702030, 850702030, 850702030, 850875910, 850875910, 850875910, 850875910, 850875910, 851321170, 851321170, 851321170, 851321170, 851321170, 860356130, 860356130, 860356130, 860356130, 860356130, 867381830, 867381830, 867381830, 867381830, 867381830, 894655770, 894655770, 894655770, 894655770, 894655770, 901330200, 901330200, 901330200, 901330200, 901330200, 902490420, 902490420, 902490420, 902490420, 902490420, 918538610, 918538610, 918538610, 918538610, 918538610, 925206520, 925206520, 925206520, 925206520, 925206520, 931996200, 931996200, 931996200, 931996200, 931996200, 939622790, 939622790, 939622790, 939622790, 939622790, 939705470, 939705470, 939705470, 939705470, 939705470, 939877350, 939877350, 939877350, 939877350, 939877350, 941144050, 941144050, 941144050, 941144050, 941144050, 943519890, 943519890, 943519890, 943519890, 943519890, 946377040, 946377040, 946377040, 946377040, 946377040, 946798980, 946798980, 946798980, 946798980, 946798980, 947724410, 947724410, 947724410, 947724410, 947724410, 949310320, 949310320, 949310320, 949310320, 949310320, 950001890, 950001890, 950001890, 950001890, 950001890, 950117260, 950117260, 950117260, 950117260, 950117260, 951636630, 951636630, 951636630, 951636630, 951636630, 951658820, 951658820, 951658820, 951658820, 951658820, 951700410, 951700410, 951700410, 951700410, 951700410, 962930840, 962930840, 962930840, 962930840, 962930840, 966615930, 966615930, 966615930, 966615930, 966615930, 992876060, 992876060, 992876060, 992876060, 992876060, 993471040, 993471040, 993471040, 993471040, 993471040, 994192380, 994192380, 994192380, 994192380, 994192380, 996917100, 996917100, 996917100, 996917100, 996917100, 997254980, 997254980, 997254980, 997254980, 997254980, 997340610, 997340610, 997340610, 997340610, 997340610, 998173900, 998173900, 998173900, 998173900, 998173900, 998393010, 998393010, 998393010, 998393010, 998393010, 999914980, 999914980, 999914980, 999914980, 999914980, 1000044770, 1000044770, 1000044770, 1000044770, 1000044770, 1000227410, 1000227410, 1000227410, 1000227410, 1000227410, 1000232430, 1000232430, 1000232430, 1000232430, 1000232430, 1000358990, 1000358990, 1000358990, 1000358990, 1000358990, 43175160, 43175160, 43175160, 43175160, 43175160, 76836180, 76836180, 76836180, 76836180, 76836180, 7286510, 7286510, 7286510, 7286510, 7286510, 5741310, 5741310, 5741310, 5741310, 5741310, 77944990, 77944990, 77944990, 77944990, 77944990, 66157840, 66157840, 66157840, 66157840, 66157840, 43685810, 43685810, 43685810, 43685810, 43685810, 51861900, 51861900, 51861900, 51861900, 51861900, 12999800, 12999800, 12999800, 12999800, 12999800, 42310940, 42310940, 42310940, 42310940, 42310940, 69516790, 69516790, 69516790, 69516790, 69516790, 19976040, 19976040, 19976040, 19976040, 19976040, 102865620, 102865620, 102865620, 102865620, 102865620, 32683550, 32683550, 32683550, 32683550, 32683550, 52132720, 52132720, 52132720, 52132720, 52132720, 61934950, 61934950, 61934950, 61934950, 61934950, 56126550, 56126550, 56126550, 56126550, 56126550, 51285870, 51285870, 51285870, 51285870, 51285870, 70497340, 70497340, 70497340, 70497340, 70497340, 73412140, 73412140, 73412140, 73412140, 73412140, 61977240, 61977240, 61977240, 61977240, 61977240, 79029500, 79029500, 79029500, 79029500, 79029500, 77092010, 77092010, 77092010, 77092010, 77092010, 93715270, 93715270, 93715270, 93715270, 93715270, 40736200, 40736200, 40736200, 40736200, 40736200, 7875850, 7875850, 7875850, 7875850, 7875850, 99048610, 99048610, 99048610, 99048610, 99048610, 8741700, 8741700, 8741700, 8741700, 8741700, 5731550, 5731550, 5731550, 5731550, 5731550, 75332990, 75332990, 75332990, 75332990, 75332990, 65132040, 65132040, 65132040, 65132040, 65132040, 23170830, 23170830, 23170830, 23170830, 23170830, 92876110, 92876110, 92876110, 92876110, 92876110, 97128430, 97128430, 97128430, 97128430, 97128430, 65182780, 65182780, 65182780, 65182780, 65182780, 41970240, 41970240, 41970240, 41970240, 41970240, 5850580, 5850580, 5850580, 5850580, 5850580, 28253470, 28253470, 28253470, 28253470, 28253470, 949270, 949270, 949270, 949270, 949270, 40193850, 40193850, 40193850, 40193850, 40193850, 36560540, 36560540, 36560540, 36560540, 36560540, 101545220, 101545220, 101545220, 101545220, 101545220, 24751650, 24751650, 24751650, 24751650, 24751650, 85343050, 85343050, 85343050, 85343050, 85343050, 63981370, 63981370, 63981370, 63981370, 63981370, 96704770, 96704770, 96704770, 96704770, 96704770, 91027870, 91027870, 91027870, 91027870, 91027870, 26671820, 26671820, 26671820, 26671820, 26671820, 50446720, 50446720, 50446720, 50446720, 50446720, 97247810, 97247810, 97247810, 97247810, 97247810, 72518430, 72518430, 72518430, 72518430, 72518430, 10757200, 10757200, 10757200, 10757200, 10757200, 39126690, 39126690, 39126690, 39126690, 39126690, 88119240, 88119240, 88119240, 88119240, 88119240, 48228980, 48228980, 48228980, 48228980, 48228980, 90107920, 90107920, 90107920, 90107920, 90107920, 40715950, 40715950, 40715950, 40715950, 40715950, 84908220, 84908220, 84908220, 84908220, 84908220, 65882090, 65882090, 65882090, 65882090, 65882090, 90844950, 90844950, 90844950, 90844950, 90844950, 19191290, 19191290, 19191290, 19191290, 19191290, 55726710, 55726710, 55726710, 55726710, 55726710, 63725960, 63725960, 63725960, 63725960, 63725960, 34024400, 34024400, 34024400, 34024400, 34024400, 19191050, 19191050, 19191050, 19191050, 19191050, 11802370, 11802370, 11802370, 11802370, 11802370, 10720910, 10720910, 10720910, 10720910, 10720910, 9026710, 9026710, 9026710, 9026710, 9026710, 27768370, 27768370, 27768370, 27768370, 27768370, 52636440, 52636440, 52636440, 52636440, 52636440, 6877730, 6877730, 6877730, 6877730, 6877730, 86502330, 86502330, 86502330, 86502330, 86502330, 33630350, 33630350, 33630350, 33630350, 33630350, 54943660, 54943660, 54943660, 54943660, 54943660, 27966220, 27966220, 27966220, 27966220, 27966220, 11225220, 11225220, 11225220, 11225220, 11225220, 74111140, 74111140, 74111140, 74111140, 74111140, 56493970, 56493970, 56493970, 56493970, 56493970, 8578570, 8578570, 8578570, 8578570, 8578570, 63462330, 63462330, 63462330, 63462330, 63462330, 40851790, 40851790, 40851790, 40851790, 40851790, 11565470, 11565470, 11565470, 11565470, 11565470, 96956600, 96956600, 96956600, 96956600, 96956600, 67314120, 67314120, 67314120, 67314120, 67314120, 67314130, 67314130, 67314130, 67314130, 67314130, 50831980, 50831980, 50831980, 50831980, 50831980, 22472830, 22472830, 22472830, 22472830, 22472830, 5047910, 5047910, 5047910, 5047910, 5047910, 64326580, 64326580, 64326580, 64326580, 64326580, 62456470, 62456470, 62456470, 62456470, 62456470, 102540310, 102540310, 102540310, 102540310, 102540310, 89310530, 89310530, 89310530, 89310530, 89310530, 64620280, 64620280, 64620280, 64620280, 64620280, 13369500, 13369500, 13369500, 13369500, 13369500, 40088300, 40088300, 40088300, 40088300, 40088300, 28578630, 28578630, 28578630, 28578630, 28578630, 69207670, 69207670, 69207670, 69207670, 69207670, 98095030, 98095030, 98095030, 98095030, 98095030, 23702790, 23702790, 23702790, 23702790, 23702790, 60577550, 60577550, 60577550, 60577550, 60577550, 61201200, 61201200, 61201200, 61201200, 61201200, 58236690, 58236690, 58236690, 58236690, 58236690, 31698530, 31698530, 31698530, 31698530, 31698530, 7592550, 7592550, 7592550, 7592550, 7592550, 8252010, 8252010, 8252010, 8252010, 8252010, 54556410, 54556410, 54556410, 54556410, 54556410, 86758860, 86758860, 86758860, 86758860, 86758860, 101243020, 101243020, 101243020, 101243020, 101243020, 98112350, 98112350, 98112350, 98112350, 98112350, 69246850, 69246850, 69246850, 69246850, 69246850, 48192800, 48192800, 48192800, 48192800, 48192800, 88772140, 88772140, 88772140, 88772140, 88772140, 89593790, 89593790, 89593790, 89593790, 89593790, 73680750, 73680750, 73680750, 73680750, 73680750, 46306460, 46306460, 46306460, 46306460, 46306460, 37567140, 37567140, 37567140, 37567140, 37567140, 1153460, 1153460, 1153460, 1153460, 1153460, 85483630, 85483630, 85483630, 85483630, 85483630, 103300980, 103300980, 103300980, 103300980, 103300980, 1401850, 1401850, 1401850, 1401850, 1401850, 73161710, 73161710, 73161710, 73161710, 73161710, 4446260, 4446260, 4446260, 4446260, 4446260, 80317720, 80317720, 80317720, 80317720, 80317720, 21238970, 21238970, 21238970, 21238970, 21238970, 97275960, 97275960, 97275960, 97275960, 97275960, 77843730, 77843730, 77843730, 77843730, 77843730, 79261450, 79261450, 79261450, 79261450, 79261450, 5720570, 5720570, 5720570, 5720570, 5720570, 102368560, 102368560, 102368560, 102368560, 102368560, 78317980, 78317980, 78317980, 78317980, 78317980, 55500940, 55500940, 55500940, 55500940, 55500940, 92601980, 92601980, 92601980, 92601980, 92601980, 6512460, 6512460, 6512460, 6512460, 6512460, 52381840, 52381840, 52381840, 52381840, 52381840, 27770580, 27770580, 27770580, 27770580, 27770580, 79473520, 79473520, 79473520, 79473520, 79473520, 21256530, 21256530, 21256530, 21256530, 21256530, 253650, 253650, 253650, 253650, 253650, 19884740, 19884740, 19884740, 19884740, 19884740, 1797300, 1797300, 1797300, 1797300, 1797300, 92602010, 92602010, 92602010, 92602010, 92602010, 11765380, 11765380, 11765380, 11765380, 11765380, 20814580, 20814580, 20814580, 20814580, 20814580, 84563580, 84563580, 84563580, 84563580, 84563580, 72068620, 72068620, 72068620, 72068620, 72068620, 76824930, 76824930, 76824930, 76824930, 76824930, 7257850, 7257850, 7257850, 7257850, 7257850, 74423600, 74423600, 74423600, 74423600, 74423600, 29306440, 29306440, 29306440, 29306440, 29306440, 75263960, 75263960, 75263960, 75263960, 75263960, 51066460, 51066460, 51066460, 51066460, 51066460, 16539860, 16539860, 16539860, 16539860, 16539860, 13404370, 13404370, 13404370, 13404370, 13404370, 84836830, 84836830, 84836830, 84836830, 84836830, 41205580, 41205580, 41205580, 41205580, 41205580, 53395990, 53395990, 53395990, 53395990, 53395990, 51412960, 51412960, 51412960, 51412960, 51412960, 65512320, 65512320, 65512320, 65512320, 65512320, 53553230, 53553230, 53553230, 53553230, 53553230, 86010840, 86010840, 86010840, 86010840, 86010840, 12584050, 12584050, 12584050, 12584050, 12584050, 33527610, 33527610, 33527610, 33527610, 33527610, 31890790, 31890790, 31890790, 31890790, 31890790, 33309690, 33309690, 33309690, 33309690, 33309690, 36385920, 36385920, 36385920, 36385920, 36385920, 11362100, 11362100, 11362100, 11362100, 11362100, 9731290, 9731290, 9731290, 9731290, 9731290, 55057290, 55057290, 55057290, 55057290, 55057290, 35238430, 35238430, 35238430, 35238430, 35238430, 43595280, 43595280, 43595280, 43595280, 43595280, 24352010, 24352010, 24352010, 24352010, 24352010, 19191630, 19191630, 19191630, 19191630, 19191630, 56354950, 56354950, 56354950, 56354950, 56354950, 32877980, 32877980, 32877980, 32877980, 32877980, 84065310, 84065310, 84065310, 84065310, 84065310, 66041760, 66041760, 66041760, 66041760, 66041760, 68727410, 68727410, 68727410, 68727410, 68727410, 12303360, 12303360, 12303360, 12303360, 12303360, 92131370, 92131370, 92131370, 92131370, 92131370, 91288350, 91288350, 91288350, 91288350, 91288350, 7206200, 7206200, 7206200, 7206200, 7206200, 89213600, 89213600, 89213600, 89213600, 89213600, 33356960, 33356960, 33356960, 33356960, 33356960, 87551610, 87551610, 87551610, 87551610, 87551610, 41767060, 41767060, 41767060, 41767060, 41767060, 58869660, 58869660, 58869660, 58869660, 58869660, 86750260, 86750260, 86750260, 86750260, 86750260, 100700130, 100700130, 100700130, 100700130, 100700130, 24542630, 24542630, 24542630, 24542630, 24542630, 48292640, 48292640, 48292640, 48292640, 48292640, 55487320, 55487320, 55487320, 55487320, 55487320, 4614440, 4614440, 4614440, 4614440, 4614440, 37846630, 37846630, 37846630, 37846630, 37846630, 32700150, 32700150, 32700150, 32700150, 32700150, 67174840, 67174840, 67174840, 67174840, 67174840, 15954400, 15954400, 15954400, 15954400, 15954400, 84556880, 84556880, 84556880, 84556880, 84556880, 41607990, 41607990, 41607990, 41607990, 41607990, 62745680, 62745680, 62745680, 62745680, 62745680, 90911960, 90911960, 90911960, 90911960, 90911960, 19656250, 19656250, 19656250, 19656250, 19656250, 56125710, 56125710, 56125710, 56125710, 56125710, 73318890, 73318890, 73318890, 73318890, 73318890, 17780700, 17780700, 17780700, 17780700, 17780700, 75240850, 75240850, 75240850, 75240850, 75240850, 13835580, 13835580, 13835580, 13835580, 13835580, 17751480, 17751480, 17751480, 17751480, 17751480, 91027360, 91027360, 91027360, 91027360, 91027360, 88518200, 88518200, 88518200, 88518200, 88518200, 3530390, 3530390, 3530390, 3530390, 3530390, 61171040, 61171040, 61171040, 61171040, 61171040, 88704220, 88704220, 88704220, 88704220, 88704220, 82619370, 82619370, 82619370, 82619370, 82619370, 11678590, 11678590, 11678590, 11678590, 11678590, 29602910, 29602910, 29602910, 29602910, 29602910, 88824840, 88824840, 88824840, 88824840, 88824840, 78602920, 78602920, 78602920, 78602920, 78602920, 17471920, 17471920, 17471920, 17471920, 17471920, 91787220, 91787220, 91787220, 91787220, 91787220, 103166670, 103166670, 103166670, 103166670, 103166670, 66271280, 66271280, 66271280, 66271280, 66271280, 76961840, 76961840, 76961840, 76961840, 76961840, 63064280, 63064280, 63064280, 63064280, 63064280, 56514220, 56514220, 56514220, 56514220, 56514220, 92602200, 92602200, 92602200, 92602200, 92602200, 74466100, 74466100, 74466100, 74466100, 74466100, 96696140, 96696140, 96696140, 96696140, 96696140, 40064630, 40064630, 40064630, 40064630, 40064630, 60753470, 60753470, 60753470, 60753470, 60753470, 41420260, 41420260, 41420260, 41420260, 41420260, 78648550, 78648550, 78648550, 78648550, 78648550, 86017270, 86017270, 86017270, 86017270, 86017270, 40159770, 40159770, 40159770, 40159770, 40159770, 57527790, 57527790, 57527790, 57527790, 57527790, 52149980, 52149980, 52149980, 52149980, 52149980, 197470, 197470, 197470, 197470, 197470, 52197690, 52197690, 52197690, 52197690, 52197690, 66284320, 66284320, 66284320, 66284320, 66284320, 15082990, 15082990, 15082990, 15082990, 15082990, 72400090, 72400090, 72400090, 72400090, 72400090, 89549990, 89549990, 89549990, 89549990, 89549990, 23581500, 23581500, 23581500, 23581500, 23581500, 57134140, 57134140, 57134140, 57134140, 57134140, 30499040, 30499040, 30499040, 30499040, 30499040, 58490190, 58490190, 58490190, 58490190, 58490190, 6056510, 6056510, 6056510, 6056510, 6056510, 52251200, 52251200, 52251200, 52251200, 52251200, 11385140, 11385140, 11385140, 11385140, 11385140, 31922690, 31922690, 31922690, 31922690, 31922690, 73226570, 73226570, 73226570, 73226570, 73226570, 13021400, 13021400, 13021400, 13021400, 13021400, 25812530, 25812530, 25812530, 25812530, 25812530, 6206640, 6206640, 6206640, 6206640, 6206640, 22138190, 22138190, 22138190, 22138190, 22138190, 11719060, 11719060, 11719060, 11719060, 11719060, 26723950, 26723950, 26723950, 26723950, 26723950, 86016680, 86016680, 86016680, 86016680, 86016680, 65227330, 65227330, 65227330, 65227330, 65227330, 39914280, 39914280, 39914280, 39914280, 39914280, 32794310, 32794310, 32794310, 32794310, 32794310, 68100640, 68100640, 68100640, 68100640, 68100640, 84999560, 84999560, 84999560, 84999560, 84999560, 43518500, 43518500, 43518500, 43518500, 43518500, 51367650, 51367650, 51367650, 51367650, 51367650, 79743700, 79743700, 79743700, 79743700, 79743700, 86500350, 86500350, 86500350, 86500350, 86500350, 5670210, 5670210, 5670210, 5670210, 5670210, 10908170, 10908170, 10908170, 10908170, 10908170, 65082410, 65082410, 65082410, 65082410, 65082410, 38323690, 38323690, 38323690, 38323690, 38323690, 52915590, 52915590, 52915590, 52915590, 52915590, 29290940, 29290940, 29290940, 29290940, 29290940, 84089460, 84089460, 84089460, 84089460, 84089460, 74421360, 74421360, 74421360, 74421360, 74421360, 55561260, 55561260, 55561260, 55561260, 55561260, 6421500, 6421500, 6421500, 6421500, 6421500, 64250890, 64250890, 64250890, 64250890, 64250890, 69312440, 69312440, 69312440, 69312440, 69312440, 76835740, 76835740, 76835740, 76835740, 76835740, 7557600, 7557600, 7557600, 7557600, 7557600, 79000040, 79000040, 79000040, 79000040, 79000040, 90659960, 90659960, 90659960, 90659960, 90659960, 27445140, 27445140, 27445140, 27445140, 27445140, 63870280, 63870280, 63870280, 63870280, 63870280, 12310280, 12310280, 12310280, 12310280, 12310280, 104189820, 104189820, 104189820, 104189820, 104189820, 12988280, 12988280, 12988280, 12988280, 12988280, 208500, 208500, 208500, 208500, 208500, 67017260, 67017260, 67017260, 67017260, 67017260, 85547490, 85547490, 85547490, 85547490, 85547490, 34546830, 34546830, 34546830, 34546830, 34546830, 92297900, 92297900, 92297900, 92297900, 92297900, 58810810, 58810810, 58810810, 58810810, 58810810, 36326110, 36326110, 36326110, 36326110, 36326110, 36356330, 36356330, 36356330, 36356330, 36356330, 5151200, 5151200, 5151200, 5151200, 5151200, 85659680, 85659680, 85659680, 85659680, 85659680, 32544080, 32544080, 32544080, 32544080, 32544080, 39006010, 39006010, 39006010, 39006010, 39006010, 8170770, 8170770, 8170770, 8170770, 8170770, 29568130, 29568130, 29568130, 29568130, 29568130, 67555350, 67555350, 67555350, 67555350, 67555350, 4640180, 4640180, 4640180, 4640180, 4640180, 1956800, 1956800, 1956800, 1956800, 1956800, 5936080, 5936080, 5936080, 5936080, 5936080, 76149380, 76149380, 76149380, 76149380, 76149380, 16019330, 16019330, 16019330, 16019330, 16019330, 40183180, 40183180, 40183180, 40183180, 40183180, 88306090, 88306090, 88306090, 88306090, 88306090, 52867730, 52867730, 52867730, 52867730, 52867730, 1152890, 1152890, 1152890, 1152890, 1152890, 6951650, 6951650, 6951650, 6951650, 6951650, 41528500, 41528500, 41528500, 41528500, 41528500, 9902190, 9902190, 9902190, 9902190, 9902190, 59094350, 59094350, 59094350, 59094350, 59094350, 35238810, 35238810, 35238810, 35238810, 35238810, 44337950, 44337950, 44337950, 44337950, 44337950, 97997670, 97997670, 97997670, 97997670, 97997670, 64047000, 64047000, 64047000, 64047000, 64047000, 97026280, 97026280, 97026280, 97026280, 97026280, 35197240, 35197240, 35197240, 35197240, 35197240, 39130110, 39130110, 39130110, 39130110, 39130110, 58501040, 58501040, 58501040, 58501040, 58501040, 87045930, 87045930, 87045930, 87045930, 87045930, 68190760, 68190760, 68190760, 68190760, 68190760, 42939060, 42939060, 42939060, 42939060, 42939060, 65197280, 65197280, 65197280, 65197280, 65197280, 50720420, 50720420, 50720420, 50720420, 50720420, 5651830, 5651830, 5651830, 5651830, 5651830, 88977430, 88977430, 88977430, 88977430, 88977430, 8276440, 8276440, 8276440, 8276440, 8276440, 103551230, 103551230, 103551230, 103551230, 103551230, 89274750, 89274750, 89274750, 89274750, 89274750, 104241360, 104241360, 104241360, 104241360, 104241360, 42530780, 42530780, 42530780, 42530780, 42530780, 64589460, 64589460, 64589460, 64589460, 64589460, 69163590, 69163590, 69163590, 69163590, 69163590, 67898660, 67898660, 67898660, 67898660, 67898660, 97783620, 97783620, 97783620, 97783620, 97783620, 46706460, 46706460, 46706460, 46706460, 46706460, 2956820, 2956820, 2956820, 2956820, 2956820, 60405070, 60405070, 60405070, 60405070, 60405070, 11359820, 11359820, 11359820, 11359820, 11359820, 36426240, 36426240, 36426240, 36426240, 36426240, 72750290, 72750290, 72750290, 72750290, 72750290, 78125260, 78125260, 78125260, 78125260, 78125260, 10564260, 10564260, 10564260, 10564260, 10564260, 35601260, 35601260, 35601260, 35601260, 35601260, 37841890, 37841890, 37841890, 37841890, 37841890, 49836780, 49836780, 49836780, 49836780, 49836780, 33358400, 33358400, 33358400, 33358400, 33358400, 79020020, 79020020, 79020020, 79020020, 79020020, 77848790, 77848790, 77848790, 77848790, 77848790, 54008410, 54008410, 54008410, 54008410, 54008410, 60560560, 60560560, 60560560, 60560560, 60560560, 90060300, 90060300, 90060300, 90060300, 90060300, 80207530, 80207530, 80207530, 80207530, 80207530, 96710850, 96710850, 96710850, 96710850, 96710850, 64697780, 64697780, 64697780, 64697780, 64697780, 10260010, 10260010, 10260010, 10260010, 10260010, 23318090, 23318090, 23318090, 23318090, 23318090, 25847130, 25847130, 25847130, 25847130, 25847130, 97762240, 97762240, 97762240, 97762240, 97762240, 41391430, 41391430, 41391430, 41391430, 41391430, 52932750, 52932750, 52932750, 52932750, 52932750, 25834620, 25834620, 25834620, 25834620, 25834620, 35307660, 35307660, 35307660, 35307660, 35307660, 31980540, 31980540, 31980540, 31980540, 31980540, 6056450, 6056450, 6056450, 6056450, 6056450, 2686980, 2686980, 2686980, 2686980, 2686980, 6241590, 6241590, 6241590, 6241590, 6241590, 36428130, 36428130, 36428130, 36428130, 36428130, 10845510, 10845510, 10845510, 10845510, 10845510, 7514050, 7514050, 7514050, 7514050, 7514050, 42046360, 42046360, 42046360, 42046360, 42046360, 15885610, 15885610, 15885610, 15885610, 15885610, 81411160, 81411160, 81411160, 81411160, 81411160, 45982380, 45982380, 45982380, 45982380, 45982380, 77543310, 77543310, 77543310, 77543310, 77543310, 87614090, 87614090, 87614090, 87614090, 87614090, 5073770, 5073770, 5073770, 5073770, 5073770, 74080240, 74080240, 74080240, 74080240, 74080240, 57681660, 57681660, 57681660, 57681660, 57681660, 90902130, 90902130, 90902130, 90902130, 90902130, 75495050, 75495050, 75495050, 75495050, 75495050, 74770140, 74770140, 74770140, 74770140, 74770140, 42664230, 42664230, 42664230, 42664230, 42664230, 32594140, 32594140, 32594140, 32594140, 32594140, 73894810, 73894810, 73894810, 73894810, 73894810, 26643700, 26643700, 26643700, 26643700, 26643700, 97416850, 97416850, 97416850, 97416850, 97416850, 9838480, 9838480, 9838480, 9838480, 9838480, 23875600, 23875600, 23875600, 23875600, 23875600, 98231090, 98231090, 98231090, 98231090, 98231090, 30524320, 30524320, 30524320, 30524320, 30524320, 8296830, 8296830, 8296830, 8296830, 8296830, 78743060, 78743060, 78743060, 78743060, 78743060, 87212420, 87212420, 87212420, 87212420, 87212420, 70985200, 70985200, 70985200, 70985200, 70985200, 2954970, 2954970, 2954970, 2954970, 2954970, 7315390, 7315390, 7315390, 7315390, 7315390, 2968010, 2968010, 2968010, 2968010, 2968010, 44005110, 44005110, 44005110, 44005110, 44005110, 6929300, 6929300, 6929300, 6929300, 6929300, 60567810, 60567810, 60567810, 60567810, 60567810, 31114860, 31114860, 31114860, 31114860, 31114860, 65263470, 65263470, 65263470, 65263470, 65263470, 86690240, 86690240, 86690240, 86690240, 86690240, 5206820, 5206820, 5206820, 5206820, 5206820, 50351980, 50351980, 50351980, 50351980, 50351980, 96971960, 96971960, 96971960, 96971960, 96971960, 89886370, 89886370, 89886370, 89886370, 89886370, 72435120, 72435120, 72435120, 72435120, 72435120, 94565350, 94565350, 94565350, 94565350, 94565350, 96973550, 96973550, 96973550, 96973550, 96973550, 102935300, 102935300, 102935300, 102935300, 102935300, 3836860, 3836860, 3836860, 3836860, 3836860, 35168680, 35168680, 35168680, 35168680, 35168680, 3842460, 3842460, 3842460, 3842460, 3842460, 42037960, 42037960, 42037960, 42037960, 42037960, 19907710, 19907710, 19907710, 19907710, 19907710, 53621470, 53621470, 53621470, 53621470, 53621470, 77843340, 77843340, 77843340, 77843340, 77843340, 34989970, 34989970, 34989970, 34989970, 34989970, 31631010, 31631010, 31631010, 31631010, 31631010, 21600050, 21600050, 21600050, 21600050, 21600050, 24011320, 24011320, 24011320, 24011320, 24011320, 18715690, 18715690, 18715690, 18715690, 18715690, 31191760, 31191760, 31191760, 31191760, 31191760, 12991440, 12991440, 12991440, 12991440, 12991440, 92155010, 92155010, 92155010, 92155010, 92155010, 74215700, 74215700, 74215700, 74215700, 74215700, 97190650, 97190650, 97190650, 97190650, 97190650, 85645840, 85645840, 85645840, 85645840, 85645840, 66789260, 66789260, 66789260, 66789260, 66789260, 100422770, 100422770, 100422770, 100422770, 100422770, 33054780, 33054780, 33054780, 33054780, 33054780, 6240670, 6240670, 6240670, 6240670, 6240670, 47412410, 47412410, 47412410, 47412410, 47412410, 11481130, 11481130, 11481130, 11481130, 11481130, 72640290, 72640290, 72640290, 72640290, 72640290, 97150240, 97150240, 97150240, 97150240, 97150240, 92012080, 92012080, 92012080, 92012080, 92012080, 55550990, 55550990, 55550990, 55550990, 55550990, 11714130, 11714130, 11714130, 11714130, 11714130, 65879570, 65879570, 65879570, 65879570, 65879570, 6580140, 6580140, 6580140, 6580140, 6580140, 102650970, 102650970, 102650970, 102650970, 102650970, 52193880, 52193880, 52193880, 52193880, 52193880, 97272610, 97272610, 97272610, 97272610, 97272610, 50440040, 50440040, 50440040, 50440040, 50440040, 50253230, 50253230, 50253230, 50253230, 50253230, 85941690, 85941690, 85941690, 85941690, 85941690, 34990250, 34990250, 34990250, 34990250, 34990250, 9218710, 9218710, 9218710, 9218710, 9218710, 62546220, 62546220, 62546220, 62546220, 62546220, 55277950, 55277950, 55277950, 55277950, 55277950, 9591770, 9591770, 9591770, 9591770, 9591770, 30525920, 30525920, 30525920, 30525920, 30525920, 95061270, 95061270, 95061270, 95061270, 95061270, 91663450, 91663450, 91663450, 91663450, 91663450, 7822110, 7822110, 7822110, 7822110, 7822110, 32875330, 32875330, 32875330, 32875330, 32875330, 66124170, 66124170, 66124170, 66124170, 66124170, 16885790, 16885790, 16885790, 16885790, 16885790, 13846690, 13846690, 13846690, 13846690, 13846690, 19902230, 19902230, 19902230, 19902230, 19902230, 15594740, 15594740, 15594740, 15594740, 15594740, 6434410, 6434410, 6434410, 6434410, 6434410, 48242360, 48242360, 48242360, 48242360, 48242360, 86690000, 86690000, 86690000, 86690000, 86690000, 14957830, 14957830, 14957830, 14957830, 14957830, 92594960, 92594960, 92594960, 92594960, 92594960, 85761600, 85761600, 85761600, 85761600, 85761600, 53684650, 53684650, 53684650, 53684650, 53684650, 73411920, 73411920, 73411920, 73411920, 73411920, 102832410, 102832410, 102832410, 102832410, 102832410, 78651720, 78651720, 78651720, 78651720, 78651720, 36368130, 36368130, 36368130, 36368130, 36368130, 19589830, 19589830, 19589830, 19589830, 19589830, 6877320, 6877320, 6877320, 6877320, 6877320, 26626170, 26626170, 26626170, 26626170, 26626170, 5671630, 5671630, 5671630, 5671630, 5671630, 98763110, 98763110, 98763110, 98763110, 98763110, 4361900, 4361900, 4361900, 4361900, 4361900, 54580700, 54580700, 54580700, 54580700, 54580700, 85382170, 85382170, 85382170, 85382170, 85382170, 3828020, 3828020, 3828020, 3828020, 3828020, 36359730, 36359730, 36359730, 36359730, 36359730, 49644670, 49644670, 49644670, 49644670, 49644670, 100521630, 100521630, 100521630, 100521630, 100521630, 4325460, 4325460, 4325460, 4325460, 4325460, 73886150, 73886150, 73886150, 73886150, 73886150, 99403870, 99403870, 99403870, 99403870, 99403870, 64330960, 64330960, 64330960, 64330960, 64330960, 16891730, 16891730, 16891730, 16891730, 16891730, 74397790, 74397790, 74397790, 74397790, 74397790, 76064770, 76064770, 76064770, 76064770, 76064770, 18941900, 18941900, 18941900, 18941900, 18941900, 43965580, 43965580, 43965580, 43965580, 43965580, 101103480, 101103480, 101103480, 101103480, 101103480, 42678300, 42678300, 42678300, 42678300, 42678300, 56055040, 56055040, 56055040, 56055040, 56055040, 24369120, 24369120, 24369120, 24369120, 24369120, 75224770, 75224770, 75224770, 75224770, 75224770, 2977460, 2977460, 2977460, 2977460, 2977460, 97968290, 97968290, 97968290, 97968290, 97968290, 25118560, 25118560, 25118560, 25118560, 25118560, 43087480, 43087480, 43087480, 43087480, 43087480, 90911970, 90911970, 90911970, 90911970, 90911970, 98514010, 98514010, 98514010, 98514010, 98514010, 9255290, 9255290, 9255290, 9255290, 9255290, 7021180, 7021180, 7021180, 7021180, 7021180, 51018940, 51018940, 51018940, 51018940, 51018940, 78331910, 78331910, 78331910, 78331910, 78331910, 374680, 374680, 374680, 374680, 374680, 8672220, 8672220, 8672220, 8672220, 8672220, 52035380, 52035380, 52035380, 52035380, 52035380, 87511860, 87511860, 87511860, 87511860, 87511860, 6035520, 6035520, 6035520, 6035520, 6035520, 8693330, 8693330, 8693330, 8693330, 8693330, 28840590, 28840590, 28840590, 28840590, 28840590, 63863350, 63863350, 63863350, 63863350, 63863350, 67328010, 67328010, 67328010, 67328010, 67328010, 32382200, 32382200, 32382200, 32382200, 32382200, 73412200, 73412200, 73412200, 73412200, 73412200, 41420670, 41420670, 41420670, 41420670, 41420670, 40791300, 40791300, 40791300, 40791300, 40791300, 33380, 33380, 33380, 33380, 33380, 41607640, 41607640, 41607640, 41607640, 41607640, 21553440, 21553440, 21553440, 21553440, 21553440, 12992000, 12992000, 12992000, 12992000, 12992000, 98513960, 98513960, 98513960, 98513960, 98513960, 57769300, 57769300, 57769300, 57769300, 57769300, 70284580, 70284580, 70284580, 70284580, 70284580, 11381490, 11381490, 11381490, 11381490, 11381490, 83447250, 83447250, 83447250, 83447250, 83447250, 10541530, 10541530, 10541530, 10541530, 10541530, 79896310, 79896310, 79896310, 79896310, 79896310, 100575350, 100575350, 100575350, 100575350, 100575350, 72291150, 72291150, 72291150, 72291150, 72291150, 13855080, 13855080, 13855080, 13855080, 13855080, 67632540, 67632540, 67632540, 67632540, 67632540, 10588820, 10588820, 10588820, 10588820, 10588820, 87993230, 87993230, 87993230, 87993230, 87993230, 13836270, 13836270, 13836270, 13836270, 13836270, 85748580, 85748580, 85748580, 85748580, 85748580, 7238790, 7238790, 7238790, 7238790, 7238790, 102084200, 102084200, 102084200, 102084200, 102084200, 3253520, 3253520, 3253520, 3253520, 3253520, 6035540, 6035540, 6035540, 6035540, 6035540, 61162930, 61162930, 61162930, 61162930, 61162930, 94523460, 94523460, 94523460, 94523460, 94523460, 2690970, 2690970, 2690970, 2690970, 2690970, 10582000, 10582000, 10582000, 10582000, 10582000, 71991450, 71991450, 71991450, 71991450, 71991450, 101701600, 101701600, 101701600, 101701600, 101701600, 23289550, 23289550, 23289550, 23289550, 23289550, 20864950, 20864950, 20864950, 20864950, 20864950, 43694240, 43694240, 43694240, 43694240, 43694240, 75098370, 75098370, 75098370, 75098370, 75098370, 39666890, 39666890, 39666890, 39666890, 39666890, 96945990, 96945990, 96945990, 96945990, 96945990, 73647450, 73647450, 73647450, 73647450, 73647450, 75201710, 75201710, 75201710, 75201710, 75201710, 11769110, 11769110, 11769110, 11769110, 11769110, 56437780, 56437780, 56437780, 56437780, 56437780, 32767810, 32767810, 32767810, 32767810, 32767810, 45967820, 45967820, 45967820, 45967820, 45967820, 3863690, 3863690, 3863690, 3863690, 3863690, 75040680, 75040680, 75040680, 75040680, 75040680, 30152020, 30152020, 30152020, 30152020, 30152020, 45587890, 45587890, 45587890, 45587890, 45587890, 25904440, 25904440, 25904440, 25904440, 25904440, 88410190, 88410190, 88410190, 88410190, 88410190, 85769860, 85769860, 85769860, 85769860, 85769860, 41458640, 41458640, 41458640, 41458640, 41458640, 13849030, 13849030, 13849030, 13849030, 13849030, 10283950, 10283950, 10283950, 10283950, 10283950, 57596710, 57596710, 57596710, 57596710, 57596710, 3830820, 3830820, 3830820, 3830820, 3830820, 8544800, 8544800, 8544800, 8544800, 8544800, 77886540, 77886540, 77886540, 77886540, 77886540, 25847150, 25847150, 25847150, 25847150, 25847150, 25847250, 25847250, 25847250, 25847250, 25847250, 17304210, 17304210, 17304210, 17304210, 17304210, 45087910, 45087910, 45087910, 45087910, 45087910, 74481690, 74481690, 74481690, 74481690, 74481690, 4884760, 4884760, 4884760, 4884760, 4884760, 59671030, 59671030, 59671030, 59671030, 59671030, 12989910, 12989910, 12989910, 12989910, 12989910, 101637170, 101637170, 101637170, 101637170, 101637170, 11089460, 11089460, 11089460, 11089460, 11089460, 64308470, 64308470, 64308470, 64308470, 64308470, 36887010, 36887010, 36887010, 36887010, 36887010, 10635480, 10635480, 10635480, 10635480, 10635480, 18679280, 18679280, 18679280, 18679280, 18679280, 41691530, 41691530, 41691530, 41691530, 41691530, 101541470, 101541470, 101541470, 101541470, 101541470, 17817910, 17817910, 17817910, 17817910, 17817910, 100856150, 100856150, 100856150, 100856150, 100856150, 104237270, 104237270, 104237270, 104237270, 104237270, 20377060, 20377060, 20377060, 20377060, 20377060, 8560840, 8560840, 8560840, 8560840, 8560840, 19642630, 19642630, 19642630, 19642630, 19642630, 7045270, 7045270, 7045270, 7045270, 7045270, 10637180, 10637180, 10637180, 10637180, 10637180, 57653100, 57653100, 57653100, 57653100, 57653100, 8282080, 8282080, 8282080, 8282080, 8282080, 44150620, 44150620, 44150620, 44150620, 44150620, 11173360, 11173360, 11173360, 11173360, 11173360, 67336880, 67336880, 67336880, 67336880, 67336880, 23287860, 23287860, 23287860, 23287860, 23287860, 55275120, 55275120, 55275120, 55275120, 55275120, 52169950, 52169950, 52169950, 52169950, 52169950, 34899320, 34899320, 34899320, 34899320, 34899320, 90169020, 90169020, 90169020, 90169020, 90169020, 23215910, 23215910, 23215910, 23215910, 23215910, 54406840, 54406840, 54406840, 54406840, 54406840, 19977040, 19977040, 19977040, 19977040, 19977040, 95606770, 95606770, 95606770, 95606770, 95606770, 39345110, 39345110, 39345110, 39345110, 39345110, 41805090, 41805090, 41805090, 41805090, 41805090, 24352120, 24352120, 24352120, 24352120, 24352120, 55764770, 55764770, 55764770, 55764770, 55764770, 34539330, 34539330, 34539330, 34539330, 34539330, 88518470, 88518470, 88518470, 88518470, 88518470, 10423620, 10423620, 10423620, 10423620, 10423620, 39943920, 39943920, 39943920, 39943920, 39943920, 60858980, 60858980, 60858980, 60858980, 60858980, 46343600, 46343600, 46343600, 46343600, 46343600, 32560290, 32560290, 32560290, 32560290, 32560290, 4724160, 4724160, 4724160, 4724160, 4724160, 50831710, 50831710, 50831710, 50831710, 50831710, 73171440, 73171440, 73171440, 73171440, 73171440, 88518690, 88518690, 88518690, 88518690, 88518690, 86689640, 86689640, 86689640, 86689640, 86689640, 11191870, 11191870, 11191870, 11191870, 11191870, 66973830, 66973830, 66973830, 66973830, 66973830, 13019260, 13019260, 13019260, 13019260, 13019260, 98094950, 98094950, 98094950, 98094950, 98094950, 23538160, 23538160, 23538160, 23538160, 23538160, 3831090, 3831090, 3831090, 3831090, 3831090, 85567890, 85567890, 85567890, 85567890, 85567890, 13842320, 13842320, 13842320, 13842320, 13842320, 39129200, 39129200, 39129200, 39129200, 39129200, 45555510, 45555510, 45555510, 45555510, 45555510, 47998040, 47998040, 47998040, 47998040, 47998040]\n"
    }
   ],
   "source": [
    "for var_type in sequence: # for all type of separatable dataframe \n",
    "    for house_id in tqdm_notebook(checkpoint_1[var_type].index.tolist(), desc='Process Progress'): # for all unique Household Keys on the original dataframe\n",
    "       \n",
    "        if rows_nullval_ratio[var_type][house_id] >= total_mean: # we check if the same does not satisfies the threshold limit\n",
    "\n",
    "            for var_type in sequence: # for all type of separatable dataframe \n",
    "\n",
    "                if house_id in checkpoint_1[var_type].index.tolist(): # check if Household Key has not been already droped to prevent error raise\n",
    "\n",
    "                    checkpoint_1[var_type].drop(house_id, inplace=True) # drop the row related to the given Household Key in all dataframes type\n",
    "\n",
    "                    removed_rows[row_key1].append(house_id) # and we add its name to the list of removed columns\n",
    "\n",
    "print('Removed Rows after filtering process: ', removed_rows[row_key1])"
   ]
  },
  {
   "cell_type": "code",
   "execution_count": 44,
   "metadata": {},
   "outputs": [],
   "source": [
    "for var_type, idx in zip(sequence, range(len(sequence))): # lets check the result now\n",
    "\n",
    "    rows_nullval_ratio[var_type] = (checkpoint_1[var_type].isnull().sum(axis=1).sort_values(ascending=False)) # filling dataframe dictionary"
   ]
  },
  {
   "cell_type": "code",
   "execution_count": 45,
   "metadata": {},
   "outputs": [
    {
     "output_type": "stream",
     "name": "stdout",
     "text": "Numerical: 3980\nBinary Numericals: 3980\nDates: 3980\nBinary Categoricals: 3980\nStrings: 3980\n"
    }
   ],
   "source": [
    "for var_type in sequence:\n",
    "\n",
    "    print(var_type + ':', len(checkpoint_1[var_type].index)) # total number of rows in each type of dataframe"
   ]
  },
  {
   "cell_type": "markdown",
   "metadata": {},
   "source": [
    "## 4 - Subjective Evaluation"
   ]
  },
  {
   "cell_type": "markdown",
   "metadata": {},
   "source": [
    "    4.1 - Rename FSV, INS, and TRV columns that are related to products purchase flags"
   ]
  },
  {
   "cell_type": "code",
   "execution_count": 46,
   "metadata": {},
   "outputs": [
    {
     "output_type": "stream",
     "name": "stdout",
     "text": "['FSV CMSI Flag', 'FSV Credit Card Flag', 'FSV Deposit Program Flag', 'FSV Home Equity Flag', 'FSV ID Theft Flag', 'FSV Mortgage Flag', 'INS Client Flag', 'TRV Globalware Flag']\n"
    }
   ],
   "source": [
    "matching_FSV = [s for s in list(checkpoint_1['Binary Categoricals'].columns) if \"FSV\" in s] # creating a list of the columns that have at least the FSV mnemonic\n",
    "matching_INS = [s for s in list(checkpoint_1['Binary Categoricals'].columns) if \"INS\" in s] # creating a list of the columns that have at least the INS mnemonic\n",
    "matching_TRV = [s for s in list(checkpoint_1['Binary Categoricals'].columns) if \"TRV\" in s] # creating a list of the columns that have at least the TRV mnemonic\n",
    "final_matching = matching_FSV + matching_INS + matching_TRV # concatenating them all\n",
    "print(final_matching)"
   ]
  },
  {
   "cell_type": "code",
   "execution_count": 47,
   "metadata": {},
   "outputs": [],
   "source": [
    "counter = 1 # counter flag\n",
    "\n",
    "for c in final_matching:\n",
    "\n",
    "    checkpoint_1['Binary Categoricals'].rename(columns={c : 'Purchased Product' + ' ' + str(counter)}, inplace=True) # renaming the columns\n",
    "\n",
    "    counter = counter + 1 # index of the new product column name"
   ]
  },
  {
   "cell_type": "code",
   "execution_count": 48,
   "metadata": {},
   "outputs": [
    {
     "output_type": "execute_result",
     "data": {
      "text/plain": "          Purchased Product 1 Purchased Product 2 Purchased Product 3  \\\n45007910                    N                   Y                   N   \n116229910                   N                   N                   N   \n\n          Purchased Product 4 Purchased Product 5 Purchased Product 6  \\\n45007910                    N                   N                   N   \n116229910                   N                   N                   N   \n\n          Purchased Product 7 Purchased Product 8 Mail Responder  Home Owner  \\\n45007910                    N                   N            Yes  Home Owner   \n116229910                   N                   N            Yes  Home Owner   \n\n          Children Bad Address Flag Opt-Out - Publication New Mover Flag  \\\n45007910       Yes                F                Opt-In              N   \n116229910       No                F                Opt-In              N   \n\n          Call Canceled Call Killed Cash Call Fleet Indicator  \n45007910              N           N         N               N  \n116229910             N           N         N               Y  ",
      "text/html": "<div>\n<style scoped>\n    .dataframe tbody tr th:only-of-type {\n        vertical-align: middle;\n    }\n\n    .dataframe tbody tr th {\n        vertical-align: top;\n    }\n\n    .dataframe thead th {\n        text-align: right;\n    }\n</style>\n<table border=\"1\" class=\"dataframe\">\n  <thead>\n    <tr style=\"text-align: right;\">\n      <th></th>\n      <th>Purchased Product 1</th>\n      <th>Purchased Product 2</th>\n      <th>Purchased Product 3</th>\n      <th>Purchased Product 4</th>\n      <th>Purchased Product 5</th>\n      <th>Purchased Product 6</th>\n      <th>Purchased Product 7</th>\n      <th>Purchased Product 8</th>\n      <th>Mail Responder</th>\n      <th>Home Owner</th>\n      <th>Children</th>\n      <th>Bad Address Flag</th>\n      <th>Opt-Out - Publication</th>\n      <th>New Mover Flag</th>\n      <th>Call Canceled</th>\n      <th>Call Killed</th>\n      <th>Cash Call</th>\n      <th>Fleet Indicator</th>\n    </tr>\n  </thead>\n  <tbody>\n    <tr>\n      <th>45007910</th>\n      <td>N</td>\n      <td>Y</td>\n      <td>N</td>\n      <td>N</td>\n      <td>N</td>\n      <td>N</td>\n      <td>N</td>\n      <td>N</td>\n      <td>Yes</td>\n      <td>Home Owner</td>\n      <td>Yes</td>\n      <td>F</td>\n      <td>Opt-In</td>\n      <td>N</td>\n      <td>N</td>\n      <td>N</td>\n      <td>N</td>\n      <td>N</td>\n    </tr>\n    <tr>\n      <th>116229910</th>\n      <td>N</td>\n      <td>N</td>\n      <td>N</td>\n      <td>N</td>\n      <td>N</td>\n      <td>N</td>\n      <td>N</td>\n      <td>N</td>\n      <td>Yes</td>\n      <td>Home Owner</td>\n      <td>No</td>\n      <td>F</td>\n      <td>Opt-In</td>\n      <td>N</td>\n      <td>N</td>\n      <td>N</td>\n      <td>N</td>\n      <td>Y</td>\n    </tr>\n  </tbody>\n</table>\n</div>"
     },
     "metadata": {},
     "execution_count": 48
    }
   ],
   "source": [
    "checkpoint_1['Binary Categoricals'].head(n=2)"
   ]
  },
  {
   "cell_type": "markdown",
   "metadata": {},
   "source": [
    "    4.2 -  Removing columns that are not allowed or not ethical to work\n"
   ]
  },
  {
   "cell_type": "markdown",
   "metadata": {},
   "source": [
    "        4.2.1 - Creating Dictionary Key"
   ]
  },
  {
   "cell_type": "code",
   "execution_count": 49,
   "metadata": {},
   "outputs": [],
   "source": [
    "key3 = 'Unethical Columns' # creating key to removed columns\n",
    "\n",
    "removed_columns[key3] = ['Race', 'Language', 'Gender'] # since we are talking about Households, the same can not be differentiate by gender"
   ]
  },
  {
   "cell_type": "markdown",
   "metadata": {},
   "source": [
    "        4.2.2 - Performing Filtering"
   ]
  },
  {
   "cell_type": "code",
   "execution_count": 50,
   "metadata": {},
   "outputs": [
    {
     "output_type": "display_data",
     "data": {
      "text/plain": "HBox(children=(FloatProgress(value=0.0, description='Process Progress', max=3.0, style=ProgressStyle(descripti…",
      "application/vnd.jupyter.widget-view+json": {
       "version_major": 2,
       "version_minor": 0,
       "model_id": "127d1bfca50f4838a06a6e9a70dabd2c"
      }
     },
     "metadata": {}
    },
    {
     "output_type": "stream",
     "name": "stdout",
     "text": "\nRemoved Columns after filtering process:  ['Race', 'Language', 'Gender']\n"
    }
   ],
   "source": [
    "for c in tqdm_notebook(removed_columns[key3], desc='Process Progress'): # iterating over the given columns\n",
    "    for var_type in sequence: # for each dataframe type\n",
    "        if c in checkpoint_1[var_type]: # if the columns is in the dataframe\n",
    "\n",
    "            checkpoint_1[var_type].drop(columns=c, inplace=True) # we dropped\n",
    "\n",
    "print('Removed Columns after filtering process: ', removed_columns[key3])"
   ]
  },
  {
   "cell_type": "markdown",
   "metadata": {},
   "source": [
    "    4.3 - Removing Columns that represent the same information in a different way (information redundancy)"
   ]
  },
  {
   "cell_type": "markdown",
   "metadata": {},
   "source": [
    "        4.3.1 - Creating Dictionary Key"
   ]
  },
  {
   "cell_type": "code",
   "execution_count": 51,
   "metadata": {},
   "outputs": [],
   "source": [
    "key4 = 'Redundancy Information Columns' # generating key for this filtering procedure\n",
    "\n",
    "removed_columns[key4] = ['Individual Key', 'State - Grouped', 'ZIP5', 'ZIP9', 'Children', 'Birth Date MMDDYYYY', 'Cancel Date', 'County', 'Do Not Direct Mail Solicit', 'Right_Individual Key', 'Member Key', 'Member Number Associate ID', 'Membership ID', 'Reinstate Date', 'ZIP', 'Mosaic Household', 'kcl_B_IND_MosaicsGrouping', 'Occupation Code', 'Breakdown State', 'Call Killed', 'Clearing Code Last Description', 'Dispatch Code1 Description','DTL Prob1 Code Description', 'Is Duplicate', 'Member Match Flag', 'Member Number and Associate ID', 'SC Date', 'Rec ID', 'SC STS RSN Code Description', 'SC Vehicle Model Name', 'SVC Facility Name', 'SVC Facility Type', 'Tow Destination Latitude', 'Tow Destination Longitude', 'Member Map Location'] #  Comlumns ids"
   ]
  },
  {
   "cell_type": "markdown",
   "metadata": {},
   "source": [
    "        4.3.2 - Performing Filtering"
   ]
  },
  {
   "cell_type": "code",
   "execution_count": 52,
   "metadata": {},
   "outputs": [
    {
     "output_type": "display_data",
     "data": {
      "text/plain": "HBox(children=(FloatProgress(value=0.0, description='Process Progress', max=35.0, style=ProgressStyle(descript…",
      "application/vnd.jupyter.widget-view+json": {
       "version_major": 2,
       "version_minor": 0,
       "model_id": "2557891a3fc7491f93f7bfe283a9e834"
      }
     },
     "metadata": {}
    },
    {
     "output_type": "stream",
     "name": "stdout",
     "text": "\nRemoved Columns after filtering process:  ['Individual Key', 'State - Grouped', 'ZIP5', 'ZIP9', 'Children', 'Birth Date MMDDYYYY', 'Cancel Date', 'County', 'Do Not Direct Mail Solicit', 'Right_Individual Key', 'Member Key', 'Member Number Associate ID', 'Membership ID', 'Reinstate Date', 'ZIP', 'Mosaic Household', 'kcl_B_IND_MosaicsGrouping', 'Occupation Code', 'Breakdown State', 'Call Killed', 'Clearing Code Last Description', 'Dispatch Code1 Description', 'DTL Prob1 Code Description', 'Is Duplicate', 'Member Match Flag', 'Member Number and Associate ID', 'SC Date', 'Rec ID', 'SC STS RSN Code Description', 'SC Vehicle Model Name', 'SVC Facility Name', 'SVC Facility Type', 'Tow Destination Latitude', 'Tow Destination Longitude', 'Member Map Location']\n"
    }
   ],
   "source": [
    "for c in tqdm_notebook(removed_columns[key4], desc='Process Progress'): # for each column in the redundancy columns list\n",
    "    for var_type in sequence: # for each dataframe type\n",
    "        if c in checkpoint_1[var_type]: # if the columns is in the given dataframe\n",
    "            checkpoint_1[var_type].drop(columns=c, inplace=True) # we dropped\n",
    "\n",
    "print('Removed Columns after filtering process: ', removed_columns[key4])"
   ]
  },
  {
   "cell_type": "code",
   "execution_count": 53,
   "metadata": {},
   "outputs": [
    {
     "output_type": "stream",
     "name": "stdout",
     "text": "Numerical: 14\nBinary Numericals: 4\nDates: 4\nBinary Categoricals: 16\nStrings: 25\n"
    }
   ],
   "source": [
    "for var_type in sequence:\n",
    "\n",
    "    print(var_type + ':', len(checkpoint_1[var_type].columns)) # number of remaining columns for each dataframe type after the filtering process "
   ]
  },
  {
   "cell_type": "markdown",
   "metadata": {},
   "source": [
    "    4.4 - Checking Columns with low percentage of variantional information (counting null values)"
   ]
  },
  {
   "cell_type": "markdown",
   "metadata": {},
   "source": [
    "        4.4.1 - Creating Dictionay Key "
   ]
  },
  {
   "cell_type": "code",
   "execution_count": 54,
   "metadata": {},
   "outputs": [],
   "source": [
    "key5 = 'Low Variational Information Columns' # generating key for this filtering procedure\n",
    "\n",
    "removed_columns[key5] = [] # generating empty list"
   ]
  },
  {
   "cell_type": "markdown",
   "metadata": {},
   "source": [
    "        4.4.2 - Performing Filtering"
   ]
  },
  {
   "cell_type": "code",
   "execution_count": 55,
   "metadata": {},
   "outputs": [
    {
     "output_type": "display_data",
     "data": {
      "text/plain": "HBox(children=(FloatProgress(value=0.0, description='Process Progress', max=5.0, style=ProgressStyle(descripti…",
      "application/vnd.jupyter.widget-view+json": {
       "version_major": 2,
       "version_minor": 0,
       "model_id": "c8824c337a1b4ce2814e72969d22695e"
      }
     },
     "metadata": {}
    },
    {
     "output_type": "stream",
     "name": "stdout",
     "text": "\nRemoved Columns after filtering process:  ['Member Flag']\n"
    }
   ],
   "source": [
    "for var_type in tqdm_notebook(sequence, desc='Process Progress'): # for every dataframe type\n",
    "    for c in checkpoint_1[var_type].columns: # for every column in the given dataframe\n",
    "\n",
    "        if checkpoint_1[var_type].nunique()[c] == 1: # we check if the values on the given column are all the same\n",
    "\n",
    "            checkpoint_1[var_type].drop(columns=c, inplace=True) # if it is so, we drop the column\n",
    "\n",
    "            removed_columns[key5].append(c) # and we fill the removed columns list\n",
    "        \n",
    "print('Removed Columns after filtering process: ', removed_columns[key5])"
   ]
  },
  {
   "cell_type": "code",
   "execution_count": 56,
   "metadata": {},
   "outputs": [
    {
     "output_type": "stream",
     "name": "stdout",
     "text": "Numerical: 14\nBinary Numericals: 4\nDates: 4\nBinary Categoricals: 16\nStrings: 24\n"
    }
   ],
   "source": [
    "for var_type in sequence:\n",
    "\n",
    "    print(var_type + ':', len(checkpoint_1[var_type].columns)) # number of remaining columns for each dataframe type after the filtering process "
   ]
  },
  {
   "cell_type": "markdown",
   "metadata": {},
   "source": [
    "    4.5 - Removing Columns with Unnecessary Information (extremely subjective)"
   ]
  },
  {
   "cell_type": "markdown",
   "metadata": {},
   "source": [
    "        4.5.1 - Creating Dictionary Key"
   ]
  },
  {
   "cell_type": "code",
   "execution_count": 57,
   "metadata": {},
   "outputs": [],
   "source": [
    "key6 = 'Unnecessary Columns' # generating key for this filtering procedure\n",
    "\n",
    "removed_columns[key6] = ['Address Change Date', 'Bad Address Flag', 'Billing Code Description', 'Join Club Date', 'Member Phone Type', 'Mosaic Global Household', 'New Mover Flag', 'Call Canceled', 'Is NSR', 'Plus Indicator Description', 'Calculated Tow Miles', 'Was Duplicated', 'Was Towed To AAR Referral', 'Branch Name', 'Member Map Location', 'Breakdown Map Location'] #  Comlumns ids"
   ]
  },
  {
   "cell_type": "markdown",
   "metadata": {},
   "source": [
    "        4.5.2 - Performing Filtering"
   ]
  },
  {
   "cell_type": "code",
   "execution_count": 58,
   "metadata": {},
   "outputs": [
    {
     "output_type": "display_data",
     "data": {
      "text/plain": "HBox(children=(FloatProgress(value=0.0, description='Process Progress', max=16.0, style=ProgressStyle(descript…",
      "application/vnd.jupyter.widget-view+json": {
       "version_major": 2,
       "version_minor": 0,
       "model_id": "4e3297cc685d4576aaa4ccd760381233"
      }
     },
     "metadata": {}
    },
    {
     "output_type": "stream",
     "name": "stdout",
     "text": "\nRemoved Columns after filtering process:  ['Address Change Date', 'Bad Address Flag', 'Billing Code Description', 'Join Club Date', 'Member Phone Type', 'Mosaic Global Household', 'New Mover Flag', 'Call Canceled', 'Is NSR', 'Plus Indicator Description', 'Calculated Tow Miles', 'Was Duplicated', 'Was Towed To AAR Referral', 'Branch Name', 'Member Map Location', 'Breakdown Map Location']\n"
    }
   ],
   "source": [
    "for c in tqdm_notebook(removed_columns[key6], desc='Process Progress'): # for each column in the unncessary columns list\n",
    "    for var_type in sequence: # for each dataframe type\n",
    "\n",
    "        if c in checkpoint_1[var_type]: # if the column is in the given dataframe\n",
    "            checkpoint_1[var_type].drop(columns=c, inplace=True) # we dropped\n",
    "\n",
    "print('Removed Columns after filtering process: ', removed_columns[key6])"
   ]
  },
  {
   "cell_type": "code",
   "execution_count": 59,
   "metadata": {},
   "outputs": [
    {
     "output_type": "stream",
     "name": "stdout",
     "text": "Numerical: 13\nBinary Numericals: 1\nDates: 3\nBinary Categoricals: 13\nStrings: 18\n"
    }
   ],
   "source": [
    "for var_type in sequence:\n",
    "\n",
    "    print(var_type + ':', len(checkpoint_1[var_type].columns)) # number of remaining columns for each dataframe type after the filtering process "
   ]
  },
  {
   "cell_type": "markdown",
   "metadata": {},
   "source": [
    "## 4 - Summarize Information and Fill Nulls in the given columns "
   ]
  },
  {
   "cell_type": "markdown",
   "metadata": {},
   "source": [
    "        Saving checkpoint "
   ]
  },
  {
   "cell_type": "code",
   "execution_count": 60,
   "metadata": {},
   "outputs": [],
   "source": [
    "checkpoint_2 = {} # creating dictionary for the first checkpoint\n",
    "\n",
    "for var_type, idx in zip(sequence, range(len(sequence))): \n",
    "    checkpoint_2[var_type] = checkpoint_1[var_type].copy() # filling in with all dataframe types"
   ]
  },
  {
   "source": [
    "        4.1 - Dealing first with the Numericals Dataframe"
   ],
   "cell_type": "markdown",
   "metadata": {}
  },
  {
   "cell_type": "code",
   "execution_count": 61,
   "metadata": {},
   "outputs": [
    {
     "output_type": "execute_result",
     "data": {
      "text/plain": "               Length Of Residence  ERS ENT Count Year 1  \\\nHousehold Key                                              \n8750                           NaN              7.857143   \n9690                         140.0              0.000000   \n87180                        150.0              0.000000   \n\n               ERS ENT Count Year 2  ERS ENT Count Year 3  \\\nHousehold Key                                               \n8750                       4.285714              7.142857   \n9690                       6.666667             15.000000   \n87180                      0.000000              0.000000   \n\n               ERS Member Cost Year 1  ERS Member Cost Year 2  \\\nHousehold Key                                                   \n8750                      4623.928571             2522.142857   \n9690                         0.000000             1470.833333   \n87180                        0.000000                0.000000   \n\n               ERS Member Cost Year 3  Member Tenure Years  \\\nHousehold Key                                                \n8750                           5472.0           289.444444   \n9690                          15059.5           353.333333   \n87180                             0.0           100.000000   \n\n               Months from Join to Cancel   Basic Cost   Plus Cost  \\\nHousehold Key                                                        \n8750                               1577.5  1250.357143  265.714286   \n9690                                  NaN  3072.500000  127.500000   \n87180                                30.0          NaN         NaN   \n\n               Premier Cost   Total Cost  \nHousehold Key                             \n8750                    0.0  1516.071429  \n9690                    0.0  4347.500000  \n87180                   NaN          NaN  ",
      "text/html": "<div>\n<style scoped>\n    .dataframe tbody tr th:only-of-type {\n        vertical-align: middle;\n    }\n\n    .dataframe tbody tr th {\n        vertical-align: top;\n    }\n\n    .dataframe thead th {\n        text-align: right;\n    }\n</style>\n<table border=\"1\" class=\"dataframe\">\n  <thead>\n    <tr style=\"text-align: right;\">\n      <th></th>\n      <th>Length Of Residence</th>\n      <th>ERS ENT Count Year 1</th>\n      <th>ERS ENT Count Year 2</th>\n      <th>ERS ENT Count Year 3</th>\n      <th>ERS Member Cost Year 1</th>\n      <th>ERS Member Cost Year 2</th>\n      <th>ERS Member Cost Year 3</th>\n      <th>Member Tenure Years</th>\n      <th>Months from Join to Cancel</th>\n      <th>Basic Cost</th>\n      <th>Plus Cost</th>\n      <th>Premier Cost</th>\n      <th>Total Cost</th>\n    </tr>\n    <tr>\n      <th>Household Key</th>\n      <th></th>\n      <th></th>\n      <th></th>\n      <th></th>\n      <th></th>\n      <th></th>\n      <th></th>\n      <th></th>\n      <th></th>\n      <th></th>\n      <th></th>\n      <th></th>\n      <th></th>\n    </tr>\n  </thead>\n  <tbody>\n    <tr>\n      <th>8750</th>\n      <td>NaN</td>\n      <td>7.857143</td>\n      <td>4.285714</td>\n      <td>7.142857</td>\n      <td>4623.928571</td>\n      <td>2522.142857</td>\n      <td>5472.0</td>\n      <td>289.444444</td>\n      <td>1577.5</td>\n      <td>1250.357143</td>\n      <td>265.714286</td>\n      <td>0.0</td>\n      <td>1516.071429</td>\n    </tr>\n    <tr>\n      <th>9690</th>\n      <td>140.0</td>\n      <td>0.000000</td>\n      <td>6.666667</td>\n      <td>15.000000</td>\n      <td>0.000000</td>\n      <td>1470.833333</td>\n      <td>15059.5</td>\n      <td>353.333333</td>\n      <td>NaN</td>\n      <td>3072.500000</td>\n      <td>127.500000</td>\n      <td>0.0</td>\n      <td>4347.500000</td>\n    </tr>\n    <tr>\n      <th>87180</th>\n      <td>150.0</td>\n      <td>0.000000</td>\n      <td>0.000000</td>\n      <td>0.000000</td>\n      <td>0.000000</td>\n      <td>0.000000</td>\n      <td>0.0</td>\n      <td>100.000000</td>\n      <td>30.0</td>\n      <td>NaN</td>\n      <td>NaN</td>\n      <td>NaN</td>\n      <td>NaN</td>\n    </tr>\n  </tbody>\n</table>\n</div>"
     },
     "metadata": {},
     "execution_count": 61
    }
   ],
   "source": [
    "checkpoint_2[sequence[0]].head(n=3) # lets remember what variables and how do they behave on this dataframe"
   ]
  },
  {
   "source": [
    "                4.1.1 - Lets take a look at the Length Of Residence variable"
   ],
   "cell_type": "markdown",
   "metadata": {}
  },
  {
   "cell_type": "code",
   "execution_count": 62,
   "metadata": {},
   "outputs": [
    {
     "output_type": "execute_result",
     "data": {
      "text/plain": "array([         nan, 140.        , 150.        , 121.42857143,\n       116.66666667,  21.25      , 103.33333333,  50.        ,\n       130.        ,  90.        ,  96.        ,  75.        ,\n       105.        ,  80.        ,  27.85714286, 133.33333333,\n        92.5       , 110.        ,  70.        , 108.33333333,\n       100.        ,   0.        ,  20.        , 112.5       ,\n       136.66666667,  10.        ,  60.        , 120.        ,\n       141.25      , 126.66666667,  26.66666667, 165.        ,\n       122.77777778, 114.28571429,  98.        ,  86.        ,\n       196.66666667,  45.        ,  91.42857143, 142.72727273,\n       128.        ,  40.        , 138.57142857, 152.85714286,\n        42.        ,  94.11764706, 106.42857143, 137.14285714,\n        15.        , 121.66666667,  72.        ,  42.5       ,\n        30.        , 124.        , 117.5       , 142.85714286,\n       132.5       , 122.5       ,  94.61538462, 263.33333333,\n       290.        , 131.25      , 106.        ,  25.        ,\n        57.05882353, 270.        , 195.        , 115.        ,\n       138.88888889,  47.5       ,  53.33333333,  85.        ,\n        87.5       , 190.        , 118.        ,  35.        ,\n        65.83333333, 294.        , 127.5       , 113.33333333,\n        67.14285714,  82.72727273, 122.        ,  96.42857143,\n       101.85185185,  84.        , 148.57142857, 144.        ,\n         6.66666667,  76.66666667,   9.41176471, 125.        ,\n       135.45454545,  43.33333333, 300.66666667, 114.        ,\n        71.25      , 106.92307692,  45.26315789,  84.61538462,\n       200.        ,  56.66666667,  52.5       ,  26.        ,\n       138.46153846,  93.33333333,  37.5       ,  97.5       ,\n       135.        ,  94.        ,  48.33333333, 144.44444444,\n       310.        , 126.        , 170.        , 123.33333333,\n       222.5       , 335.45454545, 145.71428571, 108.        ,\n        63.63636364, 106.25      , 342.        ,  94.16666667,\n       121.11111111,  68.33333333,  65.        , 103.68421053,\n        76.        , 102.14285714, 135.38461538, 141.875     ,\n        74.28571429, 145.        ,  69.47368421,  28.        ,\n        83.33333333,  52.17391304, 112.        , 175.        ,\n       106.66666667,  92.22222222, 163.33333333,  41.11111111,\n        46.        , 230.        , 122.72727273, 144.28571429,\n        77.5       , 133.75      , 260.        , 128.33333333,\n       116.25      ,  95.        , 143.33333333,  98.57142857,\n       126.36363636, 138.        , 155.71428571,  51.42857143,\n       112.85714286, 128.57142857,  96.66666667,  56.        ,\n         4.        , 185.        , 246.66666667,  64.28571429,\n        91.66666667,  67.64705882,  92.        , 250.        ,\n        79.47368421,  33.33333333, 141.11111111, 106.47058824,\n        86.66666667,  36.66666667, 110.55555556, 430.        ,\n       133.63636364,  78.88888889,  66.66666667,  40.55555556,\n       137.5       ,  82.5       , 227.5       , 134.44444444,\n        76.36363636, 125.26315789, 360.        ,  66.25      ,\n        28.88888889, 188.33333333,  94.28571429,  52.        ,\n       160.        ,  73.33333333, 280.        , 106.15384615,\n        85.55555556, 320.        , 220.        ,  88.75      ,\n        42.85714286,  63.33333333, 104.        ,  18.18181818,\n        55.        ,  84.44444444,  72.5       ,  16.66666667,\n       111.66666667,  58.        ,  47.33333333,  36.25      ,\n       116.31578947,  25.55555556,  81.66666667,  12.5       ,\n        87.77777778,  27.27272727,  75.29411765, 146.        ,\n       134.        , 180.        , 116.        , 127.14285714,\n       142.5       , 102.        ,  18.57142857, 169.09090909,\n        48.        , 101.11111111,  46.66666667, 132.85714286,\n       240.        ,  57.5       ,  63.07692308, 102.5       ,\n       131.17647059, 142.        , 295.        , 111.42857143,\n       114.44444444,  62.22222222,  37.77777778, 322.5       ,\n       172.5       , 100.90909091, 176.        ,  78.33333333,\n        25.71428571,  10.58823529, 146.66666667,  32.5       ,\n        34.44444444,   3.33333333,  57.77777778, 134.28571429])"
     },
     "metadata": {},
     "execution_count": 62
    }
   ],
   "source": [
    "checkpoint_2[sequence[0]]['Length Of Residence'].unique() # total number of null values for the Length Of Residence variable"
   ]
  },
  {
   "source": [
    "                4.1.2 - Round the values and converting them to interger type to prevent any error"
   ],
   "cell_type": "markdown",
   "metadata": {}
  },
  {
   "cell_type": "code",
   "execution_count": 63,
   "metadata": {},
   "outputs": [
    {
     "output_type": "display_data",
     "data": {
      "text/plain": "HBox(children=(FloatProgress(value=0.0, description='Process Progress', max=3980.0, style=ProgressStyle(descri…",
      "application/vnd.jupyter.widget-view+json": {
       "version_major": 2,
       "version_minor": 0,
       "model_id": "4e245be6587d45d3b5a873265c6c2291"
      }
     },
     "metadata": {}
    },
    {
     "output_type": "stream",
     "name": "stdout",
     "text": "\n"
    }
   ],
   "source": [
    "for idx in tqdm_notebook(checkpoint_2[sequence[0]]['Length Of Residence'].index, desc='Process Progress'): # for all indexes of the given dataframe\n",
    "\n",
    "    checkpoint_2[sequence[0]].at[idx, 'Length Of Residence'] = round(checkpoint_2[sequence[0]]['Length Of Residence'][idx]) # replace de Null value by the Household Key mean\n",
    "\n",
    "    if np.isnan(checkpoint_2[sequence[0]]['Length Of Residence'][idx]):\n",
    "\n",
    "        checkpoint_2[sequence[0]].at[idx, 'Length Of Residence'] = 0\n",
    "\n",
    "checkpoint_2[sequence[0]]['Length Of Residence'] = checkpoint_2[sequence[0]]['Length Of Residence'].astype(int)"
   ]
  },
  {
   "source": [
    "    As we can see, we still have a considerable amount of null values in the Length Of Residence variable. If we replaced these values by the mean of the variable we would be disregarding the geographical relation. Therefore, we will use the mean related to the City variable to predict the null values"
   ],
   "cell_type": "markdown",
   "metadata": {}
  },
  {
   "cell_type": "code",
   "execution_count": 64,
   "metadata": {},
   "outputs": [
    {
     "output_type": "execute_result",
     "data": {
      "text/plain": "0"
     },
     "metadata": {},
     "execution_count": 64
    }
   ],
   "source": [
    "checkpoint_2['Strings']['City'].isnull().sum() # number of Household Keys with null City values"
   ]
  },
  {
   "cell_type": "code",
   "execution_count": 65,
   "metadata": {},
   "outputs": [],
   "source": [
    "checkpoint_2[sequence[0]]['City'] = checkpoint_2['Strings']['City'].values # temporarily concatenate the city column on the numerical column"
   ]
  },
  {
   "source": [
    "            4.1.2 - Luckly, we can rely on the City variable, stored at the Strings dataframe. Thus, we can proceed with the Null values prediction"
   ],
   "cell_type": "markdown",
   "metadata": {}
  },
  {
   "cell_type": "code",
   "execution_count": 66,
   "metadata": {},
   "outputs": [
    {
     "output_type": "display_data",
     "data": {
      "text/plain": "HBox(children=(FloatProgress(value=0.0, description='Process Progress', max=3980.0, style=ProgressStyle(descri…",
      "application/vnd.jupyter.widget-view+json": {
       "version_major": 2,
       "version_minor": 0,
       "model_id": "cdb8741b4a6d4cb5bce28932a818247a"
      }
     },
     "metadata": {}
    },
    {
     "output_type": "stream",
     "name": "stdout",
     "text": "\n"
    }
   ],
   "source": [
    "for idx in tqdm_notebook(checkpoint_2[sequence[0]].index, desc='Process Progress'): # For all Household Keys\n",
    "\n",
    "    if checkpoint_2[sequence[0]]['Length Of Residence'][idx] == 0: # we check if the Length of Residence variable is equal zero (previouly changed from nan values)\n",
    "\n",
    "        tmp_city = checkpoint_2[sequence[0]]['City'][idx] # we store a temporary value of the city for the given Household Key\n",
    "\n",
    "        checkpoint_2[sequence[0]]['Length Of Residence'][idx] = checkpoint_2[sequence[0]]['Length Of Residence'].loc[checkpoint_2[sequence[0]]['City'] == tmp_city].values.mean() # replacing zeroed value by mean of the Length of Residence per grouped by City"
   ]
  },
  {
   "source": [
    "            4.1.3 - Droping City variable from Numerical dataframe type"
   ],
   "cell_type": "markdown",
   "metadata": {}
  },
  {
   "cell_type": "code",
   "execution_count": 67,
   "metadata": {},
   "outputs": [],
   "source": [
    "checkpoint_2[sequence[0]].drop(columns='City', inplace=True)"
   ]
  },
  {
   "cell_type": "code",
   "execution_count": null,
   "metadata": {},
   "outputs": [],
   "source": []
  },
  {
   "cell_type": "code",
   "execution_count": null,
   "metadata": {},
   "outputs": [],
   "source": []
  },
  {
   "cell_type": "code",
   "execution_count": null,
   "metadata": {},
   "outputs": [],
   "source": []
  },
  {
   "cell_type": "code",
   "execution_count": null,
   "metadata": {},
   "outputs": [],
   "source": []
  },
  {
   "cell_type": "code",
   "execution_count": null,
   "metadata": {},
   "outputs": [],
   "source": []
  },
  {
   "cell_type": "code",
   "execution_count": null,
   "metadata": {},
   "outputs": [],
   "source": []
  },
  {
   "cell_type": "code",
   "execution_count": null,
   "metadata": {},
   "outputs": [],
   "source": []
  },
  {
   "cell_type": "code",
   "execution_count": null,
   "metadata": {},
   "outputs": [],
   "source": []
  },
  {
   "cell_type": "code",
   "execution_count": null,
   "metadata": {},
   "outputs": [],
   "source": []
  },
  {
   "cell_type": "code",
   "execution_count": null,
   "metadata": {},
   "outputs": [],
   "source": []
  },
  {
   "cell_type": "code",
   "execution_count": null,
   "metadata": {},
   "outputs": [],
   "source": []
  },
  {
   "cell_type": "code",
   "execution_count": null,
   "metadata": {},
   "outputs": [],
   "source": []
  },
  {
   "cell_type": "markdown",
   "metadata": {},
   "source": [
    "    4.1 - Number of Purchased Products"
   ]
  },
  {
   "cell_type": "markdown",
   "metadata": {},
   "source": [
    "        4.1.1 - Creating Dictionary Key"
   ]
  },
  {
   "cell_type": "code",
   "execution_count": null,
   "metadata": {},
   "outputs": [],
   "source": [
    "key7 = 'Merging total number of purchased products by each row' # generating key for this filtering procedure\n",
    "\n",
    "removed_columns[key7] = ['Purchased Product 1',\t'Purchased Product 2',\t'Purchased Product 3',\t'Purchased Product 4',\t'Purchased Product 5',\t'Purchased Product 6',\t'Purchased Product 7',\t'Purchased Product 8'] # column IDs"
   ]
  },
  {
   "cell_type": "markdown",
   "metadata": {},
   "source": [
    "        4.1.2 - Performing Summary"
   ]
  },
  {
   "cell_type": "markdown",
   "metadata": {},
   "source": [
    "            4.1.2.1 - Converting String Values in Numerical Values and filling Null values as 0 purchased products for empty different Household Keys"
   ]
  },
  {
   "cell_type": "code",
   "execution_count": null,
   "metadata": {},
   "outputs": [],
   "source": [
    "for c in tqdm_notebook(removed_columns[key7], desc='Process Progress'): # In each Purchased Product Column\n",
    "    for var_type in sequence: # for each dataframe type\n",
    "        for idx in range(len(checkpoint_2[var_type])): # For each row\n",
    "\n",
    "            if c in checkpoint_2[var_type].columns: # if the column belongs to the dataframe\n",
    "\n",
    "                if (checkpoint_2[var_type][c].values[idx] == 'N') or (checkpoint_2[var_type][c].values[idx] == 'Null') or (checkpoint_2[var_type][c].values[idx] == np.nan): # if the value of the given column on the given index is N (No), Null or Nan\n",
    "\n",
    "                    checkpoint_2[var_type][c].values[idx] = 0 # set the new value to zero\n",
    "\n",
    "                else:\n",
    "\n",
    "                    checkpoint_2[var_type][c].values[idx] = 1 # else, set the new value to one"
   ]
  },
  {
   "cell_type": "markdown",
   "metadata": {},
   "source": [
    "            4.1.2.2 - Converting Columns to Iterger Type"
   ]
  },
  {
   "cell_type": "code",
   "execution_count": null,
   "metadata": {},
   "outputs": [],
   "source": [
    "for c in tqdm_notebook(removed_columns[key7], desc='Process Progress'):\n",
    "    for var_type in sequence: # for each dataframe type\n",
    "        if c in checkpoint_2[var_type].columns: # if the column belongs to the dataframe\n",
    "\n",
    "            checkpoint_2[var_type][c] = checkpoint_2[var_type][c].astype(int) # converting the final values to iterger type"
   ]
  },
  {
   "cell_type": "markdown",
   "metadata": {},
   "source": [
    "        4.1.2.3 - Summarize all Purchased Columns"
   ]
  },
  {
   "cell_type": "code",
   "execution_count": null,
   "metadata": {},
   "outputs": [],
   "source": [
    "new_column = [] # creating list for the new column to be appended\n",
    "\n",
    "column_name = 'Total Number of Purchased Products' # naming the new column\n",
    "\n",
    "for var_type in tqdm_notebook(sequence, desc='Process Progress'): # for each dataframe type\n",
    "    for idx in checkpoint_2[var_type].index: # For each row\n",
    "        total_amount = 0 # total amount of products bought in each row\n",
    "\n",
    "        if c in checkpoint_2[var_type].columns: # if the column belongs to the dataframe\n",
    "\n",
    "            for c in removed_columns[key7]: # In each Purchased Product Column\n",
    "\n",
    "                if checkpoint_2[var_type][c][idx] == 1:\n",
    "\n",
    "                    total_amount = total_amount + 1\n",
    "\n",
    "            new_column.append(total_amount)"
   ]
  },
  {
   "cell_type": "markdown",
   "metadata": {},
   "source": [
    "        4.1.2.4 - Drop Separate Purchased Data and Concatenate Total Purchased Data"
   ]
  },
  {
   "cell_type": "code",
   "execution_count": null,
   "metadata": {},
   "outputs": [],
   "source": [
    "for c in tqdm_notebook(removed_columns[key7], desc='Process Progress'):\n",
    "    for var_type in sequence: # for each dataframe type\n",
    "        if c in checkpoint_2[var_type].columns: # if the column belongs to the dataframe\n",
    "\n",
    "            checkpoint_2[var_type].drop(columns=c, inplace=True)\n",
    "\n",
    "            flag = var_type\n",
    "\n",
    "checkpoint_2[sequence[0]][column_name] = new_column\n",
    "\n",
    "\n",
    "\n",
    "print('Removed Columns after filtering process: ', removed_columns[key7])"
   ]
  },
  {
   "cell_type": "code",
   "execution_count": null,
   "metadata": {},
   "outputs": [],
   "source": [
    "for var_type in sequence:\n",
    "\n",
    "    print(var_type + ':', len(checkpoint_2[var_type].columns))"
   ]
  },
  {
   "cell_type": "markdown",
   "metadata": {},
   "source": [
    "    4.2 - Correcting Number of Children column"
   ]
  },
  {
   "cell_type": "markdown",
   "metadata": {},
   "source": [
    "        4.2.2 - Converting String Values in Numerical Values and filling Null values as 0 children for empty different Household Keys"
   ]
  },
  {
   "cell_type": "code",
   "execution_count": null,
   "metadata": {},
   "outputs": [],
   "source": [
    "for var_type in sequence:\n",
    "\n",
    "    if 'Number of Children' in checkpoint_2[var_type].columns:\n",
    "\n",
    "        mask_n_children = checkpoint_2[var_type]['Number of Children'].isnull() # creating mask of null values in Number of Children column\n",
    "\n",
    "        flag = var_type"
   ]
  },
  {
   "cell_type": "code",
   "execution_count": null,
   "metadata": {},
   "outputs": [],
   "source": [
    "for idx in tqdm_notebook(checkpoint_2[flag].index, desc='Process Progress'): # For each row\n",
    "\n",
    "    if mask_n_children[idx]: # if the mask is true, that means that the correponded value for that index is Null\n",
    "\n",
    "         checkpoint_2[var_type]['Number of Children'].values[idx] = 0    \n",
    "    \n",
    "    else:\n",
    "\n",
    "        entry =  checkpoint_2[var_type]['Number of Children'].values[idx].split()[0]\n",
    "\n",
    "        if (entry == 'No'):\n",
    "\n",
    "             checkpoint_2[var_type]['Number of Children'].values[idx] = 0\n",
    "\n",
    "        elif (entry == 'One'):\n",
    "\n",
    "             checkpoint_2[var_type]['Number of Children'].values[idx] = 1\n",
    "\n",
    "        elif (entry == 'Two'):\n",
    "\n",
    "             checkpoint_2[var_type]['Number of Children'].values[idx] = 2\n",
    "\n",
    "        elif (entry == 'Three'):\n",
    "\n",
    "             checkpoint_2[var_type]['Number of Children'].values[idx] = 3\n",
    "\n",
    "        elif (entry == 'Four'):\n",
    "\n",
    "             checkpoint_2[var_type]['Number of Children'].values[idx] = 4\n",
    "\n",
    "        elif (entry == 'Five'):\n",
    "\n",
    "             checkpoint_2[var_type]['Number of Children'].values[idx] = 5\n",
    "\n",
    "        elif (entry == 'Six'):\n",
    "\n",
    "             checkpoint_2[var_type]['Number of Children'].values[idx] = 6"
   ]
  },
  {
   "cell_type": "markdown",
   "metadata": {},
   "source": [
    "        4.2.2 - Converting Column to Iterger Type\n"
   ]
  },
  {
   "cell_type": "code",
   "execution_count": null,
   "metadata": {},
   "outputs": [],
   "source": [
    "filtered_data['Number of Children'] = filtered_data['Number of Children'].astype(int)"
   ]
  },
  {
   "cell_type": "code",
   "execution_count": null,
   "metadata": {},
   "outputs": [],
   "source": [
    "filtered_data.info()"
   ]
  },
  {
   "cell_type": "markdown",
   "metadata": {},
   "source": [
    "    4.3 - Length of Residence"
   ]
  },
  {
   "cell_type": "markdown",
   "metadata": {},
   "source": [
    "    The main approach we are going to apply here is to get the mean value of the household key and apply it on the same number. After that, if it still exists any null value on the given column, we will use the mean or the mode of the column City to fill it."
   ]
  },
  {
   "cell_type": "markdown",
   "metadata": {},
   "source": [
    "        4.3.1 - Replace random default value apllied by Pandas on Null values for the Length Of Residence column. For some reason it was choosen a smaller number as possible for a float64 number"
   ]
  },
  {
   "cell_type": "code",
   "execution_count": null,
   "metadata": {},
   "outputs": [],
   "source": [
    "filtered_data['Length Of Residence'].unique()  # as we can see, by some reason, the number -9.223372e+18 was choosen to be a flag of a Null value for this column, we need to replace it by 0 or np.nan"
   ]
  },
  {
   "cell_type": "code",
   "execution_count": null,
   "metadata": {},
   "outputs": [],
   "source": [
    "filtered_data['Length Of Residence'] = filtered_data['Length Of Residence'].replace(filtered_data['Length Of Residence'].unique()[0], np.nan) # replacing random numerical Null values chose by Pandas for numpy NaN "
   ]
  },
  {
   "cell_type": "code",
   "execution_count": null,
   "metadata": {},
   "outputs": [],
   "source": [
    "filtered_data['Length Of Residence'].unique() # now we have out correct output for Null values for the Length Of Residence column"
   ]
  },
  {
   "cell_type": "markdown",
   "metadata": {},
   "source": [
    "        4.3.2 - Checking if there are Household Keys with at least one value for the Length Of Residence column and apply it to the rest of them"
   ]
  },
  {
   "cell_type": "code",
   "execution_count": null,
   "metadata": {},
   "outputs": [],
   "source": [
    "filtered_data.groupby('Household Key')['Length Of Residence'].unique(); # As we can see, for the same Household Key level we have different values of Length Of Residence. This happens because our main sheet data was sorted on a Individual Key level, that is not our interest here. # OBS: REMOVE THE ';' AT THE END OF THE COMMAND TO PRINT THE OUTPUT! BE ADVISED, THE OUTPUT IS EXTENSE!"
   ]
  },
  {
   "cell_type": "code",
   "execution_count": null,
   "metadata": {},
   "outputs": [],
   "source": [
    "for house_id in tqdm_notebook(filtered_data.groupby('Household Key')['Length Of Residence'].unique().keys(), desc='Process Progress'): # for every single unique Household Key value\n",
    "\n",
    "    if len(filtered_data.groupby('Household Key')['Length Of Residence'].unique()[house_id]) == 1: # if there is only one associated value for Length Of Residence, independet of the value, we can infer nothing for now, so, we pass\n",
    "        pass\n",
    "    \n",
    "    else:\n",
    "\n",
    "        tmp = filtered_data.loc[filtered_data['Household Key'] == house_id]['Length Of Residence'].values # storing array on a temporary file\n",
    "\n",
    "        if np.isnan(tmp).any(): # check if the associated values for the Length Of Residence for a given Household Key has at least one Null value\n",
    "\n",
    "            nan_positions = np.where(np.isnan(tmp))[0].tolist() # grabing the positions where the Null values exist\n",
    "\n",
    "            if len(nan_positions) == len(tmp): # checking if all the values for the given Household Key are Null (in this case we will treat it in another way, so, we pass)\n",
    "                pass\n",
    "\n",
    "            else:\n",
    "\n",
    "                replacement_value =  tmp[~np.isnan(tmp)].mean() # calculating the mean of all non Null values\n",
    "\n",
    "                tmp[np.isnan(tmp)] = replacement_value # index of Null values on the array\n",
    "\n",
    "                idxs = filtered_data.loc[filtered_data['Household Key'] == house_id, 'Length Of Residence'].index[nan_positions] # index of Null values on the dataframe\n",
    "\n",
    "                for i in idxs: # for each dataframe index\n",
    "                \n",
    "                    filtered_data.at[i, 'Length Of Residence'] = replacement_value # replace de Null value by the Household Key mean"
   ]
  },
  {
   "cell_type": "markdown",
   "metadata": {},
   "source": [
    "        4.3.3 - Now we focus on predicting the rest of the Null values, but this time through groups of cities"
   ]
  },
  {
   "cell_type": "code",
   "execution_count": null,
   "metadata": {},
   "outputs": [],
   "source": [
    "filtered_data.groupby('City')['Length Of Residence'].unique(); # As we can see, for the same City we have different values of Length Of Residence. We want to take advantage of this bigger scale to replace more Null values # OBS: REMOVE THE ';' AT THE END OF THE COMMAND TO PRINT THE OUTPUT! BE ADVISED, THE OUTPUT IS EXTENSE!"
   ]
  },
  {
   "cell_type": "code",
   "execution_count": null,
   "metadata": {},
   "outputs": [],
   "source": [
    "for city in tqdm_notebook(filtered_data.groupby('City')['Length Of Residence'].unique().keys(), desc='Process Progress'): # for every single unique Household Key value\n",
    "\n",
    "    if len(filtered_data.groupby('City')['Length Of Residence'].unique()[city]) == 1: # if there is only one associated value for Length Of Residence, we can infer nothing for now. So, we pass and let this for the state mean \n",
    "        pass\n",
    "    \n",
    "    else:\n",
    "\n",
    "        tmp = filtered_data.loc[filtered_data['City'] == city]['Length Of Residence'].values # storing array on a temporary file\n",
    "\n",
    "        if np.isnan(tmp).any(): # check if the associated values for the Length Of Residence for a given City has at least one Null value\n",
    "\n",
    "            nan_positions = np.where(np.isnan(tmp))[0].tolist() # grabing the positions where the Null values exist\n",
    "\n",
    "            if len(nan_positions) == len(tmp): # checking if all the values for the given City are Null (in this case we will treat it in another way, so, we pass)\n",
    "                pass\n",
    "\n",
    "            else:\n",
    "\n",
    "                replacement_value =  tmp[~np.isnan(tmp)].mean() # calculating the mean of all non Null values\n",
    "\n",
    "                tmp[np.isnan(tmp)] = replacement_value # index of Null values on the array\n",
    "\n",
    "                idxs = filtered_data.loc[filtered_data['City'] == city, 'Length Of Residence'].index[nan_positions] # index of Null values on the dataframe\n",
    "\n",
    "                for i in idxs: # for each dataframe index\n",
    "                \n",
    "                    filtered_data.at[i, 'Length Of Residence'] = replacement_value # replace de Null value by the City mean"
   ]
  },
  {
   "cell_type": "markdown",
   "metadata": {},
   "source": [
    "            4.3.4 - Now we focus on predicting the rest of the Null values on the biggest and final scale as possible, the states."
   ]
  },
  {
   "cell_type": "markdown",
   "metadata": {},
   "source": [
    "            Note: You may noticed that we have excluded the State - Gouped column, but, since we havent eliminated any row yet we can still use the previous indexes of this unusable column "
   ]
  },
  {
   "cell_type": "code",
   "execution_count": null,
   "metadata": {},
   "outputs": [],
   "source": [
    "ct_idxs = df_original.index[df_original['State - Grouped'] == 'CT'].tolist() # grab index of all rows that belong to the CT state\n",
    "ri_idxs = df_original.index[df_original['State - Grouped'] == 'RI'].tolist() # grab index of all rows that belong to the RI state"
   ]
  },
  {
   "cell_type": "code",
   "execution_count": null,
   "metadata": {},
   "outputs": [],
   "source": [
    "ct_mean = filtered_data['Length Of Residence'][ct_idxs].mean()\n",
    "ri_mean = filtered_data['Length Of Residence'][ri_idxs].mean()\n",
    "print('CT mean value considering all Null values so far filled: ', ct_mean, '\\n', 'RI mean value considering all Null values so far filled: ', ri_mean)"
   ]
  },
  {
   "cell_type": "code",
   "execution_count": null,
   "metadata": {},
   "outputs": [],
   "source": [
    "for idx in tqdm_notebook(filtered_data.index, desc='Process Progress'): # for every single unique Household Key value\n",
    "\n",
    "    if filtered_data['Length Of Residence'].isnull()[idx]: # if for the given index of the Length Of Residence column the value is Null\n",
    "        if idx in ct_idxs: # check if this index belongs to the CT state\n",
    "\n",
    "            filtered_data.at[idx, 'Length Of Residence'] = ct_mean # replace the Null value by the CT state mean\n",
    "\n",
    "        else:\n",
    "\n",
    "            filtered_data.at[idx, 'Length Of Residence'] = ri_mean # replace the Null value by the RI state mean"
   ]
  },
  {
   "cell_type": "code",
   "execution_count": null,
   "metadata": {},
   "outputs": [],
   "source": [
    "filtered_data['Length Of Residence'].isnull().values.any() # check if Length Of Residence column still has any Null value left"
   ]
  },
  {
   "cell_type": "code",
   "execution_count": null,
   "metadata": {},
   "outputs": [],
   "source": [
    "filtered_data.info()"
   ]
  },
  {
   "cell_type": "markdown",
   "metadata": {},
   "source": []
  },
  {
   "cell_type": "markdown",
   "metadata": {},
   "source": [
    "    4.4 - Summarize E-mail and Mail Information"
   ]
  },
  {
   "cell_type": "markdown",
   "metadata": {},
   "source": [
    "        4.4.1 - Creating List of Columns to be summarized"
   ]
  },
  {
   "cell_type": "code",
   "execution_count": null,
   "metadata": {},
   "outputs": [],
   "source": [
    "mail_var = ['Mail Responder', 'Email Available', 'Email Status', 'Opt-Out - Publication']"
   ]
  },
  {
   "cell_type": "markdown",
   "metadata": {},
   "source": [
    "        4.4.2 - Checking Existance of Null Values on this columns"
   ]
  },
  {
   "cell_type": "code",
   "execution_count": null,
   "metadata": {},
   "outputs": [],
   "source": [
    "for col in mail_var:\n",
    "\n",
    "    print('Flag if column ', col, ' has null values. ', filtered_data[col].isnull().values.any(), ' and its percentage ', nullval_ratio[col]) # check if the columns have any Null values"
   ]
  },
  {
   "cell_type": "markdown",
   "metadata": {},
   "source": [
    "        As we can see, all the binary categorical columns have Null values. However, the columns related to Email Available and Opt-Out - Publication are almost full filled and, according to the spreadsheet dictionary, those two are AAA direct information and not third party information. So, we will focus on them as most reliable data and use the Member Status as well to \"predict\" a summary of all these information"
   ]
  },
  {
   "cell_type": "code",
   "execution_count": null,
   "metadata": {},
   "outputs": [],
   "source": [
    "filtered_data.groupby('Household Key')['Email Status'].unique();"
   ]
  },
  {
   "cell_type": "markdown",
   "metadata": {},
   "source": [
    "        4.4.3 - Give the name of the new column to be added on the dataframe"
   ]
  },
  {
   "cell_type": "code",
   "execution_count": null,
   "metadata": {},
   "outputs": [],
   "source": [
    "new_mail_key = 'Email Correspondent' # new column name\n",
    "\n",
    "filtered_data[new_mail_key] = \"\" # appending new column to the dataframe"
   ]
  },
  {
   "cell_type": "markdown",
   "metadata": {},
   "source": [
    "        4.4.4 - To summarize all these information we need to ensure that for the same Household Key we have a concordance between all the variables. For that we will use the Member Status variable and Email Available as pivot information"
   ]
  },
  {
   "cell_type": "code",
   "execution_count": null,
   "metadata": {},
   "outputs": [],
   "source": [
    "for house_id in tqdm_notebook(filtered_data['Household Key'].unique().tolist(), desc='Process Progress'): # for every single unique Household Key value\n",
    "\n",
    "    if len(Counter(filtered_data.groupby('Household Key')['Member Status'].unique()[house_id].tolist())) != 1: # if there is more than one Member Status type for the given Household Key\n",
    "\n",
    "        if 'ACTIVE' in filtered_data.groupby('Household Key')['Member Status'].unique()[house_id].tolist(): # if at least one individual member is active on the given HouseHold Key\n",
    "\n",
    "            filtered_data.loc[(filtered_data['Household Key'] == house_id), 'Member Status'] = 'ACTIVE' # replace them all for active\n",
    "\n",
    "        elif 'PENDING' in filtered_data.groupby('Household Key')['Member Status'].unique()[house_id].tolist(): # if at least one individual member is pending on the given HouseHold Key and there is none active\n",
    "\n",
    "            filtered_data.loc[(filtered_data['Household Key'] == house_id), 'Member Status'] = 'PENDING' # replace them all for pending \n",
    "    \n",
    "    if len(Counter(filtered_data.groupby('Household Key')['Email Available'].unique()[house_id].tolist())) != 1: # if there is more than one Email Available type for the given Household Key\n",
    "\n",
    "        if 10 in filtered_data.groupby('Household Key')['Email Available'].unique()[house_id].tolist(): # if at least one individual member has its email available on the given HouseHold Key\n",
    "\n",
    "            filtered_data.loc[(filtered_data['Household Key'] == house_id), 'Email Available'] = 10 # replace them all by 10 (active)\n",
    "\n",
    "    if len(Counter(filtered_data.groupby('Household Key')['Opt-Out - Publication'].unique()[house_id].tolist())) != 1: # if there is more than one Opt-Out - Publication type for the given Household Key   \n",
    "\n",
    "        if 'Opt-In' in filtered_data.groupby('Household Key')['Opt-Out - Publication'].unique()[house_id].tolist(): # if at least one individual member has optional for an email publication on the given HouseHold Key\n",
    "\n",
    "            filtered_data.loc[(filtered_data['Household Key'] == house_id), 'Opt-Out - Publication'] = 'Opt-In' # replace them all by Opt-In (active)\n"
   ]
  },
  {
   "cell_type": "markdown",
   "metadata": {},
   "source": [
    "        4.4.5 - Filling the new column"
   ]
  },
  {
   "cell_type": "code",
   "execution_count": null,
   "metadata": {},
   "outputs": [],
   "source": [
    "for house_id in tqdm_notebook(filtered_data['Household Key'].unique().tolist(), desc='Process Progress'): # for every single unique Household Key value\n",
    "\n",
    "    if ('ACTIVE' in filtered_data[filtered_data['Household Key'] == house_id]['Member Status'].tolist()) and (10 in filtered_data[filtered_data['Household Key'] == house_id]['Email Available'].tolist()) and ('Opt-In' in filtered_data[filtered_data['Household Key'] == house_id]['Opt-Out - Publication'].tolist()): # if all the conditions are satisfied\n",
    "\n",
    "        filtered_data.loc[(filtered_data['Household Key'] == house_id), 'Email Correspondent'] = 1 # the household is an e-mail correspondent\n",
    "\n",
    "    else:\n",
    "\n",
    "        filtered_data.loc[(filtered_data['Household Key'] == house_id), 'Email Correspondent'] = 0 # the household is not an e-mail correspondent\n",
    "\n",
    "\n",
    "filtered_data['Email Correspondent'] = filtered_data['Email Correspondent'].astype(int) # changing to integer data type"
   ]
  },
  {
   "cell_type": "markdown",
   "metadata": {},
   "source": [
    "        4.4.6 -  Dropping Email information Columns"
   ]
  },
  {
   "cell_type": "code",
   "execution_count": null,
   "metadata": {},
   "outputs": [],
   "source": [
    "key8 = 'Merging Availability of Email Contact'\n",
    "\n",
    "removed_columns[key8] = mail_var"
   ]
  },
  {
   "cell_type": "code",
   "execution_count": null,
   "metadata": {},
   "outputs": [],
   "source": [
    "for c in mail_var:\n",
    "\n",
    "    filtered_data.drop(columns=c, inplace=True)\n",
    "\n",
    "print('Removed Columns after filtering process: ', removed_columns[key8])"
   ]
  },
  {
   "cell_type": "code",
   "execution_count": null,
   "metadata": {},
   "outputs": [],
   "source": [
    "filtered_data.info()"
   ]
  },
  {
   "cell_type": "code",
   "execution_count": null,
   "metadata": {},
   "outputs": [],
   "source": []
  },
  {
   "cell_type": "code",
   "execution_count": null,
   "metadata": {},
   "outputs": [],
   "source": []
  },
  {
   "cell_type": "code",
   "execution_count": null,
   "metadata": {},
   "outputs": [],
   "source": []
  },
  {
   "cell_type": "code",
   "execution_count": null,
   "metadata": {},
   "outputs": [],
   "source": []
  },
  {
   "cell_type": "code",
   "execution_count": null,
   "metadata": {},
   "outputs": [],
   "source": []
  },
  {
   "cell_type": "code",
   "execution_count": null,
   "metadata": {},
   "outputs": [],
   "source": [
    "path_out = '..\\\\resources\\\\checkpoint.csv'\n",
    "filtered_data.to_csv(path_or_buf=path_out, index=False)"
   ]
  },
  {
   "cell_type": "code",
   "execution_count": null,
   "metadata": {},
   "outputs": [],
   "source": []
  },
  {
   "cell_type": "code",
   "execution_count": null,
   "metadata": {},
   "outputs": [],
   "source": []
  },
  {
   "cell_type": "code",
   "execution_count": null,
   "metadata": {},
   "outputs": [],
   "source": []
  },
  {
   "cell_type": "markdown",
   "metadata": {},
   "source": [
    "        We still need to keep an eye on the variables that only have 2 unique values, but it will be more a subjective evaluation "
   ]
  },
  {
   "cell_type": "markdown",
   "metadata": {},
   "source": [
    "* Check correlation Matrix"
   ]
  },
  {
   "cell_type": "markdown",
   "metadata": {},
   "source": [
    "#correlation matrix\n",
    "corrmat = remove_null_data.corr()\n",
    "f, ax = plt.subplots(figsize=(15, 10))\n",
    "sns.heatmap(corrmat, square=True); # considering 70% o correlation as minimum to show"
   ]
  },
  {
   "cell_type": "markdown",
   "metadata": {},
   "source": [
    "* Observations"
   ]
  },
  {
   "cell_type": "markdown",
   "metadata": {},
   "source": [
    "  1- There is an \"island\" between Rec ID and Tow destination Longitude this will be evaluate latter, but looks promissing\n",
    "  2- Basic Cost has a high correlation with the variables within this \"island\" \n",
    "  3- Individual Key and Right_Individual Key are pratically the same variable\n",
    "  4- ZIP5 and ZIP9 are pratically the same variable\n",
    "  5- Months from join to Cancel has no correlation at so ever with the Premier Cost variable\n",
    "  "
   ]
  },
  {
   "cell_type": "markdown",
   "metadata": {},
   "source": [
    "    By the correlation matrix of the entire dataset (minus the columns with more than 70% of null values), we can see that there are still some columns with no correlation, or total correlation with all the variables, and some trouble columns. Therefore, the best thing to do is to drop them."
   ]
  },
  {
   "cell_type": "markdown",
   "metadata": {},
   "source": [
    "trouble_columns= ['Is Duplicate', 'Member Match Flag']\n",
    "\n",
    "columns_will_not_use = ['Individual Key', 'Member Flag', 'Right_Individual Key']"
   ]
  }
 ],
 "metadata": {
  "language_info": {
   "codemirror_mode": {
    "name": "ipython",
    "version": 3
   },
   "file_extension": ".py",
   "mimetype": "text/x-python",
   "name": "python",
   "nbconvert_exporter": "python",
   "pygments_lexer": "ipython3",
   "version": "3.7.6-final"
  },
  "orig_nbformat": 2,
  "kernelspec": {
   "name": "python37664bitcapstoneprojectcondad07c177c475741d8a46606514fa38a7a",
   "display_name": "Python 3.7.6 64-bit ('capstone_project': conda)"
  }
 },
 "nbformat": 4,
 "nbformat_minor": 2
}