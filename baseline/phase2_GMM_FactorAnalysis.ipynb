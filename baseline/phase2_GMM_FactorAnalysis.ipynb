{
 "cells": [
  {
   "cell_type": "code",
   "execution_count": 33,
   "metadata": {},
   "outputs": [],
   "source": [
    "import time\n",
    "import warnings\n",
    "\n",
    "import numpy as np\n",
    "import pandas as pd\n",
    "import matplotlib.pyplot as plt\n",
    "\n",
    "from sklearn import cluster, datasets, mixture\n",
    "from sklearn.neighbors import kneighbors_graph\n",
    "from sklearn.preprocessing import MinMaxScaler\n",
    "from itertools import cycle, islice\n",
    "from sklearn.decomposition import PCA\n",
    "from scipy.spatial.distance import cdist\n",
    "from sklearn.metrics import pairwise_distances\n",
    "\n",
    "import matplotlib.colors as mcols\n",
    "from sklearn.decomposition import PCA\n",
    "import inflect\n",
    "import plotly.express as px\n",
    "from sklearn.mixture import GaussianMixture\n",
    "from factor_analyzer import FactorAnalyzer\n",
    "\n",
    "\n",
    "from matplotlib.ticker import MaxNLocator\n",
    "\n",
    "from multiprocessing import Pool\n",
    "\n",
    "import hdbscan\n",
    "import re\n",
    "import os\n",
    "import glob\n",
    "import pickle\n",
    "\n",
    "\n",
    "from minisom import MiniSom\n",
    "import somoclu"
   ]
  },
  {
   "cell_type": "code",
   "execution_count": 2,
   "metadata": {},
   "outputs": [],
   "source": [
    "os.chdir('/Landmark1/phase2_storage_sfml/')\n",
    "with open('normalizedDict.pickle', 'rb') as handle:\n",
    "    b = pickle.load(handle)"
   ]
  },
  {
   "cell_type": "code",
   "execution_count": 3,
   "metadata": {},
   "outputs": [],
   "source": [
    "nonNa_df = b['minmax_scaler'].dropna()\n",
    "nonNa_df_expertBased = nonNa_df.drop(['ThinBind','PhsResp','RelAmpChng','Azm','Dip','InsFreq','CosPhs'], axis=1)\n",
    "\n",
    "clusterDf_expertBased = nonNa_df_expertBased.T\n",
    "clusterDf = nonNa_df.T"
   ]
  },
  {
   "cell_type": "code",
   "execution_count": 41,
   "metadata": {},
   "outputs": [],
   "source": [
    "pca = PCA(n_components = 15)\n",
    "principalComponents = pca.fit_transform(clusterDf)\n",
    "\n",
    "features = range(pca.n_components_)\n",
    "PCA_components = pd.DataFrame(principalComponents)\n",
    "PCA_components.index = nonNa_df.columns"
   ]
  },
  {
   "cell_type": "code",
   "execution_count": 32,
   "metadata": {},
   "outputs": [
    {
     "data": {
      "text/plain": [
       "Text(0, 0.5, 'Explained Variance')"
      ]
     },
     "execution_count": 32,
     "metadata": {},
     "output_type": "execute_result"
    },
    {
     "data": {
      "image/png": "[encoded data removed]",
      "text/plain": [
       "<Figure size 432x288 with 1 Axes>"
      ]
     },
     "metadata": {
      "needs_background": "light"
     },
     "output_type": "display_data"
    }
   ],
   "source": [
    "plt.bar(range(0,15),pca.explained_variance_ratio_, alpha = .4)\n",
    "plt.plot(range(0,15),np.cumsum(pca.explained_variance_ratio_))\n",
    "plt.title('PCA - 15 components - Explained Variance')\n",
    "plt.xlabel('Component Number')\n",
    "plt.ylabel('Explained Variance')"
   ]
  },
  {
   "cell_type": "code",
   "execution_count": 35,
   "metadata": {},
   "outputs": [],
   "source": [
    "gmm = GaussianMixture(n_components=5).fit(PCA_components)\n",
    "labels = gmm.predict(PCA_components)\n",
    "PCA_components['cluster'] = labels"
   ]
  },
  {
   "cell_type": "code",
   "execution_count": 37,
   "metadata": {},
   "outputs": [
    {
     "data": {
      "text/plain": [
       "AMP           0\n",
       "RefStr        0\n",
       "RelAmpChng    1\n",
       "InsFreq       1\n",
       "Azm           1\n",
       "AppPol        1\n",
       "PhsResp       1\n",
       "InsPhs        1\n",
       "CosPhs        2\n",
       "DiscDip       3\n",
       "Dip           3\n",
       "InsBand       3\n",
       "Disc          3\n",
       "RespFreq      4\n",
       "RMSFreq       4\n",
       "AvgFreq       4\n",
       "QFact         4\n",
       "R3            4\n",
       "ThinBind      4\n",
       "Name: cluster, dtype: int64"
      ]
     },
     "execution_count": 37,
     "metadata": {},
     "output_type": "execute_result"
    }
   ],
   "source": [
    "PCA_components['cluster'].sort_values()"
   ]
  },
  {
   "cell_type": "code",
   "execution_count": 61,
   "metadata": {},
   "outputs": [],
   "source": [
    "df = nonNa_df"
   ]
  },
  {
   "cell_type": "code",
   "execution_count": 62,
   "metadata": {},
   "outputs": [
    {
     "data": {
      "text/plain": [
       "(11583311.023672856, 0.0)"
      ]
     },
     "execution_count": 62,
     "metadata": {},
     "output_type": "execute_result"
    }
   ],
   "source": [
    "from factor_analyzer.factor_analyzer import calculate_bartlett_sphericity\n",
    "chi_square_value,p_value=calculate_bartlett_sphericity(df)\n",
    "chi_square_value, p_value"
   ]
  },
  {
   "cell_type": "code",
   "execution_count": 63,
   "metadata": {},
   "outputs": [
    {
     "name": "stderr",
     "output_type": "stream",
     "text": [
      "/home/data_science/anaconda3/lib/python3.7/site-packages/factor_analyzer/utils.py:248: UserWarning:\n",
      "\n",
      "The inverse of the variance-covariance matrix was calculated using the Moore-Penrose generalized matrix inversion, due to its determinant being at or very close to zero.\n",
      "\n"
     ]
    },
    {
     "name": "stdout",
     "output_type": "stream",
     "text": [
      "0.6097076954221576\n"
     ]
    }
   ],
   "source": [
    "from factor_analyzer.factor_analyzer import calculate_kmo\n",
    "kmo_all,kmo_model=calculate_kmo(df)\n",
    "print(kmo_model)"
   ]
  },
  {
   "cell_type": "code",
   "execution_count": 66,
   "metadata": {},
   "outputs": [],
   "source": [
    "fa = FactorAnalyzer()\n",
    "fa.fit(df)\n",
    "ev, vectors = fa.get_eigenvalues()"
   ]
  },
  {
   "cell_type": "code",
   "execution_count": 67,
   "metadata": {},
   "outputs": [
    {
     "data": {
      "image/png": "[encoded data removed]",
      "text/plain": [
       "<Figure size 432x288 with 1 Axes>"
      ]
     },
     "metadata": {
      "needs_background": "light"
     },
     "output_type": "display_data"
    }
   ],
   "source": [
    "plt.scatter(range(1,df.shape[1]+1),ev)\n",
    "plt.plot(range(1,df.shape[1]+1),ev)\n",
    "plt.title('Scree Plot')\n",
    "plt.xlabel('Factors')\n",
    "plt.ylabel('Eigenvalue')\n",
    "plt.grid()\n",
    "plt.show()"
   ]
  },
  {
   "cell_type": "code",
   "execution_count": 86,
   "metadata": {},
   "outputs": [],
   "source": [
    "fa = FactorAnalyzer()\n",
    "fa.set_params(n_factors=4, rotation='varimax')\n",
    "fa.fit(df)\n",
    "loadings = fa.loadings_\n",
    "varDf = pd.DataFrame(loadings)\n",
    "varDf.index = PCA_components.index"
   ]
  },
  {
   "cell_type": "code",
   "execution_count": 87,
   "metadata": {},
   "outputs": [],
   "source": [
    "os.chdir('/home/data_science/git_projects/shashwat/sfml/phase2')\n",
    "varDf.to_csv('factorAnalysis.csv')"
   ]
  },
  {
   "cell_type": "code",
   "execution_count": 88,
   "metadata": {},
   "outputs": [
    {
     "data": {
      "text/plain": [
       "(array([2.51754827, 2.42466831, 2.28973254, 2.01443543]),\n",
       " array([0.13250254, 0.12761412, 0.12051224, 0.10602292]),\n",
       " array([0.13250254, 0.26011666, 0.3806289 , 0.48665182]))"
      ]
     },
     "execution_count": 88,
     "metadata": {},
     "output_type": "execute_result"
    }
   ],
   "source": [
    "fa.get_factor_variance()"
   ]
  },
  {
   "cell_type": "code",
   "execution_count": null,
   "metadata": {},
   "outputs": [],
   "source": []
  }
 ],
 "metadata": {
  "kernelspec": {
   "display_name": "Python 3",
   "language": "python",
   "name": "python3"
  },
  "language_info": {
   "codemirror_mode": {
    "name": "ipython",
    "version": 3
   },
   "file_extension": ".py",
   "mimetype": "text/x-python",
   "name": "python",
   "nbconvert_exporter": "python",
   "pygments_lexer": "ipython3",
   "version": "3.7.6"
  }
 },
 "nbformat": 4,
 "nbformat_minor": 4
}
